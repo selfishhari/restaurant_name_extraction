{
  "nbformat": 4,
  "nbformat_minor": 5,
  "metadata": {
    "kernelspec": {
      "display_name": "Python 3 (ipykernel)",
      "language": "python",
      "name": "python3"
    },
    "language_info": {
      "codemirror_mode": {
        "name": "ipython",
        "version": 3
      },
      "file_extension": ".py",
      "mimetype": "text/x-python",
      "name": "python",
      "nbconvert_exporter": "python",
      "pygments_lexer": "ipython3",
      "version": "3.7.11"
    },
    "colab": {
      "name": "annotate_for_bert_swap_submit_10epochs.ipynb",
      "provenance": [],
      "collapsed_sections": []
    },
    "widgets": {
      "application/vnd.jupyter.widget-state+json": {
        "65a2c55a60ad41da8f73aad813bd304b": {
          "model_module": "@jupyter-widgets/controls",
          "model_name": "HBoxModel",
          "model_module_version": "1.5.0",
          "state": {
            "_view_name": "HBoxView",
            "_dom_classes": [],
            "_model_name": "HBoxModel",
            "_view_module": "@jupyter-widgets/controls",
            "_model_module_version": "1.5.0",
            "_view_count": null,
            "_view_module_version": "1.5.0",
            "box_style": "",
            "layout": "IPY_MODEL_a22d3eb7794c4d9c91458b3f25012f5d",
            "_model_module": "@jupyter-widgets/controls",
            "children": [
              "IPY_MODEL_30916312a3c04b08a0c127fe778de8df",
              "IPY_MODEL_2e10b89147944f13a6e7703d5e975889",
              "IPY_MODEL_5fbdaa3911df4fbd9976edeac5b144fe"
            ]
          }
        },
        "a22d3eb7794c4d9c91458b3f25012f5d": {
          "model_module": "@jupyter-widgets/base",
          "model_name": "LayoutModel",
          "model_module_version": "1.2.0",
          "state": {
            "_view_name": "LayoutView",
            "grid_template_rows": null,
            "right": null,
            "justify_content": null,
            "_view_module": "@jupyter-widgets/base",
            "overflow": null,
            "_model_module_version": "1.2.0",
            "_view_count": null,
            "flex_flow": null,
            "width": null,
            "min_width": null,
            "border": null,
            "align_items": null,
            "bottom": null,
            "_model_module": "@jupyter-widgets/base",
            "top": null,
            "grid_column": null,
            "overflow_y": null,
            "overflow_x": null,
            "grid_auto_flow": null,
            "grid_area": null,
            "grid_template_columns": null,
            "flex": null,
            "_model_name": "LayoutModel",
            "justify_items": null,
            "grid_row": null,
            "max_height": null,
            "align_content": null,
            "visibility": null,
            "align_self": null,
            "height": null,
            "min_height": null,
            "padding": null,
            "grid_auto_rows": null,
            "grid_gap": null,
            "max_width": null,
            "order": null,
            "_view_module_version": "1.2.0",
            "grid_template_areas": null,
            "object_position": null,
            "object_fit": null,
            "grid_auto_columns": null,
            "margin": null,
            "display": null,
            "left": null
          }
        },
        "30916312a3c04b08a0c127fe778de8df": {
          "model_module": "@jupyter-widgets/controls",
          "model_name": "HTMLModel",
          "model_module_version": "1.5.0",
          "state": {
            "_view_name": "HTMLView",
            "style": "IPY_MODEL_dd54f94086c64d429ac129d43e3e03a7",
            "_dom_classes": [],
            "description": "",
            "_model_name": "HTMLModel",
            "placeholder": "​",
            "_view_module": "@jupyter-widgets/controls",
            "_model_module_version": "1.5.0",
            "value": "Downloading: 100%",
            "_view_count": null,
            "_view_module_version": "1.5.0",
            "description_tooltip": null,
            "_model_module": "@jupyter-widgets/controls",
            "layout": "IPY_MODEL_d99505611032401f8e96d9700dd331be"
          }
        },
        "2e10b89147944f13a6e7703d5e975889": {
          "model_module": "@jupyter-widgets/controls",
          "model_name": "FloatProgressModel",
          "model_module_version": "1.5.0",
          "state": {
            "_view_name": "ProgressView",
            "style": "IPY_MODEL_b55361a6cc4145709df1a6362dbc0f9d",
            "_dom_classes": [],
            "description": "",
            "_model_name": "FloatProgressModel",
            "bar_style": "success",
            "max": 231508,
            "_view_module": "@jupyter-widgets/controls",
            "_model_module_version": "1.5.0",
            "value": 231508,
            "_view_count": null,
            "_view_module_version": "1.5.0",
            "orientation": "horizontal",
            "min": 0,
            "description_tooltip": null,
            "_model_module": "@jupyter-widgets/controls",
            "layout": "IPY_MODEL_c63c6e4a400943e3b44a4e07556fa4af"
          }
        },
        "5fbdaa3911df4fbd9976edeac5b144fe": {
          "model_module": "@jupyter-widgets/controls",
          "model_name": "HTMLModel",
          "model_module_version": "1.5.0",
          "state": {
            "_view_name": "HTMLView",
            "style": "IPY_MODEL_2154994a6b094e0a811870edee7d2c22",
            "_dom_classes": [],
            "description": "",
            "_model_name": "HTMLModel",
            "placeholder": "​",
            "_view_module": "@jupyter-widgets/controls",
            "_model_module_version": "1.5.0",
            "value": " 232k/232k [00:00&lt;00:00, 2.07MB/s]",
            "_view_count": null,
            "_view_module_version": "1.5.0",
            "description_tooltip": null,
            "_model_module": "@jupyter-widgets/controls",
            "layout": "IPY_MODEL_c42d7b0da04540528fbee9d2c26cc486"
          }
        },
        "dd54f94086c64d429ac129d43e3e03a7": {
          "model_module": "@jupyter-widgets/controls",
          "model_name": "DescriptionStyleModel",
          "model_module_version": "1.5.0",
          "state": {
            "_view_name": "StyleView",
            "_model_name": "DescriptionStyleModel",
            "description_width": "",
            "_view_module": "@jupyter-widgets/base",
            "_model_module_version": "1.5.0",
            "_view_count": null,
            "_view_module_version": "1.2.0",
            "_model_module": "@jupyter-widgets/controls"
          }
        },
        "d99505611032401f8e96d9700dd331be": {
          "model_module": "@jupyter-widgets/base",
          "model_name": "LayoutModel",
          "model_module_version": "1.2.0",
          "state": {
            "_view_name": "LayoutView",
            "grid_template_rows": null,
            "right": null,
            "justify_content": null,
            "_view_module": "@jupyter-widgets/base",
            "overflow": null,
            "_model_module_version": "1.2.0",
            "_view_count": null,
            "flex_flow": null,
            "width": null,
            "min_width": null,
            "border": null,
            "align_items": null,
            "bottom": null,
            "_model_module": "@jupyter-widgets/base",
            "top": null,
            "grid_column": null,
            "overflow_y": null,
            "overflow_x": null,
            "grid_auto_flow": null,
            "grid_area": null,
            "grid_template_columns": null,
            "flex": null,
            "_model_name": "LayoutModel",
            "justify_items": null,
            "grid_row": null,
            "max_height": null,
            "align_content": null,
            "visibility": null,
            "align_self": null,
            "height": null,
            "min_height": null,
            "padding": null,
            "grid_auto_rows": null,
            "grid_gap": null,
            "max_width": null,
            "order": null,
            "_view_module_version": "1.2.0",
            "grid_template_areas": null,
            "object_position": null,
            "object_fit": null,
            "grid_auto_columns": null,
            "margin": null,
            "display": null,
            "left": null
          }
        },
        "b55361a6cc4145709df1a6362dbc0f9d": {
          "model_module": "@jupyter-widgets/controls",
          "model_name": "ProgressStyleModel",
          "model_module_version": "1.5.0",
          "state": {
            "_view_name": "StyleView",
            "_model_name": "ProgressStyleModel",
            "description_width": "",
            "_view_module": "@jupyter-widgets/base",
            "_model_module_version": "1.5.0",
            "_view_count": null,
            "_view_module_version": "1.2.0",
            "bar_color": null,
            "_model_module": "@jupyter-widgets/controls"
          }
        },
        "c63c6e4a400943e3b44a4e07556fa4af": {
          "model_module": "@jupyter-widgets/base",
          "model_name": "LayoutModel",
          "model_module_version": "1.2.0",
          "state": {
            "_view_name": "LayoutView",
            "grid_template_rows": null,
            "right": null,
            "justify_content": null,
            "_view_module": "@jupyter-widgets/base",
            "overflow": null,
            "_model_module_version": "1.2.0",
            "_view_count": null,
            "flex_flow": null,
            "width": null,
            "min_width": null,
            "border": null,
            "align_items": null,
            "bottom": null,
            "_model_module": "@jupyter-widgets/base",
            "top": null,
            "grid_column": null,
            "overflow_y": null,
            "overflow_x": null,
            "grid_auto_flow": null,
            "grid_area": null,
            "grid_template_columns": null,
            "flex": null,
            "_model_name": "LayoutModel",
            "justify_items": null,
            "grid_row": null,
            "max_height": null,
            "align_content": null,
            "visibility": null,
            "align_self": null,
            "height": null,
            "min_height": null,
            "padding": null,
            "grid_auto_rows": null,
            "grid_gap": null,
            "max_width": null,
            "order": null,
            "_view_module_version": "1.2.0",
            "grid_template_areas": null,
            "object_position": null,
            "object_fit": null,
            "grid_auto_columns": null,
            "margin": null,
            "display": null,
            "left": null
          }
        },
        "2154994a6b094e0a811870edee7d2c22": {
          "model_module": "@jupyter-widgets/controls",
          "model_name": "DescriptionStyleModel",
          "model_module_version": "1.5.0",
          "state": {
            "_view_name": "StyleView",
            "_model_name": "DescriptionStyleModel",
            "description_width": "",
            "_view_module": "@jupyter-widgets/base",
            "_model_module_version": "1.5.0",
            "_view_count": null,
            "_view_module_version": "1.2.0",
            "_model_module": "@jupyter-widgets/controls"
          }
        },
        "c42d7b0da04540528fbee9d2c26cc486": {
          "model_module": "@jupyter-widgets/base",
          "model_name": "LayoutModel",
          "model_module_version": "1.2.0",
          "state": {
            "_view_name": "LayoutView",
            "grid_template_rows": null,
            "right": null,
            "justify_content": null,
            "_view_module": "@jupyter-widgets/base",
            "overflow": null,
            "_model_module_version": "1.2.0",
            "_view_count": null,
            "flex_flow": null,
            "width": null,
            "min_width": null,
            "border": null,
            "align_items": null,
            "bottom": null,
            "_model_module": "@jupyter-widgets/base",
            "top": null,
            "grid_column": null,
            "overflow_y": null,
            "overflow_x": null,
            "grid_auto_flow": null,
            "grid_area": null,
            "grid_template_columns": null,
            "flex": null,
            "_model_name": "LayoutModel",
            "justify_items": null,
            "grid_row": null,
            "max_height": null,
            "align_content": null,
            "visibility": null,
            "align_self": null,
            "height": null,
            "min_height": null,
            "padding": null,
            "grid_auto_rows": null,
            "grid_gap": null,
            "max_width": null,
            "order": null,
            "_view_module_version": "1.2.0",
            "grid_template_areas": null,
            "object_position": null,
            "object_fit": null,
            "grid_auto_columns": null,
            "margin": null,
            "display": null,
            "left": null
          }
        },
        "02430b5030f74c7d84772e0741dbefcc": {
          "model_module": "@jupyter-widgets/controls",
          "model_name": "HBoxModel",
          "model_module_version": "1.5.0",
          "state": {
            "_view_name": "HBoxView",
            "_dom_classes": [],
            "_model_name": "HBoxModel",
            "_view_module": "@jupyter-widgets/controls",
            "_model_module_version": "1.5.0",
            "_view_count": null,
            "_view_module_version": "1.5.0",
            "box_style": "",
            "layout": "IPY_MODEL_55ebb66b3ba642cc911c4e0b9b896ca6",
            "_model_module": "@jupyter-widgets/controls",
            "children": [
              "IPY_MODEL_9ee49a172d604a949166937783c3b856",
              "IPY_MODEL_9cf2a3c774834a5888574bd7cf55ab5c",
              "IPY_MODEL_87031f015360400a97d425f501f173f5"
            ]
          }
        },
        "55ebb66b3ba642cc911c4e0b9b896ca6": {
          "model_module": "@jupyter-widgets/base",
          "model_name": "LayoutModel",
          "model_module_version": "1.2.0",
          "state": {
            "_view_name": "LayoutView",
            "grid_template_rows": null,
            "right": null,
            "justify_content": null,
            "_view_module": "@jupyter-widgets/base",
            "overflow": null,
            "_model_module_version": "1.2.0",
            "_view_count": null,
            "flex_flow": null,
            "width": null,
            "min_width": null,
            "border": null,
            "align_items": null,
            "bottom": null,
            "_model_module": "@jupyter-widgets/base",
            "top": null,
            "grid_column": null,
            "overflow_y": null,
            "overflow_x": null,
            "grid_auto_flow": null,
            "grid_area": null,
            "grid_template_columns": null,
            "flex": null,
            "_model_name": "LayoutModel",
            "justify_items": null,
            "grid_row": null,
            "max_height": null,
            "align_content": null,
            "visibility": null,
            "align_self": null,
            "height": null,
            "min_height": null,
            "padding": null,
            "grid_auto_rows": null,
            "grid_gap": null,
            "max_width": null,
            "order": null,
            "_view_module_version": "1.2.0",
            "grid_template_areas": null,
            "object_position": null,
            "object_fit": null,
            "grid_auto_columns": null,
            "margin": null,
            "display": null,
            "left": null
          }
        },
        "9ee49a172d604a949166937783c3b856": {
          "model_module": "@jupyter-widgets/controls",
          "model_name": "HTMLModel",
          "model_module_version": "1.5.0",
          "state": {
            "_view_name": "HTMLView",
            "style": "IPY_MODEL_5944d0c5b1f642b38892d7752484b147",
            "_dom_classes": [],
            "description": "",
            "_model_name": "HTMLModel",
            "placeholder": "​",
            "_view_module": "@jupyter-widgets/controls",
            "_model_module_version": "1.5.0",
            "value": "Downloading: 100%",
            "_view_count": null,
            "_view_module_version": "1.5.0",
            "description_tooltip": null,
            "_model_module": "@jupyter-widgets/controls",
            "layout": "IPY_MODEL_23cfdb0c6d2b4515a3efd7726d9fda2c"
          }
        },
        "9cf2a3c774834a5888574bd7cf55ab5c": {
          "model_module": "@jupyter-widgets/controls",
          "model_name": "FloatProgressModel",
          "model_module_version": "1.5.0",
          "state": {
            "_view_name": "ProgressView",
            "style": "IPY_MODEL_37265ee2d3184b02b4f801fb982dd77c",
            "_dom_classes": [],
            "description": "",
            "_model_name": "FloatProgressModel",
            "bar_style": "success",
            "max": 28,
            "_view_module": "@jupyter-widgets/controls",
            "_model_module_version": "1.5.0",
            "value": 28,
            "_view_count": null,
            "_view_module_version": "1.5.0",
            "orientation": "horizontal",
            "min": 0,
            "description_tooltip": null,
            "_model_module": "@jupyter-widgets/controls",
            "layout": "IPY_MODEL_ca63b79b20c24054a1cf52392958161b"
          }
        },
        "87031f015360400a97d425f501f173f5": {
          "model_module": "@jupyter-widgets/controls",
          "model_name": "HTMLModel",
          "model_module_version": "1.5.0",
          "state": {
            "_view_name": "HTMLView",
            "style": "IPY_MODEL_7b9e92c494b04615a2dbc669cf28b2db",
            "_dom_classes": [],
            "description": "",
            "_model_name": "HTMLModel",
            "placeholder": "​",
            "_view_module": "@jupyter-widgets/controls",
            "_model_module_version": "1.5.0",
            "value": " 28.0/28.0 [00:00&lt;00:00, 827B/s]",
            "_view_count": null,
            "_view_module_version": "1.5.0",
            "description_tooltip": null,
            "_model_module": "@jupyter-widgets/controls",
            "layout": "IPY_MODEL_6066e5df5dbd43d6a0b5ba37d4b01dd9"
          }
        },
        "5944d0c5b1f642b38892d7752484b147": {
          "model_module": "@jupyter-widgets/controls",
          "model_name": "DescriptionStyleModel",
          "model_module_version": "1.5.0",
          "state": {
            "_view_name": "StyleView",
            "_model_name": "DescriptionStyleModel",
            "description_width": "",
            "_view_module": "@jupyter-widgets/base",
            "_model_module_version": "1.5.0",
            "_view_count": null,
            "_view_module_version": "1.2.0",
            "_model_module": "@jupyter-widgets/controls"
          }
        },
        "23cfdb0c6d2b4515a3efd7726d9fda2c": {
          "model_module": "@jupyter-widgets/base",
          "model_name": "LayoutModel",
          "model_module_version": "1.2.0",
          "state": {
            "_view_name": "LayoutView",
            "grid_template_rows": null,
            "right": null,
            "justify_content": null,
            "_view_module": "@jupyter-widgets/base",
            "overflow": null,
            "_model_module_version": "1.2.0",
            "_view_count": null,
            "flex_flow": null,
            "width": null,
            "min_width": null,
            "border": null,
            "align_items": null,
            "bottom": null,
            "_model_module": "@jupyter-widgets/base",
            "top": null,
            "grid_column": null,
            "overflow_y": null,
            "overflow_x": null,
            "grid_auto_flow": null,
            "grid_area": null,
            "grid_template_columns": null,
            "flex": null,
            "_model_name": "LayoutModel",
            "justify_items": null,
            "grid_row": null,
            "max_height": null,
            "align_content": null,
            "visibility": null,
            "align_self": null,
            "height": null,
            "min_height": null,
            "padding": null,
            "grid_auto_rows": null,
            "grid_gap": null,
            "max_width": null,
            "order": null,
            "_view_module_version": "1.2.0",
            "grid_template_areas": null,
            "object_position": null,
            "object_fit": null,
            "grid_auto_columns": null,
            "margin": null,
            "display": null,
            "left": null
          }
        },
        "37265ee2d3184b02b4f801fb982dd77c": {
          "model_module": "@jupyter-widgets/controls",
          "model_name": "ProgressStyleModel",
          "model_module_version": "1.5.0",
          "state": {
            "_view_name": "StyleView",
            "_model_name": "ProgressStyleModel",
            "description_width": "",
            "_view_module": "@jupyter-widgets/base",
            "_model_module_version": "1.5.0",
            "_view_count": null,
            "_view_module_version": "1.2.0",
            "bar_color": null,
            "_model_module": "@jupyter-widgets/controls"
          }
        },
        "ca63b79b20c24054a1cf52392958161b": {
          "model_module": "@jupyter-widgets/base",
          "model_name": "LayoutModel",
          "model_module_version": "1.2.0",
          "state": {
            "_view_name": "LayoutView",
            "grid_template_rows": null,
            "right": null,
            "justify_content": null,
            "_view_module": "@jupyter-widgets/base",
            "overflow": null,
            "_model_module_version": "1.2.0",
            "_view_count": null,
            "flex_flow": null,
            "width": null,
            "min_width": null,
            "border": null,
            "align_items": null,
            "bottom": null,
            "_model_module": "@jupyter-widgets/base",
            "top": null,
            "grid_column": null,
            "overflow_y": null,
            "overflow_x": null,
            "grid_auto_flow": null,
            "grid_area": null,
            "grid_template_columns": null,
            "flex": null,
            "_model_name": "LayoutModel",
            "justify_items": null,
            "grid_row": null,
            "max_height": null,
            "align_content": null,
            "visibility": null,
            "align_self": null,
            "height": null,
            "min_height": null,
            "padding": null,
            "grid_auto_rows": null,
            "grid_gap": null,
            "max_width": null,
            "order": null,
            "_view_module_version": "1.2.0",
            "grid_template_areas": null,
            "object_position": null,
            "object_fit": null,
            "grid_auto_columns": null,
            "margin": null,
            "display": null,
            "left": null
          }
        },
        "7b9e92c494b04615a2dbc669cf28b2db": {
          "model_module": "@jupyter-widgets/controls",
          "model_name": "DescriptionStyleModel",
          "model_module_version": "1.5.0",
          "state": {
            "_view_name": "StyleView",
            "_model_name": "DescriptionStyleModel",
            "description_width": "",
            "_view_module": "@jupyter-widgets/base",
            "_model_module_version": "1.5.0",
            "_view_count": null,
            "_view_module_version": "1.2.0",
            "_model_module": "@jupyter-widgets/controls"
          }
        },
        "6066e5df5dbd43d6a0b5ba37d4b01dd9": {
          "model_module": "@jupyter-widgets/base",
          "model_name": "LayoutModel",
          "model_module_version": "1.2.0",
          "state": {
            "_view_name": "LayoutView",
            "grid_template_rows": null,
            "right": null,
            "justify_content": null,
            "_view_module": "@jupyter-widgets/base",
            "overflow": null,
            "_model_module_version": "1.2.0",
            "_view_count": null,
            "flex_flow": null,
            "width": null,
            "min_width": null,
            "border": null,
            "align_items": null,
            "bottom": null,
            "_model_module": "@jupyter-widgets/base",
            "top": null,
            "grid_column": null,
            "overflow_y": null,
            "overflow_x": null,
            "grid_auto_flow": null,
            "grid_area": null,
            "grid_template_columns": null,
            "flex": null,
            "_model_name": "LayoutModel",
            "justify_items": null,
            "grid_row": null,
            "max_height": null,
            "align_content": null,
            "visibility": null,
            "align_self": null,
            "height": null,
            "min_height": null,
            "padding": null,
            "grid_auto_rows": null,
            "grid_gap": null,
            "max_width": null,
            "order": null,
            "_view_module_version": "1.2.0",
            "grid_template_areas": null,
            "object_position": null,
            "object_fit": null,
            "grid_auto_columns": null,
            "margin": null,
            "display": null,
            "left": null
          }
        },
        "98fccf6677194c6d92a14f2bc41eb4af": {
          "model_module": "@jupyter-widgets/controls",
          "model_name": "HBoxModel",
          "model_module_version": "1.5.0",
          "state": {
            "_view_name": "HBoxView",
            "_dom_classes": [],
            "_model_name": "HBoxModel",
            "_view_module": "@jupyter-widgets/controls",
            "_model_module_version": "1.5.0",
            "_view_count": null,
            "_view_module_version": "1.5.0",
            "box_style": "",
            "layout": "IPY_MODEL_92cf9033c4304b46966e6ff481d73931",
            "_model_module": "@jupyter-widgets/controls",
            "children": [
              "IPY_MODEL_0ef4ef5e38644d77aa9abe0ff97e206b",
              "IPY_MODEL_b7eda7a9434a43e1abd1315e6ac41207",
              "IPY_MODEL_6a0959c9dd0746ec88c2f5e6b2d04de5"
            ]
          }
        },
        "92cf9033c4304b46966e6ff481d73931": {
          "model_module": "@jupyter-widgets/base",
          "model_name": "LayoutModel",
          "model_module_version": "1.2.0",
          "state": {
            "_view_name": "LayoutView",
            "grid_template_rows": null,
            "right": null,
            "justify_content": null,
            "_view_module": "@jupyter-widgets/base",
            "overflow": null,
            "_model_module_version": "1.2.0",
            "_view_count": null,
            "flex_flow": null,
            "width": null,
            "min_width": null,
            "border": null,
            "align_items": null,
            "bottom": null,
            "_model_module": "@jupyter-widgets/base",
            "top": null,
            "grid_column": null,
            "overflow_y": null,
            "overflow_x": null,
            "grid_auto_flow": null,
            "grid_area": null,
            "grid_template_columns": null,
            "flex": null,
            "_model_name": "LayoutModel",
            "justify_items": null,
            "grid_row": null,
            "max_height": null,
            "align_content": null,
            "visibility": null,
            "align_self": null,
            "height": null,
            "min_height": null,
            "padding": null,
            "grid_auto_rows": null,
            "grid_gap": null,
            "max_width": null,
            "order": null,
            "_view_module_version": "1.2.0",
            "grid_template_areas": null,
            "object_position": null,
            "object_fit": null,
            "grid_auto_columns": null,
            "margin": null,
            "display": null,
            "left": null
          }
        },
        "0ef4ef5e38644d77aa9abe0ff97e206b": {
          "model_module": "@jupyter-widgets/controls",
          "model_name": "HTMLModel",
          "model_module_version": "1.5.0",
          "state": {
            "_view_name": "HTMLView",
            "style": "IPY_MODEL_a1284e18531e43d68d202b6178c31520",
            "_dom_classes": [],
            "description": "",
            "_model_name": "HTMLModel",
            "placeholder": "​",
            "_view_module": "@jupyter-widgets/controls",
            "_model_module_version": "1.5.0",
            "value": "Downloading: 100%",
            "_view_count": null,
            "_view_module_version": "1.5.0",
            "description_tooltip": null,
            "_model_module": "@jupyter-widgets/controls",
            "layout": "IPY_MODEL_a4b48e303b2842b2adb84dc8f9aafbde"
          }
        },
        "b7eda7a9434a43e1abd1315e6ac41207": {
          "model_module": "@jupyter-widgets/controls",
          "model_name": "FloatProgressModel",
          "model_module_version": "1.5.0",
          "state": {
            "_view_name": "ProgressView",
            "style": "IPY_MODEL_7ba561162414408c878b24c119567e9c",
            "_dom_classes": [],
            "description": "",
            "_model_name": "FloatProgressModel",
            "bar_style": "success",
            "max": 466062,
            "_view_module": "@jupyter-widgets/controls",
            "_model_module_version": "1.5.0",
            "value": 466062,
            "_view_count": null,
            "_view_module_version": "1.5.0",
            "orientation": "horizontal",
            "min": 0,
            "description_tooltip": null,
            "_model_module": "@jupyter-widgets/controls",
            "layout": "IPY_MODEL_b3cb5391bdf64c288dcd05e1016b2807"
          }
        },
        "6a0959c9dd0746ec88c2f5e6b2d04de5": {
          "model_module": "@jupyter-widgets/controls",
          "model_name": "HTMLModel",
          "model_module_version": "1.5.0",
          "state": {
            "_view_name": "HTMLView",
            "style": "IPY_MODEL_871647f5bc4f43b4a8dfd3929f7d958c",
            "_dom_classes": [],
            "description": "",
            "_model_name": "HTMLModel",
            "placeholder": "​",
            "_view_module": "@jupyter-widgets/controls",
            "_model_module_version": "1.5.0",
            "value": " 466k/466k [00:00&lt;00:00, 1.96MB/s]",
            "_view_count": null,
            "_view_module_version": "1.5.0",
            "description_tooltip": null,
            "_model_module": "@jupyter-widgets/controls",
            "layout": "IPY_MODEL_1fc02e1b85514c3ba35af60ae7ac6f17"
          }
        },
        "a1284e18531e43d68d202b6178c31520": {
          "model_module": "@jupyter-widgets/controls",
          "model_name": "DescriptionStyleModel",
          "model_module_version": "1.5.0",
          "state": {
            "_view_name": "StyleView",
            "_model_name": "DescriptionStyleModel",
            "description_width": "",
            "_view_module": "@jupyter-widgets/base",
            "_model_module_version": "1.5.0",
            "_view_count": null,
            "_view_module_version": "1.2.0",
            "_model_module": "@jupyter-widgets/controls"
          }
        },
        "a4b48e303b2842b2adb84dc8f9aafbde": {
          "model_module": "@jupyter-widgets/base",
          "model_name": "LayoutModel",
          "model_module_version": "1.2.0",
          "state": {
            "_view_name": "LayoutView",
            "grid_template_rows": null,
            "right": null,
            "justify_content": null,
            "_view_module": "@jupyter-widgets/base",
            "overflow": null,
            "_model_module_version": "1.2.0",
            "_view_count": null,
            "flex_flow": null,
            "width": null,
            "min_width": null,
            "border": null,
            "align_items": null,
            "bottom": null,
            "_model_module": "@jupyter-widgets/base",
            "top": null,
            "grid_column": null,
            "overflow_y": null,
            "overflow_x": null,
            "grid_auto_flow": null,
            "grid_area": null,
            "grid_template_columns": null,
            "flex": null,
            "_model_name": "LayoutModel",
            "justify_items": null,
            "grid_row": null,
            "max_height": null,
            "align_content": null,
            "visibility": null,
            "align_self": null,
            "height": null,
            "min_height": null,
            "padding": null,
            "grid_auto_rows": null,
            "grid_gap": null,
            "max_width": null,
            "order": null,
            "_view_module_version": "1.2.0",
            "grid_template_areas": null,
            "object_position": null,
            "object_fit": null,
            "grid_auto_columns": null,
            "margin": null,
            "display": null,
            "left": null
          }
        },
        "7ba561162414408c878b24c119567e9c": {
          "model_module": "@jupyter-widgets/controls",
          "model_name": "ProgressStyleModel",
          "model_module_version": "1.5.0",
          "state": {
            "_view_name": "StyleView",
            "_model_name": "ProgressStyleModel",
            "description_width": "",
            "_view_module": "@jupyter-widgets/base",
            "_model_module_version": "1.5.0",
            "_view_count": null,
            "_view_module_version": "1.2.0",
            "bar_color": null,
            "_model_module": "@jupyter-widgets/controls"
          }
        },
        "b3cb5391bdf64c288dcd05e1016b2807": {
          "model_module": "@jupyter-widgets/base",
          "model_name": "LayoutModel",
          "model_module_version": "1.2.0",
          "state": {
            "_view_name": "LayoutView",
            "grid_template_rows": null,
            "right": null,
            "justify_content": null,
            "_view_module": "@jupyter-widgets/base",
            "overflow": null,
            "_model_module_version": "1.2.0",
            "_view_count": null,
            "flex_flow": null,
            "width": null,
            "min_width": null,
            "border": null,
            "align_items": null,
            "bottom": null,
            "_model_module": "@jupyter-widgets/base",
            "top": null,
            "grid_column": null,
            "overflow_y": null,
            "overflow_x": null,
            "grid_auto_flow": null,
            "grid_area": null,
            "grid_template_columns": null,
            "flex": null,
            "_model_name": "LayoutModel",
            "justify_items": null,
            "grid_row": null,
            "max_height": null,
            "align_content": null,
            "visibility": null,
            "align_self": null,
            "height": null,
            "min_height": null,
            "padding": null,
            "grid_auto_rows": null,
            "grid_gap": null,
            "max_width": null,
            "order": null,
            "_view_module_version": "1.2.0",
            "grid_template_areas": null,
            "object_position": null,
            "object_fit": null,
            "grid_auto_columns": null,
            "margin": null,
            "display": null,
            "left": null
          }
        },
        "871647f5bc4f43b4a8dfd3929f7d958c": {
          "model_module": "@jupyter-widgets/controls",
          "model_name": "DescriptionStyleModel",
          "model_module_version": "1.5.0",
          "state": {
            "_view_name": "StyleView",
            "_model_name": "DescriptionStyleModel",
            "description_width": "",
            "_view_module": "@jupyter-widgets/base",
            "_model_module_version": "1.5.0",
            "_view_count": null,
            "_view_module_version": "1.2.0",
            "_model_module": "@jupyter-widgets/controls"
          }
        },
        "1fc02e1b85514c3ba35af60ae7ac6f17": {
          "model_module": "@jupyter-widgets/base",
          "model_name": "LayoutModel",
          "model_module_version": "1.2.0",
          "state": {
            "_view_name": "LayoutView",
            "grid_template_rows": null,
            "right": null,
            "justify_content": null,
            "_view_module": "@jupyter-widgets/base",
            "overflow": null,
            "_model_module_version": "1.2.0",
            "_view_count": null,
            "flex_flow": null,
            "width": null,
            "min_width": null,
            "border": null,
            "align_items": null,
            "bottom": null,
            "_model_module": "@jupyter-widgets/base",
            "top": null,
            "grid_column": null,
            "overflow_y": null,
            "overflow_x": null,
            "grid_auto_flow": null,
            "grid_area": null,
            "grid_template_columns": null,
            "flex": null,
            "_model_name": "LayoutModel",
            "justify_items": null,
            "grid_row": null,
            "max_height": null,
            "align_content": null,
            "visibility": null,
            "align_self": null,
            "height": null,
            "min_height": null,
            "padding": null,
            "grid_auto_rows": null,
            "grid_gap": null,
            "max_width": null,
            "order": null,
            "_view_module_version": "1.2.0",
            "grid_template_areas": null,
            "object_position": null,
            "object_fit": null,
            "grid_auto_columns": null,
            "margin": null,
            "display": null,
            "left": null
          }
        },
        "da2ce87d7b2944df8f0e503190af7c6b": {
          "model_module": "@jupyter-widgets/controls",
          "model_name": "HBoxModel",
          "model_module_version": "1.5.0",
          "state": {
            "_view_name": "HBoxView",
            "_dom_classes": [],
            "_model_name": "HBoxModel",
            "_view_module": "@jupyter-widgets/controls",
            "_model_module_version": "1.5.0",
            "_view_count": null,
            "_view_module_version": "1.5.0",
            "box_style": "",
            "layout": "IPY_MODEL_f9172ecfba5749ceafb16c6e8c0f42ad",
            "_model_module": "@jupyter-widgets/controls",
            "children": [
              "IPY_MODEL_4f5940173d8b4e9a889c8b463a92c03c",
              "IPY_MODEL_f8f16957c55c4e05806c987e776a61ff",
              "IPY_MODEL_47862d90dc0b4583ae2f1c571701d357"
            ]
          }
        },
        "f9172ecfba5749ceafb16c6e8c0f42ad": {
          "model_module": "@jupyter-widgets/base",
          "model_name": "LayoutModel",
          "model_module_version": "1.2.0",
          "state": {
            "_view_name": "LayoutView",
            "grid_template_rows": null,
            "right": null,
            "justify_content": null,
            "_view_module": "@jupyter-widgets/base",
            "overflow": null,
            "_model_module_version": "1.2.0",
            "_view_count": null,
            "flex_flow": null,
            "width": null,
            "min_width": null,
            "border": null,
            "align_items": null,
            "bottom": null,
            "_model_module": "@jupyter-widgets/base",
            "top": null,
            "grid_column": null,
            "overflow_y": null,
            "overflow_x": null,
            "grid_auto_flow": null,
            "grid_area": null,
            "grid_template_columns": null,
            "flex": null,
            "_model_name": "LayoutModel",
            "justify_items": null,
            "grid_row": null,
            "max_height": null,
            "align_content": null,
            "visibility": null,
            "align_self": null,
            "height": null,
            "min_height": null,
            "padding": null,
            "grid_auto_rows": null,
            "grid_gap": null,
            "max_width": null,
            "order": null,
            "_view_module_version": "1.2.0",
            "grid_template_areas": null,
            "object_position": null,
            "object_fit": null,
            "grid_auto_columns": null,
            "margin": null,
            "display": null,
            "left": null
          }
        },
        "4f5940173d8b4e9a889c8b463a92c03c": {
          "model_module": "@jupyter-widgets/controls",
          "model_name": "HTMLModel",
          "model_module_version": "1.5.0",
          "state": {
            "_view_name": "HTMLView",
            "style": "IPY_MODEL_77af1a0ebb1341d3b8f3afd7b49b8199",
            "_dom_classes": [],
            "description": "",
            "_model_name": "HTMLModel",
            "placeholder": "​",
            "_view_module": "@jupyter-widgets/controls",
            "_model_module_version": "1.5.0",
            "value": "Downloading: 100%",
            "_view_count": null,
            "_view_module_version": "1.5.0",
            "description_tooltip": null,
            "_model_module": "@jupyter-widgets/controls",
            "layout": "IPY_MODEL_47ebb21a3fc8448cbb7d83c5a777cd25"
          }
        },
        "f8f16957c55c4e05806c987e776a61ff": {
          "model_module": "@jupyter-widgets/controls",
          "model_name": "FloatProgressModel",
          "model_module_version": "1.5.0",
          "state": {
            "_view_name": "ProgressView",
            "style": "IPY_MODEL_f4329d6271774ec99d2c37aec02e29f1",
            "_dom_classes": [],
            "description": "",
            "_model_name": "FloatProgressModel",
            "bar_style": "success",
            "max": 570,
            "_view_module": "@jupyter-widgets/controls",
            "_model_module_version": "1.5.0",
            "value": 570,
            "_view_count": null,
            "_view_module_version": "1.5.0",
            "orientation": "horizontal",
            "min": 0,
            "description_tooltip": null,
            "_model_module": "@jupyter-widgets/controls",
            "layout": "IPY_MODEL_d0eefcfe69ff4e2c9a9ff7c303876fb5"
          }
        },
        "47862d90dc0b4583ae2f1c571701d357": {
          "model_module": "@jupyter-widgets/controls",
          "model_name": "HTMLModel",
          "model_module_version": "1.5.0",
          "state": {
            "_view_name": "HTMLView",
            "style": "IPY_MODEL_86f00f0b5bc3432b8785b4127dddcd6f",
            "_dom_classes": [],
            "description": "",
            "_model_name": "HTMLModel",
            "placeholder": "​",
            "_view_module": "@jupyter-widgets/controls",
            "_model_module_version": "1.5.0",
            "value": " 570/570 [00:00&lt;00:00, 11.7kB/s]",
            "_view_count": null,
            "_view_module_version": "1.5.0",
            "description_tooltip": null,
            "_model_module": "@jupyter-widgets/controls",
            "layout": "IPY_MODEL_2330cfd2999c411ab8d95cf65af0ce26"
          }
        },
        "77af1a0ebb1341d3b8f3afd7b49b8199": {
          "model_module": "@jupyter-widgets/controls",
          "model_name": "DescriptionStyleModel",
          "model_module_version": "1.5.0",
          "state": {
            "_view_name": "StyleView",
            "_model_name": "DescriptionStyleModel",
            "description_width": "",
            "_view_module": "@jupyter-widgets/base",
            "_model_module_version": "1.5.0",
            "_view_count": null,
            "_view_module_version": "1.2.0",
            "_model_module": "@jupyter-widgets/controls"
          }
        },
        "47ebb21a3fc8448cbb7d83c5a777cd25": {
          "model_module": "@jupyter-widgets/base",
          "model_name": "LayoutModel",
          "model_module_version": "1.2.0",
          "state": {
            "_view_name": "LayoutView",
            "grid_template_rows": null,
            "right": null,
            "justify_content": null,
            "_view_module": "@jupyter-widgets/base",
            "overflow": null,
            "_model_module_version": "1.2.0",
            "_view_count": null,
            "flex_flow": null,
            "width": null,
            "min_width": null,
            "border": null,
            "align_items": null,
            "bottom": null,
            "_model_module": "@jupyter-widgets/base",
            "top": null,
            "grid_column": null,
            "overflow_y": null,
            "overflow_x": null,
            "grid_auto_flow": null,
            "grid_area": null,
            "grid_template_columns": null,
            "flex": null,
            "_model_name": "LayoutModel",
            "justify_items": null,
            "grid_row": null,
            "max_height": null,
            "align_content": null,
            "visibility": null,
            "align_self": null,
            "height": null,
            "min_height": null,
            "padding": null,
            "grid_auto_rows": null,
            "grid_gap": null,
            "max_width": null,
            "order": null,
            "_view_module_version": "1.2.0",
            "grid_template_areas": null,
            "object_position": null,
            "object_fit": null,
            "grid_auto_columns": null,
            "margin": null,
            "display": null,
            "left": null
          }
        },
        "f4329d6271774ec99d2c37aec02e29f1": {
          "model_module": "@jupyter-widgets/controls",
          "model_name": "ProgressStyleModel",
          "model_module_version": "1.5.0",
          "state": {
            "_view_name": "StyleView",
            "_model_name": "ProgressStyleModel",
            "description_width": "",
            "_view_module": "@jupyter-widgets/base",
            "_model_module_version": "1.5.0",
            "_view_count": null,
            "_view_module_version": "1.2.0",
            "bar_color": null,
            "_model_module": "@jupyter-widgets/controls"
          }
        },
        "d0eefcfe69ff4e2c9a9ff7c303876fb5": {
          "model_module": "@jupyter-widgets/base",
          "model_name": "LayoutModel",
          "model_module_version": "1.2.0",
          "state": {
            "_view_name": "LayoutView",
            "grid_template_rows": null,
            "right": null,
            "justify_content": null,
            "_view_module": "@jupyter-widgets/base",
            "overflow": null,
            "_model_module_version": "1.2.0",
            "_view_count": null,
            "flex_flow": null,
            "width": null,
            "min_width": null,
            "border": null,
            "align_items": null,
            "bottom": null,
            "_model_module": "@jupyter-widgets/base",
            "top": null,
            "grid_column": null,
            "overflow_y": null,
            "overflow_x": null,
            "grid_auto_flow": null,
            "grid_area": null,
            "grid_template_columns": null,
            "flex": null,
            "_model_name": "LayoutModel",
            "justify_items": null,
            "grid_row": null,
            "max_height": null,
            "align_content": null,
            "visibility": null,
            "align_self": null,
            "height": null,
            "min_height": null,
            "padding": null,
            "grid_auto_rows": null,
            "grid_gap": null,
            "max_width": null,
            "order": null,
            "_view_module_version": "1.2.0",
            "grid_template_areas": null,
            "object_position": null,
            "object_fit": null,
            "grid_auto_columns": null,
            "margin": null,
            "display": null,
            "left": null
          }
        },
        "86f00f0b5bc3432b8785b4127dddcd6f": {
          "model_module": "@jupyter-widgets/controls",
          "model_name": "DescriptionStyleModel",
          "model_module_version": "1.5.0",
          "state": {
            "_view_name": "StyleView",
            "_model_name": "DescriptionStyleModel",
            "description_width": "",
            "_view_module": "@jupyter-widgets/base",
            "_model_module_version": "1.5.0",
            "_view_count": null,
            "_view_module_version": "1.2.0",
            "_model_module": "@jupyter-widgets/controls"
          }
        },
        "2330cfd2999c411ab8d95cf65af0ce26": {
          "model_module": "@jupyter-widgets/base",
          "model_name": "LayoutModel",
          "model_module_version": "1.2.0",
          "state": {
            "_view_name": "LayoutView",
            "grid_template_rows": null,
            "right": null,
            "justify_content": null,
            "_view_module": "@jupyter-widgets/base",
            "overflow": null,
            "_model_module_version": "1.2.0",
            "_view_count": null,
            "flex_flow": null,
            "width": null,
            "min_width": null,
            "border": null,
            "align_items": null,
            "bottom": null,
            "_model_module": "@jupyter-widgets/base",
            "top": null,
            "grid_column": null,
            "overflow_y": null,
            "overflow_x": null,
            "grid_auto_flow": null,
            "grid_area": null,
            "grid_template_columns": null,
            "flex": null,
            "_model_name": "LayoutModel",
            "justify_items": null,
            "grid_row": null,
            "max_height": null,
            "align_content": null,
            "visibility": null,
            "align_self": null,
            "height": null,
            "min_height": null,
            "padding": null,
            "grid_auto_rows": null,
            "grid_gap": null,
            "max_width": null,
            "order": null,
            "_view_module_version": "1.2.0",
            "grid_template_areas": null,
            "object_position": null,
            "object_fit": null,
            "grid_auto_columns": null,
            "margin": null,
            "display": null,
            "left": null
          }
        },
        "ed6a888897f943f7a780b646719d8612": {
          "model_module": "@jupyter-widgets/controls",
          "model_name": "HBoxModel",
          "model_module_version": "1.5.0",
          "state": {
            "_view_name": "HBoxView",
            "_dom_classes": [],
            "_model_name": "HBoxModel",
            "_view_module": "@jupyter-widgets/controls",
            "_model_module_version": "1.5.0",
            "_view_count": null,
            "_view_module_version": "1.5.0",
            "box_style": "",
            "layout": "IPY_MODEL_d58eb4409a91454b841b5e25f49cb83d",
            "_model_module": "@jupyter-widgets/controls",
            "children": [
              "IPY_MODEL_08f5d917dad84f9888c5d19d87078be1",
              "IPY_MODEL_4e80bcdde3944b72bb61d3d0ee43a90d",
              "IPY_MODEL_2e428f958cee4c02bdcc4486e75a36fc"
            ]
          }
        },
        "d58eb4409a91454b841b5e25f49cb83d": {
          "model_module": "@jupyter-widgets/base",
          "model_name": "LayoutModel",
          "model_module_version": "1.2.0",
          "state": {
            "_view_name": "LayoutView",
            "grid_template_rows": null,
            "right": null,
            "justify_content": null,
            "_view_module": "@jupyter-widgets/base",
            "overflow": null,
            "_model_module_version": "1.2.0",
            "_view_count": null,
            "flex_flow": null,
            "width": null,
            "min_width": null,
            "border": null,
            "align_items": null,
            "bottom": null,
            "_model_module": "@jupyter-widgets/base",
            "top": null,
            "grid_column": null,
            "overflow_y": null,
            "overflow_x": null,
            "grid_auto_flow": null,
            "grid_area": null,
            "grid_template_columns": null,
            "flex": null,
            "_model_name": "LayoutModel",
            "justify_items": null,
            "grid_row": null,
            "max_height": null,
            "align_content": null,
            "visibility": null,
            "align_self": null,
            "height": null,
            "min_height": null,
            "padding": null,
            "grid_auto_rows": null,
            "grid_gap": null,
            "max_width": null,
            "order": null,
            "_view_module_version": "1.2.0",
            "grid_template_areas": null,
            "object_position": null,
            "object_fit": null,
            "grid_auto_columns": null,
            "margin": null,
            "display": null,
            "left": null
          }
        },
        "08f5d917dad84f9888c5d19d87078be1": {
          "model_module": "@jupyter-widgets/controls",
          "model_name": "HTMLModel",
          "model_module_version": "1.5.0",
          "state": {
            "_view_name": "HTMLView",
            "style": "IPY_MODEL_cbfefe99e3ca42108420d9fa11476446",
            "_dom_classes": [],
            "description": "",
            "_model_name": "HTMLModel",
            "placeholder": "​",
            "_view_module": "@jupyter-widgets/controls",
            "_model_module_version": "1.5.0",
            "value": "Downloading: 100%",
            "_view_count": null,
            "_view_module_version": "1.5.0",
            "description_tooltip": null,
            "_model_module": "@jupyter-widgets/controls",
            "layout": "IPY_MODEL_9f269d55a57548559aaea11ae916a620"
          }
        },
        "4e80bcdde3944b72bb61d3d0ee43a90d": {
          "model_module": "@jupyter-widgets/controls",
          "model_name": "FloatProgressModel",
          "model_module_version": "1.5.0",
          "state": {
            "_view_name": "ProgressView",
            "style": "IPY_MODEL_8ff7f1c9dd3c48d89d795a523d8d1cff",
            "_dom_classes": [],
            "description": "",
            "_model_name": "FloatProgressModel",
            "bar_style": "success",
            "max": 440473133,
            "_view_module": "@jupyter-widgets/controls",
            "_model_module_version": "1.5.0",
            "value": 440473133,
            "_view_count": null,
            "_view_module_version": "1.5.0",
            "orientation": "horizontal",
            "min": 0,
            "description_tooltip": null,
            "_model_module": "@jupyter-widgets/controls",
            "layout": "IPY_MODEL_ca69adfd2fc94951a0b122689ea0e2d5"
          }
        },
        "2e428f958cee4c02bdcc4486e75a36fc": {
          "model_module": "@jupyter-widgets/controls",
          "model_name": "HTMLModel",
          "model_module_version": "1.5.0",
          "state": {
            "_view_name": "HTMLView",
            "style": "IPY_MODEL_74d5c36f1a294debaa0ddd7089d8ba4b",
            "_dom_classes": [],
            "description": "",
            "_model_name": "HTMLModel",
            "placeholder": "​",
            "_view_module": "@jupyter-widgets/controls",
            "_model_module_version": "1.5.0",
            "value": " 440M/440M [00:11&lt;00:00, 39.2MB/s]",
            "_view_count": null,
            "_view_module_version": "1.5.0",
            "description_tooltip": null,
            "_model_module": "@jupyter-widgets/controls",
            "layout": "IPY_MODEL_e61e2207b5cd48ca9a8c316af27b1d63"
          }
        },
        "cbfefe99e3ca42108420d9fa11476446": {
          "model_module": "@jupyter-widgets/controls",
          "model_name": "DescriptionStyleModel",
          "model_module_version": "1.5.0",
          "state": {
            "_view_name": "StyleView",
            "_model_name": "DescriptionStyleModel",
            "description_width": "",
            "_view_module": "@jupyter-widgets/base",
            "_model_module_version": "1.5.0",
            "_view_count": null,
            "_view_module_version": "1.2.0",
            "_model_module": "@jupyter-widgets/controls"
          }
        },
        "9f269d55a57548559aaea11ae916a620": {
          "model_module": "@jupyter-widgets/base",
          "model_name": "LayoutModel",
          "model_module_version": "1.2.0",
          "state": {
            "_view_name": "LayoutView",
            "grid_template_rows": null,
            "right": null,
            "justify_content": null,
            "_view_module": "@jupyter-widgets/base",
            "overflow": null,
            "_model_module_version": "1.2.0",
            "_view_count": null,
            "flex_flow": null,
            "width": null,
            "min_width": null,
            "border": null,
            "align_items": null,
            "bottom": null,
            "_model_module": "@jupyter-widgets/base",
            "top": null,
            "grid_column": null,
            "overflow_y": null,
            "overflow_x": null,
            "grid_auto_flow": null,
            "grid_area": null,
            "grid_template_columns": null,
            "flex": null,
            "_model_name": "LayoutModel",
            "justify_items": null,
            "grid_row": null,
            "max_height": null,
            "align_content": null,
            "visibility": null,
            "align_self": null,
            "height": null,
            "min_height": null,
            "padding": null,
            "grid_auto_rows": null,
            "grid_gap": null,
            "max_width": null,
            "order": null,
            "_view_module_version": "1.2.0",
            "grid_template_areas": null,
            "object_position": null,
            "object_fit": null,
            "grid_auto_columns": null,
            "margin": null,
            "display": null,
            "left": null
          }
        },
        "8ff7f1c9dd3c48d89d795a523d8d1cff": {
          "model_module": "@jupyter-widgets/controls",
          "model_name": "ProgressStyleModel",
          "model_module_version": "1.5.0",
          "state": {
            "_view_name": "StyleView",
            "_model_name": "ProgressStyleModel",
            "description_width": "",
            "_view_module": "@jupyter-widgets/base",
            "_model_module_version": "1.5.0",
            "_view_count": null,
            "_view_module_version": "1.2.0",
            "bar_color": null,
            "_model_module": "@jupyter-widgets/controls"
          }
        },
        "ca69adfd2fc94951a0b122689ea0e2d5": {
          "model_module": "@jupyter-widgets/base",
          "model_name": "LayoutModel",
          "model_module_version": "1.2.0",
          "state": {
            "_view_name": "LayoutView",
            "grid_template_rows": null,
            "right": null,
            "justify_content": null,
            "_view_module": "@jupyter-widgets/base",
            "overflow": null,
            "_model_module_version": "1.2.0",
            "_view_count": null,
            "flex_flow": null,
            "width": null,
            "min_width": null,
            "border": null,
            "align_items": null,
            "bottom": null,
            "_model_module": "@jupyter-widgets/base",
            "top": null,
            "grid_column": null,
            "overflow_y": null,
            "overflow_x": null,
            "grid_auto_flow": null,
            "grid_area": null,
            "grid_template_columns": null,
            "flex": null,
            "_model_name": "LayoutModel",
            "justify_items": null,
            "grid_row": null,
            "max_height": null,
            "align_content": null,
            "visibility": null,
            "align_self": null,
            "height": null,
            "min_height": null,
            "padding": null,
            "grid_auto_rows": null,
            "grid_gap": null,
            "max_width": null,
            "order": null,
            "_view_module_version": "1.2.0",
            "grid_template_areas": null,
            "object_position": null,
            "object_fit": null,
            "grid_auto_columns": null,
            "margin": null,
            "display": null,
            "left": null
          }
        },
        "74d5c36f1a294debaa0ddd7089d8ba4b": {
          "model_module": "@jupyter-widgets/controls",
          "model_name": "DescriptionStyleModel",
          "model_module_version": "1.5.0",
          "state": {
            "_view_name": "StyleView",
            "_model_name": "DescriptionStyleModel",
            "description_width": "",
            "_view_module": "@jupyter-widgets/base",
            "_model_module_version": "1.5.0",
            "_view_count": null,
            "_view_module_version": "1.2.0",
            "_model_module": "@jupyter-widgets/controls"
          }
        },
        "e61e2207b5cd48ca9a8c316af27b1d63": {
          "model_module": "@jupyter-widgets/base",
          "model_name": "LayoutModel",
          "model_module_version": "1.2.0",
          "state": {
            "_view_name": "LayoutView",
            "grid_template_rows": null,
            "right": null,
            "justify_content": null,
            "_view_module": "@jupyter-widgets/base",
            "overflow": null,
            "_model_module_version": "1.2.0",
            "_view_count": null,
            "flex_flow": null,
            "width": null,
            "min_width": null,
            "border": null,
            "align_items": null,
            "bottom": null,
            "_model_module": "@jupyter-widgets/base",
            "top": null,
            "grid_column": null,
            "overflow_y": null,
            "overflow_x": null,
            "grid_auto_flow": null,
            "grid_area": null,
            "grid_template_columns": null,
            "flex": null,
            "_model_name": "LayoutModel",
            "justify_items": null,
            "grid_row": null,
            "max_height": null,
            "align_content": null,
            "visibility": null,
            "align_self": null,
            "height": null,
            "min_height": null,
            "padding": null,
            "grid_auto_rows": null,
            "grid_gap": null,
            "max_width": null,
            "order": null,
            "_view_module_version": "1.2.0",
            "grid_template_areas": null,
            "object_position": null,
            "object_fit": null,
            "grid_auto_columns": null,
            "margin": null,
            "display": null,
            "left": null
          }
        }
      }
    }
  },
  "cells": [
    {
      "cell_type": "code",
      "metadata": {
        "colab": {
          "base_uri": "https://localhost:8080/"
        },
        "id": "5l7gtIEZjdYP",
        "outputId": "fdbd539e-64bd-43fa-99e3-9c4cf16b6881"
      },
      "source": [
        "from google.colab import drive\n",
        "drive.mount('/content/drive')"
      ],
      "id": "5l7gtIEZjdYP",
      "execution_count": 2,
      "outputs": [
        {
          "output_type": "stream",
          "name": "stdout",
          "text": [
            "Mounted at /content/drive\n"
          ]
        }
      ]
    },
    {
      "cell_type": "code",
      "metadata": {
        "id": "YLDRvsJyj97C"
      },
      "source": [
        "import os\n",
        "\n",
        "os.getcwd()\n",
        "\n",
        "os.chdir(\"/content/drive/MyDrive/Colab Notebooks/qbe/candidate_test\")"
      ],
      "id": "YLDRvsJyj97C",
      "execution_count": 8,
      "outputs": []
    },
    {
      "cell_type": "code",
      "metadata": {
        "colab": {
          "base_uri": "https://localhost:8080/"
        },
        "id": "uevyaJVxjyVS",
        "outputId": "1ed69947-7e1e-42ed-c635-39aa6f71e221"
      },
      "source": [
        "!pip install transformers"
      ],
      "id": "uevyaJVxjyVS",
      "execution_count": 3,
      "outputs": [
        {
          "output_type": "stream",
          "name": "stdout",
          "text": [
            "Collecting transformers\n",
            "  Downloading transformers-4.10.2-py3-none-any.whl (2.8 MB)\n",
            "\u001b[K     |████████████████████████████████| 2.8 MB 5.2 MB/s \n",
            "\u001b[?25hRequirement already satisfied: packaging in /usr/local/lib/python3.7/dist-packages (from transformers) (21.0)\n",
            "Requirement already satisfied: regex!=2019.12.17 in /usr/local/lib/python3.7/dist-packages (from transformers) (2019.12.20)\n",
            "Requirement already satisfied: importlib-metadata in /usr/local/lib/python3.7/dist-packages (from transformers) (4.6.4)\n",
            "Requirement already satisfied: requests in /usr/local/lib/python3.7/dist-packages (from transformers) (2.23.0)\n",
            "Requirement already satisfied: filelock in /usr/local/lib/python3.7/dist-packages (from transformers) (3.0.12)\n",
            "Collecting sacremoses\n",
            "  Downloading sacremoses-0.0.45-py3-none-any.whl (895 kB)\n",
            "\u001b[K     |████████████████████████████████| 895 kB 41.2 MB/s \n",
            "\u001b[?25hCollecting tokenizers<0.11,>=0.10.1\n",
            "  Downloading tokenizers-0.10.3-cp37-cp37m-manylinux_2_5_x86_64.manylinux1_x86_64.manylinux_2_12_x86_64.manylinux2010_x86_64.whl (3.3 MB)\n",
            "\u001b[K     |████████████████████████████████| 3.3 MB 39.7 MB/s \n",
            "\u001b[?25hRequirement already satisfied: tqdm>=4.27 in /usr/local/lib/python3.7/dist-packages (from transformers) (4.62.0)\n",
            "Collecting pyyaml>=5.1\n",
            "  Downloading PyYAML-5.4.1-cp37-cp37m-manylinux1_x86_64.whl (636 kB)\n",
            "\u001b[K     |████████████████████████████████| 636 kB 55.1 MB/s \n",
            "\u001b[?25hRequirement already satisfied: numpy>=1.17 in /usr/local/lib/python3.7/dist-packages (from transformers) (1.19.5)\n",
            "Collecting huggingface-hub>=0.0.12\n",
            "  Downloading huggingface_hub-0.0.16-py3-none-any.whl (50 kB)\n",
            "\u001b[K     |████████████████████████████████| 50 kB 5.4 MB/s \n",
            "\u001b[?25hRequirement already satisfied: typing-extensions in /usr/local/lib/python3.7/dist-packages (from huggingface-hub>=0.0.12->transformers) (3.7.4.3)\n",
            "Requirement already satisfied: pyparsing>=2.0.2 in /usr/local/lib/python3.7/dist-packages (from packaging->transformers) (2.4.7)\n",
            "Requirement already satisfied: zipp>=0.5 in /usr/local/lib/python3.7/dist-packages (from importlib-metadata->transformers) (3.5.0)\n",
            "Requirement already satisfied: chardet<4,>=3.0.2 in /usr/local/lib/python3.7/dist-packages (from requests->transformers) (3.0.4)\n",
            "Requirement already satisfied: idna<3,>=2.5 in /usr/local/lib/python3.7/dist-packages (from requests->transformers) (2.10)\n",
            "Requirement already satisfied: urllib3!=1.25.0,!=1.25.1,<1.26,>=1.21.1 in /usr/local/lib/python3.7/dist-packages (from requests->transformers) (1.24.3)\n",
            "Requirement already satisfied: certifi>=2017.4.17 in /usr/local/lib/python3.7/dist-packages (from requests->transformers) (2021.5.30)\n",
            "Requirement already satisfied: six in /usr/local/lib/python3.7/dist-packages (from sacremoses->transformers) (1.15.0)\n",
            "Requirement already satisfied: click in /usr/local/lib/python3.7/dist-packages (from sacremoses->transformers) (7.1.2)\n",
            "Requirement already satisfied: joblib in /usr/local/lib/python3.7/dist-packages (from sacremoses->transformers) (1.0.1)\n",
            "Installing collected packages: tokenizers, sacremoses, pyyaml, huggingface-hub, transformers\n",
            "  Attempting uninstall: pyyaml\n",
            "    Found existing installation: PyYAML 3.13\n",
            "    Uninstalling PyYAML-3.13:\n",
            "      Successfully uninstalled PyYAML-3.13\n",
            "Successfully installed huggingface-hub-0.0.16 pyyaml-5.4.1 sacremoses-0.0.45 tokenizers-0.10.3 transformers-4.10.2\n"
          ]
        }
      ]
    },
    {
      "cell_type": "code",
      "metadata": {
        "scrolled": true,
        "colab": {
          "base_uri": "https://localhost:8080/",
          "height": 35
        },
        "id": "979a8065",
        "outputId": "3599b001-de56-45cf-cf00-6d773afd77fd"
      },
      "source": [
        "import pandas as pd\n",
        "import numpy as np\n",
        "from tqdm import tqdm, trange\n",
        "import os, sys\n",
        "import torch\n",
        "from torch.utils.data import TensorDataset, DataLoader, RandomSampler, SequentialSampler\n",
        "from transformers import BertTokenizer, BertConfig\n",
        "\n",
        "from keras.preprocessing.sequence import pad_sequences\n",
        "from sklearn.model_selection import train_test_split\n",
        "import random\n",
        "\n",
        "torch.__version__"
      ],
      "id": "979a8065",
      "execution_count": 4,
      "outputs": [
        {
          "output_type": "execute_result",
          "data": {
            "application/vnd.google.colaboratory.intrinsic+json": {
              "type": "string"
            },
            "text/plain": [
              "'1.9.0+cu102'"
            ]
          },
          "metadata": {},
          "execution_count": 4
        }
      ]
    },
    {
      "cell_type": "code",
      "metadata": {
        "colab": {
          "base_uri": "https://localhost:8080/",
          "height": 35
        },
        "id": "766775d1",
        "outputId": "8376fcf9-b506-432c-efa8-60a679998dab"
      },
      "source": [
        "import transformers\n",
        "from transformers import BertForTokenClassification, AdamW\n",
        "\n",
        "transformers.__version__"
      ],
      "id": "766775d1",
      "execution_count": 5,
      "outputs": [
        {
          "output_type": "execute_result",
          "data": {
            "application/vnd.google.colaboratory.intrinsic+json": {
              "type": "string"
            },
            "text/plain": [
              "'4.10.2'"
            ]
          },
          "metadata": {},
          "execution_count": 5
        }
      ]
    },
    {
      "cell_type": "code",
      "metadata": {
        "id": "7c38036d"
      },
      "source": [
        "MAX_LEN = 50\n",
        "LR = 3e-5\n",
        "bs = 2\n",
        "epochs = 10\n",
        "max_grad_norm = 1.0\n",
        "device = torch.device(\"cuda\" if torch.cuda.is_available() else \"cpu\")\n",
        "n_gpu = torch.cuda.device_count()\n",
        "\n",
        "#path to save model\n",
        "MODEL_PATH = \"bert_swap_model\""
      ],
      "id": "7c38036d",
      "execution_count": 6,
      "outputs": []
    },
    {
      "cell_type": "code",
      "metadata": {
        "id": "f4b5ce08"
      },
      "source": [
        "import pandas as pd\n",
        "train = pd.read_csv('restaurants_train.csv')\n",
        "val = pd.read_csv('restaurants_val.csv')\n",
        "holdout = pd.read_csv('restaurants_holdout.csv')\n",
        "# train = train.fillna('')\n",
        "# val = val.fillna('')\n",
        "# holdout = holdout.fillna('')"
      ],
      "id": "f4b5ce08",
      "execution_count": 9,
      "outputs": []
    },
    {
      "cell_type": "code",
      "metadata": {
        "id": "7c3322e0"
      },
      "source": [
        "train = train.fillna('')\n",
        "val = val.fillna('')\n",
        "holdout = holdout.fillna('')"
      ],
      "id": "7c3322e0",
      "execution_count": 10,
      "outputs": []
    },
    {
      "cell_type": "code",
      "metadata": {
        "colab": {
          "base_uri": "https://localhost:8080/",
          "height": 145,
          "referenced_widgets": [
            "65a2c55a60ad41da8f73aad813bd304b",
            "a22d3eb7794c4d9c91458b3f25012f5d",
            "30916312a3c04b08a0c127fe778de8df",
            "2e10b89147944f13a6e7703d5e975889",
            "5fbdaa3911df4fbd9976edeac5b144fe",
            "dd54f94086c64d429ac129d43e3e03a7",
            "d99505611032401f8e96d9700dd331be",
            "b55361a6cc4145709df1a6362dbc0f9d",
            "c63c6e4a400943e3b44a4e07556fa4af",
            "2154994a6b094e0a811870edee7d2c22",
            "c42d7b0da04540528fbee9d2c26cc486",
            "02430b5030f74c7d84772e0741dbefcc",
            "55ebb66b3ba642cc911c4e0b9b896ca6",
            "9ee49a172d604a949166937783c3b856",
            "9cf2a3c774834a5888574bd7cf55ab5c",
            "87031f015360400a97d425f501f173f5",
            "5944d0c5b1f642b38892d7752484b147",
            "23cfdb0c6d2b4515a3efd7726d9fda2c",
            "37265ee2d3184b02b4f801fb982dd77c",
            "ca63b79b20c24054a1cf52392958161b",
            "7b9e92c494b04615a2dbc669cf28b2db",
            "6066e5df5dbd43d6a0b5ba37d4b01dd9",
            "98fccf6677194c6d92a14f2bc41eb4af",
            "92cf9033c4304b46966e6ff481d73931",
            "0ef4ef5e38644d77aa9abe0ff97e206b",
            "b7eda7a9434a43e1abd1315e6ac41207",
            "6a0959c9dd0746ec88c2f5e6b2d04de5",
            "a1284e18531e43d68d202b6178c31520",
            "a4b48e303b2842b2adb84dc8f9aafbde",
            "7ba561162414408c878b24c119567e9c",
            "b3cb5391bdf64c288dcd05e1016b2807",
            "871647f5bc4f43b4a8dfd3929f7d958c",
            "1fc02e1b85514c3ba35af60ae7ac6f17",
            "da2ce87d7b2944df8f0e503190af7c6b",
            "f9172ecfba5749ceafb16c6e8c0f42ad",
            "4f5940173d8b4e9a889c8b463a92c03c",
            "f8f16957c55c4e05806c987e776a61ff",
            "47862d90dc0b4583ae2f1c571701d357",
            "77af1a0ebb1341d3b8f3afd7b49b8199",
            "47ebb21a3fc8448cbb7d83c5a777cd25",
            "f4329d6271774ec99d2c37aec02e29f1",
            "d0eefcfe69ff4e2c9a9ff7c303876fb5",
            "86f00f0b5bc3432b8785b4127dddcd6f",
            "2330cfd2999c411ab8d95cf65af0ce26"
          ]
        },
        "id": "6cc185d0",
        "outputId": "8f28fba9-cd2f-42b6-fa0c-eb48bcba4c3f"
      },
      "source": [
        "tokenizer = BertTokenizer.from_pretrained('bert-base-uncased', do_lower_case=True)"
      ],
      "id": "6cc185d0",
      "execution_count": 11,
      "outputs": [
        {
          "output_type": "display_data",
          "data": {
            "application/vnd.jupyter.widget-view+json": {
              "model_id": "65a2c55a60ad41da8f73aad813bd304b",
              "version_minor": 0,
              "version_major": 2
            },
            "text/plain": [
              "Downloading:   0%|          | 0.00/232k [00:00<?, ?B/s]"
            ]
          },
          "metadata": {}
        },
        {
          "output_type": "display_data",
          "data": {
            "application/vnd.jupyter.widget-view+json": {
              "model_id": "02430b5030f74c7d84772e0741dbefcc",
              "version_minor": 0,
              "version_major": 2
            },
            "text/plain": [
              "Downloading:   0%|          | 0.00/28.0 [00:00<?, ?B/s]"
            ]
          },
          "metadata": {}
        },
        {
          "output_type": "display_data",
          "data": {
            "application/vnd.jupyter.widget-view+json": {
              "model_id": "98fccf6677194c6d92a14f2bc41eb4af",
              "version_minor": 0,
              "version_major": 2
            },
            "text/plain": [
              "Downloading:   0%|          | 0.00/466k [00:00<?, ?B/s]"
            ]
          },
          "metadata": {}
        },
        {
          "output_type": "display_data",
          "data": {
            "application/vnd.jupyter.widget-view+json": {
              "model_id": "da2ce87d7b2944df8f0e503190af7c6b",
              "version_minor": 0,
              "version_major": 2
            },
            "text/plain": [
              "Downloading:   0%|          | 0.00/570 [00:00<?, ?B/s]"
            ]
          },
          "metadata": {}
        }
      ]
    },
    {
      "cell_type": "code",
      "metadata": {
        "id": "c2885a8e"
      },
      "source": [
        "################################\n",
        "# DO NOT CHANGE THIS FUNCTION! #\n",
        "################################\n",
        "\n",
        "def get_f1_score_on_test_data(model, data):\n",
        "    model.eval()\n",
        "    true_positives = 0\n",
        "    false_positives = 0\n",
        "    false_negatives = 0\n",
        "    for index, row in data.iterrows():\n",
        "        sentence = row.sentence\n",
        "        expected = row.restaurant_name\n",
        "        #inputs = tokenizer([sentence], max_length=1024, return_tensors='pt')\n",
        "        predicted = generate_outputs(model, sentence)\n",
        "        if expected != '' and expected == predicted:\n",
        "            true_positives += 1\n",
        "        if expected != '' and expected != predicted:\n",
        "            false_positives += 1\n",
        "        if expected == '' and predicted != '':\n",
        "            false_positives += 1\n",
        "        if expected != '' and predicted == '':\n",
        "            false_negatives += 1\n",
        "\n",
        "    precision = 0\n",
        "    recall = 0\n",
        "    f1_score = 0\n",
        "    if true_positives + false_positives:\n",
        "        precision = true_positives / (true_positives + false_positives)\n",
        "    if true_positives + false_negatives:\n",
        "        recall = true_positives /(true_positives + false_negatives)\n",
        "    if precision + recall:\n",
        "        f1_score = 2 * precision * recall / (precision + recall)\n",
        "\n",
        "    print(f'precision: {precision} | recall {recall} | f1_score {f1_score}')\n",
        "    return f1_score\n",
        "\n",
        "\n",
        "def convert_bio_text(words, tags):\n",
        "    \"\"\"\n",
        "    Converts BIO tags to text\n",
        "    \"\"\"\n",
        "    prev_tag = \"O\"\n",
        "    extracted_dict = {}\n",
        "    count = 0\n",
        "    for x,t in zip(words, tags):\n",
        "        if prev_tag == \"O\":\n",
        "            if t == \"B\":\n",
        "                prev_tag = \"B\"\n",
        "                extracted_dict[count] = [x]\n",
        "        else:\n",
        "            if t == \"I\":\n",
        "                extracted_dict[count].append(x)\n",
        "                prev_tag = \"I\"\n",
        "            elif t == \"B\" :\n",
        "                prev_tag = \"B\"\n",
        "                count += 1\n",
        "                extracted_dict[count] = [x]\n",
        "            else:\n",
        "                count += 1\n",
        "                prev_tag = \"O\"\n",
        "                \n",
        "    for i in extracted_dict.keys():\n",
        "        extracted_dict[i] = \" \".join(extracted_dict[i])\n",
        "    return list(extracted_dict.values())\n",
        "\n",
        "def generate_outputs(model, sentence, device=\"cpu\"):\n",
        "    \n",
        "    \"\"\"\n",
        "    Predicts on a sentence and converts predicted BIO tags to text\n",
        "    \"\"\"\n",
        "    \n",
        "    tokenized_sentence = tokenizer.encode(sentence)\n",
        "    \n",
        "    input_ids = torch.tensor([tokenized_sentence]).to(device)\n",
        "    \n",
        "    with torch.no_grad():\n",
        "        \n",
        "        output = model(input_ids)\n",
        "        \n",
        "    label_indices = np.argmax(output[0].to('cpu').numpy(), axis=2)\n",
        "    \n",
        "    tokens = tokenizer.convert_ids_to_tokens(input_ids.to('cpu').numpy()[0])\n",
        "\n",
        "    new_tokens, new_labels = [], []\n",
        "\n",
        "    for token, label_idx in zip(tokens, label_indices[0]):\n",
        "\n",
        "        if token.startswith(\"##\"):\n",
        "\n",
        "            new_tokens[-1] = new_tokens[-1] + token[2:]\n",
        "\n",
        "        else:\n",
        "\n",
        "            new_labels.append(tag_values[label_idx])\n",
        "\n",
        "            new_tokens.append(token)\n",
        "            \n",
        "    #return \" \".join(convert_bio_text(new_tokens, new_labels)), new_labels\n",
        "    \n",
        "    out = convert_bio_text(new_tokens, new_labels)\n",
        "    \n",
        "    if len(out) > 0:\n",
        "        \n",
        "        return out[0]\n",
        "    else:\n",
        "        return \"\"\n",
        "    "
      ],
      "id": "c2885a8e",
      "execution_count": 12,
      "outputs": []
    },
    {
      "cell_type": "code",
      "metadata": {
        "id": "f007a6b5"
      },
      "source": [
        "def _tag_bio(txt, entity):    \n",
        "        \"\"\"\n",
        "        Given a text and an entity, creates BIO tags for that entity.\n",
        "        \"\"\"\n",
        "\n",
        "        entity_tok = entity.split()\n",
        "\n",
        "        txt_tok = txt.split()\n",
        "\n",
        "        out_tags = [\"O\"]*len(txt_tok)\n",
        "        \n",
        "        if entity == \"\":\n",
        "            return out_tags\n",
        "\n",
        "        b_idxs = []\n",
        "\n",
        "        # Fetch indices of B\n",
        "        for i, w in enumerate(txt_tok):\n",
        "            if w == entity_tok[0]:\n",
        "                b_idxs.append(i)\n",
        "\n",
        "        #print(b_idxs, txt_tok)\n",
        "\n",
        "        # if entity is just of 1 word, then tag Bs appropriately and exit\n",
        "        if len(entity_tok) == 1:\n",
        "            for b in b_idxs:\n",
        "                out_tags[b] = \"B\"\n",
        "            return out_tags\n",
        "\n",
        "        # ------- Tagging Is-----#\n",
        "        tags_idx = {}\n",
        "        for bidx in b_idxs:\n",
        "            # for each B as pivot, fetch it's corresponding Is\n",
        "            if (bidx < (len(txt_tok) - 1)):\n",
        "\n",
        "                counter = 0\n",
        "\n",
        "                while counter < (len(entity_tok) - 1):\n",
        "                    # loop till all words in entity have been iterated\n",
        "                    counter += 1\n",
        "\n",
        "                    if (bidx + counter > (len(txt_tok) - 1)):\n",
        "                        # exit if reached end of sentence before looping through all of entity words\n",
        "                        counter -= 1\n",
        "                        break\n",
        "                    if (txt_tok[bidx + counter] != entity_tok[counter]):\n",
        "                        # exit if any I word doesnt match\n",
        "                        counter -= 1\n",
        "                        # check for matching Is\n",
        "                        break;\n",
        "                if counter == (len(entity_tok) - 1):\n",
        "                    # if all I words match then counter should be equal to number of Is\n",
        "                    # if so, then add the indexes of Is to its corresponding B dict\n",
        "                    tags_idx[bidx] = [bidx + i for i in range(len(entity_tok))]\n",
        "\n",
        "        #print(tags_idx)\n",
        "        # now for every B-I index key val pairs, get BI tags\n",
        "        for b, i in tags_idx.items():\n",
        "            if len(i) > 1:\n",
        "                out_tags[b] = \"B\"\n",
        "                for ii in i[1:]:\n",
        "                    out_tags[ii] = \"I\"\n",
        "\n",
        "        return out_tags\n",
        "    \n",
        "    \n",
        "def get_replacement_label(label, label_list):\n",
        "    \n",
        "    cands = [x for x in label_list if x != label]\n",
        "    \n",
        "    return cands[random.randint(0, len(cands)-1)]\n",
        "\n",
        "def swap_labels(txt, label, replacement):\n",
        "    \n",
        "    return txt.replace(label, replacement)\n",
        "    \n",
        "    "
      ],
      "id": "f007a6b5",
      "execution_count": 13,
      "outputs": []
    },
    {
      "cell_type": "code",
      "metadata": {
        "id": "0d15e144"
      },
      "source": [
        "def tokenize_and_preserve_labels(sentence, text_labels):\n",
        "    \"\"\"\n",
        "    Handles Bert's sub word encoding\n",
        "    \"\"\"\n",
        "    tokenized_sentence = []\n",
        "    labels = []\n",
        "\n",
        "    for word, label in zip(sentence, text_labels):\n",
        "\n",
        "        # Tokenize the word and count # of subwords the word is broken into\n",
        "        tokenized_word = tokenizer.tokenize(word)\n",
        "        n_subwords = len(tokenized_word)\n",
        "\n",
        "        # Add the tokenized word to the final tokenized word list\n",
        "        tokenized_sentence.extend(tokenized_word)\n",
        "\n",
        "        # Add the same label to the new list of labels `n_subwords` times\n",
        "        labels.extend([label] * n_subwords)\n",
        "\n",
        "    return tokenized_sentence, labels\n"
      ],
      "id": "0d15e144",
      "execution_count": 14,
      "outputs": []
    },
    {
      "cell_type": "markdown",
      "metadata": {
        "id": "cc864f9d"
      },
      "source": [
        "### Data Prep"
      ],
      "id": "cc864f9d"
    },
    {
      "cell_type": "code",
      "metadata": {
        "scrolled": true,
        "colab": {
          "base_uri": "https://localhost:8080/",
          "height": 424
        },
        "id": "665401fc",
        "outputId": "4cfe6c47-0d80-4ad5-e524-e1ad157fa6e6"
      },
      "source": [
        "train[\"tags\"] = train.apply(lambda x: _tag_bio(x[\"sentence\"], x[\"restaurant_name\"]), axis=1)\n",
        "\n",
        "train"
      ],
      "id": "665401fc",
      "execution_count": 15,
      "outputs": [
        {
          "output_type": "execute_result",
          "data": {
            "text/html": [
              "<div>\n",
              "<style scoped>\n",
              "    .dataframe tbody tr th:only-of-type {\n",
              "        vertical-align: middle;\n",
              "    }\n",
              "\n",
              "    .dataframe tbody tr th {\n",
              "        vertical-align: top;\n",
              "    }\n",
              "\n",
              "    .dataframe thead th {\n",
              "        text-align: right;\n",
              "    }\n",
              "</style>\n",
              "<table border=\"1\" class=\"dataframe\">\n",
              "  <thead>\n",
              "    <tr style=\"text-align: right;\">\n",
              "      <th></th>\n",
              "      <th>sentence</th>\n",
              "      <th>restaurant_name</th>\n",
              "      <th>tags</th>\n",
              "    </tr>\n",
              "  </thead>\n",
              "  <tbody>\n",
              "    <tr>\n",
              "      <th>0</th>\n",
              "      <td>a four star restaurant with a bar</td>\n",
              "      <td></td>\n",
              "      <td>[O, O, O, O, O, O, O]</td>\n",
              "    </tr>\n",
              "    <tr>\n",
              "      <th>1</th>\n",
              "      <td>areas that allow smoking</td>\n",
              "      <td></td>\n",
              "      <td>[O, O, O, O]</td>\n",
              "    </tr>\n",
              "    <tr>\n",
              "      <th>2</th>\n",
              "      <td>any restaurants that still allow smoking</td>\n",
              "      <td></td>\n",
              "      <td>[O, O, O, O, O, O]</td>\n",
              "    </tr>\n",
              "    <tr>\n",
              "      <th>3</th>\n",
              "      <td>are there any restaurants for diabetics that s...</td>\n",
              "      <td></td>\n",
              "      <td>[O, O, O, O, O, O, O, O, O, O, O]</td>\n",
              "    </tr>\n",
              "    <tr>\n",
              "      <th>4</th>\n",
              "      <td>can you find east dedham pizzeria that have a ...</td>\n",
              "      <td>east</td>\n",
              "      <td>[O, O, O, B, O, O, O, O, O, O, O, O, O]</td>\n",
              "    </tr>\n",
              "    <tr>\n",
              "      <th>...</th>\n",
              "      <td>...</td>\n",
              "      <td>...</td>\n",
              "      <td>...</td>\n",
              "    </tr>\n",
              "    <tr>\n",
              "      <th>115</th>\n",
              "      <td>any mexican places have a tameles special today</td>\n",
              "      <td></td>\n",
              "      <td>[O, O, O, O, O, O, O, O]</td>\n",
              "    </tr>\n",
              "    <tr>\n",
              "      <th>116</th>\n",
              "      <td>do you know if elmos have a dress code</td>\n",
              "      <td>elmos</td>\n",
              "      <td>[O, O, O, O, B, O, O, O, O]</td>\n",
              "    </tr>\n",
              "    <tr>\n",
              "      <th>117</th>\n",
              "      <td>are there any chicken wing places nearby</td>\n",
              "      <td></td>\n",
              "      <td>[O, O, O, O, O, O, O]</td>\n",
              "    </tr>\n",
              "    <tr>\n",
              "      <th>118</th>\n",
              "      <td>are there any vietnamese restaurants nearby</td>\n",
              "      <td></td>\n",
              "      <td>[O, O, O, O, O, O]</td>\n",
              "    </tr>\n",
              "    <tr>\n",
              "      <th>119</th>\n",
              "      <td>are reservations available for four people for...</td>\n",
              "      <td>112 eatery</td>\n",
              "      <td>[O, O, O, O, O, O, O, O, O, O, O, B, I]</td>\n",
              "    </tr>\n",
              "  </tbody>\n",
              "</table>\n",
              "<p>120 rows × 3 columns</p>\n",
              "</div>"
            ],
            "text/plain": [
              "                                              sentence  ...                                     tags\n",
              "0                    a four star restaurant with a bar  ...                    [O, O, O, O, O, O, O]\n",
              "1                             areas that allow smoking  ...                             [O, O, O, O]\n",
              "2             any restaurants that still allow smoking  ...                       [O, O, O, O, O, O]\n",
              "3    are there any restaurants for diabetics that s...  ...        [O, O, O, O, O, O, O, O, O, O, O]\n",
              "4    can you find east dedham pizzeria that have a ...  ...  [O, O, O, B, O, O, O, O, O, O, O, O, O]\n",
              "..                                                 ...  ...                                      ...\n",
              "115    any mexican places have a tameles special today  ...                 [O, O, O, O, O, O, O, O]\n",
              "116             do you know if elmos have a dress code  ...              [O, O, O, O, B, O, O, O, O]\n",
              "117           are there any chicken wing places nearby  ...                    [O, O, O, O, O, O, O]\n",
              "118        are there any vietnamese restaurants nearby  ...                       [O, O, O, O, O, O]\n",
              "119  are reservations available for four people for...  ...  [O, O, O, O, O, O, O, O, O, O, O, B, I]\n",
              "\n",
              "[120 rows x 3 columns]"
            ]
          },
          "metadata": {},
          "execution_count": 15
        }
      ]
    },
    {
      "cell_type": "code",
      "metadata": {
        "colab": {
          "base_uri": "https://localhost:8080/",
          "height": 1000
        },
        "id": "8a164faf",
        "outputId": "67ce48a1-5687-4056-b0ea-d074bc4344c7"
      },
      "source": [
        "train_swap = train.loc[train.restaurant_name != \"\",:].copy()\n",
        "\n",
        "label_list = train_swap[\"restaurant_name\"].unique().tolist()\n",
        "\n",
        "train_swap[\"rep_label\"] = train_swap[\"restaurant_name\"].apply(lambda x: get_replacement_label(x, label_list))\n",
        "\n",
        "train_swap[\"sentence\"] = train_swap.apply(lambda x: swap_labels(x[\"sentence\"], x[\"restaurant_name\"], \n",
        "                                                                x[\"rep_label\"]) , axis = 1)\n",
        "\n",
        "train_swap[\"restaurant_name\"] = train_swap[\"rep_label\"]\n",
        "\n",
        "train_swap[\"tags\"] = train_swap.apply(lambda x: _tag_bio(x[\"sentence\"], x[\"restaurant_name\"]), axis=1)\n",
        "\n",
        "train_swap"
      ],
      "id": "8a164faf",
      "execution_count": 16,
      "outputs": [
        {
          "output_type": "execute_result",
          "data": {
            "text/html": [
              "<div>\n",
              "<style scoped>\n",
              "    .dataframe tbody tr th:only-of-type {\n",
              "        vertical-align: middle;\n",
              "    }\n",
              "\n",
              "    .dataframe tbody tr th {\n",
              "        vertical-align: top;\n",
              "    }\n",
              "\n",
              "    .dataframe thead th {\n",
              "        text-align: right;\n",
              "    }\n",
              "</style>\n",
              "<table border=\"1\" class=\"dataframe\">\n",
              "  <thead>\n",
              "    <tr style=\"text-align: right;\">\n",
              "      <th></th>\n",
              "      <th>sentence</th>\n",
              "      <th>restaurant_name</th>\n",
              "      <th>tags</th>\n",
              "      <th>rep_label</th>\n",
              "    </tr>\n",
              "  </thead>\n",
              "  <tbody>\n",
              "    <tr>\n",
              "      <th>4</th>\n",
              "      <td>can you find thursday dedham pizzeria that hav...</td>\n",
              "      <td>thursday</td>\n",
              "      <td>[O, O, O, B, O, O, O, O, O, O, O, O, O]</td>\n",
              "      <td>thursday</td>\n",
              "    </tr>\n",
              "    <tr>\n",
              "      <th>6</th>\n",
              "      <td>can you tell me where the nearest east is</td>\n",
              "      <td>east</td>\n",
              "      <td>[O, O, O, O, O, O, O, B, O]</td>\n",
              "      <td>east</td>\n",
              "    </tr>\n",
              "    <tr>\n",
              "      <th>14</th>\n",
              "      <td>do you think pf changs has fabulous service</td>\n",
              "      <td>pf changs</td>\n",
              "      <td>[O, O, O, B, I, O, O, O]</td>\n",
              "      <td>pf changs</td>\n",
              "    </tr>\n",
              "    <tr>\n",
              "      <th>17</th>\n",
              "      <td>can i get hambers at maid cafe</td>\n",
              "      <td>maid cafe</td>\n",
              "      <td>[O, O, O, O, O, B, I]</td>\n",
              "      <td>maid cafe</td>\n",
              "    </tr>\n",
              "    <tr>\n",
              "      <th>19</th>\n",
              "      <td>do you know if there are any reviews on thursday</td>\n",
              "      <td>thursday</td>\n",
              "      <td>[O, O, O, O, O, O, O, O, O, B]</td>\n",
              "      <td>thursday</td>\n",
              "    </tr>\n",
              "    <tr>\n",
              "      <th>24</th>\n",
              "      <td>are there reservations still available for chi...</td>\n",
              "      <td>chick fil as</td>\n",
              "      <td>[O, O, O, O, O, O, B, I, I, O, O, O, O, O, O]</td>\n",
              "      <td>chick fil as</td>\n",
              "    </tr>\n",
              "    <tr>\n",
              "      <th>26</th>\n",
              "      <td>are there any bradford lantern cafe in the cit...</td>\n",
              "      <td>bradford lantern cafe</td>\n",
              "      <td>[O, O, O, B, I, I, O, O, O, O, O, O]</td>\n",
              "      <td>bradford lantern cafe</td>\n",
              "    </tr>\n",
              "    <tr>\n",
              "      <th>27</th>\n",
              "      <td>do i need a reservation for barat a nossa casa</td>\n",
              "      <td>barat a nossa casa</td>\n",
              "      <td>[O, O, O, O, O, O, B, I, I, I]</td>\n",
              "      <td>barat a nossa casa</td>\n",
              "    </tr>\n",
              "    <tr>\n",
              "      <th>35</th>\n",
              "      <td>are there any tin whistle within 5 minutes dri...</td>\n",
              "      <td>tin whistle</td>\n",
              "      <td>[O, O, O, B, I, O, O, O, O, O, O, O, O, O, O]</td>\n",
              "      <td>tin whistle</td>\n",
              "    </tr>\n",
              "    <tr>\n",
              "      <th>37</th>\n",
              "      <td>are there any waterfront in town</td>\n",
              "      <td>waterfront</td>\n",
              "      <td>[O, O, O, B, O, O]</td>\n",
              "      <td>waterfront</td>\n",
              "    </tr>\n",
              "    <tr>\n",
              "      <th>39</th>\n",
              "      <td>can you make a reservation at buffalo wild win...</td>\n",
              "      <td>buffalo wild wings</td>\n",
              "      <td>[O, O, O, O, O, O, B, I, I, O, O]</td>\n",
              "      <td>buffalo wild wings</td>\n",
              "    </tr>\n",
              "    <tr>\n",
              "      <th>43</th>\n",
              "      <td>can you find out if the bellinis has dancing a...</td>\n",
              "      <td>bellinis</td>\n",
              "      <td>[O, O, O, O, O, O, B, O, O, O, O, O, O, O]</td>\n",
              "      <td>bellinis</td>\n",
              "    </tr>\n",
              "    <tr>\n",
              "      <th>44</th>\n",
              "      <td>can i have the phone number for purple cactus ...</td>\n",
              "      <td>purple cactus burrito and wrap bar</td>\n",
              "      <td>[O, O, O, O, O, O, O, B, I, I, I, I, I, O, O, ...</td>\n",
              "      <td>purple cactus burrito and wrap bar</td>\n",
              "    </tr>\n",
              "    <tr>\n",
              "      <th>45</th>\n",
              "      <td>dining along the long john silvers restaurant ...</td>\n",
              "      <td>long john silvers</td>\n",
              "      <td>[O, O, O, B, I, I, O, O, O, O, O, O]</td>\n",
              "      <td>long john silvers</td>\n",
              "    </tr>\n",
              "    <tr>\n",
              "      <th>46</th>\n",
              "      <td>can you please find the purple cactus burrito ...</td>\n",
              "      <td>purple cactus burrito and wrap bar</td>\n",
              "      <td>[O, O, O, O, O, B, I, I, I, I, I, O, O, O]</td>\n",
              "      <td>purple cactus burrito and wrap bar</td>\n",
              "    </tr>\n",
              "    <tr>\n",
              "      <th>51</th>\n",
              "      <td>can you give me the wendys of the restaurant o...</td>\n",
              "      <td>wendys</td>\n",
              "      <td>[O, O, O, O, O, B, O, O, O, O, O, O]</td>\n",
              "      <td>wendys</td>\n",
              "    </tr>\n",
              "    <tr>\n",
              "      <th>52</th>\n",
              "      <td>are there any buffalo wild wings that i can dr...</td>\n",
              "      <td>buffalo wild wings</td>\n",
              "      <td>[O, O, O, B, I, I, O, O, O, O, O, O, O, O]</td>\n",
              "      <td>buffalo wild wings</td>\n",
              "    </tr>\n",
              "    <tr>\n",
              "      <th>57</th>\n",
              "      <td>can you find me a taco bell thats not too busy</td>\n",
              "      <td>taco bell</td>\n",
              "      <td>[O, O, O, O, O, B, I, O, O, O, O]</td>\n",
              "      <td>taco bell</td>\n",
              "    </tr>\n",
              "    <tr>\n",
              "      <th>60</th>\n",
              "      <td>bradford lantern cafe home made dinners</td>\n",
              "      <td>bradford lantern cafe</td>\n",
              "      <td>[B, I, I, O, O, O]</td>\n",
              "      <td>bradford lantern cafe</td>\n",
              "    </tr>\n",
              "    <tr>\n",
              "      <th>61</th>\n",
              "      <td>call bellinis</td>\n",
              "      <td>bellinis</td>\n",
              "      <td>[O, B]</td>\n",
              "      <td>bellinis</td>\n",
              "    </tr>\n",
              "    <tr>\n",
              "      <th>62</th>\n",
              "      <td>can i valet park at the roosevelts restaurant ...</td>\n",
              "      <td>roosevelts restaurant and sin</td>\n",
              "      <td>[O, O, O, O, O, O, B, I, I, I]</td>\n",
              "      <td>roosevelts restaurant and sin</td>\n",
              "    </tr>\n",
              "    <tr>\n",
              "      <th>63</th>\n",
              "      <td>can i dine at the tin whistle</td>\n",
              "      <td>tin whistle</td>\n",
              "      <td>[O, O, O, O, O, B, I]</td>\n",
              "      <td>tin whistle</td>\n",
              "    </tr>\n",
              "    <tr>\n",
              "      <th>68</th>\n",
              "      <td>can you find kings thats hard to find with a h...</td>\n",
              "      <td>kings</td>\n",
              "      <td>[O, O, O, B, O, O, O, O, O, O, O, O]</td>\n",
              "      <td>kings</td>\n",
              "    </tr>\n",
              "    <tr>\n",
              "      <th>76</th>\n",
              "      <td>can you tell me where the closest purple cactu...</td>\n",
              "      <td>purple cactus burrito and wrap bar</td>\n",
              "      <td>[O, O, O, O, O, O, O, B, I, I, I, I, I, O]</td>\n",
              "      <td>purple cactus burrito and wrap bar</td>\n",
              "    </tr>\n",
              "    <tr>\n",
              "      <th>77</th>\n",
              "      <td>does caribe do takeout orders</td>\n",
              "      <td>caribe</td>\n",
              "      <td>[O, B, O, O, O]</td>\n",
              "      <td>caribe</td>\n",
              "    </tr>\n",
              "    <tr>\n",
              "      <th>79</th>\n",
              "      <td>can you find me lone star with comfort food</td>\n",
              "      <td>lone star</td>\n",
              "      <td>[O, O, O, O, B, I, O, O, O]</td>\n",
              "      <td>lone star</td>\n",
              "    </tr>\n",
              "    <tr>\n",
              "      <th>83</th>\n",
              "      <td>does donut and donuts have a smoking area</td>\n",
              "      <td>donut and donuts</td>\n",
              "      <td>[O, B, I, I, O, O, O, O]</td>\n",
              "      <td>donut and donuts</td>\n",
              "    </tr>\n",
              "    <tr>\n",
              "      <th>84</th>\n",
              "      <td>can you help me find a mcdonalds that serves s...</td>\n",
              "      <td>mcdonalds</td>\n",
              "      <td>[O, O, O, O, O, O, B, O, O, O, O]</td>\n",
              "      <td>mcdonalds</td>\n",
              "    </tr>\n",
              "    <tr>\n",
              "      <th>90</th>\n",
              "      <td>direct me to the nearest barat a nossa casa</td>\n",
              "      <td>barat a nossa casa</td>\n",
              "      <td>[O, O, O, O, O, B, I, I, I]</td>\n",
              "      <td>barat a nossa casa</td>\n",
              "    </tr>\n",
              "    <tr>\n",
              "      <th>93</th>\n",
              "      <td>are the portion at blue coyote grill large or ...</td>\n",
              "      <td>blue coyote grill</td>\n",
              "      <td>[O, O, O, O, B, I, I, O, O, O, O]</td>\n",
              "      <td>blue coyote grill</td>\n",
              "    </tr>\n",
              "    <tr>\n",
              "      <th>94</th>\n",
              "      <td>can you make me a reservation for todai for ea...</td>\n",
              "      <td>east</td>\n",
              "      <td>[O, O, O, O, O, O, O, O, O, B, O, O, O]</td>\n",
              "      <td>east</td>\n",
              "    </tr>\n",
              "    <tr>\n",
              "      <th>97</th>\n",
              "      <td>does fredas have a dress code</td>\n",
              "      <td>fredas</td>\n",
              "      <td>[O, B, O, O, O, O]</td>\n",
              "      <td>fredas</td>\n",
              "    </tr>\n",
              "    <tr>\n",
              "      <th>101</th>\n",
              "      <td>can you take me to bellinis in framingham</td>\n",
              "      <td>bellinis</td>\n",
              "      <td>[O, O, O, O, O, B, O, O]</td>\n",
              "      <td>bellinis</td>\n",
              "    </tr>\n",
              "    <tr>\n",
              "      <th>104</th>\n",
              "      <td>can you find a highly rated angels open this late</td>\n",
              "      <td>angels</td>\n",
              "      <td>[O, O, O, O, O, O, B, O, O, O]</td>\n",
              "      <td>angels</td>\n",
              "    </tr>\n",
              "    <tr>\n",
              "      <th>106</th>\n",
              "      <td>donut and donuts directions</td>\n",
              "      <td>donut and donuts</td>\n",
              "      <td>[B, I, I, O]</td>\n",
              "      <td>donut and donuts</td>\n",
              "    </tr>\n",
              "    <tr>\n",
              "      <th>107</th>\n",
              "      <td>does name have any outdoor parking</td>\n",
              "      <td>name</td>\n",
              "      <td>[O, B, O, O, O, O]</td>\n",
              "      <td>name</td>\n",
              "    </tr>\n",
              "    <tr>\n",
              "      <th>112</th>\n",
              "      <td>do you know if the danny cooks ongreentree lan...</td>\n",
              "      <td>danny cooks</td>\n",
              "      <td>[O, O, O, O, O, B, I, O, O, O, O]</td>\n",
              "      <td>danny cooks</td>\n",
              "    </tr>\n",
              "    <tr>\n",
              "      <th>114</th>\n",
              "      <td>do you have to make a reservation to go to wendys</td>\n",
              "      <td>wendys</td>\n",
              "      <td>[O, O, O, O, O, O, O, O, O, O, B]</td>\n",
              "      <td>wendys</td>\n",
              "    </tr>\n",
              "    <tr>\n",
              "      <th>116</th>\n",
              "      <td>do you know if dominos have a dress code</td>\n",
              "      <td>dominos</td>\n",
              "      <td>[O, O, O, O, B, O, O, O, O]</td>\n",
              "      <td>dominos</td>\n",
              "    </tr>\n",
              "    <tr>\n",
              "      <th>119</th>\n",
              "      <td>are reservations available for four people for...</td>\n",
              "      <td>barat a nossa casa</td>\n",
              "      <td>[O, O, O, O, O, O, O, O, O, O, O, B, I, I, I]</td>\n",
              "      <td>barat a nossa casa</td>\n",
              "    </tr>\n",
              "  </tbody>\n",
              "</table>\n",
              "</div>"
            ],
            "text/plain": [
              "                                              sentence  ...                           rep_label\n",
              "4    can you find thursday dedham pizzeria that hav...  ...                            thursday\n",
              "6            can you tell me where the nearest east is  ...                                east\n",
              "14         do you think pf changs has fabulous service  ...                           pf changs\n",
              "17                      can i get hambers at maid cafe  ...                           maid cafe\n",
              "19    do you know if there are any reviews on thursday  ...                            thursday\n",
              "24   are there reservations still available for chi...  ...                        chick fil as\n",
              "26   are there any bradford lantern cafe in the cit...  ...               bradford lantern cafe\n",
              "27      do i need a reservation for barat a nossa casa  ...                  barat a nossa casa\n",
              "35   are there any tin whistle within 5 minutes dri...  ...                         tin whistle\n",
              "37                    are there any waterfront in town  ...                          waterfront\n",
              "39   can you make a reservation at buffalo wild win...  ...                  buffalo wild wings\n",
              "43   can you find out if the bellinis has dancing a...  ...                            bellinis\n",
              "44   can i have the phone number for purple cactus ...  ...  purple cactus burrito and wrap bar\n",
              "45   dining along the long john silvers restaurant ...  ...                   long john silvers\n",
              "46   can you please find the purple cactus burrito ...  ...  purple cactus burrito and wrap bar\n",
              "51   can you give me the wendys of the restaurant o...  ...                              wendys\n",
              "52   are there any buffalo wild wings that i can dr...  ...                  buffalo wild wings\n",
              "57      can you find me a taco bell thats not too busy  ...                           taco bell\n",
              "60             bradford lantern cafe home made dinners  ...               bradford lantern cafe\n",
              "61                                       call bellinis  ...                            bellinis\n",
              "62   can i valet park at the roosevelts restaurant ...  ...       roosevelts restaurant and sin\n",
              "63                       can i dine at the tin whistle  ...                         tin whistle\n",
              "68   can you find kings thats hard to find with a h...  ...                               kings\n",
              "76   can you tell me where the closest purple cactu...  ...  purple cactus burrito and wrap bar\n",
              "77                       does caribe do takeout orders  ...                              caribe\n",
              "79         can you find me lone star with comfort food  ...                           lone star\n",
              "83           does donut and donuts have a smoking area  ...                    donut and donuts\n",
              "84   can you help me find a mcdonalds that serves s...  ...                           mcdonalds\n",
              "90         direct me to the nearest barat a nossa casa  ...                  barat a nossa casa\n",
              "93   are the portion at blue coyote grill large or ...  ...                   blue coyote grill\n",
              "94   can you make me a reservation for todai for ea...  ...                                east\n",
              "97                       does fredas have a dress code  ...                              fredas\n",
              "101          can you take me to bellinis in framingham  ...                            bellinis\n",
              "104  can you find a highly rated angels open this late  ...                              angels\n",
              "106                        donut and donuts directions  ...                    donut and donuts\n",
              "107                 does name have any outdoor parking  ...                                name\n",
              "112  do you know if the danny cooks ongreentree lan...  ...                         danny cooks\n",
              "114  do you have to make a reservation to go to wendys  ...                              wendys\n",
              "116           do you know if dominos have a dress code  ...                             dominos\n",
              "119  are reservations available for four people for...  ...                  barat a nossa casa\n",
              "\n",
              "[40 rows x 4 columns]"
            ]
          },
          "metadata": {},
          "execution_count": 16
        }
      ]
    },
    {
      "cell_type": "code",
      "metadata": {
        "colab": {
          "base_uri": "https://localhost:8080/",
          "height": 424
        },
        "id": "5f2b70a4",
        "outputId": "3a510dc5-cbc3-4233-e6a0-eb6f7dcd9e01"
      },
      "source": [
        "train = pd.concat([train, train_swap], axis = 0, ignore_index=True)\n",
        "\n",
        "train = train.sample(frac=1)\n",
        "\n",
        "train"
      ],
      "id": "5f2b70a4",
      "execution_count": 17,
      "outputs": [
        {
          "output_type": "execute_result",
          "data": {
            "text/html": [
              "<div>\n",
              "<style scoped>\n",
              "    .dataframe tbody tr th:only-of-type {\n",
              "        vertical-align: middle;\n",
              "    }\n",
              "\n",
              "    .dataframe tbody tr th {\n",
              "        vertical-align: top;\n",
              "    }\n",
              "\n",
              "    .dataframe thead th {\n",
              "        text-align: right;\n",
              "    }\n",
              "</style>\n",
              "<table border=\"1\" class=\"dataframe\">\n",
              "  <thead>\n",
              "    <tr style=\"text-align: right;\">\n",
              "      <th></th>\n",
              "      <th>sentence</th>\n",
              "      <th>restaurant_name</th>\n",
              "      <th>tags</th>\n",
              "      <th>rep_label</th>\n",
              "    </tr>\n",
              "  </thead>\n",
              "  <tbody>\n",
              "    <tr>\n",
              "      <th>62</th>\n",
              "      <td>can i valet park at the blue coyote grill</td>\n",
              "      <td>blue coyote grill</td>\n",
              "      <td>[O, O, O, O, O, O, B, I, I]</td>\n",
              "      <td>NaN</td>\n",
              "    </tr>\n",
              "    <tr>\n",
              "      <th>32</th>\n",
              "      <td>are there any greek restaurants in the theater...</td>\n",
              "      <td></td>\n",
              "      <td>[O, O, O, O, O, O, O, O, O, O, O, O, O]</td>\n",
              "      <td>NaN</td>\n",
              "    </tr>\n",
              "    <tr>\n",
              "      <th>119</th>\n",
              "      <td>are reservations available for four people for...</td>\n",
              "      <td>112 eatery</td>\n",
              "      <td>[O, O, O, O, O, O, O, O, O, O, O, B, I]</td>\n",
              "      <td>NaN</td>\n",
              "    </tr>\n",
              "    <tr>\n",
              "      <th>154</th>\n",
              "      <td>donut and donuts directions</td>\n",
              "      <td>donut and donuts</td>\n",
              "      <td>[B, I, I, O]</td>\n",
              "      <td>donut and donuts</td>\n",
              "    </tr>\n",
              "    <tr>\n",
              "      <th>7</th>\n",
              "      <td>are there any place close by that is open 24 h...</td>\n",
              "      <td></td>\n",
              "      <td>[O, O, O, O, O, O, O, O, O, O, O]</td>\n",
              "      <td>NaN</td>\n",
              "    </tr>\n",
              "    <tr>\n",
              "      <th>...</th>\n",
              "      <td>...</td>\n",
              "      <td>...</td>\n",
              "      <td>...</td>\n",
              "      <td>...</td>\n",
              "    </tr>\n",
              "    <tr>\n",
              "      <th>84</th>\n",
              "      <td>can you help me find a tong villa that serves ...</td>\n",
              "      <td>tong villa</td>\n",
              "      <td>[O, O, O, O, O, O, B, I, O, O, O, O]</td>\n",
              "      <td>NaN</td>\n",
              "    </tr>\n",
              "    <tr>\n",
              "      <th>147</th>\n",
              "      <td>can you help me find a mcdonalds that serves s...</td>\n",
              "      <td>mcdonalds</td>\n",
              "      <td>[O, O, O, O, O, O, B, O, O, O, O]</td>\n",
              "      <td>mcdonalds</td>\n",
              "    </tr>\n",
              "    <tr>\n",
              "      <th>66</th>\n",
              "      <td>are there any restaurants open after 2 am</td>\n",
              "      <td></td>\n",
              "      <td>[O, O, O, O, O, O, O, O]</td>\n",
              "      <td>NaN</td>\n",
              "    </tr>\n",
              "    <tr>\n",
              "      <th>8</th>\n",
              "      <td>burgers</td>\n",
              "      <td></td>\n",
              "      <td>[O]</td>\n",
              "      <td>NaN</td>\n",
              "    </tr>\n",
              "    <tr>\n",
              "      <th>87</th>\n",
              "      <td>are there any fast food joints east of here</td>\n",
              "      <td></td>\n",
              "      <td>[O, O, O, O, O, O, O, O, O]</td>\n",
              "      <td>NaN</td>\n",
              "    </tr>\n",
              "  </tbody>\n",
              "</table>\n",
              "<p>160 rows × 4 columns</p>\n",
              "</div>"
            ],
            "text/plain": [
              "                                              sentence  ...         rep_label\n",
              "62           can i valet park at the blue coyote grill  ...               NaN\n",
              "32   are there any greek restaurants in the theater...  ...               NaN\n",
              "119  are reservations available for four people for...  ...               NaN\n",
              "154                        donut and donuts directions  ...  donut and donuts\n",
              "7    are there any place close by that is open 24 h...  ...               NaN\n",
              "..                                                 ...  ...               ...\n",
              "84   can you help me find a tong villa that serves ...  ...               NaN\n",
              "147  can you help me find a mcdonalds that serves s...  ...         mcdonalds\n",
              "66           are there any restaurants open after 2 am  ...               NaN\n",
              "8                                              burgers  ...               NaN\n",
              "87         are there any fast food joints east of here  ...               NaN\n",
              "\n",
              "[160 rows x 4 columns]"
            ]
          },
          "metadata": {},
          "execution_count": 17
        }
      ]
    },
    {
      "cell_type": "code",
      "metadata": {
        "scrolled": true,
        "colab": {
          "base_uri": "https://localhost:8080/",
          "height": 990
        },
        "id": "c73d234f",
        "outputId": "5fc6d9c8-b15a-416a-ba84-ff09ca258f72"
      },
      "source": [
        "val[\"tags\"] = val.apply(lambda x: _tag_bio(x[\"sentence\"], x[\"restaurant_name\"]), axis=1)\n",
        "\n",
        "val"
      ],
      "id": "c73d234f",
      "execution_count": 18,
      "outputs": [
        {
          "output_type": "execute_result",
          "data": {
            "text/html": [
              "<div>\n",
              "<style scoped>\n",
              "    .dataframe tbody tr th:only-of-type {\n",
              "        vertical-align: middle;\n",
              "    }\n",
              "\n",
              "    .dataframe tbody tr th {\n",
              "        vertical-align: top;\n",
              "    }\n",
              "\n",
              "    .dataframe thead th {\n",
              "        text-align: right;\n",
              "    }\n",
              "</style>\n",
              "<table border=\"1\" class=\"dataframe\">\n",
              "  <thead>\n",
              "    <tr style=\"text-align: right;\">\n",
              "      <th></th>\n",
              "      <th>sentence</th>\n",
              "      <th>restaurant_name</th>\n",
              "      <th>tags</th>\n",
              "    </tr>\n",
              "  </thead>\n",
              "  <tbody>\n",
              "    <tr>\n",
              "      <th>0</th>\n",
              "      <td>are there any ice cream shops in my neighborho...</td>\n",
              "      <td></td>\n",
              "      <td>[O, O, O, O, O, O, O, O, O, O, O, O, O, O]</td>\n",
              "    </tr>\n",
              "    <tr>\n",
              "      <th>1</th>\n",
              "      <td>are there any restaurants within 5 miles that ...</td>\n",
              "      <td></td>\n",
              "      <td>[O, O, O, O, O, O, O, O, O, O, O]</td>\n",
              "    </tr>\n",
              "    <tr>\n",
              "      <th>2</th>\n",
              "      <td>are there any locally owned franchises that gi...</td>\n",
              "      <td></td>\n",
              "      <td>[O, O, O, O, O, O, O, O, O, O, O]</td>\n",
              "    </tr>\n",
              "    <tr>\n",
              "      <th>3</th>\n",
              "      <td>are there any restaurants that will let me tak...</td>\n",
              "      <td></td>\n",
              "      <td>[O, O, O, O, O, O, O, O, O, O, O, O, O, O]</td>\n",
              "    </tr>\n",
              "    <tr>\n",
              "      <th>4</th>\n",
              "      <td>are there any five star restaurants around here</td>\n",
              "      <td></td>\n",
              "      <td>[O, O, O, O, O, O, O, O]</td>\n",
              "    </tr>\n",
              "    <tr>\n",
              "      <th>5</th>\n",
              "      <td>do you think the noodle bar is open</td>\n",
              "      <td>noodle bar</td>\n",
              "      <td>[O, O, O, O, B, I, O, O]</td>\n",
              "    </tr>\n",
              "    <tr>\n",
              "      <th>6</th>\n",
              "      <td>are there any vegetarian restaurants in this town</td>\n",
              "      <td></td>\n",
              "      <td>[O, O, O, O, O, O, O, O]</td>\n",
              "    </tr>\n",
              "    <tr>\n",
              "      <th>7</th>\n",
              "      <td>any places around here that has a nice view</td>\n",
              "      <td></td>\n",
              "      <td>[O, O, O, O, O, O, O, O, O]</td>\n",
              "    </tr>\n",
              "    <tr>\n",
              "      <th>8</th>\n",
              "      <td>are there any jazz clubs that serve food</td>\n",
              "      <td></td>\n",
              "      <td>[O, O, O, O, O, O, O, O]</td>\n",
              "    </tr>\n",
              "    <tr>\n",
              "      <th>9</th>\n",
              "      <td>do any famous people frequent the jimmys pizza...</td>\n",
              "      <td>jimmys pizza</td>\n",
              "      <td>[O, O, O, O, O, O, B, I, O, O, O, O, O]</td>\n",
              "    </tr>\n",
              "    <tr>\n",
              "      <th>10</th>\n",
              "      <td>are there any dining specials at le bec fin</td>\n",
              "      <td>le bec fin</td>\n",
              "      <td>[O, O, O, O, O, O, B, I, I]</td>\n",
              "    </tr>\n",
              "    <tr>\n",
              "      <th>11</th>\n",
              "      <td>are there any seafood restaurants near governm...</td>\n",
              "      <td></td>\n",
              "      <td>[O, O, O, O, O, O, O, O, O, O, O, O, O, O]</td>\n",
              "    </tr>\n",
              "    <tr>\n",
              "      <th>12</th>\n",
              "      <td>are there any places near by that sell hamburg...</td>\n",
              "      <td></td>\n",
              "      <td>[O, O, O, O, O, O, O, O, O, O, O]</td>\n",
              "    </tr>\n",
              "    <tr>\n",
              "      <th>13</th>\n",
              "      <td>are there any restaurants nearby that have out...</td>\n",
              "      <td></td>\n",
              "      <td>[O, O, O, O, O, O, O, O, O]</td>\n",
              "    </tr>\n",
              "    <tr>\n",
              "      <th>14</th>\n",
              "      <td>can you find the waterfront restaurant alberto...</td>\n",
              "      <td>albertos deli</td>\n",
              "      <td>[O, O, O, O, O, O, B, I, O, O, O, O, O, O, O]</td>\n",
              "    </tr>\n",
              "    <tr>\n",
              "      <th>15</th>\n",
              "      <td>do you know if reggianos serve breakfast</td>\n",
              "      <td>reggianos</td>\n",
              "      <td>[O, O, O, O, B, O, O]</td>\n",
              "    </tr>\n",
              "    <tr>\n",
              "      <th>16</th>\n",
              "      <td>are there any vegetarian restaurants that allo...</td>\n",
              "      <td></td>\n",
              "      <td>[O, O, O, O, O, O, O, O, O, O, O, O, O, O]</td>\n",
              "    </tr>\n",
              "    <tr>\n",
              "      <th>17</th>\n",
              "      <td>can you make reservations for two at heartland...</td>\n",
              "      <td>heartland restaurant</td>\n",
              "      <td>[O, O, O, O, O, O, O, B, I, O, O, O, O, O]</td>\n",
              "    </tr>\n",
              "    <tr>\n",
              "      <th>18</th>\n",
              "      <td>are there any greek restaurants in the area</td>\n",
              "      <td></td>\n",
              "      <td>[O, O, O, O, O, O, O, O]</td>\n",
              "    </tr>\n",
              "    <tr>\n",
              "      <th>19</th>\n",
              "      <td>are there any vegan spots that are open after ...</td>\n",
              "      <td></td>\n",
              "      <td>[O, O, O, O, O, O, O, O, O, O, O, O]</td>\n",
              "    </tr>\n",
              "    <tr>\n",
              "      <th>20</th>\n",
              "      <td>can you find the closest ihop</td>\n",
              "      <td>ihop</td>\n",
              "      <td>[O, O, O, O, O, B]</td>\n",
              "    </tr>\n",
              "    <tr>\n",
              "      <th>21</th>\n",
              "      <td>call cheeseboard in berkeley for me</td>\n",
              "      <td>cheeseboard</td>\n",
              "      <td>[O, B, O, O, O, O]</td>\n",
              "    </tr>\n",
              "    <tr>\n",
              "      <th>22</th>\n",
              "      <td>does burger king accept credit cards</td>\n",
              "      <td>burger king</td>\n",
              "      <td>[O, B, I, O, O, O]</td>\n",
              "    </tr>\n",
              "    <tr>\n",
              "      <th>23</th>\n",
              "      <td>beer and hot wings in town</td>\n",
              "      <td></td>\n",
              "      <td>[O, O, O, O, O, O]</td>\n",
              "    </tr>\n",
              "    <tr>\n",
              "      <th>24</th>\n",
              "      <td>are there any restaurants with valet parking a...</td>\n",
              "      <td></td>\n",
              "      <td>[O, O, O, O, O, O, O, O, O, O, O, O, O]</td>\n",
              "    </tr>\n",
              "    <tr>\n",
              "      <th>25</th>\n",
              "      <td>any bbq places open before 5 nearby</td>\n",
              "      <td></td>\n",
              "      <td>[O, O, O, O, O, O, O]</td>\n",
              "    </tr>\n",
              "    <tr>\n",
              "      <th>26</th>\n",
              "      <td>are there are any cracker barrells on long island</td>\n",
              "      <td>cracker barrells</td>\n",
              "      <td>[O, O, O, O, B, I, O, O, O]</td>\n",
              "    </tr>\n",
              "    <tr>\n",
              "      <th>27</th>\n",
              "      <td>best chinese food in the area</td>\n",
              "      <td></td>\n",
              "      <td>[O, O, O, O, O, O]</td>\n",
              "    </tr>\n",
              "    <tr>\n",
              "      <th>28</th>\n",
              "      <td>any good vegan spots nearby</td>\n",
              "      <td></td>\n",
              "      <td>[O, O, O, O, O]</td>\n",
              "    </tr>\n",
              "    <tr>\n",
              "      <th>29</th>\n",
              "      <td>are there any places near by that serve lunch ...</td>\n",
              "      <td></td>\n",
              "      <td>[O, O, O, O, O, O, O, O, O, O, O]</td>\n",
              "    </tr>\n",
              "  </tbody>\n",
              "</table>\n",
              "</div>"
            ],
            "text/plain": [
              "                                             sentence  ...                                           tags\n",
              "0   are there any ice cream shops in my neighborho...  ...     [O, O, O, O, O, O, O, O, O, O, O, O, O, O]\n",
              "1   are there any restaurants within 5 miles that ...  ...              [O, O, O, O, O, O, O, O, O, O, O]\n",
              "2   are there any locally owned franchises that gi...  ...              [O, O, O, O, O, O, O, O, O, O, O]\n",
              "3   are there any restaurants that will let me tak...  ...     [O, O, O, O, O, O, O, O, O, O, O, O, O, O]\n",
              "4     are there any five star restaurants around here  ...                       [O, O, O, O, O, O, O, O]\n",
              "5                 do you think the noodle bar is open  ...                       [O, O, O, O, B, I, O, O]\n",
              "6   are there any vegetarian restaurants in this town  ...                       [O, O, O, O, O, O, O, O]\n",
              "7         any places around here that has a nice view  ...                    [O, O, O, O, O, O, O, O, O]\n",
              "8            are there any jazz clubs that serve food  ...                       [O, O, O, O, O, O, O, O]\n",
              "9   do any famous people frequent the jimmys pizza...  ...        [O, O, O, O, O, O, B, I, O, O, O, O, O]\n",
              "10        are there any dining specials at le bec fin  ...                    [O, O, O, O, O, O, B, I, I]\n",
              "11  are there any seafood restaurants near governm...  ...     [O, O, O, O, O, O, O, O, O, O, O, O, O, O]\n",
              "12  are there any places near by that sell hamburg...  ...              [O, O, O, O, O, O, O, O, O, O, O]\n",
              "13  are there any restaurants nearby that have out...  ...                    [O, O, O, O, O, O, O, O, O]\n",
              "14  can you find the waterfront restaurant alberto...  ...  [O, O, O, O, O, O, B, I, O, O, O, O, O, O, O]\n",
              "15           do you know if reggianos serve breakfast  ...                          [O, O, O, O, B, O, O]\n",
              "16  are there any vegetarian restaurants that allo...  ...     [O, O, O, O, O, O, O, O, O, O, O, O, O, O]\n",
              "17  can you make reservations for two at heartland...  ...     [O, O, O, O, O, O, O, B, I, O, O, O, O, O]\n",
              "18        are there any greek restaurants in the area  ...                       [O, O, O, O, O, O, O, O]\n",
              "19  are there any vegan spots that are open after ...  ...           [O, O, O, O, O, O, O, O, O, O, O, O]\n",
              "20                      can you find the closest ihop  ...                             [O, O, O, O, O, B]\n",
              "21                call cheeseboard in berkeley for me  ...                             [O, B, O, O, O, O]\n",
              "22               does burger king accept credit cards  ...                             [O, B, I, O, O, O]\n",
              "23                         beer and hot wings in town  ...                             [O, O, O, O, O, O]\n",
              "24  are there any restaurants with valet parking a...  ...        [O, O, O, O, O, O, O, O, O, O, O, O, O]\n",
              "25                any bbq places open before 5 nearby  ...                          [O, O, O, O, O, O, O]\n",
              "26  are there are any cracker barrells on long island  ...                    [O, O, O, O, B, I, O, O, O]\n",
              "27                      best chinese food in the area  ...                             [O, O, O, O, O, O]\n",
              "28                        any good vegan spots nearby  ...                                [O, O, O, O, O]\n",
              "29  are there any places near by that serve lunch ...  ...              [O, O, O, O, O, O, O, O, O, O, O]\n",
              "\n",
              "[30 rows x 3 columns]"
            ]
          },
          "metadata": {},
          "execution_count": 18
        }
      ]
    },
    {
      "cell_type": "code",
      "metadata": {
        "scrolled": true,
        "colab": {
          "base_uri": "https://localhost:8080/",
          "height": 424
        },
        "id": "6dceb8af",
        "outputId": "94d3e00b-41b6-4d48-ad09-c922d757325f"
      },
      "source": [
        "holdout[\"tags\"] = holdout.apply(lambda x: _tag_bio(x[\"sentence\"], x[\"restaurant_name\"]), axis=1)\n",
        "\n",
        "holdout"
      ],
      "id": "6dceb8af",
      "execution_count": 19,
      "outputs": [
        {
          "output_type": "execute_result",
          "data": {
            "text/html": [
              "<div>\n",
              "<style scoped>\n",
              "    .dataframe tbody tr th:only-of-type {\n",
              "        vertical-align: middle;\n",
              "    }\n",
              "\n",
              "    .dataframe tbody tr th {\n",
              "        vertical-align: top;\n",
              "    }\n",
              "\n",
              "    .dataframe thead th {\n",
              "        text-align: right;\n",
              "    }\n",
              "</style>\n",
              "<table border=\"1\" class=\"dataframe\">\n",
              "  <thead>\n",
              "    <tr style=\"text-align: right;\">\n",
              "      <th></th>\n",
              "      <th>sentence</th>\n",
              "      <th>restaurant_name</th>\n",
              "      <th>tags</th>\n",
              "    </tr>\n",
              "  </thead>\n",
              "  <tbody>\n",
              "    <tr>\n",
              "      <th>0</th>\n",
              "      <td>find pizza places</td>\n",
              "      <td></td>\n",
              "      <td>[O, O, O]</td>\n",
              "    </tr>\n",
              "    <tr>\n",
              "      <th>1</th>\n",
              "      <td>find me the best rated chinese restaurant in t...</td>\n",
              "      <td></td>\n",
              "      <td>[O, O, O, O, O, O, O, O, O, O, O]</td>\n",
              "    </tr>\n",
              "    <tr>\n",
              "      <th>2</th>\n",
              "      <td>what kind of food does abc cafe serve</td>\n",
              "      <td>abc cafe</td>\n",
              "      <td>[O, O, O, O, O, B, I, O]</td>\n",
              "    </tr>\n",
              "    <tr>\n",
              "      <th>3</th>\n",
              "      <td>how far away is the nearest steak house</td>\n",
              "      <td></td>\n",
              "      <td>[O, O, O, O, O, O, O, O]</td>\n",
              "    </tr>\n",
              "    <tr>\n",
              "      <th>4</th>\n",
              "      <td>i am looking for a mexican restuarant that has...</td>\n",
              "      <td></td>\n",
              "      <td>[O, O, O, O, O, O, O, O, O, O, O, O]</td>\n",
              "    </tr>\n",
              "    <tr>\n",
              "      <th>...</th>\n",
              "      <td>...</td>\n",
              "      <td>...</td>\n",
              "      <td>...</td>\n",
              "    </tr>\n",
              "    <tr>\n",
              "      <th>145</th>\n",
              "      <td>find me brazilian food with on location parking</td>\n",
              "      <td></td>\n",
              "      <td>[O, O, O, O, O, O, O, O]</td>\n",
              "    </tr>\n",
              "    <tr>\n",
              "      <th>146</th>\n",
              "      <td>get me to a mexican place</td>\n",
              "      <td></td>\n",
              "      <td>[O, O, O, O, O, O]</td>\n",
              "    </tr>\n",
              "    <tr>\n",
              "      <th>147</th>\n",
              "      <td>how far am i from the nearest bagel shop</td>\n",
              "      <td></td>\n",
              "      <td>[O, O, O, O, O, O, O, O, O]</td>\n",
              "    </tr>\n",
              "    <tr>\n",
              "      <th>148</th>\n",
              "      <td>what time does sonic open</td>\n",
              "      <td>sonic</td>\n",
              "      <td>[O, O, O, B, O]</td>\n",
              "    </tr>\n",
              "    <tr>\n",
              "      <th>149</th>\n",
              "      <td>give me a list of restaurants that have seafoo...</td>\n",
              "      <td></td>\n",
              "      <td>[O, O, O, O, O, O, O, O, O, O, O, O]</td>\n",
              "    </tr>\n",
              "  </tbody>\n",
              "</table>\n",
              "<p>150 rows × 3 columns</p>\n",
              "</div>"
            ],
            "text/plain": [
              "                                              sentence  ...                                  tags\n",
              "0                                    find pizza places  ...                             [O, O, O]\n",
              "1    find me the best rated chinese restaurant in t...  ...     [O, O, O, O, O, O, O, O, O, O, O]\n",
              "2                what kind of food does abc cafe serve  ...              [O, O, O, O, O, B, I, O]\n",
              "3              how far away is the nearest steak house  ...              [O, O, O, O, O, O, O, O]\n",
              "4    i am looking for a mexican restuarant that has...  ...  [O, O, O, O, O, O, O, O, O, O, O, O]\n",
              "..                                                 ...  ...                                   ...\n",
              "145    find me brazilian food with on location parking  ...              [O, O, O, O, O, O, O, O]\n",
              "146                          get me to a mexican place  ...                    [O, O, O, O, O, O]\n",
              "147           how far am i from the nearest bagel shop  ...           [O, O, O, O, O, O, O, O, O]\n",
              "148                          what time does sonic open  ...                       [O, O, O, B, O]\n",
              "149  give me a list of restaurants that have seafoo...  ...  [O, O, O, O, O, O, O, O, O, O, O, O]\n",
              "\n",
              "[150 rows x 3 columns]"
            ]
          },
          "metadata": {},
          "execution_count": 19
        }
      ]
    },
    {
      "cell_type": "markdown",
      "metadata": {
        "id": "d650a3ec"
      },
      "source": [
        "### Create data loaders"
      ],
      "id": "d650a3ec"
    },
    {
      "cell_type": "code",
      "metadata": {
        "scrolled": false,
        "colab": {
          "base_uri": "https://localhost:8080/"
        },
        "id": "1eb6c632",
        "outputId": "847afa26-dbfd-4dbf-bcde-95ab6a2b293a"
      },
      "source": [
        "train.tags.apply(len).max()"
      ],
      "id": "1eb6c632",
      "execution_count": 20,
      "outputs": [
        {
          "output_type": "execute_result",
          "data": {
            "text/plain": [
              "17"
            ]
          },
          "metadata": {},
          "execution_count": 20
        }
      ]
    },
    {
      "cell_type": "code",
      "metadata": {
        "id": "b9055621"
      },
      "source": [
        "train_sents = train[\"sentence\"].apply(lambda x: x.split()).tolist()\n",
        "\n",
        "train_labels = train[\"tags\"].tolist()\n",
        "\n",
        "val_sents = val[\"sentence\"].apply(lambda x: x.split()).tolist()\n",
        "\n",
        "val_labels = val[\"tags\"].tolist()\n",
        "\n",
        "holdout_sents = holdout[\"sentence\"].apply(lambda x: x.split()).tolist()\n",
        "\n",
        "holdout_labels = holdout[\"tags\"].tolist()\n"
      ],
      "id": "b9055621",
      "execution_count": 21,
      "outputs": []
    },
    {
      "cell_type": "code",
      "metadata": {
        "id": "100e35c9"
      },
      "source": [
        "train_tokenized_texts_and_labels = [\n",
        "    tokenize_and_preserve_labels(sent, labs)\n",
        "    for sent, labs in zip(train_sents, train_labels)\n",
        "]\n"
      ],
      "id": "100e35c9",
      "execution_count": 22,
      "outputs": []
    },
    {
      "cell_type": "code",
      "metadata": {
        "id": "5ac8e7f6"
      },
      "source": [
        "val_tokenized_texts_and_labels = [\n",
        "    tokenize_and_preserve_labels(sent, labs)\n",
        "    for sent, labs in zip(val_sents, val_labels)\n",
        "]\n"
      ],
      "id": "5ac8e7f6",
      "execution_count": 23,
      "outputs": []
    },
    {
      "cell_type": "code",
      "metadata": {
        "id": "6ed9eec8"
      },
      "source": [
        "holdout_tokenized_texts_and_labels = [\n",
        "    tokenize_and_preserve_labels(sent, labs)\n",
        "    for sent, labs in zip(holdout_sents, holdout_labels)\n",
        "]\n"
      ],
      "id": "6ed9eec8",
      "execution_count": 24,
      "outputs": []
    },
    {
      "cell_type": "code",
      "metadata": {
        "id": "4d67bd38"
      },
      "source": [
        "train_tokenized_texts = [token_label_pair[0] for token_label_pair in train_tokenized_texts_and_labels]\n",
        "\n",
        "train_labels = [token_label_pair[1] for token_label_pair in train_tokenized_texts_and_labels]"
      ],
      "id": "4d67bd38",
      "execution_count": 25,
      "outputs": []
    },
    {
      "cell_type": "code",
      "metadata": {
        "id": "8182ea07"
      },
      "source": [
        "val_tokenized_texts = [token_label_pair[0] for token_label_pair in val_tokenized_texts_and_labels]\n",
        "\n",
        "val_labels = [token_label_pair[1] for token_label_pair in val_tokenized_texts_and_labels]"
      ],
      "id": "8182ea07",
      "execution_count": 26,
      "outputs": []
    },
    {
      "cell_type": "code",
      "metadata": {
        "id": "5735156d"
      },
      "source": [
        "holdout_tokenized_texts = [token_label_pair[0] for token_label_pair in holdout_tokenized_texts_and_labels]\n",
        "\n",
        "holdout_labels = [token_label_pair[1] for token_label_pair in holdout_tokenized_texts_and_labels]"
      ],
      "id": "5735156d",
      "execution_count": 27,
      "outputs": []
    },
    {
      "cell_type": "code",
      "metadata": {
        "id": "af51c5b1"
      },
      "source": [
        "input_ids_train = pad_sequences([tokenizer.convert_tokens_to_ids(txt) for txt in train_tokenized_texts],\n",
        "                          maxlen=MAX_LEN, dtype=\"long\", value=0.0,\n",
        "                          truncating=\"post\", padding=\"post\")"
      ],
      "id": "af51c5b1",
      "execution_count": 28,
      "outputs": []
    },
    {
      "cell_type": "code",
      "metadata": {
        "id": "6665bf5d"
      },
      "source": [
        "input_ids_val = pad_sequences([tokenizer.convert_tokens_to_ids(txt) for txt in val_tokenized_texts],\n",
        "                          maxlen=MAX_LEN, dtype=\"long\", value=0.0,\n",
        "                          truncating=\"post\", padding=\"post\")"
      ],
      "id": "6665bf5d",
      "execution_count": 29,
      "outputs": []
    },
    {
      "cell_type": "code",
      "metadata": {
        "id": "f9ee8f3d"
      },
      "source": [
        "input_ids_holdout = pad_sequences([tokenizer.convert_tokens_to_ids(txt) for txt in holdout_tokenized_texts],\n",
        "                          maxlen=MAX_LEN, dtype=\"long\", value=0.0,\n",
        "                          truncating=\"post\", padding=\"post\")"
      ],
      "id": "f9ee8f3d",
      "execution_count": 30,
      "outputs": []
    },
    {
      "cell_type": "code",
      "metadata": {
        "colab": {
          "base_uri": "https://localhost:8080/"
        },
        "id": "14181f2d",
        "outputId": "633f7b24-40a3-4df6-b48e-57c534aa0cc9"
      },
      "source": [
        "tag_values = [\"B\", \"I\", \"O\", \"PAD\"]\n",
        "\n",
        "tag2idx = {t: i for i, t in enumerate(tag_values)}\n",
        "\n",
        "tag2idx"
      ],
      "id": "14181f2d",
      "execution_count": 31,
      "outputs": [
        {
          "output_type": "execute_result",
          "data": {
            "text/plain": [
              "{'B': 0, 'I': 1, 'O': 2, 'PAD': 3}"
            ]
          },
          "metadata": {},
          "execution_count": 31
        }
      ]
    },
    {
      "cell_type": "code",
      "metadata": {
        "id": "327f5a65"
      },
      "source": [
        "train_tags = pad_sequences([[tag2idx.get(l) for l in lab] for lab in train_labels],\n",
        "                     maxlen=MAX_LEN, value=tag2idx[\"PAD\"], padding=\"post\",\n",
        "                     dtype=\"long\", truncating=\"post\")"
      ],
      "id": "327f5a65",
      "execution_count": 32,
      "outputs": []
    },
    {
      "cell_type": "code",
      "metadata": {
        "id": "18f392b9"
      },
      "source": [
        "val_tags = pad_sequences([[tag2idx.get(l) for l in lab] for lab in val_labels],\n",
        "                     maxlen=MAX_LEN, value=tag2idx[\"PAD\"], padding=\"post\",\n",
        "                     dtype=\"long\", truncating=\"post\")"
      ],
      "id": "18f392b9",
      "execution_count": 33,
      "outputs": []
    },
    {
      "cell_type": "code",
      "metadata": {
        "id": "d1657e50"
      },
      "source": [
        "holdout_tags = pad_sequences([[tag2idx.get(l) for l in lab] for lab in holdout_labels],\n",
        "                     maxlen=MAX_LEN, value=tag2idx[\"PAD\"], padding=\"post\",\n",
        "                     dtype=\"long\", truncating=\"post\")"
      ],
      "id": "d1657e50",
      "execution_count": 34,
      "outputs": []
    },
    {
      "cell_type": "code",
      "metadata": {
        "id": "2f2be231"
      },
      "source": [
        "train_attention_masks = [[float(i != 0.0) for i in ii] for ii in input_ids_train]"
      ],
      "id": "2f2be231",
      "execution_count": 35,
      "outputs": []
    },
    {
      "cell_type": "code",
      "metadata": {
        "id": "1dcffaac"
      },
      "source": [
        "val_attention_masks = [[float(i != 0.0) for i in ii] for ii in input_ids_val]"
      ],
      "id": "1dcffaac",
      "execution_count": 36,
      "outputs": []
    },
    {
      "cell_type": "code",
      "metadata": {
        "id": "28b5d076"
      },
      "source": [
        "holdout_attention_masks = [[float(i != 0.0) for i in ii] for ii in input_ids_holdout]"
      ],
      "id": "28b5d076",
      "execution_count": 37,
      "outputs": []
    },
    {
      "cell_type": "code",
      "metadata": {
        "id": "9c51530b"
      },
      "source": [
        "train_inputs = torch.tensor(input_ids_train)\n",
        "\n",
        "val_inputs = torch.tensor(input_ids_val)\n",
        "\n",
        "holdout_inputs = torch.tensor(input_ids_holdout)\n",
        "\n",
        "train_tags = torch.tensor(train_tags)\n",
        "\n",
        "val_tags = torch.tensor(val_tags)\n",
        "\n",
        "holdout_tags = torch.tensor(holdout_tags)\n",
        "\n",
        "train_attention_masks = torch.tensor(train_attention_masks)\n",
        "\n",
        "val_attention_masks = torch.tensor(val_attention_masks)\n",
        "\n",
        "holdout_attention_masks = torch.tensor(holdout_attention_masks)"
      ],
      "id": "9c51530b",
      "execution_count": 38,
      "outputs": []
    },
    {
      "cell_type": "code",
      "metadata": {
        "colab": {
          "base_uri": "https://localhost:8080/"
        },
        "id": "3f20a0d0",
        "outputId": "56863f15-5bef-4e9f-8732-534e5112d017"
      },
      "source": [
        "val_inputs.shape, val_tags.shape, val_attention_masks.shape"
      ],
      "id": "3f20a0d0",
      "execution_count": 39,
      "outputs": [
        {
          "output_type": "execute_result",
          "data": {
            "text/plain": [
              "(torch.Size([30, 50]), torch.Size([30, 50]), torch.Size([30, 50]))"
            ]
          },
          "metadata": {},
          "execution_count": 39
        }
      ]
    },
    {
      "cell_type": "code",
      "metadata": {
        "id": "9fef95c1"
      },
      "source": [
        "train_data = TensorDataset(train_inputs, train_attention_masks, train_tags)\n",
        "train_sampler = RandomSampler(train_data)\n",
        "train_dataloader = DataLoader(train_data, sampler=train_sampler, batch_size=bs)\n",
        "\n",
        "valid_data = TensorDataset(val_inputs, val_attention_masks, val_tags)\n",
        "valid_sampler = SequentialSampler(valid_data)\n",
        "valid_dataloader = DataLoader(valid_data, sampler=valid_sampler, batch_size=bs)\n"
      ],
      "id": "9fef95c1",
      "execution_count": 40,
      "outputs": []
    },
    {
      "cell_type": "markdown",
      "metadata": {
        "id": "270c10a4"
      },
      "source": [
        "### Model Setup"
      ],
      "id": "270c10a4"
    },
    {
      "cell_type": "code",
      "metadata": {
        "scrolled": true,
        "colab": {
          "base_uri": "https://localhost:8080/",
          "height": 156,
          "referenced_widgets": [
            "ed6a888897f943f7a780b646719d8612",
            "d58eb4409a91454b841b5e25f49cb83d",
            "08f5d917dad84f9888c5d19d87078be1",
            "4e80bcdde3944b72bb61d3d0ee43a90d",
            "2e428f958cee4c02bdcc4486e75a36fc",
            "cbfefe99e3ca42108420d9fa11476446",
            "9f269d55a57548559aaea11ae916a620",
            "8ff7f1c9dd3c48d89d795a523d8d1cff",
            "ca69adfd2fc94951a0b122689ea0e2d5",
            "74d5c36f1a294debaa0ddd7089d8ba4b",
            "e61e2207b5cd48ca9a8c316af27b1d63"
          ]
        },
        "id": "2e02b6f9",
        "outputId": "b4ee6a1c-4c22-4428-e723-204342192f73"
      },
      "source": [
        "model = BertForTokenClassification.from_pretrained(\n",
        "    \"bert-base-uncased\",\n",
        "    num_labels=len(tag2idx),\n",
        "    output_attentions = False,\n",
        "    output_hidden_states = False\n",
        ")\n",
        "#model.cuda();\n"
      ],
      "id": "2e02b6f9",
      "execution_count": 41,
      "outputs": [
        {
          "output_type": "display_data",
          "data": {
            "application/vnd.jupyter.widget-view+json": {
              "model_id": "ed6a888897f943f7a780b646719d8612",
              "version_minor": 0,
              "version_major": 2
            },
            "text/plain": [
              "Downloading:   0%|          | 0.00/440M [00:00<?, ?B/s]"
            ]
          },
          "metadata": {}
        },
        {
          "output_type": "stream",
          "name": "stderr",
          "text": [
            "Some weights of the model checkpoint at bert-base-uncased were not used when initializing BertForTokenClassification: ['cls.predictions.transform.LayerNorm.bias', 'cls.predictions.decoder.weight', 'cls.predictions.transform.dense.bias', 'cls.seq_relationship.weight', 'cls.predictions.bias', 'cls.predictions.transform.dense.weight', 'cls.seq_relationship.bias', 'cls.predictions.transform.LayerNorm.weight']\n",
            "- This IS expected if you are initializing BertForTokenClassification from the checkpoint of a model trained on another task or with another architecture (e.g. initializing a BertForSequenceClassification model from a BertForPreTraining model).\n",
            "- This IS NOT expected if you are initializing BertForTokenClassification from the checkpoint of a model that you expect to be exactly identical (initializing a BertForSequenceClassification model from a BertForSequenceClassification model).\n",
            "Some weights of BertForTokenClassification were not initialized from the model checkpoint at bert-base-uncased and are newly initialized: ['classifier.weight', 'classifier.bias']\n",
            "You should probably TRAIN this model on a down-stream task to be able to use it for predictions and inference.\n"
          ]
        }
      ]
    },
    {
      "cell_type": "code",
      "metadata": {
        "id": "b97e1ded"
      },
      "source": [
        "FULL_FINETUNING = True\n",
        "\n",
        "if FULL_FINETUNING:\n",
        "    param_optimizer = list(model.named_parameters())\n",
        "    no_decay = ['bias', 'gamma', 'beta']\n",
        "    optimizer_grouped_parameters = [\n",
        "        {'params': [p for n, p in param_optimizer if not any(nd in n for nd in no_decay)],\n",
        "         'weight_decay_rate': 0.01},\n",
        "        {'params': [p for n, p in param_optimizer if any(nd in n for nd in no_decay)],\n",
        "         'weight_decay_rate': 0.0}\n",
        "    ]\n",
        "else:\n",
        "    param_optimizer = list(model.classifier.named_parameters())\n",
        "    optimizer_grouped_parameters = [{\"params\": [p for n, p in param_optimizer]}]\n",
        "\n",
        "optimizer = AdamW(\n",
        "    optimizer_grouped_parameters,\n",
        "    lr=LR,\n",
        "    eps=1e-8\n",
        ")"
      ],
      "id": "b97e1ded",
      "execution_count": 42,
      "outputs": []
    },
    {
      "cell_type": "code",
      "metadata": {
        "colab": {
          "base_uri": "https://localhost:8080/"
        },
        "id": "f978558a",
        "outputId": "0d55bf6c-2f8d-4dca-c712-3181497f18f9"
      },
      "source": [
        "from transformers import get_linear_schedule_with_warmup\n",
        "\n",
        "# Total number of training steps is number of batches * number of epochs.\n",
        "total_steps = len(train_dataloader) * epochs\n",
        "\n",
        "num_warmup_steps = int(0.1 * total_steps)\n",
        "\n",
        "print(num_warmup_steps, total_steps)\n",
        "# Create the learning rate scheduler.\n",
        "scheduler = get_linear_schedule_with_warmup(\n",
        "    optimizer,\n",
        "    num_warmup_steps=num_warmup_steps,\n",
        "    num_training_steps=total_steps\n",
        ")"
      ],
      "id": "f978558a",
      "execution_count": 43,
      "outputs": [
        {
          "output_type": "stream",
          "name": "stdout",
          "text": [
            "80 800\n"
          ]
        }
      ]
    },
    {
      "cell_type": "markdown",
      "metadata": {
        "id": "a978bcaf"
      },
      "source": [
        "### Training"
      ],
      "id": "a978bcaf"
    },
    {
      "cell_type": "code",
      "metadata": {
        "scrolled": true,
        "colab": {
          "base_uri": "https://localhost:8080/"
        },
        "id": "3970df83",
        "outputId": "0bad0c26-1f77-4832-b06f-a4a7e0ef6faa"
      },
      "source": [
        "## Store the average loss after each epoch so we can plot them.\n",
        "loss_values, validation_loss_values = [], []\n",
        "\n",
        "max_f1 = 0\n",
        "\n",
        "for _ in trange(epochs, desc=\"Epoch\"):\n",
        "    # ========================================\n",
        "    #               Training\n",
        "    # ========================================\n",
        "    # Perform one full pass over the training set.\n",
        "\n",
        "    # Put the model into training mode.\n",
        "    model.train()\n",
        "    # Reset the total loss for this epoch.\n",
        "    total_loss = 0\n",
        "\n",
        "    # Training loop\n",
        "    for step, batch in enumerate(tqdm(train_dataloader, total = len(train_dataloader), position=0, leave=True)):\n",
        "        # add batch to gpu\n",
        "        batch = tuple(t.to(device) for t in batch)\n",
        "        b_input_ids, b_input_mask, b_labels = batch\n",
        "        # Always clear any previously calculated gradients before performing a backward pass.\n",
        "        model.zero_grad()\n",
        "        # forward pass\n",
        "        # This will return the loss (rather than the model output)\n",
        "        # because we have provided the `labels`.\n",
        "        outputs = model(b_input_ids, token_type_ids=None,\n",
        "                        attention_mask=b_input_mask, labels=b_labels)\n",
        "        # get the loss\n",
        "        loss = outputs[0]\n",
        "        # Perform a backward pass to calculate the gradients.\n",
        "        loss.backward()\n",
        "        # track train loss\n",
        "        total_loss += loss.item()\n",
        "        # Clip the norm of the gradient\n",
        "        # This is to help prevent the \"exploding gradients\" problem.\n",
        "        torch.nn.utils.clip_grad_norm_(parameters=model.parameters(), max_norm=max_grad_norm)\n",
        "        # update parameters\n",
        "        optimizer.step()\n",
        "        # Update the learning rate.\n",
        "        scheduler.step()\n",
        "\n",
        "    # Calculate the average loss over the training data.\n",
        "    avg_train_loss = total_loss / len(train_dataloader)\n",
        "    print(\"Average train loss: {}\".format(avg_train_loss))\n",
        "\n",
        "    # Store the loss value for plotting the learning curve.\n",
        "    loss_values.append(avg_train_loss)\n",
        "\n",
        "\n",
        "    # ========================================\n",
        "    #               Validation\n",
        "    # ========================================\n",
        "    # After the completion of each training epoch, measure our performance on\n",
        "    # our validation set.\n",
        "\n",
        "    # Put the model into evaluation mode\n",
        "    model.eval()\n",
        "    # Reset the validation loss for this epoch.\n",
        "    eval_loss, eval_accuracy = 0, 0\n",
        "    nb_eval_steps, nb_eval_examples = 0, 0\n",
        "    predictions , true_labels = [], []\n",
        "    for batch in valid_dataloader:\n",
        "        batch = tuple(t.to(device) for t in batch)\n",
        "        b_input_ids, b_input_mask, b_labels = batch\n",
        "\n",
        "        # Telling the model not to compute or store gradients,\n",
        "        # saving memory and speeding up validation\n",
        "        with torch.no_grad():\n",
        "            # Forward pass, calculate logit predictions.\n",
        "            # This will return the logits rather than the loss because we have not provided labels.\n",
        "            outputs = model(b_input_ids, token_type_ids=None,\n",
        "                            attention_mask=b_input_mask, labels=b_labels)\n",
        "        # Move logits and labels to CPU\n",
        "        logits = outputs[1].detach().cpu().numpy()\n",
        "        label_ids = b_labels.to('cpu').numpy()\n",
        "\n",
        "        # Calculate the accuracy for this batch of test sentences.\n",
        "        eval_loss += outputs[0].mean().item()\n",
        "        predictions.extend([list(p) for p in np.argmax(logits, axis=2)])\n",
        "        true_labels.extend(label_ids)\n",
        "\n",
        "    eval_loss = eval_loss / len(valid_dataloader)\n",
        "    validation_loss_values.append(eval_loss)\n",
        "    print(\"Validation loss: {}\".format(eval_loss))\n",
        "    pred_tags = [tag_values[p_i] for p, l in zip(predictions, true_labels)\n",
        "                                 for p_i, l_i in zip(p, l) if tag_values[l_i] != \"PAD\"]\n",
        "    valid_tags = [tag_values[l_i] for l in true_labels\n",
        "                                  for l_i in l if tag_values[l_i] != \"PAD\"]\n",
        "    \n",
        "    print(\"val on val\")\n",
        "    f1_val = get_f1_score_on_test_data(model, val)\n",
        "    print(\"val on holdout\")\n",
        "    f1 = get_f1_score_on_test_data(model, holdout)\n",
        "    if (f1_val >= max_f1) & (f1_val > 0):\n",
        "\n",
        "        #f1 = get_f1_score_on_test_data(model, holdout)        \n",
        "        print(\"saving model:\", f1, f1_val,max_f1)\n",
        "        max_f1 = f1_val\n",
        "        holdout_f1 = f1\n",
        "        torch.save(model.state_dict(), MODEL_PATH)\n",
        "        f1_train = get_f1_score_on_test_data(model, train)\n",
        "        print(\"Train f1\", f1_train)\n",
        "        \n",
        "#     print(\"Validation Accuracy: {}\".format(accuracy_score(pred_tags, valid_tags)))\n",
        "#     print(\"Validation F1-Score: {}\".format(f1_score(pred_tags, valid_tags)))\n",
        "    print()"
      ],
      "id": "3970df83",
      "execution_count": 44,
      "outputs": [
        {
          "output_type": "stream",
          "name": "stderr",
          "text": [
            "100%|██████████| 80/80 [02:45<00:00,  2.07s/it]\n"
          ]
        },
        {
          "output_type": "stream",
          "name": "stdout",
          "text": [
            "Average train loss: 0.6453946854628156\n",
            "Validation loss: 0.3618634392817815\n",
            "val on val\n",
            "precision: 0.0 | recall 0.0 | f1_score 0\n",
            "val on holdout\n"
          ]
        },
        {
          "output_type": "stream",
          "name": "stderr",
          "text": [
            "\rEpoch:  10%|█         | 1/10 [03:08<28:12, 188.05s/it]"
          ]
        },
        {
          "output_type": "stream",
          "name": "stdout",
          "text": [
            "precision: 0.0 | recall 0.0 | f1_score 0\n",
            "\n"
          ]
        },
        {
          "output_type": "stream",
          "name": "stderr",
          "text": [
            "100%|██████████| 80/80 [02:49<00:00,  2.12s/it]\n"
          ]
        },
        {
          "output_type": "stream",
          "name": "stdout",
          "text": [
            "Average train loss: 0.27474286197684705\n",
            "Validation loss: 0.15803447739453985\n",
            "val on val\n",
            "precision: 0.4 | recall 0.5 | f1_score 0.4444444444444445\n",
            "val on holdout\n",
            "precision: 0.16981132075471697 | recall 0.23684210526315788 | f1_score 0.19780219780219777\n",
            "saving model: 0.19780219780219777 0.4444444444444445 0\n"
          ]
        },
        {
          "output_type": "stream",
          "name": "stderr",
          "text": [
            "\rEpoch:  20%|██        | 2/10 [06:38<26:51, 201.41s/it]"
          ]
        },
        {
          "output_type": "stream",
          "name": "stdout",
          "text": [
            "precision: 0.3902439024390244 | recall 0.463768115942029 | f1_score 0.42384105960264906\n",
            "Train f1 0.42384105960264906\n",
            "\n"
          ]
        },
        {
          "output_type": "stream",
          "name": "stderr",
          "text": [
            "100%|██████████| 80/80 [02:48<00:00,  2.10s/it]\n"
          ]
        },
        {
          "output_type": "stream",
          "name": "stdout",
          "text": [
            "Average train loss: 0.133072022201668\n",
            "Validation loss: 0.18983249613277925\n",
            "val on val\n",
            "precision: 0.5454545454545454 | recall 0.8571428571428571 | f1_score 0.6666666666666665\n",
            "val on holdout\n",
            "precision: 0.35 | recall 0.6363636363636364 | f1_score 0.45161290322580644\n",
            "saving model: 0.45161290322580644 0.6666666666666665 0.4444444444444445\n"
          ]
        },
        {
          "output_type": "stream",
          "name": "stderr",
          "text": [
            "\rEpoch:  30%|███       | 3/10 [10:05<23:47, 203.98s/it]"
          ]
        },
        {
          "output_type": "stream",
          "name": "stdout",
          "text": [
            "precision: 0.5903614457831325 | recall 0.8596491228070176 | f1_score 0.7000000000000001\n",
            "Train f1 0.7000000000000001\n",
            "\n"
          ]
        },
        {
          "output_type": "stream",
          "name": "stderr",
          "text": [
            "100%|██████████| 80/80 [02:48<00:00,  2.10s/it]\n"
          ]
        },
        {
          "output_type": "stream",
          "name": "stdout",
          "text": [
            "Average train loss: 0.08237296276274719\n",
            "Validation loss: 0.13320496847639637\n",
            "val on val\n",
            "precision: 0.6363636363636364 | recall 0.875 | f1_score 0.7368421052631579\n",
            "val on holdout\n",
            "precision: 0.39705882352941174 | recall 0.7297297297297297 | f1_score 0.5142857142857142\n",
            "saving model: 0.5142857142857142 0.7368421052631579 0.6666666666666665\n"
          ]
        },
        {
          "output_type": "stream",
          "name": "stderr",
          "text": [
            "\rEpoch:  40%|████      | 4/10 [13:33<20:32, 205.35s/it]"
          ]
        },
        {
          "output_type": "stream",
          "name": "stdout",
          "text": [
            "precision: 0.7951807228915663 | recall 0.9565217391304348 | f1_score 0.868421052631579\n",
            "Train f1 0.868421052631579\n",
            "\n"
          ]
        },
        {
          "output_type": "stream",
          "name": "stderr",
          "text": [
            "100%|██████████| 80/80 [02:50<00:00,  2.13s/it]\n"
          ]
        },
        {
          "output_type": "stream",
          "name": "stdout",
          "text": [
            "Average train loss: 0.04080725815510959\n",
            "Validation loss: 0.1262749765975362\n",
            "val on val\n",
            "precision: 0.6153846153846154 | recall 0.8888888888888888 | f1_score 0.7272727272727274\n",
            "val on holdout\n"
          ]
        },
        {
          "output_type": "stream",
          "name": "stderr",
          "text": [
            "\rEpoch:  50%|█████     | 5/10 [16:44<16:40, 200.15s/it]"
          ]
        },
        {
          "output_type": "stream",
          "name": "stdout",
          "text": [
            "precision: 0.3411764705882353 | recall 0.8285714285714286 | f1_score 0.4833333333333334\n",
            "\n"
          ]
        },
        {
          "output_type": "stream",
          "name": "stderr",
          "text": [
            "100%|██████████| 80/80 [02:47<00:00,  2.10s/it]\n"
          ]
        },
        {
          "output_type": "stream",
          "name": "stdout",
          "text": [
            "Average train loss: 0.022905056082527152\n",
            "Validation loss: 0.15938716901097602\n",
            "val on val\n",
            "precision: 0.6153846153846154 | recall 0.8888888888888888 | f1_score 0.7272727272727274\n",
            "val on holdout\n"
          ]
        },
        {
          "output_type": "stream",
          "name": "stderr",
          "text": [
            "\rEpoch:  60%|██████    | 6/10 [19:52<13:05, 196.27s/it]"
          ]
        },
        {
          "output_type": "stream",
          "name": "stdout",
          "text": [
            "precision: 0.3253012048192771 | recall 0.7714285714285715 | f1_score 0.45762711864406785\n",
            "\n"
          ]
        },
        {
          "output_type": "stream",
          "name": "stderr",
          "text": [
            "100%|██████████| 80/80 [02:47<00:00,  2.10s/it]\n"
          ]
        },
        {
          "output_type": "stream",
          "name": "stdout",
          "text": [
            "Average train loss: 0.01375343831077771\n",
            "Validation loss: 0.151209073109203\n",
            "val on val\n",
            "precision: 0.5714285714285714 | recall 1.0 | f1_score 0.7272727272727273\n",
            "val on holdout\n"
          ]
        },
        {
          "output_type": "stream",
          "name": "stderr",
          "text": [
            "\rEpoch:  70%|███████   | 7/10 [23:01<09:41, 193.70s/it]"
          ]
        },
        {
          "output_type": "stream",
          "name": "stdout",
          "text": [
            "precision: 0.3068181818181818 | recall 0.8709677419354839 | f1_score 0.453781512605042\n",
            "\n"
          ]
        },
        {
          "output_type": "stream",
          "name": "stderr",
          "text": [
            "100%|██████████| 80/80 [02:50<00:00,  2.13s/it]\n"
          ]
        },
        {
          "output_type": "stream",
          "name": "stdout",
          "text": [
            "Average train loss: 0.013856069157191087\n",
            "Validation loss: 0.1606724032923618\n",
            "val on val\n",
            "precision: 0.5714285714285714 | recall 1.0 | f1_score 0.7272727272727273\n",
            "val on holdout\n"
          ]
        },
        {
          "output_type": "stream",
          "name": "stderr",
          "text": [
            "\rEpoch:  80%|████████  | 8/10 [26:13<06:26, 193.07s/it]"
          ]
        },
        {
          "output_type": "stream",
          "name": "stdout",
          "text": [
            "precision: 0.3181818181818182 | recall 0.875 | f1_score 0.4666666666666667\n",
            "\n"
          ]
        },
        {
          "output_type": "stream",
          "name": "stderr",
          "text": [
            "100%|██████████| 80/80 [02:50<00:00,  2.13s/it]\n"
          ]
        },
        {
          "output_type": "stream",
          "name": "stdout",
          "text": [
            "Average train loss: 0.007415021128326771\n",
            "Validation loss: 0.15010045576200354\n",
            "val on val\n",
            "precision: 0.5714285714285714 | recall 1.0 | f1_score 0.7272727272727273\n",
            "val on holdout\n"
          ]
        },
        {
          "output_type": "stream",
          "name": "stderr",
          "text": [
            "\rEpoch:  90%|█████████ | 9/10 [29:24<03:12, 192.70s/it]"
          ]
        },
        {
          "output_type": "stream",
          "name": "stdout",
          "text": [
            "precision: 0.3068181818181818 | recall 0.8709677419354839 | f1_score 0.453781512605042\n",
            "\n"
          ]
        },
        {
          "output_type": "stream",
          "name": "stderr",
          "text": [
            "100%|██████████| 80/80 [02:52<00:00,  2.16s/it]\n"
          ]
        },
        {
          "output_type": "stream",
          "name": "stdout",
          "text": [
            "Average train loss: 0.008642083912673116\n",
            "Validation loss: 0.15214546029358947\n",
            "val on val\n",
            "precision: 0.5714285714285714 | recall 1.0 | f1_score 0.7272727272727273\n",
            "val on holdout\n"
          ]
        },
        {
          "output_type": "stream",
          "name": "stderr",
          "text": [
            "Epoch: 100%|██████████| 10/10 [32:38<00:00, 195.89s/it]"
          ]
        },
        {
          "output_type": "stream",
          "name": "stdout",
          "text": [
            "precision: 0.3068181818181818 | recall 0.8709677419354839 | f1_score 0.453781512605042\n",
            "\n"
          ]
        },
        {
          "output_type": "stream",
          "name": "stderr",
          "text": [
            "\n"
          ]
        }
      ]
    },
    {
      "cell_type": "markdown",
      "metadata": {
        "id": "cd1e5b4e"
      },
      "source": [
        "### Evauation"
      ],
      "id": "cd1e5b4e"
    },
    {
      "cell_type": "code",
      "metadata": {
        "colab": {
          "base_uri": "https://localhost:8080/"
        },
        "id": "a177f718",
        "outputId": "7c37b07c-fb81-4291-f437-575081cbf581"
      },
      "source": [
        "holdout_f1"
      ],
      "id": "a177f718",
      "execution_count": 45,
      "outputs": [
        {
          "output_type": "execute_result",
          "data": {
            "text/plain": [
              "0.5142857142857142"
            ]
          },
          "metadata": {},
          "execution_count": 45
        }
      ]
    },
    {
      "cell_type": "code",
      "metadata": {
        "colab": {
          "base_uri": "https://localhost:8080/"
        },
        "id": "4cbae17b",
        "outputId": "861c3126-a4bc-405c-ea19-be72199503f9"
      },
      "source": [
        "get_f1_score_on_test_data(model, train)"
      ],
      "id": "4cbae17b",
      "execution_count": 46,
      "outputs": [
        {
          "output_type": "stream",
          "name": "stdout",
          "text": [
            "precision: 0.7752808988764045 | recall 1.0 | f1_score 0.8734177215189874\n"
          ]
        },
        {
          "output_type": "execute_result",
          "data": {
            "text/plain": [
              "0.8734177215189874"
            ]
          },
          "metadata": {},
          "execution_count": 46
        }
      ]
    },
    {
      "cell_type": "code",
      "metadata": {
        "scrolled": true,
        "colab": {
          "base_uri": "https://localhost:8080/"
        },
        "id": "426f5682",
        "outputId": "d9b41ca5-b2ac-498f-abf8-2ddb5e013884"
      },
      "source": [
        "get_f1_score_on_test_data(model, holdout)"
      ],
      "id": "426f5682",
      "execution_count": 47,
      "outputs": [
        {
          "output_type": "stream",
          "name": "stdout",
          "text": [
            "precision: 0.3068181818181818 | recall 0.8709677419354839 | f1_score 0.453781512605042\n"
          ]
        },
        {
          "output_type": "execute_result",
          "data": {
            "text/plain": [
              "0.453781512605042"
            ]
          },
          "metadata": {},
          "execution_count": 47
        }
      ]
    },
    {
      "cell_type": "code",
      "metadata": {
        "id": "c6627df2"
      },
      "source": [
        "# MODEL_PATH = \"test_local_model\""
      ],
      "id": "c6627df2",
      "execution_count": null,
      "outputs": []
    },
    {
      "cell_type": "code",
      "metadata": {
        "scrolled": true,
        "colab": {
          "base_uri": "https://localhost:8080/"
        },
        "id": "ab5392af",
        "outputId": "91683b05-7da7-45aa-cff5-385a94a02698"
      },
      "source": [
        "model = BertForTokenClassification.from_pretrained(\n",
        "    \"bert-base-uncased\",\n",
        "    num_labels=len(tag2idx),\n",
        "    output_attentions = False,\n",
        "    output_hidden_states = False\n",
        ")\n",
        "model.load_state_dict(torch.load(MODEL_PATH))\n",
        "\n",
        "model.to(device)"
      ],
      "id": "ab5392af",
      "execution_count": 48,
      "outputs": [
        {
          "output_type": "stream",
          "name": "stderr",
          "text": [
            "Some weights of the model checkpoint at bert-base-uncased were not used when initializing BertForTokenClassification: ['cls.predictions.transform.LayerNorm.bias', 'cls.predictions.decoder.weight', 'cls.predictions.transform.dense.bias', 'cls.seq_relationship.weight', 'cls.predictions.bias', 'cls.predictions.transform.dense.weight', 'cls.seq_relationship.bias', 'cls.predictions.transform.LayerNorm.weight']\n",
            "- This IS expected if you are initializing BertForTokenClassification from the checkpoint of a model trained on another task or with another architecture (e.g. initializing a BertForSequenceClassification model from a BertForPreTraining model).\n",
            "- This IS NOT expected if you are initializing BertForTokenClassification from the checkpoint of a model that you expect to be exactly identical (initializing a BertForSequenceClassification model from a BertForSequenceClassification model).\n",
            "Some weights of BertForTokenClassification were not initialized from the model checkpoint at bert-base-uncased and are newly initialized: ['classifier.weight', 'classifier.bias']\n",
            "You should probably TRAIN this model on a down-stream task to be able to use it for predictions and inference.\n"
          ]
        },
        {
          "output_type": "execute_result",
          "data": {
            "text/plain": [
              "<All keys matched successfully>"
            ]
          },
          "metadata": {},
          "execution_count": 48
        }
      ]
    },
    {
      "cell_type": "code",
      "metadata": {
        "id": "c8432ce5"
      },
      "source": [
        "# tokenizer = BertTokenizer.from_pretrained('bert-base-uncased', do_lower_case=True)"
      ],
      "id": "c8432ce5",
      "execution_count": null,
      "outputs": []
    },
    {
      "cell_type": "code",
      "metadata": {
        "colab": {
          "base_uri": "https://localhost:8080/"
        },
        "id": "1a7ce315",
        "outputId": "d867b3b2-86c1-46b4-c25e-4e9f0844b1de"
      },
      "source": [
        "get_f1_score_on_test_data(model, holdout)"
      ],
      "id": "1a7ce315",
      "execution_count": 49,
      "outputs": [
        {
          "output_type": "stream",
          "name": "stdout",
          "text": [
            "precision: 0.39705882352941174 | recall 0.7297297297297297 | f1_score 0.5142857142857142\n"
          ]
        },
        {
          "output_type": "execute_result",
          "data": {
            "text/plain": [
              "0.5142857142857142"
            ]
          },
          "metadata": {},
          "execution_count": 49
        }
      ]
    }
  ]
}