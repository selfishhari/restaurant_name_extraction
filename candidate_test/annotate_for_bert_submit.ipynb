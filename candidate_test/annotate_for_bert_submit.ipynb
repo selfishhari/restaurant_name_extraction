{
 "cells": [
  {
   "cell_type": "code",
   "execution_count": 1,
   "id": "979a8065",
   "metadata": {
    "scrolled": false
   },
   "outputs": [
    {
     "name": "stderr",
     "output_type": "stream",
     "text": [
      "2021-09-13 23:11:24.192735: W tensorflow/stream_executor/platform/default/dso_loader.cc:64] Could not load dynamic library 'libcudart.so.11.0'; dlerror: libcudart.so.11.0: cannot open shared object file: No such file or directory\n",
      "2021-09-13 23:11:24.192768: I tensorflow/stream_executor/cuda/cudart_stub.cc:29] Ignore above cudart dlerror if you do not have a GPU set up on your machine.\n"
     ]
    },
    {
     "data": {
      "text/plain": [
       "'1.8.1+cu102'"
      ]
     },
     "execution_count": 1,
     "metadata": {},
     "output_type": "execute_result"
    }
   ],
   "source": [
    "import pandas as pd\n",
    "import numpy as np\n",
    "from tqdm import tqdm, trange\n",
    "import os, sys\n",
    "import torch\n",
    "from torch.utils.data import TensorDataset, DataLoader, RandomSampler, SequentialSampler\n",
    "from transformers import BertTokenizer, BertConfig\n",
    "\n",
    "from keras.preprocessing.sequence import pad_sequences\n",
    "from sklearn.model_selection import train_test_split\n",
    "\n",
    "torch.__version__"
   ]
  },
  {
   "cell_type": "code",
   "execution_count": 2,
   "id": "766775d1",
   "metadata": {},
   "outputs": [
    {
     "data": {
      "text/plain": [
       "'4.7.0'"
      ]
     },
     "execution_count": 2,
     "metadata": {},
     "output_type": "execute_result"
    }
   ],
   "source": [
    "import transformers\n",
    "from transformers import BertForTokenClassification, AdamW\n",
    "\n",
    "transformers.__version__"
   ]
  },
  {
   "cell_type": "code",
   "execution_count": 3,
   "id": "7c38036d",
   "metadata": {},
   "outputs": [],
   "source": [
    "MAX_LEN = 50\n",
    "LR = 3e-5\n",
    "bs = 2\n",
    "epochs = 20\n",
    "max_grad_norm = 1.0\n",
    "device = torch.device(\"cuda\" if torch.cuda.is_available() else \"cpu\")\n",
    "n_gpu = torch.cuda.device_count()\n",
    "\n",
    "#path to save model\n",
    "MODEL_PATH = \"bert_base_ner_model\""
   ]
  },
  {
   "cell_type": "code",
   "execution_count": 4,
   "id": "f4b5ce08",
   "metadata": {},
   "outputs": [],
   "source": [
    "import pandas as pd\n",
    "train = pd.read_csv('restaurants_train.csv')\n",
    "val = pd.read_csv('restaurants_val.csv')\n",
    "holdout = pd.read_csv('restaurants_holdout.csv')\n",
    "# train = train.fillna('')\n",
    "# val = val.fillna('')\n",
    "# holdout = holdout.fillna('')"
   ]
  },
  {
   "cell_type": "code",
   "execution_count": 5,
   "id": "7c3322e0",
   "metadata": {},
   "outputs": [],
   "source": [
    "train = train.fillna('')\n",
    "val = val.fillna('')\n",
    "holdout = holdout.fillna('')"
   ]
  },
  {
   "cell_type": "code",
   "execution_count": 6,
   "id": "6cc185d0",
   "metadata": {},
   "outputs": [],
   "source": [
    "tokenizer = BertTokenizer.from_pretrained('bert-base-uncased', do_lower_case=True)"
   ]
  },
  {
   "cell_type": "code",
   "execution_count": 7,
   "id": "c2885a8e",
   "metadata": {},
   "outputs": [],
   "source": [
    "################################\n",
    "# DO NOT CHANGE THIS FUNCTION! #\n",
    "################################\n",
    "\n",
    "def get_f1_score_on_test_data(model, data):\n",
    "    model.eval()\n",
    "    true_positives = 0\n",
    "    false_positives = 0\n",
    "    false_negatives = 0\n",
    "    for index, row in data.iterrows():\n",
    "        sentence = row.sentence\n",
    "        expected = row.restaurant_name\n",
    "        #inputs = tokenizer([sentence], max_length=1024, return_tensors='pt')\n",
    "        predicted = generate_outputs(model, sentence)\n",
    "        if expected != '' and expected == predicted:\n",
    "            true_positives += 1\n",
    "        if expected != '' and expected != predicted:\n",
    "            false_positives += 1\n",
    "        if expected == '' and predicted != '':\n",
    "            false_positives += 1\n",
    "        if expected != '' and predicted == '':\n",
    "            false_negatives += 1\n",
    "\n",
    "    precision = 0\n",
    "    recall = 0\n",
    "    f1_score = 0\n",
    "    if true_positives + false_positives:\n",
    "        precision = true_positives / (true_positives + false_positives)\n",
    "    if true_positives + false_negatives:\n",
    "        recall = true_positives /(true_positives + false_negatives)\n",
    "    if precision + recall:\n",
    "        f1_score = 2 * precision * recall / (precision + recall)\n",
    "\n",
    "    print(f'precision: {precision} | recall {recall} | f1_score {f1_score}')\n",
    "    return f1_score\n",
    "\n",
    "\n",
    "def convert_bio_text(words, tags):\n",
    "    \"\"\"\n",
    "    Converts BIO tags to text\n",
    "    \"\"\"\n",
    "    prev_tag = \"O\"\n",
    "    extracted_dict = {}\n",
    "    count = 0\n",
    "    for x,t in zip(words, tags):\n",
    "        if prev_tag == \"O\":\n",
    "            if t == \"B\":\n",
    "                prev_tag = \"B\"\n",
    "                extracted_dict[count] = [x]\n",
    "        else:\n",
    "            if t == \"I\":\n",
    "                extracted_dict[count].append(x)\n",
    "                prev_tag = \"I\"\n",
    "            elif t == \"B\" :\n",
    "                prev_tag = \"B\"\n",
    "                count += 1\n",
    "                extracted_dict[count] = [x]\n",
    "            else:\n",
    "                count += 1\n",
    "                prev_tag = \"O\"\n",
    "                \n",
    "    for i in extracted_dict.keys():\n",
    "        extracted_dict[i] = \" \".join(extracted_dict[i])\n",
    "    return list(extracted_dict.values())\n",
    "\n",
    "def generate_outputs(model, sentence, device=\"cpu\"):\n",
    "    \n",
    "    \"\"\"\n",
    "    Predicts on a sentence and converts predicted BIO tags to text\n",
    "    \"\"\"\n",
    "    \n",
    "    tokenized_sentence = tokenizer.encode(sentence)\n",
    "    \n",
    "    input_ids = torch.tensor([tokenized_sentence]).to(device)\n",
    "    \n",
    "    with torch.no_grad():\n",
    "        \n",
    "        output = model(input_ids)\n",
    "        \n",
    "    label_indices = np.argmax(output[0].to('cpu').numpy(), axis=2)\n",
    "    \n",
    "    tokens = tokenizer.convert_ids_to_tokens(input_ids.to('cpu').numpy()[0])\n",
    "\n",
    "    new_tokens, new_labels = [], []\n",
    "\n",
    "    for token, label_idx in zip(tokens, label_indices[0]):\n",
    "\n",
    "        if token.startswith(\"##\"):\n",
    "\n",
    "            new_tokens[-1] = new_tokens[-1] + token[2:]\n",
    "\n",
    "        else:\n",
    "\n",
    "            new_labels.append(tag_values[label_idx])\n",
    "\n",
    "            new_tokens.append(token)\n",
    "            \n",
    "    #return \" \".join(convert_bio_text(new_tokens, new_labels)), new_labels\n",
    "    \n",
    "    out = convert_bio_text(new_tokens, new_labels)\n",
    "    \n",
    "    if len(out) > 0:\n",
    "        \n",
    "        return out[0]\n",
    "    else:\n",
    "        return \"\"\n",
    "    "
   ]
  },
  {
   "cell_type": "code",
   "execution_count": 8,
   "id": "f007a6b5",
   "metadata": {},
   "outputs": [],
   "source": [
    "def _tag_bio(txt, entity):    \n",
    "        \"\"\"\n",
    "        Given a text and an entity, creates BIO tags for that entity.\n",
    "        \"\"\"\n",
    "\n",
    "        entity_tok = entity.split()\n",
    "\n",
    "        txt_tok = txt.split()\n",
    "\n",
    "        out_tags = [\"O\"]*len(txt_tok)\n",
    "        \n",
    "        if entity == \"\":\n",
    "            return out_tags\n",
    "\n",
    "        b_idxs = []\n",
    "\n",
    "        # Fetch indices of B\n",
    "        for i, w in enumerate(txt_tok):\n",
    "            if w == entity_tok[0]:\n",
    "                b_idxs.append(i)\n",
    "\n",
    "        #print(b_idxs, txt_tok)\n",
    "\n",
    "        # if entity is just of 1 word, then tag Bs appropriately and exit\n",
    "        if len(entity_tok) == 1:\n",
    "            for b in b_idxs:\n",
    "                out_tags[b] = \"B\"\n",
    "            return out_tags\n",
    "\n",
    "        # ------- Tagging Is-----#\n",
    "        tags_idx = {}\n",
    "        for bidx in b_idxs:\n",
    "            # for each B as pivot, fetch it's corresponding Is\n",
    "            if (bidx < (len(txt_tok) - 1)):\n",
    "\n",
    "                counter = 0\n",
    "\n",
    "                while counter < (len(entity_tok) - 1):\n",
    "                    # loop till all words in entity have been iterated\n",
    "                    counter += 1\n",
    "\n",
    "                    if (bidx + counter > (len(txt_tok) - 1)):\n",
    "                        # exit if reached end of sentence before looping through all of entity words\n",
    "                        counter -= 1\n",
    "                        break\n",
    "                    if (txt_tok[bidx + counter] != entity_tok[counter]):\n",
    "                        # exit if any I word doesnt match\n",
    "                        counter -= 1\n",
    "                        # check for matching Is\n",
    "                        break;\n",
    "                if counter == (len(entity_tok) - 1):\n",
    "                    # if all I words match then counter should be equal to number of Is\n",
    "                    # if so, then add the indexes of Is to its corresponding B dict\n",
    "                    tags_idx[bidx] = [bidx + i for i in range(len(entity_tok))]\n",
    "\n",
    "        #print(tags_idx)\n",
    "        # now for every B-I index key val pairs, get BI tags\n",
    "        for b, i in tags_idx.items():\n",
    "            if len(i) > 1:\n",
    "                out_tags[b] = \"B\"\n",
    "                for ii in i[1:]:\n",
    "                    out_tags[ii] = \"I\"\n",
    "\n",
    "        return out_tags"
   ]
  },
  {
   "cell_type": "code",
   "execution_count": 9,
   "id": "0d15e144",
   "metadata": {},
   "outputs": [],
   "source": [
    "def tokenize_and_preserve_labels(sentence, text_labels):\n",
    "    \"\"\"\n",
    "    Handles Bert's sub word encoding\n",
    "    \"\"\"\n",
    "    tokenized_sentence = []\n",
    "    labels = []\n",
    "\n",
    "    for word, label in zip(sentence, text_labels):\n",
    "\n",
    "        # Tokenize the word and count # of subwords the word is broken into\n",
    "        tokenized_word = tokenizer.tokenize(word)\n",
    "        n_subwords = len(tokenized_word)\n",
    "\n",
    "        # Add the tokenized word to the final tokenized word list\n",
    "        tokenized_sentence.extend(tokenized_word)\n",
    "\n",
    "        # Add the same label to the new list of labels `n_subwords` times\n",
    "        labels.extend([label] * n_subwords)\n",
    "\n",
    "    return tokenized_sentence, labels\n"
   ]
  },
  {
   "cell_type": "code",
   "execution_count": 10,
   "id": "665401fc",
   "metadata": {
    "scrolled": true
   },
   "outputs": [
    {
     "data": {
      "text/html": [
       "<div>\n",
       "<style scoped>\n",
       "    .dataframe tbody tr th:only-of-type {\n",
       "        vertical-align: middle;\n",
       "    }\n",
       "\n",
       "    .dataframe tbody tr th {\n",
       "        vertical-align: top;\n",
       "    }\n",
       "\n",
       "    .dataframe thead th {\n",
       "        text-align: right;\n",
       "    }\n",
       "</style>\n",
       "<table border=\"1\" class=\"dataframe\">\n",
       "  <thead>\n",
       "    <tr style=\"text-align: right;\">\n",
       "      <th></th>\n",
       "      <th>sentence</th>\n",
       "      <th>restaurant_name</th>\n",
       "      <th>tags</th>\n",
       "    </tr>\n",
       "  </thead>\n",
       "  <tbody>\n",
       "    <tr>\n",
       "      <th>0</th>\n",
       "      <td>a four star restaurant with a bar</td>\n",
       "      <td></td>\n",
       "      <td>[O, O, O, O, O, O, O]</td>\n",
       "    </tr>\n",
       "    <tr>\n",
       "      <th>1</th>\n",
       "      <td>areas that allow smoking</td>\n",
       "      <td></td>\n",
       "      <td>[O, O, O, O]</td>\n",
       "    </tr>\n",
       "    <tr>\n",
       "      <th>2</th>\n",
       "      <td>any restaurants that still allow smoking</td>\n",
       "      <td></td>\n",
       "      <td>[O, O, O, O, O, O]</td>\n",
       "    </tr>\n",
       "    <tr>\n",
       "      <th>3</th>\n",
       "      <td>are there any restaurants for diabetics that s...</td>\n",
       "      <td></td>\n",
       "      <td>[O, O, O, O, O, O, O, O, O, O, O]</td>\n",
       "    </tr>\n",
       "    <tr>\n",
       "      <th>4</th>\n",
       "      <td>can you find east dedham pizzeria that have a ...</td>\n",
       "      <td>east</td>\n",
       "      <td>[O, O, O, B, O, O, O, O, O, O, O, O, O]</td>\n",
       "    </tr>\n",
       "    <tr>\n",
       "      <th>...</th>\n",
       "      <td>...</td>\n",
       "      <td>...</td>\n",
       "      <td>...</td>\n",
       "    </tr>\n",
       "    <tr>\n",
       "      <th>115</th>\n",
       "      <td>any mexican places have a tameles special today</td>\n",
       "      <td></td>\n",
       "      <td>[O, O, O, O, O, O, O, O]</td>\n",
       "    </tr>\n",
       "    <tr>\n",
       "      <th>116</th>\n",
       "      <td>do you know if elmos have a dress code</td>\n",
       "      <td>elmos</td>\n",
       "      <td>[O, O, O, O, B, O, O, O, O]</td>\n",
       "    </tr>\n",
       "    <tr>\n",
       "      <th>117</th>\n",
       "      <td>are there any chicken wing places nearby</td>\n",
       "      <td></td>\n",
       "      <td>[O, O, O, O, O, O, O]</td>\n",
       "    </tr>\n",
       "    <tr>\n",
       "      <th>118</th>\n",
       "      <td>are there any vietnamese restaurants nearby</td>\n",
       "      <td></td>\n",
       "      <td>[O, O, O, O, O, O]</td>\n",
       "    </tr>\n",
       "    <tr>\n",
       "      <th>119</th>\n",
       "      <td>are reservations available for four people for...</td>\n",
       "      <td>112 eatery</td>\n",
       "      <td>[O, O, O, O, O, O, O, O, O, O, O, B, I]</td>\n",
       "    </tr>\n",
       "  </tbody>\n",
       "</table>\n",
       "<p>120 rows × 3 columns</p>\n",
       "</div>"
      ],
      "text/plain": [
       "                                              sentence restaurant_name  \\\n",
       "0                    a four star restaurant with a bar                   \n",
       "1                             areas that allow smoking                   \n",
       "2             any restaurants that still allow smoking                   \n",
       "3    are there any restaurants for diabetics that s...                   \n",
       "4    can you find east dedham pizzeria that have a ...            east   \n",
       "..                                                 ...             ...   \n",
       "115    any mexican places have a tameles special today                   \n",
       "116             do you know if elmos have a dress code           elmos   \n",
       "117           are there any chicken wing places nearby                   \n",
       "118        are there any vietnamese restaurants nearby                   \n",
       "119  are reservations available for four people for...      112 eatery   \n",
       "\n",
       "                                        tags  \n",
       "0                      [O, O, O, O, O, O, O]  \n",
       "1                               [O, O, O, O]  \n",
       "2                         [O, O, O, O, O, O]  \n",
       "3          [O, O, O, O, O, O, O, O, O, O, O]  \n",
       "4    [O, O, O, B, O, O, O, O, O, O, O, O, O]  \n",
       "..                                       ...  \n",
       "115                 [O, O, O, O, O, O, O, O]  \n",
       "116              [O, O, O, O, B, O, O, O, O]  \n",
       "117                    [O, O, O, O, O, O, O]  \n",
       "118                       [O, O, O, O, O, O]  \n",
       "119  [O, O, O, O, O, O, O, O, O, O, O, B, I]  \n",
       "\n",
       "[120 rows x 3 columns]"
      ]
     },
     "execution_count": 10,
     "metadata": {},
     "output_type": "execute_result"
    }
   ],
   "source": [
    "train[\"tags\"] = train.apply(lambda x: _tag_bio(x[\"sentence\"], x[\"restaurant_name\"]), axis=1)\n",
    "\n",
    "train"
   ]
  },
  {
   "cell_type": "code",
   "execution_count": 11,
   "id": "c73d234f",
   "metadata": {
    "scrolled": true
   },
   "outputs": [
    {
     "data": {
      "text/html": [
       "<div>\n",
       "<style scoped>\n",
       "    .dataframe tbody tr th:only-of-type {\n",
       "        vertical-align: middle;\n",
       "    }\n",
       "\n",
       "    .dataframe tbody tr th {\n",
       "        vertical-align: top;\n",
       "    }\n",
       "\n",
       "    .dataframe thead th {\n",
       "        text-align: right;\n",
       "    }\n",
       "</style>\n",
       "<table border=\"1\" class=\"dataframe\">\n",
       "  <thead>\n",
       "    <tr style=\"text-align: right;\">\n",
       "      <th></th>\n",
       "      <th>sentence</th>\n",
       "      <th>restaurant_name</th>\n",
       "      <th>tags</th>\n",
       "    </tr>\n",
       "  </thead>\n",
       "  <tbody>\n",
       "    <tr>\n",
       "      <th>0</th>\n",
       "      <td>are there any ice cream shops in my neighborho...</td>\n",
       "      <td></td>\n",
       "      <td>[O, O, O, O, O, O, O, O, O, O, O, O, O, O]</td>\n",
       "    </tr>\n",
       "    <tr>\n",
       "      <th>1</th>\n",
       "      <td>are there any restaurants within 5 miles that ...</td>\n",
       "      <td></td>\n",
       "      <td>[O, O, O, O, O, O, O, O, O, O, O]</td>\n",
       "    </tr>\n",
       "    <tr>\n",
       "      <th>2</th>\n",
       "      <td>are there any locally owned franchises that gi...</td>\n",
       "      <td></td>\n",
       "      <td>[O, O, O, O, O, O, O, O, O, O, O]</td>\n",
       "    </tr>\n",
       "    <tr>\n",
       "      <th>3</th>\n",
       "      <td>are there any restaurants that will let me tak...</td>\n",
       "      <td></td>\n",
       "      <td>[O, O, O, O, O, O, O, O, O, O, O, O, O, O]</td>\n",
       "    </tr>\n",
       "    <tr>\n",
       "      <th>4</th>\n",
       "      <td>are there any five star restaurants around here</td>\n",
       "      <td></td>\n",
       "      <td>[O, O, O, O, O, O, O, O]</td>\n",
       "    </tr>\n",
       "    <tr>\n",
       "      <th>5</th>\n",
       "      <td>do you think the noodle bar is open</td>\n",
       "      <td>noodle bar</td>\n",
       "      <td>[O, O, O, O, B, I, O, O]</td>\n",
       "    </tr>\n",
       "    <tr>\n",
       "      <th>6</th>\n",
       "      <td>are there any vegetarian restaurants in this town</td>\n",
       "      <td></td>\n",
       "      <td>[O, O, O, O, O, O, O, O]</td>\n",
       "    </tr>\n",
       "    <tr>\n",
       "      <th>7</th>\n",
       "      <td>any places around here that has a nice view</td>\n",
       "      <td></td>\n",
       "      <td>[O, O, O, O, O, O, O, O, O]</td>\n",
       "    </tr>\n",
       "    <tr>\n",
       "      <th>8</th>\n",
       "      <td>are there any jazz clubs that serve food</td>\n",
       "      <td></td>\n",
       "      <td>[O, O, O, O, O, O, O, O]</td>\n",
       "    </tr>\n",
       "    <tr>\n",
       "      <th>9</th>\n",
       "      <td>do any famous people frequent the jimmys pizza...</td>\n",
       "      <td>jimmys pizza</td>\n",
       "      <td>[O, O, O, O, O, O, B, I, O, O, O, O, O]</td>\n",
       "    </tr>\n",
       "    <tr>\n",
       "      <th>10</th>\n",
       "      <td>are there any dining specials at le bec fin</td>\n",
       "      <td>le bec fin</td>\n",
       "      <td>[O, O, O, O, O, O, B, I, I]</td>\n",
       "    </tr>\n",
       "    <tr>\n",
       "      <th>11</th>\n",
       "      <td>are there any seafood restaurants near governm...</td>\n",
       "      <td></td>\n",
       "      <td>[O, O, O, O, O, O, O, O, O, O, O, O, O, O]</td>\n",
       "    </tr>\n",
       "    <tr>\n",
       "      <th>12</th>\n",
       "      <td>are there any places near by that sell hamburg...</td>\n",
       "      <td></td>\n",
       "      <td>[O, O, O, O, O, O, O, O, O, O, O]</td>\n",
       "    </tr>\n",
       "    <tr>\n",
       "      <th>13</th>\n",
       "      <td>are there any restaurants nearby that have out...</td>\n",
       "      <td></td>\n",
       "      <td>[O, O, O, O, O, O, O, O, O]</td>\n",
       "    </tr>\n",
       "    <tr>\n",
       "      <th>14</th>\n",
       "      <td>can you find the waterfront restaurant alberto...</td>\n",
       "      <td>albertos deli</td>\n",
       "      <td>[O, O, O, O, O, O, B, I, O, O, O, O, O, O, O]</td>\n",
       "    </tr>\n",
       "    <tr>\n",
       "      <th>15</th>\n",
       "      <td>do you know if reggianos serve breakfast</td>\n",
       "      <td>reggianos</td>\n",
       "      <td>[O, O, O, O, B, O, O]</td>\n",
       "    </tr>\n",
       "    <tr>\n",
       "      <th>16</th>\n",
       "      <td>are there any vegetarian restaurants that allo...</td>\n",
       "      <td></td>\n",
       "      <td>[O, O, O, O, O, O, O, O, O, O, O, O, O, O]</td>\n",
       "    </tr>\n",
       "    <tr>\n",
       "      <th>17</th>\n",
       "      <td>can you make reservations for two at heartland...</td>\n",
       "      <td>heartland restaurant</td>\n",
       "      <td>[O, O, O, O, O, O, O, B, I, O, O, O, O, O]</td>\n",
       "    </tr>\n",
       "    <tr>\n",
       "      <th>18</th>\n",
       "      <td>are there any greek restaurants in the area</td>\n",
       "      <td></td>\n",
       "      <td>[O, O, O, O, O, O, O, O]</td>\n",
       "    </tr>\n",
       "    <tr>\n",
       "      <th>19</th>\n",
       "      <td>are there any vegan spots that are open after ...</td>\n",
       "      <td></td>\n",
       "      <td>[O, O, O, O, O, O, O, O, O, O, O, O]</td>\n",
       "    </tr>\n",
       "    <tr>\n",
       "      <th>20</th>\n",
       "      <td>can you find the closest ihop</td>\n",
       "      <td>ihop</td>\n",
       "      <td>[O, O, O, O, O, B]</td>\n",
       "    </tr>\n",
       "    <tr>\n",
       "      <th>21</th>\n",
       "      <td>call cheeseboard in berkeley for me</td>\n",
       "      <td>cheeseboard</td>\n",
       "      <td>[O, B, O, O, O, O]</td>\n",
       "    </tr>\n",
       "    <tr>\n",
       "      <th>22</th>\n",
       "      <td>does burger king accept credit cards</td>\n",
       "      <td>burger king</td>\n",
       "      <td>[O, B, I, O, O, O]</td>\n",
       "    </tr>\n",
       "    <tr>\n",
       "      <th>23</th>\n",
       "      <td>beer and hot wings in town</td>\n",
       "      <td></td>\n",
       "      <td>[O, O, O, O, O, O]</td>\n",
       "    </tr>\n",
       "    <tr>\n",
       "      <th>24</th>\n",
       "      <td>are there any restaurants with valet parking a...</td>\n",
       "      <td></td>\n",
       "      <td>[O, O, O, O, O, O, O, O, O, O, O, O, O]</td>\n",
       "    </tr>\n",
       "    <tr>\n",
       "      <th>25</th>\n",
       "      <td>any bbq places open before 5 nearby</td>\n",
       "      <td></td>\n",
       "      <td>[O, O, O, O, O, O, O]</td>\n",
       "    </tr>\n",
       "    <tr>\n",
       "      <th>26</th>\n",
       "      <td>are there are any cracker barrells on long island</td>\n",
       "      <td>cracker barrells</td>\n",
       "      <td>[O, O, O, O, B, I, O, O, O]</td>\n",
       "    </tr>\n",
       "    <tr>\n",
       "      <th>27</th>\n",
       "      <td>best chinese food in the area</td>\n",
       "      <td></td>\n",
       "      <td>[O, O, O, O, O, O]</td>\n",
       "    </tr>\n",
       "    <tr>\n",
       "      <th>28</th>\n",
       "      <td>any good vegan spots nearby</td>\n",
       "      <td></td>\n",
       "      <td>[O, O, O, O, O]</td>\n",
       "    </tr>\n",
       "    <tr>\n",
       "      <th>29</th>\n",
       "      <td>are there any places near by that serve lunch ...</td>\n",
       "      <td></td>\n",
       "      <td>[O, O, O, O, O, O, O, O, O, O, O]</td>\n",
       "    </tr>\n",
       "  </tbody>\n",
       "</table>\n",
       "</div>"
      ],
      "text/plain": [
       "                                             sentence       restaurant_name  \\\n",
       "0   are there any ice cream shops in my neighborho...                         \n",
       "1   are there any restaurants within 5 miles that ...                         \n",
       "2   are there any locally owned franchises that gi...                         \n",
       "3   are there any restaurants that will let me tak...                         \n",
       "4     are there any five star restaurants around here                         \n",
       "5                 do you think the noodle bar is open            noodle bar   \n",
       "6   are there any vegetarian restaurants in this town                         \n",
       "7         any places around here that has a nice view                         \n",
       "8            are there any jazz clubs that serve food                         \n",
       "9   do any famous people frequent the jimmys pizza...          jimmys pizza   \n",
       "10        are there any dining specials at le bec fin            le bec fin   \n",
       "11  are there any seafood restaurants near governm...                         \n",
       "12  are there any places near by that sell hamburg...                         \n",
       "13  are there any restaurants nearby that have out...                         \n",
       "14  can you find the waterfront restaurant alberto...         albertos deli   \n",
       "15           do you know if reggianos serve breakfast             reggianos   \n",
       "16  are there any vegetarian restaurants that allo...                         \n",
       "17  can you make reservations for two at heartland...  heartland restaurant   \n",
       "18        are there any greek restaurants in the area                         \n",
       "19  are there any vegan spots that are open after ...                         \n",
       "20                      can you find the closest ihop                  ihop   \n",
       "21                call cheeseboard in berkeley for me           cheeseboard   \n",
       "22               does burger king accept credit cards           burger king   \n",
       "23                         beer and hot wings in town                         \n",
       "24  are there any restaurants with valet parking a...                         \n",
       "25                any bbq places open before 5 nearby                         \n",
       "26  are there are any cracker barrells on long island      cracker barrells   \n",
       "27                      best chinese food in the area                         \n",
       "28                        any good vegan spots nearby                         \n",
       "29  are there any places near by that serve lunch ...                         \n",
       "\n",
       "                                             tags  \n",
       "0      [O, O, O, O, O, O, O, O, O, O, O, O, O, O]  \n",
       "1               [O, O, O, O, O, O, O, O, O, O, O]  \n",
       "2               [O, O, O, O, O, O, O, O, O, O, O]  \n",
       "3      [O, O, O, O, O, O, O, O, O, O, O, O, O, O]  \n",
       "4                        [O, O, O, O, O, O, O, O]  \n",
       "5                        [O, O, O, O, B, I, O, O]  \n",
       "6                        [O, O, O, O, O, O, O, O]  \n",
       "7                     [O, O, O, O, O, O, O, O, O]  \n",
       "8                        [O, O, O, O, O, O, O, O]  \n",
       "9         [O, O, O, O, O, O, B, I, O, O, O, O, O]  \n",
       "10                    [O, O, O, O, O, O, B, I, I]  \n",
       "11     [O, O, O, O, O, O, O, O, O, O, O, O, O, O]  \n",
       "12              [O, O, O, O, O, O, O, O, O, O, O]  \n",
       "13                    [O, O, O, O, O, O, O, O, O]  \n",
       "14  [O, O, O, O, O, O, B, I, O, O, O, O, O, O, O]  \n",
       "15                          [O, O, O, O, B, O, O]  \n",
       "16     [O, O, O, O, O, O, O, O, O, O, O, O, O, O]  \n",
       "17     [O, O, O, O, O, O, O, B, I, O, O, O, O, O]  \n",
       "18                       [O, O, O, O, O, O, O, O]  \n",
       "19           [O, O, O, O, O, O, O, O, O, O, O, O]  \n",
       "20                             [O, O, O, O, O, B]  \n",
       "21                             [O, B, O, O, O, O]  \n",
       "22                             [O, B, I, O, O, O]  \n",
       "23                             [O, O, O, O, O, O]  \n",
       "24        [O, O, O, O, O, O, O, O, O, O, O, O, O]  \n",
       "25                          [O, O, O, O, O, O, O]  \n",
       "26                    [O, O, O, O, B, I, O, O, O]  \n",
       "27                             [O, O, O, O, O, O]  \n",
       "28                                [O, O, O, O, O]  \n",
       "29              [O, O, O, O, O, O, O, O, O, O, O]  "
      ]
     },
     "execution_count": 11,
     "metadata": {},
     "output_type": "execute_result"
    }
   ],
   "source": [
    "val[\"tags\"] = val.apply(lambda x: _tag_bio(x[\"sentence\"], x[\"restaurant_name\"]), axis=1)\n",
    "\n",
    "val"
   ]
  },
  {
   "cell_type": "code",
   "execution_count": 12,
   "id": "6dceb8af",
   "metadata": {
    "scrolled": true
   },
   "outputs": [
    {
     "data": {
      "text/html": [
       "<div>\n",
       "<style scoped>\n",
       "    .dataframe tbody tr th:only-of-type {\n",
       "        vertical-align: middle;\n",
       "    }\n",
       "\n",
       "    .dataframe tbody tr th {\n",
       "        vertical-align: top;\n",
       "    }\n",
       "\n",
       "    .dataframe thead th {\n",
       "        text-align: right;\n",
       "    }\n",
       "</style>\n",
       "<table border=\"1\" class=\"dataframe\">\n",
       "  <thead>\n",
       "    <tr style=\"text-align: right;\">\n",
       "      <th></th>\n",
       "      <th>sentence</th>\n",
       "      <th>restaurant_name</th>\n",
       "      <th>tags</th>\n",
       "    </tr>\n",
       "  </thead>\n",
       "  <tbody>\n",
       "    <tr>\n",
       "      <th>0</th>\n",
       "      <td>find pizza places</td>\n",
       "      <td></td>\n",
       "      <td>[O, O, O]</td>\n",
       "    </tr>\n",
       "    <tr>\n",
       "      <th>1</th>\n",
       "      <td>find me the best rated chinese restaurant in t...</td>\n",
       "      <td></td>\n",
       "      <td>[O, O, O, O, O, O, O, O, O, O, O]</td>\n",
       "    </tr>\n",
       "    <tr>\n",
       "      <th>2</th>\n",
       "      <td>what kind of food does abc cafe serve</td>\n",
       "      <td>abc cafe</td>\n",
       "      <td>[O, O, O, O, O, B, I, O]</td>\n",
       "    </tr>\n",
       "    <tr>\n",
       "      <th>3</th>\n",
       "      <td>how far away is the nearest steak house</td>\n",
       "      <td></td>\n",
       "      <td>[O, O, O, O, O, O, O, O]</td>\n",
       "    </tr>\n",
       "    <tr>\n",
       "      <th>4</th>\n",
       "      <td>i am looking for a mexican restuarant that has...</td>\n",
       "      <td></td>\n",
       "      <td>[O, O, O, O, O, O, O, O, O, O, O, O]</td>\n",
       "    </tr>\n",
       "    <tr>\n",
       "      <th>...</th>\n",
       "      <td>...</td>\n",
       "      <td>...</td>\n",
       "      <td>...</td>\n",
       "    </tr>\n",
       "    <tr>\n",
       "      <th>145</th>\n",
       "      <td>find me brazilian food with on location parking</td>\n",
       "      <td></td>\n",
       "      <td>[O, O, O, O, O, O, O, O]</td>\n",
       "    </tr>\n",
       "    <tr>\n",
       "      <th>146</th>\n",
       "      <td>get me to a mexican place</td>\n",
       "      <td></td>\n",
       "      <td>[O, O, O, O, O, O]</td>\n",
       "    </tr>\n",
       "    <tr>\n",
       "      <th>147</th>\n",
       "      <td>how far am i from the nearest bagel shop</td>\n",
       "      <td></td>\n",
       "      <td>[O, O, O, O, O, O, O, O, O]</td>\n",
       "    </tr>\n",
       "    <tr>\n",
       "      <th>148</th>\n",
       "      <td>what time does sonic open</td>\n",
       "      <td>sonic</td>\n",
       "      <td>[O, O, O, B, O]</td>\n",
       "    </tr>\n",
       "    <tr>\n",
       "      <th>149</th>\n",
       "      <td>give me a list of restaurants that have seafoo...</td>\n",
       "      <td></td>\n",
       "      <td>[O, O, O, O, O, O, O, O, O, O, O, O]</td>\n",
       "    </tr>\n",
       "  </tbody>\n",
       "</table>\n",
       "<p>150 rows × 3 columns</p>\n",
       "</div>"
      ],
      "text/plain": [
       "                                              sentence restaurant_name  \\\n",
       "0                                    find pizza places                   \n",
       "1    find me the best rated chinese restaurant in t...                   \n",
       "2                what kind of food does abc cafe serve        abc cafe   \n",
       "3              how far away is the nearest steak house                   \n",
       "4    i am looking for a mexican restuarant that has...                   \n",
       "..                                                 ...             ...   \n",
       "145    find me brazilian food with on location parking                   \n",
       "146                          get me to a mexican place                   \n",
       "147           how far am i from the nearest bagel shop                   \n",
       "148                          what time does sonic open           sonic   \n",
       "149  give me a list of restaurants that have seafoo...                   \n",
       "\n",
       "                                     tags  \n",
       "0                               [O, O, O]  \n",
       "1       [O, O, O, O, O, O, O, O, O, O, O]  \n",
       "2                [O, O, O, O, O, B, I, O]  \n",
       "3                [O, O, O, O, O, O, O, O]  \n",
       "4    [O, O, O, O, O, O, O, O, O, O, O, O]  \n",
       "..                                    ...  \n",
       "145              [O, O, O, O, O, O, O, O]  \n",
       "146                    [O, O, O, O, O, O]  \n",
       "147           [O, O, O, O, O, O, O, O, O]  \n",
       "148                       [O, O, O, B, O]  \n",
       "149  [O, O, O, O, O, O, O, O, O, O, O, O]  \n",
       "\n",
       "[150 rows x 3 columns]"
      ]
     },
     "execution_count": 12,
     "metadata": {},
     "output_type": "execute_result"
    }
   ],
   "source": [
    "holdout[\"tags\"] = holdout.apply(lambda x: _tag_bio(x[\"sentence\"], x[\"restaurant_name\"]), axis=1)\n",
    "\n",
    "holdout"
   ]
  },
  {
   "cell_type": "markdown",
   "id": "d650a3ec",
   "metadata": {},
   "source": [
    "### Create data loaders"
   ]
  },
  {
   "cell_type": "code",
   "execution_count": 13,
   "id": "1eb6c632",
   "metadata": {
    "scrolled": false
   },
   "outputs": [
    {
     "data": {
      "text/plain": [
       "17"
      ]
     },
     "execution_count": 13,
     "metadata": {},
     "output_type": "execute_result"
    }
   ],
   "source": [
    "train.tags.apply(len).max()"
   ]
  },
  {
   "cell_type": "code",
   "execution_count": 14,
   "id": "b9055621",
   "metadata": {},
   "outputs": [],
   "source": [
    "train_sents = train[\"sentence\"].apply(lambda x: x.split()).tolist()\n",
    "\n",
    "train_labels = train[\"tags\"].tolist()\n",
    "\n",
    "val_sents = val[\"sentence\"].apply(lambda x: x.split()).tolist()\n",
    "\n",
    "val_labels = val[\"tags\"].tolist()\n",
    "\n",
    "holdout_sents = holdout[\"sentence\"].apply(lambda x: x.split()).tolist()\n",
    "\n",
    "holdout_labels = holdout[\"tags\"].tolist()\n"
   ]
  },
  {
   "cell_type": "code",
   "execution_count": 15,
   "id": "100e35c9",
   "metadata": {},
   "outputs": [],
   "source": [
    "train_tokenized_texts_and_labels = [\n",
    "    tokenize_and_preserve_labels(sent, labs)\n",
    "    for sent, labs in zip(train_sents, train_labels)\n",
    "]\n"
   ]
  },
  {
   "cell_type": "code",
   "execution_count": 16,
   "id": "5ac8e7f6",
   "metadata": {},
   "outputs": [],
   "source": [
    "val_tokenized_texts_and_labels = [\n",
    "    tokenize_and_preserve_labels(sent, labs)\n",
    "    for sent, labs in zip(val_sents, val_labels)\n",
    "]\n"
   ]
  },
  {
   "cell_type": "code",
   "execution_count": 17,
   "id": "6ed9eec8",
   "metadata": {},
   "outputs": [],
   "source": [
    "holdout_tokenized_texts_and_labels = [\n",
    "    tokenize_and_preserve_labels(sent, labs)\n",
    "    for sent, labs in zip(holdout_sents, holdout_labels)\n",
    "]\n"
   ]
  },
  {
   "cell_type": "code",
   "execution_count": 18,
   "id": "4d67bd38",
   "metadata": {},
   "outputs": [],
   "source": [
    "train_tokenized_texts = [token_label_pair[0] for token_label_pair in train_tokenized_texts_and_labels]\n",
    "\n",
    "train_labels = [token_label_pair[1] for token_label_pair in train_tokenized_texts_and_labels]"
   ]
  },
  {
   "cell_type": "code",
   "execution_count": 19,
   "id": "8182ea07",
   "metadata": {},
   "outputs": [],
   "source": [
    "val_tokenized_texts = [token_label_pair[0] for token_label_pair in val_tokenized_texts_and_labels]\n",
    "\n",
    "val_labels = [token_label_pair[1] for token_label_pair in val_tokenized_texts_and_labels]"
   ]
  },
  {
   "cell_type": "code",
   "execution_count": 20,
   "id": "5735156d",
   "metadata": {},
   "outputs": [],
   "source": [
    "holdout_tokenized_texts = [token_label_pair[0] for token_label_pair in holdout_tokenized_texts_and_labels]\n",
    "\n",
    "holdout_labels = [token_label_pair[1] for token_label_pair in holdout_tokenized_texts_and_labels]"
   ]
  },
  {
   "cell_type": "code",
   "execution_count": 21,
   "id": "af51c5b1",
   "metadata": {},
   "outputs": [],
   "source": [
    "input_ids_train = pad_sequences([tokenizer.convert_tokens_to_ids(txt) for txt in train_tokenized_texts],\n",
    "                          maxlen=MAX_LEN, dtype=\"long\", value=0.0,\n",
    "                          truncating=\"post\", padding=\"post\")"
   ]
  },
  {
   "cell_type": "code",
   "execution_count": 22,
   "id": "6665bf5d",
   "metadata": {},
   "outputs": [],
   "source": [
    "input_ids_val = pad_sequences([tokenizer.convert_tokens_to_ids(txt) for txt in val_tokenized_texts],\n",
    "                          maxlen=MAX_LEN, dtype=\"long\", value=0.0,\n",
    "                          truncating=\"post\", padding=\"post\")"
   ]
  },
  {
   "cell_type": "code",
   "execution_count": 23,
   "id": "f9ee8f3d",
   "metadata": {},
   "outputs": [],
   "source": [
    "input_ids_holdout = pad_sequences([tokenizer.convert_tokens_to_ids(txt) for txt in holdout_tokenized_texts],\n",
    "                          maxlen=MAX_LEN, dtype=\"long\", value=0.0,\n",
    "                          truncating=\"post\", padding=\"post\")"
   ]
  },
  {
   "cell_type": "code",
   "execution_count": 24,
   "id": "14181f2d",
   "metadata": {},
   "outputs": [
    {
     "data": {
      "text/plain": [
       "{'B': 0, 'I': 1, 'O': 2, 'PAD': 3}"
      ]
     },
     "execution_count": 24,
     "metadata": {},
     "output_type": "execute_result"
    }
   ],
   "source": [
    "tag_values = [\"B\", \"I\", \"O\", \"PAD\"]\n",
    "\n",
    "tag2idx = {t: i for i, t in enumerate(tag_values)}\n",
    "\n",
    "tag2idx"
   ]
  },
  {
   "cell_type": "code",
   "execution_count": 25,
   "id": "327f5a65",
   "metadata": {},
   "outputs": [],
   "source": [
    "train_tags = pad_sequences([[tag2idx.get(l) for l in lab] for lab in train_labels],\n",
    "                     maxlen=MAX_LEN, value=tag2idx[\"PAD\"], padding=\"post\",\n",
    "                     dtype=\"long\", truncating=\"post\")"
   ]
  },
  {
   "cell_type": "code",
   "execution_count": 26,
   "id": "18f392b9",
   "metadata": {},
   "outputs": [],
   "source": [
    "val_tags = pad_sequences([[tag2idx.get(l) for l in lab] for lab in val_labels],\n",
    "                     maxlen=MAX_LEN, value=tag2idx[\"PAD\"], padding=\"post\",\n",
    "                     dtype=\"long\", truncating=\"post\")"
   ]
  },
  {
   "cell_type": "code",
   "execution_count": 27,
   "id": "d1657e50",
   "metadata": {},
   "outputs": [],
   "source": [
    "holdout_tags = pad_sequences([[tag2idx.get(l) for l in lab] for lab in holdout_labels],\n",
    "                     maxlen=MAX_LEN, value=tag2idx[\"PAD\"], padding=\"post\",\n",
    "                     dtype=\"long\", truncating=\"post\")"
   ]
  },
  {
   "cell_type": "code",
   "execution_count": 28,
   "id": "2f2be231",
   "metadata": {},
   "outputs": [],
   "source": [
    "train_attention_masks = [[float(i != 0.0) for i in ii] for ii in input_ids_train]"
   ]
  },
  {
   "cell_type": "code",
   "execution_count": 29,
   "id": "1dcffaac",
   "metadata": {},
   "outputs": [],
   "source": [
    "val_attention_masks = [[float(i != 0.0) for i in ii] for ii in input_ids_val]"
   ]
  },
  {
   "cell_type": "code",
   "execution_count": 30,
   "id": "28b5d076",
   "metadata": {},
   "outputs": [],
   "source": [
    "holdout_attention_masks = [[float(i != 0.0) for i in ii] for ii in input_ids_holdout]"
   ]
  },
  {
   "cell_type": "code",
   "execution_count": 31,
   "id": "9c51530b",
   "metadata": {},
   "outputs": [],
   "source": [
    "train_inputs = torch.tensor(input_ids_train)\n",
    "\n",
    "val_inputs = torch.tensor(input_ids_val)\n",
    "\n",
    "holdout_inputs = torch.tensor(input_ids_holdout)\n",
    "\n",
    "train_tags = torch.tensor(train_tags)\n",
    "\n",
    "val_tags = torch.tensor(val_tags)\n",
    "\n",
    "holdout_tags = torch.tensor(holdout_tags)\n",
    "\n",
    "train_attention_masks = torch.tensor(train_attention_masks)\n",
    "\n",
    "val_attention_masks = torch.tensor(val_attention_masks)\n",
    "\n",
    "holdout_attention_masks = torch.tensor(holdout_attention_masks)"
   ]
  },
  {
   "cell_type": "code",
   "execution_count": 32,
   "id": "3f20a0d0",
   "metadata": {},
   "outputs": [
    {
     "data": {
      "text/plain": [
       "(torch.Size([30, 50]), torch.Size([30, 50]), torch.Size([30, 50]))"
      ]
     },
     "execution_count": 32,
     "metadata": {},
     "output_type": "execute_result"
    }
   ],
   "source": [
    "val_inputs.shape, val_tags.shape, val_attention_masks.shape"
   ]
  },
  {
   "cell_type": "code",
   "execution_count": 33,
   "id": "9fef95c1",
   "metadata": {},
   "outputs": [],
   "source": [
    "train_data = TensorDataset(train_inputs, train_attention_masks, train_tags)\n",
    "train_sampler = RandomSampler(train_data)\n",
    "train_dataloader = DataLoader(train_data, sampler=train_sampler, batch_size=bs)\n",
    "\n",
    "valid_data = TensorDataset(val_inputs, val_attention_masks, val_tags)\n",
    "valid_sampler = SequentialSampler(valid_data)\n",
    "valid_dataloader = DataLoader(valid_data, sampler=valid_sampler, batch_size=bs)\n"
   ]
  },
  {
   "cell_type": "markdown",
   "id": "270c10a4",
   "metadata": {},
   "source": [
    "### Model Setup"
   ]
  },
  {
   "cell_type": "code",
   "execution_count": 34,
   "id": "2e02b6f9",
   "metadata": {
    "scrolled": true
   },
   "outputs": [
    {
     "name": "stderr",
     "output_type": "stream",
     "text": [
      "Some weights of the model checkpoint at bert-base-uncased were not used when initializing BertForTokenClassification: ['cls.predictions.transform.dense.bias', 'cls.predictions.transform.dense.weight', 'cls.predictions.bias', 'cls.predictions.decoder.weight', 'cls.predictions.transform.LayerNorm.weight', 'cls.seq_relationship.bias', 'cls.seq_relationship.weight', 'cls.predictions.transform.LayerNorm.bias']\n",
      "- This IS expected if you are initializing BertForTokenClassification from the checkpoint of a model trained on another task or with another architecture (e.g. initializing a BertForSequenceClassification model from a BertForPreTraining model).\n",
      "- This IS NOT expected if you are initializing BertForTokenClassification from the checkpoint of a model that you expect to be exactly identical (initializing a BertForSequenceClassification model from a BertForSequenceClassification model).\n",
      "Some weights of BertForTokenClassification were not initialized from the model checkpoint at bert-base-uncased and are newly initialized: ['classifier.bias', 'classifier.weight']\n",
      "You should probably TRAIN this model on a down-stream task to be able to use it for predictions and inference.\n"
     ]
    }
   ],
   "source": [
    "model = BertForTokenClassification.from_pretrained(\n",
    "    \"bert-base-uncased\",\n",
    "    num_labels=len(tag2idx),\n",
    "    output_attentions = False,\n",
    "    output_hidden_states = False\n",
    ")\n",
    "#model.cuda();\n"
   ]
  },
  {
   "cell_type": "code",
   "execution_count": 35,
   "id": "b97e1ded",
   "metadata": {},
   "outputs": [],
   "source": [
    "FULL_FINETUNING = True\n",
    "\n",
    "if FULL_FINETUNING:\n",
    "    param_optimizer = list(model.named_parameters())\n",
    "    no_decay = ['bias', 'gamma', 'beta']\n",
    "    optimizer_grouped_parameters = [\n",
    "        {'params': [p for n, p in param_optimizer if not any(nd in n for nd in no_decay)],\n",
    "         'weight_decay_rate': 0.01},\n",
    "        {'params': [p for n, p in param_optimizer if any(nd in n for nd in no_decay)],\n",
    "         'weight_decay_rate': 0.0}\n",
    "    ]\n",
    "else:\n",
    "    param_optimizer = list(model.classifier.named_parameters())\n",
    "    optimizer_grouped_parameters = [{\"params\": [p for n, p in param_optimizer]}]\n",
    "\n",
    "optimizer = AdamW(\n",
    "    optimizer_grouped_parameters,\n",
    "    lr=LR,\n",
    "    eps=1e-8\n",
    ")"
   ]
  },
  {
   "cell_type": "code",
   "execution_count": 36,
   "id": "f978558a",
   "metadata": {},
   "outputs": [
    {
     "name": "stdout",
     "output_type": "stream",
     "text": [
      "120 1200\n"
     ]
    }
   ],
   "source": [
    "from transformers import get_linear_schedule_with_warmup\n",
    "\n",
    "# Total number of training steps is number of batches * number of epochs.\n",
    "total_steps = len(train_dataloader) * epochs\n",
    "\n",
    "num_warmup_steps = int(0.1 * total_steps)\n",
    "\n",
    "print(num_warmup_steps, total_steps)\n",
    "# Create the learning rate scheduler.\n",
    "scheduler = get_linear_schedule_with_warmup(\n",
    "    optimizer,\n",
    "    num_warmup_steps=num_warmup_steps,\n",
    "    num_training_steps=total_steps\n",
    ")"
   ]
  },
  {
   "cell_type": "markdown",
   "id": "a978bcaf",
   "metadata": {},
   "source": [
    "### Training"
   ]
  },
  {
   "cell_type": "code",
   "execution_count": 37,
   "id": "3970df83",
   "metadata": {
    "scrolled": true
   },
   "outputs": [
    {
     "name": "stderr",
     "output_type": "stream",
     "text": [
      "100%|███████████████████████████████████████████| 60/60 [01:16<00:00,  1.28s/it]\n"
     ]
    },
    {
     "name": "stdout",
     "output_type": "stream",
     "text": [
      "Average train loss: 0.6761328076478094\n",
      "Validation loss: 0.4444347341855367\n",
      "val on val\n",
      "precision: 0.0 | recall 0.0 | f1_score 0\n",
      "val on holdout\n"
     ]
    },
    {
     "name": "stderr",
     "output_type": "stream",
     "text": [
      "\r",
      "Epoch:   5%|█▊                                   | 1/20 [01:29<28:19, 89.45s/it]"
     ]
    },
    {
     "name": "stdout",
     "output_type": "stream",
     "text": [
      "precision: 0.0 | recall 0.0 | f1_score 0\n",
      "\n"
     ]
    },
    {
     "name": "stderr",
     "output_type": "stream",
     "text": [
      "100%|███████████████████████████████████████████| 60/60 [01:17<00:00,  1.29s/it]\n"
     ]
    },
    {
     "name": "stdout",
     "output_type": "stream",
     "text": [
      "Average train loss: 0.3033017841167748\n",
      "Validation loss: 0.27279622706895074\n",
      "val on val\n",
      "precision: 0.0 | recall 0.0 | f1_score 0\n",
      "val on holdout\n"
     ]
    },
    {
     "name": "stderr",
     "output_type": "stream",
     "text": [
      "\r",
      "Epoch:  10%|███▋                                 | 2/20 [02:57<26:39, 88.86s/it]"
     ]
    },
    {
     "name": "stdout",
     "output_type": "stream",
     "text": [
      "precision: 0.0 | recall 0.0 | f1_score 0\n",
      "\n"
     ]
    },
    {
     "name": "stderr",
     "output_type": "stream",
     "text": [
      "100%|███████████████████████████████████████████| 60/60 [01:16<00:00,  1.27s/it]\n"
     ]
    },
    {
     "name": "stdout",
     "output_type": "stream",
     "text": [
      "Average train loss: 0.1896519787425253\n",
      "Validation loss: 0.18715094078021746\n",
      "val on val\n",
      "precision: 0.1875 | recall 0.375 | f1_score 0.25\n",
      "val on holdout\n",
      "precision: 0.12307692307692308 | recall 0.19047619047619047 | f1_score 0.14953271028037382\n",
      "saving model: 0.14953271028037382 0.25 0\n"
     ]
    },
    {
     "name": "stderr",
     "output_type": "stream",
     "text": [
      "\r",
      "Epoch:  15%|█████▌                               | 3/20 [04:34<26:06, 92.17s/it]"
     ]
    },
    {
     "name": "stdout",
     "output_type": "stream",
     "text": [
      "precision: 0.2608695652173913 | recall 0.375 | f1_score 0.30769230769230765\n",
      "Train f1 0.30769230769230765\n",
      "\n"
     ]
    },
    {
     "name": "stderr",
     "output_type": "stream",
     "text": [
      "100%|███████████████████████████████████████████| 60/60 [01:14<00:00,  1.25s/it]\n"
     ]
    },
    {
     "name": "stdout",
     "output_type": "stream",
     "text": [
      "Average train loss: 0.11539823771066343\n",
      "Validation loss: 0.25113359331541385\n",
      "val on val\n",
      "precision: 0.08333333333333333 | recall 0.2 | f1_score 0.11764705882352941\n",
      "val on holdout\n"
     ]
    },
    {
     "name": "stderr",
     "output_type": "stream",
     "text": [
      "\r",
      "Epoch:  20%|███████▍                             | 4/20 [05:59<23:53, 89.59s/it]"
     ]
    },
    {
     "name": "stdout",
     "output_type": "stream",
     "text": [
      "precision: 0.18055555555555555 | recall 0.325 | f1_score 0.23214285714285715\n",
      "\n"
     ]
    },
    {
     "name": "stderr",
     "output_type": "stream",
     "text": [
      "100%|███████████████████████████████████████████| 60/60 [01:14<00:00,  1.24s/it]\n"
     ]
    },
    {
     "name": "stdout",
     "output_type": "stream",
     "text": [
      "Average train loss: 0.0942740190618982\n",
      "Validation loss: 0.147504563141653\n",
      "val on val\n",
      "precision: 0.4117647058823529 | recall 1.0 | f1_score 0.5833333333333334\n",
      "val on holdout\n",
      "precision: 0.21428571428571427 | recall 0.6666666666666666 | f1_score 0.3243243243243243\n",
      "saving model: 0.3243243243243243 0.5833333333333334 0.25\n"
     ]
    },
    {
     "name": "stderr",
     "output_type": "stream",
     "text": [
      "\r",
      "Epoch:  25%|█████████▎                           | 5/20 [07:33<22:47, 91.18s/it]"
     ]
    },
    {
     "name": "stdout",
     "output_type": "stream",
     "text": [
      "precision: 0.41935483870967744 | recall 0.7878787878787878 | f1_score 0.5473684210526315\n",
      "Train f1 0.5473684210526315\n",
      "\n"
     ]
    },
    {
     "name": "stderr",
     "output_type": "stream",
     "text": [
      "100%|███████████████████████████████████████████| 60/60 [01:15<00:00,  1.26s/it]\n"
     ]
    },
    {
     "name": "stdout",
     "output_type": "stream",
     "text": [
      "Average train loss: 0.0599842900444249\n",
      "Validation loss: 0.19101326429323914\n",
      "val on val\n",
      "precision: 0.3 | recall 1.0 | f1_score 0.4615384615384615\n",
      "val on holdout\n"
     ]
    },
    {
     "name": "stderr",
     "output_type": "stream",
     "text": [
      "\r",
      "Epoch:  30%|███████████                          | 6/20 [08:59<20:53, 89.53s/it]"
     ]
    },
    {
     "name": "stdout",
     "output_type": "stream",
     "text": [
      "precision: 0.16806722689075632 | recall 0.6451612903225806 | f1_score 0.2666666666666667\n",
      "\n"
     ]
    },
    {
     "name": "stderr",
     "output_type": "stream",
     "text": [
      "100%|███████████████████████████████████████████| 60/60 [01:14<00:00,  1.24s/it]\n"
     ]
    },
    {
     "name": "stdout",
     "output_type": "stream",
     "text": [
      "Average train loss: 0.05552342402782718\n",
      "Validation loss: 0.2886834773501808\n",
      "val on val\n",
      "precision: 0.4117647058823529 | recall 1.0 | f1_score 0.5833333333333334\n",
      "val on holdout\n",
      "precision: 0.2545454545454545 | recall 0.717948717948718 | f1_score 0.3758389261744966\n",
      "saving model: 0.3758389261744966 0.5833333333333334 0.5833333333333334\n"
     ]
    },
    {
     "name": "stderr",
     "output_type": "stream",
     "text": [
      "\r",
      "Epoch:  35%|████████████▉                        | 7/20 [10:34<19:46, 91.25s/it]"
     ]
    },
    {
     "name": "stdout",
     "output_type": "stream",
     "text": [
      "precision: 0.6296296296296297 | recall 0.9444444444444444 | f1_score 0.7555555555555556\n",
      "Train f1 0.7555555555555556\n",
      "\n"
     ]
    },
    {
     "name": "stderr",
     "output_type": "stream",
     "text": [
      "100%|███████████████████████████████████████████| 60/60 [01:18<00:00,  1.31s/it]\n"
     ]
    },
    {
     "name": "stdout",
     "output_type": "stream",
     "text": [
      "Average train loss: 0.047494667185189125\n",
      "Validation loss: 0.34538539645582206\n",
      "val on val\n",
      "precision: 0.47368421052631576 | recall 1.0 | f1_score 0.6428571428571429\n",
      "val on holdout\n",
      "precision: 0.23529411764705882 | recall 0.717948717948718 | f1_score 0.3544303797468355\n",
      "saving model: 0.3544303797468355 0.6428571428571429 0.5833333333333334\n"
     ]
    },
    {
     "name": "stderr",
     "output_type": "stream",
     "text": [
      "\r",
      "Epoch:  40%|██████████████▊                      | 8/20 [12:16<18:54, 94.58s/it]"
     ]
    },
    {
     "name": "stdout",
     "output_type": "stream",
     "text": [
      "precision: 0.6551724137931034 | recall 1.0 | f1_score 0.7916666666666666\n",
      "Train f1 0.7916666666666666\n",
      "\n"
     ]
    },
    {
     "name": "stderr",
     "output_type": "stream",
     "text": [
      "100%|███████████████████████████████████████████| 60/60 [01:18<00:00,  1.31s/it]\n"
     ]
    },
    {
     "name": "stdout",
     "output_type": "stream",
     "text": [
      "Average train loss: 0.026732550378073937\n",
      "Validation loss: 0.30974295511453726\n",
      "val on val\n",
      "precision: 0.5 | recall 1.0 | f1_score 0.6666666666666666\n",
      "val on holdout\n",
      "precision: 0.23728813559322035 | recall 0.717948717948718 | f1_score 0.356687898089172\n",
      "saving model: 0.356687898089172 0.6666666666666666 0.6428571428571429\n"
     ]
    },
    {
     "name": "stderr",
     "output_type": "stream",
     "text": [
      "\r",
      "Epoch:  45%|████████████████▋                    | 9/20 [13:55<17:36, 96.07s/it]"
     ]
    },
    {
     "name": "stdout",
     "output_type": "stream",
     "text": [
      "precision: 0.6 | recall 0.972972972972973 | f1_score 0.7422680412371134\n",
      "Train f1 0.7422680412371134\n",
      "\n"
     ]
    },
    {
     "name": "stderr",
     "output_type": "stream",
     "text": [
      "100%|███████████████████████████████████████████| 60/60 [01:14<00:00,  1.24s/it]\n"
     ]
    },
    {
     "name": "stdout",
     "output_type": "stream",
     "text": [
      "Average train loss: 0.01644582487618512\n",
      "Validation loss: 0.1938777434991304\n",
      "val on val\n",
      "precision: 0.3333333333333333 | recall 1.0 | f1_score 0.5\n",
      "val on holdout\n"
     ]
    },
    {
     "name": "stderr",
     "output_type": "stream",
     "text": [
      "\r",
      "Epoch:  50%|██████████████████                  | 10/20 [15:22<15:31, 93.14s/it]"
     ]
    },
    {
     "name": "stdout",
     "output_type": "stream",
     "text": [
      "precision: 0.24193548387096775 | recall 0.8571428571428571 | f1_score 0.37735849056603776\n",
      "\n"
     ]
    },
    {
     "name": "stderr",
     "output_type": "stream",
     "text": [
      "100%|███████████████████████████████████████████| 60/60 [01:22<00:00,  1.38s/it]\n"
     ]
    },
    {
     "name": "stdout",
     "output_type": "stream",
     "text": [
      "Average train loss: 0.011206025500359828\n",
      "Validation loss: 0.22421969663143196\n",
      "val on val\n",
      "precision: 0.3333333333333333 | recall 1.0 | f1_score 0.5\n",
      "val on holdout\n"
     ]
    },
    {
     "name": "stderr",
     "output_type": "stream",
     "text": [
      "\r",
      "Epoch:  55%|███████████████████▊                | 11/20 [16:59<14:08, 94.22s/it]"
     ]
    },
    {
     "name": "stdout",
     "output_type": "stream",
     "text": [
      "precision: 0.23770491803278687 | recall 0.8055555555555556 | f1_score 0.36708860759493667\n",
      "\n"
     ]
    },
    {
     "name": "stderr",
     "output_type": "stream",
     "text": [
      "100%|███████████████████████████████████████████| 60/60 [01:20<00:00,  1.35s/it]\n"
     ]
    },
    {
     "name": "stdout",
     "output_type": "stream",
     "text": [
      "Average train loss: 0.011805310508376958\n",
      "Validation loss: 0.19368935265301843\n",
      "val on val\n",
      "precision: 0.38095238095238093 | recall 1.0 | f1_score 0.5517241379310345\n",
      "val on holdout\n"
     ]
    },
    {
     "name": "stderr",
     "output_type": "stream",
     "text": [
      "\r",
      "Epoch:  60%|█████████████████████▌              | 12/20 [18:32<12:30, 93.86s/it]"
     ]
    },
    {
     "name": "stdout",
     "output_type": "stream",
     "text": [
      "precision: 0.2601626016260163 | recall 0.8648648648648649 | f1_score 0.4\n",
      "\n"
     ]
    },
    {
     "name": "stderr",
     "output_type": "stream",
     "text": [
      "100%|███████████████████████████████████████████| 60/60 [01:17<00:00,  1.29s/it]\n"
     ]
    },
    {
     "name": "stdout",
     "output_type": "stream",
     "text": [
      "Average train loss: 0.006989277739194222\n",
      "Validation loss: 0.2412122503403225\n",
      "val on val\n",
      "precision: 0.3888888888888889 | recall 1.0 | f1_score 0.56\n",
      "val on holdout\n"
     ]
    },
    {
     "name": "stderr",
     "output_type": "stream",
     "text": [
      "\r",
      "Epoch:  65%|███████████████████████▍            | 13/20 [20:03<10:51, 93.03s/it]"
     ]
    },
    {
     "name": "stdout",
     "output_type": "stream",
     "text": [
      "precision: 0.24369747899159663 | recall 0.7837837837837838 | f1_score 0.37179487179487175\n",
      "\n"
     ]
    },
    {
     "name": "stderr",
     "output_type": "stream",
     "text": [
      "100%|███████████████████████████████████████████| 60/60 [01:20<00:00,  1.34s/it]\n"
     ]
    },
    {
     "name": "stdout",
     "output_type": "stream",
     "text": [
      "Average train loss: 0.0062565624074826095\n",
      "Validation loss: 0.2616001856835889\n",
      "val on val\n",
      "precision: 0.4444444444444444 | recall 1.0 | f1_score 0.6153846153846153\n",
      "val on holdout\n"
     ]
    },
    {
     "name": "stderr",
     "output_type": "stream",
     "text": [
      "\r",
      "Epoch:  70%|█████████████████████████▏          | 14/20 [21:35<09:17, 92.93s/it]"
     ]
    },
    {
     "name": "stdout",
     "output_type": "stream",
     "text": [
      "precision: 0.2457627118644068 | recall 0.7837837837837838 | f1_score 0.3741935483870968\n",
      "\n"
     ]
    },
    {
     "name": "stderr",
     "output_type": "stream",
     "text": [
      "100%|███████████████████████████████████████████| 60/60 [01:20<00:00,  1.34s/it]\n"
     ]
    },
    {
     "name": "stdout",
     "output_type": "stream",
     "text": [
      "Average train loss: 0.00479124087226713\n",
      "Validation loss: 0.2984132166066653\n",
      "val on val\n",
      "precision: 0.3888888888888889 | recall 1.0 | f1_score 0.56\n",
      "val on holdout\n"
     ]
    },
    {
     "name": "stderr",
     "output_type": "stream",
     "text": [
      "\r",
      "Epoch:  75%|███████████████████████████         | 15/20 [23:08<07:44, 92.80s/it]"
     ]
    },
    {
     "name": "stdout",
     "output_type": "stream",
     "text": [
      "precision: 0.25 | recall 0.7837837837837838 | f1_score 0.3790849673202614\n",
      "\n"
     ]
    },
    {
     "name": "stderr",
     "output_type": "stream",
     "text": [
      "100%|███████████████████████████████████████████| 60/60 [01:25<00:00,  1.42s/it]\n"
     ]
    },
    {
     "name": "stdout",
     "output_type": "stream",
     "text": [
      "Average train loss: 0.008106452612143282\n",
      "Validation loss: 0.2555449088443614\n",
      "val on val\n",
      "precision: 0.3888888888888889 | recall 1.0 | f1_score 0.56\n",
      "val on holdout\n"
     ]
    },
    {
     "name": "stderr",
     "output_type": "stream",
     "text": [
      "\r",
      "Epoch:  80%|████████████████████████████▊       | 16/20 [24:46<06:17, 94.38s/it]"
     ]
    },
    {
     "name": "stdout",
     "output_type": "stream",
     "text": [
      "precision: 0.24166666666666667 | recall 0.8055555555555556 | f1_score 0.3717948717948718\n",
      "\n"
     ]
    },
    {
     "name": "stderr",
     "output_type": "stream",
     "text": [
      "100%|███████████████████████████████████████████| 60/60 [01:23<00:00,  1.40s/it]\n"
     ]
    },
    {
     "name": "stdout",
     "output_type": "stream",
     "text": [
      "Average train loss: 0.00104408281428429\n",
      "Validation loss: 0.24524865201553137\n",
      "val on val\n",
      "precision: 0.3888888888888889 | recall 1.0 | f1_score 0.56\n",
      "val on holdout\n"
     ]
    },
    {
     "name": "stderr",
     "output_type": "stream",
     "text": [
      "\r",
      "Epoch:  85%|██████████████████████████████▌     | 17/20 [26:22<04:45, 95.00s/it]"
     ]
    },
    {
     "name": "stdout",
     "output_type": "stream",
     "text": [
      "precision: 0.24166666666666667 | recall 0.8055555555555556 | f1_score 0.3717948717948718\n",
      "\n"
     ]
    },
    {
     "name": "stderr",
     "output_type": "stream",
     "text": [
      "100%|███████████████████████████████████████████| 60/60 [01:21<00:00,  1.35s/it]\n"
     ]
    },
    {
     "name": "stdout",
     "output_type": "stream",
     "text": [
      "Average train loss: 0.006783764894498745\n",
      "Validation loss: 0.2456383436122754\n",
      "val on val\n",
      "precision: 0.3684210526315789 | recall 1.0 | f1_score 0.5384615384615384\n",
      "val on holdout\n"
     ]
    },
    {
     "name": "stderr",
     "output_type": "stream",
     "text": [
      "\r",
      "Epoch:  90%|████████████████████████████████▍   | 18/20 [27:55<03:08, 94.31s/it]"
     ]
    },
    {
     "name": "stdout",
     "output_type": "stream",
     "text": [
      "precision: 0.24793388429752067 | recall 0.8571428571428571 | f1_score 0.38461538461538464\n",
      "\n"
     ]
    },
    {
     "name": "stderr",
     "output_type": "stream",
     "text": [
      "100%|███████████████████████████████████████████| 60/60 [01:19<00:00,  1.33s/it]\n"
     ]
    },
    {
     "name": "stdout",
     "output_type": "stream",
     "text": [
      "Average train loss: 0.003981005276182259\n",
      "Validation loss: 0.23609816715543275\n",
      "val on val\n",
      "precision: 0.35 | recall 1.0 | f1_score 0.5185185185185185\n",
      "val on holdout\n"
     ]
    },
    {
     "name": "stderr",
     "output_type": "stream",
     "text": [
      "\r",
      "Epoch:  95%|██████████████████████████████████▏ | 19/20 [29:27<01:33, 93.55s/it]"
     ]
    },
    {
     "name": "stdout",
     "output_type": "stream",
     "text": [
      "precision: 0.24390243902439024 | recall 0.8333333333333334 | f1_score 0.37735849056603776\n",
      "\n"
     ]
    },
    {
     "name": "stderr",
     "output_type": "stream",
     "text": [
      "100%|███████████████████████████████████████████| 60/60 [01:17<00:00,  1.30s/it]\n"
     ]
    },
    {
     "name": "stdout",
     "output_type": "stream",
     "text": [
      "Average train loss: 0.0019264135176247994\n",
      "Validation loss: 0.2375902030391444\n",
      "val on val\n",
      "precision: 0.35 | recall 1.0 | f1_score 0.5185185185185185\n",
      "val on holdout\n"
     ]
    },
    {
     "name": "stderr",
     "output_type": "stream",
     "text": [
      "Epoch: 100%|████████████████████████████████████| 20/20 [30:56<00:00, 92.83s/it]"
     ]
    },
    {
     "name": "stdout",
     "output_type": "stream",
     "text": [
      "precision: 0.2459016393442623 | recall 0.8333333333333334 | f1_score 0.379746835443038\n",
      "\n"
     ]
    },
    {
     "name": "stderr",
     "output_type": "stream",
     "text": [
      "\n"
     ]
    }
   ],
   "source": [
    "## Store the average loss after each epoch so we can plot them.\n",
    "loss_values, validation_loss_values = [], []\n",
    "\n",
    "max_f1 = 0\n",
    "\n",
    "for _ in trange(epochs, desc=\"Epoch\"):\n",
    "    # ========================================\n",
    "    #               Training\n",
    "    # ========================================\n",
    "    # Perform one full pass over the training set.\n",
    "\n",
    "    # Put the model into training mode.\n",
    "    model.train()\n",
    "    # Reset the total loss for this epoch.\n",
    "    total_loss = 0\n",
    "\n",
    "    # Training loop\n",
    "    for step, batch in enumerate(tqdm(train_dataloader, total = len(train_dataloader), position=0, leave=True)):\n",
    "        # add batch to gpu\n",
    "        batch = tuple(t.to(device) for t in batch)\n",
    "        b_input_ids, b_input_mask, b_labels = batch\n",
    "        # Always clear any previously calculated gradients before performing a backward pass.\n",
    "        model.zero_grad()\n",
    "        # forward pass\n",
    "        # This will return the loss (rather than the model output)\n",
    "        # because we have provided the `labels`.\n",
    "        outputs = model(b_input_ids, token_type_ids=None,\n",
    "                        attention_mask=b_input_mask, labels=b_labels)\n",
    "        # get the loss\n",
    "        loss = outputs[0]\n",
    "        # Perform a backward pass to calculate the gradients.\n",
    "        loss.backward()\n",
    "        # track train loss\n",
    "        total_loss += loss.item()\n",
    "        # Clip the norm of the gradient\n",
    "        # This is to help prevent the \"exploding gradients\" problem.\n",
    "        torch.nn.utils.clip_grad_norm_(parameters=model.parameters(), max_norm=max_grad_norm)\n",
    "        # update parameters\n",
    "        optimizer.step()\n",
    "        # Update the learning rate.\n",
    "        scheduler.step()\n",
    "\n",
    "    # Calculate the average loss over the training data.\n",
    "    avg_train_loss = total_loss / len(train_dataloader)\n",
    "    print(\"Average train loss: {}\".format(avg_train_loss))\n",
    "\n",
    "    # Store the loss value for plotting the learning curve.\n",
    "    loss_values.append(avg_train_loss)\n",
    "\n",
    "\n",
    "    # ========================================\n",
    "    #               Validation\n",
    "    # ========================================\n",
    "    # After the completion of each training epoch, measure our performance on\n",
    "    # our validation set.\n",
    "\n",
    "    # Put the model into evaluation mode\n",
    "    model.eval()\n",
    "    # Reset the validation loss for this epoch.\n",
    "    eval_loss, eval_accuracy = 0, 0\n",
    "    nb_eval_steps, nb_eval_examples = 0, 0\n",
    "    predictions , true_labels = [], []\n",
    "    for batch in valid_dataloader:\n",
    "        batch = tuple(t.to(device) for t in batch)\n",
    "        b_input_ids, b_input_mask, b_labels = batch\n",
    "\n",
    "        # Telling the model not to compute or store gradients,\n",
    "        # saving memory and speeding up validation\n",
    "        with torch.no_grad():\n",
    "            # Forward pass, calculate logit predictions.\n",
    "            # This will return the logits rather than the loss because we have not provided labels.\n",
    "            outputs = model(b_input_ids, token_type_ids=None,\n",
    "                            attention_mask=b_input_mask, labels=b_labels)\n",
    "        # Move logits and labels to CPU\n",
    "        logits = outputs[1].detach().cpu().numpy()\n",
    "        label_ids = b_labels.to('cpu').numpy()\n",
    "\n",
    "        # Calculate the accuracy for this batch of test sentences.\n",
    "        eval_loss += outputs[0].mean().item()\n",
    "        predictions.extend([list(p) for p in np.argmax(logits, axis=2)])\n",
    "        true_labels.extend(label_ids)\n",
    "\n",
    "    eval_loss = eval_loss / len(valid_dataloader)\n",
    "    validation_loss_values.append(eval_loss)\n",
    "    print(\"Validation loss: {}\".format(eval_loss))\n",
    "    pred_tags = [tag_values[p_i] for p, l in zip(predictions, true_labels)\n",
    "                                 for p_i, l_i in zip(p, l) if tag_values[l_i] != \"PAD\"]\n",
    "    valid_tags = [tag_values[l_i] for l in true_labels\n",
    "                                  for l_i in l if tag_values[l_i] != \"PAD\"]\n",
    "    \n",
    "    print(\"val on val\")\n",
    "    f1_val = get_f1_score_on_test_data(model, val)\n",
    "    print(\"val on holdout\")\n",
    "    f1 = get_f1_score_on_test_data(model, holdout)\n",
    "    if (f1_val >= max_f1) & (f1_val > 0):\n",
    "\n",
    "        #f1 = get_f1_score_on_test_data(model, holdout)        \n",
    "        print(\"saving model:\", f1, f1_val,max_f1)\n",
    "        max_f1 = f1_val\n",
    "        holdout_f1 = f1\n",
    "        torch.save(model.state_dict(), MODEL_PATH)\n",
    "        f1_train = get_f1_score_on_test_data(model, train)\n",
    "        print(\"Train f1\", f1_train)\n",
    "        \n",
    "#     print(\"Validation Accuracy: {}\".format(accuracy_score(pred_tags, valid_tags)))\n",
    "#     print(\"Validation F1-Score: {}\".format(f1_score(pred_tags, valid_tags)))\n",
    "    print()"
   ]
  },
  {
   "cell_type": "markdown",
   "id": "cd1e5b4e",
   "metadata": {},
   "source": [
    "### Evauation"
   ]
  },
  {
   "cell_type": "code",
   "execution_count": 38,
   "id": "a177f718",
   "metadata": {},
   "outputs": [
    {
     "data": {
      "text/plain": [
       "0.356687898089172"
      ]
     },
     "execution_count": 38,
     "metadata": {},
     "output_type": "execute_result"
    }
   ],
   "source": [
    "holdout_f1"
   ]
  },
  {
   "cell_type": "code",
   "execution_count": 39,
   "id": "4cbae17b",
   "metadata": {},
   "outputs": [
    {
     "name": "stdout",
     "output_type": "stream",
     "text": [
      "precision: 0.5873015873015873 | recall 1.0 | f1_score 0.74\n"
     ]
    },
    {
     "data": {
      "text/plain": [
       "0.74"
      ]
     },
     "execution_count": 39,
     "metadata": {},
     "output_type": "execute_result"
    }
   ],
   "source": [
    "get_f1_score_on_test_data(model, train)"
   ]
  },
  {
   "cell_type": "code",
   "execution_count": 40,
   "id": "426f5682",
   "metadata": {
    "scrolled": true
   },
   "outputs": [
    {
     "name": "stdout",
     "output_type": "stream",
     "text": [
      "precision: 0.2459016393442623 | recall 0.8333333333333334 | f1_score 0.379746835443038\n"
     ]
    },
    {
     "data": {
      "text/plain": [
       "0.379746835443038"
      ]
     },
     "execution_count": 40,
     "metadata": {},
     "output_type": "execute_result"
    }
   ],
   "source": [
    "get_f1_score_on_test_data(model, holdout)"
   ]
  },
  {
   "cell_type": "code",
   "execution_count": 41,
   "id": "5048d5ed",
   "metadata": {
    "scrolled": false
   },
   "outputs": [
    {
     "data": {
      "text/plain": [
       "'elmos'"
      ]
     },
     "execution_count": 41,
     "metadata": {},
     "output_type": "execute_result"
    }
   ],
   "source": [
    "generate_outputs(model, \"do you know if elmos have a dress code\")"
   ]
  },
  {
   "cell_type": "code",
   "execution_count": 42,
   "id": "13c73797",
   "metadata": {
    "scrolled": true
   },
   "outputs": [
    {
     "data": {
      "text/plain": [
       "'brazilian food'"
      ]
     },
     "execution_count": 42,
     "metadata": {},
     "output_type": "execute_result"
    }
   ],
   "source": [
    "generate_outputs(model, 'find me brazilian food with on location parking')"
   ]
  },
  {
   "cell_type": "code",
   "execution_count": 43,
   "id": "c6627df2",
   "metadata": {},
   "outputs": [],
   "source": [
    "# MODEL_PATH = \"test_local_model\""
   ]
  },
  {
   "cell_type": "code",
   "execution_count": 44,
   "id": "ab5392af",
   "metadata": {
    "scrolled": true
   },
   "outputs": [
    {
     "name": "stderr",
     "output_type": "stream",
     "text": [
      "Some weights of the model checkpoint at bert-base-uncased were not used when initializing BertForTokenClassification: ['cls.predictions.transform.dense.bias', 'cls.predictions.transform.dense.weight', 'cls.predictions.bias', 'cls.predictions.decoder.weight', 'cls.predictions.transform.LayerNorm.weight', 'cls.seq_relationship.bias', 'cls.seq_relationship.weight', 'cls.predictions.transform.LayerNorm.bias']\n",
      "- This IS expected if you are initializing BertForTokenClassification from the checkpoint of a model trained on another task or with another architecture (e.g. initializing a BertForSequenceClassification model from a BertForPreTraining model).\n",
      "- This IS NOT expected if you are initializing BertForTokenClassification from the checkpoint of a model that you expect to be exactly identical (initializing a BertForSequenceClassification model from a BertForSequenceClassification model).\n",
      "Some weights of BertForTokenClassification were not initialized from the model checkpoint at bert-base-uncased and are newly initialized: ['classifier.bias', 'classifier.weight']\n",
      "You should probably TRAIN this model on a down-stream task to be able to use it for predictions and inference.\n"
     ]
    },
    {
     "data": {
      "text/plain": [
       "<All keys matched successfully>"
      ]
     },
     "execution_count": 44,
     "metadata": {},
     "output_type": "execute_result"
    }
   ],
   "source": [
    "model = BertForTokenClassification.from_pretrained(\n",
    "    \"bert-base-uncased\",\n",
    "    num_labels=len(tag2idx),\n",
    "    output_attentions = False,\n",
    "    output_hidden_states = False\n",
    ")\n",
    "model.load_state_dict(torch.load(MODEL_PATH))\n",
    "\n",
    "#model.to(device)"
   ]
  },
  {
   "cell_type": "code",
   "execution_count": 45,
   "id": "c8432ce5",
   "metadata": {},
   "outputs": [],
   "source": [
    "tokenizer = BertTokenizer.from_pretrained('bert-base-uncased', do_lower_case=True)"
   ]
  },
  {
   "cell_type": "code",
   "execution_count": 46,
   "id": "1a7ce315",
   "metadata": {},
   "outputs": [
    {
     "name": "stdout",
     "output_type": "stream",
     "text": [
      "precision: 0.4044943820224719 | recall 0.9 | f1_score 0.5581395348837209\n"
     ]
    },
    {
     "data": {
      "text/plain": [
       "0.5581395348837209"
      ]
     },
     "execution_count": 46,
     "metadata": {},
     "output_type": "execute_result"
    }
   ],
   "source": [
    "get_f1_score_on_test_data(model, holdout)"
   ]
  }
 ],
 "metadata": {
  "kernelspec": {
   "display_name": "Python 3 (ipykernel)",
   "language": "python",
   "name": "python3"
  },
  "language_info": {
   "codemirror_mode": {
    "name": "ipython",
    "version": 3
   },
   "file_extension": ".py",
   "mimetype": "text/x-python",
   "name": "python",
   "nbconvert_exporter": "python",
   "pygments_lexer": "ipython3",
   "version": "3.7.11"
  }
 },
 "nbformat": 4,
 "nbformat_minor": 5
}
