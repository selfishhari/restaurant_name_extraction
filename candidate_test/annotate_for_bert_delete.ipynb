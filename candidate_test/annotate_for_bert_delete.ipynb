{
 "cells": [
  {
   "cell_type": "code",
   "execution_count": 1,
   "id": "a9c24f74",
   "metadata": {},
   "outputs": [],
   "source": [
    "import pandas as pd\n",
    "train = pd.read_csv('restaurants_train.csv')\n",
    "val = pd.read_csv('restaurants_val.csv')\n",
    "holdout = pd.read_csv('restaurants_holdout.csv')\n",
    "# train = train.fillna('')\n",
    "# val = val.fillna('')\n",
    "# holdout = holdout.fillna('')"
   ]
  },
  {
   "cell_type": "code",
   "execution_count": 2,
   "id": "fbdb899f",
   "metadata": {},
   "outputs": [
    {
     "data": {
      "text/plain": [
       "0.6666666666666666"
      ]
     },
     "execution_count": 2,
     "metadata": {},
     "output_type": "execute_result"
    }
   ],
   "source": [
    "train.restaurant_name.isna().sum()/train.shape[0]"
   ]
  },
  {
   "cell_type": "code",
   "execution_count": 3,
   "id": "ab168868",
   "metadata": {},
   "outputs": [
    {
     "data": {
      "text/plain": [
       "0.6666666666666666"
      ]
     },
     "execution_count": 3,
     "metadata": {},
     "output_type": "execute_result"
    }
   ],
   "source": [
    "val.restaurant_name.isna().sum()/val.shape[0]"
   ]
  },
  {
   "cell_type": "code",
   "execution_count": 4,
   "id": "ede3d3f4",
   "metadata": {},
   "outputs": [
    {
     "data": {
      "text/plain": [
       "0.6666666666666666"
      ]
     },
     "execution_count": 4,
     "metadata": {},
     "output_type": "execute_result"
    }
   ],
   "source": [
    "holdout.restaurant_name.isna().sum()/holdout.shape[0]"
   ]
  },
  {
   "cell_type": "code",
   "execution_count": 5,
   "id": "6137767e",
   "metadata": {},
   "outputs": [],
   "source": [
    "train_rn = train.restaurant_name.unique().tolist()\n",
    "\n",
    "val_rn = val.restaurant_name.unique().tolist()\n",
    "\n",
    "holdout_rn = holdout.restaurant_name.unique().tolist()"
   ]
  },
  {
   "cell_type": "code",
   "execution_count": 6,
   "id": "760237bd",
   "metadata": {},
   "outputs": [
    {
     "name": "stdout",
     "output_type": "stream",
     "text": [
      "9 11\n",
      "41 45\n"
     ]
    }
   ],
   "source": [
    "print(len(set(val_rn) - set(train_rn)), len(val_rn))\n",
    "\n",
    "print(len(set(holdout_rn) - set(train_rn)), len(holdout_rn))"
   ]
  },
  {
   "cell_type": "code",
   "execution_count": 7,
   "id": "b2bc7827",
   "metadata": {},
   "outputs": [],
   "source": [
    "import numpy as np"
   ]
  },
  {
   "cell_type": "code",
   "execution_count": 8,
   "id": "6eaebb79",
   "metadata": {},
   "outputs": [],
   "source": [
    "train = train.fillna('')\n",
    "val = val.fillna('')\n",
    "holdout = holdout.fillna('')"
   ]
  },
  {
   "cell_type": "code",
   "execution_count": 9,
   "id": "dd81392c",
   "metadata": {},
   "outputs": [],
   "source": [
    "def _tag_bio(txt, entity):    \n",
    "        \"\"\"\n",
    "        Given a text and an entity, creates BIO tags for that entity.\n",
    "        \"\"\"\n",
    "\n",
    "        entity_tok = entity.split()\n",
    "\n",
    "        txt_tok = txt.split()\n",
    "\n",
    "        out_tags = [\"O\"]*len(txt_tok)\n",
    "        \n",
    "        if entity == \"\":\n",
    "            return out_tags\n",
    "\n",
    "        b_idxs = []\n",
    "\n",
    "        # Fetch indices of B\n",
    "        for i, w in enumerate(txt_tok):\n",
    "            if w == entity_tok[0]:\n",
    "                b_idxs.append(i)\n",
    "\n",
    "        #print(b_idxs, txt_tok)\n",
    "\n",
    "        # if entity is just of 1 word, then tag Bs appropriately and exit\n",
    "        if len(entity_tok) == 1:\n",
    "            for b in b_idxs:\n",
    "                out_tags[b] = \"B\"\n",
    "            return out_tags\n",
    "\n",
    "        # ------- Tagging Is-----#\n",
    "        tags_idx = {}\n",
    "        for bidx in b_idxs:\n",
    "            # for each B as pivot, fetch it's corresponding Is\n",
    "            if (bidx < (len(txt_tok) - 1)):\n",
    "\n",
    "                counter = 0\n",
    "\n",
    "                while counter < (len(entity_tok) - 1):\n",
    "                    # loop till all words in entity have been iterated\n",
    "                    counter += 1\n",
    "\n",
    "                    if (bidx + counter > (len(txt_tok) - 1)):\n",
    "                        # exit if reached end of sentence before looping through all of entity words\n",
    "                        counter -= 1\n",
    "                        break\n",
    "                    if (txt_tok[bidx + counter] != entity_tok[counter]):\n",
    "                        # exit if any I word doesnt match\n",
    "                        counter -= 1\n",
    "                        # check for matching Is\n",
    "                        break;\n",
    "                if counter == (len(entity_tok) - 1):\n",
    "                    # if all I words match then counter should be equal to number of Is\n",
    "                    # if so, then add the indexes of Is to its corresponding B dict\n",
    "                    tags_idx[bidx] = [bidx + i for i in range(len(entity_tok))]\n",
    "\n",
    "        #print(tags_idx)\n",
    "        # now for every B-I index key val pairs, get BI tags\n",
    "        for b, i in tags_idx.items():\n",
    "            if len(i) > 1:\n",
    "                out_tags[b] = \"B\"\n",
    "                for ii in i[1:]:\n",
    "                    out_tags[ii] = \"I\"\n",
    "\n",
    "        return out_tags"
   ]
  },
  {
   "cell_type": "code",
   "execution_count": 10,
   "id": "5afb3ed6",
   "metadata": {
    "scrolled": true
   },
   "outputs": [
    {
     "data": {
      "text/html": [
       "<div>\n",
       "<style scoped>\n",
       "    .dataframe tbody tr th:only-of-type {\n",
       "        vertical-align: middle;\n",
       "    }\n",
       "\n",
       "    .dataframe tbody tr th {\n",
       "        vertical-align: top;\n",
       "    }\n",
       "\n",
       "    .dataframe thead th {\n",
       "        text-align: right;\n",
       "    }\n",
       "</style>\n",
       "<table border=\"1\" class=\"dataframe\">\n",
       "  <thead>\n",
       "    <tr style=\"text-align: right;\">\n",
       "      <th></th>\n",
       "      <th>sentence</th>\n",
       "      <th>restaurant_name</th>\n",
       "      <th>tags</th>\n",
       "    </tr>\n",
       "  </thead>\n",
       "  <tbody>\n",
       "    <tr>\n",
       "      <th>0</th>\n",
       "      <td>a four star restaurant with a bar</td>\n",
       "      <td></td>\n",
       "      <td>[O, O, O, O, O, O, O]</td>\n",
       "    </tr>\n",
       "    <tr>\n",
       "      <th>1</th>\n",
       "      <td>areas that allow smoking</td>\n",
       "      <td></td>\n",
       "      <td>[O, O, O, O]</td>\n",
       "    </tr>\n",
       "    <tr>\n",
       "      <th>2</th>\n",
       "      <td>any restaurants that still allow smoking</td>\n",
       "      <td></td>\n",
       "      <td>[O, O, O, O, O, O]</td>\n",
       "    </tr>\n",
       "    <tr>\n",
       "      <th>3</th>\n",
       "      <td>are there any restaurants for diabetics that s...</td>\n",
       "      <td></td>\n",
       "      <td>[O, O, O, O, O, O, O, O, O, O, O]</td>\n",
       "    </tr>\n",
       "    <tr>\n",
       "      <th>4</th>\n",
       "      <td>can you find east dedham pizzeria that have a ...</td>\n",
       "      <td>east</td>\n",
       "      <td>[O, O, O, B, O, O, O, O, O, O, O, O, O]</td>\n",
       "    </tr>\n",
       "    <tr>\n",
       "      <th>...</th>\n",
       "      <td>...</td>\n",
       "      <td>...</td>\n",
       "      <td>...</td>\n",
       "    </tr>\n",
       "    <tr>\n",
       "      <th>115</th>\n",
       "      <td>any mexican places have a tameles special today</td>\n",
       "      <td></td>\n",
       "      <td>[O, O, O, O, O, O, O, O]</td>\n",
       "    </tr>\n",
       "    <tr>\n",
       "      <th>116</th>\n",
       "      <td>do you know if elmos have a dress code</td>\n",
       "      <td>elmos</td>\n",
       "      <td>[O, O, O, O, B, O, O, O, O]</td>\n",
       "    </tr>\n",
       "    <tr>\n",
       "      <th>117</th>\n",
       "      <td>are there any chicken wing places nearby</td>\n",
       "      <td></td>\n",
       "      <td>[O, O, O, O, O, O, O]</td>\n",
       "    </tr>\n",
       "    <tr>\n",
       "      <th>118</th>\n",
       "      <td>are there any vietnamese restaurants nearby</td>\n",
       "      <td></td>\n",
       "      <td>[O, O, O, O, O, O]</td>\n",
       "    </tr>\n",
       "    <tr>\n",
       "      <th>119</th>\n",
       "      <td>are reservations available for four people for...</td>\n",
       "      <td>112 eatery</td>\n",
       "      <td>[O, O, O, O, O, O, O, O, O, O, O, B, I]</td>\n",
       "    </tr>\n",
       "  </tbody>\n",
       "</table>\n",
       "<p>120 rows × 3 columns</p>\n",
       "</div>"
      ],
      "text/plain": [
       "                                              sentence restaurant_name  \\\n",
       "0                    a four star restaurant with a bar                   \n",
       "1                             areas that allow smoking                   \n",
       "2             any restaurants that still allow smoking                   \n",
       "3    are there any restaurants for diabetics that s...                   \n",
       "4    can you find east dedham pizzeria that have a ...            east   \n",
       "..                                                 ...             ...   \n",
       "115    any mexican places have a tameles special today                   \n",
       "116             do you know if elmos have a dress code           elmos   \n",
       "117           are there any chicken wing places nearby                   \n",
       "118        are there any vietnamese restaurants nearby                   \n",
       "119  are reservations available for four people for...      112 eatery   \n",
       "\n",
       "                                        tags  \n",
       "0                      [O, O, O, O, O, O, O]  \n",
       "1                               [O, O, O, O]  \n",
       "2                         [O, O, O, O, O, O]  \n",
       "3          [O, O, O, O, O, O, O, O, O, O, O]  \n",
       "4    [O, O, O, B, O, O, O, O, O, O, O, O, O]  \n",
       "..                                       ...  \n",
       "115                 [O, O, O, O, O, O, O, O]  \n",
       "116              [O, O, O, O, B, O, O, O, O]  \n",
       "117                    [O, O, O, O, O, O, O]  \n",
       "118                       [O, O, O, O, O, O]  \n",
       "119  [O, O, O, O, O, O, O, O, O, O, O, B, I]  \n",
       "\n",
       "[120 rows x 3 columns]"
      ]
     },
     "execution_count": 10,
     "metadata": {},
     "output_type": "execute_result"
    }
   ],
   "source": [
    "train[\"tags\"] = train.apply(lambda x: _tag_bio(x[\"sentence\"], x[\"restaurant_name\"]), axis=1)\n",
    "\n",
    "train"
   ]
  },
  {
   "cell_type": "code",
   "execution_count": 13,
   "id": "d1c9cbd7",
   "metadata": {},
   "outputs": [
    {
     "data": {
      "text/plain": [
       "' jjj'"
      ]
     },
     "execution_count": 13,
     "metadata": {},
     "output_type": "execute_result"
    }
   ],
   "source": [
    "\"abc jjj\".replace(\"abc\", \"\").strip()"
   ]
  },
  {
   "cell_type": "code",
   "execution_count": 17,
   "id": "e827226a",
   "metadata": {},
   "outputs": [],
   "source": [
    "del_fun = lambda x: x[\"sentence\"].replace(x[\"restaurant_name\"], \"\")"
   ]
  },
  {
   "cell_type": "code",
   "execution_count": 21,
   "id": "71629210",
   "metadata": {
    "scrolled": true
   },
   "outputs": [
    {
     "data": {
      "text/html": [
       "<div>\n",
       "<style scoped>\n",
       "    .dataframe tbody tr th:only-of-type {\n",
       "        vertical-align: middle;\n",
       "    }\n",
       "\n",
       "    .dataframe tbody tr th {\n",
       "        vertical-align: top;\n",
       "    }\n",
       "\n",
       "    .dataframe thead th {\n",
       "        text-align: right;\n",
       "    }\n",
       "</style>\n",
       "<table border=\"1\" class=\"dataframe\">\n",
       "  <thead>\n",
       "    <tr style=\"text-align: right;\">\n",
       "      <th></th>\n",
       "      <th>sentence</th>\n",
       "      <th>restaurant_name</th>\n",
       "      <th>tags</th>\n",
       "    </tr>\n",
       "  </thead>\n",
       "  <tbody>\n",
       "    <tr>\n",
       "      <th>4</th>\n",
       "      <td>can you find  dedham pizzeria that have a dine...</td>\n",
       "      <td></td>\n",
       "      <td>[O, O, O, O, O, O, O, O, O, O, O, O]</td>\n",
       "    </tr>\n",
       "    <tr>\n",
       "      <th>6</th>\n",
       "      <td>can you tell me where the nearest  is</td>\n",
       "      <td></td>\n",
       "      <td>[O, O, O, O, O, O, O, O]</td>\n",
       "    </tr>\n",
       "    <tr>\n",
       "      <th>14</th>\n",
       "      <td>do you think  has fabulous service</td>\n",
       "      <td></td>\n",
       "      <td>[O, O, O, O, O, O]</td>\n",
       "    </tr>\n",
       "    <tr>\n",
       "      <th>17</th>\n",
       "      <td>can i get hambers at</td>\n",
       "      <td></td>\n",
       "      <td>[O, O, O, O, O]</td>\n",
       "    </tr>\n",
       "    <tr>\n",
       "      <th>19</th>\n",
       "      <td>do you know if there are any reviews on</td>\n",
       "      <td></td>\n",
       "      <td>[O, O, O, O, O, O, O, O, O]</td>\n",
       "    </tr>\n",
       "    <tr>\n",
       "      <th>24</th>\n",
       "      <td>are there reservations still available for  fo...</td>\n",
       "      <td></td>\n",
       "      <td>[O, O, O, O, O, O, O, O, O, O, O, O]</td>\n",
       "    </tr>\n",
       "    <tr>\n",
       "      <th>26</th>\n",
       "      <td>are there any  in the city open on sunday</td>\n",
       "      <td></td>\n",
       "      <td>[O, O, O, O, O, O, O, O, O]</td>\n",
       "    </tr>\n",
       "    <tr>\n",
       "      <th>27</th>\n",
       "      <td>do i need a reservation for</td>\n",
       "      <td></td>\n",
       "      <td>[O, O, O, O, O, O]</td>\n",
       "    </tr>\n",
       "    <tr>\n",
       "      <th>35</th>\n",
       "      <td>are there any  within 5 minutes drive that has...</td>\n",
       "      <td></td>\n",
       "      <td>[O, O, O, O, O, O, O, O, O, O, O, O, O]</td>\n",
       "    </tr>\n",
       "    <tr>\n",
       "      <th>37</th>\n",
       "      <td>are there any  in town</td>\n",
       "      <td></td>\n",
       "      <td>[O, O, O, O, O]</td>\n",
       "    </tr>\n",
       "    <tr>\n",
       "      <th>39</th>\n",
       "      <td>can you make a reservation at  for tonight</td>\n",
       "      <td></td>\n",
       "      <td>[O, O, O, O, O, O, O, O]</td>\n",
       "    </tr>\n",
       "    <tr>\n",
       "      <th>43</th>\n",
       "      <td>can you find out if the  has dancing and a goo...</td>\n",
       "      <td></td>\n",
       "      <td>[O, O, O, O, O, O, O, O, O, O, O, O, O]</td>\n",
       "    </tr>\n",
       "    <tr>\n",
       "      <th>44</th>\n",
       "      <td>can i have the phone number for  in los angele...</td>\n",
       "      <td></td>\n",
       "      <td>[O, O, O, O, O, O, O, O, O, O, O]</td>\n",
       "    </tr>\n",
       "    <tr>\n",
       "      <th>45</th>\n",
       "      <td>dining along the  restaurant is located on sut...</td>\n",
       "      <td></td>\n",
       "      <td>[O, O, O, O, O, O, O, O, O]</td>\n",
       "    </tr>\n",
       "    <tr>\n",
       "      <th>46</th>\n",
       "      <td>can you please find the  restaurant in manhattan</td>\n",
       "      <td></td>\n",
       "      <td>[O, O, O, O, O, O, O, O]</td>\n",
       "    </tr>\n",
       "    <tr>\n",
       "      <th>51</th>\n",
       "      <td>can you give me the  of the restaurant on gree...</td>\n",
       "      <td></td>\n",
       "      <td>[O, O, O, O, O, O, O, O, O, O, O]</td>\n",
       "    </tr>\n",
       "    <tr>\n",
       "      <th>52</th>\n",
       "      <td>are there any  that i can drive too in 3 minutes</td>\n",
       "      <td></td>\n",
       "      <td>[O, O, O, O, O, O, O, O, O, O, O]</td>\n",
       "    </tr>\n",
       "    <tr>\n",
       "      <th>57</th>\n",
       "      <td>can you find me a  thats not too busy</td>\n",
       "      <td></td>\n",
       "      <td>[O, O, O, O, O, O, O, O, O]</td>\n",
       "    </tr>\n",
       "    <tr>\n",
       "      <th>60</th>\n",
       "      <td>home made dinners</td>\n",
       "      <td></td>\n",
       "      <td>[O, O, O]</td>\n",
       "    </tr>\n",
       "    <tr>\n",
       "      <th>61</th>\n",
       "      <td>call</td>\n",
       "      <td></td>\n",
       "      <td>[O]</td>\n",
       "    </tr>\n",
       "    <tr>\n",
       "      <th>62</th>\n",
       "      <td>can i valet park at the</td>\n",
       "      <td></td>\n",
       "      <td>[O, O, O, O, O, O]</td>\n",
       "    </tr>\n",
       "    <tr>\n",
       "      <th>63</th>\n",
       "      <td>can i dine at the</td>\n",
       "      <td></td>\n",
       "      <td>[O, O, O, O, O]</td>\n",
       "    </tr>\n",
       "    <tr>\n",
       "      <th>68</th>\n",
       "      <td>can you find  thats hard to find with a huge p...</td>\n",
       "      <td></td>\n",
       "      <td>[O, O, O, O, O, O, O, O, O, O, O]</td>\n",
       "    </tr>\n",
       "    <tr>\n",
       "      <th>76</th>\n",
       "      <td>can you tell me where the closest  is</td>\n",
       "      <td></td>\n",
       "      <td>[O, O, O, O, O, O, O, O]</td>\n",
       "    </tr>\n",
       "    <tr>\n",
       "      <th>77</th>\n",
       "      <td>does  do takeout orders</td>\n",
       "      <td></td>\n",
       "      <td>[O, O, O, O]</td>\n",
       "    </tr>\n",
       "    <tr>\n",
       "      <th>79</th>\n",
       "      <td>can you find me  with comfort food</td>\n",
       "      <td></td>\n",
       "      <td>[O, O, O, O, O, O, O]</td>\n",
       "    </tr>\n",
       "    <tr>\n",
       "      <th>83</th>\n",
       "      <td>does  have a smoking area</td>\n",
       "      <td></td>\n",
       "      <td>[O, O, O, O, O]</td>\n",
       "    </tr>\n",
       "    <tr>\n",
       "      <th>84</th>\n",
       "      <td>can you help me find a  that serves small port...</td>\n",
       "      <td></td>\n",
       "      <td>[O, O, O, O, O, O, O, O, O, O]</td>\n",
       "    </tr>\n",
       "    <tr>\n",
       "      <th>90</th>\n",
       "      <td>direct me to the nearest</td>\n",
       "      <td></td>\n",
       "      <td>[O, O, O, O, O]</td>\n",
       "    </tr>\n",
       "    <tr>\n",
       "      <th>93</th>\n",
       "      <td>are the portion at  large or very small</td>\n",
       "      <td></td>\n",
       "      <td>[O, O, O, O, O, O, O, O]</td>\n",
       "    </tr>\n",
       "    <tr>\n",
       "      <th>94</th>\n",
       "      <td>can you make me a reservation for todai for  f...</td>\n",
       "      <td></td>\n",
       "      <td>[O, O, O, O, O, O, O, O, O, O, O, O]</td>\n",
       "    </tr>\n",
       "    <tr>\n",
       "      <th>97</th>\n",
       "      <td>does  have a dress code</td>\n",
       "      <td></td>\n",
       "      <td>[O, O, O, O, O]</td>\n",
       "    </tr>\n",
       "    <tr>\n",
       "      <th>101</th>\n",
       "      <td>can you take me to  in framingham</td>\n",
       "      <td></td>\n",
       "      <td>[O, O, O, O, O, O, O]</td>\n",
       "    </tr>\n",
       "    <tr>\n",
       "      <th>104</th>\n",
       "      <td>can you find a highly rated  open this late</td>\n",
       "      <td></td>\n",
       "      <td>[O, O, O, O, O, O, O, O, O]</td>\n",
       "    </tr>\n",
       "    <tr>\n",
       "      <th>106</th>\n",
       "      <td>directions</td>\n",
       "      <td></td>\n",
       "      <td>[O]</td>\n",
       "    </tr>\n",
       "    <tr>\n",
       "      <th>107</th>\n",
       "      <td>does  have any outdoor parking</td>\n",
       "      <td></td>\n",
       "      <td>[O, O, O, O, O]</td>\n",
       "    </tr>\n",
       "    <tr>\n",
       "      <th>112</th>\n",
       "      <td>do you know if the  ongreentree lane have byob</td>\n",
       "      <td></td>\n",
       "      <td>[O, O, O, O, O, O, O, O, O]</td>\n",
       "    </tr>\n",
       "    <tr>\n",
       "      <th>114</th>\n",
       "      <td>do you have to make a reservation to go to</td>\n",
       "      <td></td>\n",
       "      <td>[O, O, O, O, O, O, O, O, O, O]</td>\n",
       "    </tr>\n",
       "    <tr>\n",
       "      <th>116</th>\n",
       "      <td>do you know if  have a dress code</td>\n",
       "      <td></td>\n",
       "      <td>[O, O, O, O, O, O, O, O]</td>\n",
       "    </tr>\n",
       "    <tr>\n",
       "      <th>119</th>\n",
       "      <td>are reservations available for four people for...</td>\n",
       "      <td></td>\n",
       "      <td>[O, O, O, O, O, O, O, O, O, O, O]</td>\n",
       "    </tr>\n",
       "  </tbody>\n",
       "</table>\n",
       "</div>"
      ],
      "text/plain": [
       "                                              sentence restaurant_name  \\\n",
       "4    can you find  dedham pizzeria that have a dine...                   \n",
       "6                can you tell me where the nearest  is                   \n",
       "14                  do you think  has fabulous service                   \n",
       "17                               can i get hambers at                    \n",
       "19            do you know if there are any reviews on                    \n",
       "24   are there reservations still available for  fo...                   \n",
       "26           are there any  in the city open on sunday                   \n",
       "27                        do i need a reservation for                    \n",
       "35   are there any  within 5 minutes drive that has...                   \n",
       "37                              are there any  in town                   \n",
       "39          can you make a reservation at  for tonight                   \n",
       "43   can you find out if the  has dancing and a goo...                   \n",
       "44   can i have the phone number for  in los angele...                   \n",
       "45   dining along the  restaurant is located on sut...                   \n",
       "46    can you please find the  restaurant in manhattan                   \n",
       "51   can you give me the  of the restaurant on gree...                   \n",
       "52    are there any  that i can drive too in 3 minutes                   \n",
       "57               can you find me a  thats not too busy                   \n",
       "60                                   home made dinners                   \n",
       "61                                               call                    \n",
       "62                            can i valet park at the                    \n",
       "63                                  can i dine at the                    \n",
       "68   can you find  thats hard to find with a huge p...                   \n",
       "76               can you tell me where the closest  is                   \n",
       "77                             does  do takeout orders                   \n",
       "79                  can you find me  with comfort food                   \n",
       "83                           does  have a smoking area                   \n",
       "84   can you help me find a  that serves small port...                   \n",
       "90                           direct me to the nearest                    \n",
       "93             are the portion at  large or very small                   \n",
       "94   can you make me a reservation for todai for  f...                   \n",
       "97                             does  have a dress code                   \n",
       "101                  can you take me to  in framingham                   \n",
       "104        can you find a highly rated  open this late                   \n",
       "106                                         directions                   \n",
       "107                     does  have any outdoor parking                   \n",
       "112     do you know if the  ongreentree lane have byob                   \n",
       "114        do you have to make a reservation to go to                    \n",
       "116                  do you know if  have a dress code                   \n",
       "119  are reservations available for four people for...                   \n",
       "\n",
       "                                        tags  \n",
       "4       [O, O, O, O, O, O, O, O, O, O, O, O]  \n",
       "6                   [O, O, O, O, O, O, O, O]  \n",
       "14                        [O, O, O, O, O, O]  \n",
       "17                           [O, O, O, O, O]  \n",
       "19               [O, O, O, O, O, O, O, O, O]  \n",
       "24      [O, O, O, O, O, O, O, O, O, O, O, O]  \n",
       "26               [O, O, O, O, O, O, O, O, O]  \n",
       "27                        [O, O, O, O, O, O]  \n",
       "35   [O, O, O, O, O, O, O, O, O, O, O, O, O]  \n",
       "37                           [O, O, O, O, O]  \n",
       "39                  [O, O, O, O, O, O, O, O]  \n",
       "43   [O, O, O, O, O, O, O, O, O, O, O, O, O]  \n",
       "44         [O, O, O, O, O, O, O, O, O, O, O]  \n",
       "45               [O, O, O, O, O, O, O, O, O]  \n",
       "46                  [O, O, O, O, O, O, O, O]  \n",
       "51         [O, O, O, O, O, O, O, O, O, O, O]  \n",
       "52         [O, O, O, O, O, O, O, O, O, O, O]  \n",
       "57               [O, O, O, O, O, O, O, O, O]  \n",
       "60                                 [O, O, O]  \n",
       "61                                       [O]  \n",
       "62                        [O, O, O, O, O, O]  \n",
       "63                           [O, O, O, O, O]  \n",
       "68         [O, O, O, O, O, O, O, O, O, O, O]  \n",
       "76                  [O, O, O, O, O, O, O, O]  \n",
       "77                              [O, O, O, O]  \n",
       "79                     [O, O, O, O, O, O, O]  \n",
       "83                           [O, O, O, O, O]  \n",
       "84            [O, O, O, O, O, O, O, O, O, O]  \n",
       "90                           [O, O, O, O, O]  \n",
       "93                  [O, O, O, O, O, O, O, O]  \n",
       "94      [O, O, O, O, O, O, O, O, O, O, O, O]  \n",
       "97                           [O, O, O, O, O]  \n",
       "101                    [O, O, O, O, O, O, O]  \n",
       "104              [O, O, O, O, O, O, O, O, O]  \n",
       "106                                      [O]  \n",
       "107                          [O, O, O, O, O]  \n",
       "112              [O, O, O, O, O, O, O, O, O]  \n",
       "114           [O, O, O, O, O, O, O, O, O, O]  \n",
       "116                 [O, O, O, O, O, O, O, O]  \n",
       "119        [O, O, O, O, O, O, O, O, O, O, O]  "
      ]
     },
     "execution_count": 21,
     "metadata": {},
     "output_type": "execute_result"
    }
   ],
   "source": [
    "train_delete = train.loc[train.restaurant_name != \"\",:].copy()\n",
    "train_delete[\"sentence\"] = train_delete.apply(lambda x: x[\"sentence\"].replace(x[\"restaurant_name\"], \"\") , axis = 1)\n",
    "train_delete[\"restaurant_name\"] = \"\"\n",
    "train_delete[\"tags\"] = train_delete.apply(lambda x: _tag_bio(x[\"sentence\"], x[\"restaurant_name\"]), axis=1)\n",
    "train_delete"
   ]
  },
  {
   "cell_type": "code",
   "execution_count": 26,
   "id": "cc282ec1",
   "metadata": {},
   "outputs": [],
   "source": [
    "train = pd.concat([train, train_delete], axis = 0, ignore_index=True)"
   ]
  },
  {
   "cell_type": "code",
   "execution_count": 28,
   "id": "d07351d7",
   "metadata": {
    "scrolled": true
   },
   "outputs": [
    {
     "data": {
      "text/html": [
       "<div>\n",
       "<style scoped>\n",
       "    .dataframe tbody tr th:only-of-type {\n",
       "        vertical-align: middle;\n",
       "    }\n",
       "\n",
       "    .dataframe tbody tr th {\n",
       "        vertical-align: top;\n",
       "    }\n",
       "\n",
       "    .dataframe thead th {\n",
       "        text-align: right;\n",
       "    }\n",
       "</style>\n",
       "<table border=\"1\" class=\"dataframe\">\n",
       "  <thead>\n",
       "    <tr style=\"text-align: right;\">\n",
       "      <th></th>\n",
       "      <th>sentence</th>\n",
       "      <th>restaurant_name</th>\n",
       "      <th>tags</th>\n",
       "    </tr>\n",
       "  </thead>\n",
       "  <tbody>\n",
       "    <tr>\n",
       "      <th>0</th>\n",
       "      <td>a four star restaurant with a bar</td>\n",
       "      <td></td>\n",
       "      <td>[O, O, O, O, O, O, O]</td>\n",
       "    </tr>\n",
       "    <tr>\n",
       "      <th>1</th>\n",
       "      <td>areas that allow smoking</td>\n",
       "      <td></td>\n",
       "      <td>[O, O, O, O]</td>\n",
       "    </tr>\n",
       "    <tr>\n",
       "      <th>2</th>\n",
       "      <td>any restaurants that still allow smoking</td>\n",
       "      <td></td>\n",
       "      <td>[O, O, O, O, O, O]</td>\n",
       "    </tr>\n",
       "    <tr>\n",
       "      <th>3</th>\n",
       "      <td>are there any restaurants for diabetics that s...</td>\n",
       "      <td></td>\n",
       "      <td>[O, O, O, O, O, O, O, O, O, O, O]</td>\n",
       "    </tr>\n",
       "    <tr>\n",
       "      <th>4</th>\n",
       "      <td>can you find east dedham pizzeria that have a ...</td>\n",
       "      <td>east</td>\n",
       "      <td>[O, O, O, B, O, O, O, O, O, O, O, O, O]</td>\n",
       "    </tr>\n",
       "    <tr>\n",
       "      <th>...</th>\n",
       "      <td>...</td>\n",
       "      <td>...</td>\n",
       "      <td>...</td>\n",
       "    </tr>\n",
       "    <tr>\n",
       "      <th>155</th>\n",
       "      <td>does  have any outdoor parking</td>\n",
       "      <td></td>\n",
       "      <td>[O, O, O, O, O]</td>\n",
       "    </tr>\n",
       "    <tr>\n",
       "      <th>156</th>\n",
       "      <td>do you know if the  ongreentree lane have byob</td>\n",
       "      <td></td>\n",
       "      <td>[O, O, O, O, O, O, O, O, O]</td>\n",
       "    </tr>\n",
       "    <tr>\n",
       "      <th>157</th>\n",
       "      <td>do you have to make a reservation to go to</td>\n",
       "      <td></td>\n",
       "      <td>[O, O, O, O, O, O, O, O, O, O]</td>\n",
       "    </tr>\n",
       "    <tr>\n",
       "      <th>158</th>\n",
       "      <td>do you know if  have a dress code</td>\n",
       "      <td></td>\n",
       "      <td>[O, O, O, O, O, O, O, O]</td>\n",
       "    </tr>\n",
       "    <tr>\n",
       "      <th>159</th>\n",
       "      <td>are reservations available for four people for...</td>\n",
       "      <td></td>\n",
       "      <td>[O, O, O, O, O, O, O, O, O, O, O]</td>\n",
       "    </tr>\n",
       "  </tbody>\n",
       "</table>\n",
       "<p>160 rows × 3 columns</p>\n",
       "</div>"
      ],
      "text/plain": [
       "                                              sentence restaurant_name  \\\n",
       "0                    a four star restaurant with a bar                   \n",
       "1                             areas that allow smoking                   \n",
       "2             any restaurants that still allow smoking                   \n",
       "3    are there any restaurants for diabetics that s...                   \n",
       "4    can you find east dedham pizzeria that have a ...            east   \n",
       "..                                                 ...             ...   \n",
       "155                     does  have any outdoor parking                   \n",
       "156     do you know if the  ongreentree lane have byob                   \n",
       "157        do you have to make a reservation to go to                    \n",
       "158                  do you know if  have a dress code                   \n",
       "159  are reservations available for four people for...                   \n",
       "\n",
       "                                        tags  \n",
       "0                      [O, O, O, O, O, O, O]  \n",
       "1                               [O, O, O, O]  \n",
       "2                         [O, O, O, O, O, O]  \n",
       "3          [O, O, O, O, O, O, O, O, O, O, O]  \n",
       "4    [O, O, O, B, O, O, O, O, O, O, O, O, O]  \n",
       "..                                       ...  \n",
       "155                          [O, O, O, O, O]  \n",
       "156              [O, O, O, O, O, O, O, O, O]  \n",
       "157           [O, O, O, O, O, O, O, O, O, O]  \n",
       "158                 [O, O, O, O, O, O, O, O]  \n",
       "159        [O, O, O, O, O, O, O, O, O, O, O]  \n",
       "\n",
       "[160 rows x 3 columns]"
      ]
     },
     "execution_count": 28,
     "metadata": {},
     "output_type": "execute_result"
    }
   ],
   "source": [
    "train"
   ]
  },
  {
   "cell_type": "code",
   "execution_count": 31,
   "id": "fbeacbac",
   "metadata": {},
   "outputs": [
    {
     "data": {
      "text/html": [
       "<div>\n",
       "<style scoped>\n",
       "    .dataframe tbody tr th:only-of-type {\n",
       "        vertical-align: middle;\n",
       "    }\n",
       "\n",
       "    .dataframe tbody tr th {\n",
       "        vertical-align: top;\n",
       "    }\n",
       "\n",
       "    .dataframe thead th {\n",
       "        text-align: right;\n",
       "    }\n",
       "</style>\n",
       "<table border=\"1\" class=\"dataframe\">\n",
       "  <thead>\n",
       "    <tr style=\"text-align: right;\">\n",
       "      <th></th>\n",
       "      <th>sentence</th>\n",
       "      <th>restaurant_name</th>\n",
       "      <th>tags</th>\n",
       "    </tr>\n",
       "  </thead>\n",
       "  <tbody>\n",
       "    <tr>\n",
       "      <th>138</th>\n",
       "      <td>home made dinners</td>\n",
       "      <td></td>\n",
       "      <td>[O, O, O]</td>\n",
       "    </tr>\n",
       "    <tr>\n",
       "      <th>150</th>\n",
       "      <td>can you make me a reservation for todai for  f...</td>\n",
       "      <td></td>\n",
       "      <td>[O, O, O, O, O, O, O, O, O, O, O, O]</td>\n",
       "    </tr>\n",
       "    <tr>\n",
       "      <th>152</th>\n",
       "      <td>can you take me to  in framingham</td>\n",
       "      <td></td>\n",
       "      <td>[O, O, O, O, O, O, O]</td>\n",
       "    </tr>\n",
       "    <tr>\n",
       "      <th>83</th>\n",
       "      <td>does caribe have a smoking area</td>\n",
       "      <td>caribe</td>\n",
       "      <td>[O, B, O, O, O, O]</td>\n",
       "    </tr>\n",
       "    <tr>\n",
       "      <th>45</th>\n",
       "      <td>dining along the waterfront restaurant is loca...</td>\n",
       "      <td>waterfront</td>\n",
       "      <td>[O, O, O, B, O, O, O, O, O, O]</td>\n",
       "    </tr>\n",
       "    <tr>\n",
       "      <th>...</th>\n",
       "      <td>...</td>\n",
       "      <td>...</td>\n",
       "      <td>...</td>\n",
       "    </tr>\n",
       "    <tr>\n",
       "      <th>66</th>\n",
       "      <td>are there any restaurants open after 2 am</td>\n",
       "      <td></td>\n",
       "      <td>[O, O, O, O, O, O, O, O]</td>\n",
       "    </tr>\n",
       "    <tr>\n",
       "      <th>35</th>\n",
       "      <td>are there any donut and donuts within 5 minute...</td>\n",
       "      <td>donut and donuts</td>\n",
       "      <td>[O, O, O, B, I, I, O, O, O, O, O, O, O, O, O, O]</td>\n",
       "    </tr>\n",
       "    <tr>\n",
       "      <th>82</th>\n",
       "      <td>are there any eatery at the hotel downtown</td>\n",
       "      <td></td>\n",
       "      <td>[O, O, O, O, O, O, O, O]</td>\n",
       "    </tr>\n",
       "    <tr>\n",
       "      <th>3</th>\n",
       "      <td>are there any restaurants for diabetics that s...</td>\n",
       "      <td></td>\n",
       "      <td>[O, O, O, O, O, O, O, O, O, O, O]</td>\n",
       "    </tr>\n",
       "    <tr>\n",
       "      <th>105</th>\n",
       "      <td>are there any restaurants nearby that have gre...</td>\n",
       "      <td></td>\n",
       "      <td>[O, O, O, O, O, O, O, O, O, O, O, O, O]</td>\n",
       "    </tr>\n",
       "  </tbody>\n",
       "</table>\n",
       "<p>160 rows × 3 columns</p>\n",
       "</div>"
      ],
      "text/plain": [
       "                                              sentence   restaurant_name  \\\n",
       "138                                  home made dinners                     \n",
       "150  can you make me a reservation for todai for  f...                     \n",
       "152                  can you take me to  in framingham                     \n",
       "83                     does caribe have a smoking area            caribe   \n",
       "45   dining along the waterfront restaurant is loca...        waterfront   \n",
       "..                                                 ...               ...   \n",
       "66           are there any restaurants open after 2 am                     \n",
       "35   are there any donut and donuts within 5 minute...  donut and donuts   \n",
       "82          are there any eatery at the hotel downtown                     \n",
       "3    are there any restaurants for diabetics that s...                     \n",
       "105  are there any restaurants nearby that have gre...                     \n",
       "\n",
       "                                                 tags  \n",
       "138                                         [O, O, O]  \n",
       "150              [O, O, O, O, O, O, O, O, O, O, O, O]  \n",
       "152                             [O, O, O, O, O, O, O]  \n",
       "83                                 [O, B, O, O, O, O]  \n",
       "45                     [O, O, O, B, O, O, O, O, O, O]  \n",
       "..                                                ...  \n",
       "66                           [O, O, O, O, O, O, O, O]  \n",
       "35   [O, O, O, B, I, I, O, O, O, O, O, O, O, O, O, O]  \n",
       "82                           [O, O, O, O, O, O, O, O]  \n",
       "3                   [O, O, O, O, O, O, O, O, O, O, O]  \n",
       "105           [O, O, O, O, O, O, O, O, O, O, O, O, O]  \n",
       "\n",
       "[160 rows x 3 columns]"
      ]
     },
     "execution_count": 31,
     "metadata": {},
     "output_type": "execute_result"
    }
   ],
   "source": [
    "train = train.sample(frac=1)\n",
    "\n",
    "train"
   ]
  },
  {
   "cell_type": "code",
   "execution_count": 32,
   "id": "03f0133d",
   "metadata": {
    "scrolled": true
   },
   "outputs": [
    {
     "data": {
      "text/html": [
       "<div>\n",
       "<style scoped>\n",
       "    .dataframe tbody tr th:only-of-type {\n",
       "        vertical-align: middle;\n",
       "    }\n",
       "\n",
       "    .dataframe tbody tr th {\n",
       "        vertical-align: top;\n",
       "    }\n",
       "\n",
       "    .dataframe thead th {\n",
       "        text-align: right;\n",
       "    }\n",
       "</style>\n",
       "<table border=\"1\" class=\"dataframe\">\n",
       "  <thead>\n",
       "    <tr style=\"text-align: right;\">\n",
       "      <th></th>\n",
       "      <th>sentence</th>\n",
       "      <th>restaurant_name</th>\n",
       "      <th>tags</th>\n",
       "    </tr>\n",
       "  </thead>\n",
       "  <tbody>\n",
       "    <tr>\n",
       "      <th>0</th>\n",
       "      <td>are there any ice cream shops in my neighborho...</td>\n",
       "      <td></td>\n",
       "      <td>[O, O, O, O, O, O, O, O, O, O, O, O, O, O]</td>\n",
       "    </tr>\n",
       "    <tr>\n",
       "      <th>1</th>\n",
       "      <td>are there any restaurants within 5 miles that ...</td>\n",
       "      <td></td>\n",
       "      <td>[O, O, O, O, O, O, O, O, O, O, O]</td>\n",
       "    </tr>\n",
       "    <tr>\n",
       "      <th>2</th>\n",
       "      <td>are there any locally owned franchises that gi...</td>\n",
       "      <td></td>\n",
       "      <td>[O, O, O, O, O, O, O, O, O, O, O]</td>\n",
       "    </tr>\n",
       "    <tr>\n",
       "      <th>3</th>\n",
       "      <td>are there any restaurants that will let me tak...</td>\n",
       "      <td></td>\n",
       "      <td>[O, O, O, O, O, O, O, O, O, O, O, O, O, O]</td>\n",
       "    </tr>\n",
       "    <tr>\n",
       "      <th>4</th>\n",
       "      <td>are there any five star restaurants around here</td>\n",
       "      <td></td>\n",
       "      <td>[O, O, O, O, O, O, O, O]</td>\n",
       "    </tr>\n",
       "    <tr>\n",
       "      <th>5</th>\n",
       "      <td>do you think the noodle bar is open</td>\n",
       "      <td>noodle bar</td>\n",
       "      <td>[O, O, O, O, B, I, O, O]</td>\n",
       "    </tr>\n",
       "    <tr>\n",
       "      <th>6</th>\n",
       "      <td>are there any vegetarian restaurants in this town</td>\n",
       "      <td></td>\n",
       "      <td>[O, O, O, O, O, O, O, O]</td>\n",
       "    </tr>\n",
       "    <tr>\n",
       "      <th>7</th>\n",
       "      <td>any places around here that has a nice view</td>\n",
       "      <td></td>\n",
       "      <td>[O, O, O, O, O, O, O, O, O]</td>\n",
       "    </tr>\n",
       "    <tr>\n",
       "      <th>8</th>\n",
       "      <td>are there any jazz clubs that serve food</td>\n",
       "      <td></td>\n",
       "      <td>[O, O, O, O, O, O, O, O]</td>\n",
       "    </tr>\n",
       "    <tr>\n",
       "      <th>9</th>\n",
       "      <td>do any famous people frequent the jimmys pizza...</td>\n",
       "      <td>jimmys pizza</td>\n",
       "      <td>[O, O, O, O, O, O, B, I, O, O, O, O, O]</td>\n",
       "    </tr>\n",
       "    <tr>\n",
       "      <th>10</th>\n",
       "      <td>are there any dining specials at le bec fin</td>\n",
       "      <td>le bec fin</td>\n",
       "      <td>[O, O, O, O, O, O, B, I, I]</td>\n",
       "    </tr>\n",
       "    <tr>\n",
       "      <th>11</th>\n",
       "      <td>are there any seafood restaurants near governm...</td>\n",
       "      <td></td>\n",
       "      <td>[O, O, O, O, O, O, O, O, O, O, O, O, O, O]</td>\n",
       "    </tr>\n",
       "    <tr>\n",
       "      <th>12</th>\n",
       "      <td>are there any places near by that sell hamburg...</td>\n",
       "      <td></td>\n",
       "      <td>[O, O, O, O, O, O, O, O, O, O, O]</td>\n",
       "    </tr>\n",
       "    <tr>\n",
       "      <th>13</th>\n",
       "      <td>are there any restaurants nearby that have out...</td>\n",
       "      <td></td>\n",
       "      <td>[O, O, O, O, O, O, O, O, O]</td>\n",
       "    </tr>\n",
       "    <tr>\n",
       "      <th>14</th>\n",
       "      <td>can you find the waterfront restaurant alberto...</td>\n",
       "      <td>albertos deli</td>\n",
       "      <td>[O, O, O, O, O, O, B, I, O, O, O, O, O, O, O]</td>\n",
       "    </tr>\n",
       "    <tr>\n",
       "      <th>15</th>\n",
       "      <td>do you know if reggianos serve breakfast</td>\n",
       "      <td>reggianos</td>\n",
       "      <td>[O, O, O, O, B, O, O]</td>\n",
       "    </tr>\n",
       "    <tr>\n",
       "      <th>16</th>\n",
       "      <td>are there any vegetarian restaurants that allo...</td>\n",
       "      <td></td>\n",
       "      <td>[O, O, O, O, O, O, O, O, O, O, O, O, O, O]</td>\n",
       "    </tr>\n",
       "    <tr>\n",
       "      <th>17</th>\n",
       "      <td>can you make reservations for two at heartland...</td>\n",
       "      <td>heartland restaurant</td>\n",
       "      <td>[O, O, O, O, O, O, O, B, I, O, O, O, O, O]</td>\n",
       "    </tr>\n",
       "    <tr>\n",
       "      <th>18</th>\n",
       "      <td>are there any greek restaurants in the area</td>\n",
       "      <td></td>\n",
       "      <td>[O, O, O, O, O, O, O, O]</td>\n",
       "    </tr>\n",
       "    <tr>\n",
       "      <th>19</th>\n",
       "      <td>are there any vegan spots that are open after ...</td>\n",
       "      <td></td>\n",
       "      <td>[O, O, O, O, O, O, O, O, O, O, O, O]</td>\n",
       "    </tr>\n",
       "    <tr>\n",
       "      <th>20</th>\n",
       "      <td>can you find the closest ihop</td>\n",
       "      <td>ihop</td>\n",
       "      <td>[O, O, O, O, O, B]</td>\n",
       "    </tr>\n",
       "    <tr>\n",
       "      <th>21</th>\n",
       "      <td>call cheeseboard in berkeley for me</td>\n",
       "      <td>cheeseboard</td>\n",
       "      <td>[O, B, O, O, O, O]</td>\n",
       "    </tr>\n",
       "    <tr>\n",
       "      <th>22</th>\n",
       "      <td>does burger king accept credit cards</td>\n",
       "      <td>burger king</td>\n",
       "      <td>[O, B, I, O, O, O]</td>\n",
       "    </tr>\n",
       "    <tr>\n",
       "      <th>23</th>\n",
       "      <td>beer and hot wings in town</td>\n",
       "      <td></td>\n",
       "      <td>[O, O, O, O, O, O]</td>\n",
       "    </tr>\n",
       "    <tr>\n",
       "      <th>24</th>\n",
       "      <td>are there any restaurants with valet parking a...</td>\n",
       "      <td></td>\n",
       "      <td>[O, O, O, O, O, O, O, O, O, O, O, O, O]</td>\n",
       "    </tr>\n",
       "    <tr>\n",
       "      <th>25</th>\n",
       "      <td>any bbq places open before 5 nearby</td>\n",
       "      <td></td>\n",
       "      <td>[O, O, O, O, O, O, O]</td>\n",
       "    </tr>\n",
       "    <tr>\n",
       "      <th>26</th>\n",
       "      <td>are there are any cracker barrells on long island</td>\n",
       "      <td>cracker barrells</td>\n",
       "      <td>[O, O, O, O, B, I, O, O, O]</td>\n",
       "    </tr>\n",
       "    <tr>\n",
       "      <th>27</th>\n",
       "      <td>best chinese food in the area</td>\n",
       "      <td></td>\n",
       "      <td>[O, O, O, O, O, O]</td>\n",
       "    </tr>\n",
       "    <tr>\n",
       "      <th>28</th>\n",
       "      <td>any good vegan spots nearby</td>\n",
       "      <td></td>\n",
       "      <td>[O, O, O, O, O]</td>\n",
       "    </tr>\n",
       "    <tr>\n",
       "      <th>29</th>\n",
       "      <td>are there any places near by that serve lunch ...</td>\n",
       "      <td></td>\n",
       "      <td>[O, O, O, O, O, O, O, O, O, O, O]</td>\n",
       "    </tr>\n",
       "  </tbody>\n",
       "</table>\n",
       "</div>"
      ],
      "text/plain": [
       "                                             sentence       restaurant_name  \\\n",
       "0   are there any ice cream shops in my neighborho...                         \n",
       "1   are there any restaurants within 5 miles that ...                         \n",
       "2   are there any locally owned franchises that gi...                         \n",
       "3   are there any restaurants that will let me tak...                         \n",
       "4     are there any five star restaurants around here                         \n",
       "5                 do you think the noodle bar is open            noodle bar   \n",
       "6   are there any vegetarian restaurants in this town                         \n",
       "7         any places around here that has a nice view                         \n",
       "8            are there any jazz clubs that serve food                         \n",
       "9   do any famous people frequent the jimmys pizza...          jimmys pizza   \n",
       "10        are there any dining specials at le bec fin            le bec fin   \n",
       "11  are there any seafood restaurants near governm...                         \n",
       "12  are there any places near by that sell hamburg...                         \n",
       "13  are there any restaurants nearby that have out...                         \n",
       "14  can you find the waterfront restaurant alberto...         albertos deli   \n",
       "15           do you know if reggianos serve breakfast             reggianos   \n",
       "16  are there any vegetarian restaurants that allo...                         \n",
       "17  can you make reservations for two at heartland...  heartland restaurant   \n",
       "18        are there any greek restaurants in the area                         \n",
       "19  are there any vegan spots that are open after ...                         \n",
       "20                      can you find the closest ihop                  ihop   \n",
       "21                call cheeseboard in berkeley for me           cheeseboard   \n",
       "22               does burger king accept credit cards           burger king   \n",
       "23                         beer and hot wings in town                         \n",
       "24  are there any restaurants with valet parking a...                         \n",
       "25                any bbq places open before 5 nearby                         \n",
       "26  are there are any cracker barrells on long island      cracker barrells   \n",
       "27                      best chinese food in the area                         \n",
       "28                        any good vegan spots nearby                         \n",
       "29  are there any places near by that serve lunch ...                         \n",
       "\n",
       "                                             tags  \n",
       "0      [O, O, O, O, O, O, O, O, O, O, O, O, O, O]  \n",
       "1               [O, O, O, O, O, O, O, O, O, O, O]  \n",
       "2               [O, O, O, O, O, O, O, O, O, O, O]  \n",
       "3      [O, O, O, O, O, O, O, O, O, O, O, O, O, O]  \n",
       "4                        [O, O, O, O, O, O, O, O]  \n",
       "5                        [O, O, O, O, B, I, O, O]  \n",
       "6                        [O, O, O, O, O, O, O, O]  \n",
       "7                     [O, O, O, O, O, O, O, O, O]  \n",
       "8                        [O, O, O, O, O, O, O, O]  \n",
       "9         [O, O, O, O, O, O, B, I, O, O, O, O, O]  \n",
       "10                    [O, O, O, O, O, O, B, I, I]  \n",
       "11     [O, O, O, O, O, O, O, O, O, O, O, O, O, O]  \n",
       "12              [O, O, O, O, O, O, O, O, O, O, O]  \n",
       "13                    [O, O, O, O, O, O, O, O, O]  \n",
       "14  [O, O, O, O, O, O, B, I, O, O, O, O, O, O, O]  \n",
       "15                          [O, O, O, O, B, O, O]  \n",
       "16     [O, O, O, O, O, O, O, O, O, O, O, O, O, O]  \n",
       "17     [O, O, O, O, O, O, O, B, I, O, O, O, O, O]  \n",
       "18                       [O, O, O, O, O, O, O, O]  \n",
       "19           [O, O, O, O, O, O, O, O, O, O, O, O]  \n",
       "20                             [O, O, O, O, O, B]  \n",
       "21                             [O, B, O, O, O, O]  \n",
       "22                             [O, B, I, O, O, O]  \n",
       "23                             [O, O, O, O, O, O]  \n",
       "24        [O, O, O, O, O, O, O, O, O, O, O, O, O]  \n",
       "25                          [O, O, O, O, O, O, O]  \n",
       "26                    [O, O, O, O, B, I, O, O, O]  \n",
       "27                             [O, O, O, O, O, O]  \n",
       "28                                [O, O, O, O, O]  \n",
       "29              [O, O, O, O, O, O, O, O, O, O, O]  "
      ]
     },
     "execution_count": 32,
     "metadata": {},
     "output_type": "execute_result"
    }
   ],
   "source": [
    "val[\"tags\"] = val.apply(lambda x: _tag_bio(x[\"sentence\"], x[\"restaurant_name\"]), axis=1)\n",
    "\n",
    "val"
   ]
  },
  {
   "cell_type": "code",
   "execution_count": 33,
   "id": "c7736dcf",
   "metadata": {
    "scrolled": true
   },
   "outputs": [
    {
     "data": {
      "text/html": [
       "<div>\n",
       "<style scoped>\n",
       "    .dataframe tbody tr th:only-of-type {\n",
       "        vertical-align: middle;\n",
       "    }\n",
       "\n",
       "    .dataframe tbody tr th {\n",
       "        vertical-align: top;\n",
       "    }\n",
       "\n",
       "    .dataframe thead th {\n",
       "        text-align: right;\n",
       "    }\n",
       "</style>\n",
       "<table border=\"1\" class=\"dataframe\">\n",
       "  <thead>\n",
       "    <tr style=\"text-align: right;\">\n",
       "      <th></th>\n",
       "      <th>sentence</th>\n",
       "      <th>restaurant_name</th>\n",
       "      <th>tags</th>\n",
       "    </tr>\n",
       "  </thead>\n",
       "  <tbody>\n",
       "    <tr>\n",
       "      <th>0</th>\n",
       "      <td>find pizza places</td>\n",
       "      <td></td>\n",
       "      <td>[O, O, O]</td>\n",
       "    </tr>\n",
       "    <tr>\n",
       "      <th>1</th>\n",
       "      <td>find me the best rated chinese restaurant in t...</td>\n",
       "      <td></td>\n",
       "      <td>[O, O, O, O, O, O, O, O, O, O, O]</td>\n",
       "    </tr>\n",
       "    <tr>\n",
       "      <th>2</th>\n",
       "      <td>what kind of food does abc cafe serve</td>\n",
       "      <td>abc cafe</td>\n",
       "      <td>[O, O, O, O, O, B, I, O]</td>\n",
       "    </tr>\n",
       "    <tr>\n",
       "      <th>3</th>\n",
       "      <td>how far away is the nearest steak house</td>\n",
       "      <td></td>\n",
       "      <td>[O, O, O, O, O, O, O, O]</td>\n",
       "    </tr>\n",
       "    <tr>\n",
       "      <th>4</th>\n",
       "      <td>i am looking for a mexican restuarant that has...</td>\n",
       "      <td></td>\n",
       "      <td>[O, O, O, O, O, O, O, O, O, O, O, O]</td>\n",
       "    </tr>\n",
       "    <tr>\n",
       "      <th>...</th>\n",
       "      <td>...</td>\n",
       "      <td>...</td>\n",
       "      <td>...</td>\n",
       "    </tr>\n",
       "    <tr>\n",
       "      <th>145</th>\n",
       "      <td>find me brazilian food with on location parking</td>\n",
       "      <td></td>\n",
       "      <td>[O, O, O, O, O, O, O, O]</td>\n",
       "    </tr>\n",
       "    <tr>\n",
       "      <th>146</th>\n",
       "      <td>get me to a mexican place</td>\n",
       "      <td></td>\n",
       "      <td>[O, O, O, O, O, O]</td>\n",
       "    </tr>\n",
       "    <tr>\n",
       "      <th>147</th>\n",
       "      <td>how far am i from the nearest bagel shop</td>\n",
       "      <td></td>\n",
       "      <td>[O, O, O, O, O, O, O, O, O]</td>\n",
       "    </tr>\n",
       "    <tr>\n",
       "      <th>148</th>\n",
       "      <td>what time does sonic open</td>\n",
       "      <td>sonic</td>\n",
       "      <td>[O, O, O, B, O]</td>\n",
       "    </tr>\n",
       "    <tr>\n",
       "      <th>149</th>\n",
       "      <td>give me a list of restaurants that have seafoo...</td>\n",
       "      <td></td>\n",
       "      <td>[O, O, O, O, O, O, O, O, O, O, O, O]</td>\n",
       "    </tr>\n",
       "  </tbody>\n",
       "</table>\n",
       "<p>150 rows × 3 columns</p>\n",
       "</div>"
      ],
      "text/plain": [
       "                                              sentence restaurant_name  \\\n",
       "0                                    find pizza places                   \n",
       "1    find me the best rated chinese restaurant in t...                   \n",
       "2                what kind of food does abc cafe serve        abc cafe   \n",
       "3              how far away is the nearest steak house                   \n",
       "4    i am looking for a mexican restuarant that has...                   \n",
       "..                                                 ...             ...   \n",
       "145    find me brazilian food with on location parking                   \n",
       "146                          get me to a mexican place                   \n",
       "147           how far am i from the nearest bagel shop                   \n",
       "148                          what time does sonic open           sonic   \n",
       "149  give me a list of restaurants that have seafoo...                   \n",
       "\n",
       "                                     tags  \n",
       "0                               [O, O, O]  \n",
       "1       [O, O, O, O, O, O, O, O, O, O, O]  \n",
       "2                [O, O, O, O, O, B, I, O]  \n",
       "3                [O, O, O, O, O, O, O, O]  \n",
       "4    [O, O, O, O, O, O, O, O, O, O, O, O]  \n",
       "..                                    ...  \n",
       "145              [O, O, O, O, O, O, O, O]  \n",
       "146                    [O, O, O, O, O, O]  \n",
       "147           [O, O, O, O, O, O, O, O, O]  \n",
       "148                       [O, O, O, B, O]  \n",
       "149  [O, O, O, O, O, O, O, O, O, O, O, O]  \n",
       "\n",
       "[150 rows x 3 columns]"
      ]
     },
     "execution_count": 33,
     "metadata": {},
     "output_type": "execute_result"
    }
   ],
   "source": [
    "holdout[\"tags\"] = holdout.apply(lambda x: _tag_bio(x[\"sentence\"], x[\"restaurant_name\"]), axis=1)\n",
    "\n",
    "holdout"
   ]
  },
  {
   "cell_type": "code",
   "execution_count": 34,
   "id": "b803ffbb",
   "metadata": {},
   "outputs": [
    {
     "name": "stderr",
     "output_type": "stream",
     "text": [
      "2021-09-13 18:21:58.997861: W tensorflow/stream_executor/platform/default/dso_loader.cc:64] Could not load dynamic library 'libcudart.so.11.0'; dlerror: libcudart.so.11.0: cannot open shared object file: No such file or directory\n",
      "2021-09-13 18:21:58.997896: I tensorflow/stream_executor/cuda/cudart_stub.cc:29] Ignore above cudart dlerror if you do not have a GPU set up on your machine.\n"
     ]
    },
    {
     "data": {
      "text/plain": [
       "'1.8.1+cu102'"
      ]
     },
     "execution_count": 34,
     "metadata": {},
     "output_type": "execute_result"
    }
   ],
   "source": [
    "import pandas as pd\n",
    "import numpy as np\n",
    "from tqdm import tqdm, trange\n",
    "import os, sys\n",
    "import torch\n",
    "from torch.utils.data import TensorDataset, DataLoader, RandomSampler, SequentialSampler\n",
    "from transformers import BertTokenizer, BertConfig\n",
    "\n",
    "from keras.preprocessing.sequence import pad_sequences\n",
    "from sklearn.model_selection import train_test_split\n",
    "\n",
    "torch.__version__"
   ]
  },
  {
   "cell_type": "code",
   "execution_count": 35,
   "id": "0ba37c02",
   "metadata": {},
   "outputs": [],
   "source": [
    "tokenizer = BertTokenizer.from_pretrained('bert-base-uncased', do_lower_case=True)"
   ]
  },
  {
   "cell_type": "code",
   "execution_count": 36,
   "id": "86f2aafd",
   "metadata": {},
   "outputs": [
    {
     "data": {
      "text/plain": [
       "17"
      ]
     },
     "execution_count": 36,
     "metadata": {},
     "output_type": "execute_result"
    }
   ],
   "source": [
    "train.tags.apply(len).max()"
   ]
  },
  {
   "cell_type": "code",
   "execution_count": 37,
   "id": "58f3e83a",
   "metadata": {},
   "outputs": [],
   "source": [
    "train_sents = train[\"sentence\"].apply(lambda x: x.split()).tolist()\n",
    "\n",
    "train_labels = train[\"tags\"].tolist()\n",
    "\n",
    "val_sents = val[\"sentence\"].apply(lambda x: x.split()).tolist()\n",
    "\n",
    "val_labels = val[\"tags\"].tolist()\n",
    "\n",
    "holdout_sents = holdout[\"sentence\"].apply(lambda x: x.split()).tolist()\n",
    "\n",
    "holdout_labels = holdout[\"tags\"].tolist()\n"
   ]
  },
  {
   "cell_type": "code",
   "execution_count": 38,
   "id": "db79c0c1",
   "metadata": {},
   "outputs": [],
   "source": [
    "MAX_LEN = 50\n",
    "bs = 2\n",
    "device = torch.device(\"cuda\" if torch.cuda.is_available() else \"cpu\")\n",
    "n_gpu = torch.cuda.device_count()\n",
    "\n",
    "tokenizer = BertTokenizer.from_pretrained('bert-base-uncased', do_lower_case=True)"
   ]
  },
  {
   "cell_type": "code",
   "execution_count": 39,
   "id": "a4ef78b9",
   "metadata": {},
   "outputs": [],
   "source": [
    "def tokenize_and_preserve_labels(sentence, text_labels):\n",
    "    tokenized_sentence = []\n",
    "    labels = []\n",
    "\n",
    "    for word, label in zip(sentence, text_labels):\n",
    "\n",
    "        # Tokenize the word and count # of subwords the word is broken into\n",
    "        tokenized_word = tokenizer.tokenize(word)\n",
    "        n_subwords = len(tokenized_word)\n",
    "\n",
    "        # Add the tokenized word to the final tokenized word list\n",
    "        tokenized_sentence.extend(tokenized_word)\n",
    "\n",
    "        # Add the same label to the new list of labels `n_subwords` times\n",
    "        labels.extend([label] * n_subwords)\n",
    "\n",
    "    return tokenized_sentence, labels\n"
   ]
  },
  {
   "cell_type": "code",
   "execution_count": 40,
   "id": "b27069c7",
   "metadata": {},
   "outputs": [],
   "source": [
    "train_tokenized_texts_and_labels = [\n",
    "    tokenize_and_preserve_labels(sent, labs)\n",
    "    for sent, labs in zip(train_sents, train_labels)\n",
    "]\n"
   ]
  },
  {
   "cell_type": "code",
   "execution_count": 41,
   "id": "8249d817",
   "metadata": {},
   "outputs": [],
   "source": [
    "val_tokenized_texts_and_labels = [\n",
    "    tokenize_and_preserve_labels(sent, labs)\n",
    "    for sent, labs in zip(val_sents, val_labels)\n",
    "]\n"
   ]
  },
  {
   "cell_type": "code",
   "execution_count": 42,
   "id": "2b272df9",
   "metadata": {},
   "outputs": [],
   "source": [
    "holdout_tokenized_texts_and_labels = [\n",
    "    tokenize_and_preserve_labels(sent, labs)\n",
    "    for sent, labs in zip(holdout_sents, holdout_labels)\n",
    "]\n"
   ]
  },
  {
   "cell_type": "code",
   "execution_count": 43,
   "id": "2521e394",
   "metadata": {},
   "outputs": [],
   "source": [
    "train_tokenized_texts = [token_label_pair[0] for token_label_pair in train_tokenized_texts_and_labels]\n",
    "\n",
    "train_labels = [token_label_pair[1] for token_label_pair in train_tokenized_texts_and_labels]"
   ]
  },
  {
   "cell_type": "code",
   "execution_count": 44,
   "id": "b79bb3cd",
   "metadata": {},
   "outputs": [],
   "source": [
    "val_tokenized_texts = [token_label_pair[0] for token_label_pair in val_tokenized_texts_and_labels]\n",
    "\n",
    "val_labels = [token_label_pair[1] for token_label_pair in val_tokenized_texts_and_labels]"
   ]
  },
  {
   "cell_type": "code",
   "execution_count": 45,
   "id": "69b32908",
   "metadata": {},
   "outputs": [],
   "source": [
    "holdout_tokenized_texts = [token_label_pair[0] for token_label_pair in holdout_tokenized_texts_and_labels]\n",
    "\n",
    "holdout_labels = [token_label_pair[1] for token_label_pair in holdout_tokenized_texts_and_labels]"
   ]
  },
  {
   "cell_type": "code",
   "execution_count": 46,
   "id": "05ae5efe",
   "metadata": {},
   "outputs": [],
   "source": [
    "input_ids_train = pad_sequences([tokenizer.convert_tokens_to_ids(txt) for txt in train_tokenized_texts],\n",
    "                          maxlen=MAX_LEN, dtype=\"long\", value=0.0,\n",
    "                          truncating=\"post\", padding=\"post\")"
   ]
  },
  {
   "cell_type": "code",
   "execution_count": 47,
   "id": "6c022828",
   "metadata": {},
   "outputs": [],
   "source": [
    "input_ids_val = pad_sequences([tokenizer.convert_tokens_to_ids(txt) for txt in val_tokenized_texts],\n",
    "                          maxlen=MAX_LEN, dtype=\"long\", value=0.0,\n",
    "                          truncating=\"post\", padding=\"post\")"
   ]
  },
  {
   "cell_type": "code",
   "execution_count": 48,
   "id": "4fee6834",
   "metadata": {},
   "outputs": [],
   "source": [
    "input_ids_holdout = pad_sequences([tokenizer.convert_tokens_to_ids(txt) for txt in holdout_tokenized_texts],\n",
    "                          maxlen=MAX_LEN, dtype=\"long\", value=0.0,\n",
    "                          truncating=\"post\", padding=\"post\")"
   ]
  },
  {
   "cell_type": "code",
   "execution_count": 49,
   "id": "0b18ffc1",
   "metadata": {},
   "outputs": [
    {
     "data": {
      "text/plain": [
       "{'B': 0, 'I': 1, 'O': 2, 'PAD': 3}"
      ]
     },
     "execution_count": 49,
     "metadata": {},
     "output_type": "execute_result"
    }
   ],
   "source": [
    "tag_values = [\"B\", \"I\", \"O\", \"PAD\"]\n",
    "\n",
    "tag2idx = {t: i for i, t in enumerate(tag_values)}\n",
    "\n",
    "tag2idx"
   ]
  },
  {
   "cell_type": "code",
   "execution_count": 50,
   "id": "9cd93780",
   "metadata": {},
   "outputs": [],
   "source": [
    "train_tags = pad_sequences([[tag2idx.get(l) for l in lab] for lab in train_labels],\n",
    "                     maxlen=MAX_LEN, value=tag2idx[\"PAD\"], padding=\"post\",\n",
    "                     dtype=\"long\", truncating=\"post\")"
   ]
  },
  {
   "cell_type": "code",
   "execution_count": 51,
   "id": "6bf46202",
   "metadata": {},
   "outputs": [],
   "source": [
    "val_tags = pad_sequences([[tag2idx.get(l) for l in lab] for lab in val_labels],\n",
    "                     maxlen=MAX_LEN, value=tag2idx[\"PAD\"], padding=\"post\",\n",
    "                     dtype=\"long\", truncating=\"post\")"
   ]
  },
  {
   "cell_type": "code",
   "execution_count": 52,
   "id": "f64b14ee",
   "metadata": {},
   "outputs": [],
   "source": [
    "holdout_tags = pad_sequences([[tag2idx.get(l) for l in lab] for lab in holdout_labels],\n",
    "                     maxlen=MAX_LEN, value=tag2idx[\"PAD\"], padding=\"post\",\n",
    "                     dtype=\"long\", truncating=\"post\")"
   ]
  },
  {
   "cell_type": "code",
   "execution_count": 53,
   "id": "4f51baed",
   "metadata": {},
   "outputs": [],
   "source": [
    "train_attention_masks = [[float(i != 0.0) for i in ii] for ii in input_ids_train]"
   ]
  },
  {
   "cell_type": "code",
   "execution_count": 54,
   "id": "1dabeba2",
   "metadata": {},
   "outputs": [],
   "source": [
    "val_attention_masks = [[float(i != 0.0) for i in ii] for ii in input_ids_val]"
   ]
  },
  {
   "cell_type": "code",
   "execution_count": 55,
   "id": "19b05248",
   "metadata": {},
   "outputs": [],
   "source": [
    "holdout_attention_masks = [[float(i != 0.0) for i in ii] for ii in input_ids_holdout]"
   ]
  },
  {
   "cell_type": "code",
   "execution_count": 56,
   "id": "3784e1c7",
   "metadata": {},
   "outputs": [],
   "source": [
    "train_inputs = torch.tensor(input_ids_train)\n",
    "\n",
    "val_inputs = torch.tensor(input_ids_val)\n",
    "\n",
    "holdout_inputs = torch.tensor(input_ids_holdout)\n",
    "\n",
    "train_tags = torch.tensor(train_tags)\n",
    "\n",
    "val_tags = torch.tensor(val_tags)\n",
    "\n",
    "holdout_tags = torch.tensor(holdout_tags)\n",
    "\n",
    "train_attention_masks = torch.tensor(train_attention_masks)\n",
    "\n",
    "val_attention_masks = torch.tensor(val_attention_masks)\n",
    "\n",
    "holdout_attention_masks = torch.tensor(holdout_attention_masks)"
   ]
  },
  {
   "cell_type": "code",
   "execution_count": 57,
   "id": "d89dfae6",
   "metadata": {},
   "outputs": [
    {
     "data": {
      "text/plain": [
       "(torch.Size([30, 50]), torch.Size([30, 50]), torch.Size([30, 50]))"
      ]
     },
     "execution_count": 57,
     "metadata": {},
     "output_type": "execute_result"
    }
   ],
   "source": [
    "val_inputs.shape, val_tags.shape, val_attention_masks.shape"
   ]
  },
  {
   "cell_type": "code",
   "execution_count": 58,
   "id": "5b3e289d",
   "metadata": {},
   "outputs": [],
   "source": [
    "train_data = TensorDataset(train_inputs, train_attention_masks, train_tags)\n",
    "train_sampler = RandomSampler(train_data)\n",
    "train_dataloader = DataLoader(train_data, sampler=train_sampler, batch_size=bs)\n",
    "\n",
    "valid_data = TensorDataset(val_inputs, val_attention_masks, val_tags)\n",
    "valid_sampler = SequentialSampler(valid_data)\n",
    "valid_dataloader = DataLoader(valid_data, sampler=valid_sampler, batch_size=bs)\n"
   ]
  },
  {
   "cell_type": "code",
   "execution_count": 59,
   "id": "bf280356",
   "metadata": {},
   "outputs": [
    {
     "data": {
      "text/plain": [
       "'4.7.0'"
      ]
     },
     "execution_count": 59,
     "metadata": {},
     "output_type": "execute_result"
    }
   ],
   "source": [
    "\n",
    "\n",
    "import transformers\n",
    "from transformers import BertForTokenClassification, AdamW\n",
    "\n",
    "transformers.__version__\n",
    "\n"
   ]
  },
  {
   "cell_type": "code",
   "execution_count": 60,
   "id": "7395d9e3",
   "metadata": {},
   "outputs": [
    {
     "name": "stderr",
     "output_type": "stream",
     "text": [
      "Some weights of the model checkpoint at bert-base-uncased were not used when initializing BertForTokenClassification: ['cls.seq_relationship.bias', 'cls.seq_relationship.weight', 'cls.predictions.decoder.weight', 'cls.predictions.transform.dense.bias', 'cls.predictions.bias', 'cls.predictions.transform.dense.weight', 'cls.predictions.transform.LayerNorm.weight', 'cls.predictions.transform.LayerNorm.bias']\n",
      "- This IS expected if you are initializing BertForTokenClassification from the checkpoint of a model trained on another task or with another architecture (e.g. initializing a BertForSequenceClassification model from a BertForPreTraining model).\n",
      "- This IS NOT expected if you are initializing BertForTokenClassification from the checkpoint of a model that you expect to be exactly identical (initializing a BertForSequenceClassification model from a BertForSequenceClassification model).\n",
      "Some weights of BertForTokenClassification were not initialized from the model checkpoint at bert-base-uncased and are newly initialized: ['classifier.weight', 'classifier.bias']\n",
      "You should probably TRAIN this model on a down-stream task to be able to use it for predictions and inference.\n"
     ]
    }
   ],
   "source": [
    "model = BertForTokenClassification.from_pretrained(\n",
    "    \"bert-base-uncased\",\n",
    "    num_labels=len(tag2idx),\n",
    "    output_attentions = False,\n",
    "    output_hidden_states = False\n",
    ")\n",
    "#model.cuda();\n"
   ]
  },
  {
   "cell_type": "code",
   "execution_count": 61,
   "id": "d14dc3d8",
   "metadata": {},
   "outputs": [],
   "source": [
    "FULL_FINETUNING = True\n",
    "\n",
    "if FULL_FINETUNING:\n",
    "    param_optimizer = list(model.named_parameters())\n",
    "    no_decay = ['bias', 'gamma', 'beta']\n",
    "    optimizer_grouped_parameters = [\n",
    "        {'params': [p for n, p in param_optimizer if not any(nd in n for nd in no_decay)],\n",
    "         'weight_decay_rate': 0.01},\n",
    "        {'params': [p for n, p in param_optimizer if any(nd in n for nd in no_decay)],\n",
    "         'weight_decay_rate': 0.0}\n",
    "    ]\n",
    "else:\n",
    "    param_optimizer = list(model.classifier.named_parameters())\n",
    "    optimizer_grouped_parameters = [{\"params\": [p for n, p in param_optimizer]}]\n",
    "\n",
    "optimizer = AdamW(\n",
    "    optimizer_grouped_parameters,\n",
    "    lr=3e-5,\n",
    "    eps=1e-8\n",
    ")"
   ]
  },
  {
   "cell_type": "code",
   "execution_count": 62,
   "id": "71106268",
   "metadata": {},
   "outputs": [
    {
     "name": "stdout",
     "output_type": "stream",
     "text": [
      "80 800\n"
     ]
    }
   ],
   "source": [
    "from transformers import get_linear_schedule_with_warmup\n",
    "\n",
    "epochs = 10\n",
    "max_grad_norm = 1.0\n",
    "\n",
    "# Total number of training steps is number of batches * number of epochs.\n",
    "total_steps = len(train_dataloader) * epochs\n",
    "\n",
    "num_warmup_steps = int(0.1 * total_steps)\n",
    "\n",
    "print(num_warmup_steps, total_steps)\n",
    "# Create the learning rate scheduler.\n",
    "scheduler = get_linear_schedule_with_warmup(\n",
    "    optimizer,\n",
    "    num_warmup_steps=num_warmup_steps,\n",
    "    num_training_steps=total_steps\n",
    ")"
   ]
  },
  {
   "cell_type": "code",
   "execution_count": 63,
   "id": "3f883b07",
   "metadata": {},
   "outputs": [],
   "source": [
    "################################\n",
    "# DO NOT CHANGE THIS FUNCTION! #\n",
    "################################\n",
    "\n",
    "def get_f1_score_on_test_data(model, data):\n",
    "    model.eval()\n",
    "    true_positives = 0\n",
    "    false_positives = 0\n",
    "    false_negatives = 0\n",
    "    for index, row in data.iterrows():\n",
    "        sentence = row.sentence\n",
    "        expected = row.restaurant_name\n",
    "        #inputs = tokenizer([sentence], max_length=1024, return_tensors='pt')\n",
    "        predicted = generate_outputs(model, sentence)\n",
    "        if expected != '' and expected == predicted:\n",
    "            true_positives += 1\n",
    "        if expected != '' and expected != predicted:\n",
    "            false_positives += 1\n",
    "        if expected == '' and predicted != '':\n",
    "            false_positives += 1\n",
    "        if expected != '' and predicted == '':\n",
    "            false_negatives += 1\n",
    "\n",
    "    precision = 0\n",
    "    recall = 0\n",
    "    f1_score = 0\n",
    "    if true_positives + false_positives:\n",
    "        precision = true_positives / (true_positives + false_positives)\n",
    "    if true_positives + false_negatives:\n",
    "        recall = true_positives /(true_positives + false_negatives)\n",
    "    if precision + recall:\n",
    "        f1_score = 2 * precision * recall / (precision + recall)\n",
    "\n",
    "    print(f'precision: {precision} | recall {recall} | f1_score {f1_score}')\n",
    "    return f1_score\n",
    "\n",
    "\n",
    "def convert_bio_text(words, tags):\n",
    "    \n",
    "    prev_tag = \"O\"\n",
    "    extracted_dict = {}\n",
    "    count = 0\n",
    "    for x,t in zip(words, tags):\n",
    "        if prev_tag == \"O\":\n",
    "            if t == \"B\":\n",
    "                prev_tag = \"B\"\n",
    "                extracted_dict[count] = [x]\n",
    "        else:\n",
    "            if t == \"I\":\n",
    "                extracted_dict[count].append(x)\n",
    "                prev_tag = \"I\"\n",
    "            elif t == \"B\" :\n",
    "                prev_tag = \"B\"\n",
    "                count += 1\n",
    "                extracted_dict[count] = [x]\n",
    "            else:\n",
    "                count += 1\n",
    "                prev_tag = \"O\"\n",
    "                \n",
    "    for i in extracted_dict.keys():\n",
    "        extracted_dict[i] = \" \".join(extracted_dict[i])\n",
    "    return list(extracted_dict.values())\n",
    "\n",
    "def generate_outputs(model, sentence, device=\"cpu\"):\n",
    "    \n",
    "    tokenized_sentence = tokenizer.encode(sentence)\n",
    "    \n",
    "    input_ids = torch.tensor([tokenized_sentence]).to(device)\n",
    "    \n",
    "    with torch.no_grad():\n",
    "        output = model(input_ids)\n",
    "        \n",
    "    label_indices = np.argmax(output[0].to('cpu').numpy(), axis=2)\n",
    "    \n",
    "    tokens = tokenizer.convert_ids_to_tokens(input_ids.to('cpu').numpy()[0])\n",
    "\n",
    "    new_tokens, new_labels = [], []\n",
    "\n",
    "    for token, label_idx in zip(tokens, label_indices[0]):\n",
    "\n",
    "        if token.startswith(\"##\"):\n",
    "\n",
    "            new_tokens[-1] = new_tokens[-1] + token[2:]\n",
    "\n",
    "        else:\n",
    "\n",
    "            new_labels.append(tag_values[label_idx])\n",
    "\n",
    "            new_tokens.append(token)\n",
    "            \n",
    "    return \" \".join(convert_bio_text(new_tokens, new_labels))\n",
    "    "
   ]
  },
  {
   "cell_type": "code",
   "execution_count": 64,
   "id": "ba70a125",
   "metadata": {
    "scrolled": true
   },
   "outputs": [
    {
     "name": "stderr",
     "output_type": "stream",
     "text": [
      "100%|██████████████████████████████████████████████████████████████████████████████████████████████| 80/80 [01:59<00:00,  1.50s/it]\n"
     ]
    },
    {
     "name": "stdout",
     "output_type": "stream",
     "text": [
      "Average train loss: 0.5170499167754314\n",
      "Validation loss: 0.3746180366103848\n",
      "val on val\n",
      "precision: 0.0 | recall 0.0 | f1_score 0\n",
      "val on holdout\n"
     ]
    },
    {
     "name": "stderr",
     "output_type": "stream",
     "text": [
      "\r",
      "Epoch:  10%|████████▋                                                                              | 1/10 [02:11<19:40, 131.22s/it]"
     ]
    },
    {
     "name": "stdout",
     "output_type": "stream",
     "text": [
      "precision: 0.0 | recall 0.0 | f1_score 0\n",
      "\n"
     ]
    },
    {
     "name": "stderr",
     "output_type": "stream",
     "text": [
      "100%|██████████████████████████████████████████████████████████████████████████████████████████████| 80/80 [01:44<00:00,  1.31s/it]\n"
     ]
    },
    {
     "name": "stdout",
     "output_type": "stream",
     "text": [
      "Average train loss: 0.2535927101940615\n",
      "Validation loss: 0.1885774335397097\n",
      "val on val\n",
      "precision: 0.25 | recall 0.5 | f1_score 0.3333333333333333\n",
      "val on holdout\n",
      "precision: 0.1509433962264151 | recall 0.17777777777777778 | f1_score 0.16326530612244897\n",
      "saving model: 0.16326530612244897 0.3333333333333333 0\n"
     ]
    },
    {
     "name": "stderr",
     "output_type": "stream",
     "text": [
      "\r",
      "Epoch:  20%|█████████████████▍                                                                     | 2/10 [04:18<17:12, 129.12s/it]"
     ]
    },
    {
     "name": "stdout",
     "output_type": "stream",
     "text": [
      "precision: 0.3111111111111111 | recall 0.4375 | f1_score 0.3636363636363637\n",
      "Train f1 0.3636363636363637\n",
      "\n"
     ]
    },
    {
     "name": "stderr",
     "output_type": "stream",
     "text": [
      "100%|██████████████████████████████████████████████████████████████████████████████████████████████| 80/80 [01:43<00:00,  1.30s/it]\n"
     ]
    },
    {
     "name": "stdout",
     "output_type": "stream",
     "text": [
      "Average train loss: 0.12670057754512526\n",
      "Validation loss: 0.23381748122046703\n",
      "val on val\n",
      "precision: 0.46153846153846156 | recall 0.6 | f1_score 0.5217391304347826\n",
      "val on holdout\n",
      "precision: 0.3150684931506849 | recall 0.5609756097560976 | f1_score 0.40350877192982454\n",
      "saving model: 0.40350877192982454 0.5217391304347826 0.3333333333333333\n"
     ]
    },
    {
     "name": "stderr",
     "output_type": "stream",
     "text": [
      "\r",
      "Epoch:  30%|██████████████████████████                                                             | 3/10 [06:25<14:56, 128.03s/it]"
     ]
    },
    {
     "name": "stdout",
     "output_type": "stream",
     "text": [
      "precision: 0.42 | recall 0.5833333333333334 | f1_score 0.4883720930232558\n",
      "Train f1 0.4883720930232558\n",
      "\n"
     ]
    },
    {
     "name": "stderr",
     "output_type": "stream",
     "text": [
      "100%|██████████████████████████████████████████████████████████████████████████████████████████████| 80/80 [01:42<00:00,  1.28s/it]\n"
     ]
    },
    {
     "name": "stdout",
     "output_type": "stream",
     "text": [
      "Average train loss: 0.07695991954497003\n",
      "Validation loss: 0.2530780641594902\n",
      "val on val\n",
      "precision: 0.5 | recall 0.875 | f1_score 0.6363636363636364\n",
      "val on holdout\n",
      "precision: 0.25742574257425743 | recall 0.6842105263157895 | f1_score 0.37410071942446044\n",
      "saving model: 0.37410071942446044 0.6363636363636364 0.5217391304347826\n"
     ]
    },
    {
     "name": "stderr",
     "output_type": "stream",
     "text": [
      "\r",
      "Epoch:  40%|██████████████████████████████████▊                                                    | 4/10 [08:31<12:44, 127.37s/it]"
     ]
    },
    {
     "name": "stdout",
     "output_type": "stream",
     "text": [
      "precision: 0.5789473684210527 | recall 0.9428571428571428 | f1_score 0.7173913043478262\n",
      "Train f1 0.7173913043478262\n",
      "\n"
     ]
    },
    {
     "name": "stderr",
     "output_type": "stream",
     "text": [
      "100%|██████████████████████████████████████████████████████████████████████████████████████████████| 80/80 [01:44<00:00,  1.30s/it]\n"
     ]
    },
    {
     "name": "stdout",
     "output_type": "stream",
     "text": [
      "Average train loss: 0.06664405290357536\n",
      "Validation loss: 0.1953481178856843\n",
      "val on val\n",
      "precision: 0.4666666666666667 | recall 0.875 | f1_score 0.608695652173913\n",
      "val on holdout\n"
     ]
    },
    {
     "name": "stderr",
     "output_type": "stream",
     "text": [
      "\r",
      "Epoch:  50%|███████████████████████████████████████████▌                                           | 5/10 [10:27<10:14, 122.98s/it]"
     ]
    },
    {
     "name": "stdout",
     "output_type": "stream",
     "text": [
      "precision: 0.2543859649122807 | recall 0.8055555555555556 | f1_score 0.3866666666666667\n",
      "\n"
     ]
    },
    {
     "name": "stderr",
     "output_type": "stream",
     "text": [
      "100%|██████████████████████████████████████████████████████████████████████████████████████████████| 80/80 [01:45<00:00,  1.32s/it]\n"
     ]
    },
    {
     "name": "stdout",
     "output_type": "stream",
     "text": [
      "Average train loss: 0.03785857582570316\n",
      "Validation loss: 0.20526447007869136\n",
      "val on val\n",
      "precision: 0.13043478260869565 | recall 0.75 | f1_score 0.22222222222222218\n",
      "val on holdout\n"
     ]
    },
    {
     "name": "stderr",
     "output_type": "stream",
     "text": [
      "\r",
      "Epoch:  60%|████████████████████████████████████████████████████▏                                  | 6/10 [12:24<08:04, 121.09s/it]"
     ]
    },
    {
     "name": "stdout",
     "output_type": "stream",
     "text": [
      "precision: 0.2125984251968504 | recall 0.9642857142857143 | f1_score 0.3483870967741936\n",
      "\n"
     ]
    },
    {
     "name": "stderr",
     "output_type": "stream",
     "text": [
      "100%|██████████████████████████████████████████████████████████████████████████████████████████████| 80/80 [01:43<00:00,  1.29s/it]\n"
     ]
    },
    {
     "name": "stdout",
     "output_type": "stream",
     "text": [
      "Average train loss: 0.02229498826418421\n",
      "Validation loss: 0.22823195011296776\n",
      "val on val\n",
      "precision: 0.22727272727272727 | recall 0.8333333333333334 | f1_score 0.35714285714285715\n",
      "val on holdout\n"
     ]
    },
    {
     "name": "stderr",
     "output_type": "stream",
     "text": [
      "\r",
      "Epoch:  70%|████████████████████████████████████████████████████████████▉                          | 7/10 [14:19<05:57, 119.19s/it]"
     ]
    },
    {
     "name": "stdout",
     "output_type": "stream",
     "text": [
      "precision: 0.2440944881889764 | recall 0.96875 | f1_score 0.389937106918239\n",
      "\n"
     ]
    },
    {
     "name": "stderr",
     "output_type": "stream",
     "text": [
      "100%|██████████████████████████████████████████████████████████████████████████████████████████████| 80/80 [01:42<00:00,  1.28s/it]\n"
     ]
    },
    {
     "name": "stdout",
     "output_type": "stream",
     "text": [
      "Average train loss: 0.010377672175673069\n",
      "Validation loss: 0.23883410280638298\n",
      "val on val\n",
      "precision: 0.22727272727272727 | recall 0.8333333333333334 | f1_score 0.35714285714285715\n",
      "val on holdout\n"
     ]
    },
    {
     "name": "stderr",
     "output_type": "stream",
     "text": [
      "\r",
      "Epoch:  80%|█████████████████████████████████████████████████████████████████████▌                 | 8/10 [16:13<03:54, 117.35s/it]"
     ]
    },
    {
     "name": "stdout",
     "output_type": "stream",
     "text": [
      "precision: 0.2283464566929134 | recall 0.9666666666666667 | f1_score 0.3694267515923567\n",
      "\n"
     ]
    },
    {
     "name": "stderr",
     "output_type": "stream",
     "text": [
      "100%|██████████████████████████████████████████████████████████████████████████████████████████████| 80/80 [01:41<00:00,  1.27s/it]\n"
     ]
    },
    {
     "name": "stdout",
     "output_type": "stream",
     "text": [
      "Average train loss: 0.019751359371366562\n",
      "Validation loss: 0.2168013569006386\n",
      "val on val\n",
      "precision: 0.13043478260869565 | recall 0.75 | f1_score 0.22222222222222218\n",
      "val on holdout\n"
     ]
    },
    {
     "name": "stderr",
     "output_type": "stream",
     "text": [
      "\r",
      "Epoch:  90%|██████████████████████████████████████████████████████████████████████████████▎        | 9/10 [18:06<01:56, 116.05s/it]"
     ]
    },
    {
     "name": "stdout",
     "output_type": "stream",
     "text": [
      "precision: 0.21875 | recall 0.9655172413793104 | f1_score 0.35668789808917195\n",
      "\n"
     ]
    },
    {
     "name": "stderr",
     "output_type": "stream",
     "text": [
      "100%|██████████████████████████████████████████████████████████████████████████████████████████████| 80/80 [01:42<00:00,  1.28s/it]\n"
     ]
    },
    {
     "name": "stdout",
     "output_type": "stream",
     "text": [
      "Average train loss: 0.006548120604020369\n",
      "Validation loss: 0.23200742000044555\n",
      "val on val\n",
      "precision: 0.13043478260869565 | recall 0.75 | f1_score 0.22222222222222218\n",
      "val on holdout\n"
     ]
    },
    {
     "name": "stderr",
     "output_type": "stream",
     "text": [
      "Epoch: 100%|██████████████████████████████████████████████████████████████████████████████████████| 10/10 [20:00<00:00, 120.01s/it]"
     ]
    },
    {
     "name": "stdout",
     "output_type": "stream",
     "text": [
      "precision: 0.21875 | recall 0.9655172413793104 | f1_score 0.35668789808917195\n",
      "\n"
     ]
    },
    {
     "name": "stderr",
     "output_type": "stream",
     "text": [
      "\n"
     ]
    }
   ],
   "source": [
    "## Store the average loss after each epoch so we can plot them.\n",
    "loss_values, validation_loss_values = [], []\n",
    "\n",
    "MODEL_PATH = \"bert_train_delete\"\n",
    "\n",
    "max_f1 = 0\n",
    "\n",
    "for _ in trange(epochs, desc=\"Epoch\"):\n",
    "    # ========================================\n",
    "    #               Training\n",
    "    # ========================================\n",
    "    # Perform one full pass over the training set.\n",
    "\n",
    "    # Put the model into training mode.\n",
    "    model.train()\n",
    "    # Reset the total loss for this epoch.\n",
    "    total_loss = 0\n",
    "\n",
    "    # Training loop\n",
    "    for step, batch in enumerate(tqdm(train_dataloader, total = len(train_dataloader), position=0, leave=True)):\n",
    "        # add batch to gpu\n",
    "        batch = tuple(t.to(device) for t in batch)\n",
    "        b_input_ids, b_input_mask, b_labels = batch\n",
    "        # Always clear any previously calculated gradients before performing a backward pass.\n",
    "        model.zero_grad()\n",
    "        # forward pass\n",
    "        # This will return the loss (rather than the model output)\n",
    "        # because we have provided the `labels`.\n",
    "        outputs = model(b_input_ids, token_type_ids=None,\n",
    "                        attention_mask=b_input_mask, labels=b_labels)\n",
    "        # get the loss\n",
    "        loss = outputs[0]\n",
    "        # Perform a backward pass to calculate the gradients.\n",
    "        loss.backward()\n",
    "        # track train loss\n",
    "        total_loss += loss.item()\n",
    "        # Clip the norm of the gradient\n",
    "        # This is to help prevent the \"exploding gradients\" problem.\n",
    "        torch.nn.utils.clip_grad_norm_(parameters=model.parameters(), max_norm=max_grad_norm)\n",
    "        # update parameters\n",
    "        optimizer.step()\n",
    "        # Update the learning rate.\n",
    "        scheduler.step()\n",
    "\n",
    "    # Calculate the average loss over the training data.\n",
    "    avg_train_loss = total_loss / len(train_dataloader)\n",
    "    print(\"Average train loss: {}\".format(avg_train_loss))\n",
    "\n",
    "    # Store the loss value for plotting the learning curve.\n",
    "    loss_values.append(avg_train_loss)\n",
    "\n",
    "\n",
    "    # ========================================\n",
    "    #               Validation\n",
    "    # ========================================\n",
    "    # After the completion of each training epoch, measure our performance on\n",
    "    # our validation set.\n",
    "\n",
    "    # Put the model into evaluation mode\n",
    "    model.eval()\n",
    "    # Reset the validation loss for this epoch.\n",
    "    eval_loss, eval_accuracy = 0, 0\n",
    "    nb_eval_steps, nb_eval_examples = 0, 0\n",
    "    predictions , true_labels = [], []\n",
    "    for batch in valid_dataloader:\n",
    "        batch = tuple(t.to(device) for t in batch)\n",
    "        b_input_ids, b_input_mask, b_labels = batch\n",
    "\n",
    "        # Telling the model not to compute or store gradients,\n",
    "        # saving memory and speeding up validation\n",
    "        with torch.no_grad():\n",
    "            # Forward pass, calculate logit predictions.\n",
    "            # This will return the logits rather than the loss because we have not provided labels.\n",
    "            outputs = model(b_input_ids, token_type_ids=None,\n",
    "                            attention_mask=b_input_mask, labels=b_labels)\n",
    "        # Move logits and labels to CPU\n",
    "        logits = outputs[1].detach().cpu().numpy()\n",
    "        label_ids = b_labels.to('cpu').numpy()\n",
    "\n",
    "        # Calculate the accuracy for this batch of test sentences.\n",
    "        eval_loss += outputs[0].mean().item()\n",
    "        predictions.extend([list(p) for p in np.argmax(logits, axis=2)])\n",
    "        true_labels.extend(label_ids)\n",
    "\n",
    "    eval_loss = eval_loss / len(valid_dataloader)\n",
    "    validation_loss_values.append(eval_loss)\n",
    "    print(\"Validation loss: {}\".format(eval_loss))\n",
    "    pred_tags = [tag_values[p_i] for p, l in zip(predictions, true_labels)\n",
    "                                 for p_i, l_i in zip(p, l) if tag_values[l_i] != \"PAD\"]\n",
    "    valid_tags = [tag_values[l_i] for l in true_labels\n",
    "                                  for l_i in l if tag_values[l_i] != \"PAD\"]\n",
    "    \n",
    "    print(\"val on val\")\n",
    "    f1_val = get_f1_score_on_test_data(model, val)\n",
    "    print(\"val on holdout\")\n",
    "    f1 = get_f1_score_on_test_data(model, holdout)\n",
    "    if (f1_val >= max_f1) & (f1_val > 0):\n",
    "\n",
    "        #f1 = get_f1_score_on_test_data(model, holdout)        \n",
    "        print(\"saving model:\", f1, f1_val,max_f1)\n",
    "        max_f1 = f1_val\n",
    "        holdout_f1 = f1\n",
    "        torch.save(model.state_dict(), MODEL_PATH)\n",
    "        f1_train = get_f1_score_on_test_data(model, train)\n",
    "        print(\"Train f1\", f1_train)\n",
    "        \n",
    "#     print(\"Validation Accuracy: {}\".format(accuracy_score(pred_tags, valid_tags)))\n",
    "#     print(\"Validation F1-Score: {}\".format(f1_score(pred_tags, valid_tags)))\n",
    "    print()"
   ]
  },
  {
   "cell_type": "code",
   "execution_count": 1,
   "id": "ab4a5440",
   "metadata": {},
   "outputs": [
    {
     "ename": "NameError",
     "evalue": "name 'holdout_f1' is not defined",
     "output_type": "error",
     "traceback": [
      "\u001b[0;31m---------------------------------------------------------------------------\u001b[0m",
      "\u001b[0;31mNameError\u001b[0m                                 Traceback (most recent call last)",
      "\u001b[0;32m/tmp/ipykernel_138140/2151124097.py\u001b[0m in \u001b[0;36m<module>\u001b[0;34m\u001b[0m\n\u001b[0;32m----> 1\u001b[0;31m \u001b[0mholdout_f1\u001b[0m\u001b[0;34m\u001b[0m\u001b[0;34m\u001b[0m\u001b[0m\n\u001b[0m",
      "\u001b[0;31mNameError\u001b[0m: name 'holdout_f1' is not defined"
     ]
    }
   ],
   "source": [
    "holdout_f1"
   ]
  },
  {
   "cell_type": "code",
   "execution_count": 44,
   "id": "35547366",
   "metadata": {
    "scrolled": true
   },
   "outputs": [
    {
     "name": "stdout",
     "output_type": "stream",
     "text": [
      "precision: 0.5614035087719298 | recall 1.0 | f1_score 0.7191011235955056\n"
     ]
    },
    {
     "data": {
      "text/plain": [
       "0.7191011235955056"
      ]
     },
     "execution_count": 44,
     "metadata": {},
     "output_type": "execute_result"
    }
   ],
   "source": [
    "get_f1_score_on_test_data(model, train)"
   ]
  },
  {
   "cell_type": "code",
   "execution_count": 66,
   "id": "3db27caf",
   "metadata": {
    "scrolled": true
   },
   "outputs": [
    {
     "name": "stdout",
     "output_type": "stream",
     "text": [
      "precision: 0.21875 | recall 0.9655172413793104 | f1_score 0.35668789808917195\n"
     ]
    },
    {
     "data": {
      "text/plain": [
       "0.35668789808917195"
      ]
     },
     "execution_count": 66,
     "metadata": {},
     "output_type": "execute_result"
    }
   ],
   "source": [
    "get_f1_score_on_test_data(model, holdout)"
   ]
  },
  {
   "cell_type": "code",
   "execution_count": 67,
   "id": "2035406a",
   "metadata": {
    "scrolled": true
   },
   "outputs": [
    {
     "data": {
      "text/plain": [
       "'elmos'"
      ]
     },
     "execution_count": 67,
     "metadata": {},
     "output_type": "execute_result"
    }
   ],
   "source": [
    "generate_outputs(model, \"do you know if elmos have a dress code\")"
   ]
  },
  {
   "cell_type": "code",
   "execution_count": 68,
   "id": "b4800b4c",
   "metadata": {
    "scrolled": false
   },
   "outputs": [
    {
     "data": {
      "text/plain": [
       "'brazilian food'"
      ]
     },
     "execution_count": 68,
     "metadata": {},
     "output_type": "execute_result"
    }
   ],
   "source": [
    "generate_outputs(model, 'find me brazilian food with on location parking')"
   ]
  }
 ],
 "metadata": {
  "kernelspec": {
   "display_name": "Python 3 (ipykernel)",
   "language": "python",
   "name": "python3"
  },
  "language_info": {
   "codemirror_mode": {
    "name": "ipython",
    "version": 3
   },
   "file_extension": ".py",
   "mimetype": "text/x-python",
   "name": "python",
   "nbconvert_exporter": "python",
   "pygments_lexer": "ipython3",
   "version": "3.7.11"
  }
 },
 "nbformat": 4,
 "nbformat_minor": 5
}
