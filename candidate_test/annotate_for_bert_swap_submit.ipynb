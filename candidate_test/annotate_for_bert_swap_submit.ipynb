{
 "cells": [
  {
   "cell_type": "code",
   "execution_count": 1,
   "id": "979a8065",
   "metadata": {
    "scrolled": true
   },
   "outputs": [
    {
     "name": "stderr",
     "output_type": "stream",
     "text": [
      "2021-09-13 23:59:34.677524: W tensorflow/stream_executor/platform/default/dso_loader.cc:64] Could not load dynamic library 'libcudart.so.11.0'; dlerror: libcudart.so.11.0: cannot open shared object file: No such file or directory\n",
      "2021-09-13 23:59:34.677562: I tensorflow/stream_executor/cuda/cudart_stub.cc:29] Ignore above cudart dlerror if you do not have a GPU set up on your machine.\n"
     ]
    },
    {
     "data": {
      "text/plain": [
       "'1.8.1+cu102'"
      ]
     },
     "execution_count": 1,
     "metadata": {},
     "output_type": "execute_result"
    }
   ],
   "source": [
    "import pandas as pd\n",
    "import numpy as np\n",
    "from tqdm import tqdm, trange\n",
    "import os, sys\n",
    "import torch\n",
    "from torch.utils.data import TensorDataset, DataLoader, RandomSampler, SequentialSampler\n",
    "from transformers import BertTokenizer, BertConfig\n",
    "\n",
    "from keras.preprocessing.sequence import pad_sequences\n",
    "from sklearn.model_selection import train_test_split\n",
    "import random\n",
    "\n",
    "torch.__version__"
   ]
  },
  {
   "cell_type": "code",
   "execution_count": 2,
   "id": "766775d1",
   "metadata": {},
   "outputs": [
    {
     "data": {
      "text/plain": [
       "'4.7.0'"
      ]
     },
     "execution_count": 2,
     "metadata": {},
     "output_type": "execute_result"
    }
   ],
   "source": [
    "import transformers\n",
    "from transformers import BertForTokenClassification, AdamW\n",
    "\n",
    "transformers.__version__"
   ]
  },
  {
   "cell_type": "code",
   "execution_count": 3,
   "id": "7c38036d",
   "metadata": {},
   "outputs": [],
   "source": [
    "MAX_LEN = 50\n",
    "LR = 3e-5\n",
    "bs = 2\n",
    "epochs = 20\n",
    "max_grad_norm = 1.0\n",
    "device = torch.device(\"cuda\" if torch.cuda.is_available() else \"cpu\")\n",
    "n_gpu = torch.cuda.device_count()\n",
    "\n",
    "#path to save model\n",
    "MODEL_PATH = \"bert_swap_model\""
   ]
  },
  {
   "cell_type": "code",
   "execution_count": 4,
   "id": "f4b5ce08",
   "metadata": {},
   "outputs": [],
   "source": [
    "import pandas as pd\n",
    "train = pd.read_csv('restaurants_train.csv')\n",
    "val = pd.read_csv('restaurants_val.csv')\n",
    "holdout = pd.read_csv('restaurants_holdout.csv')\n",
    "# train = train.fillna('')\n",
    "# val = val.fillna('')\n",
    "# holdout = holdout.fillna('')"
   ]
  },
  {
   "cell_type": "code",
   "execution_count": 5,
   "id": "7c3322e0",
   "metadata": {},
   "outputs": [],
   "source": [
    "train = train.fillna('')\n",
    "val = val.fillna('')\n",
    "holdout = holdout.fillna('')"
   ]
  },
  {
   "cell_type": "code",
   "execution_count": 6,
   "id": "6cc185d0",
   "metadata": {},
   "outputs": [],
   "source": [
    "tokenizer = BertTokenizer.from_pretrained('bert-base-uncased', do_lower_case=True)"
   ]
  },
  {
   "cell_type": "code",
   "execution_count": 7,
   "id": "c2885a8e",
   "metadata": {},
   "outputs": [],
   "source": [
    "################################\n",
    "# DO NOT CHANGE THIS FUNCTION! #\n",
    "################################\n",
    "\n",
    "def get_f1_score_on_test_data(model, data):\n",
    "    model.eval()\n",
    "    true_positives = 0\n",
    "    false_positives = 0\n",
    "    false_negatives = 0\n",
    "    for index, row in data.iterrows():\n",
    "        sentence = row.sentence\n",
    "        expected = row.restaurant_name\n",
    "        #inputs = tokenizer([sentence], max_length=1024, return_tensors='pt')\n",
    "        predicted = generate_outputs(model, sentence)\n",
    "        if expected != '' and expected == predicted:\n",
    "            true_positives += 1\n",
    "        if expected != '' and expected != predicted:\n",
    "            false_positives += 1\n",
    "        if expected == '' and predicted != '':\n",
    "            false_positives += 1\n",
    "        if expected != '' and predicted == '':\n",
    "            false_negatives += 1\n",
    "\n",
    "    precision = 0\n",
    "    recall = 0\n",
    "    f1_score = 0\n",
    "    if true_positives + false_positives:\n",
    "        precision = true_positives / (true_positives + false_positives)\n",
    "    if true_positives + false_negatives:\n",
    "        recall = true_positives /(true_positives + false_negatives)\n",
    "    if precision + recall:\n",
    "        f1_score = 2 * precision * recall / (precision + recall)\n",
    "\n",
    "    print(f'precision: {precision} | recall {recall} | f1_score {f1_score}')\n",
    "    return f1_score\n",
    "\n",
    "\n",
    "def convert_bio_text(words, tags):\n",
    "    \"\"\"\n",
    "    Converts BIO tags to text\n",
    "    \"\"\"\n",
    "    prev_tag = \"O\"\n",
    "    extracted_dict = {}\n",
    "    count = 0\n",
    "    for x,t in zip(words, tags):\n",
    "        if prev_tag == \"O\":\n",
    "            if t == \"B\":\n",
    "                prev_tag = \"B\"\n",
    "                extracted_dict[count] = [x]\n",
    "        else:\n",
    "            if t == \"I\":\n",
    "                extracted_dict[count].append(x)\n",
    "                prev_tag = \"I\"\n",
    "            elif t == \"B\" :\n",
    "                prev_tag = \"B\"\n",
    "                count += 1\n",
    "                extracted_dict[count] = [x]\n",
    "            else:\n",
    "                count += 1\n",
    "                prev_tag = \"O\"\n",
    "                \n",
    "    for i in extracted_dict.keys():\n",
    "        extracted_dict[i] = \" \".join(extracted_dict[i])\n",
    "    return list(extracted_dict.values())\n",
    "\n",
    "def generate_outputs(model, sentence, device=\"cpu\"):\n",
    "    \n",
    "    \"\"\"\n",
    "    Predicts on a sentence and converts predicted BIO tags to text\n",
    "    \"\"\"\n",
    "    \n",
    "    tokenized_sentence = tokenizer.encode(sentence)\n",
    "    \n",
    "    input_ids = torch.tensor([tokenized_sentence]).to(device)\n",
    "    \n",
    "    with torch.no_grad():\n",
    "        \n",
    "        output = model(input_ids)\n",
    "        \n",
    "    label_indices = np.argmax(output[0].to('cpu').numpy(), axis=2)\n",
    "    \n",
    "    tokens = tokenizer.convert_ids_to_tokens(input_ids.to('cpu').numpy()[0])\n",
    "\n",
    "    new_tokens, new_labels = [], []\n",
    "\n",
    "    for token, label_idx in zip(tokens, label_indices[0]):\n",
    "\n",
    "        if token.startswith(\"##\"):\n",
    "\n",
    "            new_tokens[-1] = new_tokens[-1] + token[2:]\n",
    "\n",
    "        else:\n",
    "\n",
    "            new_labels.append(tag_values[label_idx])\n",
    "\n",
    "            new_tokens.append(token)\n",
    "            \n",
    "    #return \" \".join(convert_bio_text(new_tokens, new_labels)), new_labels\n",
    "    \n",
    "    out = convert_bio_text(new_tokens, new_labels)\n",
    "    \n",
    "    if len(out) > 0:\n",
    "        \n",
    "        return out[0]\n",
    "    else:\n",
    "        return \"\"\n",
    "    "
   ]
  },
  {
   "cell_type": "code",
   "execution_count": 8,
   "id": "f007a6b5",
   "metadata": {},
   "outputs": [],
   "source": [
    "def _tag_bio(txt, entity):    \n",
    "        \"\"\"\n",
    "        Given a text and an entity, creates BIO tags for that entity.\n",
    "        \"\"\"\n",
    "\n",
    "        entity_tok = entity.split()\n",
    "\n",
    "        txt_tok = txt.split()\n",
    "\n",
    "        out_tags = [\"O\"]*len(txt_tok)\n",
    "        \n",
    "        if entity == \"\":\n",
    "            return out_tags\n",
    "\n",
    "        b_idxs = []\n",
    "\n",
    "        # Fetch indices of B\n",
    "        for i, w in enumerate(txt_tok):\n",
    "            if w == entity_tok[0]:\n",
    "                b_idxs.append(i)\n",
    "\n",
    "        #print(b_idxs, txt_tok)\n",
    "\n",
    "        # if entity is just of 1 word, then tag Bs appropriately and exit\n",
    "        if len(entity_tok) == 1:\n",
    "            for b in b_idxs:\n",
    "                out_tags[b] = \"B\"\n",
    "            return out_tags\n",
    "\n",
    "        # ------- Tagging Is-----#\n",
    "        tags_idx = {}\n",
    "        for bidx in b_idxs:\n",
    "            # for each B as pivot, fetch it's corresponding Is\n",
    "            if (bidx < (len(txt_tok) - 1)):\n",
    "\n",
    "                counter = 0\n",
    "\n",
    "                while counter < (len(entity_tok) - 1):\n",
    "                    # loop till all words in entity have been iterated\n",
    "                    counter += 1\n",
    "\n",
    "                    if (bidx + counter > (len(txt_tok) - 1)):\n",
    "                        # exit if reached end of sentence before looping through all of entity words\n",
    "                        counter -= 1\n",
    "                        break\n",
    "                    if (txt_tok[bidx + counter] != entity_tok[counter]):\n",
    "                        # exit if any I word doesnt match\n",
    "                        counter -= 1\n",
    "                        # check for matching Is\n",
    "                        break;\n",
    "                if counter == (len(entity_tok) - 1):\n",
    "                    # if all I words match then counter should be equal to number of Is\n",
    "                    # if so, then add the indexes of Is to its corresponding B dict\n",
    "                    tags_idx[bidx] = [bidx + i for i in range(len(entity_tok))]\n",
    "\n",
    "        #print(tags_idx)\n",
    "        # now for every B-I index key val pairs, get BI tags\n",
    "        for b, i in tags_idx.items():\n",
    "            if len(i) > 1:\n",
    "                out_tags[b] = \"B\"\n",
    "                for ii in i[1:]:\n",
    "                    out_tags[ii] = \"I\"\n",
    "\n",
    "        return out_tags\n",
    "    \n",
    "    \n",
    "def get_replacement_label(label, label_list):\n",
    "    \n",
    "    cands = [x for x in label_list if x != label]\n",
    "    \n",
    "    return cands[random.randint(0, len(cands)-1)]\n",
    "\n",
    "def swap_labels(txt, label, replacement):\n",
    "    \n",
    "    return txt.replace(label, replacement)\n",
    "    \n",
    "    "
   ]
  },
  {
   "cell_type": "code",
   "execution_count": 9,
   "id": "0d15e144",
   "metadata": {},
   "outputs": [],
   "source": [
    "def tokenize_and_preserve_labels(sentence, text_labels):\n",
    "    \"\"\"\n",
    "    Handles Bert's sub word encoding\n",
    "    \"\"\"\n",
    "    tokenized_sentence = []\n",
    "    labels = []\n",
    "\n",
    "    for word, label in zip(sentence, text_labels):\n",
    "\n",
    "        # Tokenize the word and count # of subwords the word is broken into\n",
    "        tokenized_word = tokenizer.tokenize(word)\n",
    "        n_subwords = len(tokenized_word)\n",
    "\n",
    "        # Add the tokenized word to the final tokenized word list\n",
    "        tokenized_sentence.extend(tokenized_word)\n",
    "\n",
    "        # Add the same label to the new list of labels `n_subwords` times\n",
    "        labels.extend([label] * n_subwords)\n",
    "\n",
    "    return tokenized_sentence, labels\n"
   ]
  },
  {
   "cell_type": "markdown",
   "id": "ab28afab",
   "metadata": {},
   "source": [
    "### Data Prep"
   ]
  },
  {
   "cell_type": "code",
   "execution_count": 10,
   "id": "665401fc",
   "metadata": {
    "scrolled": true
   },
   "outputs": [
    {
     "data": {
      "text/html": [
       "<div>\n",
       "<style scoped>\n",
       "    .dataframe tbody tr th:only-of-type {\n",
       "        vertical-align: middle;\n",
       "    }\n",
       "\n",
       "    .dataframe tbody tr th {\n",
       "        vertical-align: top;\n",
       "    }\n",
       "\n",
       "    .dataframe thead th {\n",
       "        text-align: right;\n",
       "    }\n",
       "</style>\n",
       "<table border=\"1\" class=\"dataframe\">\n",
       "  <thead>\n",
       "    <tr style=\"text-align: right;\">\n",
       "      <th></th>\n",
       "      <th>sentence</th>\n",
       "      <th>restaurant_name</th>\n",
       "      <th>tags</th>\n",
       "    </tr>\n",
       "  </thead>\n",
       "  <tbody>\n",
       "    <tr>\n",
       "      <th>0</th>\n",
       "      <td>a four star restaurant with a bar</td>\n",
       "      <td></td>\n",
       "      <td>[O, O, O, O, O, O, O]</td>\n",
       "    </tr>\n",
       "    <tr>\n",
       "      <th>1</th>\n",
       "      <td>areas that allow smoking</td>\n",
       "      <td></td>\n",
       "      <td>[O, O, O, O]</td>\n",
       "    </tr>\n",
       "    <tr>\n",
       "      <th>2</th>\n",
       "      <td>any restaurants that still allow smoking</td>\n",
       "      <td></td>\n",
       "      <td>[O, O, O, O, O, O]</td>\n",
       "    </tr>\n",
       "    <tr>\n",
       "      <th>3</th>\n",
       "      <td>are there any restaurants for diabetics that s...</td>\n",
       "      <td></td>\n",
       "      <td>[O, O, O, O, O, O, O, O, O, O, O]</td>\n",
       "    </tr>\n",
       "    <tr>\n",
       "      <th>4</th>\n",
       "      <td>can you find east dedham pizzeria that have a ...</td>\n",
       "      <td>east</td>\n",
       "      <td>[O, O, O, B, O, O, O, O, O, O, O, O, O]</td>\n",
       "    </tr>\n",
       "    <tr>\n",
       "      <th>...</th>\n",
       "      <td>...</td>\n",
       "      <td>...</td>\n",
       "      <td>...</td>\n",
       "    </tr>\n",
       "    <tr>\n",
       "      <th>115</th>\n",
       "      <td>any mexican places have a tameles special today</td>\n",
       "      <td></td>\n",
       "      <td>[O, O, O, O, O, O, O, O]</td>\n",
       "    </tr>\n",
       "    <tr>\n",
       "      <th>116</th>\n",
       "      <td>do you know if elmos have a dress code</td>\n",
       "      <td>elmos</td>\n",
       "      <td>[O, O, O, O, B, O, O, O, O]</td>\n",
       "    </tr>\n",
       "    <tr>\n",
       "      <th>117</th>\n",
       "      <td>are there any chicken wing places nearby</td>\n",
       "      <td></td>\n",
       "      <td>[O, O, O, O, O, O, O]</td>\n",
       "    </tr>\n",
       "    <tr>\n",
       "      <th>118</th>\n",
       "      <td>are there any vietnamese restaurants nearby</td>\n",
       "      <td></td>\n",
       "      <td>[O, O, O, O, O, O]</td>\n",
       "    </tr>\n",
       "    <tr>\n",
       "      <th>119</th>\n",
       "      <td>are reservations available for four people for...</td>\n",
       "      <td>112 eatery</td>\n",
       "      <td>[O, O, O, O, O, O, O, O, O, O, O, B, I]</td>\n",
       "    </tr>\n",
       "  </tbody>\n",
       "</table>\n",
       "<p>120 rows × 3 columns</p>\n",
       "</div>"
      ],
      "text/plain": [
       "                                              sentence restaurant_name  \\\n",
       "0                    a four star restaurant with a bar                   \n",
       "1                             areas that allow smoking                   \n",
       "2             any restaurants that still allow smoking                   \n",
       "3    are there any restaurants for diabetics that s...                   \n",
       "4    can you find east dedham pizzeria that have a ...            east   \n",
       "..                                                 ...             ...   \n",
       "115    any mexican places have a tameles special today                   \n",
       "116             do you know if elmos have a dress code           elmos   \n",
       "117           are there any chicken wing places nearby                   \n",
       "118        are there any vietnamese restaurants nearby                   \n",
       "119  are reservations available for four people for...      112 eatery   \n",
       "\n",
       "                                        tags  \n",
       "0                      [O, O, O, O, O, O, O]  \n",
       "1                               [O, O, O, O]  \n",
       "2                         [O, O, O, O, O, O]  \n",
       "3          [O, O, O, O, O, O, O, O, O, O, O]  \n",
       "4    [O, O, O, B, O, O, O, O, O, O, O, O, O]  \n",
       "..                                       ...  \n",
       "115                 [O, O, O, O, O, O, O, O]  \n",
       "116              [O, O, O, O, B, O, O, O, O]  \n",
       "117                    [O, O, O, O, O, O, O]  \n",
       "118                       [O, O, O, O, O, O]  \n",
       "119  [O, O, O, O, O, O, O, O, O, O, O, B, I]  \n",
       "\n",
       "[120 rows x 3 columns]"
      ]
     },
     "execution_count": 10,
     "metadata": {},
     "output_type": "execute_result"
    }
   ],
   "source": [
    "train[\"tags\"] = train.apply(lambda x: _tag_bio(x[\"sentence\"], x[\"restaurant_name\"]), axis=1)\n",
    "\n",
    "train"
   ]
  },
  {
   "cell_type": "code",
   "execution_count": 11,
   "id": "a025f19f",
   "metadata": {},
   "outputs": [
    {
     "data": {
      "text/html": [
       "<div>\n",
       "<style scoped>\n",
       "    .dataframe tbody tr th:only-of-type {\n",
       "        vertical-align: middle;\n",
       "    }\n",
       "\n",
       "    .dataframe tbody tr th {\n",
       "        vertical-align: top;\n",
       "    }\n",
       "\n",
       "    .dataframe thead th {\n",
       "        text-align: right;\n",
       "    }\n",
       "</style>\n",
       "<table border=\"1\" class=\"dataframe\">\n",
       "  <thead>\n",
       "    <tr style=\"text-align: right;\">\n",
       "      <th></th>\n",
       "      <th>sentence</th>\n",
       "      <th>restaurant_name</th>\n",
       "      <th>tags</th>\n",
       "      <th>rep_label</th>\n",
       "    </tr>\n",
       "  </thead>\n",
       "  <tbody>\n",
       "    <tr>\n",
       "      <th>4</th>\n",
       "      <td>can you find barat a nossa casa dedham pizzeri...</td>\n",
       "      <td>barat a nossa casa</td>\n",
       "      <td>[O, O, O, B, I, I, I, O, O, O, O, O, O, O, O, O]</td>\n",
       "      <td>barat a nossa casa</td>\n",
       "    </tr>\n",
       "    <tr>\n",
       "      <th>6</th>\n",
       "      <td>can you tell me where the nearest lone star is</td>\n",
       "      <td>lone star</td>\n",
       "      <td>[O, O, O, O, O, O, O, B, I, O]</td>\n",
       "      <td>lone star</td>\n",
       "    </tr>\n",
       "    <tr>\n",
       "      <th>14</th>\n",
       "      <td>do you think olive garden has fabulous service</td>\n",
       "      <td>olive garden</td>\n",
       "      <td>[O, O, O, B, I, O, O, O]</td>\n",
       "      <td>olive garden</td>\n",
       "    </tr>\n",
       "    <tr>\n",
       "      <th>17</th>\n",
       "      <td>can i get hambers at blue coyote grill</td>\n",
       "      <td>blue coyote grill</td>\n",
       "      <td>[O, O, O, O, O, B, I, I]</td>\n",
       "      <td>blue coyote grill</td>\n",
       "    </tr>\n",
       "    <tr>\n",
       "      <th>19</th>\n",
       "      <td>do you know if there are any reviews on east</td>\n",
       "      <td>east</td>\n",
       "      <td>[O, O, O, O, O, O, O, O, O, B]</td>\n",
       "      <td>east</td>\n",
       "    </tr>\n",
       "    <tr>\n",
       "      <th>24</th>\n",
       "      <td>are there reservations still available for dan...</td>\n",
       "      <td>danny cooks</td>\n",
       "      <td>[O, O, O, O, O, O, B, I, O, O, O, O, O, O]</td>\n",
       "      <td>danny cooks</td>\n",
       "    </tr>\n",
       "    <tr>\n",
       "      <th>26</th>\n",
       "      <td>are there any hotel dining in the city open on...</td>\n",
       "      <td>hotel dining</td>\n",
       "      <td>[O, O, O, B, I, O, O, O, O, O, O]</td>\n",
       "      <td>hotel dining</td>\n",
       "    </tr>\n",
       "    <tr>\n",
       "      <th>27</th>\n",
       "      <td>do i need a reservation for taco bell</td>\n",
       "      <td>taco bell</td>\n",
       "      <td>[O, O, O, O, O, O, B, I]</td>\n",
       "      <td>taco bell</td>\n",
       "    </tr>\n",
       "    <tr>\n",
       "      <th>35</th>\n",
       "      <td>are there any pf changs within 5 minutes drive...</td>\n",
       "      <td>pf changs</td>\n",
       "      <td>[O, O, O, B, I, O, O, O, O, O, O, O, O, O, O]</td>\n",
       "      <td>pf changs</td>\n",
       "    </tr>\n",
       "    <tr>\n",
       "      <th>37</th>\n",
       "      <td>are there any lone star in town</td>\n",
       "      <td>lone star</td>\n",
       "      <td>[O, O, O, B, I, O, O]</td>\n",
       "      <td>lone star</td>\n",
       "    </tr>\n",
       "    <tr>\n",
       "      <th>39</th>\n",
       "      <td>can you make a reservation at buffalo wild win...</td>\n",
       "      <td>buffalo wild wings</td>\n",
       "      <td>[O, O, O, O, O, O, B, I, I, O, O]</td>\n",
       "      <td>buffalo wild wings</td>\n",
       "    </tr>\n",
       "    <tr>\n",
       "      <th>43</th>\n",
       "      <td>can you find out if the mcdonalds has dancing ...</td>\n",
       "      <td>mcdonalds</td>\n",
       "      <td>[O, O, O, O, O, O, B, O, O, O, O, O, O, O]</td>\n",
       "      <td>mcdonalds</td>\n",
       "    </tr>\n",
       "    <tr>\n",
       "      <th>44</th>\n",
       "      <td>can i have the phone number for angels in los ...</td>\n",
       "      <td>angels</td>\n",
       "      <td>[O, O, O, O, O, O, O, B, O, O, O, O]</td>\n",
       "      <td>angels</td>\n",
       "    </tr>\n",
       "    <tr>\n",
       "      <th>45</th>\n",
       "      <td>dining along the 112 eatery restaurant is loca...</td>\n",
       "      <td>112 eatery</td>\n",
       "      <td>[O, O, O, B, I, O, O, O, O, O, O]</td>\n",
       "      <td>112 eatery</td>\n",
       "    </tr>\n",
       "    <tr>\n",
       "      <th>46</th>\n",
       "      <td>can you please find the taco bell restaurant i...</td>\n",
       "      <td>taco bell</td>\n",
       "      <td>[O, O, O, O, O, B, I, O, O, O]</td>\n",
       "      <td>taco bell</td>\n",
       "    </tr>\n",
       "    <tr>\n",
       "      <th>51</th>\n",
       "      <td>can you give me the wendys of the restaurant o...</td>\n",
       "      <td>wendys</td>\n",
       "      <td>[O, O, O, O, O, B, O, O, O, O, O, O]</td>\n",
       "      <td>wendys</td>\n",
       "    </tr>\n",
       "    <tr>\n",
       "      <th>52</th>\n",
       "      <td>are there any 112 eatery that i can drive too ...</td>\n",
       "      <td>112 eatery</td>\n",
       "      <td>[O, O, O, B, I, O, O, O, O, O, O, O, O]</td>\n",
       "      <td>112 eatery</td>\n",
       "    </tr>\n",
       "    <tr>\n",
       "      <th>57</th>\n",
       "      <td>can you find me a olive garden thats not too busy</td>\n",
       "      <td>olive garden</td>\n",
       "      <td>[O, O, O, O, O, B, I, O, O, O, O]</td>\n",
       "      <td>olive garden</td>\n",
       "    </tr>\n",
       "    <tr>\n",
       "      <th>60</th>\n",
       "      <td>peachtree cafe home made dinners</td>\n",
       "      <td>peachtree cafe</td>\n",
       "      <td>[B, I, O, O, O]</td>\n",
       "      <td>peachtree cafe</td>\n",
       "    </tr>\n",
       "    <tr>\n",
       "      <th>61</th>\n",
       "      <td>call tong villa</td>\n",
       "      <td>tong villa</td>\n",
       "      <td>[O, B, I]</td>\n",
       "      <td>tong villa</td>\n",
       "    </tr>\n",
       "    <tr>\n",
       "      <th>62</th>\n",
       "      <td>can i valet park at the elmos</td>\n",
       "      <td>elmos</td>\n",
       "      <td>[O, O, O, O, O, O, B]</td>\n",
       "      <td>elmos</td>\n",
       "    </tr>\n",
       "    <tr>\n",
       "      <th>63</th>\n",
       "      <td>can i dine at the bar la grassa</td>\n",
       "      <td>bar la grassa</td>\n",
       "      <td>[O, O, O, O, O, B, I, I]</td>\n",
       "      <td>bar la grassa</td>\n",
       "    </tr>\n",
       "    <tr>\n",
       "      <th>68</th>\n",
       "      <td>can you find barat a nossa casa thats hard to ...</td>\n",
       "      <td>barat a nossa casa</td>\n",
       "      <td>[O, O, O, B, I, I, I, O, O, O, O, O, O, O, O]</td>\n",
       "      <td>barat a nossa casa</td>\n",
       "    </tr>\n",
       "    <tr>\n",
       "      <th>76</th>\n",
       "      <td>can you tell me where the closest mcdonalds is</td>\n",
       "      <td>mcdonalds</td>\n",
       "      <td>[O, O, O, O, O, O, O, B, O]</td>\n",
       "      <td>mcdonalds</td>\n",
       "    </tr>\n",
       "    <tr>\n",
       "      <th>77</th>\n",
       "      <td>does best little restaurant do takeout orders</td>\n",
       "      <td>best little restaurant</td>\n",
       "      <td>[O, B, I, I, O, O, O]</td>\n",
       "      <td>best little restaurant</td>\n",
       "    </tr>\n",
       "    <tr>\n",
       "      <th>79</th>\n",
       "      <td>can you find me waterfront with comfort food</td>\n",
       "      <td>waterfront</td>\n",
       "      <td>[O, O, O, O, B, O, O, O]</td>\n",
       "      <td>waterfront</td>\n",
       "    </tr>\n",
       "    <tr>\n",
       "      <th>83</th>\n",
       "      <td>does kings have a smoking area</td>\n",
       "      <td>kings</td>\n",
       "      <td>[O, B, O, O, O, O]</td>\n",
       "      <td>kings</td>\n",
       "    </tr>\n",
       "    <tr>\n",
       "      <th>84</th>\n",
       "      <td>can you help me find a purple cactus burrito a...</td>\n",
       "      <td>purple cactus burrito and wrap bar</td>\n",
       "      <td>[O, O, O, O, O, O, B, I, I, I, I, I, O, O, O, O]</td>\n",
       "      <td>purple cactus burrito and wrap bar</td>\n",
       "    </tr>\n",
       "    <tr>\n",
       "      <th>90</th>\n",
       "      <td>direct me to the nearest buffalo wild wings</td>\n",
       "      <td>buffalo wild wings</td>\n",
       "      <td>[O, O, O, O, O, B, I, I]</td>\n",
       "      <td>buffalo wild wings</td>\n",
       "    </tr>\n",
       "    <tr>\n",
       "      <th>93</th>\n",
       "      <td>are the portion at waterfront large or very small</td>\n",
       "      <td>waterfront</td>\n",
       "      <td>[O, O, O, O, B, O, O, O, O]</td>\n",
       "      <td>waterfront</td>\n",
       "    </tr>\n",
       "    <tr>\n",
       "      <th>94</th>\n",
       "      <td>can you make me a reservation for todai for ol...</td>\n",
       "      <td>olive garden</td>\n",
       "      <td>[O, O, O, O, O, O, O, O, O, B, I, O, O, O]</td>\n",
       "      <td>olive garden</td>\n",
       "    </tr>\n",
       "    <tr>\n",
       "      <th>97</th>\n",
       "      <td>does olive garden have a dress code</td>\n",
       "      <td>olive garden</td>\n",
       "      <td>[O, B, I, O, O, O, O]</td>\n",
       "      <td>olive garden</td>\n",
       "    </tr>\n",
       "    <tr>\n",
       "      <th>101</th>\n",
       "      <td>can you take me to monacos in framingham</td>\n",
       "      <td>monacos</td>\n",
       "      <td>[O, O, O, O, O, B, O, O]</td>\n",
       "      <td>monacos</td>\n",
       "    </tr>\n",
       "    <tr>\n",
       "      <th>104</th>\n",
       "      <td>can you find a highly rated best little restau...</td>\n",
       "      <td>best little restaurant</td>\n",
       "      <td>[O, O, O, O, O, O, B, I, I, O, O, O]</td>\n",
       "      <td>best little restaurant</td>\n",
       "    </tr>\n",
       "    <tr>\n",
       "      <th>106</th>\n",
       "      <td>chick fil as directions</td>\n",
       "      <td>chick fil as</td>\n",
       "      <td>[B, I, I, O]</td>\n",
       "      <td>chick fil as</td>\n",
       "    </tr>\n",
       "    <tr>\n",
       "      <th>107</th>\n",
       "      <td>does tin whistle have any outdoor parking</td>\n",
       "      <td>tin whistle</td>\n",
       "      <td>[O, B, I, O, O, O, O]</td>\n",
       "      <td>tin whistle</td>\n",
       "    </tr>\n",
       "    <tr>\n",
       "      <th>112</th>\n",
       "      <td>do you know if the bar la grassa ongreentree l...</td>\n",
       "      <td>bar la grassa</td>\n",
       "      <td>[O, O, O, O, O, B, I, I, O, O, O, O]</td>\n",
       "      <td>bar la grassa</td>\n",
       "    </tr>\n",
       "    <tr>\n",
       "      <th>114</th>\n",
       "      <td>do you have to make a reservation to go to bar...</td>\n",
       "      <td>bar la grassa</td>\n",
       "      <td>[O, O, O, O, O, O, O, O, O, O, B, I, I]</td>\n",
       "      <td>bar la grassa</td>\n",
       "    </tr>\n",
       "    <tr>\n",
       "      <th>116</th>\n",
       "      <td>do you know if peachtree cafe have a dress code</td>\n",
       "      <td>peachtree cafe</td>\n",
       "      <td>[O, O, O, O, B, I, O, O, O, O]</td>\n",
       "      <td>peachtree cafe</td>\n",
       "    </tr>\n",
       "    <tr>\n",
       "      <th>119</th>\n",
       "      <td>are reservations available for four people for...</td>\n",
       "      <td>caribe</td>\n",
       "      <td>[O, O, O, O, O, O, O, O, O, O, O, B]</td>\n",
       "      <td>caribe</td>\n",
       "    </tr>\n",
       "  </tbody>\n",
       "</table>\n",
       "</div>"
      ],
      "text/plain": [
       "                                              sentence  \\\n",
       "4    can you find barat a nossa casa dedham pizzeri...   \n",
       "6       can you tell me where the nearest lone star is   \n",
       "14      do you think olive garden has fabulous service   \n",
       "17              can i get hambers at blue coyote grill   \n",
       "19        do you know if there are any reviews on east   \n",
       "24   are there reservations still available for dan...   \n",
       "26   are there any hotel dining in the city open on...   \n",
       "27               do i need a reservation for taco bell   \n",
       "35   are there any pf changs within 5 minutes drive...   \n",
       "37                     are there any lone star in town   \n",
       "39   can you make a reservation at buffalo wild win...   \n",
       "43   can you find out if the mcdonalds has dancing ...   \n",
       "44   can i have the phone number for angels in los ...   \n",
       "45   dining along the 112 eatery restaurant is loca...   \n",
       "46   can you please find the taco bell restaurant i...   \n",
       "51   can you give me the wendys of the restaurant o...   \n",
       "52   are there any 112 eatery that i can drive too ...   \n",
       "57   can you find me a olive garden thats not too busy   \n",
       "60                    peachtree cafe home made dinners   \n",
       "61                                     call tong villa   \n",
       "62                       can i valet park at the elmos   \n",
       "63                     can i dine at the bar la grassa   \n",
       "68   can you find barat a nossa casa thats hard to ...   \n",
       "76      can you tell me where the closest mcdonalds is   \n",
       "77       does best little restaurant do takeout orders   \n",
       "79        can you find me waterfront with comfort food   \n",
       "83                      does kings have a smoking area   \n",
       "84   can you help me find a purple cactus burrito a...   \n",
       "90         direct me to the nearest buffalo wild wings   \n",
       "93   are the portion at waterfront large or very small   \n",
       "94   can you make me a reservation for todai for ol...   \n",
       "97                 does olive garden have a dress code   \n",
       "101           can you take me to monacos in framingham   \n",
       "104  can you find a highly rated best little restau...   \n",
       "106                            chick fil as directions   \n",
       "107          does tin whistle have any outdoor parking   \n",
       "112  do you know if the bar la grassa ongreentree l...   \n",
       "114  do you have to make a reservation to go to bar...   \n",
       "116    do you know if peachtree cafe have a dress code   \n",
       "119  are reservations available for four people for...   \n",
       "\n",
       "                        restaurant_name  \\\n",
       "4                    barat a nossa casa   \n",
       "6                             lone star   \n",
       "14                         olive garden   \n",
       "17                    blue coyote grill   \n",
       "19                                 east   \n",
       "24                          danny cooks   \n",
       "26                         hotel dining   \n",
       "27                            taco bell   \n",
       "35                            pf changs   \n",
       "37                            lone star   \n",
       "39                   buffalo wild wings   \n",
       "43                            mcdonalds   \n",
       "44                               angels   \n",
       "45                           112 eatery   \n",
       "46                            taco bell   \n",
       "51                               wendys   \n",
       "52                           112 eatery   \n",
       "57                         olive garden   \n",
       "60                       peachtree cafe   \n",
       "61                           tong villa   \n",
       "62                                elmos   \n",
       "63                        bar la grassa   \n",
       "68                   barat a nossa casa   \n",
       "76                            mcdonalds   \n",
       "77               best little restaurant   \n",
       "79                           waterfront   \n",
       "83                                kings   \n",
       "84   purple cactus burrito and wrap bar   \n",
       "90                   buffalo wild wings   \n",
       "93                           waterfront   \n",
       "94                         olive garden   \n",
       "97                         olive garden   \n",
       "101                             monacos   \n",
       "104              best little restaurant   \n",
       "106                        chick fil as   \n",
       "107                         tin whistle   \n",
       "112                       bar la grassa   \n",
       "114                       bar la grassa   \n",
       "116                      peachtree cafe   \n",
       "119                              caribe   \n",
       "\n",
       "                                                 tags  \\\n",
       "4    [O, O, O, B, I, I, I, O, O, O, O, O, O, O, O, O]   \n",
       "6                      [O, O, O, O, O, O, O, B, I, O]   \n",
       "14                           [O, O, O, B, I, O, O, O]   \n",
       "17                           [O, O, O, O, O, B, I, I]   \n",
       "19                     [O, O, O, O, O, O, O, O, O, B]   \n",
       "24         [O, O, O, O, O, O, B, I, O, O, O, O, O, O]   \n",
       "26                  [O, O, O, B, I, O, O, O, O, O, O]   \n",
       "27                           [O, O, O, O, O, O, B, I]   \n",
       "35      [O, O, O, B, I, O, O, O, O, O, O, O, O, O, O]   \n",
       "37                              [O, O, O, B, I, O, O]   \n",
       "39                  [O, O, O, O, O, O, B, I, I, O, O]   \n",
       "43         [O, O, O, O, O, O, B, O, O, O, O, O, O, O]   \n",
       "44               [O, O, O, O, O, O, O, B, O, O, O, O]   \n",
       "45                  [O, O, O, B, I, O, O, O, O, O, O]   \n",
       "46                     [O, O, O, O, O, B, I, O, O, O]   \n",
       "51               [O, O, O, O, O, B, O, O, O, O, O, O]   \n",
       "52            [O, O, O, B, I, O, O, O, O, O, O, O, O]   \n",
       "57                  [O, O, O, O, O, B, I, O, O, O, O]   \n",
       "60                                    [B, I, O, O, O]   \n",
       "61                                          [O, B, I]   \n",
       "62                              [O, O, O, O, O, O, B]   \n",
       "63                           [O, O, O, O, O, B, I, I]   \n",
       "68      [O, O, O, B, I, I, I, O, O, O, O, O, O, O, O]   \n",
       "76                        [O, O, O, O, O, O, O, B, O]   \n",
       "77                              [O, B, I, I, O, O, O]   \n",
       "79                           [O, O, O, O, B, O, O, O]   \n",
       "83                                 [O, B, O, O, O, O]   \n",
       "84   [O, O, O, O, O, O, B, I, I, I, I, I, O, O, O, O]   \n",
       "90                           [O, O, O, O, O, B, I, I]   \n",
       "93                        [O, O, O, O, B, O, O, O, O]   \n",
       "94         [O, O, O, O, O, O, O, O, O, B, I, O, O, O]   \n",
       "97                              [O, B, I, O, O, O, O]   \n",
       "101                          [O, O, O, O, O, B, O, O]   \n",
       "104              [O, O, O, O, O, O, B, I, I, O, O, O]   \n",
       "106                                      [B, I, I, O]   \n",
       "107                             [O, B, I, O, O, O, O]   \n",
       "112              [O, O, O, O, O, B, I, I, O, O, O, O]   \n",
       "114           [O, O, O, O, O, O, O, O, O, O, B, I, I]   \n",
       "116                    [O, O, O, O, B, I, O, O, O, O]   \n",
       "119              [O, O, O, O, O, O, O, O, O, O, O, B]   \n",
       "\n",
       "                              rep_label  \n",
       "4                    barat a nossa casa  \n",
       "6                             lone star  \n",
       "14                         olive garden  \n",
       "17                    blue coyote grill  \n",
       "19                                 east  \n",
       "24                          danny cooks  \n",
       "26                         hotel dining  \n",
       "27                            taco bell  \n",
       "35                            pf changs  \n",
       "37                            lone star  \n",
       "39                   buffalo wild wings  \n",
       "43                            mcdonalds  \n",
       "44                               angels  \n",
       "45                           112 eatery  \n",
       "46                            taco bell  \n",
       "51                               wendys  \n",
       "52                           112 eatery  \n",
       "57                         olive garden  \n",
       "60                       peachtree cafe  \n",
       "61                           tong villa  \n",
       "62                                elmos  \n",
       "63                        bar la grassa  \n",
       "68                   barat a nossa casa  \n",
       "76                            mcdonalds  \n",
       "77               best little restaurant  \n",
       "79                           waterfront  \n",
       "83                                kings  \n",
       "84   purple cactus burrito and wrap bar  \n",
       "90                   buffalo wild wings  \n",
       "93                           waterfront  \n",
       "94                         olive garden  \n",
       "97                         olive garden  \n",
       "101                             monacos  \n",
       "104              best little restaurant  \n",
       "106                        chick fil as  \n",
       "107                         tin whistle  \n",
       "112                       bar la grassa  \n",
       "114                       bar la grassa  \n",
       "116                      peachtree cafe  \n",
       "119                              caribe  "
      ]
     },
     "execution_count": 11,
     "metadata": {},
     "output_type": "execute_result"
    }
   ],
   "source": [
    "train_swap = train.loc[train.restaurant_name != \"\",:].copy()\n",
    "\n",
    "label_list = train_swap[\"restaurant_name\"].unique().tolist()\n",
    "\n",
    "train_swap[\"rep_label\"] = train_swap[\"restaurant_name\"].apply(lambda x: get_replacement_label(x, label_list))\n",
    "\n",
    "train_swap[\"sentence\"] = train_swap.apply(lambda x: swap_labels(x[\"sentence\"], x[\"restaurant_name\"], \n",
    "                                                                x[\"rep_label\"]) , axis = 1)\n",
    "\n",
    "train_swap[\"restaurant_name\"] = train_swap[\"rep_label\"]\n",
    "\n",
    "train_swap[\"tags\"] = train_swap.apply(lambda x: _tag_bio(x[\"sentence\"], x[\"restaurant_name\"]), axis=1)\n",
    "\n",
    "train_swap"
   ]
  },
  {
   "cell_type": "code",
   "execution_count": 12,
   "id": "2e83a24e",
   "metadata": {},
   "outputs": [
    {
     "data": {
      "text/html": [
       "<div>\n",
       "<style scoped>\n",
       "    .dataframe tbody tr th:only-of-type {\n",
       "        vertical-align: middle;\n",
       "    }\n",
       "\n",
       "    .dataframe tbody tr th {\n",
       "        vertical-align: top;\n",
       "    }\n",
       "\n",
       "    .dataframe thead th {\n",
       "        text-align: right;\n",
       "    }\n",
       "</style>\n",
       "<table border=\"1\" class=\"dataframe\">\n",
       "  <thead>\n",
       "    <tr style=\"text-align: right;\">\n",
       "      <th></th>\n",
       "      <th>sentence</th>\n",
       "      <th>restaurant_name</th>\n",
       "      <th>tags</th>\n",
       "      <th>rep_label</th>\n",
       "    </tr>\n",
       "  </thead>\n",
       "  <tbody>\n",
       "    <tr>\n",
       "      <th>65</th>\n",
       "      <td>are there any fun restaurants serving brisket ...</td>\n",
       "      <td></td>\n",
       "      <td>[O, O, O, O, O, O, O, O, O]</td>\n",
       "      <td>NaN</td>\n",
       "    </tr>\n",
       "    <tr>\n",
       "      <th>95</th>\n",
       "      <td>are there any sushi restaurants near colonel b...</td>\n",
       "      <td></td>\n",
       "      <td>[O, O, O, O, O, O, O, O, O]</td>\n",
       "      <td>NaN</td>\n",
       "    </tr>\n",
       "    <tr>\n",
       "      <th>48</th>\n",
       "      <td>are there any bars nearby that serve food like...</td>\n",
       "      <td></td>\n",
       "      <td>[O, O, O, O, O, O, O, O, O, O, O, O]</td>\n",
       "      <td>NaN</td>\n",
       "    </tr>\n",
       "    <tr>\n",
       "      <th>13</th>\n",
       "      <td>are there any places to eat in the area that o...</td>\n",
       "      <td></td>\n",
       "      <td>[O, O, O, O, O, O, O, O, O, O, O, O, O, O, O, O]</td>\n",
       "      <td>NaN</td>\n",
       "    </tr>\n",
       "    <tr>\n",
       "      <th>49</th>\n",
       "      <td>are there any turkish restaurants in florida</td>\n",
       "      <td></td>\n",
       "      <td>[O, O, O, O, O, O, O]</td>\n",
       "      <td>NaN</td>\n",
       "    </tr>\n",
       "    <tr>\n",
       "      <th>...</th>\n",
       "      <td>...</td>\n",
       "      <td>...</td>\n",
       "      <td>...</td>\n",
       "      <td>...</td>\n",
       "    </tr>\n",
       "    <tr>\n",
       "      <th>79</th>\n",
       "      <td>can you find me hotel dining with comfort food</td>\n",
       "      <td>hotel dining</td>\n",
       "      <td>[O, O, O, O, B, I, O, O, O]</td>\n",
       "      <td>NaN</td>\n",
       "    </tr>\n",
       "    <tr>\n",
       "      <th>149</th>\n",
       "      <td>are the portion at waterfront large or very small</td>\n",
       "      <td>waterfront</td>\n",
       "      <td>[O, O, O, O, B, O, O, O, O]</td>\n",
       "      <td>waterfront</td>\n",
       "    </tr>\n",
       "    <tr>\n",
       "      <th>17</th>\n",
       "      <td>can i get hambers at lone star</td>\n",
       "      <td>lone star</td>\n",
       "      <td>[O, O, O, O, O, B, I]</td>\n",
       "      <td>NaN</td>\n",
       "    </tr>\n",
       "    <tr>\n",
       "      <th>33</th>\n",
       "      <td>are there any chinese restaurants near cheyenne</td>\n",
       "      <td></td>\n",
       "      <td>[O, O, O, O, O, O, O]</td>\n",
       "      <td>NaN</td>\n",
       "    </tr>\n",
       "    <tr>\n",
       "      <th>70</th>\n",
       "      <td>are there any mid priced restaurants within 5 ...</td>\n",
       "      <td></td>\n",
       "      <td>[O, O, O, O, O, O, O, O, O, O, O, O, O, O]</td>\n",
       "      <td>NaN</td>\n",
       "    </tr>\n",
       "  </tbody>\n",
       "</table>\n",
       "<p>160 rows × 4 columns</p>\n",
       "</div>"
      ],
      "text/plain": [
       "                                              sentence restaurant_name  \\\n",
       "65   are there any fun restaurants serving brisket ...                   \n",
       "95   are there any sushi restaurants near colonel b...                   \n",
       "48   are there any bars nearby that serve food like...                   \n",
       "13   are there any places to eat in the area that o...                   \n",
       "49        are there any turkish restaurants in florida                   \n",
       "..                                                 ...             ...   \n",
       "79      can you find me hotel dining with comfort food    hotel dining   \n",
       "149  are the portion at waterfront large or very small      waterfront   \n",
       "17                      can i get hambers at lone star       lone star   \n",
       "33     are there any chinese restaurants near cheyenne                   \n",
       "70   are there any mid priced restaurants within 5 ...                   \n",
       "\n",
       "                                                 tags   rep_label  \n",
       "65                        [O, O, O, O, O, O, O, O, O]         NaN  \n",
       "95                        [O, O, O, O, O, O, O, O, O]         NaN  \n",
       "48               [O, O, O, O, O, O, O, O, O, O, O, O]         NaN  \n",
       "13   [O, O, O, O, O, O, O, O, O, O, O, O, O, O, O, O]         NaN  \n",
       "49                              [O, O, O, O, O, O, O]         NaN  \n",
       "..                                                ...         ...  \n",
       "79                        [O, O, O, O, B, I, O, O, O]         NaN  \n",
       "149                       [O, O, O, O, B, O, O, O, O]  waterfront  \n",
       "17                              [O, O, O, O, O, B, I]         NaN  \n",
       "33                              [O, O, O, O, O, O, O]         NaN  \n",
       "70         [O, O, O, O, O, O, O, O, O, O, O, O, O, O]         NaN  \n",
       "\n",
       "[160 rows x 4 columns]"
      ]
     },
     "execution_count": 12,
     "metadata": {},
     "output_type": "execute_result"
    }
   ],
   "source": [
    "train = pd.concat([train, train_swap], axis = 0, ignore_index=True)\n",
    "\n",
    "train = train.sample(frac=1)\n",
    "\n",
    "train"
   ]
  },
  {
   "cell_type": "code",
   "execution_count": 13,
   "id": "c73d234f",
   "metadata": {
    "scrolled": true
   },
   "outputs": [
    {
     "data": {
      "text/html": [
       "<div>\n",
       "<style scoped>\n",
       "    .dataframe tbody tr th:only-of-type {\n",
       "        vertical-align: middle;\n",
       "    }\n",
       "\n",
       "    .dataframe tbody tr th {\n",
       "        vertical-align: top;\n",
       "    }\n",
       "\n",
       "    .dataframe thead th {\n",
       "        text-align: right;\n",
       "    }\n",
       "</style>\n",
       "<table border=\"1\" class=\"dataframe\">\n",
       "  <thead>\n",
       "    <tr style=\"text-align: right;\">\n",
       "      <th></th>\n",
       "      <th>sentence</th>\n",
       "      <th>restaurant_name</th>\n",
       "      <th>tags</th>\n",
       "    </tr>\n",
       "  </thead>\n",
       "  <tbody>\n",
       "    <tr>\n",
       "      <th>0</th>\n",
       "      <td>are there any ice cream shops in my neighborho...</td>\n",
       "      <td></td>\n",
       "      <td>[O, O, O, O, O, O, O, O, O, O, O, O, O, O]</td>\n",
       "    </tr>\n",
       "    <tr>\n",
       "      <th>1</th>\n",
       "      <td>are there any restaurants within 5 miles that ...</td>\n",
       "      <td></td>\n",
       "      <td>[O, O, O, O, O, O, O, O, O, O, O]</td>\n",
       "    </tr>\n",
       "    <tr>\n",
       "      <th>2</th>\n",
       "      <td>are there any locally owned franchises that gi...</td>\n",
       "      <td></td>\n",
       "      <td>[O, O, O, O, O, O, O, O, O, O, O]</td>\n",
       "    </tr>\n",
       "    <tr>\n",
       "      <th>3</th>\n",
       "      <td>are there any restaurants that will let me tak...</td>\n",
       "      <td></td>\n",
       "      <td>[O, O, O, O, O, O, O, O, O, O, O, O, O, O]</td>\n",
       "    </tr>\n",
       "    <tr>\n",
       "      <th>4</th>\n",
       "      <td>are there any five star restaurants around here</td>\n",
       "      <td></td>\n",
       "      <td>[O, O, O, O, O, O, O, O]</td>\n",
       "    </tr>\n",
       "    <tr>\n",
       "      <th>5</th>\n",
       "      <td>do you think the noodle bar is open</td>\n",
       "      <td>noodle bar</td>\n",
       "      <td>[O, O, O, O, B, I, O, O]</td>\n",
       "    </tr>\n",
       "    <tr>\n",
       "      <th>6</th>\n",
       "      <td>are there any vegetarian restaurants in this town</td>\n",
       "      <td></td>\n",
       "      <td>[O, O, O, O, O, O, O, O]</td>\n",
       "    </tr>\n",
       "    <tr>\n",
       "      <th>7</th>\n",
       "      <td>any places around here that has a nice view</td>\n",
       "      <td></td>\n",
       "      <td>[O, O, O, O, O, O, O, O, O]</td>\n",
       "    </tr>\n",
       "    <tr>\n",
       "      <th>8</th>\n",
       "      <td>are there any jazz clubs that serve food</td>\n",
       "      <td></td>\n",
       "      <td>[O, O, O, O, O, O, O, O]</td>\n",
       "    </tr>\n",
       "    <tr>\n",
       "      <th>9</th>\n",
       "      <td>do any famous people frequent the jimmys pizza...</td>\n",
       "      <td>jimmys pizza</td>\n",
       "      <td>[O, O, O, O, O, O, B, I, O, O, O, O, O]</td>\n",
       "    </tr>\n",
       "    <tr>\n",
       "      <th>10</th>\n",
       "      <td>are there any dining specials at le bec fin</td>\n",
       "      <td>le bec fin</td>\n",
       "      <td>[O, O, O, O, O, O, B, I, I]</td>\n",
       "    </tr>\n",
       "    <tr>\n",
       "      <th>11</th>\n",
       "      <td>are there any seafood restaurants near governm...</td>\n",
       "      <td></td>\n",
       "      <td>[O, O, O, O, O, O, O, O, O, O, O, O, O, O]</td>\n",
       "    </tr>\n",
       "    <tr>\n",
       "      <th>12</th>\n",
       "      <td>are there any places near by that sell hamburg...</td>\n",
       "      <td></td>\n",
       "      <td>[O, O, O, O, O, O, O, O, O, O, O]</td>\n",
       "    </tr>\n",
       "    <tr>\n",
       "      <th>13</th>\n",
       "      <td>are there any restaurants nearby that have out...</td>\n",
       "      <td></td>\n",
       "      <td>[O, O, O, O, O, O, O, O, O]</td>\n",
       "    </tr>\n",
       "    <tr>\n",
       "      <th>14</th>\n",
       "      <td>can you find the waterfront restaurant alberto...</td>\n",
       "      <td>albertos deli</td>\n",
       "      <td>[O, O, O, O, O, O, B, I, O, O, O, O, O, O, O]</td>\n",
       "    </tr>\n",
       "    <tr>\n",
       "      <th>15</th>\n",
       "      <td>do you know if reggianos serve breakfast</td>\n",
       "      <td>reggianos</td>\n",
       "      <td>[O, O, O, O, B, O, O]</td>\n",
       "    </tr>\n",
       "    <tr>\n",
       "      <th>16</th>\n",
       "      <td>are there any vegetarian restaurants that allo...</td>\n",
       "      <td></td>\n",
       "      <td>[O, O, O, O, O, O, O, O, O, O, O, O, O, O]</td>\n",
       "    </tr>\n",
       "    <tr>\n",
       "      <th>17</th>\n",
       "      <td>can you make reservations for two at heartland...</td>\n",
       "      <td>heartland restaurant</td>\n",
       "      <td>[O, O, O, O, O, O, O, B, I, O, O, O, O, O]</td>\n",
       "    </tr>\n",
       "    <tr>\n",
       "      <th>18</th>\n",
       "      <td>are there any greek restaurants in the area</td>\n",
       "      <td></td>\n",
       "      <td>[O, O, O, O, O, O, O, O]</td>\n",
       "    </tr>\n",
       "    <tr>\n",
       "      <th>19</th>\n",
       "      <td>are there any vegan spots that are open after ...</td>\n",
       "      <td></td>\n",
       "      <td>[O, O, O, O, O, O, O, O, O, O, O, O]</td>\n",
       "    </tr>\n",
       "    <tr>\n",
       "      <th>20</th>\n",
       "      <td>can you find the closest ihop</td>\n",
       "      <td>ihop</td>\n",
       "      <td>[O, O, O, O, O, B]</td>\n",
       "    </tr>\n",
       "    <tr>\n",
       "      <th>21</th>\n",
       "      <td>call cheeseboard in berkeley for me</td>\n",
       "      <td>cheeseboard</td>\n",
       "      <td>[O, B, O, O, O, O]</td>\n",
       "    </tr>\n",
       "    <tr>\n",
       "      <th>22</th>\n",
       "      <td>does burger king accept credit cards</td>\n",
       "      <td>burger king</td>\n",
       "      <td>[O, B, I, O, O, O]</td>\n",
       "    </tr>\n",
       "    <tr>\n",
       "      <th>23</th>\n",
       "      <td>beer and hot wings in town</td>\n",
       "      <td></td>\n",
       "      <td>[O, O, O, O, O, O]</td>\n",
       "    </tr>\n",
       "    <tr>\n",
       "      <th>24</th>\n",
       "      <td>are there any restaurants with valet parking a...</td>\n",
       "      <td></td>\n",
       "      <td>[O, O, O, O, O, O, O, O, O, O, O, O, O]</td>\n",
       "    </tr>\n",
       "    <tr>\n",
       "      <th>25</th>\n",
       "      <td>any bbq places open before 5 nearby</td>\n",
       "      <td></td>\n",
       "      <td>[O, O, O, O, O, O, O]</td>\n",
       "    </tr>\n",
       "    <tr>\n",
       "      <th>26</th>\n",
       "      <td>are there are any cracker barrells on long island</td>\n",
       "      <td>cracker barrells</td>\n",
       "      <td>[O, O, O, O, B, I, O, O, O]</td>\n",
       "    </tr>\n",
       "    <tr>\n",
       "      <th>27</th>\n",
       "      <td>best chinese food in the area</td>\n",
       "      <td></td>\n",
       "      <td>[O, O, O, O, O, O]</td>\n",
       "    </tr>\n",
       "    <tr>\n",
       "      <th>28</th>\n",
       "      <td>any good vegan spots nearby</td>\n",
       "      <td></td>\n",
       "      <td>[O, O, O, O, O]</td>\n",
       "    </tr>\n",
       "    <tr>\n",
       "      <th>29</th>\n",
       "      <td>are there any places near by that serve lunch ...</td>\n",
       "      <td></td>\n",
       "      <td>[O, O, O, O, O, O, O, O, O, O, O]</td>\n",
       "    </tr>\n",
       "  </tbody>\n",
       "</table>\n",
       "</div>"
      ],
      "text/plain": [
       "                                             sentence       restaurant_name  \\\n",
       "0   are there any ice cream shops in my neighborho...                         \n",
       "1   are there any restaurants within 5 miles that ...                         \n",
       "2   are there any locally owned franchises that gi...                         \n",
       "3   are there any restaurants that will let me tak...                         \n",
       "4     are there any five star restaurants around here                         \n",
       "5                 do you think the noodle bar is open            noodle bar   \n",
       "6   are there any vegetarian restaurants in this town                         \n",
       "7         any places around here that has a nice view                         \n",
       "8            are there any jazz clubs that serve food                         \n",
       "9   do any famous people frequent the jimmys pizza...          jimmys pizza   \n",
       "10        are there any dining specials at le bec fin            le bec fin   \n",
       "11  are there any seafood restaurants near governm...                         \n",
       "12  are there any places near by that sell hamburg...                         \n",
       "13  are there any restaurants nearby that have out...                         \n",
       "14  can you find the waterfront restaurant alberto...         albertos deli   \n",
       "15           do you know if reggianos serve breakfast             reggianos   \n",
       "16  are there any vegetarian restaurants that allo...                         \n",
       "17  can you make reservations for two at heartland...  heartland restaurant   \n",
       "18        are there any greek restaurants in the area                         \n",
       "19  are there any vegan spots that are open after ...                         \n",
       "20                      can you find the closest ihop                  ihop   \n",
       "21                call cheeseboard in berkeley for me           cheeseboard   \n",
       "22               does burger king accept credit cards           burger king   \n",
       "23                         beer and hot wings in town                         \n",
       "24  are there any restaurants with valet parking a...                         \n",
       "25                any bbq places open before 5 nearby                         \n",
       "26  are there are any cracker barrells on long island      cracker barrells   \n",
       "27                      best chinese food in the area                         \n",
       "28                        any good vegan spots nearby                         \n",
       "29  are there any places near by that serve lunch ...                         \n",
       "\n",
       "                                             tags  \n",
       "0      [O, O, O, O, O, O, O, O, O, O, O, O, O, O]  \n",
       "1               [O, O, O, O, O, O, O, O, O, O, O]  \n",
       "2               [O, O, O, O, O, O, O, O, O, O, O]  \n",
       "3      [O, O, O, O, O, O, O, O, O, O, O, O, O, O]  \n",
       "4                        [O, O, O, O, O, O, O, O]  \n",
       "5                        [O, O, O, O, B, I, O, O]  \n",
       "6                        [O, O, O, O, O, O, O, O]  \n",
       "7                     [O, O, O, O, O, O, O, O, O]  \n",
       "8                        [O, O, O, O, O, O, O, O]  \n",
       "9         [O, O, O, O, O, O, B, I, O, O, O, O, O]  \n",
       "10                    [O, O, O, O, O, O, B, I, I]  \n",
       "11     [O, O, O, O, O, O, O, O, O, O, O, O, O, O]  \n",
       "12              [O, O, O, O, O, O, O, O, O, O, O]  \n",
       "13                    [O, O, O, O, O, O, O, O, O]  \n",
       "14  [O, O, O, O, O, O, B, I, O, O, O, O, O, O, O]  \n",
       "15                          [O, O, O, O, B, O, O]  \n",
       "16     [O, O, O, O, O, O, O, O, O, O, O, O, O, O]  \n",
       "17     [O, O, O, O, O, O, O, B, I, O, O, O, O, O]  \n",
       "18                       [O, O, O, O, O, O, O, O]  \n",
       "19           [O, O, O, O, O, O, O, O, O, O, O, O]  \n",
       "20                             [O, O, O, O, O, B]  \n",
       "21                             [O, B, O, O, O, O]  \n",
       "22                             [O, B, I, O, O, O]  \n",
       "23                             [O, O, O, O, O, O]  \n",
       "24        [O, O, O, O, O, O, O, O, O, O, O, O, O]  \n",
       "25                          [O, O, O, O, O, O, O]  \n",
       "26                    [O, O, O, O, B, I, O, O, O]  \n",
       "27                             [O, O, O, O, O, O]  \n",
       "28                                [O, O, O, O, O]  \n",
       "29              [O, O, O, O, O, O, O, O, O, O, O]  "
      ]
     },
     "execution_count": 13,
     "metadata": {},
     "output_type": "execute_result"
    }
   ],
   "source": [
    "val[\"tags\"] = val.apply(lambda x: _tag_bio(x[\"sentence\"], x[\"restaurant_name\"]), axis=1)\n",
    "\n",
    "val"
   ]
  },
  {
   "cell_type": "code",
   "execution_count": 14,
   "id": "6dceb8af",
   "metadata": {
    "scrolled": true
   },
   "outputs": [
    {
     "data": {
      "text/html": [
       "<div>\n",
       "<style scoped>\n",
       "    .dataframe tbody tr th:only-of-type {\n",
       "        vertical-align: middle;\n",
       "    }\n",
       "\n",
       "    .dataframe tbody tr th {\n",
       "        vertical-align: top;\n",
       "    }\n",
       "\n",
       "    .dataframe thead th {\n",
       "        text-align: right;\n",
       "    }\n",
       "</style>\n",
       "<table border=\"1\" class=\"dataframe\">\n",
       "  <thead>\n",
       "    <tr style=\"text-align: right;\">\n",
       "      <th></th>\n",
       "      <th>sentence</th>\n",
       "      <th>restaurant_name</th>\n",
       "      <th>tags</th>\n",
       "    </tr>\n",
       "  </thead>\n",
       "  <tbody>\n",
       "    <tr>\n",
       "      <th>0</th>\n",
       "      <td>find pizza places</td>\n",
       "      <td></td>\n",
       "      <td>[O, O, O]</td>\n",
       "    </tr>\n",
       "    <tr>\n",
       "      <th>1</th>\n",
       "      <td>find me the best rated chinese restaurant in t...</td>\n",
       "      <td></td>\n",
       "      <td>[O, O, O, O, O, O, O, O, O, O, O]</td>\n",
       "    </tr>\n",
       "    <tr>\n",
       "      <th>2</th>\n",
       "      <td>what kind of food does abc cafe serve</td>\n",
       "      <td>abc cafe</td>\n",
       "      <td>[O, O, O, O, O, B, I, O]</td>\n",
       "    </tr>\n",
       "    <tr>\n",
       "      <th>3</th>\n",
       "      <td>how far away is the nearest steak house</td>\n",
       "      <td></td>\n",
       "      <td>[O, O, O, O, O, O, O, O]</td>\n",
       "    </tr>\n",
       "    <tr>\n",
       "      <th>4</th>\n",
       "      <td>i am looking for a mexican restuarant that has...</td>\n",
       "      <td></td>\n",
       "      <td>[O, O, O, O, O, O, O, O, O, O, O, O]</td>\n",
       "    </tr>\n",
       "    <tr>\n",
       "      <th>...</th>\n",
       "      <td>...</td>\n",
       "      <td>...</td>\n",
       "      <td>...</td>\n",
       "    </tr>\n",
       "    <tr>\n",
       "      <th>145</th>\n",
       "      <td>find me brazilian food with on location parking</td>\n",
       "      <td></td>\n",
       "      <td>[O, O, O, O, O, O, O, O]</td>\n",
       "    </tr>\n",
       "    <tr>\n",
       "      <th>146</th>\n",
       "      <td>get me to a mexican place</td>\n",
       "      <td></td>\n",
       "      <td>[O, O, O, O, O, O]</td>\n",
       "    </tr>\n",
       "    <tr>\n",
       "      <th>147</th>\n",
       "      <td>how far am i from the nearest bagel shop</td>\n",
       "      <td></td>\n",
       "      <td>[O, O, O, O, O, O, O, O, O]</td>\n",
       "    </tr>\n",
       "    <tr>\n",
       "      <th>148</th>\n",
       "      <td>what time does sonic open</td>\n",
       "      <td>sonic</td>\n",
       "      <td>[O, O, O, B, O]</td>\n",
       "    </tr>\n",
       "    <tr>\n",
       "      <th>149</th>\n",
       "      <td>give me a list of restaurants that have seafoo...</td>\n",
       "      <td></td>\n",
       "      <td>[O, O, O, O, O, O, O, O, O, O, O, O]</td>\n",
       "    </tr>\n",
       "  </tbody>\n",
       "</table>\n",
       "<p>150 rows × 3 columns</p>\n",
       "</div>"
      ],
      "text/plain": [
       "                                              sentence restaurant_name  \\\n",
       "0                                    find pizza places                   \n",
       "1    find me the best rated chinese restaurant in t...                   \n",
       "2                what kind of food does abc cafe serve        abc cafe   \n",
       "3              how far away is the nearest steak house                   \n",
       "4    i am looking for a mexican restuarant that has...                   \n",
       "..                                                 ...             ...   \n",
       "145    find me brazilian food with on location parking                   \n",
       "146                          get me to a mexican place                   \n",
       "147           how far am i from the nearest bagel shop                   \n",
       "148                          what time does sonic open           sonic   \n",
       "149  give me a list of restaurants that have seafoo...                   \n",
       "\n",
       "                                     tags  \n",
       "0                               [O, O, O]  \n",
       "1       [O, O, O, O, O, O, O, O, O, O, O]  \n",
       "2                [O, O, O, O, O, B, I, O]  \n",
       "3                [O, O, O, O, O, O, O, O]  \n",
       "4    [O, O, O, O, O, O, O, O, O, O, O, O]  \n",
       "..                                    ...  \n",
       "145              [O, O, O, O, O, O, O, O]  \n",
       "146                    [O, O, O, O, O, O]  \n",
       "147           [O, O, O, O, O, O, O, O, O]  \n",
       "148                       [O, O, O, B, O]  \n",
       "149  [O, O, O, O, O, O, O, O, O, O, O, O]  \n",
       "\n",
       "[150 rows x 3 columns]"
      ]
     },
     "execution_count": 14,
     "metadata": {},
     "output_type": "execute_result"
    }
   ],
   "source": [
    "holdout[\"tags\"] = holdout.apply(lambda x: _tag_bio(x[\"sentence\"], x[\"restaurant_name\"]), axis=1)\n",
    "\n",
    "holdout"
   ]
  },
  {
   "cell_type": "markdown",
   "id": "d650a3ec",
   "metadata": {},
   "source": [
    "### Create data loaders"
   ]
  },
  {
   "cell_type": "code",
   "execution_count": 15,
   "id": "1eb6c632",
   "metadata": {
    "scrolled": false
   },
   "outputs": [
    {
     "data": {
      "text/plain": [
       "17"
      ]
     },
     "execution_count": 15,
     "metadata": {},
     "output_type": "execute_result"
    }
   ],
   "source": [
    "train.tags.apply(len).max()"
   ]
  },
  {
   "cell_type": "code",
   "execution_count": 16,
   "id": "b9055621",
   "metadata": {},
   "outputs": [],
   "source": [
    "train_sents = train[\"sentence\"].apply(lambda x: x.split()).tolist()\n",
    "\n",
    "train_labels = train[\"tags\"].tolist()\n",
    "\n",
    "val_sents = val[\"sentence\"].apply(lambda x: x.split()).tolist()\n",
    "\n",
    "val_labels = val[\"tags\"].tolist()\n",
    "\n",
    "holdout_sents = holdout[\"sentence\"].apply(lambda x: x.split()).tolist()\n",
    "\n",
    "holdout_labels = holdout[\"tags\"].tolist()\n"
   ]
  },
  {
   "cell_type": "code",
   "execution_count": 17,
   "id": "100e35c9",
   "metadata": {},
   "outputs": [],
   "source": [
    "train_tokenized_texts_and_labels = [\n",
    "    tokenize_and_preserve_labels(sent, labs)\n",
    "    for sent, labs in zip(train_sents, train_labels)\n",
    "]\n"
   ]
  },
  {
   "cell_type": "code",
   "execution_count": 18,
   "id": "5ac8e7f6",
   "metadata": {},
   "outputs": [],
   "source": [
    "val_tokenized_texts_and_labels = [\n",
    "    tokenize_and_preserve_labels(sent, labs)\n",
    "    for sent, labs in zip(val_sents, val_labels)\n",
    "]\n"
   ]
  },
  {
   "cell_type": "code",
   "execution_count": 19,
   "id": "6ed9eec8",
   "metadata": {},
   "outputs": [],
   "source": [
    "holdout_tokenized_texts_and_labels = [\n",
    "    tokenize_and_preserve_labels(sent, labs)\n",
    "    for sent, labs in zip(holdout_sents, holdout_labels)\n",
    "]\n"
   ]
  },
  {
   "cell_type": "code",
   "execution_count": 20,
   "id": "4d67bd38",
   "metadata": {},
   "outputs": [],
   "source": [
    "train_tokenized_texts = [token_label_pair[0] for token_label_pair in train_tokenized_texts_and_labels]\n",
    "\n",
    "train_labels = [token_label_pair[1] for token_label_pair in train_tokenized_texts_and_labels]"
   ]
  },
  {
   "cell_type": "code",
   "execution_count": 21,
   "id": "8182ea07",
   "metadata": {},
   "outputs": [],
   "source": [
    "val_tokenized_texts = [token_label_pair[0] for token_label_pair in val_tokenized_texts_and_labels]\n",
    "\n",
    "val_labels = [token_label_pair[1] for token_label_pair in val_tokenized_texts_and_labels]"
   ]
  },
  {
   "cell_type": "code",
   "execution_count": 22,
   "id": "5735156d",
   "metadata": {},
   "outputs": [],
   "source": [
    "holdout_tokenized_texts = [token_label_pair[0] for token_label_pair in holdout_tokenized_texts_and_labels]\n",
    "\n",
    "holdout_labels = [token_label_pair[1] for token_label_pair in holdout_tokenized_texts_and_labels]"
   ]
  },
  {
   "cell_type": "code",
   "execution_count": 23,
   "id": "af51c5b1",
   "metadata": {},
   "outputs": [],
   "source": [
    "input_ids_train = pad_sequences([tokenizer.convert_tokens_to_ids(txt) for txt in train_tokenized_texts],\n",
    "                          maxlen=MAX_LEN, dtype=\"long\", value=0.0,\n",
    "                          truncating=\"post\", padding=\"post\")"
   ]
  },
  {
   "cell_type": "code",
   "execution_count": 24,
   "id": "6665bf5d",
   "metadata": {},
   "outputs": [],
   "source": [
    "input_ids_val = pad_sequences([tokenizer.convert_tokens_to_ids(txt) for txt in val_tokenized_texts],\n",
    "                          maxlen=MAX_LEN, dtype=\"long\", value=0.0,\n",
    "                          truncating=\"post\", padding=\"post\")"
   ]
  },
  {
   "cell_type": "code",
   "execution_count": 25,
   "id": "f9ee8f3d",
   "metadata": {},
   "outputs": [],
   "source": [
    "input_ids_holdout = pad_sequences([tokenizer.convert_tokens_to_ids(txt) for txt in holdout_tokenized_texts],\n",
    "                          maxlen=MAX_LEN, dtype=\"long\", value=0.0,\n",
    "                          truncating=\"post\", padding=\"post\")"
   ]
  },
  {
   "cell_type": "code",
   "execution_count": 26,
   "id": "14181f2d",
   "metadata": {},
   "outputs": [
    {
     "data": {
      "text/plain": [
       "{'B': 0, 'I': 1, 'O': 2, 'PAD': 3}"
      ]
     },
     "execution_count": 26,
     "metadata": {},
     "output_type": "execute_result"
    }
   ],
   "source": [
    "tag_values = [\"B\", \"I\", \"O\", \"PAD\"]\n",
    "\n",
    "tag2idx = {t: i for i, t in enumerate(tag_values)}\n",
    "\n",
    "tag2idx"
   ]
  },
  {
   "cell_type": "code",
   "execution_count": 27,
   "id": "327f5a65",
   "metadata": {},
   "outputs": [],
   "source": [
    "train_tags = pad_sequences([[tag2idx.get(l) for l in lab] for lab in train_labels],\n",
    "                     maxlen=MAX_LEN, value=tag2idx[\"PAD\"], padding=\"post\",\n",
    "                     dtype=\"long\", truncating=\"post\")"
   ]
  },
  {
   "cell_type": "code",
   "execution_count": 28,
   "id": "18f392b9",
   "metadata": {},
   "outputs": [],
   "source": [
    "val_tags = pad_sequences([[tag2idx.get(l) for l in lab] for lab in val_labels],\n",
    "                     maxlen=MAX_LEN, value=tag2idx[\"PAD\"], padding=\"post\",\n",
    "                     dtype=\"long\", truncating=\"post\")"
   ]
  },
  {
   "cell_type": "code",
   "execution_count": 29,
   "id": "d1657e50",
   "metadata": {},
   "outputs": [],
   "source": [
    "holdout_tags = pad_sequences([[tag2idx.get(l) for l in lab] for lab in holdout_labels],\n",
    "                     maxlen=MAX_LEN, value=tag2idx[\"PAD\"], padding=\"post\",\n",
    "                     dtype=\"long\", truncating=\"post\")"
   ]
  },
  {
   "cell_type": "code",
   "execution_count": 30,
   "id": "2f2be231",
   "metadata": {},
   "outputs": [],
   "source": [
    "train_attention_masks = [[float(i != 0.0) for i in ii] for ii in input_ids_train]"
   ]
  },
  {
   "cell_type": "code",
   "execution_count": 31,
   "id": "1dcffaac",
   "metadata": {},
   "outputs": [],
   "source": [
    "val_attention_masks = [[float(i != 0.0) for i in ii] for ii in input_ids_val]"
   ]
  },
  {
   "cell_type": "code",
   "execution_count": 32,
   "id": "28b5d076",
   "metadata": {},
   "outputs": [],
   "source": [
    "holdout_attention_masks = [[float(i != 0.0) for i in ii] for ii in input_ids_holdout]"
   ]
  },
  {
   "cell_type": "code",
   "execution_count": 33,
   "id": "9c51530b",
   "metadata": {},
   "outputs": [],
   "source": [
    "train_inputs = torch.tensor(input_ids_train)\n",
    "\n",
    "val_inputs = torch.tensor(input_ids_val)\n",
    "\n",
    "holdout_inputs = torch.tensor(input_ids_holdout)\n",
    "\n",
    "train_tags = torch.tensor(train_tags)\n",
    "\n",
    "val_tags = torch.tensor(val_tags)\n",
    "\n",
    "holdout_tags = torch.tensor(holdout_tags)\n",
    "\n",
    "train_attention_masks = torch.tensor(train_attention_masks)\n",
    "\n",
    "val_attention_masks = torch.tensor(val_attention_masks)\n",
    "\n",
    "holdout_attention_masks = torch.tensor(holdout_attention_masks)"
   ]
  },
  {
   "cell_type": "code",
   "execution_count": 34,
   "id": "3f20a0d0",
   "metadata": {},
   "outputs": [
    {
     "data": {
      "text/plain": [
       "(torch.Size([30, 50]), torch.Size([30, 50]), torch.Size([30, 50]))"
      ]
     },
     "execution_count": 34,
     "metadata": {},
     "output_type": "execute_result"
    }
   ],
   "source": [
    "val_inputs.shape, val_tags.shape, val_attention_masks.shape"
   ]
  },
  {
   "cell_type": "code",
   "execution_count": 35,
   "id": "9fef95c1",
   "metadata": {},
   "outputs": [],
   "source": [
    "train_data = TensorDataset(train_inputs, train_attention_masks, train_tags)\n",
    "train_sampler = RandomSampler(train_data)\n",
    "train_dataloader = DataLoader(train_data, sampler=train_sampler, batch_size=bs)\n",
    "\n",
    "valid_data = TensorDataset(val_inputs, val_attention_masks, val_tags)\n",
    "valid_sampler = SequentialSampler(valid_data)\n",
    "valid_dataloader = DataLoader(valid_data, sampler=valid_sampler, batch_size=bs)\n"
   ]
  },
  {
   "cell_type": "markdown",
   "id": "270c10a4",
   "metadata": {},
   "source": [
    "### Model Setup"
   ]
  },
  {
   "cell_type": "code",
   "execution_count": 36,
   "id": "2e02b6f9",
   "metadata": {
    "scrolled": true
   },
   "outputs": [
    {
     "name": "stderr",
     "output_type": "stream",
     "text": [
      "Some weights of the model checkpoint at bert-base-uncased were not used when initializing BertForTokenClassification: ['cls.predictions.transform.LayerNorm.weight', 'cls.predictions.transform.dense.bias', 'cls.predictions.decoder.weight', 'cls.seq_relationship.bias', 'cls.predictions.bias', 'cls.predictions.transform.LayerNorm.bias', 'cls.predictions.transform.dense.weight', 'cls.seq_relationship.weight']\n",
      "- This IS expected if you are initializing BertForTokenClassification from the checkpoint of a model trained on another task or with another architecture (e.g. initializing a BertForSequenceClassification model from a BertForPreTraining model).\n",
      "- This IS NOT expected if you are initializing BertForTokenClassification from the checkpoint of a model that you expect to be exactly identical (initializing a BertForSequenceClassification model from a BertForSequenceClassification model).\n",
      "Some weights of BertForTokenClassification were not initialized from the model checkpoint at bert-base-uncased and are newly initialized: ['classifier.weight', 'classifier.bias']\n",
      "You should probably TRAIN this model on a down-stream task to be able to use it for predictions and inference.\n"
     ]
    }
   ],
   "source": [
    "model = BertForTokenClassification.from_pretrained(\n",
    "    \"bert-base-uncased\",\n",
    "    num_labels=len(tag2idx),\n",
    "    output_attentions = False,\n",
    "    output_hidden_states = False\n",
    ")\n",
    "#model.cuda();\n"
   ]
  },
  {
   "cell_type": "code",
   "execution_count": 37,
   "id": "b97e1ded",
   "metadata": {},
   "outputs": [],
   "source": [
    "FULL_FINETUNING = True\n",
    "\n",
    "if FULL_FINETUNING:\n",
    "    param_optimizer = list(model.named_parameters())\n",
    "    no_decay = ['bias', 'gamma', 'beta']\n",
    "    optimizer_grouped_parameters = [\n",
    "        {'params': [p for n, p in param_optimizer if not any(nd in n for nd in no_decay)],\n",
    "         'weight_decay_rate': 0.01},\n",
    "        {'params': [p for n, p in param_optimizer if any(nd in n for nd in no_decay)],\n",
    "         'weight_decay_rate': 0.0}\n",
    "    ]\n",
    "else:\n",
    "    param_optimizer = list(model.classifier.named_parameters())\n",
    "    optimizer_grouped_parameters = [{\"params\": [p for n, p in param_optimizer]}]\n",
    "\n",
    "optimizer = AdamW(\n",
    "    optimizer_grouped_parameters,\n",
    "    lr=LR,\n",
    "    eps=1e-8\n",
    ")"
   ]
  },
  {
   "cell_type": "code",
   "execution_count": 38,
   "id": "f978558a",
   "metadata": {},
   "outputs": [
    {
     "name": "stdout",
     "output_type": "stream",
     "text": [
      "160 1600\n"
     ]
    }
   ],
   "source": [
    "from transformers import get_linear_schedule_with_warmup\n",
    "\n",
    "# Total number of training steps is number of batches * number of epochs.\n",
    "total_steps = len(train_dataloader) * epochs\n",
    "\n",
    "num_warmup_steps = int(0.1 * total_steps)\n",
    "\n",
    "print(num_warmup_steps, total_steps)\n",
    "# Create the learning rate scheduler.\n",
    "scheduler = get_linear_schedule_with_warmup(\n",
    "    optimizer,\n",
    "    num_warmup_steps=num_warmup_steps,\n",
    "    num_training_steps=total_steps\n",
    ")"
   ]
  },
  {
   "cell_type": "markdown",
   "id": "a978bcaf",
   "metadata": {},
   "source": [
    "### Training"
   ]
  },
  {
   "cell_type": "code",
   "execution_count": 39,
   "id": "3970df83",
   "metadata": {
    "scrolled": true
   },
   "outputs": [
    {
     "name": "stderr",
     "output_type": "stream",
     "text": [
      "100%|███████████████████████████████████████████| 80/80 [01:49<00:00,  1.37s/it]\n"
     ]
    },
    {
     "name": "stdout",
     "output_type": "stream",
     "text": [
      "Average train loss: 0.6986915646819398\n",
      "Validation loss: 0.39833361698935427\n",
      "val on val\n",
      "precision: 0.034482758620689655 | recall 1.0 | f1_score 0.06666666666666667\n",
      "val on holdout\n",
      "precision: 0.0 | recall 0 | f1_score 0\n",
      "saving model: 0 0.06666666666666667 0\n"
     ]
    },
    {
     "name": "stderr",
     "output_type": "stream",
     "text": [
      "\r",
      "Epoch:   5%|█▊                                  | 1/20 [02:11<41:41, 131.66s/it]"
     ]
    },
    {
     "name": "stdout",
     "output_type": "stream",
     "text": [
      "precision: 0.0 | recall 0 | f1_score 0\n",
      "Train f1 0\n",
      "\n"
     ]
    },
    {
     "name": "stderr",
     "output_type": "stream",
     "text": [
      "100%|███████████████████████████████████████████| 80/80 [01:41<00:00,  1.27s/it]\n"
     ]
    },
    {
     "name": "stdout",
     "output_type": "stream",
     "text": [
      "Average train loss: 0.36640763079049066\n",
      "Validation loss: 0.19192700151664516\n",
      "val on val\n",
      "precision: 0.038461538461538464 | recall 0.5 | f1_score 0.07142857142857144\n",
      "val on holdout\n",
      "precision: 0.058394160583941604 | recall 0.8888888888888888 | f1_score 0.1095890410958904\n",
      "saving model: 0.1095890410958904 0.07142857142857144 0.06666666666666667\n"
     ]
    },
    {
     "name": "stderr",
     "output_type": "stream",
     "text": [
      "\r",
      "Epoch:  10%|███▌                                | 2/20 [04:15<38:04, 126.90s/it]"
     ]
    },
    {
     "name": "stdout",
     "output_type": "stream",
     "text": [
      "precision: 0.12781954887218044 | recall 0.6538461538461539 | f1_score 0.2138364779874214\n",
      "Train f1 0.2138364779874214\n",
      "\n"
     ]
    },
    {
     "name": "stderr",
     "output_type": "stream",
     "text": [
      "100%|███████████████████████████████████████████| 80/80 [01:38<00:00,  1.23s/it]\n"
     ]
    },
    {
     "name": "stdout",
     "output_type": "stream",
     "text": [
      "Average train loss: 0.18121092525543644\n",
      "Validation loss: 0.17013200079866994\n",
      "val on val\n",
      "precision: 0.3888888888888889 | recall 0.875 | f1_score 0.5384615384615385\n",
      "val on holdout\n",
      "precision: 0.17647058823529413 | recall 0.8333333333333334 | f1_score 0.29126213592233013\n",
      "saving model: 0.29126213592233013 0.5384615384615385 0.07142857142857144\n"
     ]
    },
    {
     "name": "stderr",
     "output_type": "stream",
     "text": [
      "\r",
      "Epoch:  15%|█████▍                              | 3/20 [06:15<35:05, 123.84s/it]"
     ]
    },
    {
     "name": "stdout",
     "output_type": "stream",
     "text": [
      "precision: 0.5052631578947369 | recall 0.8421052631578947 | f1_score 0.631578947368421\n",
      "Train f1 0.631578947368421\n",
      "\n"
     ]
    },
    {
     "name": "stderr",
     "output_type": "stream",
     "text": [
      "100%|███████████████████████████████████████████| 80/80 [01:38<00:00,  1.23s/it]\n"
     ]
    },
    {
     "name": "stdout",
     "output_type": "stream",
     "text": [
      "Average train loss: 0.11030103148586931\n",
      "Validation loss: 0.10947073011775502\n",
      "val on val\n",
      "precision: 0.47058823529411764 | recall 1.0 | f1_score 0.6399999999999999\n",
      "val on holdout\n",
      "precision: 0.336734693877551 | recall 0.868421052631579 | f1_score 0.48529411764705876\n",
      "saving model: 0.48529411764705876 0.6399999999999999 0.5384615384615385\n"
     ]
    },
    {
     "name": "stderr",
     "output_type": "stream",
     "text": [
      "\r",
      "Epoch:  20%|███████▏                            | 4/20 [08:17<32:52, 123.31s/it]"
     ]
    },
    {
     "name": "stdout",
     "output_type": "stream",
     "text": [
      "precision: 0.6082474226804123 | recall 0.9076923076923077 | f1_score 0.728395061728395\n",
      "Train f1 0.728395061728395\n",
      "\n"
     ]
    },
    {
     "name": "stderr",
     "output_type": "stream",
     "text": [
      "100%|███████████████████████████████████████████| 80/80 [01:52<00:00,  1.41s/it]\n"
     ]
    },
    {
     "name": "stdout",
     "output_type": "stream",
     "text": [
      "Average train loss: 0.0583283292264241\n",
      "Validation loss: 0.1782504402033131\n",
      "val on val\n",
      "precision: 0.5 | recall 1.0 | f1_score 0.6666666666666666\n",
      "val on holdout\n",
      "precision: 0.3148148148148148 | recall 0.8717948717948718 | f1_score 0.4625850340136054\n",
      "saving model: 0.4625850340136054 0.6666666666666666 0.6399999999999999\n"
     ]
    },
    {
     "name": "stderr",
     "output_type": "stream",
     "text": [
      "\r",
      "Epoch:  25%|█████████                           | 5/20 [10:34<32:03, 128.24s/it]"
     ]
    },
    {
     "name": "stdout",
     "output_type": "stream",
     "text": [
      "precision: 0.7291666666666666 | recall 0.9859154929577465 | f1_score 0.8383233532934132\n",
      "Train f1 0.8383233532934132\n",
      "\n"
     ]
    },
    {
     "name": "stderr",
     "output_type": "stream",
     "text": [
      "100%|███████████████████████████████████████████| 80/80 [01:44<00:00,  1.30s/it]\n"
     ]
    },
    {
     "name": "stdout",
     "output_type": "stream",
     "text": [
      "Average train loss: 0.043833411149535095\n",
      "Validation loss: 0.1361959441822061\n",
      "val on val\n",
      "precision: 0.5 | recall 1.0 | f1_score 0.6666666666666666\n",
      "val on holdout\n",
      "precision: 0.3627450980392157 | recall 0.925 | f1_score 0.5211267605633803\n",
      "saving model: 0.5211267605633803 0.6666666666666666 0.6666666666666666\n"
     ]
    },
    {
     "name": "stderr",
     "output_type": "stream",
     "text": [
      "\r",
      "Epoch:  30%|██████████▊                         | 6/20 [12:44<30:02, 128.72s/it]"
     ]
    },
    {
     "name": "stdout",
     "output_type": "stream",
     "text": [
      "precision: 0.69 | recall 0.971830985915493 | f1_score 0.8070175438596492\n",
      "Train f1 0.8070175438596492\n",
      "\n"
     ]
    },
    {
     "name": "stderr",
     "output_type": "stream",
     "text": [
      "100%|███████████████████████████████████████████| 80/80 [01:39<00:00,  1.25s/it]\n"
     ]
    },
    {
     "name": "stdout",
     "output_type": "stream",
     "text": [
      "Average train loss: 0.02727573043976008\n",
      "Validation loss: 0.1761913458215228\n",
      "val on val\n",
      "precision: 0.5 | recall 1.0 | f1_score 0.6666666666666666\n",
      "val on holdout\n",
      "precision: 0.37 | recall 0.925 | f1_score 0.5285714285714286\n",
      "saving model: 0.5285714285714286 0.6666666666666666 0.6666666666666666\n"
     ]
    },
    {
     "name": "stderr",
     "output_type": "stream",
     "text": [
      "\r",
      "Epoch:  35%|████████████▌                       | 7/20 [14:45<27:20, 126.18s/it]"
     ]
    },
    {
     "name": "stdout",
     "output_type": "stream",
     "text": [
      "precision: 0.7142857142857143 | recall 0.9722222222222222 | f1_score 0.8235294117647058\n",
      "Train f1 0.8235294117647058\n",
      "\n"
     ]
    },
    {
     "name": "stderr",
     "output_type": "stream",
     "text": [
      "100%|███████████████████████████████████████████| 80/80 [01:39<00:00,  1.24s/it]\n"
     ]
    },
    {
     "name": "stdout",
     "output_type": "stream",
     "text": [
      "Average train loss: 0.022179130338918183\n",
      "Validation loss: 0.1422317713770705\n",
      "val on val\n",
      "precision: 0.5 | recall 1.0 | f1_score 0.6666666666666666\n",
      "val on holdout\n",
      "precision: 0.31896551724137934 | recall 0.9487179487179487 | f1_score 0.47741935483870973\n",
      "saving model: 0.47741935483870973 0.6666666666666666 0.6666666666666666\n"
     ]
    },
    {
     "name": "stderr",
     "output_type": "stream",
     "text": [
      "\r",
      "Epoch:  40%|██████████████▍                     | 8/20 [16:46<24:53, 124.47s/it]"
     ]
    },
    {
     "name": "stdout",
     "output_type": "stream",
     "text": [
      "precision: 0.6666666666666666 | recall 0.9722222222222222 | f1_score 0.7909604519774012\n",
      "Train f1 0.7909604519774012\n",
      "\n"
     ]
    },
    {
     "name": "stderr",
     "output_type": "stream",
     "text": [
      "100%|███████████████████████████████████████████| 80/80 [01:41<00:00,  1.27s/it]\n"
     ]
    },
    {
     "name": "stdout",
     "output_type": "stream",
     "text": [
      "Average train loss: 0.01740581281328559\n",
      "Validation loss: 0.18656121977692236\n",
      "val on val\n",
      "precision: 0.5 | recall 1.0 | f1_score 0.6666666666666666\n",
      "val on holdout\n",
      "precision: 0.3394495412844037 | recall 0.9487179487179487 | f1_score 0.5\n",
      "saving model: 0.5 0.6666666666666666 0.6666666666666666\n"
     ]
    },
    {
     "name": "stderr",
     "output_type": "stream",
     "text": [
      "\r",
      "Epoch:  45%|████████████████▏                   | 9/20 [18:50<22:49, 124.47s/it]"
     ]
    },
    {
     "name": "stdout",
     "output_type": "stream",
     "text": [
      "precision: 0.6893203883495146 | recall 0.9726027397260274 | f1_score 0.8068181818181818\n",
      "Train f1 0.8068181818181818\n",
      "\n"
     ]
    },
    {
     "name": "stderr",
     "output_type": "stream",
     "text": [
      "100%|███████████████████████████████████████████| 80/80 [01:42<00:00,  1.28s/it]\n"
     ]
    },
    {
     "name": "stdout",
     "output_type": "stream",
     "text": [
      "Average train loss: 0.014178818261098059\n",
      "Validation loss: 0.15812852947589515\n",
      "val on val\n",
      "precision: 0.5 | recall 1.0 | f1_score 0.6666666666666666\n",
      "val on holdout\n",
      "precision: 0.3185840707964602 | recall 0.9230769230769231 | f1_score 0.4736842105263158\n",
      "saving model: 0.4736842105263158 0.6666666666666666 0.6666666666666666\n"
     ]
    },
    {
     "name": "stderr",
     "output_type": "stream",
     "text": [
      "\r",
      "Epoch:  50%|█████████████████▌                 | 10/20 [20:58<20:55, 125.53s/it]"
     ]
    },
    {
     "name": "stdout",
     "output_type": "stream",
     "text": [
      "precision: 0.6796116504854369 | recall 0.9722222222222222 | f1_score 0.8\n",
      "Train f1 0.8\n",
      "\n"
     ]
    },
    {
     "name": "stderr",
     "output_type": "stream",
     "text": [
      "100%|███████████████████████████████████████████| 80/80 [01:41<00:00,  1.26s/it]\n"
     ]
    },
    {
     "name": "stdout",
     "output_type": "stream",
     "text": [
      "Average train loss: 0.006255825162952533\n",
      "Validation loss: 0.1916019760998703\n",
      "val on val\n",
      "precision: 0.5 | recall 1.0 | f1_score 0.6666666666666666\n",
      "val on holdout\n",
      "precision: 0.31092436974789917 | recall 0.9487179487179487 | f1_score 0.46835443037974683\n",
      "saving model: 0.46835443037974683 0.6666666666666666 0.6666666666666666\n"
     ]
    },
    {
     "name": "stderr",
     "output_type": "stream",
     "text": [
      "\r",
      "Epoch:  55%|███████████████████▎               | 11/20 [23:01<18:41, 124.59s/it]"
     ]
    },
    {
     "name": "stdout",
     "output_type": "stream",
     "text": [
      "precision: 0.660377358490566 | recall 0.9722222222222222 | f1_score 0.7865168539325842\n",
      "Train f1 0.7865168539325842\n",
      "\n"
     ]
    },
    {
     "name": "stderr",
     "output_type": "stream",
     "text": [
      "100%|███████████████████████████████████████████| 80/80 [01:40<00:00,  1.25s/it]\n"
     ]
    },
    {
     "name": "stdout",
     "output_type": "stream",
     "text": [
      "Average train loss: 0.0009738019827636891\n",
      "Validation loss: 0.17337724138172536\n",
      "val on val\n",
      "precision: 0.47368421052631576 | recall 1.0 | f1_score 0.6428571428571429\n",
      "val on holdout\n"
     ]
    },
    {
     "name": "stderr",
     "output_type": "stream",
     "text": [
      "\r",
      "Epoch:  60%|█████████████████████              | 12/20 [24:52<16:04, 120.58s/it]"
     ]
    },
    {
     "name": "stdout",
     "output_type": "stream",
     "text": [
      "precision: 0.29508196721311475 | recall 0.9473684210526315 | f1_score 0.45\n",
      "\n"
     ]
    },
    {
     "name": "stderr",
     "output_type": "stream",
     "text": [
      "100%|███████████████████████████████████████████| 80/80 [01:38<00:00,  1.23s/it]\n"
     ]
    },
    {
     "name": "stdout",
     "output_type": "stream",
     "text": [
      "Average train loss: 0.009410615123124444\n",
      "Validation loss: 0.23267632916249567\n",
      "val on val\n",
      "precision: 0.5 | recall 1.0 | f1_score 0.6666666666666666\n",
      "val on holdout\n",
      "precision: 0.3135593220338983 | recall 0.9487179487179487 | f1_score 0.4713375796178344\n",
      "saving model: 0.4713375796178344 0.6666666666666666 0.6666666666666666\n"
     ]
    },
    {
     "name": "stderr",
     "output_type": "stream",
     "text": [
      "\r",
      "Epoch:  65%|██████████████████████▊            | 13/20 [26:53<14:03, 120.54s/it]"
     ]
    },
    {
     "name": "stdout",
     "output_type": "stream",
     "text": [
      "precision: 0.6601941747572816 | recall 0.9714285714285714 | f1_score 0.7861271676300579\n",
      "Train f1 0.7861271676300579\n",
      "\n"
     ]
    },
    {
     "name": "stderr",
     "output_type": "stream",
     "text": [
      "100%|███████████████████████████████████████████| 80/80 [01:37<00:00,  1.22s/it]\n"
     ]
    },
    {
     "name": "stdout",
     "output_type": "stream",
     "text": [
      "Average train loss: 0.003977217415376799\n",
      "Validation loss: 0.2390364848038492\n",
      "val on val\n",
      "precision: 0.5 | recall 1.0 | f1_score 0.6666666666666666\n",
      "val on holdout\n",
      "precision: 0.3135593220338983 | recall 0.9487179487179487 | f1_score 0.4713375796178344\n",
      "saving model: 0.4713375796178344 0.6666666666666666 0.6666666666666666\n"
     ]
    },
    {
     "name": "stderr",
     "output_type": "stream",
     "text": [
      "\r",
      "Epoch:  70%|████████████████████████▌          | 14/20 [28:52<12:01, 120.27s/it]"
     ]
    },
    {
     "name": "stdout",
     "output_type": "stream",
     "text": [
      "precision: 0.6538461538461539 | recall 0.9714285714285714 | f1_score 0.7816091954022988\n",
      "Train f1 0.7816091954022988\n",
      "\n"
     ]
    },
    {
     "name": "stderr",
     "output_type": "stream",
     "text": [
      "100%|███████████████████████████████████████████| 80/80 [01:40<00:00,  1.25s/it]\n"
     ]
    },
    {
     "name": "stdout",
     "output_type": "stream",
     "text": [
      "Average train loss: 0.0005255963004856312\n",
      "Validation loss: 0.23061925681467982\n",
      "val on val\n",
      "precision: 0.5 | recall 1.0 | f1_score 0.6666666666666666\n",
      "val on holdout\n",
      "precision: 0.30327868852459017 | recall 0.9487179487179487 | f1_score 0.45962732919254656\n",
      "saving model: 0.45962732919254656 0.6666666666666666 0.6666666666666666\n"
     ]
    },
    {
     "name": "stderr",
     "output_type": "stream",
     "text": [
      "\r",
      "Epoch:  75%|██████████████████████████▎        | 15/20 [30:55<10:05, 121.13s/it]"
     ]
    },
    {
     "name": "stdout",
     "output_type": "stream",
     "text": [
      "precision: 0.6509433962264151 | recall 0.971830985915493 | f1_score 0.7796610169491526\n",
      "Train f1 0.7796610169491526\n",
      "\n"
     ]
    },
    {
     "name": "stderr",
     "output_type": "stream",
     "text": [
      "100%|███████████████████████████████████████████| 80/80 [01:36<00:00,  1.21s/it]\n"
     ]
    },
    {
     "name": "stdout",
     "output_type": "stream",
     "text": [
      "Average train loss: 0.005995989197162999\n",
      "Validation loss: 0.23834746289843073\n",
      "val on val\n",
      "precision: 0.5 | recall 1.0 | f1_score 0.6666666666666666\n",
      "val on holdout\n",
      "precision: 0.3135593220338983 | recall 0.9487179487179487 | f1_score 0.4713375796178344\n",
      "saving model: 0.4713375796178344 0.6666666666666666 0.6666666666666666\n"
     ]
    },
    {
     "name": "stderr",
     "output_type": "stream",
     "text": [
      "\r",
      "Epoch:  80%|████████████████████████████       | 16/20 [32:54<08:01, 120.40s/it]"
     ]
    },
    {
     "name": "stdout",
     "output_type": "stream",
     "text": [
      "precision: 0.6699029126213593 | recall 0.971830985915493 | f1_score 0.793103448275862\n",
      "Train f1 0.793103448275862\n",
      "\n"
     ]
    },
    {
     "name": "stderr",
     "output_type": "stream",
     "text": [
      "100%|███████████████████████████████████████████| 80/80 [01:37<00:00,  1.22s/it]\n"
     ]
    },
    {
     "name": "stdout",
     "output_type": "stream",
     "text": [
      "Average train loss: 0.010961201936061116\n",
      "Validation loss: 0.23949597134948514\n",
      "val on val\n",
      "precision: 0.5 | recall 1.0 | f1_score 0.6666666666666666\n",
      "val on holdout\n",
      "precision: 0.3162393162393162 | recall 0.9487179487179487 | f1_score 0.47435897435897434\n",
      "saving model: 0.47435897435897434 0.6666666666666666 0.6666666666666666\n"
     ]
    },
    {
     "name": "stderr",
     "output_type": "stream",
     "text": [
      "\r",
      "Epoch:  85%|█████████████████████████████▊     | 17/20 [34:54<06:00, 120.31s/it]"
     ]
    },
    {
     "name": "stdout",
     "output_type": "stream",
     "text": [
      "precision: 0.6601941747572816 | recall 0.9714285714285714 | f1_score 0.7861271676300579\n",
      "Train f1 0.7861271676300579\n",
      "\n"
     ]
    },
    {
     "name": "stderr",
     "output_type": "stream",
     "text": [
      "100%|███████████████████████████████████████████| 80/80 [01:42<00:00,  1.29s/it]\n"
     ]
    },
    {
     "name": "stdout",
     "output_type": "stream",
     "text": [
      "Average train loss: 0.0069971776879356185\n",
      "Validation loss: 0.24058005456754472\n",
      "val on val\n",
      "precision: 0.5 | recall 1.0 | f1_score 0.6666666666666666\n",
      "val on holdout\n",
      "precision: 0.30833333333333335 | recall 0.9487179487179487 | f1_score 0.46540880503144655\n",
      "saving model: 0.46540880503144655 0.6666666666666666 0.6666666666666666\n"
     ]
    },
    {
     "name": "stderr",
     "output_type": "stream",
     "text": [
      "\r",
      "Epoch:  90%|███████████████████████████████▌   | 18/20 [37:01<04:04, 122.34s/it]"
     ]
    },
    {
     "name": "stdout",
     "output_type": "stream",
     "text": [
      "precision: 0.6476190476190476 | recall 0.9714285714285714 | f1_score 0.7771428571428572\n",
      "Train f1 0.7771428571428572\n",
      "\n"
     ]
    },
    {
     "name": "stderr",
     "output_type": "stream",
     "text": [
      "100%|███████████████████████████████████████████| 80/80 [01:49<00:00,  1.37s/it]\n"
     ]
    },
    {
     "name": "stdout",
     "output_type": "stream",
     "text": [
      "Average train loss: 0.0003849779498523276\n",
      "Validation loss: 0.23902942387697598\n",
      "val on val\n",
      "precision: 0.5 | recall 1.0 | f1_score 0.6666666666666666\n",
      "val on holdout\n",
      "precision: 0.30833333333333335 | recall 0.9487179487179487 | f1_score 0.46540880503144655\n",
      "saving model: 0.46540880503144655 0.6666666666666666 0.6666666666666666\n"
     ]
    },
    {
     "name": "stderr",
     "output_type": "stream",
     "text": [
      "\r",
      "Epoch:  95%|█████████████████████████████████▎ | 19/20 [39:17<02:06, 126.45s/it]"
     ]
    },
    {
     "name": "stdout",
     "output_type": "stream",
     "text": [
      "precision: 0.6415094339622641 | recall 0.9714285714285714 | f1_score 0.7727272727272727\n",
      "Train f1 0.7727272727272727\n",
      "\n"
     ]
    },
    {
     "name": "stderr",
     "output_type": "stream",
     "text": [
      "100%|███████████████████████████████████████████| 80/80 [01:50<00:00,  1.38s/it]\n"
     ]
    },
    {
     "name": "stdout",
     "output_type": "stream",
     "text": [
      "Average train loss: 0.002769723329674889\n",
      "Validation loss: 0.2385231912014812\n",
      "val on val\n",
      "precision: 0.5 | recall 1.0 | f1_score 0.6666666666666666\n",
      "val on holdout\n",
      "precision: 0.30833333333333335 | recall 0.9487179487179487 | f1_score 0.46540880503144655\n",
      "saving model: 0.46540880503144655 0.6666666666666666 0.6666666666666666\n"
     ]
    },
    {
     "name": "stderr",
     "output_type": "stream",
     "text": [
      "Epoch: 100%|███████████████████████████████████| 20/20 [41:34<00:00, 124.72s/it]"
     ]
    },
    {
     "name": "stdout",
     "output_type": "stream",
     "text": [
      "precision: 0.6415094339622641 | recall 0.9714285714285714 | f1_score 0.7727272727272727\n",
      "Train f1 0.7727272727272727\n",
      "\n"
     ]
    },
    {
     "name": "stderr",
     "output_type": "stream",
     "text": [
      "\n"
     ]
    }
   ],
   "source": [
    "## Store the average loss after each epoch so we can plot them.\n",
    "loss_values, validation_loss_values = [], []\n",
    "\n",
    "max_f1 = 0\n",
    "\n",
    "for _ in trange(epochs, desc=\"Epoch\"):\n",
    "    # ========================================\n",
    "    #               Training\n",
    "    # ========================================\n",
    "    # Perform one full pass over the training set.\n",
    "\n",
    "    # Put the model into training mode.\n",
    "    model.train()\n",
    "    # Reset the total loss for this epoch.\n",
    "    total_loss = 0\n",
    "\n",
    "    # Training loop\n",
    "    for step, batch in enumerate(tqdm(train_dataloader, total = len(train_dataloader), position=0, leave=True)):\n",
    "        # add batch to gpu\n",
    "        batch = tuple(t.to(device) for t in batch)\n",
    "        b_input_ids, b_input_mask, b_labels = batch\n",
    "        # Always clear any previously calculated gradients before performing a backward pass.\n",
    "        model.zero_grad()\n",
    "        # forward pass\n",
    "        # This will return the loss (rather than the model output)\n",
    "        # because we have provided the `labels`.\n",
    "        outputs = model(b_input_ids, token_type_ids=None,\n",
    "                        attention_mask=b_input_mask, labels=b_labels)\n",
    "        # get the loss\n",
    "        loss = outputs[0]\n",
    "        # Perform a backward pass to calculate the gradients.\n",
    "        loss.backward()\n",
    "        # track train loss\n",
    "        total_loss += loss.item()\n",
    "        # Clip the norm of the gradient\n",
    "        # This is to help prevent the \"exploding gradients\" problem.\n",
    "        torch.nn.utils.clip_grad_norm_(parameters=model.parameters(), max_norm=max_grad_norm)\n",
    "        # update parameters\n",
    "        optimizer.step()\n",
    "        # Update the learning rate.\n",
    "        scheduler.step()\n",
    "\n",
    "    # Calculate the average loss over the training data.\n",
    "    avg_train_loss = total_loss / len(train_dataloader)\n",
    "    print(\"Average train loss: {}\".format(avg_train_loss))\n",
    "\n",
    "    # Store the loss value for plotting the learning curve.\n",
    "    loss_values.append(avg_train_loss)\n",
    "\n",
    "\n",
    "    # ========================================\n",
    "    #               Validation\n",
    "    # ========================================\n",
    "    # After the completion of each training epoch, measure our performance on\n",
    "    # our validation set.\n",
    "\n",
    "    # Put the model into evaluation mode\n",
    "    model.eval()\n",
    "    # Reset the validation loss for this epoch.\n",
    "    eval_loss, eval_accuracy = 0, 0\n",
    "    nb_eval_steps, nb_eval_examples = 0, 0\n",
    "    predictions , true_labels = [], []\n",
    "    for batch in valid_dataloader:\n",
    "        batch = tuple(t.to(device) for t in batch)\n",
    "        b_input_ids, b_input_mask, b_labels = batch\n",
    "\n",
    "        # Telling the model not to compute or store gradients,\n",
    "        # saving memory and speeding up validation\n",
    "        with torch.no_grad():\n",
    "            # Forward pass, calculate logit predictions.\n",
    "            # This will return the logits rather than the loss because we have not provided labels.\n",
    "            outputs = model(b_input_ids, token_type_ids=None,\n",
    "                            attention_mask=b_input_mask, labels=b_labels)\n",
    "        # Move logits and labels to CPU\n",
    "        logits = outputs[1].detach().cpu().numpy()\n",
    "        label_ids = b_labels.to('cpu').numpy()\n",
    "\n",
    "        # Calculate the accuracy for this batch of test sentences.\n",
    "        eval_loss += outputs[0].mean().item()\n",
    "        predictions.extend([list(p) for p in np.argmax(logits, axis=2)])\n",
    "        true_labels.extend(label_ids)\n",
    "\n",
    "    eval_loss = eval_loss / len(valid_dataloader)\n",
    "    validation_loss_values.append(eval_loss)\n",
    "    print(\"Validation loss: {}\".format(eval_loss))\n",
    "    pred_tags = [tag_values[p_i] for p, l in zip(predictions, true_labels)\n",
    "                                 for p_i, l_i in zip(p, l) if tag_values[l_i] != \"PAD\"]\n",
    "    valid_tags = [tag_values[l_i] for l in true_labels\n",
    "                                  for l_i in l if tag_values[l_i] != \"PAD\"]\n",
    "    \n",
    "    print(\"val on val\")\n",
    "    f1_val = get_f1_score_on_test_data(model, val)\n",
    "    print(\"val on holdout\")\n",
    "    f1 = get_f1_score_on_test_data(model, holdout)\n",
    "    if (f1_val >= max_f1) & (f1_val > 0):\n",
    "\n",
    "        #f1 = get_f1_score_on_test_data(model, holdout)        \n",
    "        print(\"saving model:\", f1, f1_val,max_f1)\n",
    "        max_f1 = f1_val\n",
    "        holdout_f1 = f1\n",
    "        torch.save(model.state_dict(), MODEL_PATH)\n",
    "        f1_train = get_f1_score_on_test_data(model, train)\n",
    "        print(\"Train f1\", f1_train)\n",
    "        \n",
    "#     print(\"Validation Accuracy: {}\".format(accuracy_score(pred_tags, valid_tags)))\n",
    "#     print(\"Validation F1-Score: {}\".format(f1_score(pred_tags, valid_tags)))\n",
    "    print()"
   ]
  },
  {
   "cell_type": "markdown",
   "id": "cd1e5b4e",
   "metadata": {},
   "source": [
    "### Evauation"
   ]
  },
  {
   "cell_type": "code",
   "execution_count": 40,
   "id": "a177f718",
   "metadata": {},
   "outputs": [
    {
     "data": {
      "text/plain": [
       "0.46540880503144655"
      ]
     },
     "execution_count": 40,
     "metadata": {},
     "output_type": "execute_result"
    }
   ],
   "source": [
    "holdout_f1"
   ]
  },
  {
   "cell_type": "code",
   "execution_count": 41,
   "id": "4cbae17b",
   "metadata": {},
   "outputs": [
    {
     "name": "stdout",
     "output_type": "stream",
     "text": [
      "precision: 0.6415094339622641 | recall 0.9714285714285714 | f1_score 0.7727272727272727\n"
     ]
    },
    {
     "data": {
      "text/plain": [
       "0.7727272727272727"
      ]
     },
     "execution_count": 41,
     "metadata": {},
     "output_type": "execute_result"
    }
   ],
   "source": [
    "get_f1_score_on_test_data(model, train)"
   ]
  },
  {
   "cell_type": "code",
   "execution_count": 42,
   "id": "426f5682",
   "metadata": {
    "scrolled": true
   },
   "outputs": [
    {
     "name": "stdout",
     "output_type": "stream",
     "text": [
      "precision: 0.30833333333333335 | recall 0.9487179487179487 | f1_score 0.46540880503144655\n"
     ]
    },
    {
     "data": {
      "text/plain": [
       "0.46540880503144655"
      ]
     },
     "execution_count": 42,
     "metadata": {},
     "output_type": "execute_result"
    }
   ],
   "source": [
    "get_f1_score_on_test_data(model, holdout)"
   ]
  },
  {
   "cell_type": "code",
   "execution_count": 45,
   "id": "c6627df2",
   "metadata": {},
   "outputs": [],
   "source": [
    "# MODEL_PATH = \"test_local_model\""
   ]
  },
  {
   "cell_type": "code",
   "execution_count": 46,
   "id": "ab5392af",
   "metadata": {
    "scrolled": true
   },
   "outputs": [
    {
     "name": "stderr",
     "output_type": "stream",
     "text": [
      "Some weights of the model checkpoint at bert-base-uncased were not used when initializing BertForTokenClassification: ['cls.predictions.transform.LayerNorm.weight', 'cls.predictions.transform.dense.bias', 'cls.predictions.decoder.weight', 'cls.seq_relationship.bias', 'cls.predictions.bias', 'cls.predictions.transform.LayerNorm.bias', 'cls.predictions.transform.dense.weight', 'cls.seq_relationship.weight']\n",
      "- This IS expected if you are initializing BertForTokenClassification from the checkpoint of a model trained on another task or with another architecture (e.g. initializing a BertForSequenceClassification model from a BertForPreTraining model).\n",
      "- This IS NOT expected if you are initializing BertForTokenClassification from the checkpoint of a model that you expect to be exactly identical (initializing a BertForSequenceClassification model from a BertForSequenceClassification model).\n",
      "Some weights of BertForTokenClassification were not initialized from the model checkpoint at bert-base-uncased and are newly initialized: ['classifier.weight', 'classifier.bias']\n",
      "You should probably TRAIN this model on a down-stream task to be able to use it for predictions and inference.\n"
     ]
    },
    {
     "data": {
      "text/plain": [
       "<All keys matched successfully>"
      ]
     },
     "execution_count": 46,
     "metadata": {},
     "output_type": "execute_result"
    }
   ],
   "source": [
    "model = BertForTokenClassification.from_pretrained(\n",
    "    \"bert-base-uncased\",\n",
    "    num_labels=len(tag2idx),\n",
    "    output_attentions = False,\n",
    "    output_hidden_states = False\n",
    ")\n",
    "model.load_state_dict(torch.load(MODEL_PATH))\n",
    "\n",
    "#model.to(device)"
   ]
  },
  {
   "cell_type": "code",
   "execution_count": 47,
   "id": "c8432ce5",
   "metadata": {},
   "outputs": [],
   "source": [
    "tokenizer = BertTokenizer.from_pretrained('bert-base-uncased', do_lower_case=True)"
   ]
  },
  {
   "cell_type": "code",
   "execution_count": 48,
   "id": "1a7ce315",
   "metadata": {},
   "outputs": [
    {
     "name": "stdout",
     "output_type": "stream",
     "text": [
      "precision: 0.30833333333333335 | recall 0.9487179487179487 | f1_score 0.46540880503144655\n"
     ]
    },
    {
     "data": {
      "text/plain": [
       "0.46540880503144655"
      ]
     },
     "execution_count": 48,
     "metadata": {},
     "output_type": "execute_result"
    }
   ],
   "source": [
    "get_f1_score_on_test_data(model, holdout)"
   ]
  }
 ],
 "metadata": {
  "kernelspec": {
   "display_name": "Python 3 (ipykernel)",
   "language": "python",
   "name": "python3"
  },
  "language_info": {
   "codemirror_mode": {
    "name": "ipython",
    "version": 3
   },
   "file_extension": ".py",
   "mimetype": "text/x-python",
   "name": "python",
   "nbconvert_exporter": "python",
   "pygments_lexer": "ipython3",
   "version": "3.7.11"
  }
 },
 "nbformat": 4,
 "nbformat_minor": 5
}
