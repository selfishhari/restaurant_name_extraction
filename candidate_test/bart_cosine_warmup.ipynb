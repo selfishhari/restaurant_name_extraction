{
  "nbformat": 4,
  "nbformat_minor": 0,
  "metadata": {
    "accelerator": "GPU",
    "colab": {
      "name": "bart_cosine_warmup.ipynb",
      "provenance": []
    },
    "kernelspec": {
      "display_name": "Python 3",
      "name": "python3"
    },
    "language_info": {
      "name": "python"
    },
    "widgets": {
      "application/vnd.jupyter.widget-state+json": {
        "b2a5172490ff4665ac6d64c8f66f5007": {
          "model_module": "@jupyter-widgets/controls",
          "model_name": "HBoxModel",
          "model_module_version": "1.5.0",
          "state": {
            "_view_name": "HBoxView",
            "_dom_classes": [],
            "_model_name": "HBoxModel",
            "_view_module": "@jupyter-widgets/controls",
            "_model_module_version": "1.5.0",
            "_view_count": null,
            "_view_module_version": "1.5.0",
            "box_style": "",
            "layout": "IPY_MODEL_67fa695fedc64dd0ba4f235242ada6a5",
            "_model_module": "@jupyter-widgets/controls",
            "children": [
              "IPY_MODEL_f78e43f498fc454b8b2d27c76235ab15",
              "IPY_MODEL_e4356dcf9b564c279b03087dc0350754",
              "IPY_MODEL_f1e40be66e2c4e72990313f5ae7a95d6"
            ]
          }
        },
        "67fa695fedc64dd0ba4f235242ada6a5": {
          "model_module": "@jupyter-widgets/base",
          "model_name": "LayoutModel",
          "model_module_version": "1.2.0",
          "state": {
            "_view_name": "LayoutView",
            "grid_template_rows": null,
            "right": null,
            "justify_content": null,
            "_view_module": "@jupyter-widgets/base",
            "overflow": null,
            "_model_module_version": "1.2.0",
            "_view_count": null,
            "flex_flow": null,
            "width": null,
            "min_width": null,
            "border": null,
            "align_items": null,
            "bottom": null,
            "_model_module": "@jupyter-widgets/base",
            "top": null,
            "grid_column": null,
            "overflow_y": null,
            "overflow_x": null,
            "grid_auto_flow": null,
            "grid_area": null,
            "grid_template_columns": null,
            "flex": null,
            "_model_name": "LayoutModel",
            "justify_items": null,
            "grid_row": null,
            "max_height": null,
            "align_content": null,
            "visibility": null,
            "align_self": null,
            "height": null,
            "min_height": null,
            "padding": null,
            "grid_auto_rows": null,
            "grid_gap": null,
            "max_width": null,
            "order": null,
            "_view_module_version": "1.2.0",
            "grid_template_areas": null,
            "object_position": null,
            "object_fit": null,
            "grid_auto_columns": null,
            "margin": null,
            "display": null,
            "left": null
          }
        },
        "f78e43f498fc454b8b2d27c76235ab15": {
          "model_module": "@jupyter-widgets/controls",
          "model_name": "HTMLModel",
          "model_module_version": "1.5.0",
          "state": {
            "_view_name": "HTMLView",
            "style": "IPY_MODEL_bdacd1e39d5c4c50992e0862e9b524f4",
            "_dom_classes": [],
            "description": "",
            "_model_name": "HTMLModel",
            "placeholder": "​",
            "_view_module": "@jupyter-widgets/controls",
            "_model_module_version": "1.5.0",
            "value": "Downloading: 100%",
            "_view_count": null,
            "_view_module_version": "1.5.0",
            "description_tooltip": null,
            "_model_module": "@jupyter-widgets/controls",
            "layout": "IPY_MODEL_ce6f7693e9cb495cb4aa9d738726acd5"
          }
        },
        "e4356dcf9b564c279b03087dc0350754": {
          "model_module": "@jupyter-widgets/controls",
          "model_name": "FloatProgressModel",
          "model_module_version": "1.5.0",
          "state": {
            "_view_name": "ProgressView",
            "style": "IPY_MODEL_0db7abcc965a401bbf0171474a436c87",
            "_dom_classes": [],
            "description": "",
            "_model_name": "FloatProgressModel",
            "bar_style": "success",
            "max": 898823,
            "_view_module": "@jupyter-widgets/controls",
            "_model_module_version": "1.5.0",
            "value": 898823,
            "_view_count": null,
            "_view_module_version": "1.5.0",
            "orientation": "horizontal",
            "min": 0,
            "description_tooltip": null,
            "_model_module": "@jupyter-widgets/controls",
            "layout": "IPY_MODEL_55b2a27a3f3048ba9ed6852be321bdc5"
          }
        },
        "f1e40be66e2c4e72990313f5ae7a95d6": {
          "model_module": "@jupyter-widgets/controls",
          "model_name": "HTMLModel",
          "model_module_version": "1.5.0",
          "state": {
            "_view_name": "HTMLView",
            "style": "IPY_MODEL_8c386ca17ad04ea1ad689418e0753c97",
            "_dom_classes": [],
            "description": "",
            "_model_name": "HTMLModel",
            "placeholder": "​",
            "_view_module": "@jupyter-widgets/controls",
            "_model_module_version": "1.5.0",
            "value": " 899k/899k [00:00&lt;00:00, 1.66MB/s]",
            "_view_count": null,
            "_view_module_version": "1.5.0",
            "description_tooltip": null,
            "_model_module": "@jupyter-widgets/controls",
            "layout": "IPY_MODEL_04efe90943d44231bfc32e942a14f357"
          }
        },
        "bdacd1e39d5c4c50992e0862e9b524f4": {
          "model_module": "@jupyter-widgets/controls",
          "model_name": "DescriptionStyleModel",
          "model_module_version": "1.5.0",
          "state": {
            "_view_name": "StyleView",
            "_model_name": "DescriptionStyleModel",
            "description_width": "",
            "_view_module": "@jupyter-widgets/base",
            "_model_module_version": "1.5.0",
            "_view_count": null,
            "_view_module_version": "1.2.0",
            "_model_module": "@jupyter-widgets/controls"
          }
        },
        "ce6f7693e9cb495cb4aa9d738726acd5": {
          "model_module": "@jupyter-widgets/base",
          "model_name": "LayoutModel",
          "model_module_version": "1.2.0",
          "state": {
            "_view_name": "LayoutView",
            "grid_template_rows": null,
            "right": null,
            "justify_content": null,
            "_view_module": "@jupyter-widgets/base",
            "overflow": null,
            "_model_module_version": "1.2.0",
            "_view_count": null,
            "flex_flow": null,
            "width": null,
            "min_width": null,
            "border": null,
            "align_items": null,
            "bottom": null,
            "_model_module": "@jupyter-widgets/base",
            "top": null,
            "grid_column": null,
            "overflow_y": null,
            "overflow_x": null,
            "grid_auto_flow": null,
            "grid_area": null,
            "grid_template_columns": null,
            "flex": null,
            "_model_name": "LayoutModel",
            "justify_items": null,
            "grid_row": null,
            "max_height": null,
            "align_content": null,
            "visibility": null,
            "align_self": null,
            "height": null,
            "min_height": null,
            "padding": null,
            "grid_auto_rows": null,
            "grid_gap": null,
            "max_width": null,
            "order": null,
            "_view_module_version": "1.2.0",
            "grid_template_areas": null,
            "object_position": null,
            "object_fit": null,
            "grid_auto_columns": null,
            "margin": null,
            "display": null,
            "left": null
          }
        },
        "0db7abcc965a401bbf0171474a436c87": {
          "model_module": "@jupyter-widgets/controls",
          "model_name": "ProgressStyleModel",
          "model_module_version": "1.5.0",
          "state": {
            "_view_name": "StyleView",
            "_model_name": "ProgressStyleModel",
            "description_width": "",
            "_view_module": "@jupyter-widgets/base",
            "_model_module_version": "1.5.0",
            "_view_count": null,
            "_view_module_version": "1.2.0",
            "bar_color": null,
            "_model_module": "@jupyter-widgets/controls"
          }
        },
        "55b2a27a3f3048ba9ed6852be321bdc5": {
          "model_module": "@jupyter-widgets/base",
          "model_name": "LayoutModel",
          "model_module_version": "1.2.0",
          "state": {
            "_view_name": "LayoutView",
            "grid_template_rows": null,
            "right": null,
            "justify_content": null,
            "_view_module": "@jupyter-widgets/base",
            "overflow": null,
            "_model_module_version": "1.2.0",
            "_view_count": null,
            "flex_flow": null,
            "width": null,
            "min_width": null,
            "border": null,
            "align_items": null,
            "bottom": null,
            "_model_module": "@jupyter-widgets/base",
            "top": null,
            "grid_column": null,
            "overflow_y": null,
            "overflow_x": null,
            "grid_auto_flow": null,
            "grid_area": null,
            "grid_template_columns": null,
            "flex": null,
            "_model_name": "LayoutModel",
            "justify_items": null,
            "grid_row": null,
            "max_height": null,
            "align_content": null,
            "visibility": null,
            "align_self": null,
            "height": null,
            "min_height": null,
            "padding": null,
            "grid_auto_rows": null,
            "grid_gap": null,
            "max_width": null,
            "order": null,
            "_view_module_version": "1.2.0",
            "grid_template_areas": null,
            "object_position": null,
            "object_fit": null,
            "grid_auto_columns": null,
            "margin": null,
            "display": null,
            "left": null
          }
        },
        "8c386ca17ad04ea1ad689418e0753c97": {
          "model_module": "@jupyter-widgets/controls",
          "model_name": "DescriptionStyleModel",
          "model_module_version": "1.5.0",
          "state": {
            "_view_name": "StyleView",
            "_model_name": "DescriptionStyleModel",
            "description_width": "",
            "_view_module": "@jupyter-widgets/base",
            "_model_module_version": "1.5.0",
            "_view_count": null,
            "_view_module_version": "1.2.0",
            "_model_module": "@jupyter-widgets/controls"
          }
        },
        "04efe90943d44231bfc32e942a14f357": {
          "model_module": "@jupyter-widgets/base",
          "model_name": "LayoutModel",
          "model_module_version": "1.2.0",
          "state": {
            "_view_name": "LayoutView",
            "grid_template_rows": null,
            "right": null,
            "justify_content": null,
            "_view_module": "@jupyter-widgets/base",
            "overflow": null,
            "_model_module_version": "1.2.0",
            "_view_count": null,
            "flex_flow": null,
            "width": null,
            "min_width": null,
            "border": null,
            "align_items": null,
            "bottom": null,
            "_model_module": "@jupyter-widgets/base",
            "top": null,
            "grid_column": null,
            "overflow_y": null,
            "overflow_x": null,
            "grid_auto_flow": null,
            "grid_area": null,
            "grid_template_columns": null,
            "flex": null,
            "_model_name": "LayoutModel",
            "justify_items": null,
            "grid_row": null,
            "max_height": null,
            "align_content": null,
            "visibility": null,
            "align_self": null,
            "height": null,
            "min_height": null,
            "padding": null,
            "grid_auto_rows": null,
            "grid_gap": null,
            "max_width": null,
            "order": null,
            "_view_module_version": "1.2.0",
            "grid_template_areas": null,
            "object_position": null,
            "object_fit": null,
            "grid_auto_columns": null,
            "margin": null,
            "display": null,
            "left": null
          }
        },
        "4d49ba9cda6442278456338b804f36f7": {
          "model_module": "@jupyter-widgets/controls",
          "model_name": "HBoxModel",
          "model_module_version": "1.5.0",
          "state": {
            "_view_name": "HBoxView",
            "_dom_classes": [],
            "_model_name": "HBoxModel",
            "_view_module": "@jupyter-widgets/controls",
            "_model_module_version": "1.5.0",
            "_view_count": null,
            "_view_module_version": "1.5.0",
            "box_style": "",
            "layout": "IPY_MODEL_85e43c420ef847f69b1ac1fcea86dbca",
            "_model_module": "@jupyter-widgets/controls",
            "children": [
              "IPY_MODEL_787e82a97e6944ae84ae5a23c8b4b20b",
              "IPY_MODEL_09dc73c4b7674e6dbbe965baa2eaea76",
              "IPY_MODEL_3147214f24ce4a47a023805b7c655a7e"
            ]
          }
        },
        "85e43c420ef847f69b1ac1fcea86dbca": {
          "model_module": "@jupyter-widgets/base",
          "model_name": "LayoutModel",
          "model_module_version": "1.2.0",
          "state": {
            "_view_name": "LayoutView",
            "grid_template_rows": null,
            "right": null,
            "justify_content": null,
            "_view_module": "@jupyter-widgets/base",
            "overflow": null,
            "_model_module_version": "1.2.0",
            "_view_count": null,
            "flex_flow": null,
            "width": null,
            "min_width": null,
            "border": null,
            "align_items": null,
            "bottom": null,
            "_model_module": "@jupyter-widgets/base",
            "top": null,
            "grid_column": null,
            "overflow_y": null,
            "overflow_x": null,
            "grid_auto_flow": null,
            "grid_area": null,
            "grid_template_columns": null,
            "flex": null,
            "_model_name": "LayoutModel",
            "justify_items": null,
            "grid_row": null,
            "max_height": null,
            "align_content": null,
            "visibility": null,
            "align_self": null,
            "height": null,
            "min_height": null,
            "padding": null,
            "grid_auto_rows": null,
            "grid_gap": null,
            "max_width": null,
            "order": null,
            "_view_module_version": "1.2.0",
            "grid_template_areas": null,
            "object_position": null,
            "object_fit": null,
            "grid_auto_columns": null,
            "margin": null,
            "display": null,
            "left": null
          }
        },
        "787e82a97e6944ae84ae5a23c8b4b20b": {
          "model_module": "@jupyter-widgets/controls",
          "model_name": "HTMLModel",
          "model_module_version": "1.5.0",
          "state": {
            "_view_name": "HTMLView",
            "style": "IPY_MODEL_ad845a0980374c1f9ff360446c31c5a5",
            "_dom_classes": [],
            "description": "",
            "_model_name": "HTMLModel",
            "placeholder": "​",
            "_view_module": "@jupyter-widgets/controls",
            "_model_module_version": "1.5.0",
            "value": "Downloading: 100%",
            "_view_count": null,
            "_view_module_version": "1.5.0",
            "description_tooltip": null,
            "_model_module": "@jupyter-widgets/controls",
            "layout": "IPY_MODEL_d71d3d9a16084bfea82da190a3b65c59"
          }
        },
        "09dc73c4b7674e6dbbe965baa2eaea76": {
          "model_module": "@jupyter-widgets/controls",
          "model_name": "FloatProgressModel",
          "model_module_version": "1.5.0",
          "state": {
            "_view_name": "ProgressView",
            "style": "IPY_MODEL_6c3becf1801549e1aa1a248e914b7a32",
            "_dom_classes": [],
            "description": "",
            "_model_name": "FloatProgressModel",
            "bar_style": "success",
            "max": 456318,
            "_view_module": "@jupyter-widgets/controls",
            "_model_module_version": "1.5.0",
            "value": 456318,
            "_view_count": null,
            "_view_module_version": "1.5.0",
            "orientation": "horizontal",
            "min": 0,
            "description_tooltip": null,
            "_model_module": "@jupyter-widgets/controls",
            "layout": "IPY_MODEL_063bd0c35f964ee1803682513cf4012e"
          }
        },
        "3147214f24ce4a47a023805b7c655a7e": {
          "model_module": "@jupyter-widgets/controls",
          "model_name": "HTMLModel",
          "model_module_version": "1.5.0",
          "state": {
            "_view_name": "HTMLView",
            "style": "IPY_MODEL_cd42868e77604c51bb343d4202a531ac",
            "_dom_classes": [],
            "description": "",
            "_model_name": "HTMLModel",
            "placeholder": "​",
            "_view_module": "@jupyter-widgets/controls",
            "_model_module_version": "1.5.0",
            "value": " 456k/456k [00:00&lt;00:00, 871kB/s]",
            "_view_count": null,
            "_view_module_version": "1.5.0",
            "description_tooltip": null,
            "_model_module": "@jupyter-widgets/controls",
            "layout": "IPY_MODEL_4c38138e925a4f8aba0b7af9c6c0180e"
          }
        },
        "ad845a0980374c1f9ff360446c31c5a5": {
          "model_module": "@jupyter-widgets/controls",
          "model_name": "DescriptionStyleModel",
          "model_module_version": "1.5.0",
          "state": {
            "_view_name": "StyleView",
            "_model_name": "DescriptionStyleModel",
            "description_width": "",
            "_view_module": "@jupyter-widgets/base",
            "_model_module_version": "1.5.0",
            "_view_count": null,
            "_view_module_version": "1.2.0",
            "_model_module": "@jupyter-widgets/controls"
          }
        },
        "d71d3d9a16084bfea82da190a3b65c59": {
          "model_module": "@jupyter-widgets/base",
          "model_name": "LayoutModel",
          "model_module_version": "1.2.0",
          "state": {
            "_view_name": "LayoutView",
            "grid_template_rows": null,
            "right": null,
            "justify_content": null,
            "_view_module": "@jupyter-widgets/base",
            "overflow": null,
            "_model_module_version": "1.2.0",
            "_view_count": null,
            "flex_flow": null,
            "width": null,
            "min_width": null,
            "border": null,
            "align_items": null,
            "bottom": null,
            "_model_module": "@jupyter-widgets/base",
            "top": null,
            "grid_column": null,
            "overflow_y": null,
            "overflow_x": null,
            "grid_auto_flow": null,
            "grid_area": null,
            "grid_template_columns": null,
            "flex": null,
            "_model_name": "LayoutModel",
            "justify_items": null,
            "grid_row": null,
            "max_height": null,
            "align_content": null,
            "visibility": null,
            "align_self": null,
            "height": null,
            "min_height": null,
            "padding": null,
            "grid_auto_rows": null,
            "grid_gap": null,
            "max_width": null,
            "order": null,
            "_view_module_version": "1.2.0",
            "grid_template_areas": null,
            "object_position": null,
            "object_fit": null,
            "grid_auto_columns": null,
            "margin": null,
            "display": null,
            "left": null
          }
        },
        "6c3becf1801549e1aa1a248e914b7a32": {
          "model_module": "@jupyter-widgets/controls",
          "model_name": "ProgressStyleModel",
          "model_module_version": "1.5.0",
          "state": {
            "_view_name": "StyleView",
            "_model_name": "ProgressStyleModel",
            "description_width": "",
            "_view_module": "@jupyter-widgets/base",
            "_model_module_version": "1.5.0",
            "_view_count": null,
            "_view_module_version": "1.2.0",
            "bar_color": null,
            "_model_module": "@jupyter-widgets/controls"
          }
        },
        "063bd0c35f964ee1803682513cf4012e": {
          "model_module": "@jupyter-widgets/base",
          "model_name": "LayoutModel",
          "model_module_version": "1.2.0",
          "state": {
            "_view_name": "LayoutView",
            "grid_template_rows": null,
            "right": null,
            "justify_content": null,
            "_view_module": "@jupyter-widgets/base",
            "overflow": null,
            "_model_module_version": "1.2.0",
            "_view_count": null,
            "flex_flow": null,
            "width": null,
            "min_width": null,
            "border": null,
            "align_items": null,
            "bottom": null,
            "_model_module": "@jupyter-widgets/base",
            "top": null,
            "grid_column": null,
            "overflow_y": null,
            "overflow_x": null,
            "grid_auto_flow": null,
            "grid_area": null,
            "grid_template_columns": null,
            "flex": null,
            "_model_name": "LayoutModel",
            "justify_items": null,
            "grid_row": null,
            "max_height": null,
            "align_content": null,
            "visibility": null,
            "align_self": null,
            "height": null,
            "min_height": null,
            "padding": null,
            "grid_auto_rows": null,
            "grid_gap": null,
            "max_width": null,
            "order": null,
            "_view_module_version": "1.2.0",
            "grid_template_areas": null,
            "object_position": null,
            "object_fit": null,
            "grid_auto_columns": null,
            "margin": null,
            "display": null,
            "left": null
          }
        },
        "cd42868e77604c51bb343d4202a531ac": {
          "model_module": "@jupyter-widgets/controls",
          "model_name": "DescriptionStyleModel",
          "model_module_version": "1.5.0",
          "state": {
            "_view_name": "StyleView",
            "_model_name": "DescriptionStyleModel",
            "description_width": "",
            "_view_module": "@jupyter-widgets/base",
            "_model_module_version": "1.5.0",
            "_view_count": null,
            "_view_module_version": "1.2.0",
            "_model_module": "@jupyter-widgets/controls"
          }
        },
        "4c38138e925a4f8aba0b7af9c6c0180e": {
          "model_module": "@jupyter-widgets/base",
          "model_name": "LayoutModel",
          "model_module_version": "1.2.0",
          "state": {
            "_view_name": "LayoutView",
            "grid_template_rows": null,
            "right": null,
            "justify_content": null,
            "_view_module": "@jupyter-widgets/base",
            "overflow": null,
            "_model_module_version": "1.2.0",
            "_view_count": null,
            "flex_flow": null,
            "width": null,
            "min_width": null,
            "border": null,
            "align_items": null,
            "bottom": null,
            "_model_module": "@jupyter-widgets/base",
            "top": null,
            "grid_column": null,
            "overflow_y": null,
            "overflow_x": null,
            "grid_auto_flow": null,
            "grid_area": null,
            "grid_template_columns": null,
            "flex": null,
            "_model_name": "LayoutModel",
            "justify_items": null,
            "grid_row": null,
            "max_height": null,
            "align_content": null,
            "visibility": null,
            "align_self": null,
            "height": null,
            "min_height": null,
            "padding": null,
            "grid_auto_rows": null,
            "grid_gap": null,
            "max_width": null,
            "order": null,
            "_view_module_version": "1.2.0",
            "grid_template_areas": null,
            "object_position": null,
            "object_fit": null,
            "grid_auto_columns": null,
            "margin": null,
            "display": null,
            "left": null
          }
        },
        "956cb9d200ac491092c4c584640a005a": {
          "model_module": "@jupyter-widgets/controls",
          "model_name": "HBoxModel",
          "model_module_version": "1.5.0",
          "state": {
            "_view_name": "HBoxView",
            "_dom_classes": [],
            "_model_name": "HBoxModel",
            "_view_module": "@jupyter-widgets/controls",
            "_model_module_version": "1.5.0",
            "_view_count": null,
            "_view_module_version": "1.5.0",
            "box_style": "",
            "layout": "IPY_MODEL_4331863bffb64140ae6973727819fa9b",
            "_model_module": "@jupyter-widgets/controls",
            "children": [
              "IPY_MODEL_20b71d6d9b6142eca1637252d59ae4b7",
              "IPY_MODEL_9cb19297d6c14cf6a4d3bb0a1cb45cfe",
              "IPY_MODEL_6c6784cbfb194dc78be3b37a3a5e4079"
            ]
          }
        },
        "4331863bffb64140ae6973727819fa9b": {
          "model_module": "@jupyter-widgets/base",
          "model_name": "LayoutModel",
          "model_module_version": "1.2.0",
          "state": {
            "_view_name": "LayoutView",
            "grid_template_rows": null,
            "right": null,
            "justify_content": null,
            "_view_module": "@jupyter-widgets/base",
            "overflow": null,
            "_model_module_version": "1.2.0",
            "_view_count": null,
            "flex_flow": null,
            "width": null,
            "min_width": null,
            "border": null,
            "align_items": null,
            "bottom": null,
            "_model_module": "@jupyter-widgets/base",
            "top": null,
            "grid_column": null,
            "overflow_y": null,
            "overflow_x": null,
            "grid_auto_flow": null,
            "grid_area": null,
            "grid_template_columns": null,
            "flex": null,
            "_model_name": "LayoutModel",
            "justify_items": null,
            "grid_row": null,
            "max_height": null,
            "align_content": null,
            "visibility": null,
            "align_self": null,
            "height": null,
            "min_height": null,
            "padding": null,
            "grid_auto_rows": null,
            "grid_gap": null,
            "max_width": null,
            "order": null,
            "_view_module_version": "1.2.0",
            "grid_template_areas": null,
            "object_position": null,
            "object_fit": null,
            "grid_auto_columns": null,
            "margin": null,
            "display": null,
            "left": null
          }
        },
        "20b71d6d9b6142eca1637252d59ae4b7": {
          "model_module": "@jupyter-widgets/controls",
          "model_name": "HTMLModel",
          "model_module_version": "1.5.0",
          "state": {
            "_view_name": "HTMLView",
            "style": "IPY_MODEL_4fc5b40948a4434a8d84a0da84301856",
            "_dom_classes": [],
            "description": "",
            "_model_name": "HTMLModel",
            "placeholder": "​",
            "_view_module": "@jupyter-widgets/controls",
            "_model_module_version": "1.5.0",
            "value": "Downloading: 100%",
            "_view_count": null,
            "_view_module_version": "1.5.0",
            "description_tooltip": null,
            "_model_module": "@jupyter-widgets/controls",
            "layout": "IPY_MODEL_219c59e6896e4295b32ecb9c3f1b65cc"
          }
        },
        "9cb19297d6c14cf6a4d3bb0a1cb45cfe": {
          "model_module": "@jupyter-widgets/controls",
          "model_name": "FloatProgressModel",
          "model_module_version": "1.5.0",
          "state": {
            "_view_name": "ProgressView",
            "style": "IPY_MODEL_1d5add6cbfe04fc5988ce4a4a1465596",
            "_dom_classes": [],
            "description": "",
            "_model_name": "FloatProgressModel",
            "bar_style": "success",
            "max": 1355863,
            "_view_module": "@jupyter-widgets/controls",
            "_model_module_version": "1.5.0",
            "value": 1355863,
            "_view_count": null,
            "_view_module_version": "1.5.0",
            "orientation": "horizontal",
            "min": 0,
            "description_tooltip": null,
            "_model_module": "@jupyter-widgets/controls",
            "layout": "IPY_MODEL_c359134cf8e449bab70b58c8b84953f1"
          }
        },
        "6c6784cbfb194dc78be3b37a3a5e4079": {
          "model_module": "@jupyter-widgets/controls",
          "model_name": "HTMLModel",
          "model_module_version": "1.5.0",
          "state": {
            "_view_name": "HTMLView",
            "style": "IPY_MODEL_3493db4bf6ea49838cc3e0320219ed90",
            "_dom_classes": [],
            "description": "",
            "_model_name": "HTMLModel",
            "placeholder": "​",
            "_view_module": "@jupyter-widgets/controls",
            "_model_module_version": "1.5.0",
            "value": " 1.36M/1.36M [00:00&lt;00:00, 3.55MB/s]",
            "_view_count": null,
            "_view_module_version": "1.5.0",
            "description_tooltip": null,
            "_model_module": "@jupyter-widgets/controls",
            "layout": "IPY_MODEL_8807547f85c84ab18d6ee61326fc2460"
          }
        },
        "4fc5b40948a4434a8d84a0da84301856": {
          "model_module": "@jupyter-widgets/controls",
          "model_name": "DescriptionStyleModel",
          "model_module_version": "1.5.0",
          "state": {
            "_view_name": "StyleView",
            "_model_name": "DescriptionStyleModel",
            "description_width": "",
            "_view_module": "@jupyter-widgets/base",
            "_model_module_version": "1.5.0",
            "_view_count": null,
            "_view_module_version": "1.2.0",
            "_model_module": "@jupyter-widgets/controls"
          }
        },
        "219c59e6896e4295b32ecb9c3f1b65cc": {
          "model_module": "@jupyter-widgets/base",
          "model_name": "LayoutModel",
          "model_module_version": "1.2.0",
          "state": {
            "_view_name": "LayoutView",
            "grid_template_rows": null,
            "right": null,
            "justify_content": null,
            "_view_module": "@jupyter-widgets/base",
            "overflow": null,
            "_model_module_version": "1.2.0",
            "_view_count": null,
            "flex_flow": null,
            "width": null,
            "min_width": null,
            "border": null,
            "align_items": null,
            "bottom": null,
            "_model_module": "@jupyter-widgets/base",
            "top": null,
            "grid_column": null,
            "overflow_y": null,
            "overflow_x": null,
            "grid_auto_flow": null,
            "grid_area": null,
            "grid_template_columns": null,
            "flex": null,
            "_model_name": "LayoutModel",
            "justify_items": null,
            "grid_row": null,
            "max_height": null,
            "align_content": null,
            "visibility": null,
            "align_self": null,
            "height": null,
            "min_height": null,
            "padding": null,
            "grid_auto_rows": null,
            "grid_gap": null,
            "max_width": null,
            "order": null,
            "_view_module_version": "1.2.0",
            "grid_template_areas": null,
            "object_position": null,
            "object_fit": null,
            "grid_auto_columns": null,
            "margin": null,
            "display": null,
            "left": null
          }
        },
        "1d5add6cbfe04fc5988ce4a4a1465596": {
          "model_module": "@jupyter-widgets/controls",
          "model_name": "ProgressStyleModel",
          "model_module_version": "1.5.0",
          "state": {
            "_view_name": "StyleView",
            "_model_name": "ProgressStyleModel",
            "description_width": "",
            "_view_module": "@jupyter-widgets/base",
            "_model_module_version": "1.5.0",
            "_view_count": null,
            "_view_module_version": "1.2.0",
            "bar_color": null,
            "_model_module": "@jupyter-widgets/controls"
          }
        },
        "c359134cf8e449bab70b58c8b84953f1": {
          "model_module": "@jupyter-widgets/base",
          "model_name": "LayoutModel",
          "model_module_version": "1.2.0",
          "state": {
            "_view_name": "LayoutView",
            "grid_template_rows": null,
            "right": null,
            "justify_content": null,
            "_view_module": "@jupyter-widgets/base",
            "overflow": null,
            "_model_module_version": "1.2.0",
            "_view_count": null,
            "flex_flow": null,
            "width": null,
            "min_width": null,
            "border": null,
            "align_items": null,
            "bottom": null,
            "_model_module": "@jupyter-widgets/base",
            "top": null,
            "grid_column": null,
            "overflow_y": null,
            "overflow_x": null,
            "grid_auto_flow": null,
            "grid_area": null,
            "grid_template_columns": null,
            "flex": null,
            "_model_name": "LayoutModel",
            "justify_items": null,
            "grid_row": null,
            "max_height": null,
            "align_content": null,
            "visibility": null,
            "align_self": null,
            "height": null,
            "min_height": null,
            "padding": null,
            "grid_auto_rows": null,
            "grid_gap": null,
            "max_width": null,
            "order": null,
            "_view_module_version": "1.2.0",
            "grid_template_areas": null,
            "object_position": null,
            "object_fit": null,
            "grid_auto_columns": null,
            "margin": null,
            "display": null,
            "left": null
          }
        },
        "3493db4bf6ea49838cc3e0320219ed90": {
          "model_module": "@jupyter-widgets/controls",
          "model_name": "DescriptionStyleModel",
          "model_module_version": "1.5.0",
          "state": {
            "_view_name": "StyleView",
            "_model_name": "DescriptionStyleModel",
            "description_width": "",
            "_view_module": "@jupyter-widgets/base",
            "_model_module_version": "1.5.0",
            "_view_count": null,
            "_view_module_version": "1.2.0",
            "_model_module": "@jupyter-widgets/controls"
          }
        },
        "8807547f85c84ab18d6ee61326fc2460": {
          "model_module": "@jupyter-widgets/base",
          "model_name": "LayoutModel",
          "model_module_version": "1.2.0",
          "state": {
            "_view_name": "LayoutView",
            "grid_template_rows": null,
            "right": null,
            "justify_content": null,
            "_view_module": "@jupyter-widgets/base",
            "overflow": null,
            "_model_module_version": "1.2.0",
            "_view_count": null,
            "flex_flow": null,
            "width": null,
            "min_width": null,
            "border": null,
            "align_items": null,
            "bottom": null,
            "_model_module": "@jupyter-widgets/base",
            "top": null,
            "grid_column": null,
            "overflow_y": null,
            "overflow_x": null,
            "grid_auto_flow": null,
            "grid_area": null,
            "grid_template_columns": null,
            "flex": null,
            "_model_name": "LayoutModel",
            "justify_items": null,
            "grid_row": null,
            "max_height": null,
            "align_content": null,
            "visibility": null,
            "align_self": null,
            "height": null,
            "min_height": null,
            "padding": null,
            "grid_auto_rows": null,
            "grid_gap": null,
            "max_width": null,
            "order": null,
            "_view_module_version": "1.2.0",
            "grid_template_areas": null,
            "object_position": null,
            "object_fit": null,
            "grid_auto_columns": null,
            "margin": null,
            "display": null,
            "left": null
          }
        },
        "98798c99c40846d587f5e2f4c13ccaf5": {
          "model_module": "@jupyter-widgets/controls",
          "model_name": "HBoxModel",
          "model_module_version": "1.5.0",
          "state": {
            "_view_name": "HBoxView",
            "_dom_classes": [],
            "_model_name": "HBoxModel",
            "_view_module": "@jupyter-widgets/controls",
            "_model_module_version": "1.5.0",
            "_view_count": null,
            "_view_module_version": "1.5.0",
            "box_style": "",
            "layout": "IPY_MODEL_3ef17efb843b4e35b5e4b14874f17b8b",
            "_model_module": "@jupyter-widgets/controls",
            "children": [
              "IPY_MODEL_4789e26cf2e74ec2950a8e00f509a679",
              "IPY_MODEL_f5918dcb9c15439c8eedfb687419d1f2",
              "IPY_MODEL_a6379a11b14c470692bd0b1d4ed156ce"
            ]
          }
        },
        "3ef17efb843b4e35b5e4b14874f17b8b": {
          "model_module": "@jupyter-widgets/base",
          "model_name": "LayoutModel",
          "model_module_version": "1.2.0",
          "state": {
            "_view_name": "LayoutView",
            "grid_template_rows": null,
            "right": null,
            "justify_content": null,
            "_view_module": "@jupyter-widgets/base",
            "overflow": null,
            "_model_module_version": "1.2.0",
            "_view_count": null,
            "flex_flow": null,
            "width": null,
            "min_width": null,
            "border": null,
            "align_items": null,
            "bottom": null,
            "_model_module": "@jupyter-widgets/base",
            "top": null,
            "grid_column": null,
            "overflow_y": null,
            "overflow_x": null,
            "grid_auto_flow": null,
            "grid_area": null,
            "grid_template_columns": null,
            "flex": null,
            "_model_name": "LayoutModel",
            "justify_items": null,
            "grid_row": null,
            "max_height": null,
            "align_content": null,
            "visibility": null,
            "align_self": null,
            "height": null,
            "min_height": null,
            "padding": null,
            "grid_auto_rows": null,
            "grid_gap": null,
            "max_width": null,
            "order": null,
            "_view_module_version": "1.2.0",
            "grid_template_areas": null,
            "object_position": null,
            "object_fit": null,
            "grid_auto_columns": null,
            "margin": null,
            "display": null,
            "left": null
          }
        },
        "4789e26cf2e74ec2950a8e00f509a679": {
          "model_module": "@jupyter-widgets/controls",
          "model_name": "HTMLModel",
          "model_module_version": "1.5.0",
          "state": {
            "_view_name": "HTMLView",
            "style": "IPY_MODEL_e20bac5698924725883d645f1a044774",
            "_dom_classes": [],
            "description": "",
            "_model_name": "HTMLModel",
            "placeholder": "​",
            "_view_module": "@jupyter-widgets/controls",
            "_model_module_version": "1.5.0",
            "value": "Downloading: 100%",
            "_view_count": null,
            "_view_module_version": "1.5.0",
            "description_tooltip": null,
            "_model_module": "@jupyter-widgets/controls",
            "layout": "IPY_MODEL_c9842eae656847a3827135c01ac0ad87"
          }
        },
        "f5918dcb9c15439c8eedfb687419d1f2": {
          "model_module": "@jupyter-widgets/controls",
          "model_name": "FloatProgressModel",
          "model_module_version": "1.5.0",
          "state": {
            "_view_name": "ProgressView",
            "style": "IPY_MODEL_a0dd0965639542f7a59add8a733052e6",
            "_dom_classes": [],
            "description": "",
            "_model_name": "FloatProgressModel",
            "bar_style": "success",
            "max": 1627,
            "_view_module": "@jupyter-widgets/controls",
            "_model_module_version": "1.5.0",
            "value": 1627,
            "_view_count": null,
            "_view_module_version": "1.5.0",
            "orientation": "horizontal",
            "min": 0,
            "description_tooltip": null,
            "_model_module": "@jupyter-widgets/controls",
            "layout": "IPY_MODEL_40d9b12790c2472e97bc596e8d010b41"
          }
        },
        "a6379a11b14c470692bd0b1d4ed156ce": {
          "model_module": "@jupyter-widgets/controls",
          "model_name": "HTMLModel",
          "model_module_version": "1.5.0",
          "state": {
            "_view_name": "HTMLView",
            "style": "IPY_MODEL_20eddd6f59114009b5739d2c7d4a03a5",
            "_dom_classes": [],
            "description": "",
            "_model_name": "HTMLModel",
            "placeholder": "​",
            "_view_module": "@jupyter-widgets/controls",
            "_model_module_version": "1.5.0",
            "value": " 1.63k/1.63k [00:00&lt;00:00, 36.1kB/s]",
            "_view_count": null,
            "_view_module_version": "1.5.0",
            "description_tooltip": null,
            "_model_module": "@jupyter-widgets/controls",
            "layout": "IPY_MODEL_2a485f44f6bb4198a7abad1cd4421ea6"
          }
        },
        "e20bac5698924725883d645f1a044774": {
          "model_module": "@jupyter-widgets/controls",
          "model_name": "DescriptionStyleModel",
          "model_module_version": "1.5.0",
          "state": {
            "_view_name": "StyleView",
            "_model_name": "DescriptionStyleModel",
            "description_width": "",
            "_view_module": "@jupyter-widgets/base",
            "_model_module_version": "1.5.0",
            "_view_count": null,
            "_view_module_version": "1.2.0",
            "_model_module": "@jupyter-widgets/controls"
          }
        },
        "c9842eae656847a3827135c01ac0ad87": {
          "model_module": "@jupyter-widgets/base",
          "model_name": "LayoutModel",
          "model_module_version": "1.2.0",
          "state": {
            "_view_name": "LayoutView",
            "grid_template_rows": null,
            "right": null,
            "justify_content": null,
            "_view_module": "@jupyter-widgets/base",
            "overflow": null,
            "_model_module_version": "1.2.0",
            "_view_count": null,
            "flex_flow": null,
            "width": null,
            "min_width": null,
            "border": null,
            "align_items": null,
            "bottom": null,
            "_model_module": "@jupyter-widgets/base",
            "top": null,
            "grid_column": null,
            "overflow_y": null,
            "overflow_x": null,
            "grid_auto_flow": null,
            "grid_area": null,
            "grid_template_columns": null,
            "flex": null,
            "_model_name": "LayoutModel",
            "justify_items": null,
            "grid_row": null,
            "max_height": null,
            "align_content": null,
            "visibility": null,
            "align_self": null,
            "height": null,
            "min_height": null,
            "padding": null,
            "grid_auto_rows": null,
            "grid_gap": null,
            "max_width": null,
            "order": null,
            "_view_module_version": "1.2.0",
            "grid_template_areas": null,
            "object_position": null,
            "object_fit": null,
            "grid_auto_columns": null,
            "margin": null,
            "display": null,
            "left": null
          }
        },
        "a0dd0965639542f7a59add8a733052e6": {
          "model_module": "@jupyter-widgets/controls",
          "model_name": "ProgressStyleModel",
          "model_module_version": "1.5.0",
          "state": {
            "_view_name": "StyleView",
            "_model_name": "ProgressStyleModel",
            "description_width": "",
            "_view_module": "@jupyter-widgets/base",
            "_model_module_version": "1.5.0",
            "_view_count": null,
            "_view_module_version": "1.2.0",
            "bar_color": null,
            "_model_module": "@jupyter-widgets/controls"
          }
        },
        "40d9b12790c2472e97bc596e8d010b41": {
          "model_module": "@jupyter-widgets/base",
          "model_name": "LayoutModel",
          "model_module_version": "1.2.0",
          "state": {
            "_view_name": "LayoutView",
            "grid_template_rows": null,
            "right": null,
            "justify_content": null,
            "_view_module": "@jupyter-widgets/base",
            "overflow": null,
            "_model_module_version": "1.2.0",
            "_view_count": null,
            "flex_flow": null,
            "width": null,
            "min_width": null,
            "border": null,
            "align_items": null,
            "bottom": null,
            "_model_module": "@jupyter-widgets/base",
            "top": null,
            "grid_column": null,
            "overflow_y": null,
            "overflow_x": null,
            "grid_auto_flow": null,
            "grid_area": null,
            "grid_template_columns": null,
            "flex": null,
            "_model_name": "LayoutModel",
            "justify_items": null,
            "grid_row": null,
            "max_height": null,
            "align_content": null,
            "visibility": null,
            "align_self": null,
            "height": null,
            "min_height": null,
            "padding": null,
            "grid_auto_rows": null,
            "grid_gap": null,
            "max_width": null,
            "order": null,
            "_view_module_version": "1.2.0",
            "grid_template_areas": null,
            "object_position": null,
            "object_fit": null,
            "grid_auto_columns": null,
            "margin": null,
            "display": null,
            "left": null
          }
        },
        "20eddd6f59114009b5739d2c7d4a03a5": {
          "model_module": "@jupyter-widgets/controls",
          "model_name": "DescriptionStyleModel",
          "model_module_version": "1.5.0",
          "state": {
            "_view_name": "StyleView",
            "_model_name": "DescriptionStyleModel",
            "description_width": "",
            "_view_module": "@jupyter-widgets/base",
            "_model_module_version": "1.5.0",
            "_view_count": null,
            "_view_module_version": "1.2.0",
            "_model_module": "@jupyter-widgets/controls"
          }
        },
        "2a485f44f6bb4198a7abad1cd4421ea6": {
          "model_module": "@jupyter-widgets/base",
          "model_name": "LayoutModel",
          "model_module_version": "1.2.0",
          "state": {
            "_view_name": "LayoutView",
            "grid_template_rows": null,
            "right": null,
            "justify_content": null,
            "_view_module": "@jupyter-widgets/base",
            "overflow": null,
            "_model_module_version": "1.2.0",
            "_view_count": null,
            "flex_flow": null,
            "width": null,
            "min_width": null,
            "border": null,
            "align_items": null,
            "bottom": null,
            "_model_module": "@jupyter-widgets/base",
            "top": null,
            "grid_column": null,
            "overflow_y": null,
            "overflow_x": null,
            "grid_auto_flow": null,
            "grid_area": null,
            "grid_template_columns": null,
            "flex": null,
            "_model_name": "LayoutModel",
            "justify_items": null,
            "grid_row": null,
            "max_height": null,
            "align_content": null,
            "visibility": null,
            "align_self": null,
            "height": null,
            "min_height": null,
            "padding": null,
            "grid_auto_rows": null,
            "grid_gap": null,
            "max_width": null,
            "order": null,
            "_view_module_version": "1.2.0",
            "grid_template_areas": null,
            "object_position": null,
            "object_fit": null,
            "grid_auto_columns": null,
            "margin": null,
            "display": null,
            "left": null
          }
        },
        "e9511dbc4b2e4ca18a34f2dc443aecaf": {
          "model_module": "@jupyter-widgets/controls",
          "model_name": "HBoxModel",
          "model_module_version": "1.5.0",
          "state": {
            "_view_name": "HBoxView",
            "_dom_classes": [],
            "_model_name": "HBoxModel",
            "_view_module": "@jupyter-widgets/controls",
            "_model_module_version": "1.5.0",
            "_view_count": null,
            "_view_module_version": "1.5.0",
            "box_style": "",
            "layout": "IPY_MODEL_6285dbbf621d46bd990bb9796048fa6f",
            "_model_module": "@jupyter-widgets/controls",
            "children": [
              "IPY_MODEL_4a572c0e71e04e8e8bb99d8aa5dce0e3",
              "IPY_MODEL_05b7897eb63e4cc3a63c9b8237a85af7",
              "IPY_MODEL_b233a70188db4963864587054a5a32f1"
            ]
          }
        },
        "6285dbbf621d46bd990bb9796048fa6f": {
          "model_module": "@jupyter-widgets/base",
          "model_name": "LayoutModel",
          "model_module_version": "1.2.0",
          "state": {
            "_view_name": "LayoutView",
            "grid_template_rows": null,
            "right": null,
            "justify_content": null,
            "_view_module": "@jupyter-widgets/base",
            "overflow": null,
            "_model_module_version": "1.2.0",
            "_view_count": null,
            "flex_flow": null,
            "width": null,
            "min_width": null,
            "border": null,
            "align_items": null,
            "bottom": null,
            "_model_module": "@jupyter-widgets/base",
            "top": null,
            "grid_column": null,
            "overflow_y": null,
            "overflow_x": null,
            "grid_auto_flow": null,
            "grid_area": null,
            "grid_template_columns": null,
            "flex": null,
            "_model_name": "LayoutModel",
            "justify_items": null,
            "grid_row": null,
            "max_height": null,
            "align_content": null,
            "visibility": null,
            "align_self": null,
            "height": null,
            "min_height": null,
            "padding": null,
            "grid_auto_rows": null,
            "grid_gap": null,
            "max_width": null,
            "order": null,
            "_view_module_version": "1.2.0",
            "grid_template_areas": null,
            "object_position": null,
            "object_fit": null,
            "grid_auto_columns": null,
            "margin": null,
            "display": null,
            "left": null
          }
        },
        "4a572c0e71e04e8e8bb99d8aa5dce0e3": {
          "model_module": "@jupyter-widgets/controls",
          "model_name": "HTMLModel",
          "model_module_version": "1.5.0",
          "state": {
            "_view_name": "HTMLView",
            "style": "IPY_MODEL_cb628460492c430f892f6a7bf1163ab6",
            "_dom_classes": [],
            "description": "",
            "_model_name": "HTMLModel",
            "placeholder": "​",
            "_view_module": "@jupyter-widgets/controls",
            "_model_module_version": "1.5.0",
            "value": "Downloading: 100%",
            "_view_count": null,
            "_view_module_version": "1.5.0",
            "description_tooltip": null,
            "_model_module": "@jupyter-widgets/controls",
            "layout": "IPY_MODEL_698c83118cef4d3a9efbd4c968c04acf"
          }
        },
        "05b7897eb63e4cc3a63c9b8237a85af7": {
          "model_module": "@jupyter-widgets/controls",
          "model_name": "FloatProgressModel",
          "model_module_version": "1.5.0",
          "state": {
            "_view_name": "ProgressView",
            "style": "IPY_MODEL_a202d869d00b4d4ab6dbc8f283efe46d",
            "_dom_classes": [],
            "description": "",
            "_model_name": "FloatProgressModel",
            "bar_style": "success",
            "max": 557941479,
            "_view_module": "@jupyter-widgets/controls",
            "_model_module_version": "1.5.0",
            "value": 557941479,
            "_view_count": null,
            "_view_module_version": "1.5.0",
            "orientation": "horizontal",
            "min": 0,
            "description_tooltip": null,
            "_model_module": "@jupyter-widgets/controls",
            "layout": "IPY_MODEL_5482a4525e0146c4bd1035a6bfa47e07"
          }
        },
        "b233a70188db4963864587054a5a32f1": {
          "model_module": "@jupyter-widgets/controls",
          "model_name": "HTMLModel",
          "model_module_version": "1.5.0",
          "state": {
            "_view_name": "HTMLView",
            "style": "IPY_MODEL_1c2e681d72764fef9c9b10f19e0f490e",
            "_dom_classes": [],
            "description": "",
            "_model_name": "HTMLModel",
            "placeholder": "​",
            "_view_module": "@jupyter-widgets/controls",
            "_model_module_version": "1.5.0",
            "value": " 558M/558M [00:17&lt;00:00, 35.1MB/s]",
            "_view_count": null,
            "_view_module_version": "1.5.0",
            "description_tooltip": null,
            "_model_module": "@jupyter-widgets/controls",
            "layout": "IPY_MODEL_ef3a093bb26b451699767085ad59f8ce"
          }
        },
        "cb628460492c430f892f6a7bf1163ab6": {
          "model_module": "@jupyter-widgets/controls",
          "model_name": "DescriptionStyleModel",
          "model_module_version": "1.5.0",
          "state": {
            "_view_name": "StyleView",
            "_model_name": "DescriptionStyleModel",
            "description_width": "",
            "_view_module": "@jupyter-widgets/base",
            "_model_module_version": "1.5.0",
            "_view_count": null,
            "_view_module_version": "1.2.0",
            "_model_module": "@jupyter-widgets/controls"
          }
        },
        "698c83118cef4d3a9efbd4c968c04acf": {
          "model_module": "@jupyter-widgets/base",
          "model_name": "LayoutModel",
          "model_module_version": "1.2.0",
          "state": {
            "_view_name": "LayoutView",
            "grid_template_rows": null,
            "right": null,
            "justify_content": null,
            "_view_module": "@jupyter-widgets/base",
            "overflow": null,
            "_model_module_version": "1.2.0",
            "_view_count": null,
            "flex_flow": null,
            "width": null,
            "min_width": null,
            "border": null,
            "align_items": null,
            "bottom": null,
            "_model_module": "@jupyter-widgets/base",
            "top": null,
            "grid_column": null,
            "overflow_y": null,
            "overflow_x": null,
            "grid_auto_flow": null,
            "grid_area": null,
            "grid_template_columns": null,
            "flex": null,
            "_model_name": "LayoutModel",
            "justify_items": null,
            "grid_row": null,
            "max_height": null,
            "align_content": null,
            "visibility": null,
            "align_self": null,
            "height": null,
            "min_height": null,
            "padding": null,
            "grid_auto_rows": null,
            "grid_gap": null,
            "max_width": null,
            "order": null,
            "_view_module_version": "1.2.0",
            "grid_template_areas": null,
            "object_position": null,
            "object_fit": null,
            "grid_auto_columns": null,
            "margin": null,
            "display": null,
            "left": null
          }
        },
        "a202d869d00b4d4ab6dbc8f283efe46d": {
          "model_module": "@jupyter-widgets/controls",
          "model_name": "ProgressStyleModel",
          "model_module_version": "1.5.0",
          "state": {
            "_view_name": "StyleView",
            "_model_name": "ProgressStyleModel",
            "description_width": "",
            "_view_module": "@jupyter-widgets/base",
            "_model_module_version": "1.5.0",
            "_view_count": null,
            "_view_module_version": "1.2.0",
            "bar_color": null,
            "_model_module": "@jupyter-widgets/controls"
          }
        },
        "5482a4525e0146c4bd1035a6bfa47e07": {
          "model_module": "@jupyter-widgets/base",
          "model_name": "LayoutModel",
          "model_module_version": "1.2.0",
          "state": {
            "_view_name": "LayoutView",
            "grid_template_rows": null,
            "right": null,
            "justify_content": null,
            "_view_module": "@jupyter-widgets/base",
            "overflow": null,
            "_model_module_version": "1.2.0",
            "_view_count": null,
            "flex_flow": null,
            "width": null,
            "min_width": null,
            "border": null,
            "align_items": null,
            "bottom": null,
            "_model_module": "@jupyter-widgets/base",
            "top": null,
            "grid_column": null,
            "overflow_y": null,
            "overflow_x": null,
            "grid_auto_flow": null,
            "grid_area": null,
            "grid_template_columns": null,
            "flex": null,
            "_model_name": "LayoutModel",
            "justify_items": null,
            "grid_row": null,
            "max_height": null,
            "align_content": null,
            "visibility": null,
            "align_self": null,
            "height": null,
            "min_height": null,
            "padding": null,
            "grid_auto_rows": null,
            "grid_gap": null,
            "max_width": null,
            "order": null,
            "_view_module_version": "1.2.0",
            "grid_template_areas": null,
            "object_position": null,
            "object_fit": null,
            "grid_auto_columns": null,
            "margin": null,
            "display": null,
            "left": null
          }
        },
        "1c2e681d72764fef9c9b10f19e0f490e": {
          "model_module": "@jupyter-widgets/controls",
          "model_name": "DescriptionStyleModel",
          "model_module_version": "1.5.0",
          "state": {
            "_view_name": "StyleView",
            "_model_name": "DescriptionStyleModel",
            "description_width": "",
            "_view_module": "@jupyter-widgets/base",
            "_model_module_version": "1.5.0",
            "_view_count": null,
            "_view_module_version": "1.2.0",
            "_model_module": "@jupyter-widgets/controls"
          }
        },
        "ef3a093bb26b451699767085ad59f8ce": {
          "model_module": "@jupyter-widgets/base",
          "model_name": "LayoutModel",
          "model_module_version": "1.2.0",
          "state": {
            "_view_name": "LayoutView",
            "grid_template_rows": null,
            "right": null,
            "justify_content": null,
            "_view_module": "@jupyter-widgets/base",
            "overflow": null,
            "_model_module_version": "1.2.0",
            "_view_count": null,
            "flex_flow": null,
            "width": null,
            "min_width": null,
            "border": null,
            "align_items": null,
            "bottom": null,
            "_model_module": "@jupyter-widgets/base",
            "top": null,
            "grid_column": null,
            "overflow_y": null,
            "overflow_x": null,
            "grid_auto_flow": null,
            "grid_area": null,
            "grid_template_columns": null,
            "flex": null,
            "_model_name": "LayoutModel",
            "justify_items": null,
            "grid_row": null,
            "max_height": null,
            "align_content": null,
            "visibility": null,
            "align_self": null,
            "height": null,
            "min_height": null,
            "padding": null,
            "grid_auto_rows": null,
            "grid_gap": null,
            "max_width": null,
            "order": null,
            "_view_module_version": "1.2.0",
            "grid_template_areas": null,
            "object_position": null,
            "object_fit": null,
            "grid_auto_columns": null,
            "margin": null,
            "display": null,
            "left": null
          }
        }
      }
    }
  },
  "cells": [
    {
      "cell_type": "code",
      "metadata": {
        "colab": {
          "base_uri": "https://localhost:8080/"
        },
        "id": "0SQzrlKl4hkR",
        "outputId": "77b3351b-60a8-4a9a-c219-40eb608d08a5"
      },
      "source": [
        "from google.colab import drive\n",
        "drive.mount('/content/drive')"
      ],
      "execution_count": null,
      "outputs": [
        {
          "output_type": "stream",
          "name": "stdout",
          "text": [
            "Mounted at /content/drive\n"
          ]
        }
      ]
    },
    {
      "cell_type": "code",
      "metadata": {
        "colab": {
          "base_uri": "https://localhost:8080/"
        },
        "id": "570WZ3sKB1A6",
        "outputId": "57d4ead0-e12c-4c8b-e97c-15947ddba55d"
      },
      "source": [
        "!nvidia-smi"
      ],
      "execution_count": null,
      "outputs": [
        {
          "output_type": "stream",
          "name": "stdout",
          "text": [
            "Mon Sep 13 07:20:31 2021       \n",
            "+-----------------------------------------------------------------------------+\n",
            "| NVIDIA-SMI 470.63.01    Driver Version: 460.32.03    CUDA Version: 11.2     |\n",
            "|-------------------------------+----------------------+----------------------+\n",
            "| GPU  Name        Persistence-M| Bus-Id        Disp.A | Volatile Uncorr. ECC |\n",
            "| Fan  Temp  Perf  Pwr:Usage/Cap|         Memory-Usage | GPU-Util  Compute M. |\n",
            "|                               |                      |               MIG M. |\n",
            "|===============================+======================+======================|\n",
            "|   0  Tesla K80           Off  | 00000000:00:04.0 Off |                    0 |\n",
            "| N/A   33C    P8    26W / 149W |      0MiB / 11441MiB |      0%      Default |\n",
            "|                               |                      |                  N/A |\n",
            "+-------------------------------+----------------------+----------------------+\n",
            "                                                                               \n",
            "+-----------------------------------------------------------------------------+\n",
            "| Processes:                                                                  |\n",
            "|  GPU   GI   CI        PID   Type   Process name                  GPU Memory |\n",
            "|        ID   ID                                                   Usage      |\n",
            "|=============================================================================|\n",
            "|  No running processes found                                                 |\n",
            "+-----------------------------------------------------------------------------+\n"
          ]
        }
      ]
    },
    {
      "cell_type": "code",
      "metadata": {
        "colab": {
          "base_uri": "https://localhost:8080/",
          "height": 35
        },
        "id": "_euoFFuD4pxU",
        "outputId": "389734d8-ddff-4d41-ca5c-5933da7ad4d7"
      },
      "source": [
        "import os\n",
        "\n",
        "os.getcwd()"
      ],
      "execution_count": null,
      "outputs": [
        {
          "output_type": "execute_result",
          "data": {
            "application/vnd.google.colaboratory.intrinsic+json": {
              "type": "string"
            },
            "text/plain": [
              "'/content'"
            ]
          },
          "metadata": {},
          "execution_count": 4
        }
      ]
    },
    {
      "cell_type": "code",
      "metadata": {
        "id": "bWNsnvKP5GKV"
      },
      "source": [
        "os.chdir(\"/content/drive/MyDrive/Colab Notebooks/qbe/candidate_test\")"
      ],
      "execution_count": null,
      "outputs": []
    },
    {
      "cell_type": "code",
      "metadata": {
        "colab": {
          "base_uri": "https://localhost:8080/"
        },
        "id": "C8cWodLi46rQ",
        "outputId": "27accabf-ac77-43b2-8a53-1ea52ef60f77"
      },
      "source": [
        "os.listdir()"
      ],
      "execution_count": null,
      "outputs": [
        {
          "output_type": "execute_result",
          "data": {
            "text/plain": [
              "['restaurants_train.csv',\n",
              " 'restaurants_val.csv',\n",
              " 'requirements.txt',\n",
              " 'restaurants_holdout.csv',\n",
              " 'README.pdf',\n",
              " '.~lock.restaurants_train.csv#',\n",
              " 'entity_extraction.ipynb',\n",
              " '.ipynb_checkpoints',\n",
              " 'rest_hold_preds_batchsize10.xlsx',\n",
              " 'rest_hold_preds_batchsize10_20epochs.xlsx',\n",
              " 'b_10_ss5',\n",
              " 'b_10_cosine_sched']"
            ]
          },
          "metadata": {},
          "execution_count": 6
        }
      ]
    },
    {
      "cell_type": "code",
      "metadata": {
        "colab": {
          "base_uri": "https://localhost:8080/",
          "height": 1000
        },
        "id": "BowJ_03s5Lry",
        "outputId": "ba21d0d5-7e93-488c-8abb-a7daba24f028"
      },
      "source": [
        "!pip install -r requirements.txt"
      ],
      "execution_count": null,
      "outputs": [
        {
          "output_type": "stream",
          "name": "stdout",
          "text": [
            "Collecting transformers==4.7.0\n",
            "  Downloading transformers-4.7.0-py3-none-any.whl (2.5 MB)\n",
            "\u001b[K     |████████████████████████████████| 2.5 MB 8.0 MB/s \n",
            "\u001b[?25hCollecting torch==1.8.1\n",
            "  Downloading torch-1.8.1-cp37-cp37m-manylinux1_x86_64.whl (804.1 MB)\n",
            "\u001b[K     |████████████████████████████████| 804.1 MB 2.8 kB/s \n",
            "\u001b[?25hCollecting pandas==1.0.1\n",
            "  Downloading pandas-1.0.1-cp37-cp37m-manylinux1_x86_64.whl (10.1 MB)\n",
            "\u001b[K     |████████████████████████████████| 10.1 MB 38.6 MB/s \n",
            "\u001b[?25hRequirement already satisfied: sklearn==0.0 in /usr/local/lib/python3.7/dist-packages (from -r requirements.txt (line 4)) (0.0)\n",
            "Collecting tokenizers<0.11,>=0.10.1\n",
            "  Downloading tokenizers-0.10.3-cp37-cp37m-manylinux_2_5_x86_64.manylinux1_x86_64.manylinux_2_12_x86_64.manylinux2010_x86_64.whl (3.3 MB)\n",
            "\u001b[K     |████████████████████████████████| 3.3 MB 45.9 MB/s \n",
            "\u001b[?25hRequirement already satisfied: filelock in /usr/local/lib/python3.7/dist-packages (from transformers==4.7.0->-r requirements.txt (line 1)) (3.0.12)\n",
            "Collecting huggingface-hub==0.0.8\n",
            "  Downloading huggingface_hub-0.0.8-py3-none-any.whl (34 kB)\n",
            "Requirement already satisfied: numpy>=1.17 in /usr/local/lib/python3.7/dist-packages (from transformers==4.7.0->-r requirements.txt (line 1)) (1.19.5)\n",
            "Requirement already satisfied: requests in /usr/local/lib/python3.7/dist-packages (from transformers==4.7.0->-r requirements.txt (line 1)) (2.23.0)\n",
            "Requirement already satisfied: tqdm>=4.27 in /usr/local/lib/python3.7/dist-packages (from transformers==4.7.0->-r requirements.txt (line 1)) (4.62.0)\n",
            "Requirement already satisfied: importlib-metadata in /usr/local/lib/python3.7/dist-packages (from transformers==4.7.0->-r requirements.txt (line 1)) (4.6.4)\n",
            "Requirement already satisfied: pyyaml in /usr/local/lib/python3.7/dist-packages (from transformers==4.7.0->-r requirements.txt (line 1)) (3.13)\n",
            "Requirement already satisfied: regex!=2019.12.17 in /usr/local/lib/python3.7/dist-packages (from transformers==4.7.0->-r requirements.txt (line 1)) (2019.12.20)\n",
            "Requirement already satisfied: packaging in /usr/local/lib/python3.7/dist-packages (from transformers==4.7.0->-r requirements.txt (line 1)) (21.0)\n",
            "Collecting sacremoses\n",
            "  Downloading sacremoses-0.0.45-py3-none-any.whl (895 kB)\n",
            "\u001b[K     |████████████████████████████████| 895 kB 42.4 MB/s \n",
            "\u001b[?25hRequirement already satisfied: typing-extensions in /usr/local/lib/python3.7/dist-packages (from torch==1.8.1->-r requirements.txt (line 2)) (3.7.4.3)\n",
            "Requirement already satisfied: pytz>=2017.2 in /usr/local/lib/python3.7/dist-packages (from pandas==1.0.1->-r requirements.txt (line 3)) (2018.9)\n",
            "Requirement already satisfied: python-dateutil>=2.6.1 in /usr/local/lib/python3.7/dist-packages (from pandas==1.0.1->-r requirements.txt (line 3)) (2.8.2)\n",
            "Requirement already satisfied: scikit-learn in /usr/local/lib/python3.7/dist-packages (from sklearn==0.0->-r requirements.txt (line 4)) (0.22.2.post1)\n",
            "Requirement already satisfied: six>=1.5 in /usr/local/lib/python3.7/dist-packages (from python-dateutil>=2.6.1->pandas==1.0.1->-r requirements.txt (line 3)) (1.15.0)\n",
            "Requirement already satisfied: zipp>=0.5 in /usr/local/lib/python3.7/dist-packages (from importlib-metadata->transformers==4.7.0->-r requirements.txt (line 1)) (3.5.0)\n",
            "Requirement already satisfied: pyparsing>=2.0.2 in /usr/local/lib/python3.7/dist-packages (from packaging->transformers==4.7.0->-r requirements.txt (line 1)) (2.4.7)\n",
            "Requirement already satisfied: certifi>=2017.4.17 in /usr/local/lib/python3.7/dist-packages (from requests->transformers==4.7.0->-r requirements.txt (line 1)) (2021.5.30)\n",
            "Requirement already satisfied: idna<3,>=2.5 in /usr/local/lib/python3.7/dist-packages (from requests->transformers==4.7.0->-r requirements.txt (line 1)) (2.10)\n",
            "Requirement already satisfied: urllib3!=1.25.0,!=1.25.1,<1.26,>=1.21.1 in /usr/local/lib/python3.7/dist-packages (from requests->transformers==4.7.0->-r requirements.txt (line 1)) (1.24.3)\n",
            "Requirement already satisfied: chardet<4,>=3.0.2 in /usr/local/lib/python3.7/dist-packages (from requests->transformers==4.7.0->-r requirements.txt (line 1)) (3.0.4)\n",
            "Requirement already satisfied: joblib in /usr/local/lib/python3.7/dist-packages (from sacremoses->transformers==4.7.0->-r requirements.txt (line 1)) (1.0.1)\n",
            "Requirement already satisfied: click in /usr/local/lib/python3.7/dist-packages (from sacremoses->transformers==4.7.0->-r requirements.txt (line 1)) (7.1.2)\n",
            "Requirement already satisfied: scipy>=0.17.0 in /usr/local/lib/python3.7/dist-packages (from scikit-learn->sklearn==0.0->-r requirements.txt (line 4)) (1.4.1)\n",
            "Installing collected packages: tokenizers, sacremoses, huggingface-hub, transformers, torch, pandas\n",
            "  Attempting uninstall: torch\n",
            "    Found existing installation: torch 1.9.0+cu102\n",
            "    Uninstalling torch-1.9.0+cu102:\n",
            "      Successfully uninstalled torch-1.9.0+cu102\n",
            "  Attempting uninstall: pandas\n",
            "    Found existing installation: pandas 1.1.5\n",
            "    Uninstalling pandas-1.1.5:\n",
            "      Successfully uninstalled pandas-1.1.5\n",
            "\u001b[31mERROR: pip's dependency resolver does not currently take into account all the packages that are installed. This behaviour is the source of the following dependency conflicts.\n",
            "torchvision 0.10.0+cu102 requires torch==1.9.0, but you have torch 1.8.1 which is incompatible.\n",
            "torchtext 0.10.0 requires torch==1.9.0, but you have torch 1.8.1 which is incompatible.\n",
            "google-colab 1.0.0 requires pandas~=1.1.0; python_version >= \"3.0\", but you have pandas 1.0.1 which is incompatible.\n",
            "fbprophet 0.7.1 requires pandas>=1.0.4, but you have pandas 1.0.1 which is incompatible.\u001b[0m\n",
            "Successfully installed huggingface-hub-0.0.8 pandas-1.0.1 sacremoses-0.0.45 tokenizers-0.10.3 torch-1.8.1 transformers-4.7.0\n"
          ]
        },
        {
          "output_type": "display_data",
          "data": {
            "application/vnd.colab-display-data+json": {
              "pip_warning": {
                "packages": [
                  "pandas"
                ]
              }
            }
          },
          "metadata": {}
        }
      ]
    },
    {
      "cell_type": "code",
      "metadata": {
        "id": "1Re1UJ025WdR"
      },
      "source": [
        "import pandas as pd\n",
        "\n",
        "train = pd.read_csv('restaurants_train.csv')\n",
        "\n",
        "val = pd.read_csv('restaurants_val.csv')\n",
        "\n",
        "holdout = pd.read_csv('restaurants_holdout.csv')\n",
        "\n",
        "train = train.fillna('')\n",
        "\n",
        "val = val.fillna('')\n",
        "\n",
        "holdout = holdout.fillna('')"
      ],
      "execution_count": null,
      "outputs": []
    },
    {
      "cell_type": "code",
      "metadata": {
        "id": "xMx4ZCv55a6M"
      },
      "source": [
        "import sys\n",
        "import torch\n",
        "import torch.nn as nn\n",
        "import random\n",
        "\n",
        "from tqdm import tqdm\n",
        "from torch.optim.lr_scheduler import StepLR\n",
        "from transformers import BartForConditionalGeneration, BartTokenizer\n",
        "\n",
        "device = torch.device(\"cuda\" if torch.cuda.is_available() else \"cpu\")"
      ],
      "execution_count": null,
      "outputs": []
    },
    {
      "cell_type": "code",
      "metadata": {
        "id": "q3Kxlk1w0OSC"
      },
      "source": [
        "import transformers"
      ],
      "execution_count": null,
      "outputs": []
    },
    {
      "cell_type": "code",
      "metadata": {
        "colab": {
          "base_uri": "https://localhost:8080/",
          "height": 177,
          "referenced_widgets": [
            "b2a5172490ff4665ac6d64c8f66f5007",
            "67fa695fedc64dd0ba4f235242ada6a5",
            "f78e43f498fc454b8b2d27c76235ab15",
            "e4356dcf9b564c279b03087dc0350754",
            "f1e40be66e2c4e72990313f5ae7a95d6",
            "bdacd1e39d5c4c50992e0862e9b524f4",
            "ce6f7693e9cb495cb4aa9d738726acd5",
            "0db7abcc965a401bbf0171474a436c87",
            "55b2a27a3f3048ba9ed6852be321bdc5",
            "8c386ca17ad04ea1ad689418e0753c97",
            "04efe90943d44231bfc32e942a14f357",
            "4d49ba9cda6442278456338b804f36f7",
            "85e43c420ef847f69b1ac1fcea86dbca",
            "787e82a97e6944ae84ae5a23c8b4b20b",
            "09dc73c4b7674e6dbbe965baa2eaea76",
            "3147214f24ce4a47a023805b7c655a7e",
            "ad845a0980374c1f9ff360446c31c5a5",
            "d71d3d9a16084bfea82da190a3b65c59",
            "6c3becf1801549e1aa1a248e914b7a32",
            "063bd0c35f964ee1803682513cf4012e",
            "cd42868e77604c51bb343d4202a531ac",
            "4c38138e925a4f8aba0b7af9c6c0180e",
            "956cb9d200ac491092c4c584640a005a",
            "4331863bffb64140ae6973727819fa9b",
            "20b71d6d9b6142eca1637252d59ae4b7",
            "9cb19297d6c14cf6a4d3bb0a1cb45cfe",
            "6c6784cbfb194dc78be3b37a3a5e4079",
            "4fc5b40948a4434a8d84a0da84301856",
            "219c59e6896e4295b32ecb9c3f1b65cc",
            "1d5add6cbfe04fc5988ce4a4a1465596",
            "c359134cf8e449bab70b58c8b84953f1",
            "3493db4bf6ea49838cc3e0320219ed90",
            "8807547f85c84ab18d6ee61326fc2460",
            "98798c99c40846d587f5e2f4c13ccaf5",
            "3ef17efb843b4e35b5e4b14874f17b8b",
            "4789e26cf2e74ec2950a8e00f509a679",
            "f5918dcb9c15439c8eedfb687419d1f2",
            "a6379a11b14c470692bd0b1d4ed156ce",
            "e20bac5698924725883d645f1a044774",
            "c9842eae656847a3827135c01ac0ad87",
            "a0dd0965639542f7a59add8a733052e6",
            "40d9b12790c2472e97bc596e8d010b41",
            "20eddd6f59114009b5739d2c7d4a03a5",
            "2a485f44f6bb4198a7abad1cd4421ea6",
            "e9511dbc4b2e4ca18a34f2dc443aecaf",
            "6285dbbf621d46bd990bb9796048fa6f",
            "4a572c0e71e04e8e8bb99d8aa5dce0e3",
            "05b7897eb63e4cc3a63c9b8237a85af7",
            "b233a70188db4963864587054a5a32f1",
            "cb628460492c430f892f6a7bf1163ab6",
            "698c83118cef4d3a9efbd4c968c04acf",
            "a202d869d00b4d4ab6dbc8f283efe46d",
            "5482a4525e0146c4bd1035a6bfa47e07",
            "1c2e681d72764fef9c9b10f19e0f490e",
            "ef3a093bb26b451699767085ad59f8ce"
          ]
        },
        "id": "wQW0kUWS5iP8",
        "outputId": "c011b537-0e9e-4c8c-eb33-f94a79e3b8fc"
      },
      "source": [
        "tokenizer = BartTokenizer.from_pretrained('facebook/bart-base')\n",
        "\n",
        "model = BartForConditionalGeneration.from_pretrained('facebook/bart-base')\n",
        "\n",
        "_ = model.to(device)"
      ],
      "execution_count": null,
      "outputs": [
        {
          "output_type": "display_data",
          "data": {
            "application/vnd.jupyter.widget-view+json": {
              "model_id": "b2a5172490ff4665ac6d64c8f66f5007",
              "version_minor": 0,
              "version_major": 2
            },
            "text/plain": [
              "Downloading:   0%|          | 0.00/899k [00:00<?, ?B/s]"
            ]
          },
          "metadata": {}
        },
        {
          "output_type": "display_data",
          "data": {
            "application/vnd.jupyter.widget-view+json": {
              "model_id": "4d49ba9cda6442278456338b804f36f7",
              "version_minor": 0,
              "version_major": 2
            },
            "text/plain": [
              "Downloading:   0%|          | 0.00/456k [00:00<?, ?B/s]"
            ]
          },
          "metadata": {}
        },
        {
          "output_type": "display_data",
          "data": {
            "application/vnd.jupyter.widget-view+json": {
              "model_id": "956cb9d200ac491092c4c584640a005a",
              "version_minor": 0,
              "version_major": 2
            },
            "text/plain": [
              "Downloading:   0%|          | 0.00/1.36M [00:00<?, ?B/s]"
            ]
          },
          "metadata": {}
        },
        {
          "output_type": "display_data",
          "data": {
            "application/vnd.jupyter.widget-view+json": {
              "model_id": "98798c99c40846d587f5e2f4c13ccaf5",
              "version_minor": 0,
              "version_major": 2
            },
            "text/plain": [
              "Downloading:   0%|          | 0.00/1.63k [00:00<?, ?B/s]"
            ]
          },
          "metadata": {}
        },
        {
          "output_type": "display_data",
          "data": {
            "application/vnd.jupyter.widget-view+json": {
              "model_id": "e9511dbc4b2e4ca18a34f2dc443aecaf",
              "version_minor": 0,
              "version_major": 2
            },
            "text/plain": [
              "Downloading:   0%|          | 0.00/558M [00:00<?, ?B/s]"
            ]
          },
          "metadata": {}
        }
      ]
    },
    {
      "cell_type": "code",
      "metadata": {
        "id": "7K2XveRk5mmP"
      },
      "source": [
        "def generate_outputs(model, sentence):\n",
        "    inputs = tokenizer([sentence], max_length=1024, return_tensors='pt')\n",
        "    output_ids = model.generate(inputs['input_ids'].to(device), num_beams=4)\n",
        "    #print(output_ids, sentence)\n",
        "    output = tokenizer.decode(output_ids[0], skip_special_tokens=True, clean_up_tokenization_spaces=False).strip()\n",
        "    return output"
      ],
      "execution_count": null,
      "outputs": []
    },
    {
      "cell_type": "code",
      "metadata": {
        "id": "c4DxstoGKwVm"
      },
      "source": [
        "train"
      ],
      "execution_count": null,
      "outputs": []
    },
    {
      "cell_type": "code",
      "metadata": {
        "id": "arWK-v6OK5lz"
      },
      "source": [
        "val"
      ],
      "execution_count": null,
      "outputs": []
    },
    {
      "cell_type": "code",
      "metadata": {
        "colab": {
          "base_uri": "https://localhost:8080/",
          "height": 72
        },
        "id": "I4Y1ZEGnKhzn",
        "outputId": "70e3bcf6-ae80-4147-e041-918c1f838631"
      },
      "source": [
        "model.eval()\n",
        "generate_outputs(model, train.sentence[6])"
      ],
      "execution_count": null,
      "outputs": [
        {
          "output_type": "stream",
          "name": "stderr",
          "text": [
            "Truncation was not explicitly activated but `max_length` is provided a specific value, please use `truncation=True` to explicitly truncate examples to max length. Defaulting to 'longest_first' truncation strategy. If you encode pairs of sequences (GLUE-style) with the tokenizer you can select this strategy more precisely by providing a specific strategy to `truncation`.\n"
          ]
        },
        {
          "output_type": "execute_result",
          "data": {
            "application/vnd.google.colaboratory.intrinsic+json": {
              "type": "string"
            },
            "text/plain": [
              "'can you tell me where the nearest wendys is'"
            ]
          },
          "metadata": {},
          "execution_count": 13
        }
      ]
    },
    {
      "cell_type": "code",
      "metadata": {
        "colab": {
          "base_uri": "https://localhost:8080/"
        },
        "id": "OfyVLd7_cW7U",
        "outputId": "ef36e4dd-4631-41d0-b812-4c9ef06dadc1"
      },
      "source": [
        "model.train()\n",
        "1"
      ],
      "execution_count": null,
      "outputs": [
        {
          "output_type": "execute_result",
          "data": {
            "text/plain": [
              "1"
            ]
          },
          "metadata": {},
          "execution_count": 14
        }
      ]
    },
    {
      "cell_type": "code",
      "metadata": {
        "id": "G_UdYflG5p3t"
      },
      "source": [
        "################################\n",
        "# DO NOT CHANGE THIS FUNCTION! #\n",
        "################################\n",
        "\n",
        "def get_f1_score_on_test_data(model, data):\n",
        "    model.eval()\n",
        "    true_positives = 0\n",
        "    false_positives = 0\n",
        "    false_negatives = 0\n",
        "    for index, row in data.iterrows():\n",
        "        sentence = row.sentence\n",
        "        expected = row.restaurant_name\n",
        "        inputs = tokenizer([sentence], max_length=1024, return_tensors='pt')\n",
        "        predicted = generate_outputs(model, sentence)\n",
        "        if expected != '' and expected == predicted:\n",
        "            true_positives += 1\n",
        "        if expected != '' and expected != predicted:\n",
        "            false_positives += 1\n",
        "        if expected == '' and predicted != '':\n",
        "            false_positives += 1\n",
        "        if expected != '' and predicted == '':\n",
        "            false_negatives += 1\n",
        "\n",
        "    precision = 0\n",
        "    recall = 0\n",
        "    f1_score = 0\n",
        "    if true_positives + false_positives:\n",
        "        precision = true_positives / (true_positives + false_positives)\n",
        "    if true_positives + false_negatives:\n",
        "        recall = true_positives /(true_positives + false_negatives)\n",
        "    if precision + recall:\n",
        "        f1_score = 2 * precision * recall / (precision + recall)\n",
        "\n",
        "    print(f'precision: {precision} | recall {recall} | f1_score {f1_score}')\n",
        "    return f1_score"
      ],
      "execution_count": null,
      "outputs": []
    },
    {
      "cell_type": "code",
      "metadata": {
        "id": "1uER6nu05rrF"
      },
      "source": [
        "tokenizer = BartTokenizer.from_pretrained('facebook/bart-base')\n",
        "\n",
        "model = BartForConditionalGeneration.from_pretrained('facebook/bart-base')\n",
        "\n",
        "_ = model.to(device)\n",
        "\n",
        "num_epochs = 20\n",
        "learning_rate = 2e-5\n",
        "criterion = nn.BCEWithLogitsLoss()\n",
        "optimizer = torch.optim.Adam(model.parameters(), lr=learning_rate)\n",
        "#scheduler = StepLR(optimizer, step_size=10, gamma=0.8)"
      ],
      "execution_count": null,
      "outputs": []
    },
    {
      "cell_type": "code",
      "metadata": {
        "id": "cVARLtJLE3pa"
      },
      "source": [
        "# from torch.nn.utils.rnn import pad_sequence"
      ],
      "execution_count": null,
      "outputs": []
    },
    {
      "cell_type": "code",
      "metadata": {
        "id": "2gTaEBxKGEta"
      },
      "source": [
        "# tokenizer.batch_encode_plus?"
      ],
      "execution_count": null,
      "outputs": []
    },
    {
      "cell_type": "code",
      "metadata": {
        "id": "Aos_e8ZtGoL1"
      },
      "source": [
        "# train.sentence[0]"
      ],
      "execution_count": null,
      "outputs": []
    },
    {
      "cell_type": "code",
      "metadata": {
        "id": "9cpVfldXGh_n"
      },
      "source": [
        "# tokenizer.batch_encode_plus([train.sentence[0]])[\"input_ids\"]"
      ],
      "execution_count": null,
      "outputs": []
    },
    {
      "cell_type": "code",
      "metadata": {
        "id": "1HCLsbajG5qE"
      },
      "source": [
        "# tokenizer.encode?\n",
        "# #(train.sentence[0], return_tensors='pt')"
      ],
      "execution_count": null,
      "outputs": []
    },
    {
      "cell_type": "code",
      "metadata": {
        "id": "AkDsrnisIPAg"
      },
      "source": [
        "# sents = [x.sentence for row, x in train.iterrows()]\n",
        "\n",
        "# labels = [x.restaurant_name for row, x in train.iterrows()]\n",
        "\n",
        "# start = 0\n",
        "\n",
        "# tokenizer.batch_encode_plus(sents[start:start+10], padding=True)[\"input_ids\"]"
      ],
      "execution_count": null,
      "outputs": []
    },
    {
      "cell_type": "code",
      "metadata": {
        "id": "bOhe9Om8Bl1V"
      },
      "source": [
        "def train_one_batch_and_get_loss(train_model, data, optimizer, criterion, batch_size=10):\n",
        "    total_loss = 0.\n",
        "\n",
        "    sents = [x.sentence for row, x in data.iterrows()]\n",
        "    labels = [x.restaurant_name for row, x in data.iterrows()]\n",
        "\n",
        "    #sents_tok = [tokenizer.encode(x, padding=True) for x in sents]\n",
        "\n",
        "    #labels_tok = [tokenizer.encode(x, padding=True) for x in labels]\n",
        "\n",
        "    total_steps = int(len(sents) / batch_size)\n",
        "\n",
        "    for i in tqdm(range(total_steps), total=total_steps): \n",
        "        start = i * batch_size       \n",
        "        #print(start, start+batch_size)\n",
        "        batch_sents = torch.tensor(tokenizer.batch_encode_plus(sents[start:start+batch_size], padding=True)[\"input_ids\"]).to(device)\n",
        "        \n",
        "        batch_labels = torch.tensor(tokenizer.batch_encode_plus(labels[start:start+batch_size], padding=True)[\"input_ids\"]).to(device)\n",
        "        model.train()\n",
        "        optimizer.zero_grad()\n",
        "        \n",
        "        loss = train_model(batch_sents, labels=batch_labels)[0]\n",
        "        loss.backward()\n",
        "        optimizer.step()\n",
        "        total_loss += loss.item()\n",
        "\n",
        "    return total_loss / data.shape[0]"
      ],
      "execution_count": null,
      "outputs": []
    },
    {
      "cell_type": "code",
      "metadata": {
        "id": "2e6GKunr5ugz"
      },
      "source": [
        "def train_one_step_and_get_loss(train_model, data, optimizer, criterion):\n",
        "    total_loss = 0.\n",
        "    for i, row in tqdm(data.iterrows(), total=data.shape[0]):\n",
        "        model.train()\n",
        "        optimizer.zero_grad()\n",
        "        input_ids = tokenizer.encode(row.sentence, return_tensors='pt').to(device)\n",
        "        output_ids = tokenizer.encode(row.restaurant_name, return_tensors='pt').to(device)\n",
        "        loss = train_model(input_ids, labels=output_ids)[0]\n",
        "        loss.backward()\n",
        "        optimizer.step()\n",
        "        total_loss += loss.item()\n",
        "\n",
        "    return total_loss / data.shape[0]"
      ],
      "execution_count": null,
      "outputs": []
    },
    {
      "cell_type": "code",
      "metadata": {
        "colab": {
          "base_uri": "https://localhost:8080/"
        },
        "id": "IP29N1Xn6XOy",
        "outputId": "a3ee873c-685a-4892-ae02-9903f6391059"
      },
      "source": [
        "best_model = None\n",
        "tokenizer = BartTokenizer.from_pretrained('facebook/bart-base')\n",
        "\n",
        "model = BartForConditionalGeneration.from_pretrained('facebook/bart-base')\n",
        "\n",
        "_ = model.to(device)\n",
        "\n",
        "num_epochs = 100\n",
        "learning_rate = 2e-5\n",
        "batch_size = 10\n",
        "criterion = nn.BCEWithLogitsLoss()\n",
        "optimizer = torch.optim.Adam(model.parameters(), lr=learning_rate)\n",
        "#scheduler = StepLR(optimizer, step_size=10, gamma=0.8)\n",
        "\n",
        "num_total_steps = int(train.shape[0] * num_epochs / (batch_size))\n",
        "num_warmup_steps = int(0.05 * num_total_steps)\n",
        "scheduler = transformers.get_cosine_schedule_with_warmup(optimizer,num_warmup_steps=num_warmup_steps, \n",
        "                                                         num_training_steps=num_total_steps)\n",
        "min_f1 = 0\n",
        "holdout_f1 = 0\n",
        "MODEL_PATH = \"b_10_cosine_sched\"\n",
        "for epoch in range(num_epochs):\n",
        "    loss = train_one_batch_and_get_loss(model, train, optimizer, criterion, batch_size=batch_size)\n",
        "    print('Epoch:', epoch , '-' * 35)\n",
        "    print('Training loss:', loss)\n",
        "    f1_val = get_f1_score_on_test_data(model, val)\n",
        "    \n",
        "    if (f1_val >= min_f1) & (f1_val > 0):\n",
        "\n",
        "        f1 = get_f1_score_on_test_data(model, holdout)        \n",
        "        print(\"saving model:\", f1, f1_val,min_f1, epoch)\n",
        "        min_f1 = f1_val\n",
        "        holdout_f1 = f1\n",
        "        torch.save(model.state_dict(), MODEL_PATH)\n",
        "        f1_train = get_f1_score_on_test_data(model, train)\n",
        "        print(\"Train f1\", f1_train)\n",
        "    if epoch % 5 == 0:\n",
        "        print(\"holdout eval\")\n",
        "        f1 = get_f1_score_on_test_data(model, holdout)\n",
        "    best_model = model\n",
        "    print('-' * 44)\n",
        "    sys.stdout.flush()\n",
        "    scheduler.step()"
      ],
      "execution_count": null,
      "outputs": [
        {
          "output_type": "stream",
          "name": "stderr",
          "text": [
            "100%|██████████| 12/12 [00:02<00:00,  4.48it/s]\n",
            "Truncation was not explicitly activated but `max_length` is provided a specific value, please use `truncation=True` to explicitly truncate examples to max length. Defaulting to 'longest_first' truncation strategy. If you encode pairs of sequences (GLUE-style) with the tokenizer you can select this strategy more precisely by providing a specific strategy to `truncation`.\n"
          ]
        },
        {
          "output_type": "stream",
          "name": "stdout",
          "text": [
            "Epoch: 0 -----------------------------------\n",
            "Training loss: 1.0764890273412069\n",
            "precision: 0.0 | recall 0 | f1_score 0\n",
            "holdout eval\n",
            "precision: 0.0 | recall 0 | f1_score 0\n",
            "--------------------------------------------\n"
          ]
        },
        {
          "output_type": "stream",
          "name": "stderr",
          "text": [
            "100%|██████████| 12/12 [00:02<00:00,  4.77it/s]\n"
          ]
        },
        {
          "output_type": "stream",
          "name": "stdout",
          "text": [
            "Epoch: 1 -----------------------------------\n",
            "Training loss: 1.0803970495859783\n",
            "precision: 0.0 | recall 0 | f1_score 0\n",
            "--------------------------------------------\n"
          ]
        },
        {
          "output_type": "stream",
          "name": "stderr",
          "text": [
            "100%|██████████| 12/12 [00:02<00:00,  4.75it/s]\n"
          ]
        },
        {
          "output_type": "stream",
          "name": "stdout",
          "text": [
            "Epoch: 2 -----------------------------------\n",
            "Training loss: 1.0487361351648967\n",
            "precision: 0.0 | recall 0 | f1_score 0\n",
            "--------------------------------------------\n"
          ]
        },
        {
          "output_type": "stream",
          "name": "stderr",
          "text": [
            "100%|██████████| 12/12 [00:02<00:00,  4.74it/s]\n"
          ]
        },
        {
          "output_type": "stream",
          "name": "stdout",
          "text": [
            "Epoch: 3 -----------------------------------\n",
            "Training loss: 1.0128523349761962\n",
            "precision: 0.0 | recall 0 | f1_score 0\n",
            "--------------------------------------------\n"
          ]
        },
        {
          "output_type": "stream",
          "name": "stderr",
          "text": [
            "100%|██████████| 12/12 [00:02<00:00,  4.75it/s]\n"
          ]
        },
        {
          "output_type": "stream",
          "name": "stdout",
          "text": [
            "Epoch: 4 -----------------------------------\n",
            "Training loss: 0.9371566375096639\n",
            "precision: 0.0 | recall 0 | f1_score 0\n",
            "--------------------------------------------\n"
          ]
        },
        {
          "output_type": "stream",
          "name": "stderr",
          "text": [
            "100%|██████████| 12/12 [00:02<00:00,  4.76it/s]\n"
          ]
        },
        {
          "output_type": "stream",
          "name": "stdout",
          "text": [
            "Epoch: 5 -----------------------------------\n",
            "Training loss: 0.901922865708669\n",
            "precision: 0.0 | recall 0 | f1_score 0\n",
            "holdout eval\n",
            "precision: 0.0 | recall 0 | f1_score 0\n",
            "--------------------------------------------\n"
          ]
        },
        {
          "output_type": "stream",
          "name": "stderr",
          "text": [
            "100%|██████████| 12/12 [00:02<00:00,  4.77it/s]\n"
          ]
        },
        {
          "output_type": "stream",
          "name": "stdout",
          "text": [
            "Epoch: 6 -----------------------------------\n",
            "Training loss: 0.8548354864120483\n",
            "precision: 0.0 | recall 0.0 | f1_score 0\n",
            "--------------------------------------------\n"
          ]
        },
        {
          "output_type": "stream",
          "name": "stderr",
          "text": [
            "100%|██████████| 12/12 [00:02<00:00,  4.78it/s]\n"
          ]
        },
        {
          "output_type": "stream",
          "name": "stdout",
          "text": [
            "Epoch: 7 -----------------------------------\n",
            "Training loss: 0.827314297358195\n",
            "precision: 0.0 | recall 0.0 | f1_score 0\n",
            "--------------------------------------------\n"
          ]
        },
        {
          "output_type": "stream",
          "name": "stderr",
          "text": [
            "100%|██████████| 12/12 [00:02<00:00,  4.77it/s]\n"
          ]
        },
        {
          "output_type": "stream",
          "name": "stdout",
          "text": [
            "Epoch: 8 -----------------------------------\n",
            "Training loss: 0.7997874816258749\n",
            "precision: 0.0 | recall 0.0 | f1_score 0\n",
            "--------------------------------------------\n"
          ]
        },
        {
          "output_type": "stream",
          "name": "stderr",
          "text": [
            "100%|██████████| 12/12 [00:02<00:00,  4.76it/s]\n"
          ]
        },
        {
          "output_type": "stream",
          "name": "stdout",
          "text": [
            "Epoch: 9 -----------------------------------\n",
            "Training loss: 0.7812895814577738\n",
            "precision: 0.0 | recall 0.0 | f1_score 0\n",
            "--------------------------------------------\n"
          ]
        },
        {
          "output_type": "stream",
          "name": "stderr",
          "text": [
            "100%|██████████| 12/12 [00:02<00:00,  4.76it/s]\n"
          ]
        },
        {
          "output_type": "stream",
          "name": "stdout",
          "text": [
            "Epoch: 10 -----------------------------------\n",
            "Training loss: 0.7603385170300802\n",
            "precision: 0.0 | recall 0.0 | f1_score 0\n",
            "holdout eval\n",
            "precision: 0.0 | recall 0.0 | f1_score 0\n",
            "--------------------------------------------\n"
          ]
        },
        {
          "output_type": "stream",
          "name": "stderr",
          "text": [
            "100%|██████████| 12/12 [00:02<00:00,  4.76it/s]\n"
          ]
        },
        {
          "output_type": "stream",
          "name": "stdout",
          "text": [
            "Epoch: 11 -----------------------------------\n",
            "Training loss: 0.7481444239616394\n",
            "precision: 0.0 | recall 0.0 | f1_score 0\n",
            "--------------------------------------------\n"
          ]
        },
        {
          "output_type": "stream",
          "name": "stderr",
          "text": [
            "100%|██████████| 12/12 [00:02<00:00,  4.78it/s]\n"
          ]
        },
        {
          "output_type": "stream",
          "name": "stdout",
          "text": [
            "Epoch: 12 -----------------------------------\n",
            "Training loss: 0.7230419437090556\n",
            "precision: 0.0 | recall 0.0 | f1_score 0\n",
            "--------------------------------------------\n"
          ]
        },
        {
          "output_type": "stream",
          "name": "stderr",
          "text": [
            "100%|██████████| 12/12 [00:02<00:00,  4.74it/s]\n"
          ]
        },
        {
          "output_type": "stream",
          "name": "stdout",
          "text": [
            "Epoch: 13 -----------------------------------\n",
            "Training loss: 0.705464243888855\n",
            "precision: 0.0 | recall 0.0 | f1_score 0\n",
            "--------------------------------------------\n"
          ]
        },
        {
          "output_type": "stream",
          "name": "stderr",
          "text": [
            "100%|██████████| 12/12 [00:02<00:00,  4.73it/s]\n"
          ]
        },
        {
          "output_type": "stream",
          "name": "stdout",
          "text": [
            "Epoch: 14 -----------------------------------\n",
            "Training loss: 0.6750136097272237\n",
            "precision: 0.0 | recall 0.0 | f1_score 0\n",
            "--------------------------------------------\n"
          ]
        },
        {
          "output_type": "stream",
          "name": "stderr",
          "text": [
            "100%|██████████| 12/12 [00:02<00:00,  4.77it/s]\n"
          ]
        },
        {
          "output_type": "stream",
          "name": "stdout",
          "text": [
            "Epoch: 15 -----------------------------------\n",
            "Training loss: 0.6501216808954875\n",
            "precision: 0.0 | recall 0.0 | f1_score 0\n",
            "holdout eval\n",
            "precision: 0.0 | recall 0.0 | f1_score 0\n",
            "--------------------------------------------\n"
          ]
        },
        {
          "output_type": "stream",
          "name": "stderr",
          "text": [
            "100%|██████████| 12/12 [00:02<00:00,  4.74it/s]\n"
          ]
        },
        {
          "output_type": "stream",
          "name": "stdout",
          "text": [
            "Epoch: 16 -----------------------------------\n",
            "Training loss: 0.6015796303749085\n",
            "precision: 0.0 | recall 0.0 | f1_score 0\n",
            "--------------------------------------------\n"
          ]
        },
        {
          "output_type": "stream",
          "name": "stderr",
          "text": [
            "100%|██████████| 12/12 [00:02<00:00,  4.74it/s]\n"
          ]
        },
        {
          "output_type": "stream",
          "name": "stdout",
          "text": [
            "Epoch: 17 -----------------------------------\n",
            "Training loss: 0.5567091544469197\n",
            "precision: 0.0 | recall 0.0 | f1_score 0\n",
            "--------------------------------------------\n"
          ]
        },
        {
          "output_type": "stream",
          "name": "stderr",
          "text": [
            "100%|██████████| 12/12 [00:02<00:00,  4.74it/s]\n"
          ]
        },
        {
          "output_type": "stream",
          "name": "stdout",
          "text": [
            "Epoch: 18 -----------------------------------\n",
            "Training loss: 0.48683332999547324\n",
            "precision: 0.08333333333333333 | recall 0.14285714285714285 | f1_score 0.10526315789473685\n",
            "precision: 0.009900990099009901 | recall 0.024390243902439025 | f1_score 0.014084507042253521\n",
            "saving model: 0.014084507042253521 0.10526315789473685 0 18\n",
            "precision: 0.09803921568627451 | recall 0.21739130434782608 | f1_score 0.13513513513513514\n",
            "Train f1 0.13513513513513514\n",
            "--------------------------------------------\n"
          ]
        },
        {
          "output_type": "stream",
          "name": "stderr",
          "text": [
            "100%|██████████| 12/12 [00:02<00:00,  4.63it/s]\n"
          ]
        },
        {
          "output_type": "stream",
          "name": "stdout",
          "text": [
            "Epoch: 19 -----------------------------------\n",
            "Training loss: 0.41448602875073753\n",
            "precision: 0.08333333333333333 | recall 0.2 | f1_score 0.11764705882352941\n",
            "precision: 0.019230769230769232 | recall 0.05 | f1_score 0.027777777777777776\n",
            "saving model: 0.027777777777777776 0.11764705882352941 0.10526315789473685 19\n",
            "precision: 0.17647058823529413 | recall 0.391304347826087 | f1_score 0.24324324324324328\n",
            "Train f1 0.24324324324324328\n",
            "--------------------------------------------\n"
          ]
        },
        {
          "output_type": "stream",
          "name": "stderr",
          "text": [
            "100%|██████████| 12/12 [00:02<00:00,  4.62it/s]\n"
          ]
        },
        {
          "output_type": "stream",
          "name": "stdout",
          "text": [
            "Epoch: 20 -----------------------------------\n",
            "Training loss: 0.35863483349482217\n",
            "precision: 0.08333333333333333 | recall 0.2 | f1_score 0.11764705882352941\n",
            "precision: 0.043478260869565216 | recall 0.14705882352941177 | f1_score 0.06711409395973154\n",
            "saving model: 0.06711409395973154 0.11764705882352941 0.11764705882352941 20\n",
            "precision: 0.25 | recall 0.6842105263157895 | f1_score 0.36619718309859156\n",
            "Train f1 0.36619718309859156\n",
            "holdout eval\n",
            "precision: 0.043478260869565216 | recall 0.14705882352941177 | f1_score 0.06711409395973154\n",
            "--------------------------------------------\n"
          ]
        },
        {
          "output_type": "stream",
          "name": "stderr",
          "text": [
            "100%|██████████| 12/12 [00:02<00:00,  4.63it/s]\n"
          ]
        },
        {
          "output_type": "stream",
          "name": "stdout",
          "text": [
            "Epoch: 21 -----------------------------------\n",
            "Training loss: 0.3188012997309367\n",
            "precision: 0.15384615384615385 | recall 0.3333333333333333 | f1_score 0.21052631578947367\n",
            "precision: 0.07692307692307693 | recall 0.3103448275862069 | f1_score 0.12328767123287672\n",
            "saving model: 0.12328767123287672 0.21052631578947367 0.11764705882352941 21\n",
            "precision: 0.2777777777777778 | recall 0.7894736842105263 | f1_score 0.410958904109589\n",
            "Train f1 0.410958904109589\n",
            "--------------------------------------------\n"
          ]
        },
        {
          "output_type": "stream",
          "name": "stderr",
          "text": [
            "100%|██████████| 12/12 [00:02<00:00,  4.68it/s]\n"
          ]
        },
        {
          "output_type": "stream",
          "name": "stdout",
          "text": [
            "Epoch: 22 -----------------------------------\n",
            "Training loss: 0.2840976119041443\n",
            "precision: 0.16666666666666666 | recall 0.3333333333333333 | f1_score 0.2222222222222222\n",
            "precision: 0.10784313725490197 | recall 0.3142857142857143 | f1_score 0.16058394160583944\n",
            "saving model: 0.16058394160583944 0.2222222222222222 0.21052631578947367 22\n",
            "precision: 0.40816326530612246 | recall 0.8695652173913043 | f1_score 0.5555555555555556\n",
            "Train f1 0.5555555555555556\n",
            "--------------------------------------------\n"
          ]
        },
        {
          "output_type": "stream",
          "name": "stderr",
          "text": [
            "100%|██████████| 12/12 [00:02<00:00,  4.62it/s]\n"
          ]
        },
        {
          "output_type": "stream",
          "name": "stdout",
          "text": [
            "Epoch: 23 -----------------------------------\n",
            "Training loss: 0.2566977063814799\n",
            "precision: 0.25 | recall 0.5 | f1_score 0.3333333333333333\n",
            "precision: 0.15217391304347827 | recall 0.3684210526315789 | f1_score 0.21538461538461537\n",
            "saving model: 0.21538461538461537 0.3333333333333333 0.2222222222222222 23\n",
            "precision: 0.3673469387755102 | recall 0.782608695652174 | f1_score 0.5\n",
            "Train f1 0.5\n",
            "--------------------------------------------\n"
          ]
        },
        {
          "output_type": "stream",
          "name": "stderr",
          "text": [
            "100%|██████████| 12/12 [00:02<00:00,  4.53it/s]\n"
          ]
        },
        {
          "output_type": "stream",
          "name": "stdout",
          "text": [
            "Epoch: 24 -----------------------------------\n",
            "Training loss: 0.23885459303855897\n",
            "precision: 0.25 | recall 0.5 | f1_score 0.3333333333333333\n",
            "precision: 0.2222222222222222 | recall 0.5641025641025641 | f1_score 0.3188405797101449\n",
            "saving model: 0.3188405797101449 0.3333333333333333 0.3333333333333333 24\n",
            "precision: 0.38461538461538464 | recall 0.8695652173913043 | f1_score 0.5333333333333333\n",
            "Train f1 0.5333333333333333\n",
            "--------------------------------------------\n"
          ]
        },
        {
          "output_type": "stream",
          "name": "stderr",
          "text": [
            "100%|██████████| 12/12 [00:02<00:00,  4.52it/s]\n"
          ]
        },
        {
          "output_type": "stream",
          "name": "stdout",
          "text": [
            "Epoch: 25 -----------------------------------\n",
            "Training loss: 0.19905964235464732\n",
            "precision: 0.4166666666666667 | recall 0.7142857142857143 | f1_score 0.5263157894736842\n",
            "precision: 0.22 | recall 0.5789473684210527 | f1_score 0.3188405797101449\n",
            "saving model: 0.3188405797101449 0.5263157894736842 0.3333333333333333 25\n",
            "precision: 0.4423076923076923 | recall 0.92 | f1_score 0.5974025974025974\n",
            "Train f1 0.5974025974025974\n",
            "holdout eval\n",
            "precision: 0.22 | recall 0.5789473684210527 | f1_score 0.3188405797101449\n",
            "--------------------------------------------\n"
          ]
        },
        {
          "output_type": "stream",
          "name": "stderr",
          "text": [
            "100%|██████████| 12/12 [00:02<00:00,  4.76it/s]\n"
          ]
        },
        {
          "output_type": "stream",
          "name": "stdout",
          "text": [
            "Epoch: 26 -----------------------------------\n",
            "Training loss: 0.17980457444985706\n",
            "precision: 0.3333333333333333 | recall 0.6666666666666666 | f1_score 0.4444444444444444\n",
            "--------------------------------------------\n"
          ]
        },
        {
          "output_type": "stream",
          "name": "stderr",
          "text": [
            "100%|██████████| 12/12 [00:02<00:00,  4.76it/s]\n"
          ]
        },
        {
          "output_type": "stream",
          "name": "stdout",
          "text": [
            "Epoch: 27 -----------------------------------\n",
            "Training loss: 0.1631261497735977\n",
            "precision: 0.3333333333333333 | recall 0.6666666666666666 | f1_score 0.4444444444444444\n",
            "--------------------------------------------\n"
          ]
        },
        {
          "output_type": "stream",
          "name": "stderr",
          "text": [
            "100%|██████████| 12/12 [00:02<00:00,  4.73it/s]\n"
          ]
        },
        {
          "output_type": "stream",
          "name": "stdout",
          "text": [
            "Epoch: 28 -----------------------------------\n",
            "Training loss: 0.14061456422011057\n",
            "precision: 0.5833333333333334 | recall 0.875 | f1_score 0.7000000000000001\n",
            "precision: 0.20175438596491227 | recall 0.6216216216216216 | f1_score 0.304635761589404\n",
            "saving model: 0.304635761589404 0.7000000000000001 0.5263157894736842 28\n",
            "precision: 0.5294117647058824 | recall 0.9642857142857143 | f1_score 0.6835443037974683\n",
            "Train f1 0.6835443037974683\n",
            "--------------------------------------------\n"
          ]
        },
        {
          "output_type": "stream",
          "name": "stderr",
          "text": [
            "100%|██████████| 12/12 [00:02<00:00,  4.58it/s]\n"
          ]
        },
        {
          "output_type": "stream",
          "name": "stdout",
          "text": [
            "Epoch: 29 -----------------------------------\n",
            "Training loss: 0.11241275469462077\n",
            "precision: 0.5833333333333334 | recall 0.7777777777777778 | f1_score 0.6666666666666666\n",
            "--------------------------------------------\n"
          ]
        },
        {
          "output_type": "stream",
          "name": "stderr",
          "text": [
            "100%|██████████| 12/12 [00:02<00:00,  4.74it/s]\n"
          ]
        },
        {
          "output_type": "stream",
          "name": "stdout",
          "text": [
            "Epoch: 30 -----------------------------------\n",
            "Training loss: 0.09722208480040233\n",
            "precision: 0.5833333333333334 | recall 0.875 | f1_score 0.7000000000000001\n",
            "precision: 0.23232323232323232 | recall 0.5476190476190477 | f1_score 0.3262411347517731\n",
            "saving model: 0.3262411347517731 0.7000000000000001 0.7000000000000001 30\n",
            "precision: 0.6458333333333334 | recall 0.96875 | f1_score 0.775\n",
            "Train f1 0.775\n",
            "holdout eval\n",
            "precision: 0.23232323232323232 | recall 0.5476190476190477 | f1_score 0.3262411347517731\n",
            "--------------------------------------------\n"
          ]
        },
        {
          "output_type": "stream",
          "name": "stderr",
          "text": [
            "100%|██████████| 12/12 [00:02<00:00,  4.77it/s]\n"
          ]
        },
        {
          "output_type": "stream",
          "name": "stdout",
          "text": [
            "Epoch: 31 -----------------------------------\n",
            "Training loss: 0.08253426055113475\n",
            "precision: 0.6666666666666666 | recall 0.8888888888888888 | f1_score 0.761904761904762\n",
            "precision: 0.20754716981132076 | recall 0.5789473684210527 | f1_score 0.3055555555555556\n",
            "saving model: 0.3055555555555556 0.761904761904762 0.7000000000000001 31\n",
            "precision: 0.6326530612244898 | recall 0.96875 | f1_score 0.7654320987654322\n",
            "Train f1 0.7654320987654322\n",
            "--------------------------------------------\n"
          ]
        },
        {
          "output_type": "stream",
          "name": "stderr",
          "text": [
            "100%|██████████| 12/12 [00:02<00:00,  4.51it/s]\n"
          ]
        },
        {
          "output_type": "stream",
          "name": "stdout",
          "text": [
            "Epoch: 32 -----------------------------------\n",
            "Training loss: 0.06876621892054875\n",
            "precision: 0.5 | recall 0.6666666666666666 | f1_score 0.5714285714285715\n",
            "--------------------------------------------\n"
          ]
        },
        {
          "output_type": "stream",
          "name": "stderr",
          "text": [
            "100%|██████████| 12/12 [00:02<00:00,  4.76it/s]\n"
          ]
        },
        {
          "output_type": "stream",
          "name": "stdout",
          "text": [
            "Epoch: 33 -----------------------------------\n",
            "Training loss: 0.05579474245508512\n",
            "precision: 0.6666666666666666 | recall 0.8888888888888888 | f1_score 0.761904761904762\n",
            "precision: 0.24210526315789474 | recall 0.5476190476190477 | f1_score 0.3357664233576642\n",
            "saving model: 0.3357664233576642 0.761904761904762 0.761904761904762 33\n",
            "precision: 0.7021276595744681 | recall 1.0 | f1_score 0.825\n",
            "Train f1 0.825\n",
            "--------------------------------------------\n"
          ]
        },
        {
          "output_type": "stream",
          "name": "stderr",
          "text": [
            "100%|██████████| 12/12 [00:02<00:00,  4.60it/s]\n"
          ]
        },
        {
          "output_type": "stream",
          "name": "stdout",
          "text": [
            "Epoch: 34 -----------------------------------\n",
            "Training loss: 0.04573878422379494\n",
            "precision: 0.5833333333333334 | recall 0.875 | f1_score 0.7000000000000001\n",
            "--------------------------------------------\n"
          ]
        },
        {
          "output_type": "stream",
          "name": "stderr",
          "text": [
            "100%|██████████| 12/12 [00:02<00:00,  4.74it/s]\n"
          ]
        },
        {
          "output_type": "stream",
          "name": "stdout",
          "text": [
            "Epoch: 35 -----------------------------------\n",
            "Training loss: 0.043640217185020445\n",
            "precision: 0.5833333333333334 | recall 0.875 | f1_score 0.7000000000000001\n",
            "holdout eval\n",
            "precision: 0.25252525252525254 | recall 0.6097560975609756 | f1_score 0.35714285714285715\n",
            "--------------------------------------------\n"
          ]
        },
        {
          "output_type": "stream",
          "name": "stderr",
          "text": [
            "100%|██████████| 12/12 [00:02<00:00,  4.75it/s]\n"
          ]
        },
        {
          "output_type": "stream",
          "name": "stdout",
          "text": [
            "Epoch: 36 -----------------------------------\n",
            "Training loss: 0.034119201451539995\n",
            "precision: 0.5833333333333334 | recall 0.875 | f1_score 0.7000000000000001\n",
            "--------------------------------------------\n"
          ]
        },
        {
          "output_type": "stream",
          "name": "stderr",
          "text": [
            "100%|██████████| 12/12 [00:02<00:00,  4.73it/s]\n"
          ]
        },
        {
          "output_type": "stream",
          "name": "stdout",
          "text": [
            "Epoch: 37 -----------------------------------\n",
            "Training loss: 0.0256383774181207\n",
            "precision: 0.6666666666666666 | recall 0.8888888888888888 | f1_score 0.761904761904762\n",
            "precision: 0.2808988764044944 | recall 0.5555555555555556 | f1_score 0.373134328358209\n",
            "saving model: 0.373134328358209 0.761904761904762 0.761904761904762 37\n",
            "precision: 0.7727272727272727 | recall 1.0 | f1_score 0.8717948717948718\n",
            "Train f1 0.8717948717948718\n",
            "--------------------------------------------\n"
          ]
        },
        {
          "output_type": "stream",
          "name": "stderr",
          "text": [
            "100%|██████████| 12/12 [00:02<00:00,  4.61it/s]\n"
          ]
        },
        {
          "output_type": "stream",
          "name": "stdout",
          "text": [
            "Epoch: 38 -----------------------------------\n",
            "Training loss: 0.028519221022725104\n",
            "precision: 0.6666666666666666 | recall 0.8888888888888888 | f1_score 0.761904761904762\n",
            "precision: 0.24271844660194175 | recall 0.6578947368421053 | f1_score 0.3546099290780142\n",
            "saving model: 0.3546099290780142 0.761904761904762 0.761904761904762 38\n",
            "precision: 0.7111111111111111 | recall 1.0 | f1_score 0.8311688311688311\n",
            "Train f1 0.8311688311688311\n",
            "--------------------------------------------\n"
          ]
        },
        {
          "output_type": "stream",
          "name": "stderr",
          "text": [
            "100%|██████████| 12/12 [00:02<00:00,  4.51it/s]\n"
          ]
        },
        {
          "output_type": "stream",
          "name": "stdout",
          "text": [
            "Epoch: 39 -----------------------------------\n",
            "Training loss: 0.019282428547739983\n",
            "precision: 0.6666666666666666 | recall 0.8888888888888888 | f1_score 0.761904761904762\n",
            "precision: 0.25925925925925924 | recall 0.717948717948718 | f1_score 0.38095238095238093\n",
            "saving model: 0.38095238095238093 0.761904761904762 0.761904761904762 39\n",
            "precision: 0.6875 | recall 1.0 | f1_score 0.8148148148148148\n",
            "Train f1 0.8148148148148148\n",
            "--------------------------------------------\n"
          ]
        },
        {
          "output_type": "stream",
          "name": "stderr",
          "text": [
            "100%|██████████| 12/12 [00:02<00:00,  4.57it/s]\n"
          ]
        },
        {
          "output_type": "stream",
          "name": "stdout",
          "text": [
            "Epoch: 40 -----------------------------------\n",
            "Training loss: 0.022363702456156414\n",
            "precision: 0.5833333333333334 | recall 0.875 | f1_score 0.7000000000000001\n",
            "holdout eval\n",
            "precision: 0.2708333333333333 | recall 0.6341463414634146 | f1_score 0.37956204379562036\n",
            "--------------------------------------------\n"
          ]
        },
        {
          "output_type": "stream",
          "name": "stderr",
          "text": [
            "100%|██████████| 12/12 [00:02<00:00,  4.73it/s]\n"
          ]
        },
        {
          "output_type": "stream",
          "name": "stdout",
          "text": [
            "Epoch: 41 -----------------------------------\n",
            "Training loss: 0.017640895520647366\n",
            "precision: 0.5 | recall 0.8571428571428571 | f1_score 0.631578947368421\n",
            "--------------------------------------------\n"
          ]
        },
        {
          "output_type": "stream",
          "name": "stderr",
          "text": [
            "100%|██████████| 12/12 [00:02<00:00,  4.74it/s]\n"
          ]
        },
        {
          "output_type": "stream",
          "name": "stdout",
          "text": [
            "Epoch: 42 -----------------------------------\n",
            "Training loss: 0.015248220476011435\n",
            "precision: 0.5 | recall 0.8571428571428571 | f1_score 0.631578947368421\n",
            "--------------------------------------------\n"
          ]
        },
        {
          "output_type": "stream",
          "name": "stderr",
          "text": [
            "100%|██████████| 12/12 [00:02<00:00,  4.74it/s]\n"
          ]
        },
        {
          "output_type": "stream",
          "name": "stdout",
          "text": [
            "Epoch: 43 -----------------------------------\n",
            "Training loss: 0.012790113004545372\n",
            "precision: 0.5 | recall 0.8571428571428571 | f1_score 0.631578947368421\n",
            "--------------------------------------------\n"
          ]
        },
        {
          "output_type": "stream",
          "name": "stderr",
          "text": [
            "100%|██████████| 12/12 [00:02<00:00,  4.74it/s]\n"
          ]
        },
        {
          "output_type": "stream",
          "name": "stdout",
          "text": [
            "Epoch: 44 -----------------------------------\n",
            "Training loss: 0.013600440695881844\n",
            "precision: 0.5833333333333334 | recall 0.875 | f1_score 0.7000000000000001\n",
            "--------------------------------------------\n"
          ]
        },
        {
          "output_type": "stream",
          "name": "stderr",
          "text": [
            "100%|██████████| 12/12 [00:02<00:00,  4.74it/s]\n"
          ]
        },
        {
          "output_type": "stream",
          "name": "stdout",
          "text": [
            "Epoch: 45 -----------------------------------\n",
            "Training loss: 0.011905877571552991\n",
            "precision: 0.5833333333333334 | recall 0.875 | f1_score 0.7000000000000001\n",
            "holdout eval\n",
            "precision: 0.25925925925925924 | recall 0.6666666666666666 | f1_score 0.37333333333333335\n",
            "--------------------------------------------\n"
          ]
        },
        {
          "output_type": "stream",
          "name": "stderr",
          "text": [
            "100%|██████████| 12/12 [00:02<00:00,  4.78it/s]\n"
          ]
        },
        {
          "output_type": "stream",
          "name": "stdout",
          "text": [
            "Epoch: 46 -----------------------------------\n",
            "Training loss: 0.011642556016643843\n",
            "precision: 0.5 | recall 0.8571428571428571 | f1_score 0.631578947368421\n",
            "--------------------------------------------\n"
          ]
        },
        {
          "output_type": "stream",
          "name": "stderr",
          "text": [
            "100%|██████████| 12/12 [00:02<00:00,  4.75it/s]\n"
          ]
        },
        {
          "output_type": "stream",
          "name": "stdout",
          "text": [
            "Epoch: 47 -----------------------------------\n",
            "Training loss: 0.009472529434909423\n",
            "precision: 0.5833333333333334 | recall 0.875 | f1_score 0.7000000000000001\n",
            "--------------------------------------------\n"
          ]
        },
        {
          "output_type": "stream",
          "name": "stderr",
          "text": [
            "100%|██████████| 12/12 [00:02<00:00,  4.72it/s]\n"
          ]
        },
        {
          "output_type": "stream",
          "name": "stdout",
          "text": [
            "Epoch: 48 -----------------------------------\n",
            "Training loss: 0.014465157594531774\n",
            "precision: 0.5833333333333334 | recall 0.875 | f1_score 0.7000000000000001\n",
            "--------------------------------------------\n"
          ]
        },
        {
          "output_type": "stream",
          "name": "stderr",
          "text": [
            "100%|██████████| 12/12 [00:02<00:00,  4.73it/s]\n"
          ]
        },
        {
          "output_type": "stream",
          "name": "stdout",
          "text": [
            "Epoch: 49 -----------------------------------\n",
            "Training loss: 0.008478594105690717\n",
            "precision: 0.5833333333333334 | recall 0.875 | f1_score 0.7000000000000001\n",
            "--------------------------------------------\n"
          ]
        },
        {
          "output_type": "stream",
          "name": "stderr",
          "text": [
            "100%|██████████| 12/12 [00:02<00:00,  4.75it/s]\n"
          ]
        },
        {
          "output_type": "stream",
          "name": "stdout",
          "text": [
            "Epoch: 50 -----------------------------------\n",
            "Training loss: 0.013253624830394984\n",
            "precision: 0.5833333333333334 | recall 0.875 | f1_score 0.7000000000000001\n",
            "holdout eval\n",
            "precision: 0.24778761061946902 | recall 0.717948717948718 | f1_score 0.3684210526315789\n",
            "--------------------------------------------\n"
          ]
        },
        {
          "output_type": "stream",
          "name": "stderr",
          "text": [
            "100%|██████████| 12/12 [00:02<00:00,  4.74it/s]\n"
          ]
        },
        {
          "output_type": "stream",
          "name": "stdout",
          "text": [
            "Epoch: 51 -----------------------------------\n",
            "Training loss: 0.008448502762864034\n",
            "precision: 0.5 | recall 0.8571428571428571 | f1_score 0.631578947368421\n",
            "--------------------------------------------\n"
          ]
        },
        {
          "output_type": "stream",
          "name": "stderr",
          "text": [
            "100%|██████████| 12/12 [00:02<00:00,  4.73it/s]\n"
          ]
        },
        {
          "output_type": "stream",
          "name": "stdout",
          "text": [
            "Epoch: 52 -----------------------------------\n",
            "Training loss: 0.011207734824468692\n",
            "precision: 0.5 | recall 0.8571428571428571 | f1_score 0.631578947368421\n",
            "--------------------------------------------\n"
          ]
        },
        {
          "output_type": "stream",
          "name": "stderr",
          "text": [
            "100%|██████████| 12/12 [00:02<00:00,  4.73it/s]\n"
          ]
        },
        {
          "output_type": "stream",
          "name": "stdout",
          "text": [
            "Epoch: 53 -----------------------------------\n",
            "Training loss: 0.009706287955244383\n",
            "precision: 0.5833333333333334 | recall 0.875 | f1_score 0.7000000000000001\n",
            "--------------------------------------------\n"
          ]
        },
        {
          "output_type": "stream",
          "name": "stderr",
          "text": [
            "100%|██████████| 12/12 [00:02<00:00,  4.71it/s]\n"
          ]
        },
        {
          "output_type": "stream",
          "name": "stdout",
          "text": [
            "Epoch: 54 -----------------------------------\n",
            "Training loss: 0.009733460129549105\n",
            "precision: 0.5 | recall 0.8571428571428571 | f1_score 0.631578947368421\n",
            "--------------------------------------------\n"
          ]
        },
        {
          "output_type": "stream",
          "name": "stderr",
          "text": [
            "100%|██████████| 12/12 [00:02<00:00,  4.74it/s]\n"
          ]
        },
        {
          "output_type": "stream",
          "name": "stdout",
          "text": [
            "Epoch: 55 -----------------------------------\n",
            "Training loss: 0.011651119403541087\n",
            "precision: 0.5 | recall 0.8571428571428571 | f1_score 0.631578947368421\n",
            "holdout eval\n",
            "precision: 0.26732673267326734 | recall 0.6585365853658537 | f1_score 0.38028169014084506\n",
            "--------------------------------------------\n"
          ]
        },
        {
          "output_type": "stream",
          "name": "stderr",
          "text": [
            "100%|██████████| 12/12 [00:02<00:00,  4.72it/s]\n"
          ]
        },
        {
          "output_type": "stream",
          "name": "stdout",
          "text": [
            "Epoch: 56 -----------------------------------\n",
            "Training loss: 0.006390641226122777\n",
            "precision: 0.5833333333333334 | recall 0.875 | f1_score 0.7000000000000001\n",
            "--------------------------------------------\n"
          ]
        },
        {
          "output_type": "stream",
          "name": "stderr",
          "text": [
            "100%|██████████| 12/12 [00:02<00:00,  4.74it/s]\n"
          ]
        },
        {
          "output_type": "stream",
          "name": "stdout",
          "text": [
            "Epoch: 57 -----------------------------------\n",
            "Training loss: 0.0071904214564710855\n",
            "precision: 0.5 | recall 0.8571428571428571 | f1_score 0.631578947368421\n",
            "--------------------------------------------\n"
          ]
        },
        {
          "output_type": "stream",
          "name": "stderr",
          "text": [
            "100%|██████████| 12/12 [00:02<00:00,  4.74it/s]\n"
          ]
        },
        {
          "output_type": "stream",
          "name": "stdout",
          "text": [
            "Epoch: 58 -----------------------------------\n",
            "Training loss: 0.006670284116019805\n",
            "precision: 0.5 | recall 0.8571428571428571 | f1_score 0.631578947368421\n",
            "--------------------------------------------\n"
          ]
        },
        {
          "output_type": "stream",
          "name": "stderr",
          "text": [
            "100%|██████████| 12/12 [00:02<00:00,  4.73it/s]\n"
          ]
        },
        {
          "output_type": "stream",
          "name": "stdout",
          "text": [
            "Epoch: 59 -----------------------------------\n",
            "Training loss: 0.005366739102949699\n",
            "precision: 0.5 | recall 0.8571428571428571 | f1_score 0.631578947368421\n",
            "--------------------------------------------\n"
          ]
        },
        {
          "output_type": "stream",
          "name": "stderr",
          "text": [
            "100%|██████████| 12/12 [00:02<00:00,  4.74it/s]\n"
          ]
        },
        {
          "output_type": "stream",
          "name": "stdout",
          "text": [
            "Epoch: 60 -----------------------------------\n",
            "Training loss: 0.0038634514591346183\n",
            "precision: 0.5833333333333334 | recall 0.875 | f1_score 0.7000000000000001\n",
            "holdout eval\n",
            "precision: 0.2636363636363636 | recall 0.7435897435897436 | f1_score 0.3892617449664429\n",
            "--------------------------------------------\n"
          ]
        },
        {
          "output_type": "stream",
          "name": "stderr",
          "text": [
            "100%|██████████| 12/12 [00:02<00:00,  4.72it/s]\n"
          ]
        },
        {
          "output_type": "stream",
          "name": "stdout",
          "text": [
            "Epoch: 61 -----------------------------------\n",
            "Training loss: 0.0039872735893974704\n",
            "precision: 0.5833333333333334 | recall 0.875 | f1_score 0.7000000000000001\n",
            "--------------------------------------------\n"
          ]
        },
        {
          "output_type": "stream",
          "name": "stderr",
          "text": [
            "100%|██████████| 12/12 [00:02<00:00,  4.74it/s]\n"
          ]
        },
        {
          "output_type": "stream",
          "name": "stdout",
          "text": [
            "Epoch: 62 -----------------------------------\n",
            "Training loss: 0.0027111849747598173\n",
            "precision: 0.6666666666666666 | recall 0.8888888888888888 | f1_score 0.761904761904762\n",
            "precision: 0.2815533980582524 | recall 0.7073170731707317 | f1_score 0.40277777777777773\n",
            "saving model: 0.40277777777777773 0.761904761904762 0.761904761904762 62\n",
            "precision: 0.9069767441860465 | recall 1.0 | f1_score 0.951219512195122\n",
            "Train f1 0.951219512195122\n",
            "--------------------------------------------\n"
          ]
        },
        {
          "output_type": "stream",
          "name": "stderr",
          "text": [
            "100%|██████████| 12/12 [00:02<00:00,  4.58it/s]\n"
          ]
        },
        {
          "output_type": "stream",
          "name": "stdout",
          "text": [
            "Epoch: 63 -----------------------------------\n",
            "Training loss: 0.0052646506577730175\n",
            "precision: 0.6666666666666666 | recall 0.8888888888888888 | f1_score 0.761904761904762\n",
            "precision: 0.2761904761904762 | recall 0.7073170731707317 | f1_score 0.3972602739726027\n",
            "saving model: 0.3972602739726027 0.761904761904762 0.761904761904762 63\n",
            "precision: 0.9069767441860465 | recall 1.0 | f1_score 0.951219512195122\n",
            "Train f1 0.951219512195122\n",
            "--------------------------------------------\n"
          ]
        },
        {
          "output_type": "stream",
          "name": "stderr",
          "text": [
            "100%|██████████| 12/12 [00:02<00:00,  4.52it/s]\n"
          ]
        },
        {
          "output_type": "stream",
          "name": "stdout",
          "text": [
            "Epoch: 64 -----------------------------------\n",
            "Training loss: 0.0033825524461766083\n",
            "precision: 0.6666666666666666 | recall 0.8888888888888888 | f1_score 0.761904761904762\n",
            "precision: 0.2956521739130435 | recall 0.8717948717948718 | f1_score 0.44155844155844154\n",
            "saving model: 0.44155844155844154 0.761904761904762 0.761904761904762 64\n",
            "precision: 0.8863636363636364 | recall 1.0 | f1_score 0.9397590361445783\n",
            "Train f1 0.9397590361445783\n",
            "--------------------------------------------\n"
          ]
        },
        {
          "output_type": "stream",
          "name": "stderr",
          "text": [
            "100%|██████████| 12/12 [00:02<00:00,  4.55it/s]\n"
          ]
        },
        {
          "output_type": "stream",
          "name": "stdout",
          "text": [
            "Epoch: 65 -----------------------------------\n",
            "Training loss: 0.0068240769362698\n",
            "precision: 0.6666666666666666 | recall 0.8888888888888888 | f1_score 0.761904761904762\n",
            "precision: 0.25 | recall 0.6923076923076923 | f1_score 0.3673469387755102\n",
            "saving model: 0.3673469387755102 0.761904761904762 0.761904761904762 65\n",
            "precision: 0.9069767441860465 | recall 1.0 | f1_score 0.951219512195122\n",
            "Train f1 0.951219512195122\n",
            "holdout eval\n",
            "precision: 0.25 | recall 0.6923076923076923 | f1_score 0.3673469387755102\n",
            "--------------------------------------------\n"
          ]
        },
        {
          "output_type": "stream",
          "name": "stderr",
          "text": [
            "100%|██████████| 12/12 [00:02<00:00,  4.74it/s]\n"
          ]
        },
        {
          "output_type": "stream",
          "name": "stdout",
          "text": [
            "Epoch: 66 -----------------------------------\n",
            "Training loss: 0.0031497342822452384\n",
            "precision: 0.6666666666666666 | recall 0.8888888888888888 | f1_score 0.761904761904762\n",
            "precision: 0.24444444444444444 | recall 0.5789473684210527 | f1_score 0.34375\n",
            "saving model: 0.34375 0.761904761904762 0.761904761904762 66\n",
            "precision: 0.9302325581395349 | recall 1.0 | f1_score 0.963855421686747\n",
            "Train f1 0.963855421686747\n",
            "--------------------------------------------\n"
          ]
        },
        {
          "output_type": "stream",
          "name": "stderr",
          "text": [
            "100%|██████████| 12/12 [00:02<00:00,  4.46it/s]\n"
          ]
        },
        {
          "output_type": "stream",
          "name": "stdout",
          "text": [
            "Epoch: 67 -----------------------------------\n",
            "Training loss: 0.0045457882806658745\n",
            "precision: 0.5 | recall 0.8571428571428571 | f1_score 0.631578947368421\n",
            "--------------------------------------------\n"
          ]
        },
        {
          "output_type": "stream",
          "name": "stderr",
          "text": [
            "100%|██████████| 12/12 [00:02<00:00,  4.68it/s]\n"
          ]
        },
        {
          "output_type": "stream",
          "name": "stdout",
          "text": [
            "Epoch: 68 -----------------------------------\n",
            "Training loss: 0.0026630748761817813\n",
            "precision: 0.5833333333333334 | recall 0.875 | f1_score 0.7000000000000001\n",
            "--------------------------------------------\n"
          ]
        },
        {
          "output_type": "stream",
          "name": "stderr",
          "text": [
            "100%|██████████| 12/12 [00:02<00:00,  4.73it/s]\n"
          ]
        },
        {
          "output_type": "stream",
          "name": "stdout",
          "text": [
            "Epoch: 69 -----------------------------------\n",
            "Training loss: 0.0029587655328214167\n",
            "precision: 0.5833333333333334 | recall 0.875 | f1_score 0.7000000000000001\n",
            "--------------------------------------------\n"
          ]
        },
        {
          "output_type": "stream",
          "name": "stderr",
          "text": [
            "100%|██████████| 12/12 [00:02<00:00,  4.72it/s]\n"
          ]
        },
        {
          "output_type": "stream",
          "name": "stdout",
          "text": [
            "Epoch: 70 -----------------------------------\n",
            "Training loss: 0.0019224136834964157\n",
            "precision: 0.5833333333333334 | recall 0.875 | f1_score 0.7000000000000001\n",
            "holdout eval\n",
            "precision: 0.23893805309734514 | recall 0.75 | f1_score 0.3624161073825503\n",
            "--------------------------------------------\n"
          ]
        },
        {
          "output_type": "stream",
          "name": "stderr",
          "text": [
            "100%|██████████| 12/12 [00:02<00:00,  4.72it/s]\n"
          ]
        },
        {
          "output_type": "stream",
          "name": "stdout",
          "text": [
            "Epoch: 71 -----------------------------------\n",
            "Training loss: 0.0021591610197598736\n",
            "precision: 0.5833333333333334 | recall 0.875 | f1_score 0.7000000000000001\n",
            "--------------------------------------------\n"
          ]
        },
        {
          "output_type": "stream",
          "name": "stderr",
          "text": [
            "100%|██████████| 12/12 [00:02<00:00,  4.73it/s]\n"
          ]
        },
        {
          "output_type": "stream",
          "name": "stdout",
          "text": [
            "Epoch: 72 -----------------------------------\n",
            "Training loss: 0.002652749993527929\n",
            "precision: 0.5833333333333334 | recall 0.875 | f1_score 0.7000000000000001\n",
            "--------------------------------------------\n"
          ]
        },
        {
          "output_type": "stream",
          "name": "stderr",
          "text": [
            "100%|██████████| 12/12 [00:02<00:00,  4.73it/s]\n"
          ]
        },
        {
          "output_type": "stream",
          "name": "stdout",
          "text": [
            "Epoch: 73 -----------------------------------\n",
            "Training loss: 0.0021383911992112798\n",
            "precision: 0.5 | recall 0.8571428571428571 | f1_score 0.631578947368421\n",
            "--------------------------------------------\n"
          ]
        },
        {
          "output_type": "stream",
          "name": "stderr",
          "text": [
            "100%|██████████| 12/12 [00:02<00:00,  4.74it/s]\n"
          ]
        },
        {
          "output_type": "stream",
          "name": "stdout",
          "text": [
            "Epoch: 74 -----------------------------------\n",
            "Training loss: 0.0016048315757264695\n",
            "precision: 0.5 | recall 0.8571428571428571 | f1_score 0.631578947368421\n",
            "--------------------------------------------\n"
          ]
        },
        {
          "output_type": "stream",
          "name": "stderr",
          "text": [
            "100%|██████████| 12/12 [00:02<00:00,  4.72it/s]\n"
          ]
        },
        {
          "output_type": "stream",
          "name": "stdout",
          "text": [
            "Epoch: 75 -----------------------------------\n",
            "Training loss: 0.0014650923355172079\n",
            "precision: 0.5 | recall 0.8571428571428571 | f1_score 0.631578947368421\n",
            "holdout eval\n",
            "precision: 0.25471698113207547 | recall 0.75 | f1_score 0.380281690140845\n",
            "--------------------------------------------\n"
          ]
        },
        {
          "output_type": "stream",
          "name": "stderr",
          "text": [
            "100%|██████████| 12/12 [00:02<00:00,  4.75it/s]\n"
          ]
        },
        {
          "output_type": "stream",
          "name": "stdout",
          "text": [
            "Epoch: 76 -----------------------------------\n",
            "Training loss: 0.003089148683163027\n",
            "precision: 0.5 | recall 0.8571428571428571 | f1_score 0.631578947368421\n",
            "--------------------------------------------\n"
          ]
        },
        {
          "output_type": "stream",
          "name": "stderr",
          "text": [
            "100%|██████████| 12/12 [00:02<00:00,  4.73it/s]\n"
          ]
        },
        {
          "output_type": "stream",
          "name": "stdout",
          "text": [
            "Epoch: 77 -----------------------------------\n",
            "Training loss: 0.006983847132263085\n",
            "precision: 0.5833333333333334 | recall 0.875 | f1_score 0.7000000000000001\n",
            "--------------------------------------------\n"
          ]
        },
        {
          "output_type": "stream",
          "name": "stderr",
          "text": [
            "100%|██████████| 12/12 [00:02<00:00,  4.73it/s]\n"
          ]
        },
        {
          "output_type": "stream",
          "name": "stdout",
          "text": [
            "Epoch: 78 -----------------------------------\n",
            "Training loss: 0.0017742381043111286\n",
            "precision: 0.5833333333333334 | recall 0.875 | f1_score 0.7000000000000001\n",
            "--------------------------------------------\n"
          ]
        },
        {
          "output_type": "stream",
          "name": "stderr",
          "text": [
            "100%|██████████| 12/12 [00:02<00:00,  4.72it/s]\n"
          ]
        },
        {
          "output_type": "stream",
          "name": "stdout",
          "text": [
            "Epoch: 79 -----------------------------------\n",
            "Training loss: 0.0017848054024701316\n",
            "precision: 0.5833333333333334 | recall 0.875 | f1_score 0.7000000000000001\n",
            "--------------------------------------------\n"
          ]
        },
        {
          "output_type": "stream",
          "name": "stderr",
          "text": [
            "100%|██████████| 12/12 [00:02<00:00,  4.72it/s]\n"
          ]
        },
        {
          "output_type": "stream",
          "name": "stdout",
          "text": [
            "Epoch: 80 -----------------------------------\n",
            "Training loss: 0.0014768888475373387\n",
            "precision: 0.5 | recall 0.8571428571428571 | f1_score 0.631578947368421\n",
            "holdout eval\n",
            "precision: 0.2524271844660194 | recall 0.6842105263157895 | f1_score 0.36879432624113473\n",
            "--------------------------------------------\n"
          ]
        },
        {
          "output_type": "stream",
          "name": "stderr",
          "text": [
            "100%|██████████| 12/12 [00:02<00:00,  4.72it/s]\n"
          ]
        },
        {
          "output_type": "stream",
          "name": "stdout",
          "text": [
            "Epoch: 81 -----------------------------------\n",
            "Training loss: 0.00129527251701802\n",
            "precision: 0.5 | recall 0.8571428571428571 | f1_score 0.631578947368421\n",
            "--------------------------------------------\n"
          ]
        },
        {
          "output_type": "stream",
          "name": "stderr",
          "text": [
            "100%|██████████| 12/12 [00:02<00:00,  4.71it/s]\n"
          ]
        },
        {
          "output_type": "stream",
          "name": "stdout",
          "text": [
            "Epoch: 82 -----------------------------------\n",
            "Training loss: 0.0017198436427861453\n",
            "precision: 0.5 | recall 0.8571428571428571 | f1_score 0.631578947368421\n",
            "--------------------------------------------\n"
          ]
        },
        {
          "output_type": "stream",
          "name": "stderr",
          "text": [
            "100%|██████████| 12/12 [00:02<00:00,  4.74it/s]\n"
          ]
        },
        {
          "output_type": "stream",
          "name": "stdout",
          "text": [
            "Epoch: 83 -----------------------------------\n",
            "Training loss: 0.0016024085693061353\n",
            "precision: 0.5 | recall 0.8571428571428571 | f1_score 0.631578947368421\n",
            "--------------------------------------------\n"
          ]
        },
        {
          "output_type": "stream",
          "name": "stderr",
          "text": [
            "100%|██████████| 12/12 [00:02<00:00,  4.72it/s]\n"
          ]
        },
        {
          "output_type": "stream",
          "name": "stdout",
          "text": [
            "Epoch: 84 -----------------------------------\n",
            "Training loss: 0.0011620820422346392\n",
            "precision: 0.5 | recall 0.8571428571428571 | f1_score 0.631578947368421\n",
            "--------------------------------------------\n"
          ]
        },
        {
          "output_type": "stream",
          "name": "stderr",
          "text": [
            "100%|██████████| 12/12 [00:02<00:00,  4.71it/s]\n"
          ]
        },
        {
          "output_type": "stream",
          "name": "stdout",
          "text": [
            "Epoch: 85 -----------------------------------\n",
            "Training loss: 0.0019036400558737417\n",
            "precision: 0.5 | recall 0.8571428571428571 | f1_score 0.631578947368421\n",
            "holdout eval\n",
            "precision: 0.25 | recall 0.6153846153846154 | f1_score 0.35555555555555557\n",
            "--------------------------------------------\n"
          ]
        },
        {
          "output_type": "stream",
          "name": "stderr",
          "text": [
            "100%|██████████| 12/12 [00:02<00:00,  4.73it/s]\n"
          ]
        },
        {
          "output_type": "stream",
          "name": "stdout",
          "text": [
            "Epoch: 86 -----------------------------------\n",
            "Training loss: 0.0017051718236568074\n",
            "precision: 0.5 | recall 0.8571428571428571 | f1_score 0.631578947368421\n",
            "--------------------------------------------\n"
          ]
        },
        {
          "output_type": "stream",
          "name": "stderr",
          "text": [
            "100%|██████████| 12/12 [00:02<00:00,  4.73it/s]\n"
          ]
        },
        {
          "output_type": "stream",
          "name": "stdout",
          "text": [
            "Epoch: 87 -----------------------------------\n",
            "Training loss: 0.0014691048534587025\n",
            "precision: 0.5833333333333334 | recall 0.875 | f1_score 0.7000000000000001\n",
            "--------------------------------------------\n"
          ]
        },
        {
          "output_type": "stream",
          "name": "stderr",
          "text": [
            "100%|██████████| 12/12 [00:02<00:00,  4.73it/s]\n"
          ]
        },
        {
          "output_type": "stream",
          "name": "stdout",
          "text": [
            "Epoch: 88 -----------------------------------\n",
            "Training loss: 0.0010092393107091386\n",
            "precision: 0.5833333333333334 | recall 0.875 | f1_score 0.7000000000000001\n",
            "--------------------------------------------\n"
          ]
        },
        {
          "output_type": "stream",
          "name": "stderr",
          "text": [
            "100%|██████████| 12/12 [00:02<00:00,  4.72it/s]\n"
          ]
        },
        {
          "output_type": "stream",
          "name": "stdout",
          "text": [
            "Epoch: 89 -----------------------------------\n",
            "Training loss: 0.0013469981805731854\n",
            "precision: 0.5833333333333334 | recall 0.875 | f1_score 0.7000000000000001\n",
            "--------------------------------------------\n"
          ]
        },
        {
          "output_type": "stream",
          "name": "stderr",
          "text": [
            "100%|██████████| 12/12 [00:02<00:00,  4.72it/s]\n"
          ]
        },
        {
          "output_type": "stream",
          "name": "stdout",
          "text": [
            "Epoch: 90 -----------------------------------\n",
            "Training loss: 0.0011130583433744809\n",
            "precision: 0.6666666666666666 | recall 0.8888888888888888 | f1_score 0.761904761904762\n",
            "precision: 0.26126126126126126 | recall 0.8055555555555556 | f1_score 0.3945578231292517\n",
            "saving model: 0.3945578231292517 0.761904761904762 0.761904761904762 90\n",
            "precision: 0.9069767441860465 | recall 1.0 | f1_score 0.951219512195122\n",
            "Train f1 0.951219512195122\n",
            "holdout eval\n",
            "precision: 0.26126126126126126 | recall 0.8055555555555556 | f1_score 0.3945578231292517\n",
            "--------------------------------------------\n"
          ]
        },
        {
          "output_type": "stream",
          "name": "stderr",
          "text": [
            "100%|██████████| 12/12 [00:02<00:00,  4.74it/s]\n"
          ]
        },
        {
          "output_type": "stream",
          "name": "stdout",
          "text": [
            "Epoch: 91 -----------------------------------\n",
            "Training loss: 0.0041773709313323104\n",
            "precision: 0.5833333333333334 | recall 0.875 | f1_score 0.7000000000000001\n",
            "--------------------------------------------\n"
          ]
        },
        {
          "output_type": "stream",
          "name": "stderr",
          "text": [
            "100%|██████████| 12/12 [00:02<00:00,  4.73it/s]\n"
          ]
        },
        {
          "output_type": "stream",
          "name": "stdout",
          "text": [
            "Epoch: 92 -----------------------------------\n",
            "Training loss: 0.0022871262781942884\n",
            "precision: 0.5 | recall 0.8571428571428571 | f1_score 0.631578947368421\n",
            "--------------------------------------------\n"
          ]
        },
        {
          "output_type": "stream",
          "name": "stderr",
          "text": [
            "100%|██████████| 12/12 [00:02<00:00,  4.74it/s]\n"
          ]
        },
        {
          "output_type": "stream",
          "name": "stdout",
          "text": [
            "Epoch: 93 -----------------------------------\n",
            "Training loss: 0.0011504983102592328\n",
            "precision: 0.5 | recall 0.8571428571428571 | f1_score 0.631578947368421\n",
            "--------------------------------------------\n"
          ]
        },
        {
          "output_type": "stream",
          "name": "stderr",
          "text": [
            "100%|██████████| 12/12 [00:02<00:00,  4.74it/s]\n"
          ]
        },
        {
          "output_type": "stream",
          "name": "stdout",
          "text": [
            "Epoch: 94 -----------------------------------\n",
            "Training loss: 0.0014580678738032777\n",
            "precision: 0.6666666666666666 | recall 0.8888888888888888 | f1_score 0.761904761904762\n",
            "precision: 0.3148148148148148 | recall 0.8717948717948718 | f1_score 0.4625850340136054\n",
            "saving model: 0.4625850340136054 0.761904761904762 0.761904761904762 94\n",
            "precision: 0.9069767441860465 | recall 1.0 | f1_score 0.951219512195122\n",
            "Train f1 0.951219512195122\n",
            "--------------------------------------------\n"
          ]
        },
        {
          "output_type": "stream",
          "name": "stderr",
          "text": [
            "100%|██████████| 12/12 [00:02<00:00,  4.53it/s]\n"
          ]
        },
        {
          "output_type": "stream",
          "name": "stdout",
          "text": [
            "Epoch: 95 -----------------------------------\n",
            "Training loss: 0.0008824229783688983\n",
            "precision: 0.6666666666666666 | recall 0.8888888888888888 | f1_score 0.761904761904762\n",
            "precision: 0.2815533980582524 | recall 0.7435897435897436 | f1_score 0.4084507042253522\n",
            "saving model: 0.4084507042253522 0.761904761904762 0.761904761904762 95\n",
            "precision: 0.9285714285714286 | recall 1.0 | f1_score 0.962962962962963\n",
            "Train f1 0.962962962962963\n",
            "holdout eval\n",
            "precision: 0.2815533980582524 | recall 0.7435897435897436 | f1_score 0.4084507042253522\n",
            "--------------------------------------------\n"
          ]
        },
        {
          "output_type": "stream",
          "name": "stderr",
          "text": [
            "100%|██████████| 12/12 [00:02<00:00,  4.74it/s]\n"
          ]
        },
        {
          "output_type": "stream",
          "name": "stdout",
          "text": [
            "Epoch: 96 -----------------------------------\n",
            "Training loss: 0.0008606170304119587\n",
            "precision: 0.6666666666666666 | recall 0.8888888888888888 | f1_score 0.761904761904762\n",
            "precision: 0.2815533980582524 | recall 0.7435897435897436 | f1_score 0.4084507042253522\n",
            "saving model: 0.4084507042253522 0.761904761904762 0.761904761904762 96\n",
            "precision: 0.9285714285714286 | recall 1.0 | f1_score 0.962962962962963\n",
            "Train f1 0.962962962962963\n",
            "--------------------------------------------\n"
          ]
        },
        {
          "output_type": "stream",
          "name": "stderr",
          "text": [
            "100%|██████████| 12/12 [00:02<00:00,  4.62it/s]\n"
          ]
        },
        {
          "output_type": "stream",
          "name": "stdout",
          "text": [
            "Epoch: 97 -----------------------------------\n",
            "Training loss: 0.0022356394367913407\n",
            "precision: 0.6666666666666666 | recall 0.8888888888888888 | f1_score 0.761904761904762\n",
            "precision: 0.30275229357798167 | recall 0.868421052631579 | f1_score 0.4489795918367347\n",
            "saving model: 0.4489795918367347 0.761904761904762 0.761904761904762 97\n",
            "precision: 0.9069767441860465 | recall 1.0 | f1_score 0.951219512195122\n",
            "Train f1 0.951219512195122\n",
            "--------------------------------------------\n"
          ]
        },
        {
          "output_type": "stream",
          "name": "stderr",
          "text": [
            "100%|██████████| 12/12 [00:02<00:00,  4.56it/s]\n"
          ]
        },
        {
          "output_type": "stream",
          "name": "stdout",
          "text": [
            "Epoch: 98 -----------------------------------\n",
            "Training loss: 0.0030227651353925467\n",
            "precision: 0.6666666666666666 | recall 0.8888888888888888 | f1_score 0.761904761904762\n",
            "precision: 0.2815533980582524 | recall 0.7837837837837838 | f1_score 0.4142857142857143\n",
            "saving model: 0.4142857142857143 0.761904761904762 0.761904761904762 98\n",
            "precision: 0.9069767441860465 | recall 1.0 | f1_score 0.951219512195122\n",
            "Train f1 0.951219512195122\n",
            "--------------------------------------------\n"
          ]
        },
        {
          "output_type": "stream",
          "name": "stderr",
          "text": [
            "100%|██████████| 12/12 [00:02<00:00,  4.55it/s]\n"
          ]
        },
        {
          "output_type": "stream",
          "name": "stdout",
          "text": [
            "Epoch: 99 -----------------------------------\n",
            "Training loss: 0.0007436891008789341\n",
            "precision: 0.6666666666666666 | recall 0.8888888888888888 | f1_score 0.761904761904762\n",
            "precision: 0.27884615384615385 | recall 0.7631578947368421 | f1_score 0.4084507042253521\n",
            "saving model: 0.4084507042253521 0.761904761904762 0.761904761904762 99\n",
            "precision: 0.9069767441860465 | recall 1.0 | f1_score 0.951219512195122\n",
            "Train f1 0.951219512195122\n",
            "--------------------------------------------\n"
          ]
        }
      ]
    },
    {
      "cell_type": "code",
      "metadata": {
        "colab": {
          "base_uri": "https://localhost:8080/"
        },
        "id": "HkwBQyHYcCbg",
        "outputId": "bb19efec-c598-4ab4-b67a-6b3945151117"
      },
      "source": [
        "holdout_f1"
      ],
      "execution_count": null,
      "outputs": [
        {
          "output_type": "execute_result",
          "data": {
            "text/plain": [
              "0.40268456375838924"
            ]
          },
          "metadata": {},
          "execution_count": 23
        }
      ]
    },
    {
      "cell_type": "code",
      "metadata": {
        "colab": {
          "base_uri": "https://localhost:8080/"
        },
        "id": "kYHIlFH7b8L5",
        "outputId": "454cfd10-ea44-45a3-a05a-d357084adb8e"
      },
      "source": [
        "best_model = BartForConditionalGeneration.from_pretrained('facebook/bart-base')\n",
        "best_model.load_state_dict(torch.load(MODEL_PATH))\n",
        "best_model.to(device)"
      ],
      "execution_count": null,
      "outputs": [
        {
          "output_type": "execute_result",
          "data": {
            "text/plain": [
              "BartForConditionalGeneration(\n",
              "  (model): BartModel(\n",
              "    (shared): Embedding(50265, 768, padding_idx=1)\n",
              "    (encoder): BartEncoder(\n",
              "      (embed_tokens): Embedding(50265, 768, padding_idx=1)\n",
              "      (embed_positions): BartLearnedPositionalEmbedding(1026, 768)\n",
              "      (layers): ModuleList(\n",
              "        (0): BartEncoderLayer(\n",
              "          (self_attn): BartAttention(\n",
              "            (k_proj): Linear(in_features=768, out_features=768, bias=True)\n",
              "            (v_proj): Linear(in_features=768, out_features=768, bias=True)\n",
              "            (q_proj): Linear(in_features=768, out_features=768, bias=True)\n",
              "            (out_proj): Linear(in_features=768, out_features=768, bias=True)\n",
              "          )\n",
              "          (self_attn_layer_norm): LayerNorm((768,), eps=1e-05, elementwise_affine=True)\n",
              "          (fc1): Linear(in_features=768, out_features=3072, bias=True)\n",
              "          (fc2): Linear(in_features=3072, out_features=768, bias=True)\n",
              "          (final_layer_norm): LayerNorm((768,), eps=1e-05, elementwise_affine=True)\n",
              "        )\n",
              "        (1): BartEncoderLayer(\n",
              "          (self_attn): BartAttention(\n",
              "            (k_proj): Linear(in_features=768, out_features=768, bias=True)\n",
              "            (v_proj): Linear(in_features=768, out_features=768, bias=True)\n",
              "            (q_proj): Linear(in_features=768, out_features=768, bias=True)\n",
              "            (out_proj): Linear(in_features=768, out_features=768, bias=True)\n",
              "          )\n",
              "          (self_attn_layer_norm): LayerNorm((768,), eps=1e-05, elementwise_affine=True)\n",
              "          (fc1): Linear(in_features=768, out_features=3072, bias=True)\n",
              "          (fc2): Linear(in_features=3072, out_features=768, bias=True)\n",
              "          (final_layer_norm): LayerNorm((768,), eps=1e-05, elementwise_affine=True)\n",
              "        )\n",
              "        (2): BartEncoderLayer(\n",
              "          (self_attn): BartAttention(\n",
              "            (k_proj): Linear(in_features=768, out_features=768, bias=True)\n",
              "            (v_proj): Linear(in_features=768, out_features=768, bias=True)\n",
              "            (q_proj): Linear(in_features=768, out_features=768, bias=True)\n",
              "            (out_proj): Linear(in_features=768, out_features=768, bias=True)\n",
              "          )\n",
              "          (self_attn_layer_norm): LayerNorm((768,), eps=1e-05, elementwise_affine=True)\n",
              "          (fc1): Linear(in_features=768, out_features=3072, bias=True)\n",
              "          (fc2): Linear(in_features=3072, out_features=768, bias=True)\n",
              "          (final_layer_norm): LayerNorm((768,), eps=1e-05, elementwise_affine=True)\n",
              "        )\n",
              "        (3): BartEncoderLayer(\n",
              "          (self_attn): BartAttention(\n",
              "            (k_proj): Linear(in_features=768, out_features=768, bias=True)\n",
              "            (v_proj): Linear(in_features=768, out_features=768, bias=True)\n",
              "            (q_proj): Linear(in_features=768, out_features=768, bias=True)\n",
              "            (out_proj): Linear(in_features=768, out_features=768, bias=True)\n",
              "          )\n",
              "          (self_attn_layer_norm): LayerNorm((768,), eps=1e-05, elementwise_affine=True)\n",
              "          (fc1): Linear(in_features=768, out_features=3072, bias=True)\n",
              "          (fc2): Linear(in_features=3072, out_features=768, bias=True)\n",
              "          (final_layer_norm): LayerNorm((768,), eps=1e-05, elementwise_affine=True)\n",
              "        )\n",
              "        (4): BartEncoderLayer(\n",
              "          (self_attn): BartAttention(\n",
              "            (k_proj): Linear(in_features=768, out_features=768, bias=True)\n",
              "            (v_proj): Linear(in_features=768, out_features=768, bias=True)\n",
              "            (q_proj): Linear(in_features=768, out_features=768, bias=True)\n",
              "            (out_proj): Linear(in_features=768, out_features=768, bias=True)\n",
              "          )\n",
              "          (self_attn_layer_norm): LayerNorm((768,), eps=1e-05, elementwise_affine=True)\n",
              "          (fc1): Linear(in_features=768, out_features=3072, bias=True)\n",
              "          (fc2): Linear(in_features=3072, out_features=768, bias=True)\n",
              "          (final_layer_norm): LayerNorm((768,), eps=1e-05, elementwise_affine=True)\n",
              "        )\n",
              "        (5): BartEncoderLayer(\n",
              "          (self_attn): BartAttention(\n",
              "            (k_proj): Linear(in_features=768, out_features=768, bias=True)\n",
              "            (v_proj): Linear(in_features=768, out_features=768, bias=True)\n",
              "            (q_proj): Linear(in_features=768, out_features=768, bias=True)\n",
              "            (out_proj): Linear(in_features=768, out_features=768, bias=True)\n",
              "          )\n",
              "          (self_attn_layer_norm): LayerNorm((768,), eps=1e-05, elementwise_affine=True)\n",
              "          (fc1): Linear(in_features=768, out_features=3072, bias=True)\n",
              "          (fc2): Linear(in_features=3072, out_features=768, bias=True)\n",
              "          (final_layer_norm): LayerNorm((768,), eps=1e-05, elementwise_affine=True)\n",
              "        )\n",
              "      )\n",
              "      (layernorm_embedding): LayerNorm((768,), eps=1e-05, elementwise_affine=True)\n",
              "    )\n",
              "    (decoder): BartDecoder(\n",
              "      (embed_tokens): Embedding(50265, 768, padding_idx=1)\n",
              "      (embed_positions): BartLearnedPositionalEmbedding(1026, 768)\n",
              "      (layers): ModuleList(\n",
              "        (0): BartDecoderLayer(\n",
              "          (self_attn): BartAttention(\n",
              "            (k_proj): Linear(in_features=768, out_features=768, bias=True)\n",
              "            (v_proj): Linear(in_features=768, out_features=768, bias=True)\n",
              "            (q_proj): Linear(in_features=768, out_features=768, bias=True)\n",
              "            (out_proj): Linear(in_features=768, out_features=768, bias=True)\n",
              "          )\n",
              "          (self_attn_layer_norm): LayerNorm((768,), eps=1e-05, elementwise_affine=True)\n",
              "          (encoder_attn): BartAttention(\n",
              "            (k_proj): Linear(in_features=768, out_features=768, bias=True)\n",
              "            (v_proj): Linear(in_features=768, out_features=768, bias=True)\n",
              "            (q_proj): Linear(in_features=768, out_features=768, bias=True)\n",
              "            (out_proj): Linear(in_features=768, out_features=768, bias=True)\n",
              "          )\n",
              "          (encoder_attn_layer_norm): LayerNorm((768,), eps=1e-05, elementwise_affine=True)\n",
              "          (fc1): Linear(in_features=768, out_features=3072, bias=True)\n",
              "          (fc2): Linear(in_features=3072, out_features=768, bias=True)\n",
              "          (final_layer_norm): LayerNorm((768,), eps=1e-05, elementwise_affine=True)\n",
              "        )\n",
              "        (1): BartDecoderLayer(\n",
              "          (self_attn): BartAttention(\n",
              "            (k_proj): Linear(in_features=768, out_features=768, bias=True)\n",
              "            (v_proj): Linear(in_features=768, out_features=768, bias=True)\n",
              "            (q_proj): Linear(in_features=768, out_features=768, bias=True)\n",
              "            (out_proj): Linear(in_features=768, out_features=768, bias=True)\n",
              "          )\n",
              "          (self_attn_layer_norm): LayerNorm((768,), eps=1e-05, elementwise_affine=True)\n",
              "          (encoder_attn): BartAttention(\n",
              "            (k_proj): Linear(in_features=768, out_features=768, bias=True)\n",
              "            (v_proj): Linear(in_features=768, out_features=768, bias=True)\n",
              "            (q_proj): Linear(in_features=768, out_features=768, bias=True)\n",
              "            (out_proj): Linear(in_features=768, out_features=768, bias=True)\n",
              "          )\n",
              "          (encoder_attn_layer_norm): LayerNorm((768,), eps=1e-05, elementwise_affine=True)\n",
              "          (fc1): Linear(in_features=768, out_features=3072, bias=True)\n",
              "          (fc2): Linear(in_features=3072, out_features=768, bias=True)\n",
              "          (final_layer_norm): LayerNorm((768,), eps=1e-05, elementwise_affine=True)\n",
              "        )\n",
              "        (2): BartDecoderLayer(\n",
              "          (self_attn): BartAttention(\n",
              "            (k_proj): Linear(in_features=768, out_features=768, bias=True)\n",
              "            (v_proj): Linear(in_features=768, out_features=768, bias=True)\n",
              "            (q_proj): Linear(in_features=768, out_features=768, bias=True)\n",
              "            (out_proj): Linear(in_features=768, out_features=768, bias=True)\n",
              "          )\n",
              "          (self_attn_layer_norm): LayerNorm((768,), eps=1e-05, elementwise_affine=True)\n",
              "          (encoder_attn): BartAttention(\n",
              "            (k_proj): Linear(in_features=768, out_features=768, bias=True)\n",
              "            (v_proj): Linear(in_features=768, out_features=768, bias=True)\n",
              "            (q_proj): Linear(in_features=768, out_features=768, bias=True)\n",
              "            (out_proj): Linear(in_features=768, out_features=768, bias=True)\n",
              "          )\n",
              "          (encoder_attn_layer_norm): LayerNorm((768,), eps=1e-05, elementwise_affine=True)\n",
              "          (fc1): Linear(in_features=768, out_features=3072, bias=True)\n",
              "          (fc2): Linear(in_features=3072, out_features=768, bias=True)\n",
              "          (final_layer_norm): LayerNorm((768,), eps=1e-05, elementwise_affine=True)\n",
              "        )\n",
              "        (3): BartDecoderLayer(\n",
              "          (self_attn): BartAttention(\n",
              "            (k_proj): Linear(in_features=768, out_features=768, bias=True)\n",
              "            (v_proj): Linear(in_features=768, out_features=768, bias=True)\n",
              "            (q_proj): Linear(in_features=768, out_features=768, bias=True)\n",
              "            (out_proj): Linear(in_features=768, out_features=768, bias=True)\n",
              "          )\n",
              "          (self_attn_layer_norm): LayerNorm((768,), eps=1e-05, elementwise_affine=True)\n",
              "          (encoder_attn): BartAttention(\n",
              "            (k_proj): Linear(in_features=768, out_features=768, bias=True)\n",
              "            (v_proj): Linear(in_features=768, out_features=768, bias=True)\n",
              "            (q_proj): Linear(in_features=768, out_features=768, bias=True)\n",
              "            (out_proj): Linear(in_features=768, out_features=768, bias=True)\n",
              "          )\n",
              "          (encoder_attn_layer_norm): LayerNorm((768,), eps=1e-05, elementwise_affine=True)\n",
              "          (fc1): Linear(in_features=768, out_features=3072, bias=True)\n",
              "          (fc2): Linear(in_features=3072, out_features=768, bias=True)\n",
              "          (final_layer_norm): LayerNorm((768,), eps=1e-05, elementwise_affine=True)\n",
              "        )\n",
              "        (4): BartDecoderLayer(\n",
              "          (self_attn): BartAttention(\n",
              "            (k_proj): Linear(in_features=768, out_features=768, bias=True)\n",
              "            (v_proj): Linear(in_features=768, out_features=768, bias=True)\n",
              "            (q_proj): Linear(in_features=768, out_features=768, bias=True)\n",
              "            (out_proj): Linear(in_features=768, out_features=768, bias=True)\n",
              "          )\n",
              "          (self_attn_layer_norm): LayerNorm((768,), eps=1e-05, elementwise_affine=True)\n",
              "          (encoder_attn): BartAttention(\n",
              "            (k_proj): Linear(in_features=768, out_features=768, bias=True)\n",
              "            (v_proj): Linear(in_features=768, out_features=768, bias=True)\n",
              "            (q_proj): Linear(in_features=768, out_features=768, bias=True)\n",
              "            (out_proj): Linear(in_features=768, out_features=768, bias=True)\n",
              "          )\n",
              "          (encoder_attn_layer_norm): LayerNorm((768,), eps=1e-05, elementwise_affine=True)\n",
              "          (fc1): Linear(in_features=768, out_features=3072, bias=True)\n",
              "          (fc2): Linear(in_features=3072, out_features=768, bias=True)\n",
              "          (final_layer_norm): LayerNorm((768,), eps=1e-05, elementwise_affine=True)\n",
              "        )\n",
              "        (5): BartDecoderLayer(\n",
              "          (self_attn): BartAttention(\n",
              "            (k_proj): Linear(in_features=768, out_features=768, bias=True)\n",
              "            (v_proj): Linear(in_features=768, out_features=768, bias=True)\n",
              "            (q_proj): Linear(in_features=768, out_features=768, bias=True)\n",
              "            (out_proj): Linear(in_features=768, out_features=768, bias=True)\n",
              "          )\n",
              "          (self_attn_layer_norm): LayerNorm((768,), eps=1e-05, elementwise_affine=True)\n",
              "          (encoder_attn): BartAttention(\n",
              "            (k_proj): Linear(in_features=768, out_features=768, bias=True)\n",
              "            (v_proj): Linear(in_features=768, out_features=768, bias=True)\n",
              "            (q_proj): Linear(in_features=768, out_features=768, bias=True)\n",
              "            (out_proj): Linear(in_features=768, out_features=768, bias=True)\n",
              "          )\n",
              "          (encoder_attn_layer_norm): LayerNorm((768,), eps=1e-05, elementwise_affine=True)\n",
              "          (fc1): Linear(in_features=768, out_features=3072, bias=True)\n",
              "          (fc2): Linear(in_features=3072, out_features=768, bias=True)\n",
              "          (final_layer_norm): LayerNorm((768,), eps=1e-05, elementwise_affine=True)\n",
              "        )\n",
              "      )\n",
              "      (layernorm_embedding): LayerNorm((768,), eps=1e-05, elementwise_affine=True)\n",
              "    )\n",
              "  )\n",
              "  (lm_head): Linear(in_features=768, out_features=50265, bias=False)\n",
              ")"
            ]
          },
          "metadata": {},
          "execution_count": 29
        }
      ]
    },
    {
      "cell_type": "code",
      "metadata": {
        "colab": {
          "base_uri": "https://localhost:8080/"
        },
        "id": "bHyGsr8K6ZXH",
        "outputId": "6d0a222f-cfd2-46e1-d2e7-f8936935688a"
      },
      "source": [
        "get_f1_score_on_test_data(best_model, holdout)"
      ],
      "execution_count": null,
      "outputs": [
        {
          "output_type": "stream",
          "name": "stdout",
          "text": [
            "precision: 0.27884615384615385 | recall 0.7631578947368421 | f1_score 0.4084507042253521\n"
          ]
        },
        {
          "output_type": "execute_result",
          "data": {
            "text/plain": [
              "0.4084507042253521"
            ]
          },
          "metadata": {},
          "execution_count": 30
        }
      ]
    },
    {
      "cell_type": "code",
      "metadata": {
        "colab": {
          "base_uri": "https://localhost:8080/"
        },
        "id": "SNuVgbFkqe64",
        "outputId": "72aa67c8-18a4-4079-9d1e-476934c14f1e"
      },
      "source": [
        "get_f1_score_on_test_data(model, holdout)"
      ],
      "execution_count": null,
      "outputs": [
        {
          "output_type": "stream",
          "name": "stdout",
          "text": [
            "precision: 0.27884615384615385 | recall 0.7631578947368421 | f1_score 0.4084507042253521\n"
          ]
        },
        {
          "output_type": "execute_result",
          "data": {
            "text/plain": [
              "0.4084507042253521"
            ]
          },
          "metadata": {},
          "execution_count": 31
        }
      ]
    },
    {
      "cell_type": "code",
      "metadata": {
        "colab": {
          "base_uri": "https://localhost:8080/"
        },
        "id": "caWGDV3hNVH-",
        "outputId": "0374ecc6-eb28-4ea2-8c74-538407dc974f"
      },
      "source": [
        "get_f1_score_on_test_data(model, train)"
      ],
      "execution_count": null,
      "outputs": [
        {
          "output_type": "stream",
          "name": "stdout",
          "text": [
            "precision: 0.8604651162790697 | recall 1.0 | f1_score 0.9249999999999999\n"
          ]
        },
        {
          "output_type": "execute_result",
          "data": {
            "text/plain": [
              "0.9249999999999999"
            ]
          },
          "metadata": {},
          "execution_count": 27
        }
      ]
    },
    {
      "cell_type": "code",
      "metadata": {
        "colab": {
          "background_save": true
        },
        "id": "9qtpDxcx4iBf",
        "outputId": "bff111e4-a183-4b76-b1a5-9402c568e44c"
      },
      "source": [
        "best_model = None\n",
        "tokenizer = BartTokenizer.from_pretrained('facebook/bart-base')\n",
        "\n",
        "model = BartForConditionalGeneration.from_pretrained('facebook/bart-base')\n",
        "\n",
        "_ = model.to(device)\n",
        "\n",
        "num_epochs = 20\n",
        "learning_rate = 2e-6\n",
        "batch_size = 10\n",
        "criterion = nn.BCEWithLogitsLoss()\n",
        "optimizer = torch.optim.Adam(model.parameters(), lr=learning_rate)\n",
        "#scheduler = StepLR(optimizer, step_size=10, gamma=0.8)\n",
        "\n",
        "num_total_steps = int(train.shape[0] * num_epochs / (batch_size))\n",
        "num_warmup_steps = int(0.1 * num_total_steps)\n",
        "scheduler = transformers.get_cosine_schedule_with_warmup(optimizer,num_warmup_steps=num_warmup_steps, \n",
        "                                                         num_training_steps=num_total_steps)\n",
        "min_f1 = 0\n",
        "holdout_f1 = 0\n",
        "MODEL_PATH = \"b_10_cosine_sched\"\n",
        "for epoch in range(num_epochs):\n",
        "    loss = train_one_batch_and_get_loss(model, train, optimizer, criterion, batch_size=batch_size)\n",
        "    print('Epoch:', epoch , '-' * 35)\n",
        "    print('Training loss:', loss)\n",
        "    f1_val = get_f1_score_on_test_data(model, val)\n",
        "    \n",
        "    if (f1_val >= min_f1) & (f1_val > 0):\n",
        "\n",
        "        f1 = get_f1_score_on_test_data(model, holdout)        \n",
        "        print(\"saving model:\", f1, f1_val,min_f1, epoch)\n",
        "        min_f1 = f1_val\n",
        "        holdout_f1 = f1\n",
        "        torch.save(model.state_dict(), MODEL_PATH)\n",
        "        f1_train = get_f1_score_on_test_data(model, train)\n",
        "        print(\"Train f1\", f1_train)\n",
        "    if epoch % 5 == 0:\n",
        "        print(\"holdout eval\")\n",
        "        f1 = get_f1_score_on_test_data(model, holdout)\n",
        "    best_model = model\n",
        "    print('-' * 44)\n",
        "    sys.stdout.flush()\n",
        "    scheduler.step()"
      ],
      "execution_count": null,
      "outputs": [
        {
          "name": "stderr",
          "output_type": "stream",
          "text": [
            "100%|██████████| 12/12 [00:02<00:00,  4.62it/s]\n",
            "Truncation was not explicitly activated but `max_length` is provided a specific value, please use `truncation=True` to explicitly truncate examples to max length. Defaulting to 'longest_first' truncation strategy. If you encode pairs of sequences (GLUE-style) with the tokenizer you can select this strategy more precisely by providing a specific strategy to `truncation`.\n"
          ]
        },
        {
          "name": "stdout",
          "output_type": "stream",
          "text": [
            "Epoch: 0 -----------------------------------\n",
            "Training loss: 1.0977604866027832\n",
            "precision: 0.0 | recall 0 | f1_score 0\n",
            "holdout eval\n",
            "precision: 0.0 | recall 0 | f1_score 0\n",
            "--------------------------------------------\n"
          ]
        },
        {
          "name": "stderr",
          "output_type": "stream",
          "text": [
            "100%|██████████| 12/12 [00:02<00:00,  4.66it/s]\n"
          ]
        },
        {
          "name": "stdout",
          "output_type": "stream",
          "text": [
            "Epoch: 1 -----------------------------------\n",
            "Training loss: 1.0879191716512044\n",
            "precision: 0.0 | recall 0 | f1_score 0\n",
            "--------------------------------------------\n"
          ]
        },
        {
          "name": "stderr",
          "output_type": "stream",
          "text": [
            "100%|██████████| 12/12 [00:02<00:00,  4.66it/s]\n"
          ]
        },
        {
          "name": "stdout",
          "output_type": "stream",
          "text": [
            "Epoch: 2 -----------------------------------\n",
            "Training loss: 1.0766859531402588\n",
            "precision: 0.0 | recall 0 | f1_score 0\n",
            "--------------------------------------------\n"
          ]
        },
        {
          "name": "stderr",
          "output_type": "stream",
          "text": [
            "100%|██████████| 12/12 [00:02<00:00,  4.66it/s]\n"
          ]
        },
        {
          "name": "stdout",
          "output_type": "stream",
          "text": [
            "Epoch: 3 -----------------------------------\n",
            "Training loss: 1.0570971647898355\n",
            "precision: 0.0 | recall 0 | f1_score 0\n",
            "--------------------------------------------\n"
          ]
        },
        {
          "name": "stderr",
          "output_type": "stream",
          "text": [
            "100%|██████████| 12/12 [00:02<00:00,  4.67it/s]\n"
          ]
        },
        {
          "name": "stdout",
          "output_type": "stream",
          "text": [
            "Epoch: 4 -----------------------------------\n",
            "Training loss: 1.0385773102442424\n",
            "precision: 0.0 | recall 0 | f1_score 0\n",
            "--------------------------------------------\n"
          ]
        },
        {
          "name": "stderr",
          "output_type": "stream",
          "text": [
            "100%|██████████| 12/12 [00:02<00:00,  4.66it/s]\n"
          ]
        },
        {
          "name": "stdout",
          "output_type": "stream",
          "text": [
            "Epoch: 5 -----------------------------------\n",
            "Training loss: 1.0176397641499837\n",
            "precision: 0.0 | recall 0 | f1_score 0\n",
            "holdout eval\n",
            "precision: 0.0 | recall 0 | f1_score 0\n",
            "--------------------------------------------\n"
          ]
        },
        {
          "name": "stderr",
          "output_type": "stream",
          "text": [
            "100%|██████████| 12/12 [00:02<00:00,  4.68it/s]\n"
          ]
        },
        {
          "name": "stdout",
          "output_type": "stream",
          "text": [
            "Epoch: 6 -----------------------------------\n",
            "Training loss: 1.0048548698425293\n",
            "precision: 0.0 | recall 0 | f1_score 0\n",
            "--------------------------------------------\n"
          ]
        },
        {
          "name": "stderr",
          "output_type": "stream",
          "text": [
            "100%|██████████| 12/12 [00:02<00:00,  4.65it/s]\n"
          ]
        },
        {
          "name": "stdout",
          "output_type": "stream",
          "text": [
            "Epoch: 7 -----------------------------------\n",
            "Training loss: 0.9706228892008464\n",
            "precision: 0.0 | recall 0 | f1_score 0\n",
            "--------------------------------------------\n"
          ]
        },
        {
          "name": "stderr",
          "output_type": "stream",
          "text": [
            "100%|██████████| 12/12 [00:02<00:00,  4.66it/s]\n"
          ]
        },
        {
          "name": "stdout",
          "output_type": "stream",
          "text": [
            "Epoch: 8 -----------------------------------\n",
            "Training loss: 0.947837750116984\n",
            "precision: 0.0 | recall 0 | f1_score 0\n",
            "--------------------------------------------\n"
          ]
        },
        {
          "name": "stderr",
          "output_type": "stream",
          "text": [
            "100%|██████████| 12/12 [00:02<00:00,  4.66it/s]\n"
          ]
        },
        {
          "name": "stdout",
          "output_type": "stream",
          "text": [
            "Epoch: 9 -----------------------------------\n",
            "Training loss: 0.9087039748827617\n",
            "precision: 0.0 | recall 0 | f1_score 0\n",
            "--------------------------------------------\n"
          ]
        },
        {
          "name": "stderr",
          "output_type": "stream",
          "text": [
            "100%|██████████| 12/12 [00:02<00:00,  4.66it/s]\n"
          ]
        },
        {
          "name": "stdout",
          "output_type": "stream",
          "text": [
            "Epoch: 10 -----------------------------------\n",
            "Training loss: 0.8975285212198894\n",
            "precision: 0.0 | recall 0 | f1_score 0\n",
            "holdout eval\n",
            "precision: 0.0 | recall 0 | f1_score 0\n",
            "--------------------------------------------\n"
          ]
        },
        {
          "name": "stderr",
          "output_type": "stream",
          "text": [
            "100%|██████████| 12/12 [00:02<00:00,  4.67it/s]\n"
          ]
        },
        {
          "name": "stdout",
          "output_type": "stream",
          "text": [
            "Epoch: 11 -----------------------------------\n",
            "Training loss: 0.8721409837404887\n",
            "precision: 0.0 | recall 0 | f1_score 0\n",
            "--------------------------------------------\n"
          ]
        },
        {
          "name": "stderr",
          "output_type": "stream",
          "text": [
            "100%|██████████| 12/12 [00:02<00:00,  4.67it/s]\n"
          ]
        },
        {
          "name": "stdout",
          "output_type": "stream",
          "text": [
            "Epoch: 12 -----------------------------------\n",
            "Training loss: 0.859918491045634\n",
            "precision: 0.0 | recall 0.0 | f1_score 0\n",
            "--------------------------------------------\n"
          ]
        },
        {
          "name": "stderr",
          "output_type": "stream",
          "text": [
            "100%|██████████| 12/12 [00:02<00:00,  4.65it/s]\n"
          ]
        },
        {
          "name": "stdout",
          "output_type": "stream",
          "text": [
            "Epoch: 13 -----------------------------------\n",
            "Training loss: 0.8399180928866069\n",
            "precision: 0.0 | recall 0.0 | f1_score 0\n",
            "--------------------------------------------\n"
          ]
        },
        {
          "name": "stderr",
          "output_type": "stream",
          "text": [
            "100%|██████████| 12/12 [00:02<00:00,  4.65it/s]\n"
          ]
        },
        {
          "name": "stdout",
          "output_type": "stream",
          "text": [
            "Epoch: 14 -----------------------------------\n",
            "Training loss: 0.8193857669830322\n",
            "precision: 0.0 | recall 0.0 | f1_score 0\n",
            "--------------------------------------------\n"
          ]
        },
        {
          "name": "stderr",
          "output_type": "stream",
          "text": [
            "100%|██████████| 12/12 [00:02<00:00,  4.65it/s]\n"
          ]
        },
        {
          "name": "stdout",
          "output_type": "stream",
          "text": [
            "Epoch: 15 -----------------------------------\n",
            "Training loss: 0.8127769947052002\n",
            "precision: 0.0 | recall 0.0 | f1_score 0\n",
            "holdout eval\n",
            "precision: 0.0 | recall 0.0 | f1_score 0\n",
            "--------------------------------------------\n"
          ]
        },
        {
          "name": "stderr",
          "output_type": "stream",
          "text": [
            "100%|██████████| 12/12 [00:02<00:00,  4.68it/s]\n"
          ]
        },
        {
          "name": "stdout",
          "output_type": "stream",
          "text": [
            "Epoch: 16 -----------------------------------\n",
            "Training loss: 0.8109825690587361\n",
            "precision: 0.0 | recall 0.0 | f1_score 0\n",
            "--------------------------------------------\n"
          ]
        },
        {
          "name": "stderr",
          "output_type": "stream",
          "text": [
            "100%|██████████| 12/12 [00:02<00:00,  4.64it/s]\n"
          ]
        },
        {
          "name": "stdout",
          "output_type": "stream",
          "text": [
            "Epoch: 17 -----------------------------------\n",
            "Training loss: 0.7906840761502584\n",
            "precision: 0.0 | recall 0.0 | f1_score 0\n",
            "--------------------------------------------\n"
          ]
        },
        {
          "name": "stderr",
          "output_type": "stream",
          "text": [
            "100%|██████████| 12/12 [00:02<00:00,  4.67it/s]\n"
          ]
        },
        {
          "name": "stdout",
          "output_type": "stream",
          "text": [
            "Epoch: 18 -----------------------------------\n",
            "Training loss: 0.7845533808072408\n",
            "precision: 0.0 | recall 0.0 | f1_score 0\n",
            "--------------------------------------------\n"
          ]
        },
        {
          "name": "stderr",
          "output_type": "stream",
          "text": [
            "100%|██████████| 12/12 [00:02<00:00,  4.68it/s]\n"
          ]
        },
        {
          "name": "stdout",
          "output_type": "stream",
          "text": [
            "Epoch: 19 -----------------------------------\n",
            "Training loss: 0.7756455818812052\n",
            "precision: 0.0 | recall 0.0 | f1_score 0\n",
            "--------------------------------------------\n"
          ]
        }
      ]
    },
    {
      "cell_type": "code",
      "metadata": {
        "colab": {
          "base_uri": "https://localhost:8080/",
          "height": 424
        },
        "id": "vv55Q95WQfVz",
        "outputId": "3bbc1672-2765-44d4-be05-84acf3281c75"
      },
      "source": [
        "model.eval()\n",
        "holdout[\"preds\"] = holdout[\"sentence\"].apply(lambda x: generate_outputs(model, x))\n",
        "\n",
        "holdout"
      ],
      "execution_count": null,
      "outputs": [
        {
          "data": {
            "text/html": [
              "<div>\n",
              "<style scoped>\n",
              "    .dataframe tbody tr th:only-of-type {\n",
              "        vertical-align: middle;\n",
              "    }\n",
              "\n",
              "    .dataframe tbody tr th {\n",
              "        vertical-align: top;\n",
              "    }\n",
              "\n",
              "    .dataframe thead th {\n",
              "        text-align: right;\n",
              "    }\n",
              "</style>\n",
              "<table border=\"1\" class=\"dataframe\">\n",
              "  <thead>\n",
              "    <tr style=\"text-align: right;\">\n",
              "      <th style=\"min-width: {};\"></th>\n",
              "      <th style=\"min-width: {};\">sentence</th>\n",
              "      <th style=\"min-width: {};\">restaurant_name</th>\n",
              "      <th style=\"min-width: {};\">preds</th>\n",
              "    </tr>\n",
              "  </thead>\n",
              "  <tbody>\n",
              "    <tr>\n",
              "      <th>0</th>\n",
              "      <td>find pizza places</td>\n",
              "      <td></td>\n",
              "      <td></td>\n",
              "    </tr>\n",
              "    <tr>\n",
              "      <th>1</th>\n",
              "      <td>find me the best rated chinese restaurant in t...</td>\n",
              "      <td></td>\n",
              "      <td>chinese restaurant</td>\n",
              "    </tr>\n",
              "    <tr>\n",
              "      <th>2</th>\n",
              "      <td>what kind of food does abc cafe serve</td>\n",
              "      <td>abc cafe</td>\n",
              "      <td>abc cafe</td>\n",
              "    </tr>\n",
              "    <tr>\n",
              "      <th>3</th>\n",
              "      <td>how far away is the nearest steak house</td>\n",
              "      <td></td>\n",
              "      <td></td>\n",
              "    </tr>\n",
              "    <tr>\n",
              "      <th>4</th>\n",
              "      <td>i am looking for a mexican restuarant that has...</td>\n",
              "      <td></td>\n",
              "      <td></td>\n",
              "    </tr>\n",
              "    <tr>\n",
              "      <th>...</th>\n",
              "      <td>...</td>\n",
              "      <td>...</td>\n",
              "      <td>...</td>\n",
              "    </tr>\n",
              "    <tr>\n",
              "      <th>145</th>\n",
              "      <td>find me brazilian food with on location parking</td>\n",
              "      <td></td>\n",
              "      <td></td>\n",
              "    </tr>\n",
              "    <tr>\n",
              "      <th>146</th>\n",
              "      <td>get me to a mexican place</td>\n",
              "      <td></td>\n",
              "      <td></td>\n",
              "    </tr>\n",
              "    <tr>\n",
              "      <th>147</th>\n",
              "      <td>how far am i from the nearest bagel shop</td>\n",
              "      <td></td>\n",
              "      <td>bagel shop</td>\n",
              "    </tr>\n",
              "    <tr>\n",
              "      <th>148</th>\n",
              "      <td>what time does sonic open</td>\n",
              "      <td>sonic</td>\n",
              "      <td></td>\n",
              "    </tr>\n",
              "    <tr>\n",
              "      <th>149</th>\n",
              "      <td>give me a list of restaurants that have seafoo...</td>\n",
              "      <td></td>\n",
              "      <td></td>\n",
              "    </tr>\n",
              "  </tbody>\n",
              "</table>\n",
              "<p>150 rows × 3 columns</p>\n",
              "</div>"
            ],
            "text/plain": [
              "                                              sentence  ...               preds\n",
              "0                                    find pizza places  ...                    \n",
              "1    find me the best rated chinese restaurant in t...  ...  chinese restaurant\n",
              "2                what kind of food does abc cafe serve  ...            abc cafe\n",
              "3              how far away is the nearest steak house  ...                    \n",
              "4    i am looking for a mexican restuarant that has...  ...                    \n",
              "..                                                 ...  ...                 ...\n",
              "145    find me brazilian food with on location parking  ...                    \n",
              "146                          get me to a mexican place  ...                    \n",
              "147           how far am i from the nearest bagel shop  ...          bagel shop\n",
              "148                          what time does sonic open  ...                    \n",
              "149  give me a list of restaurants that have seafoo...  ...                    \n",
              "\n",
              "[150 rows x 3 columns]"
            ]
          },
          "execution_count": 52,
          "metadata": {},
          "output_type": "execute_result"
        }
      ]
    },
    {
      "cell_type": "code",
      "metadata": {
        "id": "JtG86waKYHf5"
      },
      "source": [
        "def generate_outputs(model, sentence):\n",
        "    inputs = tokenizer([sentence], max_length=1024, return_tensors='pt')\n",
        "    output_ids = model.generate(inputs['input_ids'].to(device), num_beams=4)\n",
        "    #print(output_ids, sentence)\n",
        "    output = tokenizer.decode(output_ids[0], skip_special_tokens=True, clean_up_tokenization_spaces=False).strip()\n",
        "\n",
        "    if output in sentence:\n",
        "        return output\n",
        "    else:\n",
        "        return \"\""
      ],
      "execution_count": null,
      "outputs": []
    },
    {
      "cell_type": "code",
      "metadata": {
        "colab": {
          "base_uri": "https://localhost:8080/"
        },
        "id": "D_oFMNNlZTPH",
        "outputId": "3581a2a9-0143-4109-b261-955a8a212894"
      },
      "source": [
        "get_f1_score_on_test_data(model, holdout)"
      ],
      "execution_count": null,
      "outputs": [
        {
          "name": "stdout",
          "output_type": "stream",
          "text": [
            "precision: 0.30337078651685395 | recall 0.6136363636363636 | f1_score 0.406015037593985\n"
          ]
        },
        {
          "data": {
            "text/plain": [
              "0.406015037593985"
            ]
          },
          "execution_count": 61,
          "metadata": {},
          "output_type": "execute_result"
        }
      ]
    },
    {
      "cell_type": "code",
      "metadata": {
        "colab": {
          "base_uri": "https://localhost:8080/",
          "height": 424
        },
        "id": "bzIvorKiYIhm",
        "outputId": "9df4a8bd-05f2-4ab6-d3bf-2fde5632ac2a"
      },
      "source": [
        "holdout[\"preds2\"] = holdout[\"sentence\"].apply(lambda x: generate_outputs(model, x))\n",
        "\n",
        "holdout"
      ],
      "execution_count": null,
      "outputs": [
        {
          "data": {
            "text/html": [
              "<div>\n",
              "<style scoped>\n",
              "    .dataframe tbody tr th:only-of-type {\n",
              "        vertical-align: middle;\n",
              "    }\n",
              "\n",
              "    .dataframe tbody tr th {\n",
              "        vertical-align: top;\n",
              "    }\n",
              "\n",
              "    .dataframe thead th {\n",
              "        text-align: right;\n",
              "    }\n",
              "</style>\n",
              "<table border=\"1\" class=\"dataframe\">\n",
              "  <thead>\n",
              "    <tr style=\"text-align: right;\">\n",
              "      <th style=\"min-width: {};\"></th>\n",
              "      <th style=\"min-width: {};\">sentence</th>\n",
              "      <th style=\"min-width: {};\">restaurant_name</th>\n",
              "      <th style=\"min-width: {};\">preds</th>\n",
              "      <th style=\"min-width: {};\">preds2</th>\n",
              "    </tr>\n",
              "  </thead>\n",
              "  <tbody>\n",
              "    <tr>\n",
              "      <th>0</th>\n",
              "      <td>find pizza places</td>\n",
              "      <td></td>\n",
              "      <td></td>\n",
              "      <td></td>\n",
              "    </tr>\n",
              "    <tr>\n",
              "      <th>1</th>\n",
              "      <td>find me the best rated chinese restaurant in t...</td>\n",
              "      <td></td>\n",
              "      <td>chinese restaurant</td>\n",
              "      <td>chinese restaurant</td>\n",
              "    </tr>\n",
              "    <tr>\n",
              "      <th>2</th>\n",
              "      <td>what kind of food does abc cafe serve</td>\n",
              "      <td>abc cafe</td>\n",
              "      <td>abc cafe</td>\n",
              "      <td>abc cafe</td>\n",
              "    </tr>\n",
              "    <tr>\n",
              "      <th>3</th>\n",
              "      <td>how far away is the nearest steak house</td>\n",
              "      <td></td>\n",
              "      <td></td>\n",
              "      <td></td>\n",
              "    </tr>\n",
              "    <tr>\n",
              "      <th>4</th>\n",
              "      <td>i am looking for a mexican restuarant that has...</td>\n",
              "      <td></td>\n",
              "      <td></td>\n",
              "      <td></td>\n",
              "    </tr>\n",
              "    <tr>\n",
              "      <th>...</th>\n",
              "      <td>...</td>\n",
              "      <td>...</td>\n",
              "      <td>...</td>\n",
              "      <td>...</td>\n",
              "    </tr>\n",
              "    <tr>\n",
              "      <th>145</th>\n",
              "      <td>find me brazilian food with on location parking</td>\n",
              "      <td></td>\n",
              "      <td></td>\n",
              "      <td></td>\n",
              "    </tr>\n",
              "    <tr>\n",
              "      <th>146</th>\n",
              "      <td>get me to a mexican place</td>\n",
              "      <td></td>\n",
              "      <td></td>\n",
              "      <td></td>\n",
              "    </tr>\n",
              "    <tr>\n",
              "      <th>147</th>\n",
              "      <td>how far am i from the nearest bagel shop</td>\n",
              "      <td></td>\n",
              "      <td>bagel shop</td>\n",
              "      <td>bagel shop</td>\n",
              "    </tr>\n",
              "    <tr>\n",
              "      <th>148</th>\n",
              "      <td>what time does sonic open</td>\n",
              "      <td>sonic</td>\n",
              "      <td></td>\n",
              "      <td></td>\n",
              "    </tr>\n",
              "    <tr>\n",
              "      <th>149</th>\n",
              "      <td>give me a list of restaurants that have seafoo...</td>\n",
              "      <td></td>\n",
              "      <td></td>\n",
              "      <td></td>\n",
              "    </tr>\n",
              "  </tbody>\n",
              "</table>\n",
              "<p>150 rows × 4 columns</p>\n",
              "</div>"
            ],
            "text/plain": [
              "                                              sentence  ...              preds2\n",
              "0                                    find pizza places  ...                    \n",
              "1    find me the best rated chinese restaurant in t...  ...  chinese restaurant\n",
              "2                what kind of food does abc cafe serve  ...            abc cafe\n",
              "3              how far away is the nearest steak house  ...                    \n",
              "4    i am looking for a mexican restuarant that has...  ...                    \n",
              "..                                                 ...  ...                 ...\n",
              "145    find me brazilian food with on location parking  ...                    \n",
              "146                          get me to a mexican place  ...                    \n",
              "147           how far am i from the nearest bagel shop  ...          bagel shop\n",
              "148                          what time does sonic open  ...                    \n",
              "149  give me a list of restaurants that have seafoo...  ...                    \n",
              "\n",
              "[150 rows x 4 columns]"
            ]
          },
          "execution_count": 54,
          "metadata": {},
          "output_type": "execute_result"
        }
      ]
    },
    {
      "cell_type": "code",
      "metadata": {
        "id": "zDFr8PfUTZUo"
      },
      "source": [
        "holdout.to_excel(\"rest_hold_preds_batchsize10_20epochs.xlsx\", index=False)"
      ],
      "execution_count": null,
      "outputs": []
    },
    {
      "cell_type": "code",
      "metadata": {
        "colab": {
          "base_uri": "https://localhost:8080/"
        },
        "id": "yGlGhdpk6x9D",
        "outputId": "010af4b7-a497-4c91-cde0-6fd0873d606d"
      },
      "source": [
        "num = 0\n",
        "print('input:', holdout.sentence[num])\n",
        "print('expected:', holdout.restaurant_name[num])\n",
        "print('predicted:', generate_outputs(best_model, holdout.sentence[num]))"
      ],
      "execution_count": null,
      "outputs": [
        {
          "name": "stdout",
          "output_type": "stream",
          "text": [
            "input: find pizza places\n",
            "expected: \n",
            "predicted: \n"
          ]
        }
      ]
    }
  ]
}