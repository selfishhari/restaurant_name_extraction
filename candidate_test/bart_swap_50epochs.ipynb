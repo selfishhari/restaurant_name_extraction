{
  "nbformat": 4,
  "nbformat_minor": 0,
  "metadata": {
    "colab": {
      "name": "bart_swap_50epochs.ipynb",
      "provenance": []
    },
    "kernelspec": {
      "name": "python3",
      "display_name": "Python 3"
    },
    "language_info": {
      "name": "python"
    },
    "widgets": {
      "application/vnd.jupyter.widget-state+json": {
        "3564397542b44a84b63b9fad0ef98106": {
          "model_module": "@jupyter-widgets/controls",
          "model_name": "HBoxModel",
          "model_module_version": "1.5.0",
          "state": {
            "_view_name": "HBoxView",
            "_dom_classes": [],
            "_model_name": "HBoxModel",
            "_view_module": "@jupyter-widgets/controls",
            "_model_module_version": "1.5.0",
            "_view_count": null,
            "_view_module_version": "1.5.0",
            "box_style": "",
            "layout": "IPY_MODEL_3d15c87b80cd4516b86fc2dd2e2e7849",
            "_model_module": "@jupyter-widgets/controls",
            "children": [
              "IPY_MODEL_6f2fc0faa00b4fc0bc3c79741e019266",
              "IPY_MODEL_49921b22a8154ff49deee6072994686c",
              "IPY_MODEL_9bb3890667bb4b8da0c539cb0f0eddf9"
            ]
          }
        },
        "3d15c87b80cd4516b86fc2dd2e2e7849": {
          "model_module": "@jupyter-widgets/base",
          "model_name": "LayoutModel",
          "model_module_version": "1.2.0",
          "state": {
            "_view_name": "LayoutView",
            "grid_template_rows": null,
            "right": null,
            "justify_content": null,
            "_view_module": "@jupyter-widgets/base",
            "overflow": null,
            "_model_module_version": "1.2.0",
            "_view_count": null,
            "flex_flow": null,
            "width": null,
            "min_width": null,
            "border": null,
            "align_items": null,
            "bottom": null,
            "_model_module": "@jupyter-widgets/base",
            "top": null,
            "grid_column": null,
            "overflow_y": null,
            "overflow_x": null,
            "grid_auto_flow": null,
            "grid_area": null,
            "grid_template_columns": null,
            "flex": null,
            "_model_name": "LayoutModel",
            "justify_items": null,
            "grid_row": null,
            "max_height": null,
            "align_content": null,
            "visibility": null,
            "align_self": null,
            "height": null,
            "min_height": null,
            "padding": null,
            "grid_auto_rows": null,
            "grid_gap": null,
            "max_width": null,
            "order": null,
            "_view_module_version": "1.2.0",
            "grid_template_areas": null,
            "object_position": null,
            "object_fit": null,
            "grid_auto_columns": null,
            "margin": null,
            "display": null,
            "left": null
          }
        },
        "6f2fc0faa00b4fc0bc3c79741e019266": {
          "model_module": "@jupyter-widgets/controls",
          "model_name": "HTMLModel",
          "model_module_version": "1.5.0",
          "state": {
            "_view_name": "HTMLView",
            "style": "IPY_MODEL_5aff1a5fad7f4d62994c55848f1094a3",
            "_dom_classes": [],
            "description": "",
            "_model_name": "HTMLModel",
            "placeholder": "​",
            "_view_module": "@jupyter-widgets/controls",
            "_model_module_version": "1.5.0",
            "value": "Downloading: 100%",
            "_view_count": null,
            "_view_module_version": "1.5.0",
            "description_tooltip": null,
            "_model_module": "@jupyter-widgets/controls",
            "layout": "IPY_MODEL_773ffeb7985647038b3e3a61b6a63983"
          }
        },
        "49921b22a8154ff49deee6072994686c": {
          "model_module": "@jupyter-widgets/controls",
          "model_name": "FloatProgressModel",
          "model_module_version": "1.5.0",
          "state": {
            "_view_name": "ProgressView",
            "style": "IPY_MODEL_7f71043bff6b448e9daa769c385e617d",
            "_dom_classes": [],
            "description": "",
            "_model_name": "FloatProgressModel",
            "bar_style": "success",
            "max": 898823,
            "_view_module": "@jupyter-widgets/controls",
            "_model_module_version": "1.5.0",
            "value": 898823,
            "_view_count": null,
            "_view_module_version": "1.5.0",
            "orientation": "horizontal",
            "min": 0,
            "description_tooltip": null,
            "_model_module": "@jupyter-widgets/controls",
            "layout": "IPY_MODEL_2252d81ce14342f886f2aed7b90fbfba"
          }
        },
        "9bb3890667bb4b8da0c539cb0f0eddf9": {
          "model_module": "@jupyter-widgets/controls",
          "model_name": "HTMLModel",
          "model_module_version": "1.5.0",
          "state": {
            "_view_name": "HTMLView",
            "style": "IPY_MODEL_6236a46e611846e582cf437df35cbcc0",
            "_dom_classes": [],
            "description": "",
            "_model_name": "HTMLModel",
            "placeholder": "​",
            "_view_module": "@jupyter-widgets/controls",
            "_model_module_version": "1.5.0",
            "value": " 899k/899k [00:00&lt;00:00, 1.05MB/s]",
            "_view_count": null,
            "_view_module_version": "1.5.0",
            "description_tooltip": null,
            "_model_module": "@jupyter-widgets/controls",
            "layout": "IPY_MODEL_e24e6d81243f4753a892cc57c50c294c"
          }
        },
        "5aff1a5fad7f4d62994c55848f1094a3": {
          "model_module": "@jupyter-widgets/controls",
          "model_name": "DescriptionStyleModel",
          "model_module_version": "1.5.0",
          "state": {
            "_view_name": "StyleView",
            "_model_name": "DescriptionStyleModel",
            "description_width": "",
            "_view_module": "@jupyter-widgets/base",
            "_model_module_version": "1.5.0",
            "_view_count": null,
            "_view_module_version": "1.2.0",
            "_model_module": "@jupyter-widgets/controls"
          }
        },
        "773ffeb7985647038b3e3a61b6a63983": {
          "model_module": "@jupyter-widgets/base",
          "model_name": "LayoutModel",
          "model_module_version": "1.2.0",
          "state": {
            "_view_name": "LayoutView",
            "grid_template_rows": null,
            "right": null,
            "justify_content": null,
            "_view_module": "@jupyter-widgets/base",
            "overflow": null,
            "_model_module_version": "1.2.0",
            "_view_count": null,
            "flex_flow": null,
            "width": null,
            "min_width": null,
            "border": null,
            "align_items": null,
            "bottom": null,
            "_model_module": "@jupyter-widgets/base",
            "top": null,
            "grid_column": null,
            "overflow_y": null,
            "overflow_x": null,
            "grid_auto_flow": null,
            "grid_area": null,
            "grid_template_columns": null,
            "flex": null,
            "_model_name": "LayoutModel",
            "justify_items": null,
            "grid_row": null,
            "max_height": null,
            "align_content": null,
            "visibility": null,
            "align_self": null,
            "height": null,
            "min_height": null,
            "padding": null,
            "grid_auto_rows": null,
            "grid_gap": null,
            "max_width": null,
            "order": null,
            "_view_module_version": "1.2.0",
            "grid_template_areas": null,
            "object_position": null,
            "object_fit": null,
            "grid_auto_columns": null,
            "margin": null,
            "display": null,
            "left": null
          }
        },
        "7f71043bff6b448e9daa769c385e617d": {
          "model_module": "@jupyter-widgets/controls",
          "model_name": "ProgressStyleModel",
          "model_module_version": "1.5.0",
          "state": {
            "_view_name": "StyleView",
            "_model_name": "ProgressStyleModel",
            "description_width": "",
            "_view_module": "@jupyter-widgets/base",
            "_model_module_version": "1.5.0",
            "_view_count": null,
            "_view_module_version": "1.2.0",
            "bar_color": null,
            "_model_module": "@jupyter-widgets/controls"
          }
        },
        "2252d81ce14342f886f2aed7b90fbfba": {
          "model_module": "@jupyter-widgets/base",
          "model_name": "LayoutModel",
          "model_module_version": "1.2.0",
          "state": {
            "_view_name": "LayoutView",
            "grid_template_rows": null,
            "right": null,
            "justify_content": null,
            "_view_module": "@jupyter-widgets/base",
            "overflow": null,
            "_model_module_version": "1.2.0",
            "_view_count": null,
            "flex_flow": null,
            "width": null,
            "min_width": null,
            "border": null,
            "align_items": null,
            "bottom": null,
            "_model_module": "@jupyter-widgets/base",
            "top": null,
            "grid_column": null,
            "overflow_y": null,
            "overflow_x": null,
            "grid_auto_flow": null,
            "grid_area": null,
            "grid_template_columns": null,
            "flex": null,
            "_model_name": "LayoutModel",
            "justify_items": null,
            "grid_row": null,
            "max_height": null,
            "align_content": null,
            "visibility": null,
            "align_self": null,
            "height": null,
            "min_height": null,
            "padding": null,
            "grid_auto_rows": null,
            "grid_gap": null,
            "max_width": null,
            "order": null,
            "_view_module_version": "1.2.0",
            "grid_template_areas": null,
            "object_position": null,
            "object_fit": null,
            "grid_auto_columns": null,
            "margin": null,
            "display": null,
            "left": null
          }
        },
        "6236a46e611846e582cf437df35cbcc0": {
          "model_module": "@jupyter-widgets/controls",
          "model_name": "DescriptionStyleModel",
          "model_module_version": "1.5.0",
          "state": {
            "_view_name": "StyleView",
            "_model_name": "DescriptionStyleModel",
            "description_width": "",
            "_view_module": "@jupyter-widgets/base",
            "_model_module_version": "1.5.0",
            "_view_count": null,
            "_view_module_version": "1.2.0",
            "_model_module": "@jupyter-widgets/controls"
          }
        },
        "e24e6d81243f4753a892cc57c50c294c": {
          "model_module": "@jupyter-widgets/base",
          "model_name": "LayoutModel",
          "model_module_version": "1.2.0",
          "state": {
            "_view_name": "LayoutView",
            "grid_template_rows": null,
            "right": null,
            "justify_content": null,
            "_view_module": "@jupyter-widgets/base",
            "overflow": null,
            "_model_module_version": "1.2.0",
            "_view_count": null,
            "flex_flow": null,
            "width": null,
            "min_width": null,
            "border": null,
            "align_items": null,
            "bottom": null,
            "_model_module": "@jupyter-widgets/base",
            "top": null,
            "grid_column": null,
            "overflow_y": null,
            "overflow_x": null,
            "grid_auto_flow": null,
            "grid_area": null,
            "grid_template_columns": null,
            "flex": null,
            "_model_name": "LayoutModel",
            "justify_items": null,
            "grid_row": null,
            "max_height": null,
            "align_content": null,
            "visibility": null,
            "align_self": null,
            "height": null,
            "min_height": null,
            "padding": null,
            "grid_auto_rows": null,
            "grid_gap": null,
            "max_width": null,
            "order": null,
            "_view_module_version": "1.2.0",
            "grid_template_areas": null,
            "object_position": null,
            "object_fit": null,
            "grid_auto_columns": null,
            "margin": null,
            "display": null,
            "left": null
          }
        },
        "f0f67fb755634b17bec8e5df2dbc48e1": {
          "model_module": "@jupyter-widgets/controls",
          "model_name": "HBoxModel",
          "model_module_version": "1.5.0",
          "state": {
            "_view_name": "HBoxView",
            "_dom_classes": [],
            "_model_name": "HBoxModel",
            "_view_module": "@jupyter-widgets/controls",
            "_model_module_version": "1.5.0",
            "_view_count": null,
            "_view_module_version": "1.5.0",
            "box_style": "",
            "layout": "IPY_MODEL_4087db1514204ac7b0a359fc32766a1b",
            "_model_module": "@jupyter-widgets/controls",
            "children": [
              "IPY_MODEL_5fb693a7887f4dcc8ce7a079bcb853c2",
              "IPY_MODEL_40a0ed44852042baa3e9c83277965ef4",
              "IPY_MODEL_8dc487ad61c84d1c93b9676012447a0f"
            ]
          }
        },
        "4087db1514204ac7b0a359fc32766a1b": {
          "model_module": "@jupyter-widgets/base",
          "model_name": "LayoutModel",
          "model_module_version": "1.2.0",
          "state": {
            "_view_name": "LayoutView",
            "grid_template_rows": null,
            "right": null,
            "justify_content": null,
            "_view_module": "@jupyter-widgets/base",
            "overflow": null,
            "_model_module_version": "1.2.0",
            "_view_count": null,
            "flex_flow": null,
            "width": null,
            "min_width": null,
            "border": null,
            "align_items": null,
            "bottom": null,
            "_model_module": "@jupyter-widgets/base",
            "top": null,
            "grid_column": null,
            "overflow_y": null,
            "overflow_x": null,
            "grid_auto_flow": null,
            "grid_area": null,
            "grid_template_columns": null,
            "flex": null,
            "_model_name": "LayoutModel",
            "justify_items": null,
            "grid_row": null,
            "max_height": null,
            "align_content": null,
            "visibility": null,
            "align_self": null,
            "height": null,
            "min_height": null,
            "padding": null,
            "grid_auto_rows": null,
            "grid_gap": null,
            "max_width": null,
            "order": null,
            "_view_module_version": "1.2.0",
            "grid_template_areas": null,
            "object_position": null,
            "object_fit": null,
            "grid_auto_columns": null,
            "margin": null,
            "display": null,
            "left": null
          }
        },
        "5fb693a7887f4dcc8ce7a079bcb853c2": {
          "model_module": "@jupyter-widgets/controls",
          "model_name": "HTMLModel",
          "model_module_version": "1.5.0",
          "state": {
            "_view_name": "HTMLView",
            "style": "IPY_MODEL_4c97e9821852444b87963cadbda3bba2",
            "_dom_classes": [],
            "description": "",
            "_model_name": "HTMLModel",
            "placeholder": "​",
            "_view_module": "@jupyter-widgets/controls",
            "_model_module_version": "1.5.0",
            "value": "Downloading: 100%",
            "_view_count": null,
            "_view_module_version": "1.5.0",
            "description_tooltip": null,
            "_model_module": "@jupyter-widgets/controls",
            "layout": "IPY_MODEL_aa343b6df2984b8ebb252e76f04d19fb"
          }
        },
        "40a0ed44852042baa3e9c83277965ef4": {
          "model_module": "@jupyter-widgets/controls",
          "model_name": "FloatProgressModel",
          "model_module_version": "1.5.0",
          "state": {
            "_view_name": "ProgressView",
            "style": "IPY_MODEL_994fffad6fb448b19b931f380c1b7c88",
            "_dom_classes": [],
            "description": "",
            "_model_name": "FloatProgressModel",
            "bar_style": "success",
            "max": 456318,
            "_view_module": "@jupyter-widgets/controls",
            "_model_module_version": "1.5.0",
            "value": 456318,
            "_view_count": null,
            "_view_module_version": "1.5.0",
            "orientation": "horizontal",
            "min": 0,
            "description_tooltip": null,
            "_model_module": "@jupyter-widgets/controls",
            "layout": "IPY_MODEL_d12a006e46454144b096f5cb3b5ffbfa"
          }
        },
        "8dc487ad61c84d1c93b9676012447a0f": {
          "model_module": "@jupyter-widgets/controls",
          "model_name": "HTMLModel",
          "model_module_version": "1.5.0",
          "state": {
            "_view_name": "HTMLView",
            "style": "IPY_MODEL_e799162ee4bb41af88f7efef0ea05444",
            "_dom_classes": [],
            "description": "",
            "_model_name": "HTMLModel",
            "placeholder": "​",
            "_view_module": "@jupyter-widgets/controls",
            "_model_module_version": "1.5.0",
            "value": " 456k/456k [00:00&lt;00:00, 1.39MB/s]",
            "_view_count": null,
            "_view_module_version": "1.5.0",
            "description_tooltip": null,
            "_model_module": "@jupyter-widgets/controls",
            "layout": "IPY_MODEL_3361e2ac9a0c4a78a0582e630bb7ac76"
          }
        },
        "4c97e9821852444b87963cadbda3bba2": {
          "model_module": "@jupyter-widgets/controls",
          "model_name": "DescriptionStyleModel",
          "model_module_version": "1.5.0",
          "state": {
            "_view_name": "StyleView",
            "_model_name": "DescriptionStyleModel",
            "description_width": "",
            "_view_module": "@jupyter-widgets/base",
            "_model_module_version": "1.5.0",
            "_view_count": null,
            "_view_module_version": "1.2.0",
            "_model_module": "@jupyter-widgets/controls"
          }
        },
        "aa343b6df2984b8ebb252e76f04d19fb": {
          "model_module": "@jupyter-widgets/base",
          "model_name": "LayoutModel",
          "model_module_version": "1.2.0",
          "state": {
            "_view_name": "LayoutView",
            "grid_template_rows": null,
            "right": null,
            "justify_content": null,
            "_view_module": "@jupyter-widgets/base",
            "overflow": null,
            "_model_module_version": "1.2.0",
            "_view_count": null,
            "flex_flow": null,
            "width": null,
            "min_width": null,
            "border": null,
            "align_items": null,
            "bottom": null,
            "_model_module": "@jupyter-widgets/base",
            "top": null,
            "grid_column": null,
            "overflow_y": null,
            "overflow_x": null,
            "grid_auto_flow": null,
            "grid_area": null,
            "grid_template_columns": null,
            "flex": null,
            "_model_name": "LayoutModel",
            "justify_items": null,
            "grid_row": null,
            "max_height": null,
            "align_content": null,
            "visibility": null,
            "align_self": null,
            "height": null,
            "min_height": null,
            "padding": null,
            "grid_auto_rows": null,
            "grid_gap": null,
            "max_width": null,
            "order": null,
            "_view_module_version": "1.2.0",
            "grid_template_areas": null,
            "object_position": null,
            "object_fit": null,
            "grid_auto_columns": null,
            "margin": null,
            "display": null,
            "left": null
          }
        },
        "994fffad6fb448b19b931f380c1b7c88": {
          "model_module": "@jupyter-widgets/controls",
          "model_name": "ProgressStyleModel",
          "model_module_version": "1.5.0",
          "state": {
            "_view_name": "StyleView",
            "_model_name": "ProgressStyleModel",
            "description_width": "",
            "_view_module": "@jupyter-widgets/base",
            "_model_module_version": "1.5.0",
            "_view_count": null,
            "_view_module_version": "1.2.0",
            "bar_color": null,
            "_model_module": "@jupyter-widgets/controls"
          }
        },
        "d12a006e46454144b096f5cb3b5ffbfa": {
          "model_module": "@jupyter-widgets/base",
          "model_name": "LayoutModel",
          "model_module_version": "1.2.0",
          "state": {
            "_view_name": "LayoutView",
            "grid_template_rows": null,
            "right": null,
            "justify_content": null,
            "_view_module": "@jupyter-widgets/base",
            "overflow": null,
            "_model_module_version": "1.2.0",
            "_view_count": null,
            "flex_flow": null,
            "width": null,
            "min_width": null,
            "border": null,
            "align_items": null,
            "bottom": null,
            "_model_module": "@jupyter-widgets/base",
            "top": null,
            "grid_column": null,
            "overflow_y": null,
            "overflow_x": null,
            "grid_auto_flow": null,
            "grid_area": null,
            "grid_template_columns": null,
            "flex": null,
            "_model_name": "LayoutModel",
            "justify_items": null,
            "grid_row": null,
            "max_height": null,
            "align_content": null,
            "visibility": null,
            "align_self": null,
            "height": null,
            "min_height": null,
            "padding": null,
            "grid_auto_rows": null,
            "grid_gap": null,
            "max_width": null,
            "order": null,
            "_view_module_version": "1.2.0",
            "grid_template_areas": null,
            "object_position": null,
            "object_fit": null,
            "grid_auto_columns": null,
            "margin": null,
            "display": null,
            "left": null
          }
        },
        "e799162ee4bb41af88f7efef0ea05444": {
          "model_module": "@jupyter-widgets/controls",
          "model_name": "DescriptionStyleModel",
          "model_module_version": "1.5.0",
          "state": {
            "_view_name": "StyleView",
            "_model_name": "DescriptionStyleModel",
            "description_width": "",
            "_view_module": "@jupyter-widgets/base",
            "_model_module_version": "1.5.0",
            "_view_count": null,
            "_view_module_version": "1.2.0",
            "_model_module": "@jupyter-widgets/controls"
          }
        },
        "3361e2ac9a0c4a78a0582e630bb7ac76": {
          "model_module": "@jupyter-widgets/base",
          "model_name": "LayoutModel",
          "model_module_version": "1.2.0",
          "state": {
            "_view_name": "LayoutView",
            "grid_template_rows": null,
            "right": null,
            "justify_content": null,
            "_view_module": "@jupyter-widgets/base",
            "overflow": null,
            "_model_module_version": "1.2.0",
            "_view_count": null,
            "flex_flow": null,
            "width": null,
            "min_width": null,
            "border": null,
            "align_items": null,
            "bottom": null,
            "_model_module": "@jupyter-widgets/base",
            "top": null,
            "grid_column": null,
            "overflow_y": null,
            "overflow_x": null,
            "grid_auto_flow": null,
            "grid_area": null,
            "grid_template_columns": null,
            "flex": null,
            "_model_name": "LayoutModel",
            "justify_items": null,
            "grid_row": null,
            "max_height": null,
            "align_content": null,
            "visibility": null,
            "align_self": null,
            "height": null,
            "min_height": null,
            "padding": null,
            "grid_auto_rows": null,
            "grid_gap": null,
            "max_width": null,
            "order": null,
            "_view_module_version": "1.2.0",
            "grid_template_areas": null,
            "object_position": null,
            "object_fit": null,
            "grid_auto_columns": null,
            "margin": null,
            "display": null,
            "left": null
          }
        },
        "55ffd024be4b47128ca349c40206be8b": {
          "model_module": "@jupyter-widgets/controls",
          "model_name": "HBoxModel",
          "model_module_version": "1.5.0",
          "state": {
            "_view_name": "HBoxView",
            "_dom_classes": [],
            "_model_name": "HBoxModel",
            "_view_module": "@jupyter-widgets/controls",
            "_model_module_version": "1.5.0",
            "_view_count": null,
            "_view_module_version": "1.5.0",
            "box_style": "",
            "layout": "IPY_MODEL_f0fa41a037604104a1e4a87fa1e27bae",
            "_model_module": "@jupyter-widgets/controls",
            "children": [
              "IPY_MODEL_552d0aeb1c61485c980a25d9fc1f21ab",
              "IPY_MODEL_50c57cf6860149418b035b6ce052d134",
              "IPY_MODEL_c268a420c3104687b2f6f9a3dcfd6158"
            ]
          }
        },
        "f0fa41a037604104a1e4a87fa1e27bae": {
          "model_module": "@jupyter-widgets/base",
          "model_name": "LayoutModel",
          "model_module_version": "1.2.0",
          "state": {
            "_view_name": "LayoutView",
            "grid_template_rows": null,
            "right": null,
            "justify_content": null,
            "_view_module": "@jupyter-widgets/base",
            "overflow": null,
            "_model_module_version": "1.2.0",
            "_view_count": null,
            "flex_flow": null,
            "width": null,
            "min_width": null,
            "border": null,
            "align_items": null,
            "bottom": null,
            "_model_module": "@jupyter-widgets/base",
            "top": null,
            "grid_column": null,
            "overflow_y": null,
            "overflow_x": null,
            "grid_auto_flow": null,
            "grid_area": null,
            "grid_template_columns": null,
            "flex": null,
            "_model_name": "LayoutModel",
            "justify_items": null,
            "grid_row": null,
            "max_height": null,
            "align_content": null,
            "visibility": null,
            "align_self": null,
            "height": null,
            "min_height": null,
            "padding": null,
            "grid_auto_rows": null,
            "grid_gap": null,
            "max_width": null,
            "order": null,
            "_view_module_version": "1.2.0",
            "grid_template_areas": null,
            "object_position": null,
            "object_fit": null,
            "grid_auto_columns": null,
            "margin": null,
            "display": null,
            "left": null
          }
        },
        "552d0aeb1c61485c980a25d9fc1f21ab": {
          "model_module": "@jupyter-widgets/controls",
          "model_name": "HTMLModel",
          "model_module_version": "1.5.0",
          "state": {
            "_view_name": "HTMLView",
            "style": "IPY_MODEL_8ab363abc77c4e7dae96ad455a8b5023",
            "_dom_classes": [],
            "description": "",
            "_model_name": "HTMLModel",
            "placeholder": "​",
            "_view_module": "@jupyter-widgets/controls",
            "_model_module_version": "1.5.0",
            "value": "Downloading: 100%",
            "_view_count": null,
            "_view_module_version": "1.5.0",
            "description_tooltip": null,
            "_model_module": "@jupyter-widgets/controls",
            "layout": "IPY_MODEL_628fc1da4c5d4d88ac6fc1409cae3929"
          }
        },
        "50c57cf6860149418b035b6ce052d134": {
          "model_module": "@jupyter-widgets/controls",
          "model_name": "FloatProgressModel",
          "model_module_version": "1.5.0",
          "state": {
            "_view_name": "ProgressView",
            "style": "IPY_MODEL_44d28f84590948dd8859114e94bc1051",
            "_dom_classes": [],
            "description": "",
            "_model_name": "FloatProgressModel",
            "bar_style": "success",
            "max": 1355863,
            "_view_module": "@jupyter-widgets/controls",
            "_model_module_version": "1.5.0",
            "value": 1355863,
            "_view_count": null,
            "_view_module_version": "1.5.0",
            "orientation": "horizontal",
            "min": 0,
            "description_tooltip": null,
            "_model_module": "@jupyter-widgets/controls",
            "layout": "IPY_MODEL_e0fd2b990f7b48e6aaa5241d23ddc94f"
          }
        },
        "c268a420c3104687b2f6f9a3dcfd6158": {
          "model_module": "@jupyter-widgets/controls",
          "model_name": "HTMLModel",
          "model_module_version": "1.5.0",
          "state": {
            "_view_name": "HTMLView",
            "style": "IPY_MODEL_62eb86cc3b83444c9584abcb82171e32",
            "_dom_classes": [],
            "description": "",
            "_model_name": "HTMLModel",
            "placeholder": "​",
            "_view_module": "@jupyter-widgets/controls",
            "_model_module_version": "1.5.0",
            "value": " 1.36M/1.36M [00:00&lt;00:00, 1.38MB/s]",
            "_view_count": null,
            "_view_module_version": "1.5.0",
            "description_tooltip": null,
            "_model_module": "@jupyter-widgets/controls",
            "layout": "IPY_MODEL_5769b9bb3bd3488f8c12fd6d962eebe5"
          }
        },
        "8ab363abc77c4e7dae96ad455a8b5023": {
          "model_module": "@jupyter-widgets/controls",
          "model_name": "DescriptionStyleModel",
          "model_module_version": "1.5.0",
          "state": {
            "_view_name": "StyleView",
            "_model_name": "DescriptionStyleModel",
            "description_width": "",
            "_view_module": "@jupyter-widgets/base",
            "_model_module_version": "1.5.0",
            "_view_count": null,
            "_view_module_version": "1.2.0",
            "_model_module": "@jupyter-widgets/controls"
          }
        },
        "628fc1da4c5d4d88ac6fc1409cae3929": {
          "model_module": "@jupyter-widgets/base",
          "model_name": "LayoutModel",
          "model_module_version": "1.2.0",
          "state": {
            "_view_name": "LayoutView",
            "grid_template_rows": null,
            "right": null,
            "justify_content": null,
            "_view_module": "@jupyter-widgets/base",
            "overflow": null,
            "_model_module_version": "1.2.0",
            "_view_count": null,
            "flex_flow": null,
            "width": null,
            "min_width": null,
            "border": null,
            "align_items": null,
            "bottom": null,
            "_model_module": "@jupyter-widgets/base",
            "top": null,
            "grid_column": null,
            "overflow_y": null,
            "overflow_x": null,
            "grid_auto_flow": null,
            "grid_area": null,
            "grid_template_columns": null,
            "flex": null,
            "_model_name": "LayoutModel",
            "justify_items": null,
            "grid_row": null,
            "max_height": null,
            "align_content": null,
            "visibility": null,
            "align_self": null,
            "height": null,
            "min_height": null,
            "padding": null,
            "grid_auto_rows": null,
            "grid_gap": null,
            "max_width": null,
            "order": null,
            "_view_module_version": "1.2.0",
            "grid_template_areas": null,
            "object_position": null,
            "object_fit": null,
            "grid_auto_columns": null,
            "margin": null,
            "display": null,
            "left": null
          }
        },
        "44d28f84590948dd8859114e94bc1051": {
          "model_module": "@jupyter-widgets/controls",
          "model_name": "ProgressStyleModel",
          "model_module_version": "1.5.0",
          "state": {
            "_view_name": "StyleView",
            "_model_name": "ProgressStyleModel",
            "description_width": "",
            "_view_module": "@jupyter-widgets/base",
            "_model_module_version": "1.5.0",
            "_view_count": null,
            "_view_module_version": "1.2.0",
            "bar_color": null,
            "_model_module": "@jupyter-widgets/controls"
          }
        },
        "e0fd2b990f7b48e6aaa5241d23ddc94f": {
          "model_module": "@jupyter-widgets/base",
          "model_name": "LayoutModel",
          "model_module_version": "1.2.0",
          "state": {
            "_view_name": "LayoutView",
            "grid_template_rows": null,
            "right": null,
            "justify_content": null,
            "_view_module": "@jupyter-widgets/base",
            "overflow": null,
            "_model_module_version": "1.2.0",
            "_view_count": null,
            "flex_flow": null,
            "width": null,
            "min_width": null,
            "border": null,
            "align_items": null,
            "bottom": null,
            "_model_module": "@jupyter-widgets/base",
            "top": null,
            "grid_column": null,
            "overflow_y": null,
            "overflow_x": null,
            "grid_auto_flow": null,
            "grid_area": null,
            "grid_template_columns": null,
            "flex": null,
            "_model_name": "LayoutModel",
            "justify_items": null,
            "grid_row": null,
            "max_height": null,
            "align_content": null,
            "visibility": null,
            "align_self": null,
            "height": null,
            "min_height": null,
            "padding": null,
            "grid_auto_rows": null,
            "grid_gap": null,
            "max_width": null,
            "order": null,
            "_view_module_version": "1.2.0",
            "grid_template_areas": null,
            "object_position": null,
            "object_fit": null,
            "grid_auto_columns": null,
            "margin": null,
            "display": null,
            "left": null
          }
        },
        "62eb86cc3b83444c9584abcb82171e32": {
          "model_module": "@jupyter-widgets/controls",
          "model_name": "DescriptionStyleModel",
          "model_module_version": "1.5.0",
          "state": {
            "_view_name": "StyleView",
            "_model_name": "DescriptionStyleModel",
            "description_width": "",
            "_view_module": "@jupyter-widgets/base",
            "_model_module_version": "1.5.0",
            "_view_count": null,
            "_view_module_version": "1.2.0",
            "_model_module": "@jupyter-widgets/controls"
          }
        },
        "5769b9bb3bd3488f8c12fd6d962eebe5": {
          "model_module": "@jupyter-widgets/base",
          "model_name": "LayoutModel",
          "model_module_version": "1.2.0",
          "state": {
            "_view_name": "LayoutView",
            "grid_template_rows": null,
            "right": null,
            "justify_content": null,
            "_view_module": "@jupyter-widgets/base",
            "overflow": null,
            "_model_module_version": "1.2.0",
            "_view_count": null,
            "flex_flow": null,
            "width": null,
            "min_width": null,
            "border": null,
            "align_items": null,
            "bottom": null,
            "_model_module": "@jupyter-widgets/base",
            "top": null,
            "grid_column": null,
            "overflow_y": null,
            "overflow_x": null,
            "grid_auto_flow": null,
            "grid_area": null,
            "grid_template_columns": null,
            "flex": null,
            "_model_name": "LayoutModel",
            "justify_items": null,
            "grid_row": null,
            "max_height": null,
            "align_content": null,
            "visibility": null,
            "align_self": null,
            "height": null,
            "min_height": null,
            "padding": null,
            "grid_auto_rows": null,
            "grid_gap": null,
            "max_width": null,
            "order": null,
            "_view_module_version": "1.2.0",
            "grid_template_areas": null,
            "object_position": null,
            "object_fit": null,
            "grid_auto_columns": null,
            "margin": null,
            "display": null,
            "left": null
          }
        },
        "fe190b81706c4af6a05d3ae937db27f1": {
          "model_module": "@jupyter-widgets/controls",
          "model_name": "HBoxModel",
          "model_module_version": "1.5.0",
          "state": {
            "_view_name": "HBoxView",
            "_dom_classes": [],
            "_model_name": "HBoxModel",
            "_view_module": "@jupyter-widgets/controls",
            "_model_module_version": "1.5.0",
            "_view_count": null,
            "_view_module_version": "1.5.0",
            "box_style": "",
            "layout": "IPY_MODEL_5d97eaf69b0b424c8a57a65d1f0fa3ed",
            "_model_module": "@jupyter-widgets/controls",
            "children": [
              "IPY_MODEL_ee1d045ee8fe498fa15b6e7c2826caab",
              "IPY_MODEL_dccb5274119748418cec95a7343f9abd",
              "IPY_MODEL_66b4f9a70aba4811a8bcade7e5d6c133"
            ]
          }
        },
        "5d97eaf69b0b424c8a57a65d1f0fa3ed": {
          "model_module": "@jupyter-widgets/base",
          "model_name": "LayoutModel",
          "model_module_version": "1.2.0",
          "state": {
            "_view_name": "LayoutView",
            "grid_template_rows": null,
            "right": null,
            "justify_content": null,
            "_view_module": "@jupyter-widgets/base",
            "overflow": null,
            "_model_module_version": "1.2.0",
            "_view_count": null,
            "flex_flow": null,
            "width": null,
            "min_width": null,
            "border": null,
            "align_items": null,
            "bottom": null,
            "_model_module": "@jupyter-widgets/base",
            "top": null,
            "grid_column": null,
            "overflow_y": null,
            "overflow_x": null,
            "grid_auto_flow": null,
            "grid_area": null,
            "grid_template_columns": null,
            "flex": null,
            "_model_name": "LayoutModel",
            "justify_items": null,
            "grid_row": null,
            "max_height": null,
            "align_content": null,
            "visibility": null,
            "align_self": null,
            "height": null,
            "min_height": null,
            "padding": null,
            "grid_auto_rows": null,
            "grid_gap": null,
            "max_width": null,
            "order": null,
            "_view_module_version": "1.2.0",
            "grid_template_areas": null,
            "object_position": null,
            "object_fit": null,
            "grid_auto_columns": null,
            "margin": null,
            "display": null,
            "left": null
          }
        },
        "ee1d045ee8fe498fa15b6e7c2826caab": {
          "model_module": "@jupyter-widgets/controls",
          "model_name": "HTMLModel",
          "model_module_version": "1.5.0",
          "state": {
            "_view_name": "HTMLView",
            "style": "IPY_MODEL_cae0857718764de6809559a4d01eb791",
            "_dom_classes": [],
            "description": "",
            "_model_name": "HTMLModel",
            "placeholder": "​",
            "_view_module": "@jupyter-widgets/controls",
            "_model_module_version": "1.5.0",
            "value": "Downloading: 100%",
            "_view_count": null,
            "_view_module_version": "1.5.0",
            "description_tooltip": null,
            "_model_module": "@jupyter-widgets/controls",
            "layout": "IPY_MODEL_8234717a1310442985d761228bb3b19c"
          }
        },
        "dccb5274119748418cec95a7343f9abd": {
          "model_module": "@jupyter-widgets/controls",
          "model_name": "FloatProgressModel",
          "model_module_version": "1.5.0",
          "state": {
            "_view_name": "ProgressView",
            "style": "IPY_MODEL_07b1e4fbcacb46d38e0313033f499f4f",
            "_dom_classes": [],
            "description": "",
            "_model_name": "FloatProgressModel",
            "bar_style": "success",
            "max": 1627,
            "_view_module": "@jupyter-widgets/controls",
            "_model_module_version": "1.5.0",
            "value": 1627,
            "_view_count": null,
            "_view_module_version": "1.5.0",
            "orientation": "horizontal",
            "min": 0,
            "description_tooltip": null,
            "_model_module": "@jupyter-widgets/controls",
            "layout": "IPY_MODEL_00af1d9b279d4e86bf598be092b1e7c6"
          }
        },
        "66b4f9a70aba4811a8bcade7e5d6c133": {
          "model_module": "@jupyter-widgets/controls",
          "model_name": "HTMLModel",
          "model_module_version": "1.5.0",
          "state": {
            "_view_name": "HTMLView",
            "style": "IPY_MODEL_b679c393b09b4ff994bcf02506e7ef19",
            "_dom_classes": [],
            "description": "",
            "_model_name": "HTMLModel",
            "placeholder": "​",
            "_view_module": "@jupyter-widgets/controls",
            "_model_module_version": "1.5.0",
            "value": " 1.63k/1.63k [00:00&lt;00:00, 35.8kB/s]",
            "_view_count": null,
            "_view_module_version": "1.5.0",
            "description_tooltip": null,
            "_model_module": "@jupyter-widgets/controls",
            "layout": "IPY_MODEL_1750725e89104eeea95b41a1382f3f0e"
          }
        },
        "cae0857718764de6809559a4d01eb791": {
          "model_module": "@jupyter-widgets/controls",
          "model_name": "DescriptionStyleModel",
          "model_module_version": "1.5.0",
          "state": {
            "_view_name": "StyleView",
            "_model_name": "DescriptionStyleModel",
            "description_width": "",
            "_view_module": "@jupyter-widgets/base",
            "_model_module_version": "1.5.0",
            "_view_count": null,
            "_view_module_version": "1.2.0",
            "_model_module": "@jupyter-widgets/controls"
          }
        },
        "8234717a1310442985d761228bb3b19c": {
          "model_module": "@jupyter-widgets/base",
          "model_name": "LayoutModel",
          "model_module_version": "1.2.0",
          "state": {
            "_view_name": "LayoutView",
            "grid_template_rows": null,
            "right": null,
            "justify_content": null,
            "_view_module": "@jupyter-widgets/base",
            "overflow": null,
            "_model_module_version": "1.2.0",
            "_view_count": null,
            "flex_flow": null,
            "width": null,
            "min_width": null,
            "border": null,
            "align_items": null,
            "bottom": null,
            "_model_module": "@jupyter-widgets/base",
            "top": null,
            "grid_column": null,
            "overflow_y": null,
            "overflow_x": null,
            "grid_auto_flow": null,
            "grid_area": null,
            "grid_template_columns": null,
            "flex": null,
            "_model_name": "LayoutModel",
            "justify_items": null,
            "grid_row": null,
            "max_height": null,
            "align_content": null,
            "visibility": null,
            "align_self": null,
            "height": null,
            "min_height": null,
            "padding": null,
            "grid_auto_rows": null,
            "grid_gap": null,
            "max_width": null,
            "order": null,
            "_view_module_version": "1.2.0",
            "grid_template_areas": null,
            "object_position": null,
            "object_fit": null,
            "grid_auto_columns": null,
            "margin": null,
            "display": null,
            "left": null
          }
        },
        "07b1e4fbcacb46d38e0313033f499f4f": {
          "model_module": "@jupyter-widgets/controls",
          "model_name": "ProgressStyleModel",
          "model_module_version": "1.5.0",
          "state": {
            "_view_name": "StyleView",
            "_model_name": "ProgressStyleModel",
            "description_width": "",
            "_view_module": "@jupyter-widgets/base",
            "_model_module_version": "1.5.0",
            "_view_count": null,
            "_view_module_version": "1.2.0",
            "bar_color": null,
            "_model_module": "@jupyter-widgets/controls"
          }
        },
        "00af1d9b279d4e86bf598be092b1e7c6": {
          "model_module": "@jupyter-widgets/base",
          "model_name": "LayoutModel",
          "model_module_version": "1.2.0",
          "state": {
            "_view_name": "LayoutView",
            "grid_template_rows": null,
            "right": null,
            "justify_content": null,
            "_view_module": "@jupyter-widgets/base",
            "overflow": null,
            "_model_module_version": "1.2.0",
            "_view_count": null,
            "flex_flow": null,
            "width": null,
            "min_width": null,
            "border": null,
            "align_items": null,
            "bottom": null,
            "_model_module": "@jupyter-widgets/base",
            "top": null,
            "grid_column": null,
            "overflow_y": null,
            "overflow_x": null,
            "grid_auto_flow": null,
            "grid_area": null,
            "grid_template_columns": null,
            "flex": null,
            "_model_name": "LayoutModel",
            "justify_items": null,
            "grid_row": null,
            "max_height": null,
            "align_content": null,
            "visibility": null,
            "align_self": null,
            "height": null,
            "min_height": null,
            "padding": null,
            "grid_auto_rows": null,
            "grid_gap": null,
            "max_width": null,
            "order": null,
            "_view_module_version": "1.2.0",
            "grid_template_areas": null,
            "object_position": null,
            "object_fit": null,
            "grid_auto_columns": null,
            "margin": null,
            "display": null,
            "left": null
          }
        },
        "b679c393b09b4ff994bcf02506e7ef19": {
          "model_module": "@jupyter-widgets/controls",
          "model_name": "DescriptionStyleModel",
          "model_module_version": "1.5.0",
          "state": {
            "_view_name": "StyleView",
            "_model_name": "DescriptionStyleModel",
            "description_width": "",
            "_view_module": "@jupyter-widgets/base",
            "_model_module_version": "1.5.0",
            "_view_count": null,
            "_view_module_version": "1.2.0",
            "_model_module": "@jupyter-widgets/controls"
          }
        },
        "1750725e89104eeea95b41a1382f3f0e": {
          "model_module": "@jupyter-widgets/base",
          "model_name": "LayoutModel",
          "model_module_version": "1.2.0",
          "state": {
            "_view_name": "LayoutView",
            "grid_template_rows": null,
            "right": null,
            "justify_content": null,
            "_view_module": "@jupyter-widgets/base",
            "overflow": null,
            "_model_module_version": "1.2.0",
            "_view_count": null,
            "flex_flow": null,
            "width": null,
            "min_width": null,
            "border": null,
            "align_items": null,
            "bottom": null,
            "_model_module": "@jupyter-widgets/base",
            "top": null,
            "grid_column": null,
            "overflow_y": null,
            "overflow_x": null,
            "grid_auto_flow": null,
            "grid_area": null,
            "grid_template_columns": null,
            "flex": null,
            "_model_name": "LayoutModel",
            "justify_items": null,
            "grid_row": null,
            "max_height": null,
            "align_content": null,
            "visibility": null,
            "align_self": null,
            "height": null,
            "min_height": null,
            "padding": null,
            "grid_auto_rows": null,
            "grid_gap": null,
            "max_width": null,
            "order": null,
            "_view_module_version": "1.2.0",
            "grid_template_areas": null,
            "object_position": null,
            "object_fit": null,
            "grid_auto_columns": null,
            "margin": null,
            "display": null,
            "left": null
          }
        },
        "f93c691e87d041b3a1e950a4302e08a7": {
          "model_module": "@jupyter-widgets/controls",
          "model_name": "HBoxModel",
          "model_module_version": "1.5.0",
          "state": {
            "_view_name": "HBoxView",
            "_dom_classes": [],
            "_model_name": "HBoxModel",
            "_view_module": "@jupyter-widgets/controls",
            "_model_module_version": "1.5.0",
            "_view_count": null,
            "_view_module_version": "1.5.0",
            "box_style": "",
            "layout": "IPY_MODEL_2a4abdb5a5ca4b01adf17ea9267017ad",
            "_model_module": "@jupyter-widgets/controls",
            "children": [
              "IPY_MODEL_bfabc930bfdd490eb0eea62c9cd10d08",
              "IPY_MODEL_14f530d7dd7542109b8429965c85c30d",
              "IPY_MODEL_c8d64e0a9bb54e64963d1123a02b539e"
            ]
          }
        },
        "2a4abdb5a5ca4b01adf17ea9267017ad": {
          "model_module": "@jupyter-widgets/base",
          "model_name": "LayoutModel",
          "model_module_version": "1.2.0",
          "state": {
            "_view_name": "LayoutView",
            "grid_template_rows": null,
            "right": null,
            "justify_content": null,
            "_view_module": "@jupyter-widgets/base",
            "overflow": null,
            "_model_module_version": "1.2.0",
            "_view_count": null,
            "flex_flow": null,
            "width": null,
            "min_width": null,
            "border": null,
            "align_items": null,
            "bottom": null,
            "_model_module": "@jupyter-widgets/base",
            "top": null,
            "grid_column": null,
            "overflow_y": null,
            "overflow_x": null,
            "grid_auto_flow": null,
            "grid_area": null,
            "grid_template_columns": null,
            "flex": null,
            "_model_name": "LayoutModel",
            "justify_items": null,
            "grid_row": null,
            "max_height": null,
            "align_content": null,
            "visibility": null,
            "align_self": null,
            "height": null,
            "min_height": null,
            "padding": null,
            "grid_auto_rows": null,
            "grid_gap": null,
            "max_width": null,
            "order": null,
            "_view_module_version": "1.2.0",
            "grid_template_areas": null,
            "object_position": null,
            "object_fit": null,
            "grid_auto_columns": null,
            "margin": null,
            "display": null,
            "left": null
          }
        },
        "bfabc930bfdd490eb0eea62c9cd10d08": {
          "model_module": "@jupyter-widgets/controls",
          "model_name": "HTMLModel",
          "model_module_version": "1.5.0",
          "state": {
            "_view_name": "HTMLView",
            "style": "IPY_MODEL_9718af998d37483cbfaa9cbe9e0c38a4",
            "_dom_classes": [],
            "description": "",
            "_model_name": "HTMLModel",
            "placeholder": "​",
            "_view_module": "@jupyter-widgets/controls",
            "_model_module_version": "1.5.0",
            "value": "Downloading: 100%",
            "_view_count": null,
            "_view_module_version": "1.5.0",
            "description_tooltip": null,
            "_model_module": "@jupyter-widgets/controls",
            "layout": "IPY_MODEL_fcef10db2aa64d948ffcf4888f963153"
          }
        },
        "14f530d7dd7542109b8429965c85c30d": {
          "model_module": "@jupyter-widgets/controls",
          "model_name": "FloatProgressModel",
          "model_module_version": "1.5.0",
          "state": {
            "_view_name": "ProgressView",
            "style": "IPY_MODEL_30ce416389f84f4b96a2e2f4c185988a",
            "_dom_classes": [],
            "description": "",
            "_model_name": "FloatProgressModel",
            "bar_style": "success",
            "max": 557941479,
            "_view_module": "@jupyter-widgets/controls",
            "_model_module_version": "1.5.0",
            "value": 557941479,
            "_view_count": null,
            "_view_module_version": "1.5.0",
            "orientation": "horizontal",
            "min": 0,
            "description_tooltip": null,
            "_model_module": "@jupyter-widgets/controls",
            "layout": "IPY_MODEL_872d5a4169c44544967a3303d9abd05e"
          }
        },
        "c8d64e0a9bb54e64963d1123a02b539e": {
          "model_module": "@jupyter-widgets/controls",
          "model_name": "HTMLModel",
          "model_module_version": "1.5.0",
          "state": {
            "_view_name": "HTMLView",
            "style": "IPY_MODEL_d12bbcd6282a43bbada570fe8de24f1f",
            "_dom_classes": [],
            "description": "",
            "_model_name": "HTMLModel",
            "placeholder": "​",
            "_view_module": "@jupyter-widgets/controls",
            "_model_module_version": "1.5.0",
            "value": " 558M/558M [00:20&lt;00:00, 29.3MB/s]",
            "_view_count": null,
            "_view_module_version": "1.5.0",
            "description_tooltip": null,
            "_model_module": "@jupyter-widgets/controls",
            "layout": "IPY_MODEL_e27681411bba46a09e29dea86c70fc42"
          }
        },
        "9718af998d37483cbfaa9cbe9e0c38a4": {
          "model_module": "@jupyter-widgets/controls",
          "model_name": "DescriptionStyleModel",
          "model_module_version": "1.5.0",
          "state": {
            "_view_name": "StyleView",
            "_model_name": "DescriptionStyleModel",
            "description_width": "",
            "_view_module": "@jupyter-widgets/base",
            "_model_module_version": "1.5.0",
            "_view_count": null,
            "_view_module_version": "1.2.0",
            "_model_module": "@jupyter-widgets/controls"
          }
        },
        "fcef10db2aa64d948ffcf4888f963153": {
          "model_module": "@jupyter-widgets/base",
          "model_name": "LayoutModel",
          "model_module_version": "1.2.0",
          "state": {
            "_view_name": "LayoutView",
            "grid_template_rows": null,
            "right": null,
            "justify_content": null,
            "_view_module": "@jupyter-widgets/base",
            "overflow": null,
            "_model_module_version": "1.2.0",
            "_view_count": null,
            "flex_flow": null,
            "width": null,
            "min_width": null,
            "border": null,
            "align_items": null,
            "bottom": null,
            "_model_module": "@jupyter-widgets/base",
            "top": null,
            "grid_column": null,
            "overflow_y": null,
            "overflow_x": null,
            "grid_auto_flow": null,
            "grid_area": null,
            "grid_template_columns": null,
            "flex": null,
            "_model_name": "LayoutModel",
            "justify_items": null,
            "grid_row": null,
            "max_height": null,
            "align_content": null,
            "visibility": null,
            "align_self": null,
            "height": null,
            "min_height": null,
            "padding": null,
            "grid_auto_rows": null,
            "grid_gap": null,
            "max_width": null,
            "order": null,
            "_view_module_version": "1.2.0",
            "grid_template_areas": null,
            "object_position": null,
            "object_fit": null,
            "grid_auto_columns": null,
            "margin": null,
            "display": null,
            "left": null
          }
        },
        "30ce416389f84f4b96a2e2f4c185988a": {
          "model_module": "@jupyter-widgets/controls",
          "model_name": "ProgressStyleModel",
          "model_module_version": "1.5.0",
          "state": {
            "_view_name": "StyleView",
            "_model_name": "ProgressStyleModel",
            "description_width": "",
            "_view_module": "@jupyter-widgets/base",
            "_model_module_version": "1.5.0",
            "_view_count": null,
            "_view_module_version": "1.2.0",
            "bar_color": null,
            "_model_module": "@jupyter-widgets/controls"
          }
        },
        "872d5a4169c44544967a3303d9abd05e": {
          "model_module": "@jupyter-widgets/base",
          "model_name": "LayoutModel",
          "model_module_version": "1.2.0",
          "state": {
            "_view_name": "LayoutView",
            "grid_template_rows": null,
            "right": null,
            "justify_content": null,
            "_view_module": "@jupyter-widgets/base",
            "overflow": null,
            "_model_module_version": "1.2.0",
            "_view_count": null,
            "flex_flow": null,
            "width": null,
            "min_width": null,
            "border": null,
            "align_items": null,
            "bottom": null,
            "_model_module": "@jupyter-widgets/base",
            "top": null,
            "grid_column": null,
            "overflow_y": null,
            "overflow_x": null,
            "grid_auto_flow": null,
            "grid_area": null,
            "grid_template_columns": null,
            "flex": null,
            "_model_name": "LayoutModel",
            "justify_items": null,
            "grid_row": null,
            "max_height": null,
            "align_content": null,
            "visibility": null,
            "align_self": null,
            "height": null,
            "min_height": null,
            "padding": null,
            "grid_auto_rows": null,
            "grid_gap": null,
            "max_width": null,
            "order": null,
            "_view_module_version": "1.2.0",
            "grid_template_areas": null,
            "object_position": null,
            "object_fit": null,
            "grid_auto_columns": null,
            "margin": null,
            "display": null,
            "left": null
          }
        },
        "d12bbcd6282a43bbada570fe8de24f1f": {
          "model_module": "@jupyter-widgets/controls",
          "model_name": "DescriptionStyleModel",
          "model_module_version": "1.5.0",
          "state": {
            "_view_name": "StyleView",
            "_model_name": "DescriptionStyleModel",
            "description_width": "",
            "_view_module": "@jupyter-widgets/base",
            "_model_module_version": "1.5.0",
            "_view_count": null,
            "_view_module_version": "1.2.0",
            "_model_module": "@jupyter-widgets/controls"
          }
        },
        "e27681411bba46a09e29dea86c70fc42": {
          "model_module": "@jupyter-widgets/base",
          "model_name": "LayoutModel",
          "model_module_version": "1.2.0",
          "state": {
            "_view_name": "LayoutView",
            "grid_template_rows": null,
            "right": null,
            "justify_content": null,
            "_view_module": "@jupyter-widgets/base",
            "overflow": null,
            "_model_module_version": "1.2.0",
            "_view_count": null,
            "flex_flow": null,
            "width": null,
            "min_width": null,
            "border": null,
            "align_items": null,
            "bottom": null,
            "_model_module": "@jupyter-widgets/base",
            "top": null,
            "grid_column": null,
            "overflow_y": null,
            "overflow_x": null,
            "grid_auto_flow": null,
            "grid_area": null,
            "grid_template_columns": null,
            "flex": null,
            "_model_name": "LayoutModel",
            "justify_items": null,
            "grid_row": null,
            "max_height": null,
            "align_content": null,
            "visibility": null,
            "align_self": null,
            "height": null,
            "min_height": null,
            "padding": null,
            "grid_auto_rows": null,
            "grid_gap": null,
            "max_width": null,
            "order": null,
            "_view_module_version": "1.2.0",
            "grid_template_areas": null,
            "object_position": null,
            "object_fit": null,
            "grid_auto_columns": null,
            "margin": null,
            "display": null,
            "left": null
          }
        }
      }
    },
    "accelerator": "GPU"
  },
  "cells": [
    {
      "cell_type": "code",
      "metadata": {
        "colab": {
          "base_uri": "https://localhost:8080/"
        },
        "id": "0SQzrlKl4hkR",
        "outputId": "754f0d5c-f07e-4d8c-e632-5eae52ce02da"
      },
      "source": [
        "from google.colab import drive\n",
        "drive.mount('/content/drive')"
      ],
      "execution_count": null,
      "outputs": [
        {
          "output_type": "stream",
          "name": "stdout",
          "text": [
            "Drive already mounted at /content/drive; to attempt to forcibly remount, call drive.mount(\"/content/drive\", force_remount=True).\n"
          ]
        }
      ]
    },
    {
      "cell_type": "code",
      "metadata": {
        "colab": {
          "base_uri": "https://localhost:8080/",
          "height": 35
        },
        "id": "_euoFFuD4pxU",
        "outputId": "b1e04da9-52a8-4b0d-b7cb-a968afc9f55b"
      },
      "source": [
        "import os\n",
        "\n",
        "os.getcwd()"
      ],
      "execution_count": null,
      "outputs": [
        {
          "output_type": "execute_result",
          "data": {
            "application/vnd.google.colaboratory.intrinsic+json": {
              "type": "string"
            },
            "text/plain": [
              "'/content'"
            ]
          },
          "metadata": {},
          "execution_count": 2
        }
      ]
    },
    {
      "cell_type": "code",
      "metadata": {
        "id": "bWNsnvKP5GKV"
      },
      "source": [
        "os.chdir(\"/content/drive/MyDrive/Colab Notebooks/qbe/candidate_test\")"
      ],
      "execution_count": null,
      "outputs": []
    },
    {
      "cell_type": "code",
      "metadata": {
        "colab": {
          "base_uri": "https://localhost:8080/"
        },
        "id": "C8cWodLi46rQ",
        "outputId": "8799cb6d-d9b7-4505-fb96-b810f49545f6"
      },
      "source": [
        "os.listdir()"
      ],
      "execution_count": null,
      "outputs": [
        {
          "output_type": "execute_result",
          "data": {
            "text/plain": [
              "['restaurants_train.csv',\n",
              " 'restaurants_val.csv',\n",
              " 'requirements.txt',\n",
              " 'restaurants_holdout.csv',\n",
              " 'README.pdf',\n",
              " '.~lock.restaurants_train.csv#',\n",
              " 'entity_extraction.ipynb',\n",
              " '.ipynb_checkpoints',\n",
              " 'rest_hold_preds_batchsize10.xlsx',\n",
              " 'b_10_ss5',\n",
              " 'b_10_cosine_sched',\n",
              " 'bert_bs1',\n",
              " 'b_1_ss50_e50',\n",
              " 'b_1_ss50_e50_postag',\n",
              " 'bert_bs2',\n",
              " 'rest_hold_preds_batchsize10_20epochs.xlsx',\n",
              " 'b_10_ss10_e50_swap']"
            ]
          },
          "metadata": {},
          "execution_count": 4
        }
      ]
    },
    {
      "cell_type": "code",
      "metadata": {
        "colab": {
          "base_uri": "https://localhost:8080/"
        },
        "id": "BowJ_03s5Lry",
        "outputId": "b3a0787d-a7de-4bdf-ae7b-b907cb47d419"
      },
      "source": [
        "!pip install -r requirements.txt"
      ],
      "execution_count": null,
      "outputs": [
        {
          "output_type": "stream",
          "name": "stdout",
          "text": [
            "Requirement already satisfied: transformers==4.7.0 in /usr/local/lib/python3.7/dist-packages (from -r requirements.txt (line 1)) (4.7.0)\n",
            "Requirement already satisfied: torch==1.8.1 in /usr/local/lib/python3.7/dist-packages (from -r requirements.txt (line 2)) (1.8.1)\n",
            "Requirement already satisfied: pandas==1.0.1 in /usr/local/lib/python3.7/dist-packages (from -r requirements.txt (line 3)) (1.0.1)\n",
            "Requirement already satisfied: sklearn==0.0 in /usr/local/lib/python3.7/dist-packages (from -r requirements.txt (line 4)) (0.0)\n",
            "Requirement already satisfied: importlib-metadata in /usr/local/lib/python3.7/dist-packages (from transformers==4.7.0->-r requirements.txt (line 1)) (4.6.4)\n",
            "Requirement already satisfied: numpy>=1.17 in /usr/local/lib/python3.7/dist-packages (from transformers==4.7.0->-r requirements.txt (line 1)) (1.19.5)\n",
            "Requirement already satisfied: sacremoses in /usr/local/lib/python3.7/dist-packages (from transformers==4.7.0->-r requirements.txt (line 1)) (0.0.45)\n",
            "Requirement already satisfied: pyyaml in /usr/local/lib/python3.7/dist-packages (from transformers==4.7.0->-r requirements.txt (line 1)) (3.13)\n",
            "Requirement already satisfied: packaging in /usr/local/lib/python3.7/dist-packages (from transformers==4.7.0->-r requirements.txt (line 1)) (21.0)\n",
            "Requirement already satisfied: regex!=2019.12.17 in /usr/local/lib/python3.7/dist-packages (from transformers==4.7.0->-r requirements.txt (line 1)) (2019.12.20)\n",
            "Requirement already satisfied: filelock in /usr/local/lib/python3.7/dist-packages (from transformers==4.7.0->-r requirements.txt (line 1)) (3.0.12)\n",
            "Requirement already satisfied: tqdm>=4.27 in /usr/local/lib/python3.7/dist-packages (from transformers==4.7.0->-r requirements.txt (line 1)) (4.62.0)\n",
            "Requirement already satisfied: requests in /usr/local/lib/python3.7/dist-packages (from transformers==4.7.0->-r requirements.txt (line 1)) (2.23.0)\n",
            "Requirement already satisfied: huggingface-hub==0.0.8 in /usr/local/lib/python3.7/dist-packages (from transformers==4.7.0->-r requirements.txt (line 1)) (0.0.8)\n",
            "Requirement already satisfied: tokenizers<0.11,>=0.10.1 in /usr/local/lib/python3.7/dist-packages (from transformers==4.7.0->-r requirements.txt (line 1)) (0.10.3)\n",
            "Requirement already satisfied: typing-extensions in /usr/local/lib/python3.7/dist-packages (from torch==1.8.1->-r requirements.txt (line 2)) (3.7.4.3)\n",
            "Requirement already satisfied: python-dateutil>=2.6.1 in /usr/local/lib/python3.7/dist-packages (from pandas==1.0.1->-r requirements.txt (line 3)) (2.8.2)\n",
            "Requirement already satisfied: pytz>=2017.2 in /usr/local/lib/python3.7/dist-packages (from pandas==1.0.1->-r requirements.txt (line 3)) (2018.9)\n",
            "Requirement already satisfied: scikit-learn in /usr/local/lib/python3.7/dist-packages (from sklearn==0.0->-r requirements.txt (line 4)) (0.22.2.post1)\n",
            "Requirement already satisfied: six>=1.5 in /usr/local/lib/python3.7/dist-packages (from python-dateutil>=2.6.1->pandas==1.0.1->-r requirements.txt (line 3)) (1.15.0)\n",
            "Requirement already satisfied: zipp>=0.5 in /usr/local/lib/python3.7/dist-packages (from importlib-metadata->transformers==4.7.0->-r requirements.txt (line 1)) (3.5.0)\n",
            "Requirement already satisfied: pyparsing>=2.0.2 in /usr/local/lib/python3.7/dist-packages (from packaging->transformers==4.7.0->-r requirements.txt (line 1)) (2.4.7)\n",
            "Requirement already satisfied: idna<3,>=2.5 in /usr/local/lib/python3.7/dist-packages (from requests->transformers==4.7.0->-r requirements.txt (line 1)) (2.10)\n",
            "Requirement already satisfied: chardet<4,>=3.0.2 in /usr/local/lib/python3.7/dist-packages (from requests->transformers==4.7.0->-r requirements.txt (line 1)) (3.0.4)\n",
            "Requirement already satisfied: certifi>=2017.4.17 in /usr/local/lib/python3.7/dist-packages (from requests->transformers==4.7.0->-r requirements.txt (line 1)) (2021.5.30)\n",
            "Requirement already satisfied: urllib3!=1.25.0,!=1.25.1,<1.26,>=1.21.1 in /usr/local/lib/python3.7/dist-packages (from requests->transformers==4.7.0->-r requirements.txt (line 1)) (1.24.3)\n",
            "Requirement already satisfied: joblib in /usr/local/lib/python3.7/dist-packages (from sacremoses->transformers==4.7.0->-r requirements.txt (line 1)) (1.0.1)\n",
            "Requirement already satisfied: click in /usr/local/lib/python3.7/dist-packages (from sacremoses->transformers==4.7.0->-r requirements.txt (line 1)) (7.1.2)\n",
            "Requirement already satisfied: scipy>=0.17.0 in /usr/local/lib/python3.7/dist-packages (from scikit-learn->sklearn==0.0->-r requirements.txt (line 4)) (1.4.1)\n"
          ]
        }
      ]
    },
    {
      "cell_type": "code",
      "metadata": {
        "id": "1Re1UJ025WdR"
      },
      "source": [
        "import pandas as pd\n",
        "\n",
        "train = pd.read_csv('restaurants_train.csv')\n",
        "\n",
        "val = pd.read_csv('restaurants_val.csv')\n",
        "\n",
        "holdout = pd.read_csv('restaurants_holdout.csv')\n",
        "\n",
        "train = train.fillna('')\n",
        "\n",
        "val = val.fillna('')\n",
        "\n",
        "holdout = holdout.fillna('')"
      ],
      "execution_count": null,
      "outputs": []
    },
    {
      "cell_type": "code",
      "metadata": {
        "colab": {
          "base_uri": "https://localhost:8080/",
          "height": 1000
        },
        "id": "mmTVwnbkXCkF",
        "outputId": "9a41c9ed-6cea-4c5c-fc46-e1b7f53084a1"
      },
      "source": [
        "import random\n",
        "def get_replacement_label(label, label_list):\n",
        "    \n",
        "    cands = [x for x in label_list if x != label]\n",
        "    \n",
        "    return cands[random.randint(0, len(cands)-1)]\n",
        "\n",
        "def swap_labels(txt, label, replacement):\n",
        "    \n",
        "    return txt.replace(label, replacement)\n",
        "    \n",
        "train_swap = train.loc[train.restaurant_name != \"\",:].copy()\n",
        "\n",
        "label_list = train_swap[\"restaurant_name\"].unique().tolist()\n",
        "\n",
        "train_swap[\"rep_label\"] = train_swap[\"restaurant_name\"].apply(lambda x: get_replacement_label(x, label_list))\n",
        "\n",
        "train_swap[\"sentence\"] = train_swap.apply(lambda x: swap_labels(x[\"sentence\"], x[\"restaurant_name\"], \n",
        "                                                                x[\"rep_label\"]) , axis = 1)\n",
        "\n",
        "train_swap[\"restaurant_name\"] = train_swap[\"rep_label\"]\n",
        "\n",
        "train_swap"
      ],
      "execution_count": null,
      "outputs": [
        {
          "output_type": "execute_result",
          "data": {
            "text/html": [
              "<div>\n",
              "<style scoped>\n",
              "    .dataframe tbody tr th:only-of-type {\n",
              "        vertical-align: middle;\n",
              "    }\n",
              "\n",
              "    .dataframe tbody tr th {\n",
              "        vertical-align: top;\n",
              "    }\n",
              "\n",
              "    .dataframe thead th {\n",
              "        text-align: right;\n",
              "    }\n",
              "</style>\n",
              "<table border=\"1\" class=\"dataframe\">\n",
              "  <thead>\n",
              "    <tr style=\"text-align: right;\">\n",
              "      <th></th>\n",
              "      <th>sentence</th>\n",
              "      <th>restaurant_name</th>\n",
              "      <th>rep_label</th>\n",
              "    </tr>\n",
              "  </thead>\n",
              "  <tbody>\n",
              "    <tr>\n",
              "      <th>4</th>\n",
              "      <td>can you find bellinis dedham pizzeria that hav...</td>\n",
              "      <td>bellinis</td>\n",
              "      <td>bellinis</td>\n",
              "    </tr>\n",
              "    <tr>\n",
              "      <th>6</th>\n",
              "      <td>can you tell me where the nearest bar la grass...</td>\n",
              "      <td>bar la grassa</td>\n",
              "      <td>bar la grassa</td>\n",
              "    </tr>\n",
              "    <tr>\n",
              "      <th>14</th>\n",
              "      <td>do you think thursday has fabulous service</td>\n",
              "      <td>thursday</td>\n",
              "      <td>thursday</td>\n",
              "    </tr>\n",
              "    <tr>\n",
              "      <th>17</th>\n",
              "      <td>can i get hambers at maid cafe</td>\n",
              "      <td>maid cafe</td>\n",
              "      <td>maid cafe</td>\n",
              "    </tr>\n",
              "    <tr>\n",
              "      <th>19</th>\n",
              "      <td>do you know if there are any reviews on bar la...</td>\n",
              "      <td>bar la grassa</td>\n",
              "      <td>bar la grassa</td>\n",
              "    </tr>\n",
              "    <tr>\n",
              "      <th>24</th>\n",
              "      <td>are there reservations still available for bel...</td>\n",
              "      <td>bellinis</td>\n",
              "      <td>bellinis</td>\n",
              "    </tr>\n",
              "    <tr>\n",
              "      <th>26</th>\n",
              "      <td>are there any olive garden in the city open on...</td>\n",
              "      <td>olive garden</td>\n",
              "      <td>olive garden</td>\n",
              "    </tr>\n",
              "    <tr>\n",
              "      <th>27</th>\n",
              "      <td>do i need a reservation for name</td>\n",
              "      <td>name</td>\n",
              "      <td>name</td>\n",
              "    </tr>\n",
              "    <tr>\n",
              "      <th>35</th>\n",
              "      <td>are there any name within 5 minutes drive that...</td>\n",
              "      <td>name</td>\n",
              "      <td>name</td>\n",
              "    </tr>\n",
              "    <tr>\n",
              "      <th>37</th>\n",
              "      <td>are there any dominos in town</td>\n",
              "      <td>dominos</td>\n",
              "      <td>dominos</td>\n",
              "    </tr>\n",
              "    <tr>\n",
              "      <th>39</th>\n",
              "      <td>can you make a reservation at east for tonight</td>\n",
              "      <td>east</td>\n",
              "      <td>east</td>\n",
              "    </tr>\n",
              "    <tr>\n",
              "      <th>43</th>\n",
              "      <td>can you find out if the mcdonalds has dancing ...</td>\n",
              "      <td>mcdonalds</td>\n",
              "      <td>mcdonalds</td>\n",
              "    </tr>\n",
              "    <tr>\n",
              "      <th>44</th>\n",
              "      <td>can i have the phone number for east in los an...</td>\n",
              "      <td>east</td>\n",
              "      <td>east</td>\n",
              "    </tr>\n",
              "    <tr>\n",
              "      <th>45</th>\n",
              "      <td>dining along the buffalo wild wings restaurant...</td>\n",
              "      <td>buffalo wild wings</td>\n",
              "      <td>buffalo wild wings</td>\n",
              "    </tr>\n",
              "    <tr>\n",
              "      <th>46</th>\n",
              "      <td>can you please find the monacos restaurant in ...</td>\n",
              "      <td>monacos</td>\n",
              "      <td>monacos</td>\n",
              "    </tr>\n",
              "    <tr>\n",
              "      <th>51</th>\n",
              "      <td>can you give me the bradford lantern cafe of t...</td>\n",
              "      <td>bradford lantern cafe</td>\n",
              "      <td>bradford lantern cafe</td>\n",
              "    </tr>\n",
              "    <tr>\n",
              "      <th>52</th>\n",
              "      <td>are there any starting gate restaurant that i ...</td>\n",
              "      <td>starting gate restaurant</td>\n",
              "      <td>starting gate restaurant</td>\n",
              "    </tr>\n",
              "    <tr>\n",
              "      <th>57</th>\n",
              "      <td>can you find me a kfc thats not too busy</td>\n",
              "      <td>kfc</td>\n",
              "      <td>kfc</td>\n",
              "    </tr>\n",
              "    <tr>\n",
              "      <th>60</th>\n",
              "      <td>bradford lantern cafe home made dinners</td>\n",
              "      <td>bradford lantern cafe</td>\n",
              "      <td>bradford lantern cafe</td>\n",
              "    </tr>\n",
              "    <tr>\n",
              "      <th>61</th>\n",
              "      <td>call angels</td>\n",
              "      <td>angels</td>\n",
              "      <td>angels</td>\n",
              "    </tr>\n",
              "    <tr>\n",
              "      <th>62</th>\n",
              "      <td>can i valet park at the bellinis</td>\n",
              "      <td>bellinis</td>\n",
              "      <td>bellinis</td>\n",
              "    </tr>\n",
              "    <tr>\n",
              "      <th>63</th>\n",
              "      <td>can i dine at the roosevelts restaurant and sin</td>\n",
              "      <td>roosevelts restaurant and sin</td>\n",
              "      <td>roosevelts restaurant and sin</td>\n",
              "    </tr>\n",
              "    <tr>\n",
              "      <th>68</th>\n",
              "      <td>can you find long john silvers thats hard to f...</td>\n",
              "      <td>long john silvers</td>\n",
              "      <td>long john silvers</td>\n",
              "    </tr>\n",
              "    <tr>\n",
              "      <th>76</th>\n",
              "      <td>can you tell me where the closest kings is</td>\n",
              "      <td>kings</td>\n",
              "      <td>kings</td>\n",
              "    </tr>\n",
              "    <tr>\n",
              "      <th>77</th>\n",
              "      <td>does caribe do takeout orders</td>\n",
              "      <td>caribe</td>\n",
              "      <td>caribe</td>\n",
              "    </tr>\n",
              "    <tr>\n",
              "      <th>79</th>\n",
              "      <td>can you find me tin whistle with comfort food</td>\n",
              "      <td>tin whistle</td>\n",
              "      <td>tin whistle</td>\n",
              "    </tr>\n",
              "    <tr>\n",
              "      <th>83</th>\n",
              "      <td>does thursday have a smoking area</td>\n",
              "      <td>thursday</td>\n",
              "      <td>thursday</td>\n",
              "    </tr>\n",
              "    <tr>\n",
              "      <th>84</th>\n",
              "      <td>can you help me find a starting gate restauran...</td>\n",
              "      <td>starting gate restaurant</td>\n",
              "      <td>starting gate restaurant</td>\n",
              "    </tr>\n",
              "    <tr>\n",
              "      <th>90</th>\n",
              "      <td>direct me to the nearest bar la grassa</td>\n",
              "      <td>bar la grassa</td>\n",
              "      <td>bar la grassa</td>\n",
              "    </tr>\n",
              "    <tr>\n",
              "      <th>93</th>\n",
              "      <td>are the portion at wendys large or very small</td>\n",
              "      <td>wendys</td>\n",
              "      <td>wendys</td>\n",
              "    </tr>\n",
              "    <tr>\n",
              "      <th>94</th>\n",
              "      <td>can you make me a reservation for todai for 11...</td>\n",
              "      <td>112 eatery</td>\n",
              "      <td>112 eatery</td>\n",
              "    </tr>\n",
              "    <tr>\n",
              "      <th>97</th>\n",
              "      <td>does bellinis have a dress code</td>\n",
              "      <td>bellinis</td>\n",
              "      <td>bellinis</td>\n",
              "    </tr>\n",
              "    <tr>\n",
              "      <th>101</th>\n",
              "      <td>can you take me to monacos in framingham</td>\n",
              "      <td>monacos</td>\n",
              "      <td>monacos</td>\n",
              "    </tr>\n",
              "    <tr>\n",
              "      <th>104</th>\n",
              "      <td>can you find a highly rated bradford lantern c...</td>\n",
              "      <td>bradford lantern cafe</td>\n",
              "      <td>bradford lantern cafe</td>\n",
              "    </tr>\n",
              "    <tr>\n",
              "      <th>106</th>\n",
              "      <td>best little restaurant directions</td>\n",
              "      <td>best little restaurant</td>\n",
              "      <td>best little restaurant</td>\n",
              "    </tr>\n",
              "    <tr>\n",
              "      <th>107</th>\n",
              "      <td>does bradford lantern cafe have any outdoor pa...</td>\n",
              "      <td>bradford lantern cafe</td>\n",
              "      <td>bradford lantern cafe</td>\n",
              "    </tr>\n",
              "    <tr>\n",
              "      <th>112</th>\n",
              "      <td>do you know if the angels ongreentree lane hav...</td>\n",
              "      <td>angels</td>\n",
              "      <td>angels</td>\n",
              "    </tr>\n",
              "    <tr>\n",
              "      <th>114</th>\n",
              "      <td>do you have to make a reservation to go to thu...</td>\n",
              "      <td>thursday</td>\n",
              "      <td>thursday</td>\n",
              "    </tr>\n",
              "    <tr>\n",
              "      <th>116</th>\n",
              "      <td>do you know if wendys have a dress code</td>\n",
              "      <td>wendys</td>\n",
              "      <td>wendys</td>\n",
              "    </tr>\n",
              "    <tr>\n",
              "      <th>119</th>\n",
              "      <td>are reservations available for four people for...</td>\n",
              "      <td>kfc</td>\n",
              "      <td>kfc</td>\n",
              "    </tr>\n",
              "  </tbody>\n",
              "</table>\n",
              "</div>"
            ],
            "text/plain": [
              "                                              sentence  ...                      rep_label\n",
              "4    can you find bellinis dedham pizzeria that hav...  ...                       bellinis\n",
              "6    can you tell me where the nearest bar la grass...  ...                  bar la grassa\n",
              "14          do you think thursday has fabulous service  ...                       thursday\n",
              "17                      can i get hambers at maid cafe  ...                      maid cafe\n",
              "19   do you know if there are any reviews on bar la...  ...                  bar la grassa\n",
              "24   are there reservations still available for bel...  ...                       bellinis\n",
              "26   are there any olive garden in the city open on...  ...                   olive garden\n",
              "27                    do i need a reservation for name  ...                           name\n",
              "35   are there any name within 5 minutes drive that...  ...                           name\n",
              "37                       are there any dominos in town  ...                        dominos\n",
              "39      can you make a reservation at east for tonight  ...                           east\n",
              "43   can you find out if the mcdonalds has dancing ...  ...                      mcdonalds\n",
              "44   can i have the phone number for east in los an...  ...                           east\n",
              "45   dining along the buffalo wild wings restaurant...  ...             buffalo wild wings\n",
              "46   can you please find the monacos restaurant in ...  ...                        monacos\n",
              "51   can you give me the bradford lantern cafe of t...  ...          bradford lantern cafe\n",
              "52   are there any starting gate restaurant that i ...  ...       starting gate restaurant\n",
              "57            can you find me a kfc thats not too busy  ...                            kfc\n",
              "60             bradford lantern cafe home made dinners  ...          bradford lantern cafe\n",
              "61                                         call angels  ...                         angels\n",
              "62                    can i valet park at the bellinis  ...                       bellinis\n",
              "63     can i dine at the roosevelts restaurant and sin  ...  roosevelts restaurant and sin\n",
              "68   can you find long john silvers thats hard to f...  ...              long john silvers\n",
              "76          can you tell me where the closest kings is  ...                          kings\n",
              "77                       does caribe do takeout orders  ...                         caribe\n",
              "79       can you find me tin whistle with comfort food  ...                    tin whistle\n",
              "83                   does thursday have a smoking area  ...                       thursday\n",
              "84   can you help me find a starting gate restauran...  ...       starting gate restaurant\n",
              "90              direct me to the nearest bar la grassa  ...                  bar la grassa\n",
              "93       are the portion at wendys large or very small  ...                         wendys\n",
              "94   can you make me a reservation for todai for 11...  ...                     112 eatery\n",
              "97                     does bellinis have a dress code  ...                       bellinis\n",
              "101           can you take me to monacos in framingham  ...                        monacos\n",
              "104  can you find a highly rated bradford lantern c...  ...          bradford lantern cafe\n",
              "106                  best little restaurant directions  ...         best little restaurant\n",
              "107  does bradford lantern cafe have any outdoor pa...  ...          bradford lantern cafe\n",
              "112  do you know if the angels ongreentree lane hav...  ...                         angels\n",
              "114  do you have to make a reservation to go to thu...  ...                       thursday\n",
              "116            do you know if wendys have a dress code  ...                         wendys\n",
              "119  are reservations available for four people for...  ...                            kfc\n",
              "\n",
              "[40 rows x 3 columns]"
            ]
          },
          "metadata": {},
          "execution_count": 7
        }
      ]
    },
    {
      "cell_type": "code",
      "metadata": {
        "id": "Vd551IHvXbLV"
      },
      "source": [
        "train = pd.concat([train, train_swap], axis = 0, ignore_index=True)"
      ],
      "execution_count": null,
      "outputs": []
    },
    {
      "cell_type": "code",
      "metadata": {
        "colab": {
          "base_uri": "https://localhost:8080/"
        },
        "id": "44G6AVOdXhBN",
        "outputId": "79d180f5-6c77-4714-b170-8502b393c045"
      },
      "source": [
        "train.shape"
      ],
      "execution_count": null,
      "outputs": [
        {
          "output_type": "execute_result",
          "data": {
            "text/plain": [
              "(160, 3)"
            ]
          },
          "metadata": {},
          "execution_count": 9
        }
      ]
    },
    {
      "cell_type": "code",
      "metadata": {
        "id": "SX0-s6C6X97u"
      },
      "source": [
        "train = train.sample(frac = 1)"
      ],
      "execution_count": null,
      "outputs": []
    },
    {
      "cell_type": "code",
      "metadata": {
        "id": "xMx4ZCv55a6M"
      },
      "source": [
        "import sys\n",
        "import torch\n",
        "import torch.nn as nn\n",
        "import random\n",
        "\n",
        "from tqdm import tqdm\n",
        "from torch.optim.lr_scheduler import StepLR\n",
        "from transformers import BartForConditionalGeneration, BartTokenizer\n",
        "\n",
        "device = torch.device(\"cuda\" if torch.cuda.is_available() else \"cpu\")"
      ],
      "execution_count": null,
      "outputs": []
    },
    {
      "cell_type": "code",
      "metadata": {
        "id": "wQW0kUWS5iP8",
        "colab": {
          "base_uri": "https://localhost:8080/",
          "height": 177,
          "referenced_widgets": [
            "3564397542b44a84b63b9fad0ef98106",
            "3d15c87b80cd4516b86fc2dd2e2e7849",
            "6f2fc0faa00b4fc0bc3c79741e019266",
            "49921b22a8154ff49deee6072994686c",
            "9bb3890667bb4b8da0c539cb0f0eddf9",
            "5aff1a5fad7f4d62994c55848f1094a3",
            "773ffeb7985647038b3e3a61b6a63983",
            "7f71043bff6b448e9daa769c385e617d",
            "2252d81ce14342f886f2aed7b90fbfba",
            "6236a46e611846e582cf437df35cbcc0",
            "e24e6d81243f4753a892cc57c50c294c",
            "f0f67fb755634b17bec8e5df2dbc48e1",
            "4087db1514204ac7b0a359fc32766a1b",
            "5fb693a7887f4dcc8ce7a079bcb853c2",
            "40a0ed44852042baa3e9c83277965ef4",
            "8dc487ad61c84d1c93b9676012447a0f",
            "4c97e9821852444b87963cadbda3bba2",
            "aa343b6df2984b8ebb252e76f04d19fb",
            "994fffad6fb448b19b931f380c1b7c88",
            "d12a006e46454144b096f5cb3b5ffbfa",
            "e799162ee4bb41af88f7efef0ea05444",
            "3361e2ac9a0c4a78a0582e630bb7ac76",
            "55ffd024be4b47128ca349c40206be8b",
            "f0fa41a037604104a1e4a87fa1e27bae",
            "552d0aeb1c61485c980a25d9fc1f21ab",
            "50c57cf6860149418b035b6ce052d134",
            "c268a420c3104687b2f6f9a3dcfd6158",
            "8ab363abc77c4e7dae96ad455a8b5023",
            "628fc1da4c5d4d88ac6fc1409cae3929",
            "44d28f84590948dd8859114e94bc1051",
            "e0fd2b990f7b48e6aaa5241d23ddc94f",
            "62eb86cc3b83444c9584abcb82171e32",
            "5769b9bb3bd3488f8c12fd6d962eebe5",
            "fe190b81706c4af6a05d3ae937db27f1",
            "5d97eaf69b0b424c8a57a65d1f0fa3ed",
            "ee1d045ee8fe498fa15b6e7c2826caab",
            "dccb5274119748418cec95a7343f9abd",
            "66b4f9a70aba4811a8bcade7e5d6c133",
            "cae0857718764de6809559a4d01eb791",
            "8234717a1310442985d761228bb3b19c",
            "07b1e4fbcacb46d38e0313033f499f4f",
            "00af1d9b279d4e86bf598be092b1e7c6",
            "b679c393b09b4ff994bcf02506e7ef19",
            "1750725e89104eeea95b41a1382f3f0e",
            "f93c691e87d041b3a1e950a4302e08a7",
            "2a4abdb5a5ca4b01adf17ea9267017ad",
            "bfabc930bfdd490eb0eea62c9cd10d08",
            "14f530d7dd7542109b8429965c85c30d",
            "c8d64e0a9bb54e64963d1123a02b539e",
            "9718af998d37483cbfaa9cbe9e0c38a4",
            "fcef10db2aa64d948ffcf4888f963153",
            "30ce416389f84f4b96a2e2f4c185988a",
            "872d5a4169c44544967a3303d9abd05e",
            "d12bbcd6282a43bbada570fe8de24f1f",
            "e27681411bba46a09e29dea86c70fc42"
          ]
        },
        "outputId": "2f23b72c-ab7b-4121-9474-a0d377f18a5a"
      },
      "source": [
        "tokenizer = BartTokenizer.from_pretrained('facebook/bart-base')\n",
        "\n",
        "model = BartForConditionalGeneration.from_pretrained('facebook/bart-base')\n",
        "\n",
        "_ = model.to(device)"
      ],
      "execution_count": null,
      "outputs": [
        {
          "output_type": "display_data",
          "data": {
            "application/vnd.jupyter.widget-view+json": {
              "model_id": "3564397542b44a84b63b9fad0ef98106",
              "version_minor": 0,
              "version_major": 2
            },
            "text/plain": [
              "Downloading:   0%|          | 0.00/899k [00:00<?, ?B/s]"
            ]
          },
          "metadata": {}
        },
        {
          "output_type": "display_data",
          "data": {
            "application/vnd.jupyter.widget-view+json": {
              "model_id": "f0f67fb755634b17bec8e5df2dbc48e1",
              "version_minor": 0,
              "version_major": 2
            },
            "text/plain": [
              "Downloading:   0%|          | 0.00/456k [00:00<?, ?B/s]"
            ]
          },
          "metadata": {}
        },
        {
          "output_type": "display_data",
          "data": {
            "application/vnd.jupyter.widget-view+json": {
              "model_id": "55ffd024be4b47128ca349c40206be8b",
              "version_minor": 0,
              "version_major": 2
            },
            "text/plain": [
              "Downloading:   0%|          | 0.00/1.36M [00:00<?, ?B/s]"
            ]
          },
          "metadata": {}
        },
        {
          "output_type": "display_data",
          "data": {
            "application/vnd.jupyter.widget-view+json": {
              "model_id": "fe190b81706c4af6a05d3ae937db27f1",
              "version_minor": 0,
              "version_major": 2
            },
            "text/plain": [
              "Downloading:   0%|          | 0.00/1.63k [00:00<?, ?B/s]"
            ]
          },
          "metadata": {}
        },
        {
          "output_type": "display_data",
          "data": {
            "application/vnd.jupyter.widget-view+json": {
              "model_id": "f93c691e87d041b3a1e950a4302e08a7",
              "version_minor": 0,
              "version_major": 2
            },
            "text/plain": [
              "Downloading:   0%|          | 0.00/558M [00:00<?, ?B/s]"
            ]
          },
          "metadata": {}
        }
      ]
    },
    {
      "cell_type": "code",
      "metadata": {
        "id": "7K2XveRk5mmP"
      },
      "source": [
        "def generate_outputs(model, sentence):\n",
        "    inputs = tokenizer([sentence], max_length=1024, return_tensors='pt')\n",
        "    output_ids = model.generate(inputs['input_ids'].to(device), num_beams=4)\n",
        "    #print(output_ids, sentence)\n",
        "    output = tokenizer.decode(output_ids[0], skip_special_tokens=True, clean_up_tokenization_spaces=False).strip()\n",
        "    return output"
      ],
      "execution_count": null,
      "outputs": []
    },
    {
      "cell_type": "code",
      "metadata": {
        "id": "c4DxstoGKwVm",
        "colab": {
          "base_uri": "https://localhost:8080/",
          "height": 424
        },
        "outputId": "1899756a-c43f-495a-c3f2-41ffb04a417f"
      },
      "source": [
        "train"
      ],
      "execution_count": null,
      "outputs": [
        {
          "output_type": "execute_result",
          "data": {
            "text/html": [
              "<div>\n",
              "<style scoped>\n",
              "    .dataframe tbody tr th:only-of-type {\n",
              "        vertical-align: middle;\n",
              "    }\n",
              "\n",
              "    .dataframe tbody tr th {\n",
              "        vertical-align: top;\n",
              "    }\n",
              "\n",
              "    .dataframe thead th {\n",
              "        text-align: right;\n",
              "    }\n",
              "</style>\n",
              "<table border=\"1\" class=\"dataframe\">\n",
              "  <thead>\n",
              "    <tr style=\"text-align: right;\">\n",
              "      <th></th>\n",
              "      <th>sentence</th>\n",
              "      <th>restaurant_name</th>\n",
              "      <th>rep_label</th>\n",
              "    </tr>\n",
              "  </thead>\n",
              "  <tbody>\n",
              "    <tr>\n",
              "      <th>117</th>\n",
              "      <td>are there any chicken wing places nearby</td>\n",
              "      <td></td>\n",
              "      <td>NaN</td>\n",
              "    </tr>\n",
              "    <tr>\n",
              "      <th>100</th>\n",
              "      <td>any good place to get a pie at an affordable p...</td>\n",
              "      <td></td>\n",
              "      <td>NaN</td>\n",
              "    </tr>\n",
              "    <tr>\n",
              "      <th>29</th>\n",
              "      <td>anything on the avenue</td>\n",
              "      <td></td>\n",
              "      <td>NaN</td>\n",
              "    </tr>\n",
              "    <tr>\n",
              "      <th>148</th>\n",
              "      <td>direct me to the nearest bar la grassa</td>\n",
              "      <td>bar la grassa</td>\n",
              "      <td>bar la grassa</td>\n",
              "    </tr>\n",
              "    <tr>\n",
              "      <th>63</th>\n",
              "      <td>can i dine at the barat a nossa casa</td>\n",
              "      <td>barat a nossa casa</td>\n",
              "      <td>NaN</td>\n",
              "    </tr>\n",
              "    <tr>\n",
              "      <th>...</th>\n",
              "      <td>...</td>\n",
              "      <td>...</td>\n",
              "      <td>...</td>\n",
              "    </tr>\n",
              "    <tr>\n",
              "      <th>31</th>\n",
              "      <td>are there any restaurants around with a smokin...</td>\n",
              "      <td></td>\n",
              "      <td>NaN</td>\n",
              "    </tr>\n",
              "    <tr>\n",
              "      <th>111</th>\n",
              "      <td>are there any restaurants that are open 24 hours</td>\n",
              "      <td></td>\n",
              "      <td>NaN</td>\n",
              "    </tr>\n",
              "    <tr>\n",
              "      <th>126</th>\n",
              "      <td>are there any olive garden in the city open on...</td>\n",
              "      <td>olive garden</td>\n",
              "      <td>olive garden</td>\n",
              "    </tr>\n",
              "    <tr>\n",
              "      <th>147</th>\n",
              "      <td>can you help me find a starting gate restauran...</td>\n",
              "      <td>starting gate restaurant</td>\n",
              "      <td>starting gate restaurant</td>\n",
              "    </tr>\n",
              "    <tr>\n",
              "      <th>93</th>\n",
              "      <td>are the portion at le bec fin large or very small</td>\n",
              "      <td>le bec fin</td>\n",
              "      <td>NaN</td>\n",
              "    </tr>\n",
              "  </tbody>\n",
              "</table>\n",
              "<p>160 rows × 3 columns</p>\n",
              "</div>"
            ],
            "text/plain": [
              "                                              sentence  ...                 rep_label\n",
              "117           are there any chicken wing places nearby  ...                       NaN\n",
              "100  any good place to get a pie at an affordable p...  ...                       NaN\n",
              "29                              anything on the avenue  ...                       NaN\n",
              "148             direct me to the nearest bar la grassa  ...             bar la grassa\n",
              "63                can i dine at the barat a nossa casa  ...                       NaN\n",
              "..                                                 ...  ...                       ...\n",
              "31   are there any restaurants around with a smokin...  ...                       NaN\n",
              "111   are there any restaurants that are open 24 hours  ...                       NaN\n",
              "126  are there any olive garden in the city open on...  ...              olive garden\n",
              "147  can you help me find a starting gate restauran...  ...  starting gate restaurant\n",
              "93   are the portion at le bec fin large or very small  ...                       NaN\n",
              "\n",
              "[160 rows x 3 columns]"
            ]
          },
          "metadata": {},
          "execution_count": 14
        }
      ]
    },
    {
      "cell_type": "code",
      "metadata": {
        "id": "arWK-v6OK5lz",
        "colab": {
          "base_uri": "https://localhost:8080/",
          "height": 990
        },
        "outputId": "a3d9aa4f-c9d9-4bed-91fe-4e1061ef9986"
      },
      "source": [
        "val"
      ],
      "execution_count": null,
      "outputs": [
        {
          "output_type": "execute_result",
          "data": {
            "text/html": [
              "<div>\n",
              "<style scoped>\n",
              "    .dataframe tbody tr th:only-of-type {\n",
              "        vertical-align: middle;\n",
              "    }\n",
              "\n",
              "    .dataframe tbody tr th {\n",
              "        vertical-align: top;\n",
              "    }\n",
              "\n",
              "    .dataframe thead th {\n",
              "        text-align: right;\n",
              "    }\n",
              "</style>\n",
              "<table border=\"1\" class=\"dataframe\">\n",
              "  <thead>\n",
              "    <tr style=\"text-align: right;\">\n",
              "      <th></th>\n",
              "      <th>sentence</th>\n",
              "      <th>restaurant_name</th>\n",
              "    </tr>\n",
              "  </thead>\n",
              "  <tbody>\n",
              "    <tr>\n",
              "      <th>0</th>\n",
              "      <td>are there any ice cream shops in my neighborho...</td>\n",
              "      <td></td>\n",
              "    </tr>\n",
              "    <tr>\n",
              "      <th>1</th>\n",
              "      <td>are there any restaurants within 5 miles that ...</td>\n",
              "      <td></td>\n",
              "    </tr>\n",
              "    <tr>\n",
              "      <th>2</th>\n",
              "      <td>are there any locally owned franchises that gi...</td>\n",
              "      <td></td>\n",
              "    </tr>\n",
              "    <tr>\n",
              "      <th>3</th>\n",
              "      <td>are there any restaurants that will let me tak...</td>\n",
              "      <td></td>\n",
              "    </tr>\n",
              "    <tr>\n",
              "      <th>4</th>\n",
              "      <td>are there any five star restaurants around here</td>\n",
              "      <td></td>\n",
              "    </tr>\n",
              "    <tr>\n",
              "      <th>5</th>\n",
              "      <td>do you think the noodle bar is open</td>\n",
              "      <td>noodle bar</td>\n",
              "    </tr>\n",
              "    <tr>\n",
              "      <th>6</th>\n",
              "      <td>are there any vegetarian restaurants in this town</td>\n",
              "      <td></td>\n",
              "    </tr>\n",
              "    <tr>\n",
              "      <th>7</th>\n",
              "      <td>any places around here that has a nice view</td>\n",
              "      <td></td>\n",
              "    </tr>\n",
              "    <tr>\n",
              "      <th>8</th>\n",
              "      <td>are there any jazz clubs that serve food</td>\n",
              "      <td></td>\n",
              "    </tr>\n",
              "    <tr>\n",
              "      <th>9</th>\n",
              "      <td>do any famous people frequent the jimmys pizza...</td>\n",
              "      <td>jimmys pizza</td>\n",
              "    </tr>\n",
              "    <tr>\n",
              "      <th>10</th>\n",
              "      <td>are there any dining specials at le bec fin</td>\n",
              "      <td>le bec fin</td>\n",
              "    </tr>\n",
              "    <tr>\n",
              "      <th>11</th>\n",
              "      <td>are there any seafood restaurants near governm...</td>\n",
              "      <td></td>\n",
              "    </tr>\n",
              "    <tr>\n",
              "      <th>12</th>\n",
              "      <td>are there any places near by that sell hamburg...</td>\n",
              "      <td></td>\n",
              "    </tr>\n",
              "    <tr>\n",
              "      <th>13</th>\n",
              "      <td>are there any restaurants nearby that have out...</td>\n",
              "      <td></td>\n",
              "    </tr>\n",
              "    <tr>\n",
              "      <th>14</th>\n",
              "      <td>can you find the waterfront restaurant alberto...</td>\n",
              "      <td>albertos deli</td>\n",
              "    </tr>\n",
              "    <tr>\n",
              "      <th>15</th>\n",
              "      <td>do you know if reggianos serve breakfast</td>\n",
              "      <td>reggianos</td>\n",
              "    </tr>\n",
              "    <tr>\n",
              "      <th>16</th>\n",
              "      <td>are there any vegetarian restaurants that allo...</td>\n",
              "      <td></td>\n",
              "    </tr>\n",
              "    <tr>\n",
              "      <th>17</th>\n",
              "      <td>can you make reservations for two at heartland...</td>\n",
              "      <td>heartland restaurant</td>\n",
              "    </tr>\n",
              "    <tr>\n",
              "      <th>18</th>\n",
              "      <td>are there any greek restaurants in the area</td>\n",
              "      <td></td>\n",
              "    </tr>\n",
              "    <tr>\n",
              "      <th>19</th>\n",
              "      <td>are there any vegan spots that are open after ...</td>\n",
              "      <td></td>\n",
              "    </tr>\n",
              "    <tr>\n",
              "      <th>20</th>\n",
              "      <td>can you find the closest ihop</td>\n",
              "      <td>ihop</td>\n",
              "    </tr>\n",
              "    <tr>\n",
              "      <th>21</th>\n",
              "      <td>call cheeseboard in berkeley for me</td>\n",
              "      <td>cheeseboard</td>\n",
              "    </tr>\n",
              "    <tr>\n",
              "      <th>22</th>\n",
              "      <td>does burger king accept credit cards</td>\n",
              "      <td>burger king</td>\n",
              "    </tr>\n",
              "    <tr>\n",
              "      <th>23</th>\n",
              "      <td>beer and hot wings in town</td>\n",
              "      <td></td>\n",
              "    </tr>\n",
              "    <tr>\n",
              "      <th>24</th>\n",
              "      <td>are there any restaurants with valet parking a...</td>\n",
              "      <td></td>\n",
              "    </tr>\n",
              "    <tr>\n",
              "      <th>25</th>\n",
              "      <td>any bbq places open before 5 nearby</td>\n",
              "      <td></td>\n",
              "    </tr>\n",
              "    <tr>\n",
              "      <th>26</th>\n",
              "      <td>are there are any cracker barrells on long island</td>\n",
              "      <td>cracker barrells</td>\n",
              "    </tr>\n",
              "    <tr>\n",
              "      <th>27</th>\n",
              "      <td>best chinese food in the area</td>\n",
              "      <td></td>\n",
              "    </tr>\n",
              "    <tr>\n",
              "      <th>28</th>\n",
              "      <td>any good vegan spots nearby</td>\n",
              "      <td></td>\n",
              "    </tr>\n",
              "    <tr>\n",
              "      <th>29</th>\n",
              "      <td>are there any places near by that serve lunch ...</td>\n",
              "      <td></td>\n",
              "    </tr>\n",
              "  </tbody>\n",
              "</table>\n",
              "</div>"
            ],
            "text/plain": [
              "                                             sentence       restaurant_name\n",
              "0   are there any ice cream shops in my neighborho...                      \n",
              "1   are there any restaurants within 5 miles that ...                      \n",
              "2   are there any locally owned franchises that gi...                      \n",
              "3   are there any restaurants that will let me tak...                      \n",
              "4     are there any five star restaurants around here                      \n",
              "5                 do you think the noodle bar is open            noodle bar\n",
              "6   are there any vegetarian restaurants in this town                      \n",
              "7         any places around here that has a nice view                      \n",
              "8            are there any jazz clubs that serve food                      \n",
              "9   do any famous people frequent the jimmys pizza...          jimmys pizza\n",
              "10        are there any dining specials at le bec fin            le bec fin\n",
              "11  are there any seafood restaurants near governm...                      \n",
              "12  are there any places near by that sell hamburg...                      \n",
              "13  are there any restaurants nearby that have out...                      \n",
              "14  can you find the waterfront restaurant alberto...         albertos deli\n",
              "15           do you know if reggianos serve breakfast             reggianos\n",
              "16  are there any vegetarian restaurants that allo...                      \n",
              "17  can you make reservations for two at heartland...  heartland restaurant\n",
              "18        are there any greek restaurants in the area                      \n",
              "19  are there any vegan spots that are open after ...                      \n",
              "20                      can you find the closest ihop                  ihop\n",
              "21                call cheeseboard in berkeley for me           cheeseboard\n",
              "22               does burger king accept credit cards           burger king\n",
              "23                         beer and hot wings in town                      \n",
              "24  are there any restaurants with valet parking a...                      \n",
              "25                any bbq places open before 5 nearby                      \n",
              "26  are there are any cracker barrells on long island      cracker barrells\n",
              "27                      best chinese food in the area                      \n",
              "28                        any good vegan spots nearby                      \n",
              "29  are there any places near by that serve lunch ...                      "
            ]
          },
          "metadata": {},
          "execution_count": 15
        }
      ]
    },
    {
      "cell_type": "code",
      "metadata": {
        "colab": {
          "base_uri": "https://localhost:8080/",
          "height": 72
        },
        "id": "I4Y1ZEGnKhzn",
        "outputId": "7cb05acd-592a-44f0-a616-13156a9751ea"
      },
      "source": [
        "model.eval()\n",
        "generate_outputs(model, train.sentence[6])"
      ],
      "execution_count": null,
      "outputs": [
        {
          "output_type": "stream",
          "name": "stderr",
          "text": [
            "Truncation was not explicitly activated but `max_length` is provided a specific value, please use `truncation=True` to explicitly truncate examples to max length. Defaulting to 'longest_first' truncation strategy. If you encode pairs of sequences (GLUE-style) with the tokenizer you can select this strategy more precisely by providing a specific strategy to `truncation`.\n"
          ]
        },
        {
          "output_type": "execute_result",
          "data": {
            "application/vnd.google.colaboratory.intrinsic+json": {
              "type": "string"
            },
            "text/plain": [
              "'can you tell me where the nearest wendys is'"
            ]
          },
          "metadata": {},
          "execution_count": 16
        }
      ]
    },
    {
      "cell_type": "code",
      "metadata": {
        "colab": {
          "base_uri": "https://localhost:8080/"
        },
        "id": "OfyVLd7_cW7U",
        "outputId": "c97d6236-5f69-4fdf-ab44-22920ec68a72"
      },
      "source": [
        "model.train()\n",
        "1"
      ],
      "execution_count": null,
      "outputs": [
        {
          "output_type": "execute_result",
          "data": {
            "text/plain": [
              "1"
            ]
          },
          "metadata": {},
          "execution_count": 17
        }
      ]
    },
    {
      "cell_type": "code",
      "metadata": {
        "id": "G_UdYflG5p3t"
      },
      "source": [
        "################################\n",
        "# DO NOT CHANGE THIS FUNCTION! #\n",
        "################################\n",
        "\n",
        "def get_f1_score_on_test_data(model, data):\n",
        "    model.eval()\n",
        "    true_positives = 0\n",
        "    false_positives = 0\n",
        "    false_negatives = 0\n",
        "    for index, row in data.iterrows():\n",
        "        sentence = row.sentence\n",
        "        expected = row.restaurant_name\n",
        "        inputs = tokenizer([sentence], max_length=1024, return_tensors='pt')\n",
        "        predicted = generate_outputs(model, sentence)\n",
        "        if expected != '' and expected == predicted:\n",
        "            true_positives += 1\n",
        "        if expected != '' and expected != predicted:\n",
        "            false_positives += 1\n",
        "        if expected == '' and predicted != '':\n",
        "            false_positives += 1\n",
        "        if expected != '' and predicted == '':\n",
        "            false_negatives += 1\n",
        "\n",
        "    precision = 0\n",
        "    recall = 0\n",
        "    f1_score = 0\n",
        "    if true_positives + false_positives:\n",
        "        precision = true_positives / (true_positives + false_positives)\n",
        "    if true_positives + false_negatives:\n",
        "        recall = true_positives /(true_positives + false_negatives)\n",
        "    if precision + recall:\n",
        "        f1_score = 2 * precision * recall / (precision + recall)\n",
        "\n",
        "    print(f'precision: {precision} | recall {recall} | f1_score {f1_score}')\n",
        "    return f1_score"
      ],
      "execution_count": null,
      "outputs": []
    },
    {
      "cell_type": "code",
      "metadata": {
        "id": "1uER6nu05rrF"
      },
      "source": [
        "tokenizer = BartTokenizer.from_pretrained('facebook/bart-base')\n",
        "\n",
        "model = BartForConditionalGeneration.from_pretrained('facebook/bart-base')\n",
        "\n",
        "_ = model.to(device)\n",
        "\n",
        "num_epochs = 20\n",
        "learning_rate = 2e-5\n",
        "criterion = nn.BCEWithLogitsLoss()\n",
        "optimizer = torch.optim.Adam(model.parameters(), lr=learning_rate)\n",
        "scheduler = StepLR(optimizer, step_size=10, gamma=0.8)"
      ],
      "execution_count": null,
      "outputs": []
    },
    {
      "cell_type": "code",
      "metadata": {
        "id": "cVARLtJLE3pa"
      },
      "source": [
        "# from torch.nn.utils.rnn import pad_sequence"
      ],
      "execution_count": null,
      "outputs": []
    },
    {
      "cell_type": "code",
      "metadata": {
        "id": "2gTaEBxKGEta"
      },
      "source": [
        "# tokenizer.batch_encode_plus?"
      ],
      "execution_count": null,
      "outputs": []
    },
    {
      "cell_type": "code",
      "metadata": {
        "id": "Aos_e8ZtGoL1"
      },
      "source": [
        "# train.sentence[0]"
      ],
      "execution_count": null,
      "outputs": []
    },
    {
      "cell_type": "code",
      "metadata": {
        "id": "9cpVfldXGh_n"
      },
      "source": [
        "# tokenizer.batch_encode_plus([train.sentence[0]])[\"input_ids\"]"
      ],
      "execution_count": null,
      "outputs": []
    },
    {
      "cell_type": "code",
      "metadata": {
        "id": "1HCLsbajG5qE"
      },
      "source": [
        "# tokenizer.encode?\n",
        "# #(train.sentence[0], return_tensors='pt')"
      ],
      "execution_count": null,
      "outputs": []
    },
    {
      "cell_type": "code",
      "metadata": {
        "id": "AkDsrnisIPAg"
      },
      "source": [
        "# sents = [x.sentence for row, x in train.iterrows()]\n",
        "\n",
        "# labels = [x.restaurant_name for row, x in train.iterrows()]\n",
        "\n",
        "# start = 0\n",
        "\n",
        "# tokenizer.batch_encode_plus(sents[start:start+10], padding=True)[\"input_ids\"]"
      ],
      "execution_count": null,
      "outputs": []
    },
    {
      "cell_type": "code",
      "metadata": {
        "id": "bOhe9Om8Bl1V"
      },
      "source": [
        "def train_one_batch_and_get_loss(train_model, data, optimizer, criterion, batch_size=10):\n",
        "    total_loss = 0.\n",
        "\n",
        "    sents = [x.sentence for row, x in data.iterrows()]\n",
        "    labels = [x.restaurant_name for row, x in data.iterrows()]\n",
        "\n",
        "    #sents_tok = [tokenizer.encode(x, padding=True) for x in sents]\n",
        "\n",
        "    #labels_tok = [tokenizer.encode(x, padding=True) for x in labels]\n",
        "\n",
        "    total_steps = int(len(sents) / batch_size)\n",
        "\n",
        "    for i in tqdm(range(total_steps), total=total_steps): \n",
        "        start = i * batch_size       \n",
        "        #print(start, start+batch_size)\n",
        "        batch_sents = torch.tensor(tokenizer.batch_encode_plus(sents[start:start+batch_size], padding=True)[\"input_ids\"]).to(device)\n",
        "        \n",
        "        batch_labels = torch.tensor(tokenizer.batch_encode_plus(labels[start:start+batch_size], padding=True)[\"input_ids\"]).to(device)\n",
        "        model.train()\n",
        "        optimizer.zero_grad()\n",
        "        \n",
        "        loss = train_model(batch_sents, labels=batch_labels)[0]\n",
        "        loss.backward()\n",
        "        optimizer.step()\n",
        "        total_loss += loss.item()\n",
        "\n",
        "    return total_loss / data.shape[0]"
      ],
      "execution_count": null,
      "outputs": []
    },
    {
      "cell_type": "code",
      "metadata": {
        "id": "2e6GKunr5ugz"
      },
      "source": [
        "def train_one_step_and_get_loss(train_model, data, optimizer, criterion):\n",
        "    total_loss = 0.\n",
        "    for i, row in tqdm(data.iterrows(), total=data.shape[0]):\n",
        "        model.train()\n",
        "        optimizer.zero_grad()\n",
        "        input_ids = tokenizer.encode(row.sentence, return_tensors='pt').to(device)\n",
        "        output_ids = tokenizer.encode(row.restaurant_name, return_tensors='pt').to(device)\n",
        "        loss = train_model(input_ids, labels=output_ids)[0]\n",
        "        loss.backward()\n",
        "        optimizer.step()\n",
        "        total_loss += loss.item()\n",
        "\n",
        "    return total_loss / data.shape[0]"
      ],
      "execution_count": null,
      "outputs": []
    },
    {
      "cell_type": "code",
      "metadata": {
        "colab": {
          "base_uri": "https://localhost:8080/"
        },
        "id": "IP29N1Xn6XOy",
        "outputId": "de275a17-3552-473e-e028-67ab85015897"
      },
      "source": [
        "best_model = None\n",
        "tokenizer = BartTokenizer.from_pretrained('facebook/bart-base')\n",
        "\n",
        "model = BartForConditionalGeneration.from_pretrained('facebook/bart-base')\n",
        "\n",
        "_ = model.to(device)\n",
        "\n",
        "num_epochs = 50\n",
        "learning_rate = 2e-5\n",
        "batch_size = 10\n",
        "criterion = nn.BCEWithLogitsLoss()\n",
        "optimizer = torch.optim.Adam(model.parameters(), lr=learning_rate)\n",
        "scheduler = StepLR(optimizer, step_size=10, gamma=0.8)\n",
        "min_f1 = 0\n",
        "holdout_f1 = 0\n",
        "MODEL_PATH = \"b_10_ss10_e50_swap\"\n",
        "for epoch in range(num_epochs):\n",
        "    loss = train_one_batch_and_get_loss(model, train, optimizer, criterion, batch_size=batch_size)\n",
        "    print('Epoch:', epoch , '-' * 35)\n",
        "    print('Training loss:', loss)\n",
        "    f1_val = get_f1_score_on_test_data(model, val)\n",
        "    f1_train = get_f1_score_on_test_data(model, train)\n",
        "    f1 = get_f1_score_on_test_data(model, holdout)\n",
        "    if f1_val > min_f1:\n",
        "        \n",
        "        print(\"saving model:\", f1, f1_val,min_f1, epoch)\n",
        "        min_f1 = f1_val\n",
        "        holdout_f1 = f1\n",
        "        torch.save(model.state_dict(), MODEL_PATH)\n",
        "    best_model = model\n",
        "    print('-' * 44)\n",
        "    sys.stdout.flush()\n",
        "    scheduler.step()"
      ],
      "execution_count": null,
      "outputs": [
        {
          "output_type": "stream",
          "name": "stderr",
          "text": [
            "100%|██████████| 16/16 [00:03<00:00,  4.52it/s]\n",
            "Truncation was not explicitly activated but `max_length` is provided a specific value, please use `truncation=True` to explicitly truncate examples to max length. Defaulting to 'longest_first' truncation strategy. If you encode pairs of sequences (GLUE-style) with the tokenizer you can select this strategy more precisely by providing a specific strategy to `truncation`.\n"
          ]
        },
        {
          "output_type": "stream",
          "name": "stdout",
          "text": [
            "Epoch: 0 -----------------------------------\n",
            "Training loss: 0.7854907304048538\n",
            "precision: 0.0 | recall 0.0 | f1_score 0\n",
            "precision: 0.012048192771084338 | recall 0.013888888888888888 | f1_score 0.012903225806451613\n",
            "precision: 0.0 | recall 0.0 | f1_score 0\n",
            "--------------------------------------------\n"
          ]
        },
        {
          "output_type": "stream",
          "name": "stderr",
          "text": [
            "100%|██████████| 16/16 [00:03<00:00,  4.70it/s]\n"
          ]
        },
        {
          "output_type": "stream",
          "name": "stdout",
          "text": [
            "Epoch: 1 -----------------------------------\n",
            "Training loss: 0.5994654268026351\n",
            "precision: 0.25 | recall 0.375 | f1_score 0.3\n",
            "precision: 0.4 | recall 0.6181818181818182 | f1_score 0.48571428571428577\n",
            "precision: 0.14285714285714285 | recall 0.25 | f1_score 0.18181818181818182\n",
            "saving model: 0.18181818181818182 0.3 0 1\n",
            "--------------------------------------------\n"
          ]
        },
        {
          "output_type": "stream",
          "name": "stderr",
          "text": [
            "100%|██████████| 16/16 [00:03<00:00,  4.53it/s]\n"
          ]
        },
        {
          "output_type": "stream",
          "name": "stdout",
          "text": [
            "Epoch: 2 -----------------------------------\n",
            "Training loss: 0.4281005397439003\n",
            "precision: 0.75 | recall 0.9 | f1_score 0.8181818181818182\n",
            "precision: 0.6161616161616161 | recall 0.9384615384615385 | f1_score 0.7439024390243902\n",
            "precision: 0.30612244897959184 | recall 0.6976744186046512 | f1_score 0.425531914893617\n",
            "saving model: 0.425531914893617 0.8181818181818182 0.3 2\n",
            "--------------------------------------------\n"
          ]
        },
        {
          "output_type": "stream",
          "name": "stderr",
          "text": [
            "100%|██████████| 16/16 [00:03<00:00,  4.52it/s]\n"
          ]
        },
        {
          "output_type": "stream",
          "name": "stdout",
          "text": [
            "Epoch: 3 -----------------------------------\n",
            "Training loss: 0.3195929333567619\n",
            "precision: 0.5 | recall 0.8571428571428571 | f1_score 0.631578947368421\n",
            "precision: 0.5742574257425742 | recall 0.9830508474576272 | f1_score 0.725\n",
            "precision: 0.26851851851851855 | recall 0.8285714285714286 | f1_score 0.4055944055944056\n",
            "--------------------------------------------\n"
          ]
        },
        {
          "output_type": "stream",
          "name": "stderr",
          "text": [
            "100%|██████████| 16/16 [00:03<00:00,  4.71it/s]\n"
          ]
        },
        {
          "output_type": "stream",
          "name": "stdout",
          "text": [
            "Epoch: 4 -----------------------------------\n",
            "Training loss: 0.23693885356187822\n",
            "precision: 0.6666666666666666 | recall 0.8888888888888888 | f1_score 0.761904761904762\n",
            "precision: 0.6288659793814433 | recall 0.9682539682539683 | f1_score 0.7624999999999998\n",
            "precision: 0.30392156862745096 | recall 0.775 | f1_score 0.4366197183098592\n",
            "--------------------------------------------\n"
          ]
        },
        {
          "output_type": "stream",
          "name": "stderr",
          "text": [
            "100%|██████████| 16/16 [00:03<00:00,  4.70it/s]\n"
          ]
        },
        {
          "output_type": "stream",
          "name": "stdout",
          "text": [
            "Epoch: 5 -----------------------------------\n",
            "Training loss: 0.16760413944721222\n",
            "precision: 0.5833333333333334 | recall 0.7777777777777778 | f1_score 0.6666666666666666\n",
            "precision: 0.7647058823529411 | recall 0.9420289855072463 | f1_score 0.8441558441558441\n",
            "precision: 0.3125 | recall 0.5681818181818182 | f1_score 0.40322580645161293\n",
            "--------------------------------------------\n"
          ]
        },
        {
          "output_type": "stream",
          "name": "stderr",
          "text": [
            "100%|██████████| 16/16 [00:03<00:00,  4.70it/s]\n"
          ]
        },
        {
          "output_type": "stream",
          "name": "stdout",
          "text": [
            "Epoch: 6 -----------------------------------\n",
            "Training loss: 0.11888889819383622\n",
            "precision: 0.5833333333333334 | recall 0.875 | f1_score 0.7000000000000001\n",
            "precision: 0.6923076923076923 | recall 1.0 | f1_score 0.8181818181818181\n",
            "precision: 0.25 | recall 0.75 | f1_score 0.375\n",
            "--------------------------------------------\n"
          ]
        },
        {
          "output_type": "stream",
          "name": "stderr",
          "text": [
            "100%|██████████| 16/16 [00:03<00:00,  4.71it/s]\n"
          ]
        },
        {
          "output_type": "stream",
          "name": "stdout",
          "text": [
            "Epoch: 7 -----------------------------------\n",
            "Training loss: 0.08380216602236032\n",
            "precision: 0.5833333333333334 | recall 0.875 | f1_score 0.7000000000000001\n",
            "precision: 0.8045977011494253 | recall 1.0 | f1_score 0.8917197452229298\n",
            "precision: 0.3118279569892473 | recall 0.7073170731707317 | f1_score 0.4328358208955224\n",
            "--------------------------------------------\n"
          ]
        },
        {
          "output_type": "stream",
          "name": "stderr",
          "text": [
            "100%|██████████| 16/16 [00:03<00:00,  4.71it/s]\n"
          ]
        },
        {
          "output_type": "stream",
          "name": "stdout",
          "text": [
            "Epoch: 8 -----------------------------------\n",
            "Training loss: 0.07235456705093384\n",
            "precision: 0.5833333333333334 | recall 0.7777777777777778 | f1_score 0.6666666666666666\n",
            "precision: 0.7976190476190477 | recall 1.0 | f1_score 0.8874172185430463\n",
            "precision: 0.37037037037037035 | recall 0.6666666666666666 | f1_score 0.47619047619047616\n",
            "--------------------------------------------\n"
          ]
        },
        {
          "output_type": "stream",
          "name": "stderr",
          "text": [
            "100%|██████████| 16/16 [00:03<00:00,  4.71it/s]\n"
          ]
        },
        {
          "output_type": "stream",
          "name": "stdout",
          "text": [
            "Epoch: 9 -----------------------------------\n",
            "Training loss: 0.038657298870384695\n",
            "precision: 0.5833333333333334 | recall 0.875 | f1_score 0.7000000000000001\n",
            "precision: 0.7294117647058823 | recall 1.0 | f1_score 0.8435374149659863\n",
            "precision: 0.26851851851851855 | recall 0.8529411764705882 | f1_score 0.4084507042253522\n",
            "--------------------------------------------\n"
          ]
        },
        {
          "output_type": "stream",
          "name": "stderr",
          "text": [
            "100%|██████████| 16/16 [00:03<00:00,  4.68it/s]\n"
          ]
        },
        {
          "output_type": "stream",
          "name": "stdout",
          "text": [
            "Epoch: 10 -----------------------------------\n",
            "Training loss: 0.030647348798811435\n",
            "precision: 0.45454545454545453 | recall 0.5555555555555556 | f1_score 0.5\n",
            "precision: 0.8809523809523809 | recall 0.9736842105263158 | f1_score 0.925\n",
            "precision: 0.3013698630136986 | recall 0.5116279069767442 | f1_score 0.3793103448275862\n",
            "--------------------------------------------\n"
          ]
        },
        {
          "output_type": "stream",
          "name": "stderr",
          "text": [
            "100%|██████████| 16/16 [00:03<00:00,  4.69it/s]\n"
          ]
        },
        {
          "output_type": "stream",
          "name": "stdout",
          "text": [
            "Epoch: 11 -----------------------------------\n",
            "Training loss: 0.03294290397316217\n",
            "precision: 0.5833333333333334 | recall 0.875 | f1_score 0.7000000000000001\n",
            "precision: 0.8333333333333334 | recall 1.0 | f1_score 0.9090909090909091\n",
            "precision: 0.2672413793103448 | recall 0.8857142857142857 | f1_score 0.4105960264900662\n",
            "--------------------------------------------\n"
          ]
        },
        {
          "output_type": "stream",
          "name": "stderr",
          "text": [
            "100%|██████████| 16/16 [00:03<00:00,  4.69it/s]\n"
          ]
        },
        {
          "output_type": "stream",
          "name": "stdout",
          "text": [
            "Epoch: 12 -----------------------------------\n",
            "Training loss: 0.02126146461814642\n",
            "precision: 0.5833333333333334 | recall 0.875 | f1_score 0.7000000000000001\n",
            "precision: 0.8674698795180723 | recall 1.0 | f1_score 0.9290322580645161\n",
            "precision: 0.30392156862745096 | recall 0.8378378378378378 | f1_score 0.4460431654676259\n",
            "--------------------------------------------\n"
          ]
        },
        {
          "output_type": "stream",
          "name": "stderr",
          "text": [
            "100%|██████████| 16/16 [00:03<00:00,  4.69it/s]\n"
          ]
        },
        {
          "output_type": "stream",
          "name": "stdout",
          "text": [
            "Epoch: 13 -----------------------------------\n",
            "Training loss: 0.01771645280532539\n",
            "precision: 0.5833333333333334 | recall 0.875 | f1_score 0.7000000000000001\n",
            "precision: 0.9036144578313253 | recall 1.0 | f1_score 0.9493670886075949\n",
            "precision: 0.26956521739130435 | recall 0.96875 | f1_score 0.42176870748299317\n",
            "--------------------------------------------\n"
          ]
        },
        {
          "output_type": "stream",
          "name": "stderr",
          "text": [
            "100%|██████████| 16/16 [00:03<00:00,  4.68it/s]\n"
          ]
        },
        {
          "output_type": "stream",
          "name": "stdout",
          "text": [
            "Epoch: 14 -----------------------------------\n",
            "Training loss: 0.012642196612432599\n",
            "precision: 0.5833333333333334 | recall 0.7777777777777778 | f1_score 0.6666666666666666\n",
            "precision: 0.9397590361445783 | recall 1.0 | f1_score 0.9689440993788819\n",
            "precision: 0.3253012048192771 | recall 0.6923076923076923 | f1_score 0.4426229508196721\n",
            "--------------------------------------------\n"
          ]
        },
        {
          "output_type": "stream",
          "name": "stderr",
          "text": [
            "100%|██████████| 16/16 [00:03<00:00,  4.71it/s]\n"
          ]
        },
        {
          "output_type": "stream",
          "name": "stdout",
          "text": [
            "Epoch: 15 -----------------------------------\n",
            "Training loss: 0.012358259409666061\n",
            "precision: 0.6666666666666666 | recall 0.8888888888888888 | f1_score 0.761904761904762\n",
            "precision: 0.9036144578313253 | recall 1.0 | f1_score 0.9493670886075949\n",
            "precision: 0.35714285714285715 | recall 0.875 | f1_score 0.5072463768115941\n",
            "--------------------------------------------\n"
          ]
        },
        {
          "output_type": "stream",
          "name": "stderr",
          "text": [
            "100%|██████████| 16/16 [00:03<00:00,  4.71it/s]\n"
          ]
        },
        {
          "output_type": "stream",
          "name": "stdout",
          "text": [
            "Epoch: 16 -----------------------------------\n",
            "Training loss: 0.009548271959647536\n",
            "precision: 0.5 | recall 0.75 | f1_score 0.6\n",
            "precision: 0.9036144578313253 | recall 0.9868421052631579 | f1_score 0.9433962264150944\n",
            "precision: 0.34177215189873417 | recall 0.675 | f1_score 0.453781512605042\n",
            "--------------------------------------------\n"
          ]
        },
        {
          "output_type": "stream",
          "name": "stderr",
          "text": [
            "100%|██████████| 16/16 [00:03<00:00,  4.70it/s]\n"
          ]
        },
        {
          "output_type": "stream",
          "name": "stdout",
          "text": [
            "Epoch: 17 -----------------------------------\n",
            "Training loss: 0.013199388608336448\n",
            "precision: 0.75 | recall 0.9 | f1_score 0.8181818181818182\n",
            "precision: 0.8674698795180723 | recall 1.0 | f1_score 0.9290322580645161\n",
            "precision: 0.35789473684210527 | recall 0.85 | f1_score 0.5037037037037038\n",
            "--------------------------------------------\n"
          ]
        },
        {
          "output_type": "stream",
          "name": "stderr",
          "text": [
            "100%|██████████| 16/16 [00:03<00:00,  4.70it/s]\n"
          ]
        },
        {
          "output_type": "stream",
          "name": "stdout",
          "text": [
            "Epoch: 18 -----------------------------------\n",
            "Training loss: 0.008804555283859372\n",
            "precision: 0.6666666666666666 | recall 0.8888888888888888 | f1_score 0.761904761904762\n",
            "precision: 0.9397590361445783 | recall 1.0 | f1_score 0.9689440993788819\n",
            "precision: 0.29347826086956524 | recall 0.7297297297297297 | f1_score 0.41860465116279066\n",
            "--------------------------------------------\n"
          ]
        },
        {
          "output_type": "stream",
          "name": "stderr",
          "text": [
            "100%|██████████| 16/16 [00:03<00:00,  4.72it/s]\n"
          ]
        },
        {
          "output_type": "stream",
          "name": "stdout",
          "text": [
            "Epoch: 19 -----------------------------------\n",
            "Training loss: 0.006480376329272985\n",
            "precision: 0.45454545454545453 | recall 0.7142857142857143 | f1_score 0.5555555555555556\n",
            "precision: 0.9397590361445783 | recall 1.0 | f1_score 0.9689440993788819\n",
            "precision: 0.36 | recall 0.675 | f1_score 0.46956521739130425\n",
            "--------------------------------------------\n"
          ]
        },
        {
          "output_type": "stream",
          "name": "stderr",
          "text": [
            "100%|██████████| 16/16 [00:03<00:00,  4.70it/s]\n"
          ]
        },
        {
          "output_type": "stream",
          "name": "stdout",
          "text": [
            "Epoch: 20 -----------------------------------\n",
            "Training loss: 0.006066537543665618\n",
            "precision: 0.6666666666666666 | recall 0.8888888888888888 | f1_score 0.761904761904762\n",
            "precision: 0.9156626506024096 | recall 1.0 | f1_score 0.9559748427672956\n",
            "precision: 0.30927835051546393 | recall 0.7692307692307693 | f1_score 0.4411764705882353\n",
            "--------------------------------------------\n"
          ]
        },
        {
          "output_type": "stream",
          "name": "stderr",
          "text": [
            "100%|██████████| 16/16 [00:03<00:00,  4.69it/s]\n"
          ]
        },
        {
          "output_type": "stream",
          "name": "stdout",
          "text": [
            "Epoch: 21 -----------------------------------\n",
            "Training loss: 0.0065623917384073135\n",
            "precision: 0.6666666666666666 | recall 0.8888888888888888 | f1_score 0.761904761904762\n",
            "precision: 0.9156626506024096 | recall 1.0 | f1_score 0.9559748427672956\n",
            "precision: 0.3118279569892473 | recall 0.7631578947368421 | f1_score 0.44274809160305345\n",
            "--------------------------------------------\n"
          ]
        },
        {
          "output_type": "stream",
          "name": "stderr",
          "text": [
            "100%|██████████| 16/16 [00:03<00:00,  4.70it/s]\n"
          ]
        },
        {
          "output_type": "stream",
          "name": "stdout",
          "text": [
            "Epoch: 22 -----------------------------------\n",
            "Training loss: 0.0057531386730261145\n",
            "precision: 0.5 | recall 0.75 | f1_score 0.6\n",
            "precision: 0.9146341463414634 | recall 1.0 | f1_score 0.9554140127388536\n",
            "precision: 0.3076923076923077 | recall 0.717948717948718 | f1_score 0.43076923076923085\n",
            "--------------------------------------------\n"
          ]
        },
        {
          "output_type": "stream",
          "name": "stderr",
          "text": [
            "100%|██████████| 16/16 [00:03<00:00,  4.69it/s]\n"
          ]
        },
        {
          "output_type": "stream",
          "name": "stdout",
          "text": [
            "Epoch: 23 -----------------------------------\n",
            "Training loss: 0.0053708544233813885\n",
            "precision: 0.45454545454545453 | recall 0.7142857142857143 | f1_score 0.5555555555555556\n",
            "precision: 0.9512195121951219 | recall 1.0 | f1_score 0.975\n",
            "precision: 0.34210526315789475 | recall 0.65 | f1_score 0.4482758620689655\n",
            "--------------------------------------------\n"
          ]
        },
        {
          "output_type": "stream",
          "name": "stderr",
          "text": [
            "100%|██████████| 16/16 [00:03<00:00,  4.66it/s]\n"
          ]
        },
        {
          "output_type": "stream",
          "name": "stdout",
          "text": [
            "Epoch: 24 -----------------------------------\n",
            "Training loss: 0.004148738284129649\n",
            "precision: 0.5833333333333334 | recall 0.875 | f1_score 0.7000000000000001\n",
            "precision: 0.9512195121951219 | recall 1.0 | f1_score 0.975\n",
            "precision: 0.3125 | recall 0.8108108108108109 | f1_score 0.45112781954887216\n",
            "--------------------------------------------\n"
          ]
        },
        {
          "output_type": "stream",
          "name": "stderr",
          "text": [
            "100%|██████████| 16/16 [00:03<00:00,  4.73it/s]\n"
          ]
        },
        {
          "output_type": "stream",
          "name": "stdout",
          "text": [
            "Epoch: 25 -----------------------------------\n",
            "Training loss: 0.0047230265219695864\n",
            "precision: 0.5 | recall 0.8571428571428571 | f1_score 0.631578947368421\n",
            "precision: 0.9634146341463414 | recall 1.0 | f1_score 0.9813664596273292\n",
            "precision: 0.32142857142857145 | recall 0.7297297297297297 | f1_score 0.44628099173553715\n",
            "--------------------------------------------\n"
          ]
        },
        {
          "output_type": "stream",
          "name": "stderr",
          "text": [
            "100%|██████████| 16/16 [00:03<00:00,  4.68it/s]\n"
          ]
        },
        {
          "output_type": "stream",
          "name": "stdout",
          "text": [
            "Epoch: 26 -----------------------------------\n",
            "Training loss: 0.005191712849773466\n",
            "precision: 0.45454545454545453 | recall 0.7142857142857143 | f1_score 0.5555555555555556\n",
            "precision: 0.9512195121951219 | recall 1.0 | f1_score 0.975\n",
            "precision: 0.3333333333333333 | recall 0.6842105263157895 | f1_score 0.44827586206896547\n",
            "--------------------------------------------\n"
          ]
        },
        {
          "output_type": "stream",
          "name": "stderr",
          "text": [
            "100%|██████████| 16/16 [00:03<00:00,  4.70it/s]\n"
          ]
        },
        {
          "output_type": "stream",
          "name": "stdout",
          "text": [
            "Epoch: 27 -----------------------------------\n",
            "Training loss: 0.004068744368851185\n",
            "precision: 0.6666666666666666 | recall 0.8888888888888888 | f1_score 0.761904761904762\n",
            "precision: 0.9506172839506173 | recall 1.0 | f1_score 0.9746835443037974\n",
            "precision: 0.3157894736842105 | recall 0.8571428571428571 | f1_score 0.46153846153846156\n",
            "--------------------------------------------\n"
          ]
        },
        {
          "output_type": "stream",
          "name": "stderr",
          "text": [
            "100%|██████████| 16/16 [00:03<00:00,  4.67it/s]\n"
          ]
        },
        {
          "output_type": "stream",
          "name": "stdout",
          "text": [
            "Epoch: 28 -----------------------------------\n",
            "Training loss: 0.0037547939573414624\n",
            "precision: 0.6666666666666666 | recall 0.8888888888888888 | f1_score 0.761904761904762\n",
            "precision: 0.927710843373494 | recall 1.0 | f1_score 0.9625\n",
            "precision: 0.32323232323232326 | recall 0.9411764705882353 | f1_score 0.481203007518797\n",
            "--------------------------------------------\n"
          ]
        },
        {
          "output_type": "stream",
          "name": "stderr",
          "text": [
            "100%|██████████| 16/16 [00:03<00:00,  4.69it/s]\n"
          ]
        },
        {
          "output_type": "stream",
          "name": "stdout",
          "text": [
            "Epoch: 29 -----------------------------------\n",
            "Training loss: 0.003657051152549684\n",
            "precision: 0.6666666666666666 | recall 0.8888888888888888 | f1_score 0.761904761904762\n",
            "precision: 0.9512195121951219 | recall 1.0 | f1_score 0.975\n",
            "precision: 0.34408602150537637 | recall 0.8648648648648649 | f1_score 0.49230769230769234\n",
            "--------------------------------------------\n"
          ]
        },
        {
          "output_type": "stream",
          "name": "stderr",
          "text": [
            "100%|██████████| 16/16 [00:03<00:00,  4.69it/s]\n"
          ]
        },
        {
          "output_type": "stream",
          "name": "stdout",
          "text": [
            "Epoch: 30 -----------------------------------\n",
            "Training loss: 0.0029559612681623547\n",
            "precision: 0.6666666666666666 | recall 0.8888888888888888 | f1_score 0.761904761904762\n",
            "precision: 0.926829268292683 | recall 1.0 | f1_score 0.9620253164556963\n",
            "precision: 0.32941176470588235 | recall 0.7368421052631579 | f1_score 0.45528455284552843\n",
            "--------------------------------------------\n"
          ]
        },
        {
          "output_type": "stream",
          "name": "stderr",
          "text": [
            "100%|██████████| 16/16 [00:03<00:00,  4.67it/s]\n"
          ]
        },
        {
          "output_type": "stream",
          "name": "stdout",
          "text": [
            "Epoch: 31 -----------------------------------\n",
            "Training loss: 0.0023613531433511526\n",
            "precision: 0.6666666666666666 | recall 0.8888888888888888 | f1_score 0.761904761904762\n",
            "precision: 0.9512195121951219 | recall 1.0 | f1_score 0.975\n",
            "precision: 0.32222222222222224 | recall 0.7631578947368421 | f1_score 0.453125\n",
            "--------------------------------------------\n"
          ]
        },
        {
          "output_type": "stream",
          "name": "stderr",
          "text": [
            "100%|██████████| 16/16 [00:03<00:00,  4.67it/s]\n"
          ]
        },
        {
          "output_type": "stream",
          "name": "stdout",
          "text": [
            "Epoch: 32 -----------------------------------\n",
            "Training loss: 0.004588562628487125\n",
            "precision: 0.6666666666666666 | recall 0.8888888888888888 | f1_score 0.761904761904762\n",
            "precision: 0.9512195121951219 | recall 1.0 | f1_score 0.975\n",
            "precision: 0.32967032967032966 | recall 0.7894736842105263 | f1_score 0.46511627906976744\n",
            "--------------------------------------------\n"
          ]
        },
        {
          "output_type": "stream",
          "name": "stderr",
          "text": [
            "100%|██████████| 16/16 [00:03<00:00,  4.67it/s]\n"
          ]
        },
        {
          "output_type": "stream",
          "name": "stdout",
          "text": [
            "Epoch: 33 -----------------------------------\n",
            "Training loss: 0.0046714985102880744\n",
            "precision: 0.5 | recall 0.75 | f1_score 0.6\n",
            "precision: 0.9512195121951219 | recall 1.0 | f1_score 0.975\n",
            "precision: 0.3 | recall 0.7297297297297297 | f1_score 0.4251968503937008\n",
            "--------------------------------------------\n"
          ]
        },
        {
          "output_type": "stream",
          "name": "stderr",
          "text": [
            "100%|██████████| 16/16 [00:03<00:00,  4.69it/s]\n"
          ]
        },
        {
          "output_type": "stream",
          "name": "stdout",
          "text": [
            "Epoch: 34 -----------------------------------\n",
            "Training loss: 0.002790589694632217\n",
            "precision: 0.5833333333333334 | recall 0.875 | f1_score 0.7000000000000001\n",
            "precision: 0.9146341463414634 | recall 1.0 | f1_score 0.9554140127388536\n",
            "precision: 0.32653061224489793 | recall 0.8648648648648649 | f1_score 0.47407407407407404\n",
            "--------------------------------------------\n"
          ]
        },
        {
          "output_type": "stream",
          "name": "stderr",
          "text": [
            "100%|██████████| 16/16 [00:03<00:00,  4.70it/s]\n"
          ]
        },
        {
          "output_type": "stream",
          "name": "stdout",
          "text": [
            "Epoch: 35 -----------------------------------\n",
            "Training loss: 0.002912899450166151\n",
            "precision: 0.5833333333333334 | recall 0.875 | f1_score 0.7000000000000001\n",
            "precision: 0.926829268292683 | recall 1.0 | f1_score 0.9620253164556963\n",
            "precision: 0.30303030303030304 | recall 0.8571428571428571 | f1_score 0.4477611940298507\n",
            "--------------------------------------------\n"
          ]
        },
        {
          "output_type": "stream",
          "name": "stderr",
          "text": [
            "100%|██████████| 16/16 [00:03<00:00,  4.70it/s]\n"
          ]
        },
        {
          "output_type": "stream",
          "name": "stdout",
          "text": [
            "Epoch: 36 -----------------------------------\n",
            "Training loss: 0.0038120577926747503\n",
            "precision: 0.5833333333333334 | recall 0.875 | f1_score 0.7000000000000001\n",
            "precision: 0.9146341463414634 | recall 1.0 | f1_score 0.9554140127388536\n",
            "precision: 0.31313131313131315 | recall 0.8611111111111112 | f1_score 0.45925925925925926\n",
            "--------------------------------------------\n"
          ]
        },
        {
          "output_type": "stream",
          "name": "stderr",
          "text": [
            "100%|██████████| 16/16 [00:03<00:00,  4.69it/s]\n"
          ]
        },
        {
          "output_type": "stream",
          "name": "stdout",
          "text": [
            "Epoch: 37 -----------------------------------\n",
            "Training loss: 0.003064108669059351\n",
            "precision: 0.5833333333333334 | recall 0.875 | f1_score 0.7000000000000001\n",
            "precision: 0.9390243902439024 | recall 1.0 | f1_score 0.9685534591194969\n",
            "precision: 0.29 | recall 0.8285714285714286 | f1_score 0.42962962962962964\n",
            "--------------------------------------------\n"
          ]
        },
        {
          "output_type": "stream",
          "name": "stderr",
          "text": [
            "100%|██████████| 16/16 [00:03<00:00,  4.69it/s]\n"
          ]
        },
        {
          "output_type": "stream",
          "name": "stdout",
          "text": [
            "Epoch: 38 -----------------------------------\n",
            "Training loss: 0.0024978032743092626\n",
            "precision: 0.5833333333333334 | recall 0.875 | f1_score 0.7000000000000001\n",
            "precision: 0.9512195121951219 | recall 1.0 | f1_score 0.975\n",
            "precision: 0.27835051546391754 | recall 0.75 | f1_score 0.406015037593985\n",
            "--------------------------------------------\n"
          ]
        },
        {
          "output_type": "stream",
          "name": "stderr",
          "text": [
            "100%|██████████| 16/16 [00:03<00:00,  4.69it/s]\n"
          ]
        },
        {
          "output_type": "stream",
          "name": "stdout",
          "text": [
            "Epoch: 39 -----------------------------------\n",
            "Training loss: 0.0021055003686342388\n",
            "precision: 0.5 | recall 0.8571428571428571 | f1_score 0.631578947368421\n",
            "precision: 0.9512195121951219 | recall 1.0 | f1_score 0.975\n",
            "precision: 0.2857142857142857 | recall 0.8 | f1_score 0.4210526315789473\n",
            "--------------------------------------------\n"
          ]
        },
        {
          "output_type": "stream",
          "name": "stderr",
          "text": [
            "100%|██████████| 16/16 [00:03<00:00,  4.69it/s]\n"
          ]
        },
        {
          "output_type": "stream",
          "name": "stdout",
          "text": [
            "Epoch: 40 -----------------------------------\n",
            "Training loss: 0.001990148361073807\n",
            "precision: 0.5833333333333334 | recall 0.875 | f1_score 0.7000000000000001\n",
            "precision: 0.9512195121951219 | recall 1.0 | f1_score 0.975\n",
            "precision: 0.2857142857142857 | recall 0.7027027027027027 | f1_score 0.40624999999999994\n",
            "--------------------------------------------\n"
          ]
        },
        {
          "output_type": "stream",
          "name": "stderr",
          "text": [
            "100%|██████████| 16/16 [00:03<00:00,  4.67it/s]\n"
          ]
        },
        {
          "output_type": "stream",
          "name": "stdout",
          "text": [
            "Epoch: 41 -----------------------------------\n",
            "Training loss: 0.006532393640372902\n",
            "precision: 0.6666666666666666 | recall 0.8888888888888888 | f1_score 0.761904761904762\n",
            "precision: 0.9146341463414634 | recall 1.0 | f1_score 0.9554140127388536\n",
            "precision: 0.28431372549019607 | recall 0.90625 | f1_score 0.43283582089552236\n",
            "--------------------------------------------\n"
          ]
        },
        {
          "output_type": "stream",
          "name": "stderr",
          "text": [
            "100%|██████████| 16/16 [00:03<00:00,  4.68it/s]\n"
          ]
        },
        {
          "output_type": "stream",
          "name": "stdout",
          "text": [
            "Epoch: 42 -----------------------------------\n",
            "Training loss: 0.005961420072708279\n",
            "precision: 0.6666666666666666 | recall 0.8888888888888888 | f1_score 0.761904761904762\n",
            "precision: 0.926829268292683 | recall 1.0 | f1_score 0.9620253164556963\n",
            "precision: 0.28846153846153844 | recall 0.9375 | f1_score 0.44117647058823534\n",
            "--------------------------------------------\n"
          ]
        },
        {
          "output_type": "stream",
          "name": "stderr",
          "text": [
            "100%|██████████| 16/16 [00:03<00:00,  4.71it/s]\n"
          ]
        },
        {
          "output_type": "stream",
          "name": "stdout",
          "text": [
            "Epoch: 43 -----------------------------------\n",
            "Training loss: 0.0018139202788006515\n",
            "precision: 0.6666666666666666 | recall 0.8888888888888888 | f1_score 0.761904761904762\n",
            "precision: 0.9634146341463414 | recall 1.0 | f1_score 0.9813664596273292\n",
            "precision: 0.2828282828282828 | recall 0.9032258064516129 | f1_score 0.43076923076923074\n",
            "--------------------------------------------\n"
          ]
        },
        {
          "output_type": "stream",
          "name": "stderr",
          "text": [
            "100%|██████████| 16/16 [00:03<00:00,  4.72it/s]\n"
          ]
        },
        {
          "output_type": "stream",
          "name": "stdout",
          "text": [
            "Epoch: 44 -----------------------------------\n",
            "Training loss: 0.0021531648701056836\n",
            "precision: 0.5454545454545454 | recall 0.75 | f1_score 0.631578947368421\n",
            "precision: 0.9634146341463414 | recall 1.0 | f1_score 0.9813664596273292\n",
            "precision: 0.3037974683544304 | recall 0.6486486486486487 | f1_score 0.41379310344827586\n",
            "--------------------------------------------\n"
          ]
        },
        {
          "output_type": "stream",
          "name": "stderr",
          "text": [
            "100%|██████████| 16/16 [00:03<00:00,  4.71it/s]\n"
          ]
        },
        {
          "output_type": "stream",
          "name": "stdout",
          "text": [
            "Epoch: 45 -----------------------------------\n",
            "Training loss: 0.004408880940172821\n",
            "precision: 0.5454545454545454 | recall 0.75 | f1_score 0.631578947368421\n",
            "precision: 0.975609756097561 | recall 1.0 | f1_score 0.9876543209876543\n",
            "precision: 0.325 | recall 0.6666666666666666 | f1_score 0.4369747899159664\n",
            "--------------------------------------------\n"
          ]
        },
        {
          "output_type": "stream",
          "name": "stderr",
          "text": [
            "100%|██████████| 16/16 [00:03<00:00,  4.69it/s]\n"
          ]
        },
        {
          "output_type": "stream",
          "name": "stdout",
          "text": [
            "Epoch: 46 -----------------------------------\n",
            "Training loss: 0.0021838757034856825\n",
            "precision: 0.5454545454545454 | recall 0.75 | f1_score 0.631578947368421\n",
            "precision: 0.9634146341463414 | recall 1.0 | f1_score 0.9813664596273292\n",
            "precision: 0.313953488372093 | recall 0.6923076923076923 | f1_score 0.43200000000000005\n",
            "--------------------------------------------\n"
          ]
        },
        {
          "output_type": "stream",
          "name": "stderr",
          "text": [
            "100%|██████████| 16/16 [00:03<00:00,  4.69it/s]\n"
          ]
        },
        {
          "output_type": "stream",
          "name": "stdout",
          "text": [
            "Epoch: 47 -----------------------------------\n",
            "Training loss: 0.0016032239422202111\n",
            "precision: 0.5 | recall 0.75 | f1_score 0.6\n",
            "precision: 0.9512195121951219 | recall 1.0 | f1_score 0.975\n",
            "precision: 0.28421052631578947 | recall 0.8181818181818182 | f1_score 0.42187499999999994\n",
            "--------------------------------------------\n"
          ]
        },
        {
          "output_type": "stream",
          "name": "stderr",
          "text": [
            "100%|██████████| 16/16 [00:03<00:00,  4.68it/s]\n"
          ]
        },
        {
          "output_type": "stream",
          "name": "stdout",
          "text": [
            "Epoch: 48 -----------------------------------\n",
            "Training loss: 0.0019000217493157835\n",
            "precision: 0.5833333333333334 | recall 0.875 | f1_score 0.7000000000000001\n",
            "precision: 0.9512195121951219 | recall 1.0 | f1_score 0.975\n",
            "precision: 0.3 | recall 0.7297297297297297 | f1_score 0.4251968503937008\n",
            "--------------------------------------------\n"
          ]
        },
        {
          "output_type": "stream",
          "name": "stderr",
          "text": [
            "100%|██████████| 16/16 [00:03<00:00,  4.69it/s]\n"
          ]
        },
        {
          "output_type": "stream",
          "name": "stdout",
          "text": [
            "Epoch: 49 -----------------------------------\n",
            "Training loss: 0.003466495400061831\n",
            "precision: 0.5833333333333334 | recall 0.875 | f1_score 0.7000000000000001\n",
            "precision: 0.9634146341463414 | recall 1.0 | f1_score 0.9813664596273292\n",
            "precision: 0.29347826086956524 | recall 0.7941176470588235 | f1_score 0.42857142857142855\n",
            "--------------------------------------------\n"
          ]
        }
      ]
    },
    {
      "cell_type": "code",
      "metadata": {
        "colab": {
          "base_uri": "https://localhost:8080/"
        },
        "id": "HkwBQyHYcCbg",
        "outputId": "a2dd33d3-dba2-4891-d7f4-a114331e1a1e"
      },
      "source": [
        "holdout_f1"
      ],
      "execution_count": null,
      "outputs": [
        {
          "output_type": "execute_result",
          "data": {
            "text/plain": [
              "0.425531914893617"
            ]
          },
          "metadata": {},
          "execution_count": 29
        }
      ]
    },
    {
      "cell_type": "code",
      "metadata": {
        "colab": {
          "base_uri": "https://localhost:8080/"
        },
        "id": "kYHIlFH7b8L5",
        "outputId": "487e6612-ba2d-4aad-8ab7-b888ebc19f2e"
      },
      "source": [
        "best_model = BartForConditionalGeneration.from_pretrained('facebook/bart-base')\n",
        "\n",
        "best_model.load_state_dict(torch.load(MODEL_PATH))\n",
        "\n",
        "best_model.to(device)"
      ],
      "execution_count": null,
      "outputs": [
        {
          "output_type": "execute_result",
          "data": {
            "text/plain": [
              "BartForConditionalGeneration(\n",
              "  (model): BartModel(\n",
              "    (shared): Embedding(50265, 768, padding_idx=1)\n",
              "    (encoder): BartEncoder(\n",
              "      (embed_tokens): Embedding(50265, 768, padding_idx=1)\n",
              "      (embed_positions): BartLearnedPositionalEmbedding(1026, 768)\n",
              "      (layers): ModuleList(\n",
              "        (0): BartEncoderLayer(\n",
              "          (self_attn): BartAttention(\n",
              "            (k_proj): Linear(in_features=768, out_features=768, bias=True)\n",
              "            (v_proj): Linear(in_features=768, out_features=768, bias=True)\n",
              "            (q_proj): Linear(in_features=768, out_features=768, bias=True)\n",
              "            (out_proj): Linear(in_features=768, out_features=768, bias=True)\n",
              "          )\n",
              "          (self_attn_layer_norm): LayerNorm((768,), eps=1e-05, elementwise_affine=True)\n",
              "          (fc1): Linear(in_features=768, out_features=3072, bias=True)\n",
              "          (fc2): Linear(in_features=3072, out_features=768, bias=True)\n",
              "          (final_layer_norm): LayerNorm((768,), eps=1e-05, elementwise_affine=True)\n",
              "        )\n",
              "        (1): BartEncoderLayer(\n",
              "          (self_attn): BartAttention(\n",
              "            (k_proj): Linear(in_features=768, out_features=768, bias=True)\n",
              "            (v_proj): Linear(in_features=768, out_features=768, bias=True)\n",
              "            (q_proj): Linear(in_features=768, out_features=768, bias=True)\n",
              "            (out_proj): Linear(in_features=768, out_features=768, bias=True)\n",
              "          )\n",
              "          (self_attn_layer_norm): LayerNorm((768,), eps=1e-05, elementwise_affine=True)\n",
              "          (fc1): Linear(in_features=768, out_features=3072, bias=True)\n",
              "          (fc2): Linear(in_features=3072, out_features=768, bias=True)\n",
              "          (final_layer_norm): LayerNorm((768,), eps=1e-05, elementwise_affine=True)\n",
              "        )\n",
              "        (2): BartEncoderLayer(\n",
              "          (self_attn): BartAttention(\n",
              "            (k_proj): Linear(in_features=768, out_features=768, bias=True)\n",
              "            (v_proj): Linear(in_features=768, out_features=768, bias=True)\n",
              "            (q_proj): Linear(in_features=768, out_features=768, bias=True)\n",
              "            (out_proj): Linear(in_features=768, out_features=768, bias=True)\n",
              "          )\n",
              "          (self_attn_layer_norm): LayerNorm((768,), eps=1e-05, elementwise_affine=True)\n",
              "          (fc1): Linear(in_features=768, out_features=3072, bias=True)\n",
              "          (fc2): Linear(in_features=3072, out_features=768, bias=True)\n",
              "          (final_layer_norm): LayerNorm((768,), eps=1e-05, elementwise_affine=True)\n",
              "        )\n",
              "        (3): BartEncoderLayer(\n",
              "          (self_attn): BartAttention(\n",
              "            (k_proj): Linear(in_features=768, out_features=768, bias=True)\n",
              "            (v_proj): Linear(in_features=768, out_features=768, bias=True)\n",
              "            (q_proj): Linear(in_features=768, out_features=768, bias=True)\n",
              "            (out_proj): Linear(in_features=768, out_features=768, bias=True)\n",
              "          )\n",
              "          (self_attn_layer_norm): LayerNorm((768,), eps=1e-05, elementwise_affine=True)\n",
              "          (fc1): Linear(in_features=768, out_features=3072, bias=True)\n",
              "          (fc2): Linear(in_features=3072, out_features=768, bias=True)\n",
              "          (final_layer_norm): LayerNorm((768,), eps=1e-05, elementwise_affine=True)\n",
              "        )\n",
              "        (4): BartEncoderLayer(\n",
              "          (self_attn): BartAttention(\n",
              "            (k_proj): Linear(in_features=768, out_features=768, bias=True)\n",
              "            (v_proj): Linear(in_features=768, out_features=768, bias=True)\n",
              "            (q_proj): Linear(in_features=768, out_features=768, bias=True)\n",
              "            (out_proj): Linear(in_features=768, out_features=768, bias=True)\n",
              "          )\n",
              "          (self_attn_layer_norm): LayerNorm((768,), eps=1e-05, elementwise_affine=True)\n",
              "          (fc1): Linear(in_features=768, out_features=3072, bias=True)\n",
              "          (fc2): Linear(in_features=3072, out_features=768, bias=True)\n",
              "          (final_layer_norm): LayerNorm((768,), eps=1e-05, elementwise_affine=True)\n",
              "        )\n",
              "        (5): BartEncoderLayer(\n",
              "          (self_attn): BartAttention(\n",
              "            (k_proj): Linear(in_features=768, out_features=768, bias=True)\n",
              "            (v_proj): Linear(in_features=768, out_features=768, bias=True)\n",
              "            (q_proj): Linear(in_features=768, out_features=768, bias=True)\n",
              "            (out_proj): Linear(in_features=768, out_features=768, bias=True)\n",
              "          )\n",
              "          (self_attn_layer_norm): LayerNorm((768,), eps=1e-05, elementwise_affine=True)\n",
              "          (fc1): Linear(in_features=768, out_features=3072, bias=True)\n",
              "          (fc2): Linear(in_features=3072, out_features=768, bias=True)\n",
              "          (final_layer_norm): LayerNorm((768,), eps=1e-05, elementwise_affine=True)\n",
              "        )\n",
              "      )\n",
              "      (layernorm_embedding): LayerNorm((768,), eps=1e-05, elementwise_affine=True)\n",
              "    )\n",
              "    (decoder): BartDecoder(\n",
              "      (embed_tokens): Embedding(50265, 768, padding_idx=1)\n",
              "      (embed_positions): BartLearnedPositionalEmbedding(1026, 768)\n",
              "      (layers): ModuleList(\n",
              "        (0): BartDecoderLayer(\n",
              "          (self_attn): BartAttention(\n",
              "            (k_proj): Linear(in_features=768, out_features=768, bias=True)\n",
              "            (v_proj): Linear(in_features=768, out_features=768, bias=True)\n",
              "            (q_proj): Linear(in_features=768, out_features=768, bias=True)\n",
              "            (out_proj): Linear(in_features=768, out_features=768, bias=True)\n",
              "          )\n",
              "          (self_attn_layer_norm): LayerNorm((768,), eps=1e-05, elementwise_affine=True)\n",
              "          (encoder_attn): BartAttention(\n",
              "            (k_proj): Linear(in_features=768, out_features=768, bias=True)\n",
              "            (v_proj): Linear(in_features=768, out_features=768, bias=True)\n",
              "            (q_proj): Linear(in_features=768, out_features=768, bias=True)\n",
              "            (out_proj): Linear(in_features=768, out_features=768, bias=True)\n",
              "          )\n",
              "          (encoder_attn_layer_norm): LayerNorm((768,), eps=1e-05, elementwise_affine=True)\n",
              "          (fc1): Linear(in_features=768, out_features=3072, bias=True)\n",
              "          (fc2): Linear(in_features=3072, out_features=768, bias=True)\n",
              "          (final_layer_norm): LayerNorm((768,), eps=1e-05, elementwise_affine=True)\n",
              "        )\n",
              "        (1): BartDecoderLayer(\n",
              "          (self_attn): BartAttention(\n",
              "            (k_proj): Linear(in_features=768, out_features=768, bias=True)\n",
              "            (v_proj): Linear(in_features=768, out_features=768, bias=True)\n",
              "            (q_proj): Linear(in_features=768, out_features=768, bias=True)\n",
              "            (out_proj): Linear(in_features=768, out_features=768, bias=True)\n",
              "          )\n",
              "          (self_attn_layer_norm): LayerNorm((768,), eps=1e-05, elementwise_affine=True)\n",
              "          (encoder_attn): BartAttention(\n",
              "            (k_proj): Linear(in_features=768, out_features=768, bias=True)\n",
              "            (v_proj): Linear(in_features=768, out_features=768, bias=True)\n",
              "            (q_proj): Linear(in_features=768, out_features=768, bias=True)\n",
              "            (out_proj): Linear(in_features=768, out_features=768, bias=True)\n",
              "          )\n",
              "          (encoder_attn_layer_norm): LayerNorm((768,), eps=1e-05, elementwise_affine=True)\n",
              "          (fc1): Linear(in_features=768, out_features=3072, bias=True)\n",
              "          (fc2): Linear(in_features=3072, out_features=768, bias=True)\n",
              "          (final_layer_norm): LayerNorm((768,), eps=1e-05, elementwise_affine=True)\n",
              "        )\n",
              "        (2): BartDecoderLayer(\n",
              "          (self_attn): BartAttention(\n",
              "            (k_proj): Linear(in_features=768, out_features=768, bias=True)\n",
              "            (v_proj): Linear(in_features=768, out_features=768, bias=True)\n",
              "            (q_proj): Linear(in_features=768, out_features=768, bias=True)\n",
              "            (out_proj): Linear(in_features=768, out_features=768, bias=True)\n",
              "          )\n",
              "          (self_attn_layer_norm): LayerNorm((768,), eps=1e-05, elementwise_affine=True)\n",
              "          (encoder_attn): BartAttention(\n",
              "            (k_proj): Linear(in_features=768, out_features=768, bias=True)\n",
              "            (v_proj): Linear(in_features=768, out_features=768, bias=True)\n",
              "            (q_proj): Linear(in_features=768, out_features=768, bias=True)\n",
              "            (out_proj): Linear(in_features=768, out_features=768, bias=True)\n",
              "          )\n",
              "          (encoder_attn_layer_norm): LayerNorm((768,), eps=1e-05, elementwise_affine=True)\n",
              "          (fc1): Linear(in_features=768, out_features=3072, bias=True)\n",
              "          (fc2): Linear(in_features=3072, out_features=768, bias=True)\n",
              "          (final_layer_norm): LayerNorm((768,), eps=1e-05, elementwise_affine=True)\n",
              "        )\n",
              "        (3): BartDecoderLayer(\n",
              "          (self_attn): BartAttention(\n",
              "            (k_proj): Linear(in_features=768, out_features=768, bias=True)\n",
              "            (v_proj): Linear(in_features=768, out_features=768, bias=True)\n",
              "            (q_proj): Linear(in_features=768, out_features=768, bias=True)\n",
              "            (out_proj): Linear(in_features=768, out_features=768, bias=True)\n",
              "          )\n",
              "          (self_attn_layer_norm): LayerNorm((768,), eps=1e-05, elementwise_affine=True)\n",
              "          (encoder_attn): BartAttention(\n",
              "            (k_proj): Linear(in_features=768, out_features=768, bias=True)\n",
              "            (v_proj): Linear(in_features=768, out_features=768, bias=True)\n",
              "            (q_proj): Linear(in_features=768, out_features=768, bias=True)\n",
              "            (out_proj): Linear(in_features=768, out_features=768, bias=True)\n",
              "          )\n",
              "          (encoder_attn_layer_norm): LayerNorm((768,), eps=1e-05, elementwise_affine=True)\n",
              "          (fc1): Linear(in_features=768, out_features=3072, bias=True)\n",
              "          (fc2): Linear(in_features=3072, out_features=768, bias=True)\n",
              "          (final_layer_norm): LayerNorm((768,), eps=1e-05, elementwise_affine=True)\n",
              "        )\n",
              "        (4): BartDecoderLayer(\n",
              "          (self_attn): BartAttention(\n",
              "            (k_proj): Linear(in_features=768, out_features=768, bias=True)\n",
              "            (v_proj): Linear(in_features=768, out_features=768, bias=True)\n",
              "            (q_proj): Linear(in_features=768, out_features=768, bias=True)\n",
              "            (out_proj): Linear(in_features=768, out_features=768, bias=True)\n",
              "          )\n",
              "          (self_attn_layer_norm): LayerNorm((768,), eps=1e-05, elementwise_affine=True)\n",
              "          (encoder_attn): BartAttention(\n",
              "            (k_proj): Linear(in_features=768, out_features=768, bias=True)\n",
              "            (v_proj): Linear(in_features=768, out_features=768, bias=True)\n",
              "            (q_proj): Linear(in_features=768, out_features=768, bias=True)\n",
              "            (out_proj): Linear(in_features=768, out_features=768, bias=True)\n",
              "          )\n",
              "          (encoder_attn_layer_norm): LayerNorm((768,), eps=1e-05, elementwise_affine=True)\n",
              "          (fc1): Linear(in_features=768, out_features=3072, bias=True)\n",
              "          (fc2): Linear(in_features=3072, out_features=768, bias=True)\n",
              "          (final_layer_norm): LayerNorm((768,), eps=1e-05, elementwise_affine=True)\n",
              "        )\n",
              "        (5): BartDecoderLayer(\n",
              "          (self_attn): BartAttention(\n",
              "            (k_proj): Linear(in_features=768, out_features=768, bias=True)\n",
              "            (v_proj): Linear(in_features=768, out_features=768, bias=True)\n",
              "            (q_proj): Linear(in_features=768, out_features=768, bias=True)\n",
              "            (out_proj): Linear(in_features=768, out_features=768, bias=True)\n",
              "          )\n",
              "          (self_attn_layer_norm): LayerNorm((768,), eps=1e-05, elementwise_affine=True)\n",
              "          (encoder_attn): BartAttention(\n",
              "            (k_proj): Linear(in_features=768, out_features=768, bias=True)\n",
              "            (v_proj): Linear(in_features=768, out_features=768, bias=True)\n",
              "            (q_proj): Linear(in_features=768, out_features=768, bias=True)\n",
              "            (out_proj): Linear(in_features=768, out_features=768, bias=True)\n",
              "          )\n",
              "          (encoder_attn_layer_norm): LayerNorm((768,), eps=1e-05, elementwise_affine=True)\n",
              "          (fc1): Linear(in_features=768, out_features=3072, bias=True)\n",
              "          (fc2): Linear(in_features=3072, out_features=768, bias=True)\n",
              "          (final_layer_norm): LayerNorm((768,), eps=1e-05, elementwise_affine=True)\n",
              "        )\n",
              "      )\n",
              "      (layernorm_embedding): LayerNorm((768,), eps=1e-05, elementwise_affine=True)\n",
              "    )\n",
              "  )\n",
              "  (lm_head): Linear(in_features=768, out_features=50265, bias=False)\n",
              ")"
            ]
          },
          "metadata": {},
          "execution_count": 30
        }
      ]
    },
    {
      "cell_type": "code",
      "metadata": {
        "colab": {
          "base_uri": "https://localhost:8080/"
        },
        "id": "bHyGsr8K6ZXH",
        "outputId": "40ba4bc5-0acd-4570-dcaa-123023e496d7"
      },
      "source": [
        "get_f1_score_on_test_data(best_model, holdout)"
      ],
      "execution_count": null,
      "outputs": [
        {
          "output_type": "stream",
          "name": "stdout",
          "text": [
            "precision: 0.30612244897959184 | recall 0.6976744186046512 | f1_score 0.425531914893617\n"
          ]
        },
        {
          "output_type": "execute_result",
          "data": {
            "text/plain": [
              "0.425531914893617"
            ]
          },
          "metadata": {},
          "execution_count": 31
        }
      ]
    },
    {
      "cell_type": "code",
      "metadata": {
        "colab": {
          "base_uri": "https://localhost:8080/"
        },
        "id": "SNuVgbFkqe64",
        "outputId": "380de3c7-f8aa-4dd6-9a40-451414d67037"
      },
      "source": [
        "get_f1_score_on_test_data(model, holdout)"
      ],
      "execution_count": null,
      "outputs": [
        {
          "output_type": "stream",
          "name": "stdout",
          "text": [
            "precision: 0.29347826086956524 | recall 0.7941176470588235 | f1_score 0.42857142857142855\n"
          ]
        },
        {
          "output_type": "execute_result",
          "data": {
            "text/plain": [
              "0.42857142857142855"
            ]
          },
          "metadata": {},
          "execution_count": 32
        }
      ]
    },
    {
      "cell_type": "code",
      "metadata": {
        "colab": {
          "base_uri": "https://localhost:8080/",
          "height": 424
        },
        "id": "vv55Q95WQfVz",
        "outputId": "42545f01-f036-4a4b-aebe-7c66cfa9d891"
      },
      "source": [
        "model.eval()\n",
        "holdout[\"preds\"] = holdout[\"sentence\"].apply(lambda x: generate_outputs(model, x))\n",
        "\n",
        "holdout"
      ],
      "execution_count": null,
      "outputs": [
        {
          "output_type": "execute_result",
          "data": {
            "text/html": [
              "<div>\n",
              "<style scoped>\n",
              "    .dataframe tbody tr th:only-of-type {\n",
              "        vertical-align: middle;\n",
              "    }\n",
              "\n",
              "    .dataframe tbody tr th {\n",
              "        vertical-align: top;\n",
              "    }\n",
              "\n",
              "    .dataframe thead th {\n",
              "        text-align: right;\n",
              "    }\n",
              "</style>\n",
              "<table border=\"1\" class=\"dataframe\">\n",
              "  <thead>\n",
              "    <tr style=\"text-align: right;\">\n",
              "      <th></th>\n",
              "      <th>sentence</th>\n",
              "      <th>restaurant_name</th>\n",
              "      <th>preds</th>\n",
              "    </tr>\n",
              "  </thead>\n",
              "  <tbody>\n",
              "    <tr>\n",
              "      <th>0</th>\n",
              "      <td>find pizza places</td>\n",
              "      <td></td>\n",
              "      <td></td>\n",
              "    </tr>\n",
              "    <tr>\n",
              "      <th>1</th>\n",
              "      <td>find me the best rated chinese restaurant in t...</td>\n",
              "      <td></td>\n",
              "      <td>chinese restaurant</td>\n",
              "    </tr>\n",
              "    <tr>\n",
              "      <th>2</th>\n",
              "      <td>what kind of food does abc cafe serve</td>\n",
              "      <td>abc cafe</td>\n",
              "      <td>abc cafe</td>\n",
              "    </tr>\n",
              "    <tr>\n",
              "      <th>3</th>\n",
              "      <td>how far away is the nearest steak house</td>\n",
              "      <td></td>\n",
              "      <td></td>\n",
              "    </tr>\n",
              "    <tr>\n",
              "      <th>4</th>\n",
              "      <td>i am looking for a mexican restuarant that has...</td>\n",
              "      <td></td>\n",
              "      <td></td>\n",
              "    </tr>\n",
              "    <tr>\n",
              "      <th>...</th>\n",
              "      <td>...</td>\n",
              "      <td>...</td>\n",
              "      <td>...</td>\n",
              "    </tr>\n",
              "    <tr>\n",
              "      <th>145</th>\n",
              "      <td>find me brazilian food with on location parking</td>\n",
              "      <td></td>\n",
              "      <td></td>\n",
              "    </tr>\n",
              "    <tr>\n",
              "      <th>146</th>\n",
              "      <td>get me to a mexican place</td>\n",
              "      <td></td>\n",
              "      <td></td>\n",
              "    </tr>\n",
              "    <tr>\n",
              "      <th>147</th>\n",
              "      <td>how far am i from the nearest bagel shop</td>\n",
              "      <td></td>\n",
              "      <td>bagel shop</td>\n",
              "    </tr>\n",
              "    <tr>\n",
              "      <th>148</th>\n",
              "      <td>what time does sonic open</td>\n",
              "      <td>sonic</td>\n",
              "      <td>dominos</td>\n",
              "    </tr>\n",
              "    <tr>\n",
              "      <th>149</th>\n",
              "      <td>give me a list of restaurants that have seafoo...</td>\n",
              "      <td></td>\n",
              "      <td></td>\n",
              "    </tr>\n",
              "  </tbody>\n",
              "</table>\n",
              "<p>150 rows × 3 columns</p>\n",
              "</div>"
            ],
            "text/plain": [
              "                                              sentence  ...               preds\n",
              "0                                    find pizza places  ...                    \n",
              "1    find me the best rated chinese restaurant in t...  ...  chinese restaurant\n",
              "2                what kind of food does abc cafe serve  ...            abc cafe\n",
              "3              how far away is the nearest steak house  ...                    \n",
              "4    i am looking for a mexican restuarant that has...  ...                    \n",
              "..                                                 ...  ...                 ...\n",
              "145    find me brazilian food with on location parking  ...                    \n",
              "146                          get me to a mexican place  ...                    \n",
              "147           how far am i from the nearest bagel shop  ...          bagel shop\n",
              "148                          what time does sonic open  ...             dominos\n",
              "149  give me a list of restaurants that have seafoo...  ...                    \n",
              "\n",
              "[150 rows x 3 columns]"
            ]
          },
          "metadata": {},
          "execution_count": 33
        }
      ]
    },
    {
      "cell_type": "code",
      "metadata": {
        "id": "JtG86waKYHf5"
      },
      "source": [
        "def generate_outputs(model, sentence):\n",
        "    inputs = tokenizer([sentence], max_length=1024, return_tensors='pt')\n",
        "    output_ids = model.generate(inputs['input_ids'].to(device), num_beams=4)\n",
        "    #print(output_ids, sentence)\n",
        "    output = tokenizer.decode(output_ids[0], skip_special_tokens=True, clean_up_tokenization_spaces=False).strip()\n",
        "\n",
        "    if output in sentence:\n",
        "        return output\n",
        "    else:\n",
        "        return \"\""
      ],
      "execution_count": null,
      "outputs": []
    },
    {
      "cell_type": "code",
      "metadata": {
        "colab": {
          "base_uri": "https://localhost:8080/"
        },
        "id": "D_oFMNNlZTPH",
        "outputId": "832a47c5-9476-48a3-bada-fc83ffaa0c18"
      },
      "source": [
        "get_f1_score_on_test_data(model, holdout)"
      ],
      "execution_count": null,
      "outputs": [
        {
          "output_type": "stream",
          "name": "stdout",
          "text": [
            "precision: 0.32142857142857145 | recall 0.5510204081632653 | f1_score 0.40601503759398494\n"
          ]
        },
        {
          "output_type": "execute_result",
          "data": {
            "text/plain": [
              "0.40601503759398494"
            ]
          },
          "metadata": {},
          "execution_count": 35
        }
      ]
    },
    {
      "cell_type": "code",
      "metadata": {
        "colab": {
          "base_uri": "https://localhost:8080/",
          "height": 424
        },
        "id": "bzIvorKiYIhm",
        "outputId": "ae9b0388-8f84-428d-9790-0aecfa55d543"
      },
      "source": [
        "holdout[\"preds2\"] = holdout[\"sentence\"].apply(lambda x: generate_outputs(model, x))\n",
        "\n",
        "holdout"
      ],
      "execution_count": null,
      "outputs": [
        {
          "output_type": "execute_result",
          "data": {
            "text/html": [
              "<div>\n",
              "<style scoped>\n",
              "    .dataframe tbody tr th:only-of-type {\n",
              "        vertical-align: middle;\n",
              "    }\n",
              "\n",
              "    .dataframe tbody tr th {\n",
              "        vertical-align: top;\n",
              "    }\n",
              "\n",
              "    .dataframe thead th {\n",
              "        text-align: right;\n",
              "    }\n",
              "</style>\n",
              "<table border=\"1\" class=\"dataframe\">\n",
              "  <thead>\n",
              "    <tr style=\"text-align: right;\">\n",
              "      <th></th>\n",
              "      <th>sentence</th>\n",
              "      <th>restaurant_name</th>\n",
              "      <th>preds</th>\n",
              "      <th>preds2</th>\n",
              "    </tr>\n",
              "  </thead>\n",
              "  <tbody>\n",
              "    <tr>\n",
              "      <th>0</th>\n",
              "      <td>find pizza places</td>\n",
              "      <td></td>\n",
              "      <td></td>\n",
              "      <td></td>\n",
              "    </tr>\n",
              "    <tr>\n",
              "      <th>1</th>\n",
              "      <td>find me the best rated chinese restaurant in t...</td>\n",
              "      <td></td>\n",
              "      <td>chinese restaurant</td>\n",
              "      <td>chinese restaurant</td>\n",
              "    </tr>\n",
              "    <tr>\n",
              "      <th>2</th>\n",
              "      <td>what kind of food does abc cafe serve</td>\n",
              "      <td>abc cafe</td>\n",
              "      <td>abc cafe</td>\n",
              "      <td>abc cafe</td>\n",
              "    </tr>\n",
              "    <tr>\n",
              "      <th>3</th>\n",
              "      <td>how far away is the nearest steak house</td>\n",
              "      <td></td>\n",
              "      <td></td>\n",
              "      <td></td>\n",
              "    </tr>\n",
              "    <tr>\n",
              "      <th>4</th>\n",
              "      <td>i am looking for a mexican restuarant that has...</td>\n",
              "      <td></td>\n",
              "      <td></td>\n",
              "      <td></td>\n",
              "    </tr>\n",
              "    <tr>\n",
              "      <th>...</th>\n",
              "      <td>...</td>\n",
              "      <td>...</td>\n",
              "      <td>...</td>\n",
              "      <td>...</td>\n",
              "    </tr>\n",
              "    <tr>\n",
              "      <th>145</th>\n",
              "      <td>find me brazilian food with on location parking</td>\n",
              "      <td></td>\n",
              "      <td></td>\n",
              "      <td></td>\n",
              "    </tr>\n",
              "    <tr>\n",
              "      <th>146</th>\n",
              "      <td>get me to a mexican place</td>\n",
              "      <td></td>\n",
              "      <td></td>\n",
              "      <td></td>\n",
              "    </tr>\n",
              "    <tr>\n",
              "      <th>147</th>\n",
              "      <td>how far am i from the nearest bagel shop</td>\n",
              "      <td></td>\n",
              "      <td>bagel shop</td>\n",
              "      <td>bagel shop</td>\n",
              "    </tr>\n",
              "    <tr>\n",
              "      <th>148</th>\n",
              "      <td>what time does sonic open</td>\n",
              "      <td>sonic</td>\n",
              "      <td>dominos</td>\n",
              "      <td></td>\n",
              "    </tr>\n",
              "    <tr>\n",
              "      <th>149</th>\n",
              "      <td>give me a list of restaurants that have seafoo...</td>\n",
              "      <td></td>\n",
              "      <td></td>\n",
              "      <td></td>\n",
              "    </tr>\n",
              "  </tbody>\n",
              "</table>\n",
              "<p>150 rows × 4 columns</p>\n",
              "</div>"
            ],
            "text/plain": [
              "                                              sentence  ...              preds2\n",
              "0                                    find pizza places  ...                    \n",
              "1    find me the best rated chinese restaurant in t...  ...  chinese restaurant\n",
              "2                what kind of food does abc cafe serve  ...            abc cafe\n",
              "3              how far away is the nearest steak house  ...                    \n",
              "4    i am looking for a mexican restuarant that has...  ...                    \n",
              "..                                                 ...  ...                 ...\n",
              "145    find me brazilian food with on location parking  ...                    \n",
              "146                          get me to a mexican place  ...                    \n",
              "147           how far am i from the nearest bagel shop  ...          bagel shop\n",
              "148                          what time does sonic open  ...                    \n",
              "149  give me a list of restaurants that have seafoo...  ...                    \n",
              "\n",
              "[150 rows x 4 columns]"
            ]
          },
          "metadata": {},
          "execution_count": 36
        }
      ]
    },
    {
      "cell_type": "code",
      "metadata": {
        "id": "zDFr8PfUTZUo"
      },
      "source": [
        "holdout.to_excel(\"rest_hold_preds_batchsize10_20epochs.xlsx\", index=False)"
      ],
      "execution_count": null,
      "outputs": []
    },
    {
      "cell_type": "code",
      "metadata": {
        "colab": {
          "base_uri": "https://localhost:8080/"
        },
        "id": "yGlGhdpk6x9D",
        "outputId": "427b56bf-186a-480b-ac1c-8661842dd5f7"
      },
      "source": [
        "num = 0\n",
        "print('input:', holdout.sentence[num])\n",
        "print('expected:', holdout.restaurant_name[num])\n",
        "print('predicted:', generate_outputs(best_model, holdout.sentence[num]))"
      ],
      "execution_count": null,
      "outputs": [
        {
          "output_type": "stream",
          "name": "stdout",
          "text": [
            "input: find pizza places\n",
            "expected: \n",
            "predicted: pizza places\n"
          ]
        }
      ]
    }
  ]
}